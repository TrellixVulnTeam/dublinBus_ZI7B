{
 "cells": [
  {
   "cell_type": "code",
   "execution_count": 1,
   "id": "c5650e4f",
   "metadata": {},
   "outputs": [],
   "source": [
    "# Library Imports.\n",
    "import pandas as pd\n",
    "import matplotlib.pyplot as plt\n",
    "import numpy as np\n",
    "\n",
    "# Allows plots to appear directly in the notebook.\n",
    "%matplotlib inline\n",
    "\n",
    "from patsy import dmatrices\n",
    "from sklearn.linear_model import LinearRegression\n",
    "from sklearn.model_selection import train_test_split\n",
    "from sklearn import metrics\n",
    "from sklearn.model_selection import cross_validate\n",
    "from sklearn.model_selection import cross_val_score "
   ]
  },
  {
   "cell_type": "code",
   "execution_count": 2,
   "id": "ab077a8b",
   "metadata": {},
   "outputs": [],
   "source": [
    "# Read CSV files into Data Frames:\n",
    "tripWeather = pd.read_csv('tripWeather.csv', keep_default_na=True, delimiter=',', skipinitialspace=True)"
   ]
  },
  {
   "cell_type": "code",
   "execution_count": 3,
   "id": "2c132f6d",
   "metadata": {},
   "outputs": [
    {
     "data": {
      "text/plain": [
       "(1120968, 47)"
      ]
     },
     "execution_count": 3,
     "metadata": {},
     "output_type": "execute_result"
    }
   ],
   "source": [
    "tripWeather.shape"
   ]
  },
  {
   "cell_type": "markdown",
   "id": "6f6b010a",
   "metadata": {},
   "source": [
    "<b>Logical Integrity</b><br>\n",
    "- Test 1: Check for Null Values by Column: <br>\n",
    "&nbsp;- TENDERLOT: All values missing <br>\n",
    "&nbsp;- sea_level: All values missing <br>\n",
    "&nbsp;- grnd_level: All values missing <br>\n",
    "&nbsp;- rain_3h: All values missing <br>\n",
    "&nbsp;- snow_3h: All values missing <br>\n",
    "&nbsp;- SUPPRESSED: 99.79% missing <br>\n",
    "&nbsp;- JUSTIFICATIONID: 99.79% missing <br>\n",
    "&nbsp;- snow_1h: 99.62% missing <br>\n",
    "&nbsp;- wind_gust: 89.3% missing <br>\n",
    "&nbsp;- rain_1h: 81.84% missing <br>\n",
    "&nbsp;- ACTUALTIME_DEP: 7.6% missing <br>\n",
    "&nbsp;- ACTUALTIME_ARR: 6.37% missing <br>\n",
    "&nbsp;- visibility: .31% missing"
   ]
  },
  {
   "cell_type": "code",
   "execution_count": 4,
   "id": "025bdf72",
   "metadata": {},
   "outputs": [
    {
     "data": {
      "text/plain": [
       "DATASOURCE                   0\n",
       "DAYOFSERVICE_x               0\n",
       "TRIPID                       0\n",
       "LINEID                       0\n",
       "ROUTEID                      0\n",
       "DIRECTION                    0\n",
       "PLANNEDTIME_ARR              0\n",
       "PLANNEDTIME_DEP              0\n",
       "ACTUALTIME_ARR           71355\n",
       "ACTUALTIME_DEP           85235\n",
       "BASIN                        0\n",
       "TENDERLOT              1120968\n",
       "SUPPRESSED             1118580\n",
       "JUSTIFICATIONID        1118582\n",
       "LASTUPDATE                   0\n",
       "NOTE                         0\n",
       "planDep_time                 0\n",
       "DOS_ID                       0\n",
       "dt                           0\n",
       "DAYOFSERVICE_y               0\n",
       "timezonetext                 0\n",
       "timezone                     0\n",
       "city_name                    0\n",
       "lat                          0\n",
       "lon                          0\n",
       "temp                         0\n",
       "visibility                3499\n",
       "dew_point                    0\n",
       "feels_like                   0\n",
       "temp_min                     0\n",
       "temp_max                     0\n",
       "pressure                     0\n",
       "sea_level              1120968\n",
       "grnd_level             1120968\n",
       "humidity                     0\n",
       "wind_speed                   0\n",
       "wind_deg                     0\n",
       "wind_gust              1000994\n",
       "rain_1h                 917399\n",
       "rain_3h                1120968\n",
       "snow_1h                1116757\n",
       "snow_3h                1120968\n",
       "clouds_all                   0\n",
       "weather_id                   0\n",
       "weather_main                 0\n",
       "weather_description          0\n",
       "weather_icon                 0\n",
       "dtype: int64"
      ]
     },
     "execution_count": 4,
     "metadata": {},
     "output_type": "execute_result"
    }
   ],
   "source": [
    "tripWeather.isnull().sum()"
   ]
  },
  {
   "cell_type": "code",
   "execution_count": null,
   "id": "d8cc7b3b",
   "metadata": {},
   "outputs": [],
   "source": []
  }
 ],
 "metadata": {
  "kernelspec": {
   "display_name": "Python 3 (ipykernel)",
   "language": "python",
   "name": "python3"
  },
  "language_info": {
   "codemirror_mode": {
    "name": "ipython",
    "version": 3
   },
   "file_extension": ".py",
   "mimetype": "text/x-python",
   "name": "python",
   "nbconvert_exporter": "python",
   "pygments_lexer": "ipython3",
   "version": "3.9.7"
  }
 },
 "nbformat": 4,
 "nbformat_minor": 5
}
