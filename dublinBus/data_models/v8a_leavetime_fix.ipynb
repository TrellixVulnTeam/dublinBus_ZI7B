{
 "cells": [
  {
   "cell_type": "code",
   "execution_count": 1,
   "id": "bde0b1b2",
   "metadata": {},
   "outputs": [],
   "source": [
    "# Library Imports.\n",
    "import pandas as pd\n",
    "\n",
    "import numpy as np"
   ]
  },
  {
   "cell_type": "code",
   "execution_count": 2,
   "id": "cad30764",
   "metadata": {},
   "outputs": [],
   "source": [
    "leave = pd.read_csv('v8_lt_fix.csv', keep_default_na=True, delimiter=',', skipinitialspace=True)"
   ]
  },
  {
   "cell_type": "code",
   "execution_count": null,
   "id": "973cea58",
   "metadata": {},
   "outputs": [],
   "source": [
    "leave.shape"
   ]
  },
  {
   "cell_type": "code",
   "execution_count": null,
   "id": "7a9233e9",
   "metadata": {},
   "outputs": [],
   "source": [
    "leave.head()"
   ]
  },
  {
   "cell_type": "code",
   "execution_count": 3,
   "id": "a2d4adfa",
   "metadata": {},
   "outputs": [],
   "source": [
    "leave1, leave2, leave3, leave4, leave5, leave6 = np.array_split(leave, 6)"
   ]
  },
  {
   "cell_type": "markdown",
   "id": "d52788d4",
   "metadata": {},
   "source": [
    "## Send to CSVs"
   ]
  },
  {
   "cell_type": "code",
   "execution_count": 4,
   "id": "7d231314",
   "metadata": {},
   "outputs": [],
   "source": [
    "# Send leave1 to csv:\n",
    "leave1.to_csv('v8a_leave1.csv', index=False)"
   ]
  },
  {
   "cell_type": "code",
   "execution_count": 5,
   "id": "01bbb840",
   "metadata": {},
   "outputs": [],
   "source": [
    "# Send leave2 to csv:\n",
    "leave2.to_csv('v8a_leave2.csv', index=False)"
   ]
  },
  {
   "cell_type": "code",
   "execution_count": 6,
   "id": "02a38b8a",
   "metadata": {},
   "outputs": [],
   "source": [
    "# Send leave3 to csv:\n",
    "leave3.to_csv('v8a_leave3.csv', index=False)"
   ]
  },
  {
   "cell_type": "code",
   "execution_count": 7,
   "id": "6c9cd01b",
   "metadata": {},
   "outputs": [],
   "source": [
    "# Send leave4 to csv:\n",
    "leave4.to_csv('v8a_leave4.csv', index=False)"
   ]
  },
  {
   "cell_type": "code",
   "execution_count": 8,
   "id": "38a23c35",
   "metadata": {},
   "outputs": [],
   "source": [
    "# Send leave5 to csv:\n",
    "leave5.to_csv('v8a_leave5.csv', index=False)"
   ]
  },
  {
   "cell_type": "code",
   "execution_count": 9,
   "id": "1b14f456",
   "metadata": {},
   "outputs": [],
   "source": [
    "# Send leave6 to csv:\n",
    "leave6.to_csv('v8a_leave6.csv', index=False)"
   ]
  },
  {
   "cell_type": "code",
   "execution_count": null,
   "id": "e6379cba",
   "metadata": {},
   "outputs": [],
   "source": []
  }
 ],
 "metadata": {
  "kernelspec": {
   "display_name": "Python 3 (ipykernel)",
   "language": "python",
   "name": "python3"
  },
  "language_info": {
   "codemirror_mode": {
    "name": "ipython",
    "version": 3
   },
   "file_extension": ".py",
   "mimetype": "text/x-python",
   "name": "python",
   "nbconvert_exporter": "python",
   "pygments_lexer": "ipython3",
   "version": "3.10.4"
  }
 },
 "nbformat": 4,
 "nbformat_minor": 5
}
