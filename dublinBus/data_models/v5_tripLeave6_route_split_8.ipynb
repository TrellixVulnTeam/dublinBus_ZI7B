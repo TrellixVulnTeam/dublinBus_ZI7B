{
 "cells": [
  {
   "cell_type": "code",
   "execution_count": 1,
   "id": "29f878e6",
   "metadata": {},
   "outputs": [],
   "source": [
    "# Library Imports.\n",
    "import pandas as pd\n",
    "\n",
    "import numpy as np"
   ]
  },
  {
   "cell_type": "code",
   "execution_count": 2,
   "id": "12abaae1",
   "metadata": {},
   "outputs": [],
   "source": [
    "# Read tripleave6 route split 8 CSV file into Data Frame:\n",
    "wk = pd.read_csv('v5_tripLeave6_route_split_8.csv', keep_default_na=True, delimiter=',', skipinitialspace=True)"
   ]
  },
  {
   "cell_type": "code",
   "execution_count": 3,
   "id": "5dda47a0",
   "metadata": {},
   "outputs": [
    {
     "data": {
      "text/plain": [
       "(135136, 22)"
      ]
     },
     "execution_count": 3,
     "metadata": {},
     "output_type": "execute_result"
    }
   ],
   "source": [
    "wk.shape"
   ]
  },
  {
   "cell_type": "code",
   "execution_count": null,
   "id": "c0c029ad",
   "metadata": {},
   "outputs": [],
   "source": [
    "wk.head()"
   ]
  },
  {
   "cell_type": "code",
   "execution_count": null,
   "id": "4878f708",
   "metadata": {},
   "outputs": [],
   "source": [
    "wk.dtypes"
   ]
  },
  {
   "cell_type": "markdown",
   "id": "81073090",
   "metadata": {},
   "source": [
    "## Datatype Changes"
   ]
  },
  {
   "cell_type": "code",
   "execution_count": 4,
   "id": "75954e98",
   "metadata": {},
   "outputs": [],
   "source": [
    "wk['num_lineID'] = wk['num_lineID'].astype('int16')\n",
    "wk['DIRECTION'] = wk['DIRECTION'].astype('int16')"
   ]
  },
  {
   "cell_type": "code",
   "execution_count": 5,
   "id": "81d272e5",
   "metadata": {},
   "outputs": [],
   "source": [
    "wk['actual_duration'] = wk['actual_duration'].astype('int64')\n",
    "wk['dayOfWeek'] = wk['dayOfWeek'].astype('int16')"
   ]
  },
  {
   "cell_type": "code",
   "execution_count": 6,
   "id": "8267e3dc",
   "metadata": {},
   "outputs": [],
   "source": [
    "wk['weekend'] = wk['weekend'].astype('int16')\n",
    "wk['rushHour'] = wk['rushHour'].astype('int16')"
   ]
  },
  {
   "cell_type": "code",
   "execution_count": 7,
   "id": "604f0107",
   "metadata": {},
   "outputs": [
    {
     "data": {
      "text/html": [
       "<div>\n",
       "<style scoped>\n",
       "    .dataframe tbody tr th:only-of-type {\n",
       "        vertical-align: middle;\n",
       "    }\n",
       "\n",
       "    .dataframe tbody tr th {\n",
       "        vertical-align: top;\n",
       "    }\n",
       "\n",
       "    .dataframe thead th {\n",
       "        text-align: right;\n",
       "    }\n",
       "</style>\n",
       "<table border=\"1\" class=\"dataframe\">\n",
       "  <thead>\n",
       "    <tr style=\"text-align: right;\">\n",
       "      <th></th>\n",
       "      <th>DAYOFSERVICE</th>\n",
       "      <th>TRIPID</th>\n",
       "      <th>PROGRNUMBER</th>\n",
       "      <th>STOPPOINTID</th>\n",
       "      <th>PLANNEDTIME_ARR</th>\n",
       "      <th>PLANNEDTIME_DEP</th>\n",
       "      <th>ACTUALTIME_ARR</th>\n",
       "      <th>ACTUALTIME_DEP</th>\n",
       "      <th>VEHICLEID</th>\n",
       "      <th>year</th>\n",
       "      <th>...</th>\n",
       "      <th>id</th>\n",
       "      <th>trip_leave_id</th>\n",
       "      <th>LINEID</th>\n",
       "      <th>num_lineID</th>\n",
       "      <th>DIRECTION</th>\n",
       "      <th>actual_duration</th>\n",
       "      <th>dayOfWeek</th>\n",
       "      <th>weekend</th>\n",
       "      <th>rushHour</th>\n",
       "      <th>actualARR_hour</th>\n",
       "    </tr>\n",
       "  </thead>\n",
       "  <tbody>\n",
       "    <tr>\n",
       "      <th>0</th>\n",
       "      <td>2018-09-10</td>\n",
       "      <td>8097644</td>\n",
       "      <td>1</td>\n",
       "      <td>3085</td>\n",
       "      <td>25800</td>\n",
       "      <td>25800</td>\n",
       "      <td>25800</td>\n",
       "      <td>25800</td>\n",
       "      <td>1001242</td>\n",
       "      <td>2018</td>\n",
       "      <td>...</td>\n",
       "      <td>20180910809764401</td>\n",
       "      <td>201809108097644</td>\n",
       "      <td>114</td>\n",
       "      <td>5</td>\n",
       "      <td>2</td>\n",
       "      <td>1682</td>\n",
       "      <td>0</td>\n",
       "      <td>0</td>\n",
       "      <td>0</td>\n",
       "      <td>7</td>\n",
       "    </tr>\n",
       "    <tr>\n",
       "      <th>1</th>\n",
       "      <td>2018-09-10</td>\n",
       "      <td>8097644</td>\n",
       "      <td>2</td>\n",
       "      <td>3082</td>\n",
       "      <td>25878</td>\n",
       "      <td>25878</td>\n",
       "      <td>25878</td>\n",
       "      <td>25878</td>\n",
       "      <td>1001242</td>\n",
       "      <td>2018</td>\n",
       "      <td>...</td>\n",
       "      <td>20180910809764402</td>\n",
       "      <td>201809108097644</td>\n",
       "      <td>114</td>\n",
       "      <td>5</td>\n",
       "      <td>2</td>\n",
       "      <td>1682</td>\n",
       "      <td>0</td>\n",
       "      <td>0</td>\n",
       "      <td>0</td>\n",
       "      <td>7</td>\n",
       "    </tr>\n",
       "    <tr>\n",
       "      <th>2</th>\n",
       "      <td>2018-09-10</td>\n",
       "      <td>8097644</td>\n",
       "      <td>3</td>\n",
       "      <td>3165</td>\n",
       "      <td>25920</td>\n",
       "      <td>25920</td>\n",
       "      <td>25920</td>\n",
       "      <td>25920</td>\n",
       "      <td>1001242</td>\n",
       "      <td>2018</td>\n",
       "      <td>...</td>\n",
       "      <td>20180910809764403</td>\n",
       "      <td>201809108097644</td>\n",
       "      <td>114</td>\n",
       "      <td>5</td>\n",
       "      <td>2</td>\n",
       "      <td>1682</td>\n",
       "      <td>0</td>\n",
       "      <td>0</td>\n",
       "      <td>0</td>\n",
       "      <td>7</td>\n",
       "    </tr>\n",
       "    <tr>\n",
       "      <th>3</th>\n",
       "      <td>2018-09-10</td>\n",
       "      <td>8097644</td>\n",
       "      <td>4</td>\n",
       "      <td>3166</td>\n",
       "      <td>25983</td>\n",
       "      <td>25983</td>\n",
       "      <td>25983</td>\n",
       "      <td>25983</td>\n",
       "      <td>1001242</td>\n",
       "      <td>2018</td>\n",
       "      <td>...</td>\n",
       "      <td>20180910809764404</td>\n",
       "      <td>201809108097644</td>\n",
       "      <td>114</td>\n",
       "      <td>5</td>\n",
       "      <td>2</td>\n",
       "      <td>1682</td>\n",
       "      <td>0</td>\n",
       "      <td>0</td>\n",
       "      <td>0</td>\n",
       "      <td>7</td>\n",
       "    </tr>\n",
       "    <tr>\n",
       "      <th>4</th>\n",
       "      <td>2018-09-10</td>\n",
       "      <td>8097644</td>\n",
       "      <td>5</td>\n",
       "      <td>3167</td>\n",
       "      <td>26006</td>\n",
       "      <td>26006</td>\n",
       "      <td>26006</td>\n",
       "      <td>26006</td>\n",
       "      <td>1001242</td>\n",
       "      <td>2018</td>\n",
       "      <td>...</td>\n",
       "      <td>20180910809764405</td>\n",
       "      <td>201809108097644</td>\n",
       "      <td>114</td>\n",
       "      <td>5</td>\n",
       "      <td>2</td>\n",
       "      <td>1682</td>\n",
       "      <td>0</td>\n",
       "      <td>0</td>\n",
       "      <td>0</td>\n",
       "      <td>7</td>\n",
       "    </tr>\n",
       "  </tbody>\n",
       "</table>\n",
       "<p>5 rows × 22 columns</p>\n",
       "</div>"
      ],
      "text/plain": [
       "  DAYOFSERVICE   TRIPID  PROGRNUMBER  STOPPOINTID  PLANNEDTIME_ARR  \\\n",
       "0   2018-09-10  8097644            1         3085            25800   \n",
       "1   2018-09-10  8097644            2         3082            25878   \n",
       "2   2018-09-10  8097644            3         3165            25920   \n",
       "3   2018-09-10  8097644            4         3166            25983   \n",
       "4   2018-09-10  8097644            5         3167            26006   \n",
       "\n",
       "   PLANNEDTIME_DEP  ACTUALTIME_ARR  ACTUALTIME_DEP  VEHICLEID  year  ...  \\\n",
       "0            25800           25800           25800    1001242  2018  ...   \n",
       "1            25878           25878           25878    1001242  2018  ...   \n",
       "2            25920           25920           25920    1001242  2018  ...   \n",
       "3            25983           25983           25983    1001242  2018  ...   \n",
       "4            26006           26006           26006    1001242  2018  ...   \n",
       "\n",
       "                  id    trip_leave_id  LINEID  num_lineID DIRECTION  \\\n",
       "0  20180910809764401  201809108097644     114           5         2   \n",
       "1  20180910809764402  201809108097644     114           5         2   \n",
       "2  20180910809764403  201809108097644     114           5         2   \n",
       "3  20180910809764404  201809108097644     114           5         2   \n",
       "4  20180910809764405  201809108097644     114           5         2   \n",
       "\n",
       "   actual_duration  dayOfWeek  weekend  rushHour  actualARR_hour  \n",
       "0             1682          0        0         0               7  \n",
       "1             1682          0        0         0               7  \n",
       "2             1682          0        0         0               7  \n",
       "3             1682          0        0         0               7  \n",
       "4             1682          0        0         0               7  \n",
       "\n",
       "[5 rows x 22 columns]"
      ]
     },
     "execution_count": 7,
     "metadata": {},
     "output_type": "execute_result"
    }
   ],
   "source": [
    "wk.head()"
   ]
  },
  {
   "cell_type": "code",
   "execution_count": null,
   "id": "645ff86a",
   "metadata": {},
   "outputs": [],
   "source": [
    "wk.dtypes"
   ]
  },
  {
   "cell_type": "markdown",
   "id": "86d6d334",
   "metadata": {},
   "source": [
    "## Route 114"
   ]
  },
  {
   "cell_type": "code",
   "execution_count": 8,
   "id": "01b378cc",
   "metadata": {},
   "outputs": [],
   "source": [
    "lwk = wk[(wk['LINEID'] == '114')]"
   ]
  },
  {
   "cell_type": "code",
   "execution_count": 9,
   "id": "5ae677fe",
   "metadata": {},
   "outputs": [
    {
     "data": {
      "text/plain": [
       "(42425, 22)"
      ]
     },
     "execution_count": 9,
     "metadata": {},
     "output_type": "execute_result"
    }
   ],
   "source": [
    "lwk.shape"
   ]
  },
  {
   "cell_type": "code",
   "execution_count": 10,
   "id": "eb268b7e",
   "metadata": {},
   "outputs": [],
   "source": [
    "# Drop Route 114 rows from wk\n",
    "wk.drop(wk[wk['LINEID'] == '114'].index, inplace = True)"
   ]
  },
  {
   "cell_type": "code",
   "execution_count": 11,
   "id": "cdb83698",
   "metadata": {},
   "outputs": [
    {
     "data": {
      "text/html": [
       "<div>\n",
       "<style scoped>\n",
       "    .dataframe tbody tr th:only-of-type {\n",
       "        vertical-align: middle;\n",
       "    }\n",
       "\n",
       "    .dataframe tbody tr th {\n",
       "        vertical-align: top;\n",
       "    }\n",
       "\n",
       "    .dataframe thead th {\n",
       "        text-align: right;\n",
       "    }\n",
       "</style>\n",
       "<table border=\"1\" class=\"dataframe\">\n",
       "  <thead>\n",
       "    <tr style=\"text-align: right;\">\n",
       "      <th></th>\n",
       "      <th>DAYOFSERVICE</th>\n",
       "      <th>TRIPID</th>\n",
       "      <th>PROGRNUMBER</th>\n",
       "      <th>STOPPOINTID</th>\n",
       "      <th>PLANNEDTIME_ARR</th>\n",
       "      <th>PLANNEDTIME_DEP</th>\n",
       "      <th>ACTUALTIME_ARR</th>\n",
       "      <th>ACTUALTIME_DEP</th>\n",
       "      <th>VEHICLEID</th>\n",
       "      <th>year</th>\n",
       "      <th>...</th>\n",
       "      <th>id</th>\n",
       "      <th>trip_leave_id</th>\n",
       "      <th>LINEID</th>\n",
       "      <th>num_lineID</th>\n",
       "      <th>DIRECTION</th>\n",
       "      <th>actual_duration</th>\n",
       "      <th>dayOfWeek</th>\n",
       "      <th>weekend</th>\n",
       "      <th>rushHour</th>\n",
       "      <th>actualARR_hour</th>\n",
       "    </tr>\n",
       "  </thead>\n",
       "  <tbody>\n",
       "    <tr>\n",
       "      <th>232</th>\n",
       "      <td>2018-09-10</td>\n",
       "      <td>8097952</td>\n",
       "      <td>1</td>\n",
       "      <td>3057</td>\n",
       "      <td>19200</td>\n",
       "      <td>19200</td>\n",
       "      <td>19200</td>\n",
       "      <td>19200</td>\n",
       "      <td>2172237</td>\n",
       "      <td>2018</td>\n",
       "      <td>...</td>\n",
       "      <td>20180910809795201</td>\n",
       "      <td>201809108097952</td>\n",
       "      <td>7D</td>\n",
       "      <td>123</td>\n",
       "      <td>2</td>\n",
       "      <td>5010</td>\n",
       "      <td>0</td>\n",
       "      <td>0</td>\n",
       "      <td>0</td>\n",
       "      <td>5</td>\n",
       "    </tr>\n",
       "    <tr>\n",
       "      <th>233</th>\n",
       "      <td>2018-09-10</td>\n",
       "      <td>8097952</td>\n",
       "      <td>2</td>\n",
       "      <td>4830</td>\n",
       "      <td>19245</td>\n",
       "      <td>19245</td>\n",
       "      <td>19245</td>\n",
       "      <td>19245</td>\n",
       "      <td>2172237</td>\n",
       "      <td>2018</td>\n",
       "      <td>...</td>\n",
       "      <td>20180910809795202</td>\n",
       "      <td>201809108097952</td>\n",
       "      <td>7D</td>\n",
       "      <td>123</td>\n",
       "      <td>2</td>\n",
       "      <td>5010</td>\n",
       "      <td>0</td>\n",
       "      <td>0</td>\n",
       "      <td>0</td>\n",
       "      <td>5</td>\n",
       "    </tr>\n",
       "    <tr>\n",
       "      <th>234</th>\n",
       "      <td>2018-09-10</td>\n",
       "      <td>8097952</td>\n",
       "      <td>3</td>\n",
       "      <td>7667</td>\n",
       "      <td>19272</td>\n",
       "      <td>19272</td>\n",
       "      <td>19272</td>\n",
       "      <td>19272</td>\n",
       "      <td>2172237</td>\n",
       "      <td>2018</td>\n",
       "      <td>...</td>\n",
       "      <td>20180910809795203</td>\n",
       "      <td>201809108097952</td>\n",
       "      <td>7D</td>\n",
       "      <td>123</td>\n",
       "      <td>2</td>\n",
       "      <td>5010</td>\n",
       "      <td>0</td>\n",
       "      <td>0</td>\n",
       "      <td>0</td>\n",
       "      <td>5</td>\n",
       "    </tr>\n",
       "    <tr>\n",
       "      <th>235</th>\n",
       "      <td>2018-09-10</td>\n",
       "      <td>8097952</td>\n",
       "      <td>4</td>\n",
       "      <td>3091</td>\n",
       "      <td>19314</td>\n",
       "      <td>19314</td>\n",
       "      <td>19314</td>\n",
       "      <td>19314</td>\n",
       "      <td>2172237</td>\n",
       "      <td>2018</td>\n",
       "      <td>...</td>\n",
       "      <td>20180910809795204</td>\n",
       "      <td>201809108097952</td>\n",
       "      <td>7D</td>\n",
       "      <td>123</td>\n",
       "      <td>2</td>\n",
       "      <td>5010</td>\n",
       "      <td>0</td>\n",
       "      <td>0</td>\n",
       "      <td>0</td>\n",
       "      <td>5</td>\n",
       "    </tr>\n",
       "    <tr>\n",
       "      <th>236</th>\n",
       "      <td>2018-09-10</td>\n",
       "      <td>8097952</td>\n",
       "      <td>5</td>\n",
       "      <td>3092</td>\n",
       "      <td>19336</td>\n",
       "      <td>19336</td>\n",
       "      <td>19336</td>\n",
       "      <td>19336</td>\n",
       "      <td>2172237</td>\n",
       "      <td>2018</td>\n",
       "      <td>...</td>\n",
       "      <td>20180910809795205</td>\n",
       "      <td>201809108097952</td>\n",
       "      <td>7D</td>\n",
       "      <td>123</td>\n",
       "      <td>2</td>\n",
       "      <td>5010</td>\n",
       "      <td>0</td>\n",
       "      <td>0</td>\n",
       "      <td>0</td>\n",
       "      <td>5</td>\n",
       "    </tr>\n",
       "  </tbody>\n",
       "</table>\n",
       "<p>5 rows × 22 columns</p>\n",
       "</div>"
      ],
      "text/plain": [
       "    DAYOFSERVICE   TRIPID  PROGRNUMBER  STOPPOINTID  PLANNEDTIME_ARR  \\\n",
       "232   2018-09-10  8097952            1         3057            19200   \n",
       "233   2018-09-10  8097952            2         4830            19245   \n",
       "234   2018-09-10  8097952            3         7667            19272   \n",
       "235   2018-09-10  8097952            4         3091            19314   \n",
       "236   2018-09-10  8097952            5         3092            19336   \n",
       "\n",
       "     PLANNEDTIME_DEP  ACTUALTIME_ARR  ACTUALTIME_DEP  VEHICLEID  year  ...  \\\n",
       "232            19200           19200           19200    2172237  2018  ...   \n",
       "233            19245           19245           19245    2172237  2018  ...   \n",
       "234            19272           19272           19272    2172237  2018  ...   \n",
       "235            19314           19314           19314    2172237  2018  ...   \n",
       "236            19336           19336           19336    2172237  2018  ...   \n",
       "\n",
       "                    id    trip_leave_id  LINEID  num_lineID DIRECTION  \\\n",
       "232  20180910809795201  201809108097952      7D         123         2   \n",
       "233  20180910809795202  201809108097952      7D         123         2   \n",
       "234  20180910809795203  201809108097952      7D         123         2   \n",
       "235  20180910809795204  201809108097952      7D         123         2   \n",
       "236  20180910809795205  201809108097952      7D         123         2   \n",
       "\n",
       "     actual_duration  dayOfWeek  weekend  rushHour  actualARR_hour  \n",
       "232             5010          0        0         0               5  \n",
       "233             5010          0        0         0               5  \n",
       "234             5010          0        0         0               5  \n",
       "235             5010          0        0         0               5  \n",
       "236             5010          0        0         0               5  \n",
       "\n",
       "[5 rows x 22 columns]"
      ]
     },
     "execution_count": 11,
     "metadata": {},
     "output_type": "execute_result"
    }
   ],
   "source": [
    "wk.head()"
   ]
  },
  {
   "cell_type": "code",
   "execution_count": 12,
   "id": "f85f5650",
   "metadata": {},
   "outputs": [
    {
     "data": {
      "text/plain": [
       "(92711, 22)"
      ]
     },
     "execution_count": 12,
     "metadata": {},
     "output_type": "execute_result"
    }
   ],
   "source": [
    "wk.shape"
   ]
  },
  {
   "cell_type": "markdown",
   "id": "f36c2173",
   "metadata": {},
   "source": [
    "<h3>Send to CSV</h3>"
   ]
  },
  {
   "cell_type": "code",
   "execution_count": 13,
   "id": "4fcd4689",
   "metadata": {},
   "outputs": [],
   "source": [
    "# Send df to csv:\n",
    "lwk.to_csv('v5_114_tripLeave6_sp8.csv', index=False)"
   ]
  },
  {
   "cell_type": "markdown",
   "id": "02f3d83e",
   "metadata": {},
   "source": [
    "## Route 7D"
   ]
  },
  {
   "cell_type": "code",
   "execution_count": 14,
   "id": "b91914a8",
   "metadata": {},
   "outputs": [],
   "source": [
    "lwk = wk[(wk['LINEID'] == '7D')]"
   ]
  },
  {
   "cell_type": "code",
   "execution_count": 15,
   "id": "697f3295",
   "metadata": {},
   "outputs": [
    {
     "data": {
      "text/plain": [
       "(7386, 22)"
      ]
     },
     "execution_count": 15,
     "metadata": {},
     "output_type": "execute_result"
    }
   ],
   "source": [
    "lwk.shape"
   ]
  },
  {
   "cell_type": "code",
   "execution_count": 16,
   "id": "d4360a64",
   "metadata": {},
   "outputs": [],
   "source": [
    "# Drop Route 7D rows from wk\n",
    "wk.drop(wk[wk['LINEID'] == '7D'].index, inplace = True)"
   ]
  },
  {
   "cell_type": "code",
   "execution_count": 17,
   "id": "942c64b0",
   "metadata": {},
   "outputs": [
    {
     "data": {
      "text/html": [
       "<div>\n",
       "<style scoped>\n",
       "    .dataframe tbody tr th:only-of-type {\n",
       "        vertical-align: middle;\n",
       "    }\n",
       "\n",
       "    .dataframe tbody tr th {\n",
       "        vertical-align: top;\n",
       "    }\n",
       "\n",
       "    .dataframe thead th {\n",
       "        text-align: right;\n",
       "    }\n",
       "</style>\n",
       "<table border=\"1\" class=\"dataframe\">\n",
       "  <thead>\n",
       "    <tr style=\"text-align: right;\">\n",
       "      <th></th>\n",
       "      <th>DAYOFSERVICE</th>\n",
       "      <th>TRIPID</th>\n",
       "      <th>PROGRNUMBER</th>\n",
       "      <th>STOPPOINTID</th>\n",
       "      <th>PLANNEDTIME_ARR</th>\n",
       "      <th>PLANNEDTIME_DEP</th>\n",
       "      <th>ACTUALTIME_ARR</th>\n",
       "      <th>ACTUALTIME_DEP</th>\n",
       "      <th>VEHICLEID</th>\n",
       "      <th>year</th>\n",
       "      <th>...</th>\n",
       "      <th>id</th>\n",
       "      <th>trip_leave_id</th>\n",
       "      <th>LINEID</th>\n",
       "      <th>num_lineID</th>\n",
       "      <th>DIRECTION</th>\n",
       "      <th>actual_duration</th>\n",
       "      <th>dayOfWeek</th>\n",
       "      <th>weekend</th>\n",
       "      <th>rushHour</th>\n",
       "      <th>actualARR_hour</th>\n",
       "    </tr>\n",
       "  </thead>\n",
       "  <tbody>\n",
       "    <tr>\n",
       "      <th>363</th>\n",
       "      <td>2018-09-11</td>\n",
       "      <td>8089496</td>\n",
       "      <td>1</td>\n",
       "      <td>6185</td>\n",
       "      <td>27000</td>\n",
       "      <td>27000</td>\n",
       "      <td>27000</td>\n",
       "      <td>27000</td>\n",
       "      <td>1000325</td>\n",
       "      <td>2018</td>\n",
       "      <td>...</td>\n",
       "      <td>20180911808949601</td>\n",
       "      <td>201809118089496</td>\n",
       "      <td>68X</td>\n",
       "      <td>108</td>\n",
       "      <td>2</td>\n",
       "      <td>4556</td>\n",
       "      <td>1</td>\n",
       "      <td>0</td>\n",
       "      <td>1</td>\n",
       "      <td>8</td>\n",
       "    </tr>\n",
       "    <tr>\n",
       "      <th>364</th>\n",
       "      <td>2018-09-11</td>\n",
       "      <td>8089496</td>\n",
       "      <td>2</td>\n",
       "      <td>6186</td>\n",
       "      <td>27048</td>\n",
       "      <td>27048</td>\n",
       "      <td>27048</td>\n",
       "      <td>27048</td>\n",
       "      <td>1000325</td>\n",
       "      <td>2018</td>\n",
       "      <td>...</td>\n",
       "      <td>20180911808949602</td>\n",
       "      <td>201809118089496</td>\n",
       "      <td>68X</td>\n",
       "      <td>108</td>\n",
       "      <td>2</td>\n",
       "      <td>4556</td>\n",
       "      <td>1</td>\n",
       "      <td>0</td>\n",
       "      <td>1</td>\n",
       "      <td>8</td>\n",
       "    </tr>\n",
       "    <tr>\n",
       "      <th>365</th>\n",
       "      <td>2018-09-11</td>\n",
       "      <td>8089496</td>\n",
       "      <td>3</td>\n",
       "      <td>6216</td>\n",
       "      <td>27130</td>\n",
       "      <td>27130</td>\n",
       "      <td>27130</td>\n",
       "      <td>27130</td>\n",
       "      <td>1000325</td>\n",
       "      <td>2018</td>\n",
       "      <td>...</td>\n",
       "      <td>20180911808949603</td>\n",
       "      <td>201809118089496</td>\n",
       "      <td>68X</td>\n",
       "      <td>108</td>\n",
       "      <td>2</td>\n",
       "      <td>4556</td>\n",
       "      <td>1</td>\n",
       "      <td>0</td>\n",
       "      <td>1</td>\n",
       "      <td>8</td>\n",
       "    </tr>\n",
       "    <tr>\n",
       "      <th>366</th>\n",
       "      <td>2018-09-11</td>\n",
       "      <td>8089496</td>\n",
       "      <td>4</td>\n",
       "      <td>3400</td>\n",
       "      <td>27196</td>\n",
       "      <td>27196</td>\n",
       "      <td>27196</td>\n",
       "      <td>27196</td>\n",
       "      <td>1000325</td>\n",
       "      <td>2018</td>\n",
       "      <td>...</td>\n",
       "      <td>20180911808949604</td>\n",
       "      <td>201809118089496</td>\n",
       "      <td>68X</td>\n",
       "      <td>108</td>\n",
       "      <td>2</td>\n",
       "      <td>4556</td>\n",
       "      <td>1</td>\n",
       "      <td>0</td>\n",
       "      <td>1</td>\n",
       "      <td>8</td>\n",
       "    </tr>\n",
       "    <tr>\n",
       "      <th>367</th>\n",
       "      <td>2018-09-11</td>\n",
       "      <td>8089496</td>\n",
       "      <td>5</td>\n",
       "      <td>3401</td>\n",
       "      <td>27236</td>\n",
       "      <td>27236</td>\n",
       "      <td>27236</td>\n",
       "      <td>27236</td>\n",
       "      <td>1000325</td>\n",
       "      <td>2018</td>\n",
       "      <td>...</td>\n",
       "      <td>20180911808949605</td>\n",
       "      <td>201809118089496</td>\n",
       "      <td>68X</td>\n",
       "      <td>108</td>\n",
       "      <td>2</td>\n",
       "      <td>4556</td>\n",
       "      <td>1</td>\n",
       "      <td>0</td>\n",
       "      <td>1</td>\n",
       "      <td>8</td>\n",
       "    </tr>\n",
       "  </tbody>\n",
       "</table>\n",
       "<p>5 rows × 22 columns</p>\n",
       "</div>"
      ],
      "text/plain": [
       "    DAYOFSERVICE   TRIPID  PROGRNUMBER  STOPPOINTID  PLANNEDTIME_ARR  \\\n",
       "363   2018-09-11  8089496            1         6185            27000   \n",
       "364   2018-09-11  8089496            2         6186            27048   \n",
       "365   2018-09-11  8089496            3         6216            27130   \n",
       "366   2018-09-11  8089496            4         3400            27196   \n",
       "367   2018-09-11  8089496            5         3401            27236   \n",
       "\n",
       "     PLANNEDTIME_DEP  ACTUALTIME_ARR  ACTUALTIME_DEP  VEHICLEID  year  ...  \\\n",
       "363            27000           27000           27000    1000325  2018  ...   \n",
       "364            27048           27048           27048    1000325  2018  ...   \n",
       "365            27130           27130           27130    1000325  2018  ...   \n",
       "366            27196           27196           27196    1000325  2018  ...   \n",
       "367            27236           27236           27236    1000325  2018  ...   \n",
       "\n",
       "                    id    trip_leave_id  LINEID  num_lineID DIRECTION  \\\n",
       "363  20180911808949601  201809118089496     68X         108         2   \n",
       "364  20180911808949602  201809118089496     68X         108         2   \n",
       "365  20180911808949603  201809118089496     68X         108         2   \n",
       "366  20180911808949604  201809118089496     68X         108         2   \n",
       "367  20180911808949605  201809118089496     68X         108         2   \n",
       "\n",
       "     actual_duration  dayOfWeek  weekend  rushHour  actualARR_hour  \n",
       "363             4556          1        0         1               8  \n",
       "364             4556          1        0         1               8  \n",
       "365             4556          1        0         1               8  \n",
       "366             4556          1        0         1               8  \n",
       "367             4556          1        0         1               8  \n",
       "\n",
       "[5 rows x 22 columns]"
      ]
     },
     "execution_count": 17,
     "metadata": {},
     "output_type": "execute_result"
    }
   ],
   "source": [
    "wk.head()"
   ]
  },
  {
   "cell_type": "code",
   "execution_count": 18,
   "id": "cdc545e0",
   "metadata": {},
   "outputs": [
    {
     "data": {
      "text/plain": [
       "(85325, 22)"
      ]
     },
     "execution_count": 18,
     "metadata": {},
     "output_type": "execute_result"
    }
   ],
   "source": [
    "wk.shape"
   ]
  },
  {
   "cell_type": "markdown",
   "id": "40667721",
   "metadata": {},
   "source": [
    "<h3>Send to CSV</h3>"
   ]
  },
  {
   "cell_type": "code",
   "execution_count": 19,
   "id": "5d225394",
   "metadata": {},
   "outputs": [],
   "source": [
    "# Send df to csv:\n",
    "lwk.to_csv('v5_7D_tripLeave6_sp8.csv', index=False)"
   ]
  },
  {
   "cell_type": "markdown",
   "id": "c9871333",
   "metadata": {},
   "source": [
    "## Route 68X"
   ]
  },
  {
   "cell_type": "code",
   "execution_count": 20,
   "id": "6d09b20e",
   "metadata": {},
   "outputs": [],
   "source": [
    "lwk = wk[(wk['LINEID'] == '68X')]"
   ]
  },
  {
   "cell_type": "code",
   "execution_count": 21,
   "id": "5a20631a",
   "metadata": {},
   "outputs": [
    {
     "data": {
      "text/plain": [
       "(294, 22)"
      ]
     },
     "execution_count": 21,
     "metadata": {},
     "output_type": "execute_result"
    }
   ],
   "source": [
    "lwk.shape"
   ]
  },
  {
   "cell_type": "code",
   "execution_count": 22,
   "id": "33e489aa",
   "metadata": {},
   "outputs": [],
   "source": [
    "# Drop Route 68X rows from wk\n",
    "wk.drop(wk[wk['LINEID'] == '68X'].index, inplace = True)"
   ]
  },
  {
   "cell_type": "code",
   "execution_count": 23,
   "id": "4ed9474e",
   "metadata": {},
   "outputs": [
    {
     "data": {
      "text/html": [
       "<div>\n",
       "<style scoped>\n",
       "    .dataframe tbody tr th:only-of-type {\n",
       "        vertical-align: middle;\n",
       "    }\n",
       "\n",
       "    .dataframe tbody tr th {\n",
       "        vertical-align: top;\n",
       "    }\n",
       "\n",
       "    .dataframe thead th {\n",
       "        text-align: right;\n",
       "    }\n",
       "</style>\n",
       "<table border=\"1\" class=\"dataframe\">\n",
       "  <thead>\n",
       "    <tr style=\"text-align: right;\">\n",
       "      <th></th>\n",
       "      <th>DAYOFSERVICE</th>\n",
       "      <th>TRIPID</th>\n",
       "      <th>PROGRNUMBER</th>\n",
       "      <th>STOPPOINTID</th>\n",
       "      <th>PLANNEDTIME_ARR</th>\n",
       "      <th>PLANNEDTIME_DEP</th>\n",
       "      <th>ACTUALTIME_ARR</th>\n",
       "      <th>ACTUALTIME_DEP</th>\n",
       "      <th>VEHICLEID</th>\n",
       "      <th>year</th>\n",
       "      <th>...</th>\n",
       "      <th>id</th>\n",
       "      <th>trip_leave_id</th>\n",
       "      <th>LINEID</th>\n",
       "      <th>num_lineID</th>\n",
       "      <th>DIRECTION</th>\n",
       "      <th>actual_duration</th>\n",
       "      <th>dayOfWeek</th>\n",
       "      <th>weekend</th>\n",
       "      <th>rushHour</th>\n",
       "      <th>actualARR_hour</th>\n",
       "    </tr>\n",
       "  </thead>\n",
       "  <tbody>\n",
       "    <tr>\n",
       "      <th>405</th>\n",
       "      <td>2018-09-11</td>\n",
       "      <td>8092772</td>\n",
       "      <td>1</td>\n",
       "      <td>6041</td>\n",
       "      <td>84600</td>\n",
       "      <td>84600</td>\n",
       "      <td>84600</td>\n",
       "      <td>84600</td>\n",
       "      <td>3265701</td>\n",
       "      <td>2018</td>\n",
       "      <td>...</td>\n",
       "      <td>20180911809277201</td>\n",
       "      <td>201809118092772</td>\n",
       "      <td>14C</td>\n",
       "      <td>17</td>\n",
       "      <td>2</td>\n",
       "      <td>2280</td>\n",
       "      <td>1</td>\n",
       "      <td>0</td>\n",
       "      <td>0</td>\n",
       "      <td>0</td>\n",
       "    </tr>\n",
       "    <tr>\n",
       "      <th>406</th>\n",
       "      <td>2018-09-11</td>\n",
       "      <td>8092772</td>\n",
       "      <td>2</td>\n",
       "      <td>2826</td>\n",
       "      <td>84674</td>\n",
       "      <td>84674</td>\n",
       "      <td>84674</td>\n",
       "      <td>84674</td>\n",
       "      <td>3265701</td>\n",
       "      <td>2018</td>\n",
       "      <td>...</td>\n",
       "      <td>20180911809277202</td>\n",
       "      <td>201809118092772</td>\n",
       "      <td>14C</td>\n",
       "      <td>17</td>\n",
       "      <td>2</td>\n",
       "      <td>2280</td>\n",
       "      <td>1</td>\n",
       "      <td>0</td>\n",
       "      <td>0</td>\n",
       "      <td>0</td>\n",
       "    </tr>\n",
       "    <tr>\n",
       "      <th>407</th>\n",
       "      <td>2018-09-11</td>\n",
       "      <td>8092772</td>\n",
       "      <td>3</td>\n",
       "      <td>2842</td>\n",
       "      <td>84715</td>\n",
       "      <td>84715</td>\n",
       "      <td>84715</td>\n",
       "      <td>84715</td>\n",
       "      <td>3265701</td>\n",
       "      <td>2018</td>\n",
       "      <td>...</td>\n",
       "      <td>20180911809277203</td>\n",
       "      <td>201809118092772</td>\n",
       "      <td>14C</td>\n",
       "      <td>17</td>\n",
       "      <td>2</td>\n",
       "      <td>2280</td>\n",
       "      <td>1</td>\n",
       "      <td>0</td>\n",
       "      <td>0</td>\n",
       "      <td>0</td>\n",
       "    </tr>\n",
       "    <tr>\n",
       "      <th>408</th>\n",
       "      <td>2018-09-11</td>\n",
       "      <td>8092772</td>\n",
       "      <td>4</td>\n",
       "      <td>2843</td>\n",
       "      <td>84766</td>\n",
       "      <td>84766</td>\n",
       "      <td>84766</td>\n",
       "      <td>84766</td>\n",
       "      <td>3265701</td>\n",
       "      <td>2018</td>\n",
       "      <td>...</td>\n",
       "      <td>20180911809277204</td>\n",
       "      <td>201809118092772</td>\n",
       "      <td>14C</td>\n",
       "      <td>17</td>\n",
       "      <td>2</td>\n",
       "      <td>2280</td>\n",
       "      <td>1</td>\n",
       "      <td>0</td>\n",
       "      <td>0</td>\n",
       "      <td>0</td>\n",
       "    </tr>\n",
       "    <tr>\n",
       "      <th>409</th>\n",
       "      <td>2018-09-11</td>\n",
       "      <td>8092772</td>\n",
       "      <td>5</td>\n",
       "      <td>2844</td>\n",
       "      <td>84786</td>\n",
       "      <td>84786</td>\n",
       "      <td>84786</td>\n",
       "      <td>84786</td>\n",
       "      <td>3265701</td>\n",
       "      <td>2018</td>\n",
       "      <td>...</td>\n",
       "      <td>20180911809277205</td>\n",
       "      <td>201809118092772</td>\n",
       "      <td>14C</td>\n",
       "      <td>17</td>\n",
       "      <td>2</td>\n",
       "      <td>2280</td>\n",
       "      <td>1</td>\n",
       "      <td>0</td>\n",
       "      <td>0</td>\n",
       "      <td>0</td>\n",
       "    </tr>\n",
       "  </tbody>\n",
       "</table>\n",
       "<p>5 rows × 22 columns</p>\n",
       "</div>"
      ],
      "text/plain": [
       "    DAYOFSERVICE   TRIPID  PROGRNUMBER  STOPPOINTID  PLANNEDTIME_ARR  \\\n",
       "405   2018-09-11  8092772            1         6041            84600   \n",
       "406   2018-09-11  8092772            2         2826            84674   \n",
       "407   2018-09-11  8092772            3         2842            84715   \n",
       "408   2018-09-11  8092772            4         2843            84766   \n",
       "409   2018-09-11  8092772            5         2844            84786   \n",
       "\n",
       "     PLANNEDTIME_DEP  ACTUALTIME_ARR  ACTUALTIME_DEP  VEHICLEID  year  ...  \\\n",
       "405            84600           84600           84600    3265701  2018  ...   \n",
       "406            84674           84674           84674    3265701  2018  ...   \n",
       "407            84715           84715           84715    3265701  2018  ...   \n",
       "408            84766           84766           84766    3265701  2018  ...   \n",
       "409            84786           84786           84786    3265701  2018  ...   \n",
       "\n",
       "                    id    trip_leave_id  LINEID  num_lineID DIRECTION  \\\n",
       "405  20180911809277201  201809118092772     14C          17         2   \n",
       "406  20180911809277202  201809118092772     14C          17         2   \n",
       "407  20180911809277203  201809118092772     14C          17         2   \n",
       "408  20180911809277204  201809118092772     14C          17         2   \n",
       "409  20180911809277205  201809118092772     14C          17         2   \n",
       "\n",
       "     actual_duration  dayOfWeek  weekend  rushHour  actualARR_hour  \n",
       "405             2280          1        0         0               0  \n",
       "406             2280          1        0         0               0  \n",
       "407             2280          1        0         0               0  \n",
       "408             2280          1        0         0               0  \n",
       "409             2280          1        0         0               0  \n",
       "\n",
       "[5 rows x 22 columns]"
      ]
     },
     "execution_count": 23,
     "metadata": {},
     "output_type": "execute_result"
    }
   ],
   "source": [
    "wk.head()"
   ]
  },
  {
   "cell_type": "code",
   "execution_count": 24,
   "id": "f5f7599c",
   "metadata": {},
   "outputs": [
    {
     "data": {
      "text/plain": [
       "(85031, 22)"
      ]
     },
     "execution_count": 24,
     "metadata": {},
     "output_type": "execute_result"
    }
   ],
   "source": [
    "wk.shape"
   ]
  },
  {
   "cell_type": "markdown",
   "id": "38748ef1",
   "metadata": {},
   "source": [
    "<h3>Send to CSV</h3>"
   ]
  },
  {
   "cell_type": "code",
   "execution_count": 25,
   "id": "838ecfd9",
   "metadata": {},
   "outputs": [],
   "source": [
    "# Send df to csv:\n",
    "lwk.to_csv('v5_68X_tripLeave6_sp8.csv', index=False)"
   ]
  },
  {
   "cell_type": "markdown",
   "id": "c9ce61f5",
   "metadata": {},
   "source": [
    "## Route 14C"
   ]
  },
  {
   "cell_type": "code",
   "execution_count": 26,
   "id": "f6ad83ea",
   "metadata": {},
   "outputs": [],
   "source": [
    "lwk = wk[(wk['LINEID'] == '14C')]"
   ]
  },
  {
   "cell_type": "code",
   "execution_count": 27,
   "id": "ec9abc5f",
   "metadata": {},
   "outputs": [
    {
     "data": {
      "text/plain": [
       "(4934, 22)"
      ]
     },
     "execution_count": 27,
     "metadata": {},
     "output_type": "execute_result"
    }
   ],
   "source": [
    "lwk.shape"
   ]
  },
  {
   "cell_type": "code",
   "execution_count": 28,
   "id": "33c70ba9",
   "metadata": {},
   "outputs": [],
   "source": [
    "# Drop Route 14C rows from wk\n",
    "wk.drop(wk[wk['LINEID'] == '14C'].index, inplace = True)"
   ]
  },
  {
   "cell_type": "code",
   "execution_count": 29,
   "id": "1f691a8b",
   "metadata": {},
   "outputs": [
    {
     "data": {
      "text/html": [
       "<div>\n",
       "<style scoped>\n",
       "    .dataframe tbody tr th:only-of-type {\n",
       "        vertical-align: middle;\n",
       "    }\n",
       "\n",
       "    .dataframe tbody tr th {\n",
       "        vertical-align: top;\n",
       "    }\n",
       "\n",
       "    .dataframe thead th {\n",
       "        text-align: right;\n",
       "    }\n",
       "</style>\n",
       "<table border=\"1\" class=\"dataframe\">\n",
       "  <thead>\n",
       "    <tr style=\"text-align: right;\">\n",
       "      <th></th>\n",
       "      <th>DAYOFSERVICE</th>\n",
       "      <th>TRIPID</th>\n",
       "      <th>PROGRNUMBER</th>\n",
       "      <th>STOPPOINTID</th>\n",
       "      <th>PLANNEDTIME_ARR</th>\n",
       "      <th>PLANNEDTIME_DEP</th>\n",
       "      <th>ACTUALTIME_ARR</th>\n",
       "      <th>ACTUALTIME_DEP</th>\n",
       "      <th>VEHICLEID</th>\n",
       "      <th>year</th>\n",
       "      <th>...</th>\n",
       "      <th>id</th>\n",
       "      <th>trip_leave_id</th>\n",
       "      <th>LINEID</th>\n",
       "      <th>num_lineID</th>\n",
       "      <th>DIRECTION</th>\n",
       "      <th>actual_duration</th>\n",
       "      <th>dayOfWeek</th>\n",
       "      <th>weekend</th>\n",
       "      <th>rushHour</th>\n",
       "      <th>actualARR_hour</th>\n",
       "    </tr>\n",
       "  </thead>\n",
       "  <tbody>\n",
       "    <tr>\n",
       "      <th>2304</th>\n",
       "      <td>2018-09-15</td>\n",
       "      <td>8097249</td>\n",
       "      <td>1</td>\n",
       "      <td>7026</td>\n",
       "      <td>23400</td>\n",
       "      <td>23400</td>\n",
       "      <td>23400</td>\n",
       "      <td>23400</td>\n",
       "      <td>1000140</td>\n",
       "      <td>2018</td>\n",
       "      <td>...</td>\n",
       "      <td>20180915809724901</td>\n",
       "      <td>201809158097249</td>\n",
       "      <td>239</td>\n",
       "      <td>36</td>\n",
       "      <td>1</td>\n",
       "      <td>1910</td>\n",
       "      <td>5</td>\n",
       "      <td>1</td>\n",
       "      <td>0</td>\n",
       "      <td>6</td>\n",
       "    </tr>\n",
       "    <tr>\n",
       "      <th>2305</th>\n",
       "      <td>2018-09-15</td>\n",
       "      <td>8097249</td>\n",
       "      <td>2</td>\n",
       "      <td>1882</td>\n",
       "      <td>23452</td>\n",
       "      <td>23452</td>\n",
       "      <td>23452</td>\n",
       "      <td>23452</td>\n",
       "      <td>1000140</td>\n",
       "      <td>2018</td>\n",
       "      <td>...</td>\n",
       "      <td>20180915809724902</td>\n",
       "      <td>201809158097249</td>\n",
       "      <td>239</td>\n",
       "      <td>36</td>\n",
       "      <td>1</td>\n",
       "      <td>1910</td>\n",
       "      <td>5</td>\n",
       "      <td>1</td>\n",
       "      <td>0</td>\n",
       "      <td>7</td>\n",
       "    </tr>\n",
       "    <tr>\n",
       "      <th>2306</th>\n",
       "      <td>2018-09-15</td>\n",
       "      <td>8097249</td>\n",
       "      <td>3</td>\n",
       "      <td>7379</td>\n",
       "      <td>23486</td>\n",
       "      <td>23486</td>\n",
       "      <td>23486</td>\n",
       "      <td>23486</td>\n",
       "      <td>1000140</td>\n",
       "      <td>2018</td>\n",
       "      <td>...</td>\n",
       "      <td>20180915809724903</td>\n",
       "      <td>201809158097249</td>\n",
       "      <td>239</td>\n",
       "      <td>36</td>\n",
       "      <td>1</td>\n",
       "      <td>1910</td>\n",
       "      <td>5</td>\n",
       "      <td>1</td>\n",
       "      <td>0</td>\n",
       "      <td>7</td>\n",
       "    </tr>\n",
       "    <tr>\n",
       "      <th>2307</th>\n",
       "      <td>2018-09-15</td>\n",
       "      <td>8097249</td>\n",
       "      <td>4</td>\n",
       "      <td>4903</td>\n",
       "      <td>23519</td>\n",
       "      <td>23519</td>\n",
       "      <td>23519</td>\n",
       "      <td>23519</td>\n",
       "      <td>1000140</td>\n",
       "      <td>2018</td>\n",
       "      <td>...</td>\n",
       "      <td>20180915809724904</td>\n",
       "      <td>201809158097249</td>\n",
       "      <td>239</td>\n",
       "      <td>36</td>\n",
       "      <td>1</td>\n",
       "      <td>1910</td>\n",
       "      <td>5</td>\n",
       "      <td>1</td>\n",
       "      <td>0</td>\n",
       "      <td>7</td>\n",
       "    </tr>\n",
       "    <tr>\n",
       "      <th>2308</th>\n",
       "      <td>2018-09-15</td>\n",
       "      <td>8097249</td>\n",
       "      <td>5</td>\n",
       "      <td>1883</td>\n",
       "      <td>23551</td>\n",
       "      <td>23551</td>\n",
       "      <td>23551</td>\n",
       "      <td>23551</td>\n",
       "      <td>1000140</td>\n",
       "      <td>2018</td>\n",
       "      <td>...</td>\n",
       "      <td>20180915809724905</td>\n",
       "      <td>201809158097249</td>\n",
       "      <td>239</td>\n",
       "      <td>36</td>\n",
       "      <td>1</td>\n",
       "      <td>1910</td>\n",
       "      <td>5</td>\n",
       "      <td>1</td>\n",
       "      <td>0</td>\n",
       "      <td>7</td>\n",
       "    </tr>\n",
       "  </tbody>\n",
       "</table>\n",
       "<p>5 rows × 22 columns</p>\n",
       "</div>"
      ],
      "text/plain": [
       "     DAYOFSERVICE   TRIPID  PROGRNUMBER  STOPPOINTID  PLANNEDTIME_ARR  \\\n",
       "2304   2018-09-15  8097249            1         7026            23400   \n",
       "2305   2018-09-15  8097249            2         1882            23452   \n",
       "2306   2018-09-15  8097249            3         7379            23486   \n",
       "2307   2018-09-15  8097249            4         4903            23519   \n",
       "2308   2018-09-15  8097249            5         1883            23551   \n",
       "\n",
       "      PLANNEDTIME_DEP  ACTUALTIME_ARR  ACTUALTIME_DEP  VEHICLEID  year  ...  \\\n",
       "2304            23400           23400           23400    1000140  2018  ...   \n",
       "2305            23452           23452           23452    1000140  2018  ...   \n",
       "2306            23486           23486           23486    1000140  2018  ...   \n",
       "2307            23519           23519           23519    1000140  2018  ...   \n",
       "2308            23551           23551           23551    1000140  2018  ...   \n",
       "\n",
       "                     id    trip_leave_id  LINEID  num_lineID DIRECTION  \\\n",
       "2304  20180915809724901  201809158097249     239          36         1   \n",
       "2305  20180915809724902  201809158097249     239          36         1   \n",
       "2306  20180915809724903  201809158097249     239          36         1   \n",
       "2307  20180915809724904  201809158097249     239          36         1   \n",
       "2308  20180915809724905  201809158097249     239          36         1   \n",
       "\n",
       "      actual_duration  dayOfWeek  weekend  rushHour  actualARR_hour  \n",
       "2304             1910          5        1         0               6  \n",
       "2305             1910          5        1         0               7  \n",
       "2306             1910          5        1         0               7  \n",
       "2307             1910          5        1         0               7  \n",
       "2308             1910          5        1         0               7  \n",
       "\n",
       "[5 rows x 22 columns]"
      ]
     },
     "execution_count": 29,
     "metadata": {},
     "output_type": "execute_result"
    }
   ],
   "source": [
    "wk.head()"
   ]
  },
  {
   "cell_type": "code",
   "execution_count": 30,
   "id": "c35ec0ec",
   "metadata": {},
   "outputs": [
    {
     "data": {
      "text/plain": [
       "(80097, 22)"
      ]
     },
     "execution_count": 30,
     "metadata": {},
     "output_type": "execute_result"
    }
   ],
   "source": [
    "wk.shape"
   ]
  },
  {
   "cell_type": "markdown",
   "id": "685da73e",
   "metadata": {},
   "source": [
    "<h3>Send to CSV</h3>"
   ]
  },
  {
   "cell_type": "code",
   "execution_count": 31,
   "id": "dd78bfed",
   "metadata": {},
   "outputs": [],
   "source": [
    "# Send df to csv:\n",
    "lwk.to_csv('v5_14C_tripLeave6_sp8.csv', index=False)"
   ]
  },
  {
   "cell_type": "markdown",
   "id": "0a607558",
   "metadata": {},
   "source": [
    "## Route 239"
   ]
  },
  {
   "cell_type": "code",
   "execution_count": 32,
   "id": "d4accdca",
   "metadata": {},
   "outputs": [],
   "source": [
    "lwk = wk[(wk['LINEID'] == '239')]"
   ]
  },
  {
   "cell_type": "code",
   "execution_count": 33,
   "id": "8bd84191",
   "metadata": {},
   "outputs": [
    {
     "data": {
      "text/plain": [
       "(29950, 22)"
      ]
     },
     "execution_count": 33,
     "metadata": {},
     "output_type": "execute_result"
    }
   ],
   "source": [
    "lwk.shape"
   ]
  },
  {
   "cell_type": "code",
   "execution_count": 34,
   "id": "9329913e",
   "metadata": {},
   "outputs": [],
   "source": [
    "# Drop Route 239 rows from wk\n",
    "wk.drop(wk[wk['LINEID'] == '239'].index, inplace = True)"
   ]
  },
  {
   "cell_type": "code",
   "execution_count": 35,
   "id": "e6684ab8",
   "metadata": {},
   "outputs": [
    {
     "data": {
      "text/html": [
       "<div>\n",
       "<style scoped>\n",
       "    .dataframe tbody tr th:only-of-type {\n",
       "        vertical-align: middle;\n",
       "    }\n",
       "\n",
       "    .dataframe tbody tr th {\n",
       "        vertical-align: top;\n",
       "    }\n",
       "\n",
       "    .dataframe thead th {\n",
       "        text-align: right;\n",
       "    }\n",
       "</style>\n",
       "<table border=\"1\" class=\"dataframe\">\n",
       "  <thead>\n",
       "    <tr style=\"text-align: right;\">\n",
       "      <th></th>\n",
       "      <th>DAYOFSERVICE</th>\n",
       "      <th>TRIPID</th>\n",
       "      <th>PROGRNUMBER</th>\n",
       "      <th>STOPPOINTID</th>\n",
       "      <th>PLANNEDTIME_ARR</th>\n",
       "      <th>PLANNEDTIME_DEP</th>\n",
       "      <th>ACTUALTIME_ARR</th>\n",
       "      <th>ACTUALTIME_DEP</th>\n",
       "      <th>VEHICLEID</th>\n",
       "      <th>year</th>\n",
       "      <th>...</th>\n",
       "      <th>id</th>\n",
       "      <th>trip_leave_id</th>\n",
       "      <th>LINEID</th>\n",
       "      <th>num_lineID</th>\n",
       "      <th>DIRECTION</th>\n",
       "      <th>actual_duration</th>\n",
       "      <th>dayOfWeek</th>\n",
       "      <th>weekend</th>\n",
       "      <th>rushHour</th>\n",
       "      <th>actualARR_hour</th>\n",
       "    </tr>\n",
       "  </thead>\n",
       "  <tbody>\n",
       "    <tr>\n",
       "      <th>5276</th>\n",
       "      <td>2018-11-05</td>\n",
       "      <td>8101578</td>\n",
       "      <td>1</td>\n",
       "      <td>4595</td>\n",
       "      <td>27300</td>\n",
       "      <td>27300</td>\n",
       "      <td>27300</td>\n",
       "      <td>27300</td>\n",
       "      <td>1932366</td>\n",
       "      <td>2018</td>\n",
       "      <td>...</td>\n",
       "      <td>20181105810157801</td>\n",
       "      <td>201811058101578</td>\n",
       "      <td>27X</td>\n",
       "      <td>47</td>\n",
       "      <td>2</td>\n",
       "      <td>4857</td>\n",
       "      <td>0</td>\n",
       "      <td>0</td>\n",
       "      <td>1</td>\n",
       "      <td>8</td>\n",
       "    </tr>\n",
       "    <tr>\n",
       "      <th>5277</th>\n",
       "      <td>2018-11-05</td>\n",
       "      <td>8101578</td>\n",
       "      <td>2</td>\n",
       "      <td>4596</td>\n",
       "      <td>27355</td>\n",
       "      <td>27355</td>\n",
       "      <td>27355</td>\n",
       "      <td>27355</td>\n",
       "      <td>1932366</td>\n",
       "      <td>2018</td>\n",
       "      <td>...</td>\n",
       "      <td>20181105810157802</td>\n",
       "      <td>201811058101578</td>\n",
       "      <td>27X</td>\n",
       "      <td>47</td>\n",
       "      <td>2</td>\n",
       "      <td>4857</td>\n",
       "      <td>0</td>\n",
       "      <td>0</td>\n",
       "      <td>1</td>\n",
       "      <td>8</td>\n",
       "    </tr>\n",
       "    <tr>\n",
       "      <th>5278</th>\n",
       "      <td>2018-11-05</td>\n",
       "      <td>8101578</td>\n",
       "      <td>3</td>\n",
       "      <td>4563</td>\n",
       "      <td>27416</td>\n",
       "      <td>27416</td>\n",
       "      <td>27416</td>\n",
       "      <td>27416</td>\n",
       "      <td>1932366</td>\n",
       "      <td>2018</td>\n",
       "      <td>...</td>\n",
       "      <td>20181105810157803</td>\n",
       "      <td>201811058101578</td>\n",
       "      <td>27X</td>\n",
       "      <td>47</td>\n",
       "      <td>2</td>\n",
       "      <td>4857</td>\n",
       "      <td>0</td>\n",
       "      <td>0</td>\n",
       "      <td>1</td>\n",
       "      <td>8</td>\n",
       "    </tr>\n",
       "    <tr>\n",
       "      <th>5279</th>\n",
       "      <td>2018-11-05</td>\n",
       "      <td>8101578</td>\n",
       "      <td>4</td>\n",
       "      <td>1218</td>\n",
       "      <td>27473</td>\n",
       "      <td>27473</td>\n",
       "      <td>27473</td>\n",
       "      <td>27473</td>\n",
       "      <td>1932366</td>\n",
       "      <td>2018</td>\n",
       "      <td>...</td>\n",
       "      <td>20181105810157804</td>\n",
       "      <td>201811058101578</td>\n",
       "      <td>27X</td>\n",
       "      <td>47</td>\n",
       "      <td>2</td>\n",
       "      <td>4857</td>\n",
       "      <td>0</td>\n",
       "      <td>0</td>\n",
       "      <td>1</td>\n",
       "      <td>8</td>\n",
       "    </tr>\n",
       "    <tr>\n",
       "      <th>5280</th>\n",
       "      <td>2018-11-05</td>\n",
       "      <td>8101578</td>\n",
       "      <td>5</td>\n",
       "      <td>1258</td>\n",
       "      <td>27574</td>\n",
       "      <td>27574</td>\n",
       "      <td>27574</td>\n",
       "      <td>27574</td>\n",
       "      <td>1932366</td>\n",
       "      <td>2018</td>\n",
       "      <td>...</td>\n",
       "      <td>20181105810157805</td>\n",
       "      <td>201811058101578</td>\n",
       "      <td>27X</td>\n",
       "      <td>47</td>\n",
       "      <td>2</td>\n",
       "      <td>4857</td>\n",
       "      <td>0</td>\n",
       "      <td>0</td>\n",
       "      <td>1</td>\n",
       "      <td>8</td>\n",
       "    </tr>\n",
       "  </tbody>\n",
       "</table>\n",
       "<p>5 rows × 22 columns</p>\n",
       "</div>"
      ],
      "text/plain": [
       "     DAYOFSERVICE   TRIPID  PROGRNUMBER  STOPPOINTID  PLANNEDTIME_ARR  \\\n",
       "5276   2018-11-05  8101578            1         4595            27300   \n",
       "5277   2018-11-05  8101578            2         4596            27355   \n",
       "5278   2018-11-05  8101578            3         4563            27416   \n",
       "5279   2018-11-05  8101578            4         1218            27473   \n",
       "5280   2018-11-05  8101578            5         1258            27574   \n",
       "\n",
       "      PLANNEDTIME_DEP  ACTUALTIME_ARR  ACTUALTIME_DEP  VEHICLEID  year  ...  \\\n",
       "5276            27300           27300           27300    1932366  2018  ...   \n",
       "5277            27355           27355           27355    1932366  2018  ...   \n",
       "5278            27416           27416           27416    1932366  2018  ...   \n",
       "5279            27473           27473           27473    1932366  2018  ...   \n",
       "5280            27574           27574           27574    1932366  2018  ...   \n",
       "\n",
       "                     id    trip_leave_id  LINEID  num_lineID DIRECTION  \\\n",
       "5276  20181105810157801  201811058101578     27X          47         2   \n",
       "5277  20181105810157802  201811058101578     27X          47         2   \n",
       "5278  20181105810157803  201811058101578     27X          47         2   \n",
       "5279  20181105810157804  201811058101578     27X          47         2   \n",
       "5280  20181105810157805  201811058101578     27X          47         2   \n",
       "\n",
       "      actual_duration  dayOfWeek  weekend  rushHour  actualARR_hour  \n",
       "5276             4857          0        0         1               8  \n",
       "5277             4857          0        0         1               8  \n",
       "5278             4857          0        0         1               8  \n",
       "5279             4857          0        0         1               8  \n",
       "5280             4857          0        0         1               8  \n",
       "\n",
       "[5 rows x 22 columns]"
      ]
     },
     "execution_count": 35,
     "metadata": {},
     "output_type": "execute_result"
    }
   ],
   "source": [
    "wk.head()"
   ]
  },
  {
   "cell_type": "code",
   "execution_count": 36,
   "id": "c1b9c022",
   "metadata": {},
   "outputs": [
    {
     "data": {
      "text/plain": [
       "(50147, 22)"
      ]
     },
     "execution_count": 36,
     "metadata": {},
     "output_type": "execute_result"
    }
   ],
   "source": [
    "wk.shape"
   ]
  },
  {
   "cell_type": "markdown",
   "id": "9001e06a",
   "metadata": {},
   "source": [
    "<h3>Send to CSV</h3>"
   ]
  },
  {
   "cell_type": "code",
   "execution_count": 37,
   "id": "a4594538",
   "metadata": {},
   "outputs": [],
   "source": [
    "# Send df to csv:\n",
    "lwk.to_csv('v5_239_tripLeave6_sp8.csv', index=False)"
   ]
  },
  {
   "cell_type": "markdown",
   "id": "cf6b9a30",
   "metadata": {},
   "source": [
    "## Route 27X"
   ]
  },
  {
   "cell_type": "code",
   "execution_count": 38,
   "id": "be7cfb01",
   "metadata": {},
   "outputs": [],
   "source": [
    "lwk = wk[(wk['LINEID'] == '27X')]"
   ]
  },
  {
   "cell_type": "code",
   "execution_count": 39,
   "id": "ba583db4",
   "metadata": {},
   "outputs": [
    {
     "data": {
      "text/plain": [
       "(4491, 22)"
      ]
     },
     "execution_count": 39,
     "metadata": {},
     "output_type": "execute_result"
    }
   ],
   "source": [
    "lwk.shape"
   ]
  },
  {
   "cell_type": "code",
   "execution_count": 40,
   "id": "9e719e0a",
   "metadata": {},
   "outputs": [],
   "source": [
    "# Drop Route 27X rows from wk\n",
    "wk.drop(wk[wk['LINEID'] == '27X'].index, inplace = True)"
   ]
  },
  {
   "cell_type": "code",
   "execution_count": 41,
   "id": "1c15d26f",
   "metadata": {},
   "outputs": [
    {
     "data": {
      "text/html": [
       "<div>\n",
       "<style scoped>\n",
       "    .dataframe tbody tr th:only-of-type {\n",
       "        vertical-align: middle;\n",
       "    }\n",
       "\n",
       "    .dataframe tbody tr th {\n",
       "        vertical-align: top;\n",
       "    }\n",
       "\n",
       "    .dataframe thead th {\n",
       "        text-align: right;\n",
       "    }\n",
       "</style>\n",
       "<table border=\"1\" class=\"dataframe\">\n",
       "  <thead>\n",
       "    <tr style=\"text-align: right;\">\n",
       "      <th></th>\n",
       "      <th>DAYOFSERVICE</th>\n",
       "      <th>TRIPID</th>\n",
       "      <th>PROGRNUMBER</th>\n",
       "      <th>STOPPOINTID</th>\n",
       "      <th>PLANNEDTIME_ARR</th>\n",
       "      <th>PLANNEDTIME_DEP</th>\n",
       "      <th>ACTUALTIME_ARR</th>\n",
       "      <th>ACTUALTIME_DEP</th>\n",
       "      <th>VEHICLEID</th>\n",
       "      <th>year</th>\n",
       "      <th>...</th>\n",
       "      <th>id</th>\n",
       "      <th>trip_leave_id</th>\n",
       "      <th>LINEID</th>\n",
       "      <th>num_lineID</th>\n",
       "      <th>DIRECTION</th>\n",
       "      <th>actual_duration</th>\n",
       "      <th>dayOfWeek</th>\n",
       "      <th>weekend</th>\n",
       "      <th>rushHour</th>\n",
       "      <th>actualARR_hour</th>\n",
       "    </tr>\n",
       "  </thead>\n",
       "  <tbody>\n",
       "    <tr>\n",
       "      <th>5806</th>\n",
       "      <td>2018-11-05</td>\n",
       "      <td>8105637</td>\n",
       "      <td>1</td>\n",
       "      <td>4747</td>\n",
       "      <td>25200</td>\n",
       "      <td>25200</td>\n",
       "      <td>25200</td>\n",
       "      <td>25200</td>\n",
       "      <td>1001199</td>\n",
       "      <td>2018</td>\n",
       "      <td>...</td>\n",
       "      <td>20181105810563701</td>\n",
       "      <td>201811058105637</td>\n",
       "      <td>236</td>\n",
       "      <td>34</td>\n",
       "      <td>1</td>\n",
       "      <td>2028</td>\n",
       "      <td>0</td>\n",
       "      <td>0</td>\n",
       "      <td>0</td>\n",
       "      <td>7</td>\n",
       "    </tr>\n",
       "    <tr>\n",
       "      <th>5807</th>\n",
       "      <td>2018-11-05</td>\n",
       "      <td>8105637</td>\n",
       "      <td>2</td>\n",
       "      <td>2960</td>\n",
       "      <td>25242</td>\n",
       "      <td>25242</td>\n",
       "      <td>25242</td>\n",
       "      <td>25242</td>\n",
       "      <td>1001199</td>\n",
       "      <td>2018</td>\n",
       "      <td>...</td>\n",
       "      <td>20181105810563702</td>\n",
       "      <td>201811058105637</td>\n",
       "      <td>236</td>\n",
       "      <td>34</td>\n",
       "      <td>1</td>\n",
       "      <td>2028</td>\n",
       "      <td>0</td>\n",
       "      <td>0</td>\n",
       "      <td>0</td>\n",
       "      <td>7</td>\n",
       "    </tr>\n",
       "    <tr>\n",
       "      <th>5808</th>\n",
       "      <td>2018-11-05</td>\n",
       "      <td>8105637</td>\n",
       "      <td>3</td>\n",
       "      <td>1545</td>\n",
       "      <td>25293</td>\n",
       "      <td>25293</td>\n",
       "      <td>25293</td>\n",
       "      <td>25293</td>\n",
       "      <td>1001199</td>\n",
       "      <td>2018</td>\n",
       "      <td>...</td>\n",
       "      <td>20181105810563703</td>\n",
       "      <td>201811058105637</td>\n",
       "      <td>236</td>\n",
       "      <td>34</td>\n",
       "      <td>1</td>\n",
       "      <td>2028</td>\n",
       "      <td>0</td>\n",
       "      <td>0</td>\n",
       "      <td>0</td>\n",
       "      <td>7</td>\n",
       "    </tr>\n",
       "    <tr>\n",
       "      <th>5809</th>\n",
       "      <td>2018-11-05</td>\n",
       "      <td>8105637</td>\n",
       "      <td>4</td>\n",
       "      <td>1816</td>\n",
       "      <td>25367</td>\n",
       "      <td>25367</td>\n",
       "      <td>25367</td>\n",
       "      <td>25367</td>\n",
       "      <td>1001199</td>\n",
       "      <td>2018</td>\n",
       "      <td>...</td>\n",
       "      <td>20181105810563704</td>\n",
       "      <td>201811058105637</td>\n",
       "      <td>236</td>\n",
       "      <td>34</td>\n",
       "      <td>1</td>\n",
       "      <td>2028</td>\n",
       "      <td>0</td>\n",
       "      <td>0</td>\n",
       "      <td>0</td>\n",
       "      <td>7</td>\n",
       "    </tr>\n",
       "    <tr>\n",
       "      <th>5810</th>\n",
       "      <td>2018-11-05</td>\n",
       "      <td>8105637</td>\n",
       "      <td>5</td>\n",
       "      <td>6171</td>\n",
       "      <td>25422</td>\n",
       "      <td>25422</td>\n",
       "      <td>25422</td>\n",
       "      <td>25422</td>\n",
       "      <td>1001199</td>\n",
       "      <td>2018</td>\n",
       "      <td>...</td>\n",
       "      <td>20181105810563705</td>\n",
       "      <td>201811058105637</td>\n",
       "      <td>236</td>\n",
       "      <td>34</td>\n",
       "      <td>1</td>\n",
       "      <td>2028</td>\n",
       "      <td>0</td>\n",
       "      <td>0</td>\n",
       "      <td>0</td>\n",
       "      <td>7</td>\n",
       "    </tr>\n",
       "  </tbody>\n",
       "</table>\n",
       "<p>5 rows × 22 columns</p>\n",
       "</div>"
      ],
      "text/plain": [
       "     DAYOFSERVICE   TRIPID  PROGRNUMBER  STOPPOINTID  PLANNEDTIME_ARR  \\\n",
       "5806   2018-11-05  8105637            1         4747            25200   \n",
       "5807   2018-11-05  8105637            2         2960            25242   \n",
       "5808   2018-11-05  8105637            3         1545            25293   \n",
       "5809   2018-11-05  8105637            4         1816            25367   \n",
       "5810   2018-11-05  8105637            5         6171            25422   \n",
       "\n",
       "      PLANNEDTIME_DEP  ACTUALTIME_ARR  ACTUALTIME_DEP  VEHICLEID  year  ...  \\\n",
       "5806            25200           25200           25200    1001199  2018  ...   \n",
       "5807            25242           25242           25242    1001199  2018  ...   \n",
       "5808            25293           25293           25293    1001199  2018  ...   \n",
       "5809            25367           25367           25367    1001199  2018  ...   \n",
       "5810            25422           25422           25422    1001199  2018  ...   \n",
       "\n",
       "                     id    trip_leave_id  LINEID  num_lineID DIRECTION  \\\n",
       "5806  20181105810563701  201811058105637     236          34         1   \n",
       "5807  20181105810563702  201811058105637     236          34         1   \n",
       "5808  20181105810563703  201811058105637     236          34         1   \n",
       "5809  20181105810563704  201811058105637     236          34         1   \n",
       "5810  20181105810563705  201811058105637     236          34         1   \n",
       "\n",
       "      actual_duration  dayOfWeek  weekend  rushHour  actualARR_hour  \n",
       "5806             2028          0        0         0               7  \n",
       "5807             2028          0        0         0               7  \n",
       "5808             2028          0        0         0               7  \n",
       "5809             2028          0        0         0               7  \n",
       "5810             2028          0        0         0               7  \n",
       "\n",
       "[5 rows x 22 columns]"
      ]
     },
     "execution_count": 41,
     "metadata": {},
     "output_type": "execute_result"
    }
   ],
   "source": [
    "wk.head()"
   ]
  },
  {
   "cell_type": "code",
   "execution_count": 42,
   "id": "5299a41b",
   "metadata": {},
   "outputs": [
    {
     "data": {
      "text/plain": [
       "(45656, 22)"
      ]
     },
     "execution_count": 42,
     "metadata": {},
     "output_type": "execute_result"
    }
   ],
   "source": [
    "wk.shape"
   ]
  },
  {
   "cell_type": "markdown",
   "id": "c95c36a2",
   "metadata": {},
   "source": [
    "<h3>Send to CSV</h3>"
   ]
  },
  {
   "cell_type": "code",
   "execution_count": 43,
   "id": "10e456a8",
   "metadata": {},
   "outputs": [],
   "source": [
    "# Send df to csv:\n",
    "lwk.to_csv('v5_27X_tripLeave6_sp8.csv', index=False)"
   ]
  },
  {
   "cell_type": "markdown",
   "id": "eae8e196",
   "metadata": {},
   "source": [
    "## Route 236"
   ]
  },
  {
   "cell_type": "code",
   "execution_count": 44,
   "id": "2fe9252d",
   "metadata": {},
   "outputs": [],
   "source": [
    "lwk = wk[(wk['LINEID'] == '236')]"
   ]
  },
  {
   "cell_type": "code",
   "execution_count": 45,
   "id": "df08328a",
   "metadata": {},
   "outputs": [
    {
     "data": {
      "text/plain": [
       "(4494, 22)"
      ]
     },
     "execution_count": 45,
     "metadata": {},
     "output_type": "execute_result"
    }
   ],
   "source": [
    "lwk.shape"
   ]
  },
  {
   "cell_type": "code",
   "execution_count": 46,
   "id": "b0b02512",
   "metadata": {},
   "outputs": [],
   "source": [
    "# Drop Route 236 rows from wk\n",
    "wk.drop(wk[wk['LINEID'] == '236'].index, inplace = True)"
   ]
  },
  {
   "cell_type": "code",
   "execution_count": 47,
   "id": "8b9db2a6",
   "metadata": {},
   "outputs": [
    {
     "data": {
      "text/html": [
       "<div>\n",
       "<style scoped>\n",
       "    .dataframe tbody tr th:only-of-type {\n",
       "        vertical-align: middle;\n",
       "    }\n",
       "\n",
       "    .dataframe tbody tr th {\n",
       "        vertical-align: top;\n",
       "    }\n",
       "\n",
       "    .dataframe thead th {\n",
       "        text-align: right;\n",
       "    }\n",
       "</style>\n",
       "<table border=\"1\" class=\"dataframe\">\n",
       "  <thead>\n",
       "    <tr style=\"text-align: right;\">\n",
       "      <th></th>\n",
       "      <th>DAYOFSERVICE</th>\n",
       "      <th>TRIPID</th>\n",
       "      <th>PROGRNUMBER</th>\n",
       "      <th>STOPPOINTID</th>\n",
       "      <th>PLANNEDTIME_ARR</th>\n",
       "      <th>PLANNEDTIME_DEP</th>\n",
       "      <th>ACTUALTIME_ARR</th>\n",
       "      <th>ACTUALTIME_DEP</th>\n",
       "      <th>VEHICLEID</th>\n",
       "      <th>year</th>\n",
       "      <th>...</th>\n",
       "      <th>id</th>\n",
       "      <th>trip_leave_id</th>\n",
       "      <th>LINEID</th>\n",
       "      <th>num_lineID</th>\n",
       "      <th>DIRECTION</th>\n",
       "      <th>actual_duration</th>\n",
       "      <th>dayOfWeek</th>\n",
       "      <th>weekend</th>\n",
       "      <th>rushHour</th>\n",
       "      <th>actualARR_hour</th>\n",
       "    </tr>\n",
       "  </thead>\n",
       "  <tbody>\n",
       "    <tr>\n",
       "      <th>6444</th>\n",
       "      <td>2018-11-05</td>\n",
       "      <td>8110635</td>\n",
       "      <td>1</td>\n",
       "      <td>3732</td>\n",
       "      <td>26400</td>\n",
       "      <td>26400</td>\n",
       "      <td>26400</td>\n",
       "      <td>26400</td>\n",
       "      <td>1000202</td>\n",
       "      <td>2018</td>\n",
       "      <td>...</td>\n",
       "      <td>20181105811063501</td>\n",
       "      <td>201811058110635</td>\n",
       "      <td>33D</td>\n",
       "      <td>58</td>\n",
       "      <td>2</td>\n",
       "      <td>4483</td>\n",
       "      <td>0</td>\n",
       "      <td>0</td>\n",
       "      <td>0</td>\n",
       "      <td>7</td>\n",
       "    </tr>\n",
       "    <tr>\n",
       "      <th>6445</th>\n",
       "      <td>2018-11-05</td>\n",
       "      <td>8110635</td>\n",
       "      <td>2</td>\n",
       "      <td>3733</td>\n",
       "      <td>26420</td>\n",
       "      <td>26420</td>\n",
       "      <td>26420</td>\n",
       "      <td>26420</td>\n",
       "      <td>1000202</td>\n",
       "      <td>2018</td>\n",
       "      <td>...</td>\n",
       "      <td>20181105811063502</td>\n",
       "      <td>201811058110635</td>\n",
       "      <td>33D</td>\n",
       "      <td>58</td>\n",
       "      <td>2</td>\n",
       "      <td>4483</td>\n",
       "      <td>0</td>\n",
       "      <td>0</td>\n",
       "      <td>0</td>\n",
       "      <td>7</td>\n",
       "    </tr>\n",
       "    <tr>\n",
       "      <th>6446</th>\n",
       "      <td>2018-11-05</td>\n",
       "      <td>8110635</td>\n",
       "      <td>3</td>\n",
       "      <td>3734</td>\n",
       "      <td>26461</td>\n",
       "      <td>26461</td>\n",
       "      <td>26461</td>\n",
       "      <td>26461</td>\n",
       "      <td>1000202</td>\n",
       "      <td>2018</td>\n",
       "      <td>...</td>\n",
       "      <td>20181105811063503</td>\n",
       "      <td>201811058110635</td>\n",
       "      <td>33D</td>\n",
       "      <td>58</td>\n",
       "      <td>2</td>\n",
       "      <td>4483</td>\n",
       "      <td>0</td>\n",
       "      <td>0</td>\n",
       "      <td>0</td>\n",
       "      <td>7</td>\n",
       "    </tr>\n",
       "    <tr>\n",
       "      <th>6447</th>\n",
       "      <td>2018-11-05</td>\n",
       "      <td>8110635</td>\n",
       "      <td>4</td>\n",
       "      <td>3735</td>\n",
       "      <td>26483</td>\n",
       "      <td>26483</td>\n",
       "      <td>26483</td>\n",
       "      <td>26483</td>\n",
       "      <td>1000202</td>\n",
       "      <td>2018</td>\n",
       "      <td>...</td>\n",
       "      <td>20181105811063504</td>\n",
       "      <td>201811058110635</td>\n",
       "      <td>33D</td>\n",
       "      <td>58</td>\n",
       "      <td>2</td>\n",
       "      <td>4483</td>\n",
       "      <td>0</td>\n",
       "      <td>0</td>\n",
       "      <td>0</td>\n",
       "      <td>7</td>\n",
       "    </tr>\n",
       "    <tr>\n",
       "      <th>6448</th>\n",
       "      <td>2018-11-05</td>\n",
       "      <td>8110635</td>\n",
       "      <td>5</td>\n",
       "      <td>7039</td>\n",
       "      <td>26547</td>\n",
       "      <td>26547</td>\n",
       "      <td>26547</td>\n",
       "      <td>26547</td>\n",
       "      <td>1000202</td>\n",
       "      <td>2018</td>\n",
       "      <td>...</td>\n",
       "      <td>20181105811063505</td>\n",
       "      <td>201811058110635</td>\n",
       "      <td>33D</td>\n",
       "      <td>58</td>\n",
       "      <td>2</td>\n",
       "      <td>4483</td>\n",
       "      <td>0</td>\n",
       "      <td>0</td>\n",
       "      <td>0</td>\n",
       "      <td>7</td>\n",
       "    </tr>\n",
       "  </tbody>\n",
       "</table>\n",
       "<p>5 rows × 22 columns</p>\n",
       "</div>"
      ],
      "text/plain": [
       "     DAYOFSERVICE   TRIPID  PROGRNUMBER  STOPPOINTID  PLANNEDTIME_ARR  \\\n",
       "6444   2018-11-05  8110635            1         3732            26400   \n",
       "6445   2018-11-05  8110635            2         3733            26420   \n",
       "6446   2018-11-05  8110635            3         3734            26461   \n",
       "6447   2018-11-05  8110635            4         3735            26483   \n",
       "6448   2018-11-05  8110635            5         7039            26547   \n",
       "\n",
       "      PLANNEDTIME_DEP  ACTUALTIME_ARR  ACTUALTIME_DEP  VEHICLEID  year  ...  \\\n",
       "6444            26400           26400           26400    1000202  2018  ...   \n",
       "6445            26420           26420           26420    1000202  2018  ...   \n",
       "6446            26461           26461           26461    1000202  2018  ...   \n",
       "6447            26483           26483           26483    1000202  2018  ...   \n",
       "6448            26547           26547           26547    1000202  2018  ...   \n",
       "\n",
       "                     id    trip_leave_id  LINEID  num_lineID DIRECTION  \\\n",
       "6444  20181105811063501  201811058110635     33D          58         2   \n",
       "6445  20181105811063502  201811058110635     33D          58         2   \n",
       "6446  20181105811063503  201811058110635     33D          58         2   \n",
       "6447  20181105811063504  201811058110635     33D          58         2   \n",
       "6448  20181105811063505  201811058110635     33D          58         2   \n",
       "\n",
       "      actual_duration  dayOfWeek  weekend  rushHour  actualARR_hour  \n",
       "6444             4483          0        0         0               7  \n",
       "6445             4483          0        0         0               7  \n",
       "6446             4483          0        0         0               7  \n",
       "6447             4483          0        0         0               7  \n",
       "6448             4483          0        0         0               7  \n",
       "\n",
       "[5 rows x 22 columns]"
      ]
     },
     "execution_count": 47,
     "metadata": {},
     "output_type": "execute_result"
    }
   ],
   "source": [
    "wk.head()"
   ]
  },
  {
   "cell_type": "code",
   "execution_count": 48,
   "id": "91131d06",
   "metadata": {},
   "outputs": [
    {
     "data": {
      "text/plain": [
       "(41162, 22)"
      ]
     },
     "execution_count": 48,
     "metadata": {},
     "output_type": "execute_result"
    }
   ],
   "source": [
    "wk.shape"
   ]
  },
  {
   "cell_type": "markdown",
   "id": "3a88d28c",
   "metadata": {},
   "source": [
    "<h3>Send to CSV</h3>"
   ]
  },
  {
   "cell_type": "code",
   "execution_count": 49,
   "id": "8bc23b00",
   "metadata": {},
   "outputs": [],
   "source": [
    "# Send df to csv:\n",
    "lwk.to_csv('v5_236_tripLeave6_sp8.csv', index=False)"
   ]
  },
  {
   "cell_type": "markdown",
   "id": "12bd18a1",
   "metadata": {},
   "source": [
    "## Route 33D"
   ]
  },
  {
   "cell_type": "code",
   "execution_count": 50,
   "id": "310eb1b2",
   "metadata": {},
   "outputs": [],
   "source": [
    "lwk = wk[(wk['LINEID'] == '33D')]"
   ]
  },
  {
   "cell_type": "code",
   "execution_count": 51,
   "id": "9d7e0310",
   "metadata": {},
   "outputs": [
    {
     "data": {
      "text/plain": [
       "(699, 22)"
      ]
     },
     "execution_count": 51,
     "metadata": {},
     "output_type": "execute_result"
    }
   ],
   "source": [
    "lwk.shape"
   ]
  },
  {
   "cell_type": "code",
   "execution_count": 52,
   "id": "2bc58961",
   "metadata": {},
   "outputs": [],
   "source": [
    "# Drop Route 33D rows from wk\n",
    "wk.drop(wk[wk['LINEID'] == '33D'].index, inplace = True)"
   ]
  },
  {
   "cell_type": "code",
   "execution_count": 53,
   "id": "e626322e",
   "metadata": {},
   "outputs": [
    {
     "data": {
      "text/html": [
       "<div>\n",
       "<style scoped>\n",
       "    .dataframe tbody tr th:only-of-type {\n",
       "        vertical-align: middle;\n",
       "    }\n",
       "\n",
       "    .dataframe tbody tr th {\n",
       "        vertical-align: top;\n",
       "    }\n",
       "\n",
       "    .dataframe thead th {\n",
       "        text-align: right;\n",
       "    }\n",
       "</style>\n",
       "<table border=\"1\" class=\"dataframe\">\n",
       "  <thead>\n",
       "    <tr style=\"text-align: right;\">\n",
       "      <th></th>\n",
       "      <th>DAYOFSERVICE</th>\n",
       "      <th>TRIPID</th>\n",
       "      <th>PROGRNUMBER</th>\n",
       "      <th>STOPPOINTID</th>\n",
       "      <th>PLANNEDTIME_ARR</th>\n",
       "      <th>PLANNEDTIME_DEP</th>\n",
       "      <th>ACTUALTIME_ARR</th>\n",
       "      <th>ACTUALTIME_DEP</th>\n",
       "      <th>VEHICLEID</th>\n",
       "      <th>year</th>\n",
       "      <th>...</th>\n",
       "      <th>id</th>\n",
       "      <th>trip_leave_id</th>\n",
       "      <th>LINEID</th>\n",
       "      <th>num_lineID</th>\n",
       "      <th>DIRECTION</th>\n",
       "      <th>actual_duration</th>\n",
       "      <th>dayOfWeek</th>\n",
       "      <th>weekend</th>\n",
       "      <th>rushHour</th>\n",
       "      <th>actualARR_hour</th>\n",
       "    </tr>\n",
       "  </thead>\n",
       "  <tbody>\n",
       "    <tr>\n",
       "      <th>7293</th>\n",
       "      <td>2018-11-05</td>\n",
       "      <td>8113084</td>\n",
       "      <td>1</td>\n",
       "      <td>3283</td>\n",
       "      <td>28500</td>\n",
       "      <td>28500</td>\n",
       "      <td>28500</td>\n",
       "      <td>28500</td>\n",
       "      <td>2172277</td>\n",
       "      <td>2018</td>\n",
       "      <td>...</td>\n",
       "      <td>20181105811308401</td>\n",
       "      <td>201811058113084</td>\n",
       "      <td>118</td>\n",
       "      <td>7</td>\n",
       "      <td>2</td>\n",
       "      <td>4862</td>\n",
       "      <td>0</td>\n",
       "      <td>0</td>\n",
       "      <td>1</td>\n",
       "      <td>8</td>\n",
       "    </tr>\n",
       "    <tr>\n",
       "      <th>7294</th>\n",
       "      <td>2018-11-05</td>\n",
       "      <td>8113084</td>\n",
       "      <td>2</td>\n",
       "      <td>3284</td>\n",
       "      <td>28548</td>\n",
       "      <td>28548</td>\n",
       "      <td>28548</td>\n",
       "      <td>28548</td>\n",
       "      <td>2172277</td>\n",
       "      <td>2018</td>\n",
       "      <td>...</td>\n",
       "      <td>20181105811308402</td>\n",
       "      <td>201811058113084</td>\n",
       "      <td>118</td>\n",
       "      <td>7</td>\n",
       "      <td>2</td>\n",
       "      <td>4862</td>\n",
       "      <td>0</td>\n",
       "      <td>0</td>\n",
       "      <td>1</td>\n",
       "      <td>8</td>\n",
       "    </tr>\n",
       "    <tr>\n",
       "      <th>7295</th>\n",
       "      <td>2018-11-05</td>\n",
       "      <td>8113084</td>\n",
       "      <td>3</td>\n",
       "      <td>3310</td>\n",
       "      <td>28582</td>\n",
       "      <td>28582</td>\n",
       "      <td>28582</td>\n",
       "      <td>28582</td>\n",
       "      <td>2172277</td>\n",
       "      <td>2018</td>\n",
       "      <td>...</td>\n",
       "      <td>20181105811308403</td>\n",
       "      <td>201811058113084</td>\n",
       "      <td>118</td>\n",
       "      <td>7</td>\n",
       "      <td>2</td>\n",
       "      <td>4862</td>\n",
       "      <td>0</td>\n",
       "      <td>0</td>\n",
       "      <td>1</td>\n",
       "      <td>8</td>\n",
       "    </tr>\n",
       "    <tr>\n",
       "      <th>7296</th>\n",
       "      <td>2018-11-05</td>\n",
       "      <td>8113084</td>\n",
       "      <td>4</td>\n",
       "      <td>3481</td>\n",
       "      <td>28595</td>\n",
       "      <td>28595</td>\n",
       "      <td>28595</td>\n",
       "      <td>28595</td>\n",
       "      <td>2172277</td>\n",
       "      <td>2018</td>\n",
       "      <td>...</td>\n",
       "      <td>20181105811308404</td>\n",
       "      <td>201811058113084</td>\n",
       "      <td>118</td>\n",
       "      <td>7</td>\n",
       "      <td>2</td>\n",
       "      <td>4862</td>\n",
       "      <td>0</td>\n",
       "      <td>0</td>\n",
       "      <td>1</td>\n",
       "      <td>8</td>\n",
       "    </tr>\n",
       "    <tr>\n",
       "      <th>7297</th>\n",
       "      <td>2018-11-05</td>\n",
       "      <td>8113084</td>\n",
       "      <td>5</td>\n",
       "      <td>3482</td>\n",
       "      <td>28619</td>\n",
       "      <td>28619</td>\n",
       "      <td>28619</td>\n",
       "      <td>28619</td>\n",
       "      <td>2172277</td>\n",
       "      <td>2018</td>\n",
       "      <td>...</td>\n",
       "      <td>20181105811308405</td>\n",
       "      <td>201811058113084</td>\n",
       "      <td>118</td>\n",
       "      <td>7</td>\n",
       "      <td>2</td>\n",
       "      <td>4862</td>\n",
       "      <td>0</td>\n",
       "      <td>0</td>\n",
       "      <td>1</td>\n",
       "      <td>8</td>\n",
       "    </tr>\n",
       "  </tbody>\n",
       "</table>\n",
       "<p>5 rows × 22 columns</p>\n",
       "</div>"
      ],
      "text/plain": [
       "     DAYOFSERVICE   TRIPID  PROGRNUMBER  STOPPOINTID  PLANNEDTIME_ARR  \\\n",
       "7293   2018-11-05  8113084            1         3283            28500   \n",
       "7294   2018-11-05  8113084            2         3284            28548   \n",
       "7295   2018-11-05  8113084            3         3310            28582   \n",
       "7296   2018-11-05  8113084            4         3481            28595   \n",
       "7297   2018-11-05  8113084            5         3482            28619   \n",
       "\n",
       "      PLANNEDTIME_DEP  ACTUALTIME_ARR  ACTUALTIME_DEP  VEHICLEID  year  ...  \\\n",
       "7293            28500           28500           28500    2172277  2018  ...   \n",
       "7294            28548           28548           28548    2172277  2018  ...   \n",
       "7295            28582           28582           28582    2172277  2018  ...   \n",
       "7296            28595           28595           28595    2172277  2018  ...   \n",
       "7297            28619           28619           28619    2172277  2018  ...   \n",
       "\n",
       "                     id    trip_leave_id  LINEID  num_lineID DIRECTION  \\\n",
       "7293  20181105811308401  201811058113084     118           7         2   \n",
       "7294  20181105811308402  201811058113084     118           7         2   \n",
       "7295  20181105811308403  201811058113084     118           7         2   \n",
       "7296  20181105811308404  201811058113084     118           7         2   \n",
       "7297  20181105811308405  201811058113084     118           7         2   \n",
       "\n",
       "      actual_duration  dayOfWeek  weekend  rushHour  actualARR_hour  \n",
       "7293             4862          0        0         1               8  \n",
       "7294             4862          0        0         1               8  \n",
       "7295             4862          0        0         1               8  \n",
       "7296             4862          0        0         1               8  \n",
       "7297             4862          0        0         1               8  \n",
       "\n",
       "[5 rows x 22 columns]"
      ]
     },
     "execution_count": 53,
     "metadata": {},
     "output_type": "execute_result"
    }
   ],
   "source": [
    "wk.head()"
   ]
  },
  {
   "cell_type": "code",
   "execution_count": 54,
   "id": "1925fbda",
   "metadata": {},
   "outputs": [
    {
     "data": {
      "text/plain": [
       "(40463, 22)"
      ]
     },
     "execution_count": 54,
     "metadata": {},
     "output_type": "execute_result"
    }
   ],
   "source": [
    "wk.shape"
   ]
  },
  {
   "cell_type": "markdown",
   "id": "fbce052d",
   "metadata": {},
   "source": [
    "<h3>Send to CSV</h3>"
   ]
  },
  {
   "cell_type": "code",
   "execution_count": 55,
   "id": "f7db27b7",
   "metadata": {},
   "outputs": [],
   "source": [
    "# Send df to csv:\n",
    "lwk.to_csv('v5_33D_tripLeave6_sp8.csv', index=False)"
   ]
  },
  {
   "cell_type": "markdown",
   "id": "b634e919",
   "metadata": {},
   "source": [
    "## Route 118"
   ]
  },
  {
   "cell_type": "code",
   "execution_count": 56,
   "id": "3953f651",
   "metadata": {},
   "outputs": [],
   "source": [
    "lwk = wk[(wk['LINEID'] == '118')]"
   ]
  },
  {
   "cell_type": "code",
   "execution_count": 57,
   "id": "c2cf16ab",
   "metadata": {},
   "outputs": [
    {
     "data": {
      "text/plain": [
       "(1795, 22)"
      ]
     },
     "execution_count": 57,
     "metadata": {},
     "output_type": "execute_result"
    }
   ],
   "source": [
    "lwk.shape"
   ]
  },
  {
   "cell_type": "code",
   "execution_count": 58,
   "id": "9c60ac87",
   "metadata": {},
   "outputs": [],
   "source": [
    "# Drop Route 118 rows from wk\n",
    "wk.drop(wk[wk['LINEID'] == '118'].index, inplace = True)"
   ]
  },
  {
   "cell_type": "code",
   "execution_count": 59,
   "id": "697f4f68",
   "metadata": {},
   "outputs": [
    {
     "data": {
      "text/html": [
       "<div>\n",
       "<style scoped>\n",
       "    .dataframe tbody tr th:only-of-type {\n",
       "        vertical-align: middle;\n",
       "    }\n",
       "\n",
       "    .dataframe tbody tr th {\n",
       "        vertical-align: top;\n",
       "    }\n",
       "\n",
       "    .dataframe thead th {\n",
       "        text-align: right;\n",
       "    }\n",
       "</style>\n",
       "<table border=\"1\" class=\"dataframe\">\n",
       "  <thead>\n",
       "    <tr style=\"text-align: right;\">\n",
       "      <th></th>\n",
       "      <th>DAYOFSERVICE</th>\n",
       "      <th>TRIPID</th>\n",
       "      <th>PROGRNUMBER</th>\n",
       "      <th>STOPPOINTID</th>\n",
       "      <th>PLANNEDTIME_ARR</th>\n",
       "      <th>PLANNEDTIME_DEP</th>\n",
       "      <th>ACTUALTIME_ARR</th>\n",
       "      <th>ACTUALTIME_DEP</th>\n",
       "      <th>VEHICLEID</th>\n",
       "      <th>year</th>\n",
       "      <th>...</th>\n",
       "      <th>id</th>\n",
       "      <th>trip_leave_id</th>\n",
       "      <th>LINEID</th>\n",
       "      <th>num_lineID</th>\n",
       "      <th>DIRECTION</th>\n",
       "      <th>actual_duration</th>\n",
       "      <th>dayOfWeek</th>\n",
       "      <th>weekend</th>\n",
       "      <th>rushHour</th>\n",
       "      <th>actualARR_hour</th>\n",
       "    </tr>\n",
       "  </thead>\n",
       "  <tbody>\n",
       "    <tr>\n",
       "      <th>53578</th>\n",
       "      <td>2018-12-02</td>\n",
       "      <td>8150025</td>\n",
       "      <td>1</td>\n",
       "      <td>7073</td>\n",
       "      <td>72600</td>\n",
       "      <td>72600</td>\n",
       "      <td>72600</td>\n",
       "      <td>72600</td>\n",
       "      <td>3265672</td>\n",
       "      <td>2018</td>\n",
       "      <td>...</td>\n",
       "      <td>20181202815002501</td>\n",
       "      <td>201812028150025</td>\n",
       "      <td>40E</td>\n",
       "      <td>73</td>\n",
       "      <td>2</td>\n",
       "      <td>1420</td>\n",
       "      <td>6</td>\n",
       "      <td>1</td>\n",
       "      <td>0</td>\n",
       "      <td>20</td>\n",
       "    </tr>\n",
       "    <tr>\n",
       "      <th>53579</th>\n",
       "      <td>2018-12-02</td>\n",
       "      <td>8150025</td>\n",
       "      <td>2</td>\n",
       "      <td>7097</td>\n",
       "      <td>72660</td>\n",
       "      <td>72660</td>\n",
       "      <td>72660</td>\n",
       "      <td>72660</td>\n",
       "      <td>3265672</td>\n",
       "      <td>2018</td>\n",
       "      <td>...</td>\n",
       "      <td>20181202815002502</td>\n",
       "      <td>201812028150025</td>\n",
       "      <td>40E</td>\n",
       "      <td>73</td>\n",
       "      <td>2</td>\n",
       "      <td>1420</td>\n",
       "      <td>6</td>\n",
       "      <td>1</td>\n",
       "      <td>0</td>\n",
       "      <td>20</td>\n",
       "    </tr>\n",
       "    <tr>\n",
       "      <th>53580</th>\n",
       "      <td>2018-12-02</td>\n",
       "      <td>8150025</td>\n",
       "      <td>3</td>\n",
       "      <td>7098</td>\n",
       "      <td>72692</td>\n",
       "      <td>72692</td>\n",
       "      <td>72692</td>\n",
       "      <td>72692</td>\n",
       "      <td>3265672</td>\n",
       "      <td>2018</td>\n",
       "      <td>...</td>\n",
       "      <td>20181202815002503</td>\n",
       "      <td>201812028150025</td>\n",
       "      <td>40E</td>\n",
       "      <td>73</td>\n",
       "      <td>2</td>\n",
       "      <td>1420</td>\n",
       "      <td>6</td>\n",
       "      <td>1</td>\n",
       "      <td>0</td>\n",
       "      <td>20</td>\n",
       "    </tr>\n",
       "    <tr>\n",
       "      <th>53581</th>\n",
       "      <td>2018-12-02</td>\n",
       "      <td>8150025</td>\n",
       "      <td>4</td>\n",
       "      <td>7099</td>\n",
       "      <td>72722</td>\n",
       "      <td>72722</td>\n",
       "      <td>72722</td>\n",
       "      <td>72722</td>\n",
       "      <td>3265672</td>\n",
       "      <td>2018</td>\n",
       "      <td>...</td>\n",
       "      <td>20181202815002504</td>\n",
       "      <td>201812028150025</td>\n",
       "      <td>40E</td>\n",
       "      <td>73</td>\n",
       "      <td>2</td>\n",
       "      <td>1420</td>\n",
       "      <td>6</td>\n",
       "      <td>1</td>\n",
       "      <td>0</td>\n",
       "      <td>20</td>\n",
       "    </tr>\n",
       "    <tr>\n",
       "      <th>53582</th>\n",
       "      <td>2018-12-02</td>\n",
       "      <td>8150025</td>\n",
       "      <td>5</td>\n",
       "      <td>7100</td>\n",
       "      <td>72758</td>\n",
       "      <td>72758</td>\n",
       "      <td>72758</td>\n",
       "      <td>72758</td>\n",
       "      <td>3265672</td>\n",
       "      <td>2018</td>\n",
       "      <td>...</td>\n",
       "      <td>20181202815002505</td>\n",
       "      <td>201812028150025</td>\n",
       "      <td>40E</td>\n",
       "      <td>73</td>\n",
       "      <td>2</td>\n",
       "      <td>1420</td>\n",
       "      <td>6</td>\n",
       "      <td>1</td>\n",
       "      <td>0</td>\n",
       "      <td>20</td>\n",
       "    </tr>\n",
       "  </tbody>\n",
       "</table>\n",
       "<p>5 rows × 22 columns</p>\n",
       "</div>"
      ],
      "text/plain": [
       "      DAYOFSERVICE   TRIPID  PROGRNUMBER  STOPPOINTID  PLANNEDTIME_ARR  \\\n",
       "53578   2018-12-02  8150025            1         7073            72600   \n",
       "53579   2018-12-02  8150025            2         7097            72660   \n",
       "53580   2018-12-02  8150025            3         7098            72692   \n",
       "53581   2018-12-02  8150025            4         7099            72722   \n",
       "53582   2018-12-02  8150025            5         7100            72758   \n",
       "\n",
       "       PLANNEDTIME_DEP  ACTUALTIME_ARR  ACTUALTIME_DEP  VEHICLEID  year  ...  \\\n",
       "53578            72600           72600           72600    3265672  2018  ...   \n",
       "53579            72660           72660           72660    3265672  2018  ...   \n",
       "53580            72692           72692           72692    3265672  2018  ...   \n",
       "53581            72722           72722           72722    3265672  2018  ...   \n",
       "53582            72758           72758           72758    3265672  2018  ...   \n",
       "\n",
       "                      id    trip_leave_id  LINEID  num_lineID DIRECTION  \\\n",
       "53578  20181202815002501  201812028150025     40E          73         2   \n",
       "53579  20181202815002502  201812028150025     40E          73         2   \n",
       "53580  20181202815002503  201812028150025     40E          73         2   \n",
       "53581  20181202815002504  201812028150025     40E          73         2   \n",
       "53582  20181202815002505  201812028150025     40E          73         2   \n",
       "\n",
       "       actual_duration  dayOfWeek  weekend  rushHour  actualARR_hour  \n",
       "53578             1420          6        1         0              20  \n",
       "53579             1420          6        1         0              20  \n",
       "53580             1420          6        1         0              20  \n",
       "53581             1420          6        1         0              20  \n",
       "53582             1420          6        1         0              20  \n",
       "\n",
       "[5 rows x 22 columns]"
      ]
     },
     "execution_count": 59,
     "metadata": {},
     "output_type": "execute_result"
    }
   ],
   "source": [
    "wk.head()"
   ]
  },
  {
   "cell_type": "code",
   "execution_count": 60,
   "id": "008d0da7",
   "metadata": {},
   "outputs": [
    {
     "data": {
      "text/plain": [
       "(38668, 22)"
      ]
     },
     "execution_count": 60,
     "metadata": {},
     "output_type": "execute_result"
    }
   ],
   "source": [
    "wk.shape"
   ]
  },
  {
   "cell_type": "markdown",
   "id": "344cabed",
   "metadata": {},
   "source": [
    "<h3>Send to CSV</h3>"
   ]
  },
  {
   "cell_type": "code",
   "execution_count": 61,
   "id": "a87bdae2",
   "metadata": {},
   "outputs": [],
   "source": [
    "# Send df to csv:\n",
    "lwk.to_csv('v5_118_tripLeave6_sp8.csv', index=False)"
   ]
  },
  {
   "cell_type": "markdown",
   "id": "caae3da1",
   "metadata": {},
   "source": [
    "## Route 40E"
   ]
  },
  {
   "cell_type": "code",
   "execution_count": 62,
   "id": "57040cc6",
   "metadata": {},
   "outputs": [],
   "source": [
    "lwk = wk[(wk['LINEID'] == '40E')]"
   ]
  },
  {
   "cell_type": "code",
   "execution_count": 63,
   "id": "94445942",
   "metadata": {},
   "outputs": [
    {
     "data": {
      "text/plain": [
       "(30848, 22)"
      ]
     },
     "execution_count": 63,
     "metadata": {},
     "output_type": "execute_result"
    }
   ],
   "source": [
    "lwk.shape"
   ]
  },
  {
   "cell_type": "code",
   "execution_count": 64,
   "id": "6daa2caf",
   "metadata": {},
   "outputs": [],
   "source": [
    "# Drop Route 40E rows from wk\n",
    "wk.drop(wk[wk['LINEID'] == '40E'].index, inplace = True)"
   ]
  },
  {
   "cell_type": "code",
   "execution_count": 65,
   "id": "b120bb4d",
   "metadata": {},
   "outputs": [
    {
     "data": {
      "text/html": [
       "<div>\n",
       "<style scoped>\n",
       "    .dataframe tbody tr th:only-of-type {\n",
       "        vertical-align: middle;\n",
       "    }\n",
       "\n",
       "    .dataframe tbody tr th {\n",
       "        vertical-align: top;\n",
       "    }\n",
       "\n",
       "    .dataframe thead th {\n",
       "        text-align: right;\n",
       "    }\n",
       "</style>\n",
       "<table border=\"1\" class=\"dataframe\">\n",
       "  <thead>\n",
       "    <tr style=\"text-align: right;\">\n",
       "      <th></th>\n",
       "      <th>DAYOFSERVICE</th>\n",
       "      <th>TRIPID</th>\n",
       "      <th>PROGRNUMBER</th>\n",
       "      <th>STOPPOINTID</th>\n",
       "      <th>PLANNEDTIME_ARR</th>\n",
       "      <th>PLANNEDTIME_DEP</th>\n",
       "      <th>ACTUALTIME_ARR</th>\n",
       "      <th>ACTUALTIME_DEP</th>\n",
       "      <th>VEHICLEID</th>\n",
       "      <th>year</th>\n",
       "      <th>...</th>\n",
       "      <th>id</th>\n",
       "      <th>trip_leave_id</th>\n",
       "      <th>LINEID</th>\n",
       "      <th>num_lineID</th>\n",
       "      <th>DIRECTION</th>\n",
       "      <th>actual_duration</th>\n",
       "      <th>dayOfWeek</th>\n",
       "      <th>weekend</th>\n",
       "      <th>rushHour</th>\n",
       "      <th>actualARR_hour</th>\n",
       "    </tr>\n",
       "  </thead>\n",
       "  <tbody>\n",
       "    <tr>\n",
       "      <th>53836</th>\n",
       "      <td>2018-12-03</td>\n",
       "      <td>8151574</td>\n",
       "      <td>3</td>\n",
       "      <td>7349</td>\n",
       "      <td>28370</td>\n",
       "      <td>28370</td>\n",
       "      <td>28370</td>\n",
       "      <td>28370</td>\n",
       "      <td>1000955</td>\n",
       "      <td>2018</td>\n",
       "      <td>...</td>\n",
       "      <td>20181203815157403</td>\n",
       "      <td>201812038151574</td>\n",
       "      <td>16D</td>\n",
       "      <td>27</td>\n",
       "      <td>1</td>\n",
       "      <td>5499</td>\n",
       "      <td>0</td>\n",
       "      <td>0</td>\n",
       "      <td>1</td>\n",
       "      <td>8</td>\n",
       "    </tr>\n",
       "    <tr>\n",
       "      <th>53837</th>\n",
       "      <td>2018-12-03</td>\n",
       "      <td>8151574</td>\n",
       "      <td>4</td>\n",
       "      <td>1631</td>\n",
       "      <td>28459</td>\n",
       "      <td>28459</td>\n",
       "      <td>28459</td>\n",
       "      <td>28459</td>\n",
       "      <td>1000955</td>\n",
       "      <td>2018</td>\n",
       "      <td>...</td>\n",
       "      <td>20181203815157404</td>\n",
       "      <td>201812038151574</td>\n",
       "      <td>16D</td>\n",
       "      <td>27</td>\n",
       "      <td>1</td>\n",
       "      <td>5499</td>\n",
       "      <td>0</td>\n",
       "      <td>0</td>\n",
       "      <td>1</td>\n",
       "      <td>8</td>\n",
       "    </tr>\n",
       "    <tr>\n",
       "      <th>53838</th>\n",
       "      <td>2018-12-03</td>\n",
       "      <td>8151574</td>\n",
       "      <td>5</td>\n",
       "      <td>1632</td>\n",
       "      <td>28483</td>\n",
       "      <td>28483</td>\n",
       "      <td>28483</td>\n",
       "      <td>28483</td>\n",
       "      <td>1000955</td>\n",
       "      <td>2018</td>\n",
       "      <td>...</td>\n",
       "      <td>20181203815157405</td>\n",
       "      <td>201812038151574</td>\n",
       "      <td>16D</td>\n",
       "      <td>27</td>\n",
       "      <td>1</td>\n",
       "      <td>5499</td>\n",
       "      <td>0</td>\n",
       "      <td>0</td>\n",
       "      <td>1</td>\n",
       "      <td>8</td>\n",
       "    </tr>\n",
       "    <tr>\n",
       "      <th>53839</th>\n",
       "      <td>2018-12-03</td>\n",
       "      <td>8151574</td>\n",
       "      <td>6</td>\n",
       "      <td>5053</td>\n",
       "      <td>28515</td>\n",
       "      <td>28515</td>\n",
       "      <td>28515</td>\n",
       "      <td>28515</td>\n",
       "      <td>1000955</td>\n",
       "      <td>2018</td>\n",
       "      <td>...</td>\n",
       "      <td>20181203815157406</td>\n",
       "      <td>201812038151574</td>\n",
       "      <td>16D</td>\n",
       "      <td>27</td>\n",
       "      <td>1</td>\n",
       "      <td>5499</td>\n",
       "      <td>0</td>\n",
       "      <td>0</td>\n",
       "      <td>1</td>\n",
       "      <td>8</td>\n",
       "    </tr>\n",
       "    <tr>\n",
       "      <th>53840</th>\n",
       "      <td>2018-12-03</td>\n",
       "      <td>8151574</td>\n",
       "      <td>7</td>\n",
       "      <td>1633</td>\n",
       "      <td>28546</td>\n",
       "      <td>28546</td>\n",
       "      <td>28546</td>\n",
       "      <td>28546</td>\n",
       "      <td>1000955</td>\n",
       "      <td>2018</td>\n",
       "      <td>...</td>\n",
       "      <td>20181203815157407</td>\n",
       "      <td>201812038151574</td>\n",
       "      <td>16D</td>\n",
       "      <td>27</td>\n",
       "      <td>1</td>\n",
       "      <td>5499</td>\n",
       "      <td>0</td>\n",
       "      <td>0</td>\n",
       "      <td>1</td>\n",
       "      <td>8</td>\n",
       "    </tr>\n",
       "  </tbody>\n",
       "</table>\n",
       "<p>5 rows × 22 columns</p>\n",
       "</div>"
      ],
      "text/plain": [
       "      DAYOFSERVICE   TRIPID  PROGRNUMBER  STOPPOINTID  PLANNEDTIME_ARR  \\\n",
       "53836   2018-12-03  8151574            3         7349            28370   \n",
       "53837   2018-12-03  8151574            4         1631            28459   \n",
       "53838   2018-12-03  8151574            5         1632            28483   \n",
       "53839   2018-12-03  8151574            6         5053            28515   \n",
       "53840   2018-12-03  8151574            7         1633            28546   \n",
       "\n",
       "       PLANNEDTIME_DEP  ACTUALTIME_ARR  ACTUALTIME_DEP  VEHICLEID  year  ...  \\\n",
       "53836            28370           28370           28370    1000955  2018  ...   \n",
       "53837            28459           28459           28459    1000955  2018  ...   \n",
       "53838            28483           28483           28483    1000955  2018  ...   \n",
       "53839            28515           28515           28515    1000955  2018  ...   \n",
       "53840            28546           28546           28546    1000955  2018  ...   \n",
       "\n",
       "                      id    trip_leave_id  LINEID  num_lineID DIRECTION  \\\n",
       "53836  20181203815157403  201812038151574     16D          27         1   \n",
       "53837  20181203815157404  201812038151574     16D          27         1   \n",
       "53838  20181203815157405  201812038151574     16D          27         1   \n",
       "53839  20181203815157406  201812038151574     16D          27         1   \n",
       "53840  20181203815157407  201812038151574     16D          27         1   \n",
       "\n",
       "       actual_duration  dayOfWeek  weekend  rushHour  actualARR_hour  \n",
       "53836             5499          0        0         1               8  \n",
       "53837             5499          0        0         1               8  \n",
       "53838             5499          0        0         1               8  \n",
       "53839             5499          0        0         1               8  \n",
       "53840             5499          0        0         1               8  \n",
       "\n",
       "[5 rows x 22 columns]"
      ]
     },
     "execution_count": 65,
     "metadata": {},
     "output_type": "execute_result"
    }
   ],
   "source": [
    "wk.head()"
   ]
  },
  {
   "cell_type": "code",
   "execution_count": 66,
   "id": "e4817201",
   "metadata": {},
   "outputs": [
    {
     "data": {
      "text/plain": [
       "(7820, 22)"
      ]
     },
     "execution_count": 66,
     "metadata": {},
     "output_type": "execute_result"
    }
   ],
   "source": [
    "wk.shape"
   ]
  },
  {
   "cell_type": "markdown",
   "id": "d39a108d",
   "metadata": {},
   "source": [
    "<h3>Send to CSV</h3>"
   ]
  },
  {
   "cell_type": "code",
   "execution_count": 67,
   "id": "1de6b91b",
   "metadata": {},
   "outputs": [],
   "source": [
    "# Send df to csv:\n",
    "lwk.to_csv('v5_40E_tripLeave6_sp8.csv', index=False)"
   ]
  },
  {
   "cell_type": "markdown",
   "id": "bb64356b",
   "metadata": {},
   "source": [
    "## Route 16D"
   ]
  },
  {
   "cell_type": "code",
   "execution_count": 68,
   "id": "16722cc0",
   "metadata": {},
   "outputs": [],
   "source": [
    "lwk = wk[(wk['LINEID'] == '16D')]"
   ]
  },
  {
   "cell_type": "code",
   "execution_count": 69,
   "id": "ad9e01f0",
   "metadata": {},
   "outputs": [
    {
     "data": {
      "text/plain": [
       "(5799, 22)"
      ]
     },
     "execution_count": 69,
     "metadata": {},
     "output_type": "execute_result"
    }
   ],
   "source": [
    "lwk.shape"
   ]
  },
  {
   "cell_type": "code",
   "execution_count": 70,
   "id": "bf0d5ee0",
   "metadata": {},
   "outputs": [],
   "source": [
    "# Drop Route 16D rows from wk\n",
    "wk.drop(wk[wk['LINEID'] == '16D'].index, inplace = True)"
   ]
  },
  {
   "cell_type": "code",
   "execution_count": 71,
   "id": "720f5491",
   "metadata": {},
   "outputs": [
    {
     "data": {
      "text/html": [
       "<div>\n",
       "<style scoped>\n",
       "    .dataframe tbody tr th:only-of-type {\n",
       "        vertical-align: middle;\n",
       "    }\n",
       "\n",
       "    .dataframe tbody tr th {\n",
       "        vertical-align: top;\n",
       "    }\n",
       "\n",
       "    .dataframe thead th {\n",
       "        text-align: right;\n",
       "    }\n",
       "</style>\n",
       "<table border=\"1\" class=\"dataframe\">\n",
       "  <thead>\n",
       "    <tr style=\"text-align: right;\">\n",
       "      <th></th>\n",
       "      <th>DAYOFSERVICE</th>\n",
       "      <th>TRIPID</th>\n",
       "      <th>PROGRNUMBER</th>\n",
       "      <th>STOPPOINTID</th>\n",
       "      <th>PLANNEDTIME_ARR</th>\n",
       "      <th>PLANNEDTIME_DEP</th>\n",
       "      <th>ACTUALTIME_ARR</th>\n",
       "      <th>ACTUALTIME_DEP</th>\n",
       "      <th>VEHICLEID</th>\n",
       "      <th>year</th>\n",
       "      <th>...</th>\n",
       "      <th>id</th>\n",
       "      <th>trip_leave_id</th>\n",
       "      <th>LINEID</th>\n",
       "      <th>num_lineID</th>\n",
       "      <th>DIRECTION</th>\n",
       "      <th>actual_duration</th>\n",
       "      <th>dayOfWeek</th>\n",
       "      <th>weekend</th>\n",
       "      <th>rushHour</th>\n",
       "      <th>actualARR_hour</th>\n",
       "    </tr>\n",
       "  </thead>\n",
       "  <tbody>\n",
       "    <tr>\n",
       "      <th>55208</th>\n",
       "      <td>2018-12-03</td>\n",
       "      <td>8156125</td>\n",
       "      <td>1</td>\n",
       "      <td>292</td>\n",
       "      <td>25200</td>\n",
       "      <td>25200</td>\n",
       "      <td>25200</td>\n",
       "      <td>25200</td>\n",
       "      <td>1000138</td>\n",
       "      <td>2018</td>\n",
       "      <td>...</td>\n",
       "      <td>20181203815612501</td>\n",
       "      <td>201812038156125</td>\n",
       "      <td>33E</td>\n",
       "      <td>59</td>\n",
       "      <td>1</td>\n",
       "      <td>6027</td>\n",
       "      <td>0</td>\n",
       "      <td>0</td>\n",
       "      <td>0</td>\n",
       "      <td>7</td>\n",
       "    </tr>\n",
       "    <tr>\n",
       "      <th>55209</th>\n",
       "      <td>2018-12-03</td>\n",
       "      <td>8156125</td>\n",
       "      <td>2</td>\n",
       "      <td>1171</td>\n",
       "      <td>25238</td>\n",
       "      <td>25238</td>\n",
       "      <td>25238</td>\n",
       "      <td>25238</td>\n",
       "      <td>1000138</td>\n",
       "      <td>2018</td>\n",
       "      <td>...</td>\n",
       "      <td>20181203815612502</td>\n",
       "      <td>201812038156125</td>\n",
       "      <td>33E</td>\n",
       "      <td>59</td>\n",
       "      <td>1</td>\n",
       "      <td>6027</td>\n",
       "      <td>0</td>\n",
       "      <td>0</td>\n",
       "      <td>0</td>\n",
       "      <td>7</td>\n",
       "    </tr>\n",
       "    <tr>\n",
       "      <th>55210</th>\n",
       "      <td>2018-12-03</td>\n",
       "      <td>8156125</td>\n",
       "      <td>3</td>\n",
       "      <td>1172</td>\n",
       "      <td>25271</td>\n",
       "      <td>25271</td>\n",
       "      <td>25271</td>\n",
       "      <td>25271</td>\n",
       "      <td>1000138</td>\n",
       "      <td>2018</td>\n",
       "      <td>...</td>\n",
       "      <td>20181203815612503</td>\n",
       "      <td>201812038156125</td>\n",
       "      <td>33E</td>\n",
       "      <td>59</td>\n",
       "      <td>1</td>\n",
       "      <td>6027</td>\n",
       "      <td>0</td>\n",
       "      <td>0</td>\n",
       "      <td>0</td>\n",
       "      <td>7</td>\n",
       "    </tr>\n",
       "    <tr>\n",
       "      <th>55211</th>\n",
       "      <td>2018-12-03</td>\n",
       "      <td>8156125</td>\n",
       "      <td>4</td>\n",
       "      <td>1173</td>\n",
       "      <td>25319</td>\n",
       "      <td>25319</td>\n",
       "      <td>25319</td>\n",
       "      <td>25319</td>\n",
       "      <td>1000138</td>\n",
       "      <td>2018</td>\n",
       "      <td>...</td>\n",
       "      <td>20181203815612504</td>\n",
       "      <td>201812038156125</td>\n",
       "      <td>33E</td>\n",
       "      <td>59</td>\n",
       "      <td>1</td>\n",
       "      <td>6027</td>\n",
       "      <td>0</td>\n",
       "      <td>0</td>\n",
       "      <td>0</td>\n",
       "      <td>7</td>\n",
       "    </tr>\n",
       "    <tr>\n",
       "      <th>55212</th>\n",
       "      <td>2018-12-03</td>\n",
       "      <td>8156125</td>\n",
       "      <td>5</td>\n",
       "      <td>1174</td>\n",
       "      <td>25380</td>\n",
       "      <td>25380</td>\n",
       "      <td>25380</td>\n",
       "      <td>25380</td>\n",
       "      <td>1000138</td>\n",
       "      <td>2018</td>\n",
       "      <td>...</td>\n",
       "      <td>20181203815612505</td>\n",
       "      <td>201812038156125</td>\n",
       "      <td>33E</td>\n",
       "      <td>59</td>\n",
       "      <td>1</td>\n",
       "      <td>6027</td>\n",
       "      <td>0</td>\n",
       "      <td>0</td>\n",
       "      <td>0</td>\n",
       "      <td>7</td>\n",
       "    </tr>\n",
       "  </tbody>\n",
       "</table>\n",
       "<p>5 rows × 22 columns</p>\n",
       "</div>"
      ],
      "text/plain": [
       "      DAYOFSERVICE   TRIPID  PROGRNUMBER  STOPPOINTID  PLANNEDTIME_ARR  \\\n",
       "55208   2018-12-03  8156125            1          292            25200   \n",
       "55209   2018-12-03  8156125            2         1171            25238   \n",
       "55210   2018-12-03  8156125            3         1172            25271   \n",
       "55211   2018-12-03  8156125            4         1173            25319   \n",
       "55212   2018-12-03  8156125            5         1174            25380   \n",
       "\n",
       "       PLANNEDTIME_DEP  ACTUALTIME_ARR  ACTUALTIME_DEP  VEHICLEID  year  ...  \\\n",
       "55208            25200           25200           25200    1000138  2018  ...   \n",
       "55209            25238           25238           25238    1000138  2018  ...   \n",
       "55210            25271           25271           25271    1000138  2018  ...   \n",
       "55211            25319           25319           25319    1000138  2018  ...   \n",
       "55212            25380           25380           25380    1000138  2018  ...   \n",
       "\n",
       "                      id    trip_leave_id  LINEID  num_lineID DIRECTION  \\\n",
       "55208  20181203815612501  201812038156125     33E          59         1   \n",
       "55209  20181203815612502  201812038156125     33E          59         1   \n",
       "55210  20181203815612503  201812038156125     33E          59         1   \n",
       "55211  20181203815612504  201812038156125     33E          59         1   \n",
       "55212  20181203815612505  201812038156125     33E          59         1   \n",
       "\n",
       "       actual_duration  dayOfWeek  weekend  rushHour  actualARR_hour  \n",
       "55208             6027          0        0         0               7  \n",
       "55209             6027          0        0         0               7  \n",
       "55210             6027          0        0         0               7  \n",
       "55211             6027          0        0         0               7  \n",
       "55212             6027          0        0         0               7  \n",
       "\n",
       "[5 rows x 22 columns]"
      ]
     },
     "execution_count": 71,
     "metadata": {},
     "output_type": "execute_result"
    }
   ],
   "source": [
    "wk.head()"
   ]
  },
  {
   "cell_type": "code",
   "execution_count": 72,
   "id": "ddff214c",
   "metadata": {},
   "outputs": [
    {
     "data": {
      "text/plain": [
       "(2021, 22)"
      ]
     },
     "execution_count": 72,
     "metadata": {},
     "output_type": "execute_result"
    }
   ],
   "source": [
    "wk.shape"
   ]
  },
  {
   "cell_type": "markdown",
   "id": "93a5421b",
   "metadata": {},
   "source": [
    "<h3>Send to CSV</h3>"
   ]
  },
  {
   "cell_type": "code",
   "execution_count": 73,
   "id": "db5adc85",
   "metadata": {},
   "outputs": [],
   "source": [
    "# Send df to csv:\n",
    "lwk.to_csv('v5_16D_tripLeave6_sp8.csv', index=False)"
   ]
  },
  {
   "cell_type": "markdown",
   "id": "22d4967d",
   "metadata": {},
   "source": [
    "## Route 33E"
   ]
  },
  {
   "cell_type": "code",
   "execution_count": 74,
   "id": "bf3194ae",
   "metadata": {},
   "outputs": [],
   "source": [
    "lwk = wk[(wk['LINEID'] == '33E')]"
   ]
  },
  {
   "cell_type": "code",
   "execution_count": 75,
   "id": "716cc5f7",
   "metadata": {},
   "outputs": [
    {
     "data": {
      "text/plain": [
       "(1452, 22)"
      ]
     },
     "execution_count": 75,
     "metadata": {},
     "output_type": "execute_result"
    }
   ],
   "source": [
    "lwk.shape"
   ]
  },
  {
   "cell_type": "code",
   "execution_count": 76,
   "id": "35acae7d",
   "metadata": {},
   "outputs": [],
   "source": [
    "# Drop Route 33E rows from wk\n",
    "wk.drop(wk[wk['LINEID'] == '33E'].index, inplace = True)"
   ]
  },
  {
   "cell_type": "code",
   "execution_count": 77,
   "id": "4c542da6",
   "metadata": {},
   "outputs": [
    {
     "data": {
      "text/html": [
       "<div>\n",
       "<style scoped>\n",
       "    .dataframe tbody tr th:only-of-type {\n",
       "        vertical-align: middle;\n",
       "    }\n",
       "\n",
       "    .dataframe tbody tr th {\n",
       "        vertical-align: top;\n",
       "    }\n",
       "\n",
       "    .dataframe thead th {\n",
       "        text-align: right;\n",
       "    }\n",
       "</style>\n",
       "<table border=\"1\" class=\"dataframe\">\n",
       "  <thead>\n",
       "    <tr style=\"text-align: right;\">\n",
       "      <th></th>\n",
       "      <th>DAYOFSERVICE</th>\n",
       "      <th>TRIPID</th>\n",
       "      <th>PROGRNUMBER</th>\n",
       "      <th>STOPPOINTID</th>\n",
       "      <th>PLANNEDTIME_ARR</th>\n",
       "      <th>PLANNEDTIME_DEP</th>\n",
       "      <th>ACTUALTIME_ARR</th>\n",
       "      <th>ACTUALTIME_DEP</th>\n",
       "      <th>VEHICLEID</th>\n",
       "      <th>year</th>\n",
       "      <th>...</th>\n",
       "      <th>id</th>\n",
       "      <th>trip_leave_id</th>\n",
       "      <th>LINEID</th>\n",
       "      <th>num_lineID</th>\n",
       "      <th>DIRECTION</th>\n",
       "      <th>actual_duration</th>\n",
       "      <th>dayOfWeek</th>\n",
       "      <th>weekend</th>\n",
       "      <th>rushHour</th>\n",
       "      <th>actualARR_hour</th>\n",
       "    </tr>\n",
       "  </thead>\n",
       "  <tbody>\n",
       "    <tr>\n",
       "      <th>74487</th>\n",
       "      <td>2018-12-11</td>\n",
       "      <td>8173537</td>\n",
       "      <td>1</td>\n",
       "      <td>288</td>\n",
       "      <td>28200</td>\n",
       "      <td>28200</td>\n",
       "      <td>28200</td>\n",
       "      <td>28200</td>\n",
       "      <td>1932358</td>\n",
       "      <td>2018</td>\n",
       "      <td>...</td>\n",
       "      <td>20181211817353701</td>\n",
       "      <td>201812118173537</td>\n",
       "      <td>41D</td>\n",
       "      <td>78</td>\n",
       "      <td>1</td>\n",
       "      <td>3269</td>\n",
       "      <td>1</td>\n",
       "      <td>0</td>\n",
       "      <td>1</td>\n",
       "      <td>8</td>\n",
       "    </tr>\n",
       "    <tr>\n",
       "      <th>74488</th>\n",
       "      <td>2018-12-11</td>\n",
       "      <td>8173537</td>\n",
       "      <td>2</td>\n",
       "      <td>1171</td>\n",
       "      <td>28242</td>\n",
       "      <td>28242</td>\n",
       "      <td>28242</td>\n",
       "      <td>28242</td>\n",
       "      <td>1932358</td>\n",
       "      <td>2018</td>\n",
       "      <td>...</td>\n",
       "      <td>20181211817353702</td>\n",
       "      <td>201812118173537</td>\n",
       "      <td>41D</td>\n",
       "      <td>78</td>\n",
       "      <td>1</td>\n",
       "      <td>3269</td>\n",
       "      <td>1</td>\n",
       "      <td>0</td>\n",
       "      <td>1</td>\n",
       "      <td>8</td>\n",
       "    </tr>\n",
       "    <tr>\n",
       "      <th>74489</th>\n",
       "      <td>2018-12-11</td>\n",
       "      <td>8173537</td>\n",
       "      <td>3</td>\n",
       "      <td>1172</td>\n",
       "      <td>28274</td>\n",
       "      <td>28274</td>\n",
       "      <td>28274</td>\n",
       "      <td>28274</td>\n",
       "      <td>1932358</td>\n",
       "      <td>2018</td>\n",
       "      <td>...</td>\n",
       "      <td>20181211817353703</td>\n",
       "      <td>201812118173537</td>\n",
       "      <td>41D</td>\n",
       "      <td>78</td>\n",
       "      <td>1</td>\n",
       "      <td>3269</td>\n",
       "      <td>1</td>\n",
       "      <td>0</td>\n",
       "      <td>1</td>\n",
       "      <td>8</td>\n",
       "    </tr>\n",
       "    <tr>\n",
       "      <th>74490</th>\n",
       "      <td>2018-12-11</td>\n",
       "      <td>8173537</td>\n",
       "      <td>4</td>\n",
       "      <td>1173</td>\n",
       "      <td>28320</td>\n",
       "      <td>28320</td>\n",
       "      <td>28320</td>\n",
       "      <td>28320</td>\n",
       "      <td>1932358</td>\n",
       "      <td>2018</td>\n",
       "      <td>...</td>\n",
       "      <td>20181211817353704</td>\n",
       "      <td>201812118173537</td>\n",
       "      <td>41D</td>\n",
       "      <td>78</td>\n",
       "      <td>1</td>\n",
       "      <td>3269</td>\n",
       "      <td>1</td>\n",
       "      <td>0</td>\n",
       "      <td>1</td>\n",
       "      <td>8</td>\n",
       "    </tr>\n",
       "    <tr>\n",
       "      <th>74491</th>\n",
       "      <td>2018-12-11</td>\n",
       "      <td>8173537</td>\n",
       "      <td>5</td>\n",
       "      <td>1174</td>\n",
       "      <td>28380</td>\n",
       "      <td>28380</td>\n",
       "      <td>28380</td>\n",
       "      <td>28380</td>\n",
       "      <td>1932358</td>\n",
       "      <td>2018</td>\n",
       "      <td>...</td>\n",
       "      <td>20181211817353705</td>\n",
       "      <td>201812118173537</td>\n",
       "      <td>41D</td>\n",
       "      <td>78</td>\n",
       "      <td>1</td>\n",
       "      <td>3269</td>\n",
       "      <td>1</td>\n",
       "      <td>0</td>\n",
       "      <td>1</td>\n",
       "      <td>8</td>\n",
       "    </tr>\n",
       "  </tbody>\n",
       "</table>\n",
       "<p>5 rows × 22 columns</p>\n",
       "</div>"
      ],
      "text/plain": [
       "      DAYOFSERVICE   TRIPID  PROGRNUMBER  STOPPOINTID  PLANNEDTIME_ARR  \\\n",
       "74487   2018-12-11  8173537            1          288            28200   \n",
       "74488   2018-12-11  8173537            2         1171            28242   \n",
       "74489   2018-12-11  8173537            3         1172            28274   \n",
       "74490   2018-12-11  8173537            4         1173            28320   \n",
       "74491   2018-12-11  8173537            5         1174            28380   \n",
       "\n",
       "       PLANNEDTIME_DEP  ACTUALTIME_ARR  ACTUALTIME_DEP  VEHICLEID  year  ...  \\\n",
       "74487            28200           28200           28200    1932358  2018  ...   \n",
       "74488            28242           28242           28242    1932358  2018  ...   \n",
       "74489            28274           28274           28274    1932358  2018  ...   \n",
       "74490            28320           28320           28320    1932358  2018  ...   \n",
       "74491            28380           28380           28380    1932358  2018  ...   \n",
       "\n",
       "                      id    trip_leave_id  LINEID  num_lineID DIRECTION  \\\n",
       "74487  20181211817353701  201812118173537     41D          78         1   \n",
       "74488  20181211817353702  201812118173537     41D          78         1   \n",
       "74489  20181211817353703  201812118173537     41D          78         1   \n",
       "74490  20181211817353704  201812118173537     41D          78         1   \n",
       "74491  20181211817353705  201812118173537     41D          78         1   \n",
       "\n",
       "       actual_duration  dayOfWeek  weekend  rushHour  actualARR_hour  \n",
       "74487             3269          1        0         1               8  \n",
       "74488             3269          1        0         1               8  \n",
       "74489             3269          1        0         1               8  \n",
       "74490             3269          1        0         1               8  \n",
       "74491             3269          1        0         1               8  \n",
       "\n",
       "[5 rows x 22 columns]"
      ]
     },
     "execution_count": 77,
     "metadata": {},
     "output_type": "execute_result"
    }
   ],
   "source": [
    "wk.head()"
   ]
  },
  {
   "cell_type": "code",
   "execution_count": 78,
   "id": "5cf68458",
   "metadata": {},
   "outputs": [
    {
     "data": {
      "text/plain": [
       "(569, 22)"
      ]
     },
     "execution_count": 78,
     "metadata": {},
     "output_type": "execute_result"
    }
   ],
   "source": [
    "wk.shape"
   ]
  },
  {
   "cell_type": "markdown",
   "id": "523dc3c7",
   "metadata": {},
   "source": [
    "<h3>Send to CSV</h3>"
   ]
  },
  {
   "cell_type": "code",
   "execution_count": 79,
   "id": "805ec743",
   "metadata": {},
   "outputs": [],
   "source": [
    "# Send df to csv:\n",
    "lwk.to_csv('v5_33E_tripLeave6_sp8.csv', index=False)"
   ]
  },
  {
   "cell_type": "markdown",
   "id": "0823372f",
   "metadata": {},
   "source": [
    "## Route 41D"
   ]
  },
  {
   "cell_type": "code",
   "execution_count": 80,
   "id": "95f2a15d",
   "metadata": {},
   "outputs": [],
   "source": [
    "lwk = wk[(wk['LINEID'] == '41D')]"
   ]
  },
  {
   "cell_type": "code",
   "execution_count": 81,
   "id": "efd13dd0",
   "metadata": {},
   "outputs": [
    {
     "data": {
      "text/plain": [
       "(569, 22)"
      ]
     },
     "execution_count": 81,
     "metadata": {},
     "output_type": "execute_result"
    }
   ],
   "source": [
    "lwk.shape"
   ]
  },
  {
   "cell_type": "code",
   "execution_count": 82,
   "id": "51c29c44",
   "metadata": {},
   "outputs": [],
   "source": [
    "# Drop Route 41D rows from wk\n",
    "wk.drop(wk[wk['LINEID'] == '41D'].index, inplace = True)"
   ]
  },
  {
   "cell_type": "code",
   "execution_count": 83,
   "id": "4e6a1c0e",
   "metadata": {},
   "outputs": [
    {
     "data": {
      "text/html": [
       "<div>\n",
       "<style scoped>\n",
       "    .dataframe tbody tr th:only-of-type {\n",
       "        vertical-align: middle;\n",
       "    }\n",
       "\n",
       "    .dataframe tbody tr th {\n",
       "        vertical-align: top;\n",
       "    }\n",
       "\n",
       "    .dataframe thead th {\n",
       "        text-align: right;\n",
       "    }\n",
       "</style>\n",
       "<table border=\"1\" class=\"dataframe\">\n",
       "  <thead>\n",
       "    <tr style=\"text-align: right;\">\n",
       "      <th></th>\n",
       "      <th>DAYOFSERVICE</th>\n",
       "      <th>TRIPID</th>\n",
       "      <th>PROGRNUMBER</th>\n",
       "      <th>STOPPOINTID</th>\n",
       "      <th>PLANNEDTIME_ARR</th>\n",
       "      <th>PLANNEDTIME_DEP</th>\n",
       "      <th>ACTUALTIME_ARR</th>\n",
       "      <th>ACTUALTIME_DEP</th>\n",
       "      <th>VEHICLEID</th>\n",
       "      <th>year</th>\n",
       "      <th>...</th>\n",
       "      <th>id</th>\n",
       "      <th>trip_leave_id</th>\n",
       "      <th>LINEID</th>\n",
       "      <th>num_lineID</th>\n",
       "      <th>DIRECTION</th>\n",
       "      <th>actual_duration</th>\n",
       "      <th>dayOfWeek</th>\n",
       "      <th>weekend</th>\n",
       "      <th>rushHour</th>\n",
       "      <th>actualARR_hour</th>\n",
       "    </tr>\n",
       "  </thead>\n",
       "  <tbody>\n",
       "  </tbody>\n",
       "</table>\n",
       "<p>0 rows × 22 columns</p>\n",
       "</div>"
      ],
      "text/plain": [
       "Empty DataFrame\n",
       "Columns: [DAYOFSERVICE, TRIPID, PROGRNUMBER, STOPPOINTID, PLANNEDTIME_ARR, PLANNEDTIME_DEP, ACTUALTIME_ARR, ACTUALTIME_DEP, VEHICLEID, year, month, day, id, trip_leave_id, LINEID, num_lineID, DIRECTION, actual_duration, dayOfWeek, weekend, rushHour, actualARR_hour]\n",
       "Index: []\n",
       "\n",
       "[0 rows x 22 columns]"
      ]
     },
     "execution_count": 83,
     "metadata": {},
     "output_type": "execute_result"
    }
   ],
   "source": [
    "wk.head()"
   ]
  },
  {
   "cell_type": "code",
   "execution_count": 84,
   "id": "86d2c72b",
   "metadata": {},
   "outputs": [
    {
     "data": {
      "text/plain": [
       "(0, 22)"
      ]
     },
     "execution_count": 84,
     "metadata": {},
     "output_type": "execute_result"
    }
   ],
   "source": [
    "wk.shape"
   ]
  },
  {
   "cell_type": "markdown",
   "id": "51be6963",
   "metadata": {},
   "source": [
    "<h3>Send to CSV</h3>"
   ]
  },
  {
   "cell_type": "code",
   "execution_count": 85,
   "id": "f67b4c51",
   "metadata": {},
   "outputs": [],
   "source": [
    "# Send df to csv:\n",
    "lwk.to_csv('v5_41D_tripLeave6_sp8.csv', index=False)"
   ]
  },
  {
   "cell_type": "markdown",
   "id": "868a29bc",
   "metadata": {},
   "source": [
    "## Route 70D"
   ]
  },
  {
   "cell_type": "code",
   "execution_count": null,
   "id": "0b86b72a",
   "metadata": {},
   "outputs": [],
   "source": [
    "lwk = wk[(wk['LINEID'] == '70D')]"
   ]
  },
  {
   "cell_type": "code",
   "execution_count": null,
   "id": "6e7237d7",
   "metadata": {},
   "outputs": [],
   "source": [
    "lwk.shape"
   ]
  },
  {
   "cell_type": "code",
   "execution_count": null,
   "id": "816a6c2a",
   "metadata": {},
   "outputs": [],
   "source": [
    "# Drop Route 70D rows from wk\n",
    "wk.drop(wk[wk['LINEID'] == '70D'].index, inplace = True)"
   ]
  },
  {
   "cell_type": "code",
   "execution_count": null,
   "id": "8034db3f",
   "metadata": {},
   "outputs": [],
   "source": [
    "wk.head()"
   ]
  },
  {
   "cell_type": "code",
   "execution_count": null,
   "id": "8f56a08c",
   "metadata": {},
   "outputs": [],
   "source": [
    "wk.shape"
   ]
  },
  {
   "cell_type": "markdown",
   "id": "4ebceb8a",
   "metadata": {},
   "source": [
    "<h3>Send to CSV</h3>"
   ]
  },
  {
   "cell_type": "code",
   "execution_count": null,
   "id": "11c254f2",
   "metadata": {},
   "outputs": [],
   "source": [
    "# Send df to csv:\n",
    "lwk.to_csv('v5_70D_tripLeave6_sp8.csv', index=False)"
   ]
  },
  {
   "cell_type": "markdown",
   "id": "771fedce",
   "metadata": {},
   "source": [
    "## Route 236"
   ]
  },
  {
   "cell_type": "code",
   "execution_count": null,
   "id": "439a324e",
   "metadata": {},
   "outputs": [],
   "source": [
    "lwk = wk[(wk['LINEID'] == '236')]"
   ]
  },
  {
   "cell_type": "code",
   "execution_count": null,
   "id": "f3611ec3",
   "metadata": {},
   "outputs": [],
   "source": [
    "lwk.shape"
   ]
  },
  {
   "cell_type": "code",
   "execution_count": null,
   "id": "9538fd38",
   "metadata": {},
   "outputs": [],
   "source": [
    "# Drop Route 236 rows from wk\n",
    "wk.drop(wk[wk['LINEID'] == '236'].index, inplace = True)"
   ]
  },
  {
   "cell_type": "code",
   "execution_count": null,
   "id": "fbf7be4c",
   "metadata": {},
   "outputs": [],
   "source": [
    "wk.head()"
   ]
  },
  {
   "cell_type": "code",
   "execution_count": null,
   "id": "fea85771",
   "metadata": {},
   "outputs": [],
   "source": [
    "wk.shape"
   ]
  },
  {
   "cell_type": "markdown",
   "id": "325fea57",
   "metadata": {},
   "source": [
    "<h3>Send to CSV</h3>"
   ]
  },
  {
   "cell_type": "code",
   "execution_count": null,
   "id": "ceda339b",
   "metadata": {},
   "outputs": [],
   "source": [
    "# Send df to csv:\n",
    "lwk.to_csv('v5_236_tripLeave6_sp8.csv', index=False)"
   ]
  },
  {
   "cell_type": "markdown",
   "id": "86b5f4b7",
   "metadata": {},
   "source": [
    "## Route 41X"
   ]
  },
  {
   "cell_type": "code",
   "execution_count": null,
   "id": "f0f742b0",
   "metadata": {},
   "outputs": [],
   "source": [
    "lwk = wk[(wk['LINEID'] == '41X')]"
   ]
  },
  {
   "cell_type": "code",
   "execution_count": null,
   "id": "631b7a20",
   "metadata": {},
   "outputs": [],
   "source": [
    "lwk.shape"
   ]
  },
  {
   "cell_type": "code",
   "execution_count": null,
   "id": "ac78354c",
   "metadata": {},
   "outputs": [],
   "source": [
    "# Drop Route 41X rows from wk\n",
    "wk.drop(wk[wk['LINEID'] == '41X'].index, inplace = True)"
   ]
  },
  {
   "cell_type": "code",
   "execution_count": null,
   "id": "c9470d40",
   "metadata": {},
   "outputs": [],
   "source": [
    "wk.head()"
   ]
  },
  {
   "cell_type": "code",
   "execution_count": null,
   "id": "ab362154",
   "metadata": {},
   "outputs": [],
   "source": [
    "wk.shape"
   ]
  },
  {
   "cell_type": "markdown",
   "id": "6589fd12",
   "metadata": {},
   "source": [
    "<h3>Send to CSV</h3>"
   ]
  },
  {
   "cell_type": "code",
   "execution_count": null,
   "id": "073558bd",
   "metadata": {},
   "outputs": [],
   "source": [
    "# Send df to csv:\n",
    "lwk.to_csv('v5_41X_tripLeave6_sp8.csv', index=False)"
   ]
  },
  {
   "cell_type": "markdown",
   "id": "3469b22f",
   "metadata": {},
   "source": [
    "## Route 31B"
   ]
  },
  {
   "cell_type": "code",
   "execution_count": null,
   "id": "d8c02809",
   "metadata": {},
   "outputs": [],
   "source": [
    "lwk = wk[(wk['LINEID'] == '31B')]"
   ]
  },
  {
   "cell_type": "code",
   "execution_count": null,
   "id": "41617c49",
   "metadata": {},
   "outputs": [],
   "source": [
    "lwk.shape"
   ]
  },
  {
   "cell_type": "code",
   "execution_count": null,
   "id": "27ff399a",
   "metadata": {},
   "outputs": [],
   "source": [
    "# Drop Route 31B rows from wk\n",
    "wk.drop(wk[wk['LINEID'] == '31B'].index, inplace = True)"
   ]
  },
  {
   "cell_type": "code",
   "execution_count": null,
   "id": "288aaa19",
   "metadata": {},
   "outputs": [],
   "source": [
    "wk.head()"
   ]
  },
  {
   "cell_type": "code",
   "execution_count": null,
   "id": "3c62176b",
   "metadata": {},
   "outputs": [],
   "source": [
    "wk.shape"
   ]
  },
  {
   "cell_type": "markdown",
   "id": "4151ec7a",
   "metadata": {},
   "source": [
    "<h3>Send to CSV</h3>"
   ]
  },
  {
   "cell_type": "code",
   "execution_count": null,
   "id": "5407d6cc",
   "metadata": {},
   "outputs": [],
   "source": [
    "# Send df to csv:\n",
    "lwk.to_csv('v5_31B_tripLeave6_sp8.csv', index=False)"
   ]
  },
  {
   "cell_type": "markdown",
   "id": "621c727d",
   "metadata": {},
   "source": [
    "## Route 14C"
   ]
  },
  {
   "cell_type": "code",
   "execution_count": null,
   "id": "afe67f5d",
   "metadata": {},
   "outputs": [],
   "source": [
    "lwk = wk[(wk['LINEID'] == '14C')]"
   ]
  },
  {
   "cell_type": "code",
   "execution_count": null,
   "id": "cba22090",
   "metadata": {},
   "outputs": [],
   "source": [
    "lwk.shape"
   ]
  },
  {
   "cell_type": "code",
   "execution_count": null,
   "id": "1508ac1d",
   "metadata": {},
   "outputs": [],
   "source": [
    "# Drop Route 14C rows from wk\n",
    "wk.drop(wk[wk['LINEID'] == '14C'].index, inplace = True)"
   ]
  },
  {
   "cell_type": "code",
   "execution_count": null,
   "id": "21d2e6ea",
   "metadata": {},
   "outputs": [],
   "source": [
    "wk.head()"
   ]
  },
  {
   "cell_type": "code",
   "execution_count": null,
   "id": "4a7cec71",
   "metadata": {},
   "outputs": [],
   "source": [
    "wk.shape"
   ]
  },
  {
   "cell_type": "markdown",
   "id": "381660d2",
   "metadata": {},
   "source": [
    "<h3>Send to CSV</h3>"
   ]
  },
  {
   "cell_type": "code",
   "execution_count": null,
   "id": "96683213",
   "metadata": {},
   "outputs": [],
   "source": [
    "# Send df to csv:\n",
    "lwk.to_csv('v5_14C_tripLeave6_sp8.csv', index=False)"
   ]
  },
  {
   "cell_type": "markdown",
   "id": "e082232a",
   "metadata": {},
   "source": [
    "## Continue v5_tripLeave6_route_split_9"
   ]
  },
  {
   "cell_type": "code",
   "execution_count": null,
   "id": "647c1774",
   "metadata": {},
   "outputs": [],
   "source": [
    "# Send df to csv:\n",
    "wk.to_csv('v5_tripLeave6_route_split_9.csv', index=False)"
   ]
  },
  {
   "cell_type": "code",
   "execution_count": null,
   "id": "c4a5925f",
   "metadata": {},
   "outputs": [],
   "source": []
  }
 ],
 "metadata": {
  "kernelspec": {
   "display_name": "Python 3 (ipykernel)",
   "language": "python",
   "name": "python3"
  },
  "language_info": {
   "codemirror_mode": {
    "name": "ipython",
    "version": 3
   },
   "file_extension": ".py",
   "mimetype": "text/x-python",
   "name": "python",
   "nbconvert_exporter": "python",
   "pygments_lexer": "ipython3",
   "version": "3.10.4"
  }
 },
 "nbformat": 4,
 "nbformat_minor": 5
}
