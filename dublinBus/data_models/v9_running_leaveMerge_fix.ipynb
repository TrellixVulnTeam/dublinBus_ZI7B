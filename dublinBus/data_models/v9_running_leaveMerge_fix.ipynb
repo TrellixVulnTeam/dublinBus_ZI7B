{
 "cells": [
  {
   "cell_type": "code",
   "execution_count": 1,
   "id": "54791ab7",
   "metadata": {},
   "outputs": [],
   "source": [
    "# Library Imports.\n",
    "import pandas as pd\n",
    "\n",
    "import numpy as np"
   ]
  },
  {
   "cell_type": "code",
   "execution_count": 88,
   "id": "f3c4ad99",
   "metadata": {},
   "outputs": [],
   "source": [
    "rt = pd.read_csv('v8c_route_9.csv', keep_default_na=True, delimiter=',', skipinitialspace=True)"
   ]
  },
  {
   "cell_type": "code",
   "execution_count": 89,
   "id": "13e13e6b",
   "metadata": {},
   "outputs": [
    {
     "data": {
      "text/plain": [
       "(2681064, 26)"
      ]
     },
     "execution_count": 89,
     "metadata": {},
     "output_type": "execute_result"
    }
   ],
   "source": [
    "rt.shape"
   ]
  },
  {
   "cell_type": "code",
   "execution_count": null,
   "id": "9cd5f5c9",
   "metadata": {},
   "outputs": [],
   "source": [
    "rt.head()"
   ]
  },
  {
   "cell_type": "markdown",
   "id": "5137990f",
   "metadata": {},
   "source": [
    "## Leave 1"
   ]
  },
  {
   "cell_type": "code",
   "execution_count": 90,
   "id": "7f4cbe21",
   "metadata": {},
   "outputs": [],
   "source": [
    "leave = pd.read_csv('v8b_leave1.csv', keep_default_na=True, delimiter=',', skipinitialspace=True)"
   ]
  },
  {
   "cell_type": "code",
   "execution_count": 91,
   "id": "2458ca5d",
   "metadata": {},
   "outputs": [
    {
     "data": {
      "text/plain": [
       "(19491519, 2)"
      ]
     },
     "execution_count": 91,
     "metadata": {},
     "output_type": "execute_result"
    }
   ],
   "source": [
    "leave.shape"
   ]
  },
  {
   "cell_type": "code",
   "execution_count": null,
   "id": "878cb4ff",
   "metadata": {},
   "outputs": [],
   "source": [
    "leave.head()"
   ]
  },
  {
   "cell_type": "markdown",
   "id": "34f523ce",
   "metadata": {},
   "source": [
    "## Rename Column"
   ]
  },
  {
   "cell_type": "code",
   "execution_count": 92,
   "id": "bf87660b",
   "metadata": {},
   "outputs": [],
   "source": [
    "leave.rename(columns = {'ACTUALTIME_ARR':'act_stp_arr_1'}, inplace = True)"
   ]
  },
  {
   "cell_type": "code",
   "execution_count": null,
   "id": "0fe0272c",
   "metadata": {},
   "outputs": [],
   "source": [
    "leave.head()"
   ]
  },
  {
   "cell_type": "markdown",
   "id": "214ea419",
   "metadata": {},
   "source": [
    "## Merge Leave1"
   ]
  },
  {
   "cell_type": "code",
   "execution_count": 93,
   "id": "43640916",
   "metadata": {},
   "outputs": [],
   "source": [
    "rtleave = pd.merge(rt, leave, how=\"left\", on=[\"dos_trpID_stpID_prgNum\"])"
   ]
  },
  {
   "cell_type": "code",
   "execution_count": 94,
   "id": "bac6adca",
   "metadata": {},
   "outputs": [
    {
     "data": {
      "text/plain": [
       "(2681064, 27)"
      ]
     },
     "execution_count": 94,
     "metadata": {},
     "output_type": "execute_result"
    }
   ],
   "source": [
    "rtleave.shape"
   ]
  },
  {
   "cell_type": "code",
   "execution_count": null,
   "id": "690a5cdf",
   "metadata": {},
   "outputs": [],
   "source": [
    "rtleave.head()"
   ]
  },
  {
   "cell_type": "code",
   "execution_count": null,
   "id": "7aa187dc",
   "metadata": {},
   "outputs": [],
   "source": [
    "rtleave.isnull().sum()"
   ]
  },
  {
   "cell_type": "markdown",
   "id": "f48cd284",
   "metadata": {},
   "source": [
    "## Leave 2"
   ]
  },
  {
   "cell_type": "code",
   "execution_count": 95,
   "id": "8311e4d2",
   "metadata": {},
   "outputs": [],
   "source": [
    "leave = pd.read_csv('v8b_leave2.csv', keep_default_na=True, delimiter=',', skipinitialspace=True)"
   ]
  },
  {
   "cell_type": "code",
   "execution_count": 96,
   "id": "d897bf63",
   "metadata": {},
   "outputs": [
    {
     "data": {
      "text/plain": [
       "(19491519, 2)"
      ]
     },
     "execution_count": 96,
     "metadata": {},
     "output_type": "execute_result"
    }
   ],
   "source": [
    "leave.shape"
   ]
  },
  {
   "cell_type": "code",
   "execution_count": null,
   "id": "32a911d3",
   "metadata": {},
   "outputs": [],
   "source": [
    "leave.head()"
   ]
  },
  {
   "cell_type": "markdown",
   "id": "785142f1",
   "metadata": {},
   "source": [
    "## Rename Column"
   ]
  },
  {
   "cell_type": "code",
   "execution_count": 97,
   "id": "235e0743",
   "metadata": {},
   "outputs": [],
   "source": [
    "leave.rename(columns = {'ACTUALTIME_ARR':'act_stp_arr_2'}, inplace = True)"
   ]
  },
  {
   "cell_type": "code",
   "execution_count": null,
   "id": "e9224187",
   "metadata": {},
   "outputs": [],
   "source": [
    "leave.head()"
   ]
  },
  {
   "cell_type": "markdown",
   "id": "555236f5",
   "metadata": {},
   "source": [
    "## Merge Leave2"
   ]
  },
  {
   "cell_type": "code",
   "execution_count": 98,
   "id": "8ff1aca2",
   "metadata": {},
   "outputs": [],
   "source": [
    "rtleave = pd.merge(rtleave, leave, how=\"left\", on=[\"dos_trpID_stpID_prgNum\"])"
   ]
  },
  {
   "cell_type": "code",
   "execution_count": 99,
   "id": "644aac7a",
   "metadata": {},
   "outputs": [
    {
     "data": {
      "text/plain": [
       "(2681064, 28)"
      ]
     },
     "execution_count": 99,
     "metadata": {},
     "output_type": "execute_result"
    }
   ],
   "source": [
    "rtleave.shape"
   ]
  },
  {
   "cell_type": "code",
   "execution_count": null,
   "id": "c0770b76",
   "metadata": {},
   "outputs": [],
   "source": [
    "rtleave.head()"
   ]
  },
  {
   "cell_type": "code",
   "execution_count": null,
   "id": "d7ab79b5",
   "metadata": {},
   "outputs": [],
   "source": [
    "rtleave.isnull().sum()"
   ]
  },
  {
   "cell_type": "markdown",
   "id": "3e6e20b7",
   "metadata": {},
   "source": [
    "## Leave 3"
   ]
  },
  {
   "cell_type": "code",
   "execution_count": 100,
   "id": "4de9f554",
   "metadata": {},
   "outputs": [],
   "source": [
    "leave = pd.read_csv('v8b_leave3.csv', keep_default_na=True, delimiter=',', skipinitialspace=True)"
   ]
  },
  {
   "cell_type": "code",
   "execution_count": 101,
   "id": "864bb122",
   "metadata": {},
   "outputs": [
    {
     "data": {
      "text/plain": [
       "(19491519, 2)"
      ]
     },
     "execution_count": 101,
     "metadata": {},
     "output_type": "execute_result"
    }
   ],
   "source": [
    "leave.shape"
   ]
  },
  {
   "cell_type": "code",
   "execution_count": null,
   "id": "34fdc352",
   "metadata": {},
   "outputs": [],
   "source": [
    "leave.head()"
   ]
  },
  {
   "cell_type": "markdown",
   "id": "c6bfc49c",
   "metadata": {},
   "source": [
    "## Rename Column"
   ]
  },
  {
   "cell_type": "code",
   "execution_count": 102,
   "id": "c890298d",
   "metadata": {},
   "outputs": [],
   "source": [
    "leave.rename(columns = {'ACTUALTIME_ARR':'act_stp_arr_3'}, inplace = True)"
   ]
  },
  {
   "cell_type": "code",
   "execution_count": null,
   "id": "76ee92df",
   "metadata": {},
   "outputs": [],
   "source": [
    "leave.head()"
   ]
  },
  {
   "cell_type": "markdown",
   "id": "bcd85283",
   "metadata": {},
   "source": [
    "## Merge Leave 3"
   ]
  },
  {
   "cell_type": "code",
   "execution_count": 103,
   "id": "d72c3a33",
   "metadata": {},
   "outputs": [],
   "source": [
    "rtleave = pd.merge(rtleave, leave, how=\"left\", on=[\"dos_trpID_stpID_prgNum\"])"
   ]
  },
  {
   "cell_type": "code",
   "execution_count": 104,
   "id": "6a5c9420",
   "metadata": {},
   "outputs": [
    {
     "data": {
      "text/plain": [
       "(2681064, 29)"
      ]
     },
     "execution_count": 104,
     "metadata": {},
     "output_type": "execute_result"
    }
   ],
   "source": [
    "rtleave.shape"
   ]
  },
  {
   "cell_type": "code",
   "execution_count": null,
   "id": "850de11a",
   "metadata": {},
   "outputs": [],
   "source": [
    "rtleave.head()"
   ]
  },
  {
   "cell_type": "code",
   "execution_count": null,
   "id": "13fb8619",
   "metadata": {},
   "outputs": [],
   "source": [
    "rtleave.isnull().sum()"
   ]
  },
  {
   "cell_type": "markdown",
   "id": "f272a59a",
   "metadata": {},
   "source": [
    "## Leave 4"
   ]
  },
  {
   "cell_type": "code",
   "execution_count": 105,
   "id": "823e2c9f",
   "metadata": {},
   "outputs": [],
   "source": [
    "leave = pd.read_csv('v8b_leave4.csv', keep_default_na=True, delimiter=',', skipinitialspace=True)"
   ]
  },
  {
   "cell_type": "code",
   "execution_count": 106,
   "id": "e6f94b58",
   "metadata": {},
   "outputs": [
    {
     "data": {
      "text/plain": [
       "(19491519, 2)"
      ]
     },
     "execution_count": 106,
     "metadata": {},
     "output_type": "execute_result"
    }
   ],
   "source": [
    "leave.shape"
   ]
  },
  {
   "cell_type": "code",
   "execution_count": null,
   "id": "7e7b88b6",
   "metadata": {},
   "outputs": [],
   "source": [
    "leave.head()"
   ]
  },
  {
   "cell_type": "markdown",
   "id": "fd9bba20",
   "metadata": {},
   "source": [
    "## Rename Column"
   ]
  },
  {
   "cell_type": "code",
   "execution_count": 107,
   "id": "c18e55e9",
   "metadata": {},
   "outputs": [],
   "source": [
    "leave.rename(columns = {'ACTUALTIME_ARR':'act_stp_arr_4'}, inplace = True)"
   ]
  },
  {
   "cell_type": "code",
   "execution_count": null,
   "id": "da1f730e",
   "metadata": {},
   "outputs": [],
   "source": [
    "leave.head()"
   ]
  },
  {
   "cell_type": "markdown",
   "id": "d9e7794a",
   "metadata": {},
   "source": [
    "## Merge Leave 4"
   ]
  },
  {
   "cell_type": "code",
   "execution_count": 108,
   "id": "4937759a",
   "metadata": {},
   "outputs": [],
   "source": [
    "rtleave = pd.merge(rtleave, leave, how=\"left\", on=[\"dos_trpID_stpID_prgNum\"])"
   ]
  },
  {
   "cell_type": "code",
   "execution_count": 109,
   "id": "cf570c5b",
   "metadata": {},
   "outputs": [
    {
     "data": {
      "text/plain": [
       "(2681064, 30)"
      ]
     },
     "execution_count": 109,
     "metadata": {},
     "output_type": "execute_result"
    }
   ],
   "source": [
    "rtleave.shape"
   ]
  },
  {
   "cell_type": "code",
   "execution_count": null,
   "id": "e39cd3fc",
   "metadata": {},
   "outputs": [],
   "source": [
    "rtleave.head()"
   ]
  },
  {
   "cell_type": "code",
   "execution_count": null,
   "id": "abf58806",
   "metadata": {},
   "outputs": [],
   "source": [
    "rtleave.isnull().sum()"
   ]
  },
  {
   "cell_type": "markdown",
   "id": "c3bb15c4",
   "metadata": {},
   "source": [
    "## Leave 5"
   ]
  },
  {
   "cell_type": "code",
   "execution_count": 110,
   "id": "1040ad12",
   "metadata": {},
   "outputs": [],
   "source": [
    "leave = pd.read_csv('v8b_leave5.csv', keep_default_na=True, delimiter=',', skipinitialspace=True)"
   ]
  },
  {
   "cell_type": "code",
   "execution_count": 111,
   "id": "b183a4ef",
   "metadata": {},
   "outputs": [
    {
     "data": {
      "text/plain": [
       "(19491519, 2)"
      ]
     },
     "execution_count": 111,
     "metadata": {},
     "output_type": "execute_result"
    }
   ],
   "source": [
    "leave.shape"
   ]
  },
  {
   "cell_type": "code",
   "execution_count": null,
   "id": "0641d409",
   "metadata": {},
   "outputs": [],
   "source": [
    "leave.head()"
   ]
  },
  {
   "cell_type": "markdown",
   "id": "348d792a",
   "metadata": {},
   "source": [
    "## Rename Column"
   ]
  },
  {
   "cell_type": "code",
   "execution_count": 112,
   "id": "d624c024",
   "metadata": {},
   "outputs": [],
   "source": [
    "leave.rename(columns = {'ACTUALTIME_ARR':'act_stp_arr_5'}, inplace = True)"
   ]
  },
  {
   "cell_type": "code",
   "execution_count": null,
   "id": "371c21a8",
   "metadata": {},
   "outputs": [],
   "source": [
    "leave.head()"
   ]
  },
  {
   "cell_type": "markdown",
   "id": "ac238c86",
   "metadata": {},
   "source": [
    "## Merge Leave 5"
   ]
  },
  {
   "cell_type": "code",
   "execution_count": 113,
   "id": "ab47a669",
   "metadata": {},
   "outputs": [],
   "source": [
    "rtleave = pd.merge(rtleave, leave, how=\"left\", on=[\"dos_trpID_stpID_prgNum\"])"
   ]
  },
  {
   "cell_type": "code",
   "execution_count": 114,
   "id": "9bf02785",
   "metadata": {},
   "outputs": [
    {
     "data": {
      "text/plain": [
       "(2681064, 31)"
      ]
     },
     "execution_count": 114,
     "metadata": {},
     "output_type": "execute_result"
    }
   ],
   "source": [
    "rtleave.shape"
   ]
  },
  {
   "cell_type": "code",
   "execution_count": null,
   "id": "7e524b70",
   "metadata": {},
   "outputs": [],
   "source": [
    "rtleave.head()"
   ]
  },
  {
   "cell_type": "code",
   "execution_count": null,
   "id": "4e26b15a",
   "metadata": {},
   "outputs": [],
   "source": [
    "rtleave.isnull().sum()"
   ]
  },
  {
   "cell_type": "markdown",
   "id": "6fa7a15b",
   "metadata": {},
   "source": [
    "## Leave 6"
   ]
  },
  {
   "cell_type": "code",
   "execution_count": 115,
   "id": "aaf4d4b9",
   "metadata": {},
   "outputs": [],
   "source": [
    "leave = pd.read_csv('v8b_leave6.csv', keep_default_na=True, delimiter=',', skipinitialspace=True)"
   ]
  },
  {
   "cell_type": "code",
   "execution_count": 116,
   "id": "6aa5dc8d",
   "metadata": {},
   "outputs": [
    {
     "data": {
      "text/plain": [
       "(19491518, 2)"
      ]
     },
     "execution_count": 116,
     "metadata": {},
     "output_type": "execute_result"
    }
   ],
   "source": [
    "leave.shape"
   ]
  },
  {
   "cell_type": "code",
   "execution_count": null,
   "id": "1e6d3554",
   "metadata": {},
   "outputs": [],
   "source": [
    "leave.head()"
   ]
  },
  {
   "cell_type": "markdown",
   "id": "59d20114",
   "metadata": {},
   "source": [
    "## Rename Column"
   ]
  },
  {
   "cell_type": "code",
   "execution_count": 117,
   "id": "a60625b9",
   "metadata": {},
   "outputs": [],
   "source": [
    "leave.rename(columns = {'ACTUALTIME_ARR':'act_stp_arr_6'}, inplace = True)"
   ]
  },
  {
   "cell_type": "code",
   "execution_count": null,
   "id": "f65ba3c7",
   "metadata": {},
   "outputs": [],
   "source": [
    "leave.head()"
   ]
  },
  {
   "cell_type": "markdown",
   "id": "3087c5e8",
   "metadata": {},
   "source": [
    "## Merge Leave 6"
   ]
  },
  {
   "cell_type": "code",
   "execution_count": 118,
   "id": "a8bab037",
   "metadata": {},
   "outputs": [],
   "source": [
    "rtleave = pd.merge(rtleave, leave, how=\"left\", on=[\"dos_trpID_stpID_prgNum\"])"
   ]
  },
  {
   "cell_type": "code",
   "execution_count": 119,
   "id": "792dc7b3",
   "metadata": {},
   "outputs": [
    {
     "data": {
      "text/plain": [
       "(2681064, 32)"
      ]
     },
     "execution_count": 119,
     "metadata": {},
     "output_type": "execute_result"
    }
   ],
   "source": [
    "rtleave.shape"
   ]
  },
  {
   "cell_type": "code",
   "execution_count": 120,
   "id": "deb1d51e",
   "metadata": {},
   "outputs": [
    {
     "data": {
      "text/html": [
       "<div>\n",
       "<style scoped>\n",
       "    .dataframe tbody tr th:only-of-type {\n",
       "        vertical-align: middle;\n",
       "    }\n",
       "\n",
       "    .dataframe tbody tr th {\n",
       "        vertical-align: top;\n",
       "    }\n",
       "\n",
       "    .dataframe thead th {\n",
       "        text-align: right;\n",
       "    }\n",
       "</style>\n",
       "<table border=\"1\" class=\"dataframe\">\n",
       "  <thead>\n",
       "    <tr style=\"text-align: right;\">\n",
       "      <th></th>\n",
       "      <th>DAYOFSERVICE</th>\n",
       "      <th>TRIPID</th>\n",
       "      <th>PROGRNUMBER</th>\n",
       "      <th>STOPPOINTID</th>\n",
       "      <th>PLANNEDTIME_ARR</th>\n",
       "      <th>VEHICLEID</th>\n",
       "      <th>year</th>\n",
       "      <th>month</th>\n",
       "      <th>day</th>\n",
       "      <th>id</th>\n",
       "      <th>...</th>\n",
       "      <th>wind_speed</th>\n",
       "      <th>weather_id</th>\n",
       "      <th>weather_description</th>\n",
       "      <th>dos_trpID_stpID_prgNum</th>\n",
       "      <th>act_stp_arr_1</th>\n",
       "      <th>act_stp_arr_2</th>\n",
       "      <th>act_stp_arr_3</th>\n",
       "      <th>act_stp_arr_4</th>\n",
       "      <th>act_stp_arr_5</th>\n",
       "      <th>act_stp_arr_6</th>\n",
       "    </tr>\n",
       "  </thead>\n",
       "  <tbody>\n",
       "    <tr>\n",
       "      <th>0</th>\n",
       "      <td>2018-01-01</td>\n",
       "      <td>5957793</td>\n",
       "      <td>1</td>\n",
       "      <td>7132</td>\n",
       "      <td>32400</td>\n",
       "      <td>2172314</td>\n",
       "      <td>2018</td>\n",
       "      <td>1</td>\n",
       "      <td>1</td>\n",
       "      <td>20180101595779301</td>\n",
       "      <td>...</td>\n",
       "      <td>7.7</td>\n",
       "      <td>802</td>\n",
       "      <td>scattered clouds</td>\n",
       "      <td>2018-01-01-5957793-7132-1</td>\n",
       "      <td>32608.0</td>\n",
       "      <td>NaN</td>\n",
       "      <td>NaN</td>\n",
       "      <td>NaN</td>\n",
       "      <td>NaN</td>\n",
       "      <td>NaN</td>\n",
       "    </tr>\n",
       "    <tr>\n",
       "      <th>1</th>\n",
       "      <td>2018-01-01</td>\n",
       "      <td>5957793</td>\n",
       "      <td>2</td>\n",
       "      <td>6230</td>\n",
       "      <td>32470</td>\n",
       "      <td>2172314</td>\n",
       "      <td>2018</td>\n",
       "      <td>1</td>\n",
       "      <td>1</td>\n",
       "      <td>20180101595779302</td>\n",
       "      <td>...</td>\n",
       "      <td>7.7</td>\n",
       "      <td>802</td>\n",
       "      <td>scattered clouds</td>\n",
       "      <td>2018-01-01-5957793-6230-2</td>\n",
       "      <td>32672.0</td>\n",
       "      <td>NaN</td>\n",
       "      <td>NaN</td>\n",
       "      <td>NaN</td>\n",
       "      <td>NaN</td>\n",
       "      <td>NaN</td>\n",
       "    </tr>\n",
       "    <tr>\n",
       "      <th>2</th>\n",
       "      <td>2018-01-01</td>\n",
       "      <td>5957793</td>\n",
       "      <td>3</td>\n",
       "      <td>6228</td>\n",
       "      <td>32513</td>\n",
       "      <td>2172314</td>\n",
       "      <td>2018</td>\n",
       "      <td>1</td>\n",
       "      <td>1</td>\n",
       "      <td>20180101595779303</td>\n",
       "      <td>...</td>\n",
       "      <td>7.7</td>\n",
       "      <td>802</td>\n",
       "      <td>scattered clouds</td>\n",
       "      <td>2018-01-01-5957793-6228-3</td>\n",
       "      <td>32696.0</td>\n",
       "      <td>NaN</td>\n",
       "      <td>NaN</td>\n",
       "      <td>NaN</td>\n",
       "      <td>NaN</td>\n",
       "      <td>NaN</td>\n",
       "    </tr>\n",
       "    <tr>\n",
       "      <th>3</th>\n",
       "      <td>2018-01-01</td>\n",
       "      <td>5957793</td>\n",
       "      <td>4</td>\n",
       "      <td>4788</td>\n",
       "      <td>32569</td>\n",
       "      <td>2172314</td>\n",
       "      <td>2018</td>\n",
       "      <td>1</td>\n",
       "      <td>1</td>\n",
       "      <td>20180101595779304</td>\n",
       "      <td>...</td>\n",
       "      <td>7.7</td>\n",
       "      <td>802</td>\n",
       "      <td>scattered clouds</td>\n",
       "      <td>2018-01-01-5957793-4788-4</td>\n",
       "      <td>32744.0</td>\n",
       "      <td>NaN</td>\n",
       "      <td>NaN</td>\n",
       "      <td>NaN</td>\n",
       "      <td>NaN</td>\n",
       "      <td>NaN</td>\n",
       "    </tr>\n",
       "    <tr>\n",
       "      <th>4</th>\n",
       "      <td>2018-01-01</td>\n",
       "      <td>5957793</td>\n",
       "      <td>5</td>\n",
       "      <td>6273</td>\n",
       "      <td>32615</td>\n",
       "      <td>2172314</td>\n",
       "      <td>2018</td>\n",
       "      <td>1</td>\n",
       "      <td>1</td>\n",
       "      <td>20180101595779305</td>\n",
       "      <td>...</td>\n",
       "      <td>7.7</td>\n",
       "      <td>802</td>\n",
       "      <td>scattered clouds</td>\n",
       "      <td>2018-01-01-5957793-6273-5</td>\n",
       "      <td>32803.0</td>\n",
       "      <td>NaN</td>\n",
       "      <td>NaN</td>\n",
       "      <td>NaN</td>\n",
       "      <td>NaN</td>\n",
       "      <td>NaN</td>\n",
       "    </tr>\n",
       "  </tbody>\n",
       "</table>\n",
       "<p>5 rows × 32 columns</p>\n",
       "</div>"
      ],
      "text/plain": [
       "  DAYOFSERVICE   TRIPID  PROGRNUMBER  STOPPOINTID  PLANNEDTIME_ARR  VEHICLEID  \\\n",
       "0   2018-01-01  5957793            1         7132            32400    2172314   \n",
       "1   2018-01-01  5957793            2         6230            32470    2172314   \n",
       "2   2018-01-01  5957793            3         6228            32513    2172314   \n",
       "3   2018-01-01  5957793            4         4788            32569    2172314   \n",
       "4   2018-01-01  5957793            5         6273            32615    2172314   \n",
       "\n",
       "   year  month  day                 id  ...  wind_speed  weather_id  \\\n",
       "0  2018      1    1  20180101595779301  ...         7.7         802   \n",
       "1  2018      1    1  20180101595779302  ...         7.7         802   \n",
       "2  2018      1    1  20180101595779303  ...         7.7         802   \n",
       "3  2018      1    1  20180101595779304  ...         7.7         802   \n",
       "4  2018      1    1  20180101595779305  ...         7.7         802   \n",
       "\n",
       "   weather_description     dos_trpID_stpID_prgNum  act_stp_arr_1  \\\n",
       "0     scattered clouds  2018-01-01-5957793-7132-1        32608.0   \n",
       "1     scattered clouds  2018-01-01-5957793-6230-2        32672.0   \n",
       "2     scattered clouds  2018-01-01-5957793-6228-3        32696.0   \n",
       "3     scattered clouds  2018-01-01-5957793-4788-4        32744.0   \n",
       "4     scattered clouds  2018-01-01-5957793-6273-5        32803.0   \n",
       "\n",
       "   act_stp_arr_2  act_stp_arr_3  act_stp_arr_4  act_stp_arr_5  act_stp_arr_6  \n",
       "0            NaN            NaN            NaN            NaN            NaN  \n",
       "1            NaN            NaN            NaN            NaN            NaN  \n",
       "2            NaN            NaN            NaN            NaN            NaN  \n",
       "3            NaN            NaN            NaN            NaN            NaN  \n",
       "4            NaN            NaN            NaN            NaN            NaN  \n",
       "\n",
       "[5 rows x 32 columns]"
      ]
     },
     "execution_count": 120,
     "metadata": {},
     "output_type": "execute_result"
    }
   ],
   "source": [
    "rtleave.head()"
   ]
  },
  {
   "cell_type": "code",
   "execution_count": 121,
   "id": "c43229e7",
   "metadata": {},
   "outputs": [
    {
     "data": {
      "text/plain": [
       "DAYOFSERVICE                    0\n",
       "TRIPID                          0\n",
       "PROGRNUMBER                     0\n",
       "STOPPOINTID                     0\n",
       "PLANNEDTIME_ARR                 0\n",
       "VEHICLEID                       0\n",
       "year                            0\n",
       "month                           0\n",
       "day                             0\n",
       "id                              0\n",
       "trip_leave_id                   0\n",
       "LINEID                          0\n",
       "num_lineID                      0\n",
       "DIRECTION                       0\n",
       "act_trip_dur                    0\n",
       "dayOfWeek                       0\n",
       "weekend                         0\n",
       "rushHour                        0\n",
       "stop_actARR_hour                0\n",
       "wthr_tr_lt_id                   0\n",
       "temp                            0\n",
       "humidity                        0\n",
       "wind_speed                      0\n",
       "weather_id                      0\n",
       "weather_description             0\n",
       "dos_trpID_stpID_prgNum          0\n",
       "act_stp_arr_1             2236708\n",
       "act_stp_arr_2             2232396\n",
       "act_stp_arr_3             2232130\n",
       "act_stp_arr_4             2256301\n",
       "act_stp_arr_5             2229222\n",
       "act_stp_arr_6             2218563\n",
       "dtype: int64"
      ]
     },
     "execution_count": 121,
     "metadata": {},
     "output_type": "execute_result"
    }
   ],
   "source": [
    "rtleave.isnull().sum()"
   ]
  },
  {
   "cell_type": "markdown",
   "id": "6765778b",
   "metadata": {},
   "source": [
    "## Replace Nans with Zero"
   ]
  },
  {
   "cell_type": "code",
   "execution_count": 122,
   "id": "a5165bf7",
   "metadata": {},
   "outputs": [],
   "source": [
    "rtleave = rtleave.fillna(0)"
   ]
  },
  {
   "cell_type": "code",
   "execution_count": 123,
   "id": "187f75c0",
   "metadata": {},
   "outputs": [
    {
     "data": {
      "text/html": [
       "<div>\n",
       "<style scoped>\n",
       "    .dataframe tbody tr th:only-of-type {\n",
       "        vertical-align: middle;\n",
       "    }\n",
       "\n",
       "    .dataframe tbody tr th {\n",
       "        vertical-align: top;\n",
       "    }\n",
       "\n",
       "    .dataframe thead th {\n",
       "        text-align: right;\n",
       "    }\n",
       "</style>\n",
       "<table border=\"1\" class=\"dataframe\">\n",
       "  <thead>\n",
       "    <tr style=\"text-align: right;\">\n",
       "      <th></th>\n",
       "      <th>DAYOFSERVICE</th>\n",
       "      <th>TRIPID</th>\n",
       "      <th>PROGRNUMBER</th>\n",
       "      <th>STOPPOINTID</th>\n",
       "      <th>PLANNEDTIME_ARR</th>\n",
       "      <th>VEHICLEID</th>\n",
       "      <th>year</th>\n",
       "      <th>month</th>\n",
       "      <th>day</th>\n",
       "      <th>id</th>\n",
       "      <th>...</th>\n",
       "      <th>wind_speed</th>\n",
       "      <th>weather_id</th>\n",
       "      <th>weather_description</th>\n",
       "      <th>dos_trpID_stpID_prgNum</th>\n",
       "      <th>act_stp_arr_1</th>\n",
       "      <th>act_stp_arr_2</th>\n",
       "      <th>act_stp_arr_3</th>\n",
       "      <th>act_stp_arr_4</th>\n",
       "      <th>act_stp_arr_5</th>\n",
       "      <th>act_stp_arr_6</th>\n",
       "    </tr>\n",
       "  </thead>\n",
       "  <tbody>\n",
       "    <tr>\n",
       "      <th>0</th>\n",
       "      <td>2018-01-01</td>\n",
       "      <td>5957793</td>\n",
       "      <td>1</td>\n",
       "      <td>7132</td>\n",
       "      <td>32400</td>\n",
       "      <td>2172314</td>\n",
       "      <td>2018</td>\n",
       "      <td>1</td>\n",
       "      <td>1</td>\n",
       "      <td>20180101595779301</td>\n",
       "      <td>...</td>\n",
       "      <td>7.7</td>\n",
       "      <td>802</td>\n",
       "      <td>scattered clouds</td>\n",
       "      <td>2018-01-01-5957793-7132-1</td>\n",
       "      <td>32608.0</td>\n",
       "      <td>0.0</td>\n",
       "      <td>0.0</td>\n",
       "      <td>0.0</td>\n",
       "      <td>0.0</td>\n",
       "      <td>0.0</td>\n",
       "    </tr>\n",
       "    <tr>\n",
       "      <th>1</th>\n",
       "      <td>2018-01-01</td>\n",
       "      <td>5957793</td>\n",
       "      <td>2</td>\n",
       "      <td>6230</td>\n",
       "      <td>32470</td>\n",
       "      <td>2172314</td>\n",
       "      <td>2018</td>\n",
       "      <td>1</td>\n",
       "      <td>1</td>\n",
       "      <td>20180101595779302</td>\n",
       "      <td>...</td>\n",
       "      <td>7.7</td>\n",
       "      <td>802</td>\n",
       "      <td>scattered clouds</td>\n",
       "      <td>2018-01-01-5957793-6230-2</td>\n",
       "      <td>32672.0</td>\n",
       "      <td>0.0</td>\n",
       "      <td>0.0</td>\n",
       "      <td>0.0</td>\n",
       "      <td>0.0</td>\n",
       "      <td>0.0</td>\n",
       "    </tr>\n",
       "    <tr>\n",
       "      <th>2</th>\n",
       "      <td>2018-01-01</td>\n",
       "      <td>5957793</td>\n",
       "      <td>3</td>\n",
       "      <td>6228</td>\n",
       "      <td>32513</td>\n",
       "      <td>2172314</td>\n",
       "      <td>2018</td>\n",
       "      <td>1</td>\n",
       "      <td>1</td>\n",
       "      <td>20180101595779303</td>\n",
       "      <td>...</td>\n",
       "      <td>7.7</td>\n",
       "      <td>802</td>\n",
       "      <td>scattered clouds</td>\n",
       "      <td>2018-01-01-5957793-6228-3</td>\n",
       "      <td>32696.0</td>\n",
       "      <td>0.0</td>\n",
       "      <td>0.0</td>\n",
       "      <td>0.0</td>\n",
       "      <td>0.0</td>\n",
       "      <td>0.0</td>\n",
       "    </tr>\n",
       "    <tr>\n",
       "      <th>3</th>\n",
       "      <td>2018-01-01</td>\n",
       "      <td>5957793</td>\n",
       "      <td>4</td>\n",
       "      <td>4788</td>\n",
       "      <td>32569</td>\n",
       "      <td>2172314</td>\n",
       "      <td>2018</td>\n",
       "      <td>1</td>\n",
       "      <td>1</td>\n",
       "      <td>20180101595779304</td>\n",
       "      <td>...</td>\n",
       "      <td>7.7</td>\n",
       "      <td>802</td>\n",
       "      <td>scattered clouds</td>\n",
       "      <td>2018-01-01-5957793-4788-4</td>\n",
       "      <td>32744.0</td>\n",
       "      <td>0.0</td>\n",
       "      <td>0.0</td>\n",
       "      <td>0.0</td>\n",
       "      <td>0.0</td>\n",
       "      <td>0.0</td>\n",
       "    </tr>\n",
       "    <tr>\n",
       "      <th>4</th>\n",
       "      <td>2018-01-01</td>\n",
       "      <td>5957793</td>\n",
       "      <td>5</td>\n",
       "      <td>6273</td>\n",
       "      <td>32615</td>\n",
       "      <td>2172314</td>\n",
       "      <td>2018</td>\n",
       "      <td>1</td>\n",
       "      <td>1</td>\n",
       "      <td>20180101595779305</td>\n",
       "      <td>...</td>\n",
       "      <td>7.7</td>\n",
       "      <td>802</td>\n",
       "      <td>scattered clouds</td>\n",
       "      <td>2018-01-01-5957793-6273-5</td>\n",
       "      <td>32803.0</td>\n",
       "      <td>0.0</td>\n",
       "      <td>0.0</td>\n",
       "      <td>0.0</td>\n",
       "      <td>0.0</td>\n",
       "      <td>0.0</td>\n",
       "    </tr>\n",
       "  </tbody>\n",
       "</table>\n",
       "<p>5 rows × 32 columns</p>\n",
       "</div>"
      ],
      "text/plain": [
       "  DAYOFSERVICE   TRIPID  PROGRNUMBER  STOPPOINTID  PLANNEDTIME_ARR  VEHICLEID  \\\n",
       "0   2018-01-01  5957793            1         7132            32400    2172314   \n",
       "1   2018-01-01  5957793            2         6230            32470    2172314   \n",
       "2   2018-01-01  5957793            3         6228            32513    2172314   \n",
       "3   2018-01-01  5957793            4         4788            32569    2172314   \n",
       "4   2018-01-01  5957793            5         6273            32615    2172314   \n",
       "\n",
       "   year  month  day                 id  ...  wind_speed  weather_id  \\\n",
       "0  2018      1    1  20180101595779301  ...         7.7         802   \n",
       "1  2018      1    1  20180101595779302  ...         7.7         802   \n",
       "2  2018      1    1  20180101595779303  ...         7.7         802   \n",
       "3  2018      1    1  20180101595779304  ...         7.7         802   \n",
       "4  2018      1    1  20180101595779305  ...         7.7         802   \n",
       "\n",
       "   weather_description     dos_trpID_stpID_prgNum  act_stp_arr_1  \\\n",
       "0     scattered clouds  2018-01-01-5957793-7132-1        32608.0   \n",
       "1     scattered clouds  2018-01-01-5957793-6230-2        32672.0   \n",
       "2     scattered clouds  2018-01-01-5957793-6228-3        32696.0   \n",
       "3     scattered clouds  2018-01-01-5957793-4788-4        32744.0   \n",
       "4     scattered clouds  2018-01-01-5957793-6273-5        32803.0   \n",
       "\n",
       "   act_stp_arr_2  act_stp_arr_3  act_stp_arr_4  act_stp_arr_5  act_stp_arr_6  \n",
       "0            0.0            0.0            0.0            0.0            0.0  \n",
       "1            0.0            0.0            0.0            0.0            0.0  \n",
       "2            0.0            0.0            0.0            0.0            0.0  \n",
       "3            0.0            0.0            0.0            0.0            0.0  \n",
       "4            0.0            0.0            0.0            0.0            0.0  \n",
       "\n",
       "[5 rows x 32 columns]"
      ]
     },
     "execution_count": 123,
     "metadata": {},
     "output_type": "execute_result"
    }
   ],
   "source": [
    "rtleave.head()"
   ]
  },
  {
   "cell_type": "markdown",
   "id": "0a52b23b",
   "metadata": {},
   "source": [
    "## Sum Working Columns"
   ]
  },
  {
   "cell_type": "code",
   "execution_count": 124,
   "id": "0e0599f0",
   "metadata": {},
   "outputs": [],
   "source": [
    "rtleave['act_stp_arr'] = rtleave['act_stp_arr_1'] + rtleave['act_stp_arr_2'] + rtleave['act_stp_arr_3'] + rtleave['act_stp_arr_4'] + rtleave['act_stp_arr_5'] + rtleave['act_stp_arr_6']"
   ]
  },
  {
   "cell_type": "code",
   "execution_count": 125,
   "id": "b7ec67e0",
   "metadata": {},
   "outputs": [
    {
     "data": {
      "text/html": [
       "<div>\n",
       "<style scoped>\n",
       "    .dataframe tbody tr th:only-of-type {\n",
       "        vertical-align: middle;\n",
       "    }\n",
       "\n",
       "    .dataframe tbody tr th {\n",
       "        vertical-align: top;\n",
       "    }\n",
       "\n",
       "    .dataframe thead th {\n",
       "        text-align: right;\n",
       "    }\n",
       "</style>\n",
       "<table border=\"1\" class=\"dataframe\">\n",
       "  <thead>\n",
       "    <tr style=\"text-align: right;\">\n",
       "      <th></th>\n",
       "      <th>DAYOFSERVICE</th>\n",
       "      <th>TRIPID</th>\n",
       "      <th>PROGRNUMBER</th>\n",
       "      <th>STOPPOINTID</th>\n",
       "      <th>PLANNEDTIME_ARR</th>\n",
       "      <th>VEHICLEID</th>\n",
       "      <th>year</th>\n",
       "      <th>month</th>\n",
       "      <th>day</th>\n",
       "      <th>id</th>\n",
       "      <th>...</th>\n",
       "      <th>weather_id</th>\n",
       "      <th>weather_description</th>\n",
       "      <th>dos_trpID_stpID_prgNum</th>\n",
       "      <th>act_stp_arr_1</th>\n",
       "      <th>act_stp_arr_2</th>\n",
       "      <th>act_stp_arr_3</th>\n",
       "      <th>act_stp_arr_4</th>\n",
       "      <th>act_stp_arr_5</th>\n",
       "      <th>act_stp_arr_6</th>\n",
       "      <th>act_stp_arr</th>\n",
       "    </tr>\n",
       "  </thead>\n",
       "  <tbody>\n",
       "    <tr>\n",
       "      <th>0</th>\n",
       "      <td>2018-01-01</td>\n",
       "      <td>5957793</td>\n",
       "      <td>1</td>\n",
       "      <td>7132</td>\n",
       "      <td>32400</td>\n",
       "      <td>2172314</td>\n",
       "      <td>2018</td>\n",
       "      <td>1</td>\n",
       "      <td>1</td>\n",
       "      <td>20180101595779301</td>\n",
       "      <td>...</td>\n",
       "      <td>802</td>\n",
       "      <td>scattered clouds</td>\n",
       "      <td>2018-01-01-5957793-7132-1</td>\n",
       "      <td>32608.0</td>\n",
       "      <td>0.0</td>\n",
       "      <td>0.0</td>\n",
       "      <td>0.0</td>\n",
       "      <td>0.0</td>\n",
       "      <td>0.0</td>\n",
       "      <td>32608.0</td>\n",
       "    </tr>\n",
       "    <tr>\n",
       "      <th>1</th>\n",
       "      <td>2018-01-01</td>\n",
       "      <td>5957793</td>\n",
       "      <td>2</td>\n",
       "      <td>6230</td>\n",
       "      <td>32470</td>\n",
       "      <td>2172314</td>\n",
       "      <td>2018</td>\n",
       "      <td>1</td>\n",
       "      <td>1</td>\n",
       "      <td>20180101595779302</td>\n",
       "      <td>...</td>\n",
       "      <td>802</td>\n",
       "      <td>scattered clouds</td>\n",
       "      <td>2018-01-01-5957793-6230-2</td>\n",
       "      <td>32672.0</td>\n",
       "      <td>0.0</td>\n",
       "      <td>0.0</td>\n",
       "      <td>0.0</td>\n",
       "      <td>0.0</td>\n",
       "      <td>0.0</td>\n",
       "      <td>32672.0</td>\n",
       "    </tr>\n",
       "    <tr>\n",
       "      <th>2</th>\n",
       "      <td>2018-01-01</td>\n",
       "      <td>5957793</td>\n",
       "      <td>3</td>\n",
       "      <td>6228</td>\n",
       "      <td>32513</td>\n",
       "      <td>2172314</td>\n",
       "      <td>2018</td>\n",
       "      <td>1</td>\n",
       "      <td>1</td>\n",
       "      <td>20180101595779303</td>\n",
       "      <td>...</td>\n",
       "      <td>802</td>\n",
       "      <td>scattered clouds</td>\n",
       "      <td>2018-01-01-5957793-6228-3</td>\n",
       "      <td>32696.0</td>\n",
       "      <td>0.0</td>\n",
       "      <td>0.0</td>\n",
       "      <td>0.0</td>\n",
       "      <td>0.0</td>\n",
       "      <td>0.0</td>\n",
       "      <td>32696.0</td>\n",
       "    </tr>\n",
       "    <tr>\n",
       "      <th>3</th>\n",
       "      <td>2018-01-01</td>\n",
       "      <td>5957793</td>\n",
       "      <td>4</td>\n",
       "      <td>4788</td>\n",
       "      <td>32569</td>\n",
       "      <td>2172314</td>\n",
       "      <td>2018</td>\n",
       "      <td>1</td>\n",
       "      <td>1</td>\n",
       "      <td>20180101595779304</td>\n",
       "      <td>...</td>\n",
       "      <td>802</td>\n",
       "      <td>scattered clouds</td>\n",
       "      <td>2018-01-01-5957793-4788-4</td>\n",
       "      <td>32744.0</td>\n",
       "      <td>0.0</td>\n",
       "      <td>0.0</td>\n",
       "      <td>0.0</td>\n",
       "      <td>0.0</td>\n",
       "      <td>0.0</td>\n",
       "      <td>32744.0</td>\n",
       "    </tr>\n",
       "    <tr>\n",
       "      <th>4</th>\n",
       "      <td>2018-01-01</td>\n",
       "      <td>5957793</td>\n",
       "      <td>5</td>\n",
       "      <td>6273</td>\n",
       "      <td>32615</td>\n",
       "      <td>2172314</td>\n",
       "      <td>2018</td>\n",
       "      <td>1</td>\n",
       "      <td>1</td>\n",
       "      <td>20180101595779305</td>\n",
       "      <td>...</td>\n",
       "      <td>802</td>\n",
       "      <td>scattered clouds</td>\n",
       "      <td>2018-01-01-5957793-6273-5</td>\n",
       "      <td>32803.0</td>\n",
       "      <td>0.0</td>\n",
       "      <td>0.0</td>\n",
       "      <td>0.0</td>\n",
       "      <td>0.0</td>\n",
       "      <td>0.0</td>\n",
       "      <td>32803.0</td>\n",
       "    </tr>\n",
       "  </tbody>\n",
       "</table>\n",
       "<p>5 rows × 33 columns</p>\n",
       "</div>"
      ],
      "text/plain": [
       "  DAYOFSERVICE   TRIPID  PROGRNUMBER  STOPPOINTID  PLANNEDTIME_ARR  VEHICLEID  \\\n",
       "0   2018-01-01  5957793            1         7132            32400    2172314   \n",
       "1   2018-01-01  5957793            2         6230            32470    2172314   \n",
       "2   2018-01-01  5957793            3         6228            32513    2172314   \n",
       "3   2018-01-01  5957793            4         4788            32569    2172314   \n",
       "4   2018-01-01  5957793            5         6273            32615    2172314   \n",
       "\n",
       "   year  month  day                 id  ...  weather_id  weather_description  \\\n",
       "0  2018      1    1  20180101595779301  ...         802     scattered clouds   \n",
       "1  2018      1    1  20180101595779302  ...         802     scattered clouds   \n",
       "2  2018      1    1  20180101595779303  ...         802     scattered clouds   \n",
       "3  2018      1    1  20180101595779304  ...         802     scattered clouds   \n",
       "4  2018      1    1  20180101595779305  ...         802     scattered clouds   \n",
       "\n",
       "      dos_trpID_stpID_prgNum  act_stp_arr_1  act_stp_arr_2  act_stp_arr_3  \\\n",
       "0  2018-01-01-5957793-7132-1        32608.0            0.0            0.0   \n",
       "1  2018-01-01-5957793-6230-2        32672.0            0.0            0.0   \n",
       "2  2018-01-01-5957793-6228-3        32696.0            0.0            0.0   \n",
       "3  2018-01-01-5957793-4788-4        32744.0            0.0            0.0   \n",
       "4  2018-01-01-5957793-6273-5        32803.0            0.0            0.0   \n",
       "\n",
       "   act_stp_arr_4  act_stp_arr_5  act_stp_arr_6  act_stp_arr  \n",
       "0            0.0            0.0            0.0      32608.0  \n",
       "1            0.0            0.0            0.0      32672.0  \n",
       "2            0.0            0.0            0.0      32696.0  \n",
       "3            0.0            0.0            0.0      32744.0  \n",
       "4            0.0            0.0            0.0      32803.0  \n",
       "\n",
       "[5 rows x 33 columns]"
      ]
     },
     "execution_count": 125,
     "metadata": {},
     "output_type": "execute_result"
    }
   ],
   "source": [
    "rtleave.head()"
   ]
  },
  {
   "cell_type": "code",
   "execution_count": 126,
   "id": "736b4ad4",
   "metadata": {},
   "outputs": [
    {
     "data": {
      "text/plain": [
       "DAYOFSERVICE              0\n",
       "TRIPID                    0\n",
       "PROGRNUMBER               0\n",
       "STOPPOINTID               0\n",
       "PLANNEDTIME_ARR           0\n",
       "VEHICLEID                 0\n",
       "year                      0\n",
       "month                     0\n",
       "day                       0\n",
       "id                        0\n",
       "trip_leave_id             0\n",
       "LINEID                    0\n",
       "num_lineID                0\n",
       "DIRECTION                 0\n",
       "act_trip_dur              0\n",
       "dayOfWeek                 0\n",
       "weekend                   0\n",
       "rushHour                  0\n",
       "stop_actARR_hour          0\n",
       "wthr_tr_lt_id             0\n",
       "temp                      0\n",
       "humidity                  0\n",
       "wind_speed                0\n",
       "weather_id                0\n",
       "weather_description       0\n",
       "dos_trpID_stpID_prgNum    0\n",
       "act_stp_arr_1             0\n",
       "act_stp_arr_2             0\n",
       "act_stp_arr_3             0\n",
       "act_stp_arr_4             0\n",
       "act_stp_arr_5             0\n",
       "act_stp_arr_6             0\n",
       "act_stp_arr               0\n",
       "dtype: int64"
      ]
     },
     "execution_count": 126,
     "metadata": {},
     "output_type": "execute_result"
    }
   ],
   "source": [
    "rtleave.isnull().sum()"
   ]
  },
  {
   "cell_type": "code",
   "execution_count": 127,
   "id": "7b469e0b",
   "metadata": {},
   "outputs": [
    {
     "data": {
      "text/plain": [
       "(0, 33)"
      ]
     },
     "execution_count": 127,
     "metadata": {},
     "output_type": "execute_result"
    }
   ],
   "source": [
    "check = rtleave[rtleave['act_stp_arr'] < 1]\n",
    "check.shape"
   ]
  },
  {
   "cell_type": "markdown",
   "id": "52176b61",
   "metadata": {},
   "source": [
    "## Drop Columns"
   ]
  },
  {
   "cell_type": "code",
   "execution_count": 128,
   "id": "39c8155e",
   "metadata": {},
   "outputs": [],
   "source": [
    "rtleave = rtleave.drop(['act_stp_arr_1', 'act_stp_arr_2', 'act_stp_arr_3', 'act_stp_arr_4', 'act_stp_arr_5', 'act_stp_arr_6'], axis=1)"
   ]
  },
  {
   "cell_type": "code",
   "execution_count": 129,
   "id": "914fd6da",
   "metadata": {},
   "outputs": [
    {
     "data": {
      "text/html": [
       "<div>\n",
       "<style scoped>\n",
       "    .dataframe tbody tr th:only-of-type {\n",
       "        vertical-align: middle;\n",
       "    }\n",
       "\n",
       "    .dataframe tbody tr th {\n",
       "        vertical-align: top;\n",
       "    }\n",
       "\n",
       "    .dataframe thead th {\n",
       "        text-align: right;\n",
       "    }\n",
       "</style>\n",
       "<table border=\"1\" class=\"dataframe\">\n",
       "  <thead>\n",
       "    <tr style=\"text-align: right;\">\n",
       "      <th></th>\n",
       "      <th>DAYOFSERVICE</th>\n",
       "      <th>TRIPID</th>\n",
       "      <th>PROGRNUMBER</th>\n",
       "      <th>STOPPOINTID</th>\n",
       "      <th>PLANNEDTIME_ARR</th>\n",
       "      <th>VEHICLEID</th>\n",
       "      <th>year</th>\n",
       "      <th>month</th>\n",
       "      <th>day</th>\n",
       "      <th>id</th>\n",
       "      <th>...</th>\n",
       "      <th>rushHour</th>\n",
       "      <th>stop_actARR_hour</th>\n",
       "      <th>wthr_tr_lt_id</th>\n",
       "      <th>temp</th>\n",
       "      <th>humidity</th>\n",
       "      <th>wind_speed</th>\n",
       "      <th>weather_id</th>\n",
       "      <th>weather_description</th>\n",
       "      <th>dos_trpID_stpID_prgNum</th>\n",
       "      <th>act_stp_arr</th>\n",
       "    </tr>\n",
       "  </thead>\n",
       "  <tbody>\n",
       "    <tr>\n",
       "      <th>0</th>\n",
       "      <td>2018-01-01</td>\n",
       "      <td>5957793</td>\n",
       "      <td>1</td>\n",
       "      <td>7132</td>\n",
       "      <td>32400</td>\n",
       "      <td>2172314</td>\n",
       "      <td>2018</td>\n",
       "      <td>1</td>\n",
       "      <td>1</td>\n",
       "      <td>20180101595779301</td>\n",
       "      <td>...</td>\n",
       "      <td>0</td>\n",
       "      <td>9</td>\n",
       "      <td>2018010109</td>\n",
       "      <td>4.39</td>\n",
       "      <td>86</td>\n",
       "      <td>7.7</td>\n",
       "      <td>802</td>\n",
       "      <td>scattered clouds</td>\n",
       "      <td>2018-01-01-5957793-7132-1</td>\n",
       "      <td>32608.0</td>\n",
       "    </tr>\n",
       "    <tr>\n",
       "      <th>1</th>\n",
       "      <td>2018-01-01</td>\n",
       "      <td>5957793</td>\n",
       "      <td>2</td>\n",
       "      <td>6230</td>\n",
       "      <td>32470</td>\n",
       "      <td>2172314</td>\n",
       "      <td>2018</td>\n",
       "      <td>1</td>\n",
       "      <td>1</td>\n",
       "      <td>20180101595779302</td>\n",
       "      <td>...</td>\n",
       "      <td>0</td>\n",
       "      <td>9</td>\n",
       "      <td>2018010109</td>\n",
       "      <td>4.39</td>\n",
       "      <td>86</td>\n",
       "      <td>7.7</td>\n",
       "      <td>802</td>\n",
       "      <td>scattered clouds</td>\n",
       "      <td>2018-01-01-5957793-6230-2</td>\n",
       "      <td>32672.0</td>\n",
       "    </tr>\n",
       "    <tr>\n",
       "      <th>2</th>\n",
       "      <td>2018-01-01</td>\n",
       "      <td>5957793</td>\n",
       "      <td>3</td>\n",
       "      <td>6228</td>\n",
       "      <td>32513</td>\n",
       "      <td>2172314</td>\n",
       "      <td>2018</td>\n",
       "      <td>1</td>\n",
       "      <td>1</td>\n",
       "      <td>20180101595779303</td>\n",
       "      <td>...</td>\n",
       "      <td>0</td>\n",
       "      <td>9</td>\n",
       "      <td>2018010109</td>\n",
       "      <td>4.39</td>\n",
       "      <td>86</td>\n",
       "      <td>7.7</td>\n",
       "      <td>802</td>\n",
       "      <td>scattered clouds</td>\n",
       "      <td>2018-01-01-5957793-6228-3</td>\n",
       "      <td>32696.0</td>\n",
       "    </tr>\n",
       "    <tr>\n",
       "      <th>3</th>\n",
       "      <td>2018-01-01</td>\n",
       "      <td>5957793</td>\n",
       "      <td>4</td>\n",
       "      <td>4788</td>\n",
       "      <td>32569</td>\n",
       "      <td>2172314</td>\n",
       "      <td>2018</td>\n",
       "      <td>1</td>\n",
       "      <td>1</td>\n",
       "      <td>20180101595779304</td>\n",
       "      <td>...</td>\n",
       "      <td>0</td>\n",
       "      <td>9</td>\n",
       "      <td>2018010109</td>\n",
       "      <td>4.39</td>\n",
       "      <td>86</td>\n",
       "      <td>7.7</td>\n",
       "      <td>802</td>\n",
       "      <td>scattered clouds</td>\n",
       "      <td>2018-01-01-5957793-4788-4</td>\n",
       "      <td>32744.0</td>\n",
       "    </tr>\n",
       "    <tr>\n",
       "      <th>4</th>\n",
       "      <td>2018-01-01</td>\n",
       "      <td>5957793</td>\n",
       "      <td>5</td>\n",
       "      <td>6273</td>\n",
       "      <td>32615</td>\n",
       "      <td>2172314</td>\n",
       "      <td>2018</td>\n",
       "      <td>1</td>\n",
       "      <td>1</td>\n",
       "      <td>20180101595779305</td>\n",
       "      <td>...</td>\n",
       "      <td>0</td>\n",
       "      <td>9</td>\n",
       "      <td>2018010109</td>\n",
       "      <td>4.39</td>\n",
       "      <td>86</td>\n",
       "      <td>7.7</td>\n",
       "      <td>802</td>\n",
       "      <td>scattered clouds</td>\n",
       "      <td>2018-01-01-5957793-6273-5</td>\n",
       "      <td>32803.0</td>\n",
       "    </tr>\n",
       "  </tbody>\n",
       "</table>\n",
       "<p>5 rows × 27 columns</p>\n",
       "</div>"
      ],
      "text/plain": [
       "  DAYOFSERVICE   TRIPID  PROGRNUMBER  STOPPOINTID  PLANNEDTIME_ARR  VEHICLEID  \\\n",
       "0   2018-01-01  5957793            1         7132            32400    2172314   \n",
       "1   2018-01-01  5957793            2         6230            32470    2172314   \n",
       "2   2018-01-01  5957793            3         6228            32513    2172314   \n",
       "3   2018-01-01  5957793            4         4788            32569    2172314   \n",
       "4   2018-01-01  5957793            5         6273            32615    2172314   \n",
       "\n",
       "   year  month  day                 id  ...  rushHour  stop_actARR_hour  \\\n",
       "0  2018      1    1  20180101595779301  ...         0                 9   \n",
       "1  2018      1    1  20180101595779302  ...         0                 9   \n",
       "2  2018      1    1  20180101595779303  ...         0                 9   \n",
       "3  2018      1    1  20180101595779304  ...         0                 9   \n",
       "4  2018      1    1  20180101595779305  ...         0                 9   \n",
       "\n",
       "   wthr_tr_lt_id  temp  humidity  wind_speed  weather_id  weather_description  \\\n",
       "0     2018010109  4.39        86         7.7         802     scattered clouds   \n",
       "1     2018010109  4.39        86         7.7         802     scattered clouds   \n",
       "2     2018010109  4.39        86         7.7         802     scattered clouds   \n",
       "3     2018010109  4.39        86         7.7         802     scattered clouds   \n",
       "4     2018010109  4.39        86         7.7         802     scattered clouds   \n",
       "\n",
       "      dos_trpID_stpID_prgNum  act_stp_arr  \n",
       "0  2018-01-01-5957793-7132-1      32608.0  \n",
       "1  2018-01-01-5957793-6230-2      32672.0  \n",
       "2  2018-01-01-5957793-6228-3      32696.0  \n",
       "3  2018-01-01-5957793-4788-4      32744.0  \n",
       "4  2018-01-01-5957793-6273-5      32803.0  \n",
       "\n",
       "[5 rows x 27 columns]"
      ]
     },
     "execution_count": 129,
     "metadata": {},
     "output_type": "execute_result"
    }
   ],
   "source": [
    "rtleave.head()"
   ]
  },
  {
   "cell_type": "markdown",
   "id": "9f3df3c7",
   "metadata": {},
   "source": [
    "## Send to CSV"
   ]
  },
  {
   "cell_type": "code",
   "execution_count": 130,
   "id": "82c0d461",
   "metadata": {},
   "outputs": [],
   "source": [
    "# Send route to csv:\n",
    "rtleave.to_csv('models/v9_route_9.csv', index=False)"
   ]
  },
  {
   "cell_type": "code",
   "execution_count": null,
   "id": "bd5db54e",
   "metadata": {},
   "outputs": [],
   "source": []
  }
 ],
 "metadata": {
  "kernelspec": {
   "display_name": "Python 3 (ipykernel)",
   "language": "python",
   "name": "python3"
  },
  "language_info": {
   "codemirror_mode": {
    "name": "ipython",
    "version": 3
   },
   "file_extension": ".py",
   "mimetype": "text/x-python",
   "name": "python",
   "nbconvert_exporter": "python",
   "pygments_lexer": "ipython3",
   "version": "3.10.4"
  }
 },
 "nbformat": 4,
 "nbformat_minor": 5
}
