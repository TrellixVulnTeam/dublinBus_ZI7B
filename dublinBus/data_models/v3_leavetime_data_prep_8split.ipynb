{
 "cells": [
  {
   "cell_type": "code",
   "execution_count": 1,
   "id": "b902a3e8",
   "metadata": {},
   "outputs": [],
   "source": [
    "# Library Imports.\n",
    "import pandas as pd\n",
    "import matplotlib.pyplot as plt\n",
    "import numpy as np\n",
    "from matplotlib.backends.backend_pdf import PdfPages\n",
    "import seaborn as sns\n",
    "\n",
    "# Allows plots to appear directly in the notebook.\n",
    "%matplotlib inline\n",
    "\n",
    "from sklearn.linear_model import LinearRegression\n",
    "from sklearn.model_selection import train_test_split\n",
    "from sklearn.tree import DecisionTreeRegressor\n",
    "from sklearn import tree\n",
    "from sklearn.ensemble import RandomForestRegressor\n",
    "from sklearn import metrics\n",
    "from sklearn.model_selection import cross_validate\n",
    "from sklearn.model_selection import cross_val_score "
   ]
  },
  {
   "cell_type": "code",
   "execution_count": 2,
   "id": "1b31c405",
   "metadata": {},
   "outputs": [],
   "source": [
    "chunk = pd.read_csv('v2_dtypes_LT_2018.csv', delimiter = ',',chunksize=1000000)\n",
    "\n",
    "leave = pd.concat(chunk)"
   ]
  },
  {
   "cell_type": "code",
   "execution_count": 3,
   "id": "9aade2e9",
   "metadata": {},
   "outputs": [
    {
     "data": {
      "text/html": [
       "<div>\n",
       "<style scoped>\n",
       "    .dataframe tbody tr th:only-of-type {\n",
       "        vertical-align: middle;\n",
       "    }\n",
       "\n",
       "    .dataframe tbody tr th {\n",
       "        vertical-align: top;\n",
       "    }\n",
       "\n",
       "    .dataframe thead th {\n",
       "        text-align: right;\n",
       "    }\n",
       "</style>\n",
       "<table border=\"1\" class=\"dataframe\">\n",
       "  <thead>\n",
       "    <tr style=\"text-align: right;\">\n",
       "      <th></th>\n",
       "      <th>DAYOFSERVICE</th>\n",
       "      <th>TRIPID</th>\n",
       "      <th>PROGRNUMBER</th>\n",
       "      <th>STOPPOINTID</th>\n",
       "      <th>PLANNEDTIME_ARR</th>\n",
       "      <th>PLANNEDTIME_DEP</th>\n",
       "      <th>ACTUALTIME_ARR</th>\n",
       "      <th>ACTUALTIME_DEP</th>\n",
       "      <th>VEHICLEID</th>\n",
       "    </tr>\n",
       "  </thead>\n",
       "  <tbody>\n",
       "    <tr>\n",
       "      <th>0</th>\n",
       "      <td>01-JAN-18 00:00:00</td>\n",
       "      <td>5972116</td>\n",
       "      <td>12</td>\n",
       "      <td>119</td>\n",
       "      <td>48030</td>\n",
       "      <td>48030</td>\n",
       "      <td>48030</td>\n",
       "      <td>48030</td>\n",
       "      <td>2693211</td>\n",
       "    </tr>\n",
       "    <tr>\n",
       "      <th>1</th>\n",
       "      <td>01-JAN-18 00:00:00</td>\n",
       "      <td>5966674</td>\n",
       "      <td>12</td>\n",
       "      <td>119</td>\n",
       "      <td>54001</td>\n",
       "      <td>54001</td>\n",
       "      <td>54001</td>\n",
       "      <td>54001</td>\n",
       "      <td>2693267</td>\n",
       "    </tr>\n",
       "    <tr>\n",
       "      <th>2</th>\n",
       "      <td>01-JAN-18 00:00:00</td>\n",
       "      <td>5959105</td>\n",
       "      <td>12</td>\n",
       "      <td>119</td>\n",
       "      <td>60001</td>\n",
       "      <td>60001</td>\n",
       "      <td>60001</td>\n",
       "      <td>60001</td>\n",
       "      <td>2693263</td>\n",
       "    </tr>\n",
       "    <tr>\n",
       "      <th>3</th>\n",
       "      <td>01-JAN-18 00:00:00</td>\n",
       "      <td>5966888</td>\n",
       "      <td>12</td>\n",
       "      <td>119</td>\n",
       "      <td>58801</td>\n",
       "      <td>58801</td>\n",
       "      <td>58801</td>\n",
       "      <td>58801</td>\n",
       "      <td>2693284</td>\n",
       "    </tr>\n",
       "    <tr>\n",
       "      <th>4</th>\n",
       "      <td>01-JAN-18 00:00:00</td>\n",
       "      <td>5965960</td>\n",
       "      <td>12</td>\n",
       "      <td>119</td>\n",
       "      <td>56401</td>\n",
       "      <td>56401</td>\n",
       "      <td>56401</td>\n",
       "      <td>56401</td>\n",
       "      <td>2693209</td>\n",
       "    </tr>\n",
       "  </tbody>\n",
       "</table>\n",
       "</div>"
      ],
      "text/plain": [
       "         DAYOFSERVICE   TRIPID  PROGRNUMBER  STOPPOINTID  PLANNEDTIME_ARR  \\\n",
       "0  01-JAN-18 00:00:00  5972116           12          119            48030   \n",
       "1  01-JAN-18 00:00:00  5966674           12          119            54001   \n",
       "2  01-JAN-18 00:00:00  5959105           12          119            60001   \n",
       "3  01-JAN-18 00:00:00  5966888           12          119            58801   \n",
       "4  01-JAN-18 00:00:00  5965960           12          119            56401   \n",
       "\n",
       "   PLANNEDTIME_DEP  ACTUALTIME_ARR  ACTUALTIME_DEP  VEHICLEID  \n",
       "0            48030           48030           48030    2693211  \n",
       "1            54001           54001           54001    2693267  \n",
       "2            60001           60001           60001    2693263  \n",
       "3            58801           58801           58801    2693284  \n",
       "4            56401           56401           56401    2693209  "
      ]
     },
     "execution_count": 3,
     "metadata": {},
     "output_type": "execute_result"
    }
   ],
   "source": [
    "leave.head()"
   ]
  },
  {
   "cell_type": "code",
   "execution_count": 4,
   "id": "433c6973",
   "metadata": {},
   "outputs": [
    {
     "data": {
      "text/plain": [
       "(116360526, 9)"
      ]
     },
     "execution_count": 4,
     "metadata": {},
     "output_type": "execute_result"
    }
   ],
   "source": [
    "leave.shape"
   ]
  },
  {
   "cell_type": "code",
   "execution_count": 5,
   "id": "c9aac35d",
   "metadata": {},
   "outputs": [
    {
     "data": {
      "text/plain": [
       "DAYOFSERVICE       object\n",
       "TRIPID              int64\n",
       "PROGRNUMBER         int64\n",
       "STOPPOINTID         int64\n",
       "PLANNEDTIME_ARR     int64\n",
       "PLANNEDTIME_DEP     int64\n",
       "ACTUALTIME_ARR      int64\n",
       "ACTUALTIME_DEP      int64\n",
       "VEHICLEID           int64\n",
       "dtype: object"
      ]
     },
     "execution_count": 5,
     "metadata": {},
     "output_type": "execute_result"
    }
   ],
   "source": [
    "leave.dtypes"
   ]
  },
  {
   "cell_type": "markdown",
   "id": "48e90c90",
   "metadata": {},
   "source": [
    "<h3>Changing Data Types to make size of leave dataframe smaller</h3>"
   ]
  },
  {
   "cell_type": "code",
   "execution_count": 6,
   "id": "9a57c2e3",
   "metadata": {},
   "outputs": [],
   "source": [
    "leave['TRIPID'] = leave['TRIPID'].astype('int32')"
   ]
  },
  {
   "cell_type": "code",
   "execution_count": 7,
   "id": "9a42d9ce",
   "metadata": {},
   "outputs": [],
   "source": [
    "leave['PROGRNUMBER'] = leave['PROGRNUMBER'].astype('int16')"
   ]
  },
  {
   "cell_type": "code",
   "execution_count": 8,
   "id": "98cc7719",
   "metadata": {},
   "outputs": [],
   "source": [
    "leave['STOPPOINTID'] = leave['STOPPOINTID'].astype('int16')"
   ]
  },
  {
   "cell_type": "code",
   "execution_count": 9,
   "id": "e63f91df",
   "metadata": {},
   "outputs": [],
   "source": [
    "leave['PLANNEDTIME_ARR'] = leave['PLANNEDTIME_ARR'].astype('int32')"
   ]
  },
  {
   "cell_type": "code",
   "execution_count": 10,
   "id": "aca10e31",
   "metadata": {},
   "outputs": [],
   "source": [
    "leave['PLANNEDTIME_DEP'] = leave['PLANNEDTIME_DEP'].astype('int32')"
   ]
  },
  {
   "cell_type": "code",
   "execution_count": 11,
   "id": "85507d96",
   "metadata": {},
   "outputs": [],
   "source": [
    "leave['ACTUALTIME_ARR'] = leave['PLANNEDTIME_DEP'].astype('int32')"
   ]
  },
  {
   "cell_type": "code",
   "execution_count": 12,
   "id": "3417b5f7",
   "metadata": {},
   "outputs": [],
   "source": [
    "leave['ACTUALTIME_DEP'] = leave['PLANNEDTIME_DEP'].astype('int32')"
   ]
  },
  {
   "cell_type": "code",
   "execution_count": 13,
   "id": "8659d73c",
   "metadata": {},
   "outputs": [],
   "source": [
    "leave['VEHICLEID'] = leave['VEHICLEID'].astype('int32')"
   ]
  },
  {
   "cell_type": "code",
   "execution_count": 14,
   "id": "fc37727c",
   "metadata": {},
   "outputs": [
    {
     "data": {
      "text/plain": [
       "DAYOFSERVICE       object\n",
       "TRIPID              int32\n",
       "PROGRNUMBER         int16\n",
       "STOPPOINTID         int16\n",
       "PLANNEDTIME_ARR     int32\n",
       "PLANNEDTIME_DEP     int32\n",
       "ACTUALTIME_ARR      int32\n",
       "ACTUALTIME_DEP      int32\n",
       "VEHICLEID           int32\n",
       "dtype: object"
      ]
     },
     "execution_count": 14,
     "metadata": {},
     "output_type": "execute_result"
    }
   ],
   "source": [
    "leave.dtypes"
   ]
  },
  {
   "cell_type": "code",
   "execution_count": 15,
   "id": "0580badd",
   "metadata": {},
   "outputs": [
    {
     "data": {
      "text/html": [
       "<div>\n",
       "<style scoped>\n",
       "    .dataframe tbody tr th:only-of-type {\n",
       "        vertical-align: middle;\n",
       "    }\n",
       "\n",
       "    .dataframe tbody tr th {\n",
       "        vertical-align: top;\n",
       "    }\n",
       "\n",
       "    .dataframe thead th {\n",
       "        text-align: right;\n",
       "    }\n",
       "</style>\n",
       "<table border=\"1\" class=\"dataframe\">\n",
       "  <thead>\n",
       "    <tr style=\"text-align: right;\">\n",
       "      <th></th>\n",
       "      <th>DAYOFSERVICE</th>\n",
       "      <th>TRIPID</th>\n",
       "      <th>PROGRNUMBER</th>\n",
       "      <th>STOPPOINTID</th>\n",
       "      <th>PLANNEDTIME_ARR</th>\n",
       "      <th>PLANNEDTIME_DEP</th>\n",
       "      <th>ACTUALTIME_ARR</th>\n",
       "      <th>ACTUALTIME_DEP</th>\n",
       "      <th>VEHICLEID</th>\n",
       "    </tr>\n",
       "  </thead>\n",
       "  <tbody>\n",
       "    <tr>\n",
       "      <th>0</th>\n",
       "      <td>01-JAN-18 00:00:00</td>\n",
       "      <td>5972116</td>\n",
       "      <td>12</td>\n",
       "      <td>119</td>\n",
       "      <td>48030</td>\n",
       "      <td>48030</td>\n",
       "      <td>48030</td>\n",
       "      <td>48030</td>\n",
       "      <td>2693211</td>\n",
       "    </tr>\n",
       "    <tr>\n",
       "      <th>1</th>\n",
       "      <td>01-JAN-18 00:00:00</td>\n",
       "      <td>5966674</td>\n",
       "      <td>12</td>\n",
       "      <td>119</td>\n",
       "      <td>54001</td>\n",
       "      <td>54001</td>\n",
       "      <td>54001</td>\n",
       "      <td>54001</td>\n",
       "      <td>2693267</td>\n",
       "    </tr>\n",
       "    <tr>\n",
       "      <th>2</th>\n",
       "      <td>01-JAN-18 00:00:00</td>\n",
       "      <td>5959105</td>\n",
       "      <td>12</td>\n",
       "      <td>119</td>\n",
       "      <td>60001</td>\n",
       "      <td>60001</td>\n",
       "      <td>60001</td>\n",
       "      <td>60001</td>\n",
       "      <td>2693263</td>\n",
       "    </tr>\n",
       "    <tr>\n",
       "      <th>3</th>\n",
       "      <td>01-JAN-18 00:00:00</td>\n",
       "      <td>5966888</td>\n",
       "      <td>12</td>\n",
       "      <td>119</td>\n",
       "      <td>58801</td>\n",
       "      <td>58801</td>\n",
       "      <td>58801</td>\n",
       "      <td>58801</td>\n",
       "      <td>2693284</td>\n",
       "    </tr>\n",
       "    <tr>\n",
       "      <th>4</th>\n",
       "      <td>01-JAN-18 00:00:00</td>\n",
       "      <td>5965960</td>\n",
       "      <td>12</td>\n",
       "      <td>119</td>\n",
       "      <td>56401</td>\n",
       "      <td>56401</td>\n",
       "      <td>56401</td>\n",
       "      <td>56401</td>\n",
       "      <td>2693209</td>\n",
       "    </tr>\n",
       "  </tbody>\n",
       "</table>\n",
       "</div>"
      ],
      "text/plain": [
       "         DAYOFSERVICE   TRIPID  PROGRNUMBER  STOPPOINTID  PLANNEDTIME_ARR  \\\n",
       "0  01-JAN-18 00:00:00  5972116           12          119            48030   \n",
       "1  01-JAN-18 00:00:00  5966674           12          119            54001   \n",
       "2  01-JAN-18 00:00:00  5959105           12          119            60001   \n",
       "3  01-JAN-18 00:00:00  5966888           12          119            58801   \n",
       "4  01-JAN-18 00:00:00  5965960           12          119            56401   \n",
       "\n",
       "   PLANNEDTIME_DEP  ACTUALTIME_ARR  ACTUALTIME_DEP  VEHICLEID  \n",
       "0            48030           48030           48030    2693211  \n",
       "1            54001           54001           54001    2693267  \n",
       "2            60001           60001           60001    2693263  \n",
       "3            58801           58801           58801    2693284  \n",
       "4            56401           56401           56401    2693209  "
      ]
     },
     "execution_count": 15,
     "metadata": {},
     "output_type": "execute_result"
    }
   ],
   "source": [
    "leave.head()"
   ]
  },
  {
   "cell_type": "markdown",
   "id": "72c62b7c",
   "metadata": {},
   "source": [
    "## Sort the dataframe by Trip ID"
   ]
  },
  {
   "cell_type": "code",
   "execution_count": 16,
   "id": "66a10e59",
   "metadata": {},
   "outputs": [],
   "source": [
    "leave_sort = leave.sort_values('TRIPID')"
   ]
  },
  {
   "cell_type": "code",
   "execution_count": 17,
   "id": "a6ff1133",
   "metadata": {},
   "outputs": [
    {
     "data": {
      "text/plain": [
       "(116360526, 9)"
      ]
     },
     "execution_count": 17,
     "metadata": {},
     "output_type": "execute_result"
    }
   ],
   "source": [
    "leave_sort.shape"
   ]
  },
  {
   "cell_type": "code",
   "execution_count": 18,
   "id": "d3d407c1",
   "metadata": {},
   "outputs": [
    {
     "data": {
      "text/html": [
       "<div>\n",
       "<style scoped>\n",
       "    .dataframe tbody tr th:only-of-type {\n",
       "        vertical-align: middle;\n",
       "    }\n",
       "\n",
       "    .dataframe tbody tr th {\n",
       "        vertical-align: top;\n",
       "    }\n",
       "\n",
       "    .dataframe thead th {\n",
       "        text-align: right;\n",
       "    }\n",
       "</style>\n",
       "<table border=\"1\" class=\"dataframe\">\n",
       "  <thead>\n",
       "    <tr style=\"text-align: right;\">\n",
       "      <th></th>\n",
       "      <th>DAYOFSERVICE</th>\n",
       "      <th>TRIPID</th>\n",
       "      <th>PROGRNUMBER</th>\n",
       "      <th>STOPPOINTID</th>\n",
       "      <th>PLANNEDTIME_ARR</th>\n",
       "      <th>PLANNEDTIME_DEP</th>\n",
       "      <th>ACTUALTIME_ARR</th>\n",
       "      <th>ACTUALTIME_DEP</th>\n",
       "      <th>VEHICLEID</th>\n",
       "    </tr>\n",
       "  </thead>\n",
       "  <tbody>\n",
       "    <tr>\n",
       "      <th>1580830</th>\n",
       "      <td>06-JAN-18 00:00:00</td>\n",
       "      <td>5955221</td>\n",
       "      <td>69</td>\n",
       "      <td>2861</td>\n",
       "      <td>42184</td>\n",
       "      <td>42184</td>\n",
       "      <td>42184</td>\n",
       "      <td>42184</td>\n",
       "      <td>2693254</td>\n",
       "    </tr>\n",
       "    <tr>\n",
       "      <th>1578400</th>\n",
       "      <td>06-JAN-18 00:00:00</td>\n",
       "      <td>5955221</td>\n",
       "      <td>65</td>\n",
       "      <td>2857</td>\n",
       "      <td>42001</td>\n",
       "      <td>42001</td>\n",
       "      <td>42001</td>\n",
       "      <td>42001</td>\n",
       "      <td>2693254</td>\n",
       "    </tr>\n",
       "    <tr>\n",
       "      <th>9777438</th>\n",
       "      <td>06-JAN-18 00:00:00</td>\n",
       "      <td>5955221</td>\n",
       "      <td>74</td>\n",
       "      <td>2865</td>\n",
       "      <td>42457</td>\n",
       "      <td>42457</td>\n",
       "      <td>42457</td>\n",
       "      <td>42457</td>\n",
       "      <td>2693254</td>\n",
       "    </tr>\n",
       "    <tr>\n",
       "      <th>1572261</th>\n",
       "      <td>06-JAN-18 00:00:00</td>\n",
       "      <td>5955221</td>\n",
       "      <td>52</td>\n",
       "      <td>1045</td>\n",
       "      <td>41336</td>\n",
       "      <td>41336</td>\n",
       "      <td>41336</td>\n",
       "      <td>41336</td>\n",
       "      <td>2693254</td>\n",
       "    </tr>\n",
       "    <tr>\n",
       "      <th>1578368</th>\n",
       "      <td>06-JAN-18 00:00:00</td>\n",
       "      <td>5955221</td>\n",
       "      <td>64</td>\n",
       "      <td>2856</td>\n",
       "      <td>41956</td>\n",
       "      <td>41956</td>\n",
       "      <td>41956</td>\n",
       "      <td>41956</td>\n",
       "      <td>2693254</td>\n",
       "    </tr>\n",
       "  </tbody>\n",
       "</table>\n",
       "</div>"
      ],
      "text/plain": [
       "               DAYOFSERVICE   TRIPID  PROGRNUMBER  STOPPOINTID  \\\n",
       "1580830  06-JAN-18 00:00:00  5955221           69         2861   \n",
       "1578400  06-JAN-18 00:00:00  5955221           65         2857   \n",
       "9777438  06-JAN-18 00:00:00  5955221           74         2865   \n",
       "1572261  06-JAN-18 00:00:00  5955221           52         1045   \n",
       "1578368  06-JAN-18 00:00:00  5955221           64         2856   \n",
       "\n",
       "         PLANNEDTIME_ARR  PLANNEDTIME_DEP  ACTUALTIME_ARR  ACTUALTIME_DEP  \\\n",
       "1580830            42184            42184           42184           42184   \n",
       "1578400            42001            42001           42001           42001   \n",
       "9777438            42457            42457           42457           42457   \n",
       "1572261            41336            41336           41336           41336   \n",
       "1578368            41956            41956           41956           41956   \n",
       "\n",
       "         VEHICLEID  \n",
       "1580830    2693254  \n",
       "1578400    2693254  \n",
       "9777438    2693254  \n",
       "1572261    2693254  \n",
       "1578368    2693254  "
      ]
     },
     "execution_count": 18,
     "metadata": {},
     "output_type": "execute_result"
    }
   ],
   "source": [
    "leave_sort.head()"
   ]
  },
  {
   "cell_type": "markdown",
   "id": "cbb157ea",
   "metadata": {},
   "source": [
    "## Splitting the Sorted Dataframe into Five Dataframes"
   ]
  },
  {
   "cell_type": "code",
   "execution_count": 19,
   "id": "d3f6b460",
   "metadata": {},
   "outputs": [
    {
     "ename": "MemoryError",
     "evalue": "Unable to allocate 2.60 GiB for an array with shape (6, 116360526) and data type int32",
     "output_type": "error",
     "traceback": [
      "\u001b[0;31m---------------------------------------------------------------------------\u001b[0m",
      "\u001b[0;31mMemoryError\u001b[0m                               Traceback (most recent call last)",
      "Input \u001b[0;32mIn [19]\u001b[0m, in \u001b[0;36m<cell line: 1>\u001b[0;34m()\u001b[0m\n\u001b[0;32m----> 1\u001b[0m leave1, leave2, leave3, leave4, leave5, leave6, leave7, leave8 \u001b[38;5;241m=\u001b[39m \u001b[43mnp\u001b[49m\u001b[38;5;241;43m.\u001b[39;49m\u001b[43marray_split\u001b[49m\u001b[43m(\u001b[49m\u001b[43mleave_sort\u001b[49m\u001b[43m,\u001b[49m\u001b[43m \u001b[49m\u001b[38;5;241;43m8\u001b[39;49m\u001b[43m)\u001b[49m\n",
      "File \u001b[0;32m<__array_function__ internals>:180\u001b[0m, in \u001b[0;36marray_split\u001b[0;34m(*args, **kwargs)\u001b[0m\n",
      "File \u001b[0;32m~/miniconda3/envs/xpressbus/lib/python3.10/site-packages/numpy/lib/shape_base.py:786\u001b[0m, in \u001b[0;36marray_split\u001b[0;34m(ary, indices_or_sections, axis)\u001b[0m\n\u001b[1;32m    783\u001b[0m     div_points \u001b[38;5;241m=\u001b[39m _nx\u001b[38;5;241m.\u001b[39marray(section_sizes, dtype\u001b[38;5;241m=\u001b[39m_nx\u001b[38;5;241m.\u001b[39mintp)\u001b[38;5;241m.\u001b[39mcumsum()\n\u001b[1;32m    785\u001b[0m sub_arys \u001b[38;5;241m=\u001b[39m []\n\u001b[0;32m--> 786\u001b[0m sary \u001b[38;5;241m=\u001b[39m \u001b[43m_nx\u001b[49m\u001b[38;5;241;43m.\u001b[39;49m\u001b[43mswapaxes\u001b[49m\u001b[43m(\u001b[49m\u001b[43mary\u001b[49m\u001b[43m,\u001b[49m\u001b[43m \u001b[49m\u001b[43maxis\u001b[49m\u001b[43m,\u001b[49m\u001b[43m \u001b[49m\u001b[38;5;241;43m0\u001b[39;49m\u001b[43m)\u001b[49m\n\u001b[1;32m    787\u001b[0m \u001b[38;5;28;01mfor\u001b[39;00m i \u001b[38;5;129;01min\u001b[39;00m \u001b[38;5;28mrange\u001b[39m(Nsections):\n\u001b[1;32m    788\u001b[0m     st \u001b[38;5;241m=\u001b[39m div_points[i]\n",
      "File \u001b[0;32m<__array_function__ internals>:180\u001b[0m, in \u001b[0;36mswapaxes\u001b[0;34m(*args, **kwargs)\u001b[0m\n",
      "File \u001b[0;32m~/miniconda3/envs/xpressbus/lib/python3.10/site-packages/numpy/core/fromnumeric.py:594\u001b[0m, in \u001b[0;36mswapaxes\u001b[0;34m(a, axis1, axis2)\u001b[0m\n\u001b[1;32m    550\u001b[0m \u001b[38;5;129m@array_function_dispatch\u001b[39m(_swapaxes_dispatcher)\n\u001b[1;32m    551\u001b[0m \u001b[38;5;28;01mdef\u001b[39;00m \u001b[38;5;21mswapaxes\u001b[39m(a, axis1, axis2):\n\u001b[1;32m    552\u001b[0m     \u001b[38;5;124;03m\"\"\"\u001b[39;00m\n\u001b[1;32m    553\u001b[0m \u001b[38;5;124;03m    Interchange two axes of an array.\u001b[39;00m\n\u001b[1;32m    554\u001b[0m \n\u001b[0;32m   (...)\u001b[0m\n\u001b[1;32m    592\u001b[0m \n\u001b[1;32m    593\u001b[0m \u001b[38;5;124;03m    \"\"\"\u001b[39;00m\n\u001b[0;32m--> 594\u001b[0m     \u001b[38;5;28;01mreturn\u001b[39;00m \u001b[43m_wrapfunc\u001b[49m\u001b[43m(\u001b[49m\u001b[43ma\u001b[49m\u001b[43m,\u001b[49m\u001b[43m \u001b[49m\u001b[38;5;124;43m'\u001b[39;49m\u001b[38;5;124;43mswapaxes\u001b[39;49m\u001b[38;5;124;43m'\u001b[39;49m\u001b[43m,\u001b[49m\u001b[43m \u001b[49m\u001b[43maxis1\u001b[49m\u001b[43m,\u001b[49m\u001b[43m \u001b[49m\u001b[43maxis2\u001b[49m\u001b[43m)\u001b[49m\n",
      "File \u001b[0;32m~/miniconda3/envs/xpressbus/lib/python3.10/site-packages/numpy/core/fromnumeric.py:57\u001b[0m, in \u001b[0;36m_wrapfunc\u001b[0;34m(obj, method, *args, **kwds)\u001b[0m\n\u001b[1;32m     54\u001b[0m     \u001b[38;5;28;01mreturn\u001b[39;00m _wrapit(obj, method, \u001b[38;5;241m*\u001b[39margs, \u001b[38;5;241m*\u001b[39m\u001b[38;5;241m*\u001b[39mkwds)\n\u001b[1;32m     56\u001b[0m \u001b[38;5;28;01mtry\u001b[39;00m:\n\u001b[0;32m---> 57\u001b[0m     \u001b[38;5;28;01mreturn\u001b[39;00m \u001b[43mbound\u001b[49m\u001b[43m(\u001b[49m\u001b[38;5;241;43m*\u001b[39;49m\u001b[43margs\u001b[49m\u001b[43m,\u001b[49m\u001b[43m \u001b[49m\u001b[38;5;241;43m*\u001b[39;49m\u001b[38;5;241;43m*\u001b[39;49m\u001b[43mkwds\u001b[49m\u001b[43m)\u001b[49m\n\u001b[1;32m     58\u001b[0m \u001b[38;5;28;01mexcept\u001b[39;00m \u001b[38;5;167;01mTypeError\u001b[39;00m:\n\u001b[1;32m     59\u001b[0m     \u001b[38;5;66;03m# A TypeError occurs if the object does have such a method in its\u001b[39;00m\n\u001b[1;32m     60\u001b[0m     \u001b[38;5;66;03m# class, but its signature is not identical to that of NumPy's. This\u001b[39;00m\n\u001b[0;32m   (...)\u001b[0m\n\u001b[1;32m     64\u001b[0m     \u001b[38;5;66;03m# Call _wrapit from within the except clause to ensure a potential\u001b[39;00m\n\u001b[1;32m     65\u001b[0m     \u001b[38;5;66;03m# exception has a traceback chain.\u001b[39;00m\n\u001b[1;32m     66\u001b[0m     \u001b[38;5;28;01mreturn\u001b[39;00m _wrapit(obj, method, \u001b[38;5;241m*\u001b[39margs, \u001b[38;5;241m*\u001b[39m\u001b[38;5;241m*\u001b[39mkwds)\n",
      "File \u001b[0;32m~/miniconda3/envs/xpressbus/lib/python3.10/site-packages/pandas/core/generic.py:786\u001b[0m, in \u001b[0;36mNDFrame.swapaxes\u001b[0;34m(self, axis1, axis2, copy)\u001b[0m\n\u001b[1;32m    784\u001b[0m \u001b[38;5;28;01mif\u001b[39;00m i \u001b[38;5;241m==\u001b[39m j:\n\u001b[1;32m    785\u001b[0m     \u001b[38;5;28;01mif\u001b[39;00m copy:\n\u001b[0;32m--> 786\u001b[0m         \u001b[38;5;28;01mreturn\u001b[39;00m \u001b[38;5;28;43mself\u001b[39;49m\u001b[38;5;241;43m.\u001b[39;49m\u001b[43mcopy\u001b[49m\u001b[43m(\u001b[49m\u001b[43m)\u001b[49m\n\u001b[1;32m    787\u001b[0m     \u001b[38;5;28;01mreturn\u001b[39;00m \u001b[38;5;28mself\u001b[39m\n\u001b[1;32m    789\u001b[0m mapping \u001b[38;5;241m=\u001b[39m {i: j, j: i}\n",
      "File \u001b[0;32m~/miniconda3/envs/xpressbus/lib/python3.10/site-packages/pandas/core/generic.py:6032\u001b[0m, in \u001b[0;36mNDFrame.copy\u001b[0;34m(self, deep)\u001b[0m\n\u001b[1;32m   5926\u001b[0m \u001b[38;5;129m@final\u001b[39m\n\u001b[1;32m   5927\u001b[0m \u001b[38;5;28;01mdef\u001b[39;00m \u001b[38;5;21mcopy\u001b[39m(\u001b[38;5;28mself\u001b[39m: NDFrameT, deep: bool_t \u001b[38;5;241m=\u001b[39m \u001b[38;5;28;01mTrue\u001b[39;00m) \u001b[38;5;241m-\u001b[39m\u001b[38;5;241m>\u001b[39m NDFrameT:\n\u001b[1;32m   5928\u001b[0m     \u001b[38;5;124;03m\"\"\"\u001b[39;00m\n\u001b[1;32m   5929\u001b[0m \u001b[38;5;124;03m    Make a copy of this object's indices and data.\u001b[39;00m\n\u001b[1;32m   5930\u001b[0m \n\u001b[0;32m   (...)\u001b[0m\n\u001b[1;32m   6030\u001b[0m \u001b[38;5;124;03m    dtype: object\u001b[39;00m\n\u001b[1;32m   6031\u001b[0m \u001b[38;5;124;03m    \"\"\"\u001b[39;00m\n\u001b[0;32m-> 6032\u001b[0m     data \u001b[38;5;241m=\u001b[39m \u001b[38;5;28;43mself\u001b[39;49m\u001b[38;5;241;43m.\u001b[39;49m\u001b[43m_mgr\u001b[49m\u001b[38;5;241;43m.\u001b[39;49m\u001b[43mcopy\u001b[49m\u001b[43m(\u001b[49m\u001b[43mdeep\u001b[49m\u001b[38;5;241;43m=\u001b[39;49m\u001b[43mdeep\u001b[49m\u001b[43m)\u001b[49m\n\u001b[1;32m   6033\u001b[0m     \u001b[38;5;28mself\u001b[39m\u001b[38;5;241m.\u001b[39m_clear_item_cache()\n\u001b[1;32m   6034\u001b[0m     \u001b[38;5;28;01mreturn\u001b[39;00m \u001b[38;5;28mself\u001b[39m\u001b[38;5;241m.\u001b[39m_constructor(data)\u001b[38;5;241m.\u001b[39m__finalize__(\u001b[38;5;28mself\u001b[39m, method\u001b[38;5;241m=\u001b[39m\u001b[38;5;124m\"\u001b[39m\u001b[38;5;124mcopy\u001b[39m\u001b[38;5;124m\"\u001b[39m)\n",
      "File \u001b[0;32m~/miniconda3/envs/xpressbus/lib/python3.10/site-packages/pandas/core/internals/managers.py:615\u001b[0m, in \u001b[0;36mBaseBlockManager.copy\u001b[0;34m(self, deep)\u001b[0m\n\u001b[1;32m    612\u001b[0m         res\u001b[38;5;241m.\u001b[39m_blklocs \u001b[38;5;241m=\u001b[39m \u001b[38;5;28mself\u001b[39m\u001b[38;5;241m.\u001b[39m_blklocs\u001b[38;5;241m.\u001b[39mcopy()\n\u001b[1;32m    614\u001b[0m \u001b[38;5;28;01mif\u001b[39;00m deep:\n\u001b[0;32m--> 615\u001b[0m     \u001b[43mres\u001b[49m\u001b[38;5;241;43m.\u001b[39;49m\u001b[43m_consolidate_inplace\u001b[49m\u001b[43m(\u001b[49m\u001b[43m)\u001b[49m\n\u001b[1;32m    616\u001b[0m \u001b[38;5;28;01mreturn\u001b[39;00m res\n",
      "File \u001b[0;32m~/miniconda3/envs/xpressbus/lib/python3.10/site-packages/pandas/core/internals/managers.py:1685\u001b[0m, in \u001b[0;36mBlockManager._consolidate_inplace\u001b[0;34m(self)\u001b[0m\n\u001b[1;32m   1683\u001b[0m \u001b[38;5;28;01mdef\u001b[39;00m \u001b[38;5;21m_consolidate_inplace\u001b[39m(\u001b[38;5;28mself\u001b[39m) \u001b[38;5;241m-\u001b[39m\u001b[38;5;241m>\u001b[39m \u001b[38;5;28;01mNone\u001b[39;00m:\n\u001b[1;32m   1684\u001b[0m     \u001b[38;5;28;01mif\u001b[39;00m \u001b[38;5;129;01mnot\u001b[39;00m \u001b[38;5;28mself\u001b[39m\u001b[38;5;241m.\u001b[39mis_consolidated():\n\u001b[0;32m-> 1685\u001b[0m         \u001b[38;5;28mself\u001b[39m\u001b[38;5;241m.\u001b[39mblocks \u001b[38;5;241m=\u001b[39m \u001b[38;5;28mtuple\u001b[39m(\u001b[43m_consolidate\u001b[49m\u001b[43m(\u001b[49m\u001b[38;5;28;43mself\u001b[39;49m\u001b[38;5;241;43m.\u001b[39;49m\u001b[43mblocks\u001b[49m\u001b[43m)\u001b[49m)\n\u001b[1;32m   1686\u001b[0m         \u001b[38;5;28mself\u001b[39m\u001b[38;5;241m.\u001b[39m_is_consolidated \u001b[38;5;241m=\u001b[39m \u001b[38;5;28;01mTrue\u001b[39;00m\n\u001b[1;32m   1687\u001b[0m         \u001b[38;5;28mself\u001b[39m\u001b[38;5;241m.\u001b[39m_known_consolidated \u001b[38;5;241m=\u001b[39m \u001b[38;5;28;01mTrue\u001b[39;00m\n",
      "File \u001b[0;32m~/miniconda3/envs/xpressbus/lib/python3.10/site-packages/pandas/core/internals/managers.py:2084\u001b[0m, in \u001b[0;36m_consolidate\u001b[0;34m(blocks)\u001b[0m\n\u001b[1;32m   2082\u001b[0m new_blocks: \u001b[38;5;28mlist\u001b[39m[Block] \u001b[38;5;241m=\u001b[39m []\n\u001b[1;32m   2083\u001b[0m \u001b[38;5;28;01mfor\u001b[39;00m (_can_consolidate, dtype), group_blocks \u001b[38;5;129;01min\u001b[39;00m grouper:\n\u001b[0;32m-> 2084\u001b[0m     merged_blocks \u001b[38;5;241m=\u001b[39m \u001b[43m_merge_blocks\u001b[49m\u001b[43m(\u001b[49m\n\u001b[1;32m   2085\u001b[0m \u001b[43m        \u001b[49m\u001b[38;5;28;43mlist\u001b[39;49m\u001b[43m(\u001b[49m\u001b[43mgroup_blocks\u001b[49m\u001b[43m)\u001b[49m\u001b[43m,\u001b[49m\u001b[43m \u001b[49m\u001b[43mdtype\u001b[49m\u001b[38;5;241;43m=\u001b[39;49m\u001b[43mdtype\u001b[49m\u001b[43m,\u001b[49m\u001b[43m \u001b[49m\u001b[43mcan_consolidate\u001b[49m\u001b[38;5;241;43m=\u001b[39;49m\u001b[43m_can_consolidate\u001b[49m\n\u001b[1;32m   2086\u001b[0m \u001b[43m    \u001b[49m\u001b[43m)\u001b[49m\n\u001b[1;32m   2087\u001b[0m     new_blocks \u001b[38;5;241m=\u001b[39m extend_blocks(merged_blocks, new_blocks)\n\u001b[1;32m   2088\u001b[0m \u001b[38;5;28;01mreturn\u001b[39;00m new_blocks\n",
      "File \u001b[0;32m~/miniconda3/envs/xpressbus/lib/python3.10/site-packages/pandas/core/internals/managers.py:2118\u001b[0m, in \u001b[0;36m_merge_blocks\u001b[0;34m(blocks, dtype, can_consolidate)\u001b[0m\n\u001b[1;32m   2115\u001b[0m     new_values \u001b[38;5;241m=\u001b[39m bvals2[\u001b[38;5;241m0\u001b[39m]\u001b[38;5;241m.\u001b[39m_concat_same_type(bvals2, axis\u001b[38;5;241m=\u001b[39m\u001b[38;5;241m0\u001b[39m)\n\u001b[1;32m   2117\u001b[0m argsort \u001b[38;5;241m=\u001b[39m np\u001b[38;5;241m.\u001b[39margsort(new_mgr_locs)\n\u001b[0;32m-> 2118\u001b[0m new_values \u001b[38;5;241m=\u001b[39m \u001b[43mnew_values\u001b[49m\u001b[43m[\u001b[49m\u001b[43margsort\u001b[49m\u001b[43m]\u001b[49m\n\u001b[1;32m   2119\u001b[0m new_mgr_locs \u001b[38;5;241m=\u001b[39m new_mgr_locs[argsort]\n\u001b[1;32m   2121\u001b[0m bp \u001b[38;5;241m=\u001b[39m BlockPlacement(new_mgr_locs)\n",
      "\u001b[0;31mMemoryError\u001b[0m: Unable to allocate 2.60 GiB for an array with shape (6, 116360526) and data type int32"
     ]
    }
   ],
   "source": [
    "leave1, leave2, leave3, leave4, leave5, leave6, leave7, leave8 = np.array_split(leave_sort, 8)"
   ]
  },
  {
   "cell_type": "code",
   "execution_count": null,
   "id": "49aee333",
   "metadata": {},
   "outputs": [],
   "source": [
    "leave1.shape"
   ]
  },
  {
   "cell_type": "code",
   "execution_count": null,
   "id": "05726bb9",
   "metadata": {},
   "outputs": [],
   "source": [
    "leave1.tail()"
   ]
  },
  {
   "cell_type": "code",
   "execution_count": null,
   "id": "74a7404d",
   "metadata": {},
   "outputs": [],
   "source": [
    "leave2.shape"
   ]
  },
  {
   "cell_type": "code",
   "execution_count": null,
   "id": "0f41d2e4",
   "metadata": {},
   "outputs": [],
   "source": [
    "leave2.head()"
   ]
  },
  {
   "cell_type": "code",
   "execution_count": null,
   "id": "764b2941",
   "metadata": {},
   "outputs": [],
   "source": [
    "leave2.tail()"
   ]
  },
  {
   "cell_type": "code",
   "execution_count": null,
   "id": "cb9c4748",
   "metadata": {},
   "outputs": [],
   "source": [
    "leave3.shape"
   ]
  },
  {
   "cell_type": "code",
   "execution_count": null,
   "id": "f61cf1c1",
   "metadata": {},
   "outputs": [],
   "source": [
    "leave3.head()"
   ]
  },
  {
   "cell_type": "code",
   "execution_count": null,
   "id": "bb83a442",
   "metadata": {},
   "outputs": [],
   "source": [
    "leave3.tail()"
   ]
  },
  {
   "cell_type": "code",
   "execution_count": null,
   "id": "737c98bf",
   "metadata": {},
   "outputs": [],
   "source": [
    "leave4.shape"
   ]
  },
  {
   "cell_type": "code",
   "execution_count": null,
   "id": "f31dfdd9",
   "metadata": {},
   "outputs": [],
   "source": [
    "leave4.head()"
   ]
  },
  {
   "cell_type": "code",
   "execution_count": null,
   "id": "b7457a57",
   "metadata": {},
   "outputs": [],
   "source": [
    "leave4.tail()"
   ]
  },
  {
   "cell_type": "code",
   "execution_count": null,
   "id": "d2f78067",
   "metadata": {},
   "outputs": [],
   "source": [
    "leave5.shape"
   ]
  },
  {
   "cell_type": "code",
   "execution_count": null,
   "id": "687afed0",
   "metadata": {},
   "outputs": [],
   "source": [
    "leave5.head()"
   ]
  },
  {
   "cell_type": "code",
   "execution_count": null,
   "id": "26a5e212",
   "metadata": {},
   "outputs": [],
   "source": [
    "leave5.tail()"
   ]
  },
  {
   "cell_type": "code",
   "execution_count": null,
   "id": "203dea95",
   "metadata": {},
   "outputs": [],
   "source": [
    "leave6.shape"
   ]
  },
  {
   "cell_type": "code",
   "execution_count": null,
   "id": "385d3576",
   "metadata": {},
   "outputs": [],
   "source": [
    "leave6.head()"
   ]
  },
  {
   "cell_type": "code",
   "execution_count": null,
   "id": "5673dfdd",
   "metadata": {},
   "outputs": [],
   "source": [
    "leave6.tail()"
   ]
  },
  {
   "cell_type": "code",
   "execution_count": null,
   "id": "4821585d",
   "metadata": {},
   "outputs": [],
   "source": [
    "leave7.shape"
   ]
  },
  {
   "cell_type": "code",
   "execution_count": null,
   "id": "f6c5ac09",
   "metadata": {},
   "outputs": [],
   "source": [
    "leave7.head()"
   ]
  },
  {
   "cell_type": "code",
   "execution_count": null,
   "id": "c701ec12",
   "metadata": {},
   "outputs": [],
   "source": [
    "leave7.tail()"
   ]
  },
  {
   "cell_type": "code",
   "execution_count": null,
   "id": "1159ecfa",
   "metadata": {},
   "outputs": [],
   "source": [
    "leave8.shape"
   ]
  },
  {
   "cell_type": "code",
   "execution_count": null,
   "id": "52f48ca7",
   "metadata": {},
   "outputs": [],
   "source": [
    "leave8.head()"
   ]
  },
  {
   "cell_type": "markdown",
   "id": "0e775ea3",
   "metadata": {},
   "source": [
    "## Moving the Split Trip ID into the other Dataframes"
   ]
  },
  {
   "cell_type": "markdown",
   "id": "7216a16d",
   "metadata": {},
   "source": [
    "<h3>1 to 2:</h3>"
   ]
  },
  {
   "cell_type": "code",
   "execution_count": null,
   "id": "4de4492f",
   "metadata": {},
   "outputs": [],
   "source": [
    "leave1.TRIPID.value_counts()[6392987]"
   ]
  },
  {
   "cell_type": "code",
   "execution_count": null,
   "id": "a77f115b",
   "metadata": {},
   "outputs": [],
   "source": [
    "leave2.TRIPID.value_counts()[6392987]"
   ]
  },
  {
   "cell_type": "code",
   "execution_count": null,
   "id": "6a697573",
   "metadata": {},
   "outputs": [],
   "source": [
    "# Grabbing trip 6392987 from leave1\n",
    "tripMove = leave1 [leave1['TRIPID'] == 6392987]\n",
    "\n",
    "tripMove.shape"
   ]
  },
  {
   "cell_type": "code",
   "execution_count": null,
   "id": "d903a11a",
   "metadata": {},
   "outputs": [],
   "source": [
    "leave2"
   ]
  },
  {
   "cell_type": "code",
   "execution_count": null,
   "id": "74f80786",
   "metadata": {},
   "outputs": [],
   "source": [
    "# Append trip dataframe to leave2\n",
    "leave2 = leave2.append(tripMove)"
   ]
  },
  {
   "cell_type": "code",
   "execution_count": null,
   "id": "c71113e8",
   "metadata": {},
   "outputs": [],
   "source": [
    "leave2.shape"
   ]
  },
  {
   "cell_type": "code",
   "execution_count": null,
   "id": "021e48b0",
   "metadata": {},
   "outputs": [],
   "source": [
    "# Drop rows with tripMove from leave1\n",
    "leave1.drop(leave1[leave1['TRIPID'] == 6392987].index, inplace = True)"
   ]
  },
  {
   "cell_type": "code",
   "execution_count": null,
   "id": "730bca4e",
   "metadata": {},
   "outputs": [],
   "source": [
    "leave1.shape"
   ]
  },
  {
   "cell_type": "code",
   "execution_count": null,
   "id": "3c9d5ca0",
   "metadata": {},
   "outputs": [],
   "source": [
    "leave1.tail()"
   ]
  },
  {
   "cell_type": "markdown",
   "id": "7ee49cef",
   "metadata": {},
   "source": [
    "<h3>2 to 3:</h3>"
   ]
  },
  {
   "cell_type": "code",
   "execution_count": null,
   "id": "9563a010",
   "metadata": {},
   "outputs": [],
   "source": [
    "leave2.TRIPID.value_counts()[6777634]"
   ]
  },
  {
   "cell_type": "code",
   "execution_count": null,
   "id": "c908e4ee",
   "metadata": {},
   "outputs": [],
   "source": [
    "leave3.TRIPID.value_counts()[6777634]"
   ]
  },
  {
   "cell_type": "code",
   "execution_count": null,
   "id": "f0d8856a",
   "metadata": {},
   "outputs": [],
   "source": [
    "# Grabbing trip 6777634 from leave3\n",
    "tripMove = leave2 [leave2['TRIPID'] == 6777634]\n",
    "\n",
    "tripMove.shape"
   ]
  },
  {
   "cell_type": "code",
   "execution_count": null,
   "id": "73ab69d1",
   "metadata": {},
   "outputs": [],
   "source": [
    "leave3"
   ]
  },
  {
   "cell_type": "code",
   "execution_count": null,
   "id": "e989099b",
   "metadata": {},
   "outputs": [],
   "source": [
    "# Append trip dataframe to leave3\n",
    "leave3 = leave3.append(tripMove)"
   ]
  },
  {
   "cell_type": "code",
   "execution_count": null,
   "id": "33f271db",
   "metadata": {},
   "outputs": [],
   "source": [
    "leave3.shape"
   ]
  },
  {
   "cell_type": "code",
   "execution_count": null,
   "id": "6a5462d4",
   "metadata": {},
   "outputs": [],
   "source": [
    "# Drop rows with tripMove from leave2\n",
    "leave2.drop(leave2[leave2['TRIPID'] == 6777634].index, inplace = True)"
   ]
  },
  {
   "cell_type": "code",
   "execution_count": null,
   "id": "33dfb1e9",
   "metadata": {},
   "outputs": [],
   "source": [
    "leave2.shape"
   ]
  },
  {
   "cell_type": "code",
   "execution_count": null,
   "id": "c16655cc",
   "metadata": {},
   "outputs": [],
   "source": [
    "leave2.tail()"
   ]
  },
  {
   "cell_type": "markdown",
   "id": "85067284",
   "metadata": {},
   "source": [
    "<h3>3 to 4:</h3>"
   ]
  },
  {
   "cell_type": "code",
   "execution_count": null,
   "id": "f39867d8",
   "metadata": {},
   "outputs": [],
   "source": [
    "leave3.TRIPID.value_counts()[7318670]"
   ]
  },
  {
   "cell_type": "code",
   "execution_count": null,
   "id": "8e12073b",
   "metadata": {},
   "outputs": [],
   "source": [
    "leave4.TRIPID.value_counts()[7318670]"
   ]
  },
  {
   "cell_type": "code",
   "execution_count": null,
   "id": "c9b2849f",
   "metadata": {},
   "outputs": [],
   "source": [
    "# Grabbing trip 7318670 from leave3\n",
    "tripMove = leave3 [leave3['TRIPID'] == 7318670]\n",
    "\n",
    "tripMove.shape"
   ]
  },
  {
   "cell_type": "code",
   "execution_count": null,
   "id": "beff70ff",
   "metadata": {},
   "outputs": [],
   "source": [
    "leave4"
   ]
  },
  {
   "cell_type": "code",
   "execution_count": null,
   "id": "cc1d39e0",
   "metadata": {},
   "outputs": [],
   "source": [
    "# Append trip dataframe to leave4\n",
    "leave4 = leave4.append(tripMove)"
   ]
  },
  {
   "cell_type": "code",
   "execution_count": null,
   "id": "4224b390",
   "metadata": {},
   "outputs": [],
   "source": [
    "leave4.shape"
   ]
  },
  {
   "cell_type": "code",
   "execution_count": null,
   "id": "0d55f82f",
   "metadata": {},
   "outputs": [],
   "source": [
    "# Drop rows with tripMove from leave3\n",
    "leave3.drop(leave3[leave3['TRIPID'] == 7318670].index, inplace = True)"
   ]
  },
  {
   "cell_type": "code",
   "execution_count": null,
   "id": "6d999f21",
   "metadata": {},
   "outputs": [],
   "source": [
    "leave3.shape"
   ]
  },
  {
   "cell_type": "code",
   "execution_count": null,
   "id": "7ed4b0da",
   "metadata": {},
   "outputs": [],
   "source": [
    "leave3.tail()"
   ]
  },
  {
   "cell_type": "markdown",
   "id": "3218a4fb",
   "metadata": {},
   "source": [
    "<h3>4 to 5:</h3>"
   ]
  },
  {
   "cell_type": "code",
   "execution_count": null,
   "id": "eff62d20",
   "metadata": {},
   "outputs": [],
   "source": [
    "leave4.TRIPID.value_counts()[8066551]"
   ]
  },
  {
   "cell_type": "code",
   "execution_count": null,
   "id": "da661936",
   "metadata": {},
   "outputs": [],
   "source": [
    "leave5.TRIPID.value_counts()[8066551]"
   ]
  },
  {
   "cell_type": "code",
   "execution_count": null,
   "id": "84c0621b",
   "metadata": {},
   "outputs": [],
   "source": [
    "# Grabbing trip 8066551 from leave4\n",
    "tripMove = leave4 [leave4['TRIPID'] == 8066551]\n",
    "\n",
    "tripMove.shape"
   ]
  },
  {
   "cell_type": "code",
   "execution_count": null,
   "id": "752efe3b",
   "metadata": {},
   "outputs": [],
   "source": [
    "leave5"
   ]
  },
  {
   "cell_type": "code",
   "execution_count": null,
   "id": "cd06de59",
   "metadata": {},
   "outputs": [],
   "source": [
    "# Append trip dataframe to leave5\n",
    "leave5 = leave5.append(tripMove)"
   ]
  },
  {
   "cell_type": "code",
   "execution_count": null,
   "id": "16677a8c",
   "metadata": {},
   "outputs": [],
   "source": [
    "leave5.shape"
   ]
  },
  {
   "cell_type": "code",
   "execution_count": null,
   "id": "2f34a16d",
   "metadata": {},
   "outputs": [],
   "source": [
    "# Drop rows with tripMove from leave4\n",
    "leave4.drop(leave4[leave4['TRIPID'] == 8066551].index, inplace = True)"
   ]
  },
  {
   "cell_type": "code",
   "execution_count": null,
   "id": "d88d7046",
   "metadata": {},
   "outputs": [],
   "source": [
    "leave4.shape"
   ]
  },
  {
   "cell_type": "code",
   "execution_count": null,
   "id": "9d58d538",
   "metadata": {},
   "outputs": [],
   "source": [
    "leave4.tail()"
   ]
  },
  {
   "cell_type": "markdown",
   "id": "a6fe616a",
   "metadata": {},
   "source": [
    "<h3>5 to 6:</h3>"
   ]
  },
  {
   "cell_type": "code",
   "execution_count": null,
   "id": "13632c9c",
   "metadata": {},
   "outputs": [],
   "source": [
    "leave5.TRIPID.value_counts()[8066551]"
   ]
  },
  {
   "cell_type": "code",
   "execution_count": null,
   "id": "a6d16c41",
   "metadata": {},
   "outputs": [],
   "source": [
    "leave6.TRIPID.value_counts()[8066551]"
   ]
  },
  {
   "cell_type": "code",
   "execution_count": null,
   "id": "35fe5a1b",
   "metadata": {},
   "outputs": [],
   "source": [
    "# Grabbing trip 8066551 from leave5\n",
    "tripMove = leave5 [leave5['TRIPID'] == 8066551]\n",
    "\n",
    "tripMove.shape"
   ]
  },
  {
   "cell_type": "code",
   "execution_count": null,
   "id": "2dffbe7f",
   "metadata": {},
   "outputs": [],
   "source": [
    "leave6"
   ]
  },
  {
   "cell_type": "code",
   "execution_count": null,
   "id": "c8b95c50",
   "metadata": {},
   "outputs": [],
   "source": [
    "# Append trip dataframe to leave6\n",
    "leave6 = leave6.append(tripMove)"
   ]
  },
  {
   "cell_type": "code",
   "execution_count": null,
   "id": "a4f2d65c",
   "metadata": {},
   "outputs": [],
   "source": [
    "leave6.shape"
   ]
  },
  {
   "cell_type": "code",
   "execution_count": null,
   "id": "d05c1b53",
   "metadata": {},
   "outputs": [],
   "source": [
    "# Drop rows with tripMove from leave5\n",
    "leave5.drop(leave5[leave5['TRIPID'] == 8066551].index, inplace = True)"
   ]
  },
  {
   "cell_type": "code",
   "execution_count": null,
   "id": "68f1b7ea",
   "metadata": {},
   "outputs": [],
   "source": [
    "leave5.shape"
   ]
  },
  {
   "cell_type": "code",
   "execution_count": null,
   "id": "c5bb0f48",
   "metadata": {},
   "outputs": [],
   "source": [
    "leave5.tail()"
   ]
  },
  {
   "cell_type": "markdown",
   "id": "8221e402",
   "metadata": {},
   "source": [
    "<h3>6 to 7:</h3>"
   ]
  },
  {
   "cell_type": "code",
   "execution_count": null,
   "id": "f0382907",
   "metadata": {},
   "outputs": [],
   "source": [
    "leave6.TRIPID.value_counts()[8066551]"
   ]
  },
  {
   "cell_type": "code",
   "execution_count": null,
   "id": "96065678",
   "metadata": {},
   "outputs": [],
   "source": [
    "leave7.TRIPID.value_counts()[8066551]"
   ]
  },
  {
   "cell_type": "code",
   "execution_count": null,
   "id": "fea59177",
   "metadata": {},
   "outputs": [],
   "source": [
    "# Grabbing trip 8066551 from leave6\n",
    "tripMove = leave6 [leave6['TRIPID'] == 8066551]\n",
    "\n",
    "tripMove.shape"
   ]
  },
  {
   "cell_type": "code",
   "execution_count": null,
   "id": "167d7c97",
   "metadata": {},
   "outputs": [],
   "source": [
    "leave7"
   ]
  },
  {
   "cell_type": "code",
   "execution_count": null,
   "id": "db73b06a",
   "metadata": {},
   "outputs": [],
   "source": [
    "# Append trip dataframe to leave7\n",
    "leave7 = leave7.append(tripMove)"
   ]
  },
  {
   "cell_type": "code",
   "execution_count": null,
   "id": "eaef1efe",
   "metadata": {},
   "outputs": [],
   "source": [
    "leave7.shape"
   ]
  },
  {
   "cell_type": "code",
   "execution_count": null,
   "id": "637041b9",
   "metadata": {},
   "outputs": [],
   "source": [
    "# Drop rows with tripMove from leave6\n",
    "leave6.drop(leave6[leave6['TRIPID'] == 8066551].index, inplace = True)"
   ]
  },
  {
   "cell_type": "code",
   "execution_count": null,
   "id": "9edcb25b",
   "metadata": {},
   "outputs": [],
   "source": [
    "leave6.shape"
   ]
  },
  {
   "cell_type": "code",
   "execution_count": null,
   "id": "80e04860",
   "metadata": {},
   "outputs": [],
   "source": [
    "leave6.tail()"
   ]
  },
  {
   "cell_type": "markdown",
   "id": "ae676ba7",
   "metadata": {},
   "source": [
    "<h3>7 to 8:</h3>"
   ]
  },
  {
   "cell_type": "code",
   "execution_count": null,
   "id": "6b17f7a9",
   "metadata": {},
   "outputs": [],
   "source": [
    "leave7.TRIPID.value_counts()[8066551]"
   ]
  },
  {
   "cell_type": "code",
   "execution_count": null,
   "id": "85369162",
   "metadata": {},
   "outputs": [],
   "source": [
    "leave8.TRIPID.value_counts()[8066551]"
   ]
  },
  {
   "cell_type": "code",
   "execution_count": null,
   "id": "a98ce2db",
   "metadata": {},
   "outputs": [],
   "source": [
    "# Grabbing trip 8066551 from leave7\n",
    "tripMove = leave7 [leave7['TRIPID'] == 8066551]\n",
    "\n",
    "tripMove.shape"
   ]
  },
  {
   "cell_type": "code",
   "execution_count": null,
   "id": "f0ae715e",
   "metadata": {},
   "outputs": [],
   "source": [
    "leave8"
   ]
  },
  {
   "cell_type": "code",
   "execution_count": null,
   "id": "d5300bd4",
   "metadata": {},
   "outputs": [],
   "source": [
    "# Append trip dataframe to leave8\n",
    "leave8 = leave8.append(tripMove)"
   ]
  },
  {
   "cell_type": "code",
   "execution_count": null,
   "id": "1949dd6e",
   "metadata": {},
   "outputs": [],
   "source": [
    "leave8.shape"
   ]
  },
  {
   "cell_type": "code",
   "execution_count": null,
   "id": "01a76229",
   "metadata": {},
   "outputs": [],
   "source": [
    "# Drop rows with tripMove from leave7\n",
    "leave7.drop(leave7[leave7['TRIPID'] == 8066551].index, inplace = True)"
   ]
  },
  {
   "cell_type": "code",
   "execution_count": null,
   "id": "39eec259",
   "metadata": {},
   "outputs": [],
   "source": [
    "leave7.shape"
   ]
  },
  {
   "cell_type": "code",
   "execution_count": null,
   "id": "66837fb5",
   "metadata": {},
   "outputs": [],
   "source": [
    "leave7.tail()"
   ]
  },
  {
   "cell_type": "markdown",
   "id": "287b266f",
   "metadata": {},
   "source": [
    "## Send Parts to CSVs"
   ]
  },
  {
   "cell_type": "code",
   "execution_count": null,
   "id": "f46bfb6b",
   "metadata": {},
   "outputs": [],
   "source": [
    "# Send leave1 to csv:\n",
    "leave1.to_csv('v3_leave1_LT_2018.csv', index=False)"
   ]
  },
  {
   "cell_type": "markdown",
   "id": "009d6bce",
   "metadata": {},
   "source": [
    "## Continued in 'v3a_leave1_data_prep.ipynb'"
   ]
  },
  {
   "cell_type": "code",
   "execution_count": null,
   "id": "9b38f0ab",
   "metadata": {},
   "outputs": [],
   "source": [
    "# Send leave2 to csv:\n",
    "leave2.to_csv('v3_leave2_LT_2018.csv', index=False)"
   ]
  },
  {
   "cell_type": "markdown",
   "id": "c96c46b5",
   "metadata": {},
   "source": [
    "## Continued in 'v3a_leave2_data_prep.ipynb'"
   ]
  },
  {
   "cell_type": "code",
   "execution_count": null,
   "id": "cefd4388",
   "metadata": {},
   "outputs": [],
   "source": [
    "# Send leave3 to csv:\n",
    "leave3.to_csv('v3_leave3_LT_2018.csv', index=False)"
   ]
  },
  {
   "cell_type": "markdown",
   "id": "5e5e9c75",
   "metadata": {},
   "source": [
    "## Continued in 'v3a_leave3_data_prep.ipynb'"
   ]
  },
  {
   "cell_type": "code",
   "execution_count": null,
   "id": "eaf4b683",
   "metadata": {},
   "outputs": [],
   "source": [
    "# Send leave4 to csv:\n",
    "leave4.to_csv('v3_leave4_LT_2018.csv', index=False)"
   ]
  },
  {
   "cell_type": "markdown",
   "id": "fc35319c",
   "metadata": {},
   "source": [
    "## Continued in 'v3a_leave4_data_prep.ipynb'"
   ]
  },
  {
   "cell_type": "code",
   "execution_count": null,
   "id": "35a2892d",
   "metadata": {},
   "outputs": [],
   "source": [
    "# Send leave5 to csv:\n",
    "leave5.to_csv('v3_leave5_LT_2018.csv', index=False)"
   ]
  },
  {
   "cell_type": "markdown",
   "id": "73d4afdb",
   "metadata": {},
   "source": [
    "## Continued in 'v3a_leave5_data_prep.ipynb'"
   ]
  },
  {
   "cell_type": "code",
   "execution_count": null,
   "id": "f6a31f74",
   "metadata": {},
   "outputs": [],
   "source": []
  }
 ],
 "metadata": {
  "kernelspec": {
   "display_name": "Python 3 (ipykernel)",
   "language": "python",
   "name": "python3"
  },
  "language_info": {
   "codemirror_mode": {
    "name": "ipython",
    "version": 3
   },
   "file_extension": ".py",
   "mimetype": "text/x-python",
   "name": "python",
   "nbconvert_exporter": "python",
   "pygments_lexer": "ipython3",
   "version": "3.10.4"
  }
 },
 "nbformat": 4,
 "nbformat_minor": 5
}
