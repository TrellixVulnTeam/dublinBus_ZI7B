{
 "cells": [
  {
   "cell_type": "code",
   "execution_count": 1,
   "id": "29f878e6",
   "metadata": {},
   "outputs": [],
   "source": [
    "# Library Imports.\n",
    "import pandas as pd\n",
    "\n",
    "import numpy as np"
   ]
  },
  {
   "cell_type": "code",
   "execution_count": 2,
   "id": "12abaae1",
   "metadata": {},
   "outputs": [],
   "source": [
    "# Read tripleave4 CSV file into Data Frame:\n",
    "wk = pd.read_csv('v5_tripLeave4_route_split_1.csv', keep_default_na=True, delimiter=',', skipinitialspace=True)"
   ]
  },
  {
   "cell_type": "code",
   "execution_count": 3,
   "id": "5dda47a0",
   "metadata": {},
   "outputs": [
    {
     "data": {
      "text/plain": [
       "(16704040, 22)"
      ]
     },
     "execution_count": 3,
     "metadata": {},
     "output_type": "execute_result"
    }
   ],
   "source": [
    "wk.shape"
   ]
  },
  {
   "cell_type": "code",
   "execution_count": null,
   "id": "c0c029ad",
   "metadata": {},
   "outputs": [],
   "source": [
    "wk.head()"
   ]
  },
  {
   "cell_type": "code",
   "execution_count": null,
   "id": "4878f708",
   "metadata": {},
   "outputs": [],
   "source": [
    "wk.dtypes"
   ]
  },
  {
   "cell_type": "markdown",
   "id": "81073090",
   "metadata": {},
   "source": [
    "## Datatype Changes"
   ]
  },
  {
   "cell_type": "code",
   "execution_count": 4,
   "id": "75954e98",
   "metadata": {},
   "outputs": [],
   "source": [
    "wk['num_lineID'] = wk['num_lineID'].astype('int16')\n",
    "wk['DIRECTION'] = wk['DIRECTION'].astype('int16')"
   ]
  },
  {
   "cell_type": "code",
   "execution_count": 5,
   "id": "b88a7f4e",
   "metadata": {},
   "outputs": [],
   "source": [
    "wk['actual_duration'] = wk['actual_duration'].astype('int64')\n",
    "wk['dayOfWeek'] = wk['dayOfWeek'].astype('int16')"
   ]
  },
  {
   "cell_type": "code",
   "execution_count": 6,
   "id": "8dafa63b",
   "metadata": {},
   "outputs": [],
   "source": [
    "wk['weekend'] = wk['weekend'].astype('int16')\n",
    "wk['rushHour'] = wk['rushHour'].astype('int16')"
   ]
  },
  {
   "cell_type": "code",
   "execution_count": null,
   "id": "604f0107",
   "metadata": {},
   "outputs": [],
   "source": [
    "wk.head()"
   ]
  },
  {
   "cell_type": "code",
   "execution_count": null,
   "id": "645ff86a",
   "metadata": {},
   "outputs": [],
   "source": [
    "wk.dtypes"
   ]
  },
  {
   "cell_type": "markdown",
   "id": "86d6d334",
   "metadata": {},
   "source": [
    "## Route 47"
   ]
  },
  {
   "cell_type": "code",
   "execution_count": 7,
   "id": "01b378cc",
   "metadata": {},
   "outputs": [],
   "source": [
    "lwk = wk[(wk['LINEID'] == '47')]"
   ]
  },
  {
   "cell_type": "code",
   "execution_count": 8,
   "id": "5ae677fe",
   "metadata": {},
   "outputs": [
    {
     "data": {
      "text/plain": [
       "(87598, 22)"
      ]
     },
     "execution_count": 8,
     "metadata": {},
     "output_type": "execute_result"
    }
   ],
   "source": [
    "lwk.shape"
   ]
  },
  {
   "cell_type": "code",
   "execution_count": 9,
   "id": "eb268b7e",
   "metadata": {},
   "outputs": [],
   "source": [
    "# Drop Route 47 rows from wk\n",
    "wk.drop(wk[wk['LINEID'] == '47'].index, inplace = True)"
   ]
  },
  {
   "cell_type": "code",
   "execution_count": null,
   "id": "cdb83698",
   "metadata": {},
   "outputs": [],
   "source": [
    "wk.head()"
   ]
  },
  {
   "cell_type": "code",
   "execution_count": null,
   "id": "f85f5650",
   "metadata": {},
   "outputs": [],
   "source": [
    "wk.shape"
   ]
  },
  {
   "cell_type": "markdown",
   "id": "f36c2173",
   "metadata": {},
   "source": [
    "<h3>Send to CSV</h3>"
   ]
  },
  {
   "cell_type": "code",
   "execution_count": null,
   "id": "4fcd4689",
   "metadata": {},
   "outputs": [],
   "source": [
    "# Send df to csv:\n",
    "lwk.to_csv('v5_47_tripLeave4_sp1.csv', index=False)"
   ]
  },
  {
   "cell_type": "markdown",
   "id": "02f3d83e",
   "metadata": {},
   "source": [
    "## Route 13"
   ]
  },
  {
   "cell_type": "code",
   "execution_count": 10,
   "id": "b91914a8",
   "metadata": {},
   "outputs": [],
   "source": [
    "lwk = wk[(wk['LINEID'] == '13')]"
   ]
  },
  {
   "cell_type": "code",
   "execution_count": 11,
   "id": "697f3295",
   "metadata": {},
   "outputs": [
    {
     "data": {
      "text/plain": [
       "(463590, 22)"
      ]
     },
     "execution_count": 11,
     "metadata": {},
     "output_type": "execute_result"
    }
   ],
   "source": [
    "lwk.shape"
   ]
  },
  {
   "cell_type": "code",
   "execution_count": 12,
   "id": "d4360a64",
   "metadata": {},
   "outputs": [],
   "source": [
    "# Drop Route 13 rows from wk\n",
    "wk.drop(wk[wk['LINEID'] == '13'].index, inplace = True)"
   ]
  },
  {
   "cell_type": "code",
   "execution_count": null,
   "id": "942c64b0",
   "metadata": {},
   "outputs": [],
   "source": [
    "wk.head()"
   ]
  },
  {
   "cell_type": "code",
   "execution_count": null,
   "id": "cdc545e0",
   "metadata": {},
   "outputs": [],
   "source": [
    "wk.shape"
   ]
  },
  {
   "cell_type": "markdown",
   "id": "40667721",
   "metadata": {},
   "source": [
    "<h3>Send to CSV</h3>"
   ]
  },
  {
   "cell_type": "code",
   "execution_count": null,
   "id": "5d225394",
   "metadata": {},
   "outputs": [],
   "source": [
    "# Send df to csv:\n",
    "lwk.to_csv('v5_13_tripLeave4_sp1.csv', index=False)"
   ]
  },
  {
   "cell_type": "markdown",
   "id": "c9871333",
   "metadata": {},
   "source": [
    "## Route 37"
   ]
  },
  {
   "cell_type": "code",
   "execution_count": 13,
   "id": "6d09b20e",
   "metadata": {},
   "outputs": [],
   "source": [
    "lwk = wk[(wk['LINEID'] == '37')]"
   ]
  },
  {
   "cell_type": "code",
   "execution_count": 14,
   "id": "5a20631a",
   "metadata": {},
   "outputs": [
    {
     "data": {
      "text/plain": [
       "(314419, 22)"
      ]
     },
     "execution_count": 14,
     "metadata": {},
     "output_type": "execute_result"
    }
   ],
   "source": [
    "lwk.shape"
   ]
  },
  {
   "cell_type": "code",
   "execution_count": 15,
   "id": "33e489aa",
   "metadata": {},
   "outputs": [],
   "source": [
    "# Drop Route 37 rows from wk\n",
    "wk.drop(wk[wk['LINEID'] == '37'].index, inplace = True)"
   ]
  },
  {
   "cell_type": "code",
   "execution_count": null,
   "id": "4ed9474e",
   "metadata": {},
   "outputs": [],
   "source": [
    "wk.head()"
   ]
  },
  {
   "cell_type": "code",
   "execution_count": null,
   "id": "f5f7599c",
   "metadata": {},
   "outputs": [],
   "source": [
    "wk.shape"
   ]
  },
  {
   "cell_type": "markdown",
   "id": "38748ef1",
   "metadata": {},
   "source": [
    "<h3>Send to CSV</h3>"
   ]
  },
  {
   "cell_type": "code",
   "execution_count": null,
   "id": "838ecfd9",
   "metadata": {},
   "outputs": [],
   "source": [
    "# Send df to csv:\n",
    "lwk.to_csv('v5_37_tripLeave4_sp1.csv', index=False)"
   ]
  },
  {
   "cell_type": "markdown",
   "id": "c9ce61f5",
   "metadata": {},
   "source": [
    "## Route 102"
   ]
  },
  {
   "cell_type": "code",
   "execution_count": 16,
   "id": "f6ad83ea",
   "metadata": {},
   "outputs": [],
   "source": [
    "lwk = wk[(wk['LINEID'] == '102')]"
   ]
  },
  {
   "cell_type": "code",
   "execution_count": 17,
   "id": "ec9abc5f",
   "metadata": {},
   "outputs": [
    {
     "data": {
      "text/plain": [
       "(170597, 22)"
      ]
     },
     "execution_count": 17,
     "metadata": {},
     "output_type": "execute_result"
    }
   ],
   "source": [
    "lwk.shape"
   ]
  },
  {
   "cell_type": "code",
   "execution_count": 18,
   "id": "33c70ba9",
   "metadata": {},
   "outputs": [],
   "source": [
    "# Drop Route 102 rows from wk\n",
    "wk.drop(wk[wk['LINEID'] == '102'].index, inplace = True)"
   ]
  },
  {
   "cell_type": "code",
   "execution_count": null,
   "id": "1f691a8b",
   "metadata": {},
   "outputs": [],
   "source": [
    "wk.head()"
   ]
  },
  {
   "cell_type": "code",
   "execution_count": null,
   "id": "c35ec0ec",
   "metadata": {},
   "outputs": [],
   "source": [
    "wk.shape"
   ]
  },
  {
   "cell_type": "markdown",
   "id": "685da73e",
   "metadata": {},
   "source": [
    "<h3>Send to CSV</h3>"
   ]
  },
  {
   "cell_type": "code",
   "execution_count": null,
   "id": "dd78bfed",
   "metadata": {},
   "outputs": [],
   "source": [
    "# Send df to csv:\n",
    "lwk.to_csv('v5_102_tripLeave4_sp1.csv', index=False)"
   ]
  },
  {
   "cell_type": "markdown",
   "id": "0a607558",
   "metadata": {},
   "source": [
    "## Route 39A"
   ]
  },
  {
   "cell_type": "code",
   "execution_count": 19,
   "id": "d4accdca",
   "metadata": {},
   "outputs": [],
   "source": [
    "lwk = wk[(wk['LINEID'] == '39A')]"
   ]
  },
  {
   "cell_type": "code",
   "execution_count": 20,
   "id": "8bd84191",
   "metadata": {},
   "outputs": [
    {
     "data": {
      "text/plain": [
       "(583157, 22)"
      ]
     },
     "execution_count": 20,
     "metadata": {},
     "output_type": "execute_result"
    }
   ],
   "source": [
    "lwk.shape"
   ]
  },
  {
   "cell_type": "code",
   "execution_count": 21,
   "id": "9329913e",
   "metadata": {},
   "outputs": [],
   "source": [
    "# Drop Route 39A rows from wk\n",
    "wk.drop(wk[wk['LINEID'] == '39A'].index, inplace = True)"
   ]
  },
  {
   "cell_type": "code",
   "execution_count": null,
   "id": "e6684ab8",
   "metadata": {},
   "outputs": [],
   "source": [
    "wk.head()"
   ]
  },
  {
   "cell_type": "code",
   "execution_count": null,
   "id": "c1b9c022",
   "metadata": {},
   "outputs": [],
   "source": [
    "wk.shape"
   ]
  },
  {
   "cell_type": "markdown",
   "id": "9001e06a",
   "metadata": {},
   "source": [
    "<h3>Send to CSV</h3>"
   ]
  },
  {
   "cell_type": "code",
   "execution_count": null,
   "id": "a4594538",
   "metadata": {},
   "outputs": [],
   "source": [
    "# Send df to csv:\n",
    "lwk.to_csv('v5_39A_tripLeave4_sp1.csv', index=False)"
   ]
  },
  {
   "cell_type": "markdown",
   "id": "0212e2e2",
   "metadata": {},
   "source": [
    "## Route 1"
   ]
  },
  {
   "cell_type": "code",
   "execution_count": 22,
   "id": "1cdec104",
   "metadata": {},
   "outputs": [],
   "source": [
    "lwk = wk[(wk['LINEID'] == '1')]"
   ]
  },
  {
   "cell_type": "code",
   "execution_count": 23,
   "id": "9327d4c7",
   "metadata": {},
   "outputs": [
    {
     "data": {
      "text/plain": [
       "(200848, 22)"
      ]
     },
     "execution_count": 23,
     "metadata": {},
     "output_type": "execute_result"
    }
   ],
   "source": [
    "lwk.shape"
   ]
  },
  {
   "cell_type": "code",
   "execution_count": 24,
   "id": "adc264b7",
   "metadata": {},
   "outputs": [],
   "source": [
    "# Drop Route 1 rows from wk\n",
    "wk.drop(wk[wk['LINEID'] == '1'].index, inplace = True)"
   ]
  },
  {
   "cell_type": "code",
   "execution_count": null,
   "id": "1869c53f",
   "metadata": {},
   "outputs": [],
   "source": [
    "wk.head()"
   ]
  },
  {
   "cell_type": "code",
   "execution_count": null,
   "id": "959b275c",
   "metadata": {},
   "outputs": [],
   "source": [
    "wk.shape"
   ]
  },
  {
   "cell_type": "markdown",
   "id": "ab554496",
   "metadata": {},
   "source": [
    "<h3>Send to CSV</h3>"
   ]
  },
  {
   "cell_type": "code",
   "execution_count": null,
   "id": "13643ede",
   "metadata": {},
   "outputs": [],
   "source": [
    "# Send df to csv:\n",
    "lwk.to_csv('v5_1_tripLeave4_sp1.csv', index=False)"
   ]
  },
  {
   "cell_type": "markdown",
   "id": "fea5ad07",
   "metadata": {},
   "source": [
    "## Route 27A"
   ]
  },
  {
   "cell_type": "code",
   "execution_count": 25,
   "id": "06ab1f32",
   "metadata": {},
   "outputs": [],
   "source": [
    "lwk = wk[(wk['LINEID'] == '27A')]"
   ]
  },
  {
   "cell_type": "code",
   "execution_count": 26,
   "id": "b1bf981a",
   "metadata": {},
   "outputs": [
    {
     "data": {
      "text/plain": [
       "(126821, 22)"
      ]
     },
     "execution_count": 26,
     "metadata": {},
     "output_type": "execute_result"
    }
   ],
   "source": [
    "lwk.shape"
   ]
  },
  {
   "cell_type": "code",
   "execution_count": 27,
   "id": "699b588d",
   "metadata": {},
   "outputs": [],
   "source": [
    "# Drop Route 27A rows from wk\n",
    "wk.drop(wk[wk['LINEID'] == '27A'].index, inplace = True)"
   ]
  },
  {
   "cell_type": "code",
   "execution_count": null,
   "id": "2a11cbcf",
   "metadata": {},
   "outputs": [],
   "source": [
    "wk.head()"
   ]
  },
  {
   "cell_type": "code",
   "execution_count": null,
   "id": "8d7598d8",
   "metadata": {},
   "outputs": [],
   "source": [
    "wk.shape"
   ]
  },
  {
   "cell_type": "markdown",
   "id": "403d0300",
   "metadata": {},
   "source": [
    "<h3>Send to CSV</h3>"
   ]
  },
  {
   "cell_type": "code",
   "execution_count": null,
   "id": "d148d382",
   "metadata": {},
   "outputs": [],
   "source": [
    "# Send df to csv:\n",
    "lwk.to_csv('v5_27A_tripLeave4_sp1.csv', index=False)"
   ]
  },
  {
   "cell_type": "markdown",
   "id": "f7622c5b",
   "metadata": {},
   "source": [
    "## Route 27"
   ]
  },
  {
   "cell_type": "code",
   "execution_count": 28,
   "id": "d9235286",
   "metadata": {},
   "outputs": [],
   "source": [
    "lwk = wk[(wk['LINEID'] == '27')]"
   ]
  },
  {
   "cell_type": "code",
   "execution_count": 29,
   "id": "b3e56818",
   "metadata": {},
   "outputs": [
    {
     "data": {
      "text/plain": [
       "(605728, 22)"
      ]
     },
     "execution_count": 29,
     "metadata": {},
     "output_type": "execute_result"
    }
   ],
   "source": [
    "lwk.shape"
   ]
  },
  {
   "cell_type": "code",
   "execution_count": 30,
   "id": "9d06432c",
   "metadata": {},
   "outputs": [],
   "source": [
    "# Drop Route 27 rows from wk\n",
    "wk.drop(wk[wk['LINEID'] == '27'].index, inplace = True)"
   ]
  },
  {
   "cell_type": "code",
   "execution_count": 31,
   "id": "482eaa7d",
   "metadata": {},
   "outputs": [
    {
     "data": {
      "text/html": [
       "<div>\n",
       "<style scoped>\n",
       "    .dataframe tbody tr th:only-of-type {\n",
       "        vertical-align: middle;\n",
       "    }\n",
       "\n",
       "    .dataframe tbody tr th {\n",
       "        vertical-align: top;\n",
       "    }\n",
       "\n",
       "    .dataframe thead th {\n",
       "        text-align: right;\n",
       "    }\n",
       "</style>\n",
       "<table border=\"1\" class=\"dataframe\">\n",
       "  <thead>\n",
       "    <tr style=\"text-align: right;\">\n",
       "      <th></th>\n",
       "      <th>DAYOFSERVICE</th>\n",
       "      <th>TRIPID</th>\n",
       "      <th>PROGRNUMBER</th>\n",
       "      <th>STOPPOINTID</th>\n",
       "      <th>PLANNEDTIME_ARR</th>\n",
       "      <th>PLANNEDTIME_DEP</th>\n",
       "      <th>ACTUALTIME_ARR</th>\n",
       "      <th>ACTUALTIME_DEP</th>\n",
       "      <th>VEHICLEID</th>\n",
       "      <th>year</th>\n",
       "      <th>...</th>\n",
       "      <th>id</th>\n",
       "      <th>trip_leave_id</th>\n",
       "      <th>LINEID</th>\n",
       "      <th>num_lineID</th>\n",
       "      <th>DIRECTION</th>\n",
       "      <th>actual_duration</th>\n",
       "      <th>dayOfWeek</th>\n",
       "      <th>weekend</th>\n",
       "      <th>rushHour</th>\n",
       "      <th>actualARR_hour</th>\n",
       "    </tr>\n",
       "  </thead>\n",
       "  <tbody>\n",
       "    <tr>\n",
       "      <th>3312</th>\n",
       "      <td>2018-06-24</td>\n",
       "      <td>7110820</td>\n",
       "      <td>1</td>\n",
       "      <td>4843</td>\n",
       "      <td>68400</td>\n",
       "      <td>68400</td>\n",
       "      <td>68400</td>\n",
       "      <td>68400</td>\n",
       "      <td>2868343</td>\n",
       "      <td>2018</td>\n",
       "      <td>...</td>\n",
       "      <td>20180624711082001</td>\n",
       "      <td>201806247110820</td>\n",
       "      <td>41</td>\n",
       "      <td>74</td>\n",
       "      <td>2</td>\n",
       "      <td>3891</td>\n",
       "      <td>6</td>\n",
       "      <td>1</td>\n",
       "      <td>0</td>\n",
       "      <td>19</td>\n",
       "    </tr>\n",
       "    <tr>\n",
       "      <th>3313</th>\n",
       "      <td>2018-06-24</td>\n",
       "      <td>7110820</td>\n",
       "      <td>2</td>\n",
       "      <td>4905</td>\n",
       "      <td>68436</td>\n",
       "      <td>68436</td>\n",
       "      <td>68436</td>\n",
       "      <td>68436</td>\n",
       "      <td>2868343</td>\n",
       "      <td>2018</td>\n",
       "      <td>...</td>\n",
       "      <td>20180624711082002</td>\n",
       "      <td>201806247110820</td>\n",
       "      <td>41</td>\n",
       "      <td>74</td>\n",
       "      <td>2</td>\n",
       "      <td>3891</td>\n",
       "      <td>6</td>\n",
       "      <td>1</td>\n",
       "      <td>0</td>\n",
       "      <td>19</td>\n",
       "    </tr>\n",
       "    <tr>\n",
       "      <th>3314</th>\n",
       "      <td>2018-06-24</td>\n",
       "      <td>7110820</td>\n",
       "      <td>4</td>\n",
       "      <td>4906</td>\n",
       "      <td>68471</td>\n",
       "      <td>68471</td>\n",
       "      <td>68471</td>\n",
       "      <td>68471</td>\n",
       "      <td>2868343</td>\n",
       "      <td>2018</td>\n",
       "      <td>...</td>\n",
       "      <td>20180624711082004</td>\n",
       "      <td>201806247110820</td>\n",
       "      <td>41</td>\n",
       "      <td>74</td>\n",
       "      <td>2</td>\n",
       "      <td>3891</td>\n",
       "      <td>6</td>\n",
       "      <td>1</td>\n",
       "      <td>0</td>\n",
       "      <td>19</td>\n",
       "    </tr>\n",
       "    <tr>\n",
       "      <th>3315</th>\n",
       "      <td>2018-06-24</td>\n",
       "      <td>7110820</td>\n",
       "      <td>5</td>\n",
       "      <td>4907</td>\n",
       "      <td>68496</td>\n",
       "      <td>68496</td>\n",
       "      <td>68496</td>\n",
       "      <td>68496</td>\n",
       "      <td>2868343</td>\n",
       "      <td>2018</td>\n",
       "      <td>...</td>\n",
       "      <td>20180624711082005</td>\n",
       "      <td>201806247110820</td>\n",
       "      <td>41</td>\n",
       "      <td>74</td>\n",
       "      <td>2</td>\n",
       "      <td>3891</td>\n",
       "      <td>6</td>\n",
       "      <td>1</td>\n",
       "      <td>0</td>\n",
       "      <td>19</td>\n",
       "    </tr>\n",
       "    <tr>\n",
       "      <th>3316</th>\n",
       "      <td>2018-06-24</td>\n",
       "      <td>7110820</td>\n",
       "      <td>6</td>\n",
       "      <td>4908</td>\n",
       "      <td>68512</td>\n",
       "      <td>68512</td>\n",
       "      <td>68512</td>\n",
       "      <td>68512</td>\n",
       "      <td>2868343</td>\n",
       "      <td>2018</td>\n",
       "      <td>...</td>\n",
       "      <td>20180624711082006</td>\n",
       "      <td>201806247110820</td>\n",
       "      <td>41</td>\n",
       "      <td>74</td>\n",
       "      <td>2</td>\n",
       "      <td>3891</td>\n",
       "      <td>6</td>\n",
       "      <td>1</td>\n",
       "      <td>0</td>\n",
       "      <td>19</td>\n",
       "    </tr>\n",
       "  </tbody>\n",
       "</table>\n",
       "<p>5 rows × 22 columns</p>\n",
       "</div>"
      ],
      "text/plain": [
       "     DAYOFSERVICE   TRIPID  PROGRNUMBER  STOPPOINTID  PLANNEDTIME_ARR  \\\n",
       "3312   2018-06-24  7110820            1         4843            68400   \n",
       "3313   2018-06-24  7110820            2         4905            68436   \n",
       "3314   2018-06-24  7110820            4         4906            68471   \n",
       "3315   2018-06-24  7110820            5         4907            68496   \n",
       "3316   2018-06-24  7110820            6         4908            68512   \n",
       "\n",
       "      PLANNEDTIME_DEP  ACTUALTIME_ARR  ACTUALTIME_DEP  VEHICLEID  year  ...  \\\n",
       "3312            68400           68400           68400    2868343  2018  ...   \n",
       "3313            68436           68436           68436    2868343  2018  ...   \n",
       "3314            68471           68471           68471    2868343  2018  ...   \n",
       "3315            68496           68496           68496    2868343  2018  ...   \n",
       "3316            68512           68512           68512    2868343  2018  ...   \n",
       "\n",
       "                     id    trip_leave_id  LINEID  num_lineID DIRECTION  \\\n",
       "3312  20180624711082001  201806247110820      41          74         2   \n",
       "3313  20180624711082002  201806247110820      41          74         2   \n",
       "3314  20180624711082004  201806247110820      41          74         2   \n",
       "3315  20180624711082005  201806247110820      41          74         2   \n",
       "3316  20180624711082006  201806247110820      41          74         2   \n",
       "\n",
       "      actual_duration  dayOfWeek  weekend  rushHour  actualARR_hour  \n",
       "3312             3891          6        1         0              19  \n",
       "3313             3891          6        1         0              19  \n",
       "3314             3891          6        1         0              19  \n",
       "3315             3891          6        1         0              19  \n",
       "3316             3891          6        1         0              19  \n",
       "\n",
       "[5 rows x 22 columns]"
      ]
     },
     "execution_count": 31,
     "metadata": {},
     "output_type": "execute_result"
    }
   ],
   "source": [
    "wk.head()"
   ]
  },
  {
   "cell_type": "code",
   "execution_count": 32,
   "id": "8be9e8d1",
   "metadata": {},
   "outputs": [
    {
     "data": {
      "text/plain": [
       "(14151282, 22)"
      ]
     },
     "execution_count": 32,
     "metadata": {},
     "output_type": "execute_result"
    }
   ],
   "source": [
    "wk.shape"
   ]
  },
  {
   "cell_type": "markdown",
   "id": "2412853a",
   "metadata": {},
   "source": [
    "<h3>Send to CSV</h3>"
   ]
  },
  {
   "cell_type": "code",
   "execution_count": 33,
   "id": "d3e08233",
   "metadata": {},
   "outputs": [],
   "source": [
    "# Send df to csv:\n",
    "lwk.to_csv('v5_27_tripLeave4_sp1.csv', index=False)"
   ]
  },
  {
   "cell_type": "markdown",
   "id": "e082232a",
   "metadata": {},
   "source": [
    "## Continue v5_tripLeave4_route_split_2"
   ]
  },
  {
   "cell_type": "code",
   "execution_count": 34,
   "id": "647c1774",
   "metadata": {},
   "outputs": [],
   "source": [
    "# Send df to csv:\n",
    "wk.to_csv('v5_tripLeave4_route_split_2.csv', index=False)"
   ]
  },
  {
   "cell_type": "code",
   "execution_count": null,
   "id": "c4a5925f",
   "metadata": {},
   "outputs": [],
   "source": []
  }
 ],
 "metadata": {
  "kernelspec": {
   "display_name": "Python 3 (ipykernel)",
   "language": "python",
   "name": "python3"
  },
  "language_info": {
   "codemirror_mode": {
    "name": "ipython",
    "version": 3
   },
   "file_extension": ".py",
   "mimetype": "text/x-python",
   "name": "python",
   "nbconvert_exporter": "python",
   "pygments_lexer": "ipython3",
   "version": "3.10.4"
  }
 },
 "nbformat": 4,
 "nbformat_minor": 5
}
