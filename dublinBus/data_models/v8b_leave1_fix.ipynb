{
 "cells": [
  {
   "cell_type": "code",
   "execution_count": 1,
   "id": "bde0b1b2",
   "metadata": {},
   "outputs": [],
   "source": [
    "# Library Imports.\n",
    "import pandas as pd\n",
    "\n",
    "import numpy as np"
   ]
  },
  {
   "cell_type": "code",
   "execution_count": 3,
   "id": "cad30764",
   "metadata": {},
   "outputs": [],
   "source": [
    "leave = pd.read_csv('v8a_leave1.csv', keep_default_na=True, delimiter=',', skipinitialspace=True)"
   ]
  },
  {
   "cell_type": "code",
   "execution_count": 5,
   "id": "973cea58",
   "metadata": {},
   "outputs": [
    {
     "data": {
      "text/plain": [
       "(19491519, 5)"
      ]
     },
     "execution_count": 5,
     "metadata": {},
     "output_type": "execute_result"
    }
   ],
   "source": [
    "leave.shape"
   ]
  },
  {
   "cell_type": "code",
   "execution_count": 6,
   "id": "7a9233e9",
   "metadata": {},
   "outputs": [
    {
     "data": {
      "text/html": [
       "<div>\n",
       "<style scoped>\n",
       "    .dataframe tbody tr th:only-of-type {\n",
       "        vertical-align: middle;\n",
       "    }\n",
       "\n",
       "    .dataframe tbody tr th {\n",
       "        vertical-align: top;\n",
       "    }\n",
       "\n",
       "    .dataframe thead th {\n",
       "        text-align: right;\n",
       "    }\n",
       "</style>\n",
       "<table border=\"1\" class=\"dataframe\">\n",
       "  <thead>\n",
       "    <tr style=\"text-align: right;\">\n",
       "      <th></th>\n",
       "      <th>DAYOFSERVICE</th>\n",
       "      <th>TRIPID</th>\n",
       "      <th>PROGRNUMBER</th>\n",
       "      <th>STOPPOINTID</th>\n",
       "      <th>ACTUALTIME_ARR</th>\n",
       "    </tr>\n",
       "  </thead>\n",
       "  <tbody>\n",
       "    <tr>\n",
       "      <th>0</th>\n",
       "      <td>2018-01-01</td>\n",
       "      <td>5972116</td>\n",
       "      <td>12</td>\n",
       "      <td>119</td>\n",
       "      <td>48012</td>\n",
       "    </tr>\n",
       "    <tr>\n",
       "      <th>1</th>\n",
       "      <td>2018-01-01</td>\n",
       "      <td>5966674</td>\n",
       "      <td>12</td>\n",
       "      <td>119</td>\n",
       "      <td>54023</td>\n",
       "    </tr>\n",
       "    <tr>\n",
       "      <th>2</th>\n",
       "      <td>2018-01-01</td>\n",
       "      <td>5959105</td>\n",
       "      <td>12</td>\n",
       "      <td>119</td>\n",
       "      <td>59955</td>\n",
       "    </tr>\n",
       "    <tr>\n",
       "      <th>3</th>\n",
       "      <td>2018-01-01</td>\n",
       "      <td>5966888</td>\n",
       "      <td>12</td>\n",
       "      <td>119</td>\n",
       "      <td>58771</td>\n",
       "    </tr>\n",
       "    <tr>\n",
       "      <th>4</th>\n",
       "      <td>2018-01-01</td>\n",
       "      <td>5965960</td>\n",
       "      <td>12</td>\n",
       "      <td>119</td>\n",
       "      <td>56309</td>\n",
       "    </tr>\n",
       "  </tbody>\n",
       "</table>\n",
       "</div>"
      ],
      "text/plain": [
       "  DAYOFSERVICE   TRIPID  PROGRNUMBER  STOPPOINTID  ACTUALTIME_ARR\n",
       "0   2018-01-01  5972116           12          119           48012\n",
       "1   2018-01-01  5966674           12          119           54023\n",
       "2   2018-01-01  5959105           12          119           59955\n",
       "3   2018-01-01  5966888           12          119           58771\n",
       "4   2018-01-01  5965960           12          119           56309"
      ]
     },
     "execution_count": 6,
     "metadata": {},
     "output_type": "execute_result"
    }
   ],
   "source": [
    "leave.head()"
   ]
  },
  {
   "cell_type": "markdown",
   "id": "005f75d1",
   "metadata": {},
   "source": [
    "## Create ID"
   ]
  },
  {
   "cell_type": "code",
   "execution_count": 8,
   "id": "e0955d56",
   "metadata": {},
   "outputs": [],
   "source": [
    "leave['DAYOFSERVICE'] = leave['DAYOFSERVICE'].astype('string')"
   ]
  },
  {
   "cell_type": "code",
   "execution_count": 9,
   "id": "8de66512",
   "metadata": {},
   "outputs": [],
   "source": [
    "leave['TRIPID'] = leave['TRIPID'].astype('string')"
   ]
  },
  {
   "cell_type": "code",
   "execution_count": 10,
   "id": "c0831112",
   "metadata": {},
   "outputs": [],
   "source": [
    "leave['PROGRNUMBER'] = leave['PROGRNUMBER'].astype('string')"
   ]
  },
  {
   "cell_type": "code",
   "execution_count": 11,
   "id": "4f1139ef",
   "metadata": {},
   "outputs": [],
   "source": [
    "leave['STOPPOINTID'] = leave['STOPPOINTID'].astype('string')"
   ]
  },
  {
   "cell_type": "code",
   "execution_count": 12,
   "id": "a00ff64a",
   "metadata": {},
   "outputs": [],
   "source": [
    "leave['dos_trpID_stpID_prgNum'] = leave['DAYOFSERVICE'] + '-' + leave['TRIPID'] + '-' + leave['STOPPOINTID'] + '-' + leave['PROGRNUMBER']"
   ]
  },
  {
   "cell_type": "code",
   "execution_count": 13,
   "id": "998cc958",
   "metadata": {},
   "outputs": [
    {
     "data": {
      "text/html": [
       "<div>\n",
       "<style scoped>\n",
       "    .dataframe tbody tr th:only-of-type {\n",
       "        vertical-align: middle;\n",
       "    }\n",
       "\n",
       "    .dataframe tbody tr th {\n",
       "        vertical-align: top;\n",
       "    }\n",
       "\n",
       "    .dataframe thead th {\n",
       "        text-align: right;\n",
       "    }\n",
       "</style>\n",
       "<table border=\"1\" class=\"dataframe\">\n",
       "  <thead>\n",
       "    <tr style=\"text-align: right;\">\n",
       "      <th></th>\n",
       "      <th>DAYOFSERVICE</th>\n",
       "      <th>TRIPID</th>\n",
       "      <th>PROGRNUMBER</th>\n",
       "      <th>STOPPOINTID</th>\n",
       "      <th>ACTUALTIME_ARR</th>\n",
       "      <th>dos_trpID_stpID_prgNum</th>\n",
       "    </tr>\n",
       "  </thead>\n",
       "  <tbody>\n",
       "    <tr>\n",
       "      <th>0</th>\n",
       "      <td>2018-01-01</td>\n",
       "      <td>5972116</td>\n",
       "      <td>12</td>\n",
       "      <td>119</td>\n",
       "      <td>48012</td>\n",
       "      <td>2018-01-01-5972116-119-12</td>\n",
       "    </tr>\n",
       "    <tr>\n",
       "      <th>1</th>\n",
       "      <td>2018-01-01</td>\n",
       "      <td>5966674</td>\n",
       "      <td>12</td>\n",
       "      <td>119</td>\n",
       "      <td>54023</td>\n",
       "      <td>2018-01-01-5966674-119-12</td>\n",
       "    </tr>\n",
       "    <tr>\n",
       "      <th>2</th>\n",
       "      <td>2018-01-01</td>\n",
       "      <td>5959105</td>\n",
       "      <td>12</td>\n",
       "      <td>119</td>\n",
       "      <td>59955</td>\n",
       "      <td>2018-01-01-5959105-119-12</td>\n",
       "    </tr>\n",
       "    <tr>\n",
       "      <th>3</th>\n",
       "      <td>2018-01-01</td>\n",
       "      <td>5966888</td>\n",
       "      <td>12</td>\n",
       "      <td>119</td>\n",
       "      <td>58771</td>\n",
       "      <td>2018-01-01-5966888-119-12</td>\n",
       "    </tr>\n",
       "    <tr>\n",
       "      <th>4</th>\n",
       "      <td>2018-01-01</td>\n",
       "      <td>5965960</td>\n",
       "      <td>12</td>\n",
       "      <td>119</td>\n",
       "      <td>56309</td>\n",
       "      <td>2018-01-01-5965960-119-12</td>\n",
       "    </tr>\n",
       "  </tbody>\n",
       "</table>\n",
       "</div>"
      ],
      "text/plain": [
       "  DAYOFSERVICE   TRIPID PROGRNUMBER STOPPOINTID  ACTUALTIME_ARR  \\\n",
       "0   2018-01-01  5972116          12         119           48012   \n",
       "1   2018-01-01  5966674          12         119           54023   \n",
       "2   2018-01-01  5959105          12         119           59955   \n",
       "3   2018-01-01  5966888          12         119           58771   \n",
       "4   2018-01-01  5965960          12         119           56309   \n",
       "\n",
       "      dos_trpID_stpID_prgNum  \n",
       "0  2018-01-01-5972116-119-12  \n",
       "1  2018-01-01-5966674-119-12  \n",
       "2  2018-01-01-5959105-119-12  \n",
       "3  2018-01-01-5966888-119-12  \n",
       "4  2018-01-01-5965960-119-12  "
      ]
     },
     "execution_count": 13,
     "metadata": {},
     "output_type": "execute_result"
    }
   ],
   "source": [
    "leave.head()"
   ]
  },
  {
   "cell_type": "markdown",
   "id": "ab6cdeb3",
   "metadata": {},
   "source": [
    "## Drop Columns"
   ]
  },
  {
   "cell_type": "code",
   "execution_count": 16,
   "id": "405b8eb0",
   "metadata": {},
   "outputs": [],
   "source": [
    "leave = leave.drop(['DAYOFSERVICE', 'TRIPID', 'STOPPOINTID', 'PROGRNUMBER'], axis=1)"
   ]
  },
  {
   "cell_type": "code",
   "execution_count": 17,
   "id": "508dd195",
   "metadata": {},
   "outputs": [
    {
     "data": {
      "text/html": [
       "<div>\n",
       "<style scoped>\n",
       "    .dataframe tbody tr th:only-of-type {\n",
       "        vertical-align: middle;\n",
       "    }\n",
       "\n",
       "    .dataframe tbody tr th {\n",
       "        vertical-align: top;\n",
       "    }\n",
       "\n",
       "    .dataframe thead th {\n",
       "        text-align: right;\n",
       "    }\n",
       "</style>\n",
       "<table border=\"1\" class=\"dataframe\">\n",
       "  <thead>\n",
       "    <tr style=\"text-align: right;\">\n",
       "      <th></th>\n",
       "      <th>ACTUALTIME_ARR</th>\n",
       "      <th>dos_trpID_stpID_prgNum</th>\n",
       "    </tr>\n",
       "  </thead>\n",
       "  <tbody>\n",
       "    <tr>\n",
       "      <th>0</th>\n",
       "      <td>48012</td>\n",
       "      <td>2018-01-01-5972116-119-12</td>\n",
       "    </tr>\n",
       "    <tr>\n",
       "      <th>1</th>\n",
       "      <td>54023</td>\n",
       "      <td>2018-01-01-5966674-119-12</td>\n",
       "    </tr>\n",
       "    <tr>\n",
       "      <th>2</th>\n",
       "      <td>59955</td>\n",
       "      <td>2018-01-01-5959105-119-12</td>\n",
       "    </tr>\n",
       "    <tr>\n",
       "      <th>3</th>\n",
       "      <td>58771</td>\n",
       "      <td>2018-01-01-5966888-119-12</td>\n",
       "    </tr>\n",
       "    <tr>\n",
       "      <th>4</th>\n",
       "      <td>56309</td>\n",
       "      <td>2018-01-01-5965960-119-12</td>\n",
       "    </tr>\n",
       "  </tbody>\n",
       "</table>\n",
       "</div>"
      ],
      "text/plain": [
       "   ACTUALTIME_ARR     dos_trpID_stpID_prgNum\n",
       "0           48012  2018-01-01-5972116-119-12\n",
       "1           54023  2018-01-01-5966674-119-12\n",
       "2           59955  2018-01-01-5959105-119-12\n",
       "3           58771  2018-01-01-5966888-119-12\n",
       "4           56309  2018-01-01-5965960-119-12"
      ]
     },
     "execution_count": 17,
     "metadata": {},
     "output_type": "execute_result"
    }
   ],
   "source": [
    "leave.head()"
   ]
  },
  {
   "cell_type": "code",
   "execution_count": 18,
   "id": "560c5846",
   "metadata": {},
   "outputs": [],
   "source": [
    "fcol = leave.pop('dos_trpID_stpID_prgNum')"
   ]
  },
  {
   "cell_type": "code",
   "execution_count": 19,
   "id": "9a267abf",
   "metadata": {},
   "outputs": [],
   "source": [
    "leave.insert(0, 'dos_trpID_stpID_prgNum', fcol)"
   ]
  },
  {
   "cell_type": "code",
   "execution_count": 20,
   "id": "1f15ae3e",
   "metadata": {},
   "outputs": [
    {
     "data": {
      "text/html": [
       "<div>\n",
       "<style scoped>\n",
       "    .dataframe tbody tr th:only-of-type {\n",
       "        vertical-align: middle;\n",
       "    }\n",
       "\n",
       "    .dataframe tbody tr th {\n",
       "        vertical-align: top;\n",
       "    }\n",
       "\n",
       "    .dataframe thead th {\n",
       "        text-align: right;\n",
       "    }\n",
       "</style>\n",
       "<table border=\"1\" class=\"dataframe\">\n",
       "  <thead>\n",
       "    <tr style=\"text-align: right;\">\n",
       "      <th></th>\n",
       "      <th>dos_trpID_stpID_prgNum</th>\n",
       "      <th>ACTUALTIME_ARR</th>\n",
       "    </tr>\n",
       "  </thead>\n",
       "  <tbody>\n",
       "    <tr>\n",
       "      <th>0</th>\n",
       "      <td>2018-01-01-5972116-119-12</td>\n",
       "      <td>48012</td>\n",
       "    </tr>\n",
       "    <tr>\n",
       "      <th>1</th>\n",
       "      <td>2018-01-01-5966674-119-12</td>\n",
       "      <td>54023</td>\n",
       "    </tr>\n",
       "    <tr>\n",
       "      <th>2</th>\n",
       "      <td>2018-01-01-5959105-119-12</td>\n",
       "      <td>59955</td>\n",
       "    </tr>\n",
       "    <tr>\n",
       "      <th>3</th>\n",
       "      <td>2018-01-01-5966888-119-12</td>\n",
       "      <td>58771</td>\n",
       "    </tr>\n",
       "    <tr>\n",
       "      <th>4</th>\n",
       "      <td>2018-01-01-5965960-119-12</td>\n",
       "      <td>56309</td>\n",
       "    </tr>\n",
       "  </tbody>\n",
       "</table>\n",
       "</div>"
      ],
      "text/plain": [
       "      dos_trpID_stpID_prgNum  ACTUALTIME_ARR\n",
       "0  2018-01-01-5972116-119-12           48012\n",
       "1  2018-01-01-5966674-119-12           54023\n",
       "2  2018-01-01-5959105-119-12           59955\n",
       "3  2018-01-01-5966888-119-12           58771\n",
       "4  2018-01-01-5965960-119-12           56309"
      ]
     },
     "execution_count": 20,
     "metadata": {},
     "output_type": "execute_result"
    }
   ],
   "source": [
    "leave.head()"
   ]
  },
  {
   "cell_type": "markdown",
   "id": "a5ec5612",
   "metadata": {},
   "source": [
    "## Send to CSV"
   ]
  },
  {
   "cell_type": "code",
   "execution_count": 22,
   "id": "42605a26",
   "metadata": {},
   "outputs": [],
   "source": [
    "# Send leave1 to csv:\n",
    "leave.to_csv('v8b_leave1.csv', index=False)"
   ]
  },
  {
   "cell_type": "code",
   "execution_count": null,
   "id": "269ff0b9",
   "metadata": {},
   "outputs": [],
   "source": []
  }
 ],
 "metadata": {
  "kernelspec": {
   "display_name": "Python 3 (ipykernel)",
   "language": "python",
   "name": "python3"
  },
  "language_info": {
   "codemirror_mode": {
    "name": "ipython",
    "version": 3
   },
   "file_extension": ".py",
   "mimetype": "text/x-python",
   "name": "python",
   "nbconvert_exporter": "python",
   "pygments_lexer": "ipython3",
   "version": "3.10.4"
  }
 },
 "nbformat": 4,
 "nbformat_minor": 5
}
