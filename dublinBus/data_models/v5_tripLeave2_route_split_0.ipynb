{
 "cells": [
  {
   "cell_type": "code",
   "execution_count": 1,
   "id": "29f878e6",
   "metadata": {},
   "outputs": [],
   "source": [
    "# Library Imports.\n",
    "import pandas as pd\n",
    "\n",
    "import numpy as np"
   ]
  },
  {
   "cell_type": "code",
   "execution_count": 2,
   "id": "12abaae1",
   "metadata": {},
   "outputs": [
    {
     "name": "stderr",
     "output_type": "stream",
     "text": [
      "/tmp/ipykernel_12279/2012513398.py:2: DtypeWarning: Columns (14) have mixed types. Specify dtype option on import or set low_memory=False.\n",
      "  wk = pd.read_csv('v4_tripLeave2_LT_2018.csv', keep_default_na=True, delimiter=',', skipinitialspace=True)\n"
     ]
    }
   ],
   "source": [
    "# Read tripleave2 CSV file into Data Frame:\n",
    "wk = pd.read_csv('v4_tripLeave2_LT_2018.csv', keep_default_na=True, delimiter=',', skipinitialspace=True)"
   ]
  },
  {
   "cell_type": "code",
   "execution_count": 3,
   "id": "5dda47a0",
   "metadata": {},
   "outputs": [
    {
     "data": {
      "text/plain": [
       "(18205324, 21)"
      ]
     },
     "execution_count": 3,
     "metadata": {},
     "output_type": "execute_result"
    }
   ],
   "source": [
    "wk.shape"
   ]
  },
  {
   "cell_type": "code",
   "execution_count": null,
   "id": "c0c029ad",
   "metadata": {},
   "outputs": [],
   "source": [
    "wk.head()"
   ]
  },
  {
   "cell_type": "code",
   "execution_count": null,
   "id": "4878f708",
   "metadata": {},
   "outputs": [],
   "source": [
    "wk.dtypes"
   ]
  },
  {
   "cell_type": "markdown",
   "id": "bbd04bd3",
   "metadata": {},
   "source": [
    "## Add Actual Arrival Time Hour"
   ]
  },
  {
   "cell_type": "code",
   "execution_count": 4,
   "id": "d3a402c4",
   "metadata": {},
   "outputs": [],
   "source": [
    "wk['actualARR_hour'] = (wk['ACTUALTIME_ARR'] / 3600).round()"
   ]
  },
  {
   "cell_type": "code",
   "execution_count": 5,
   "id": "507135f5",
   "metadata": {},
   "outputs": [
    {
     "data": {
      "text/html": [
       "<div>\n",
       "<style scoped>\n",
       "    .dataframe tbody tr th:only-of-type {\n",
       "        vertical-align: middle;\n",
       "    }\n",
       "\n",
       "    .dataframe tbody tr th {\n",
       "        vertical-align: top;\n",
       "    }\n",
       "\n",
       "    .dataframe thead th {\n",
       "        text-align: right;\n",
       "    }\n",
       "</style>\n",
       "<table border=\"1\" class=\"dataframe\">\n",
       "  <thead>\n",
       "    <tr style=\"text-align: right;\">\n",
       "      <th></th>\n",
       "      <th>DAYOFSERVICE</th>\n",
       "      <th>TRIPID</th>\n",
       "      <th>PROGRNUMBER</th>\n",
       "      <th>STOPPOINTID</th>\n",
       "      <th>PLANNEDTIME_ARR</th>\n",
       "      <th>PLANNEDTIME_DEP</th>\n",
       "      <th>ACTUALTIME_ARR</th>\n",
       "      <th>ACTUALTIME_DEP</th>\n",
       "      <th>VEHICLEID</th>\n",
       "      <th>year</th>\n",
       "      <th>...</th>\n",
       "      <th>id</th>\n",
       "      <th>trip_leave_id</th>\n",
       "      <th>LINEID</th>\n",
       "      <th>num_lineID</th>\n",
       "      <th>DIRECTION</th>\n",
       "      <th>actual_duration</th>\n",
       "      <th>dayOfWeek</th>\n",
       "      <th>weekend</th>\n",
       "      <th>rushHour</th>\n",
       "      <th>actualARR_hour</th>\n",
       "    </tr>\n",
       "  </thead>\n",
       "  <tbody>\n",
       "    <tr>\n",
       "      <th>0</th>\n",
       "      <td>2018-02-26</td>\n",
       "      <td>6288438</td>\n",
       "      <td>1</td>\n",
       "      <td>4595</td>\n",
       "      <td>25800</td>\n",
       "      <td>25800</td>\n",
       "      <td>25800</td>\n",
       "      <td>25800</td>\n",
       "      <td>2868356</td>\n",
       "      <td>2018</td>\n",
       "      <td>...</td>\n",
       "      <td>20180226628843801</td>\n",
       "      <td>201802266288438</td>\n",
       "      <td>27</td>\n",
       "      <td>43.0</td>\n",
       "      <td>1.0</td>\n",
       "      <td>6494.0</td>\n",
       "      <td>0.0</td>\n",
       "      <td>0.0</td>\n",
       "      <td>0.0</td>\n",
       "      <td>7.0</td>\n",
       "    </tr>\n",
       "    <tr>\n",
       "      <th>1</th>\n",
       "      <td>2018-02-26</td>\n",
       "      <td>6288438</td>\n",
       "      <td>2</td>\n",
       "      <td>4596</td>\n",
       "      <td>25840</td>\n",
       "      <td>25840</td>\n",
       "      <td>25840</td>\n",
       "      <td>25840</td>\n",
       "      <td>2868356</td>\n",
       "      <td>2018</td>\n",
       "      <td>...</td>\n",
       "      <td>20180226628843802</td>\n",
       "      <td>201802266288438</td>\n",
       "      <td>27</td>\n",
       "      <td>43.0</td>\n",
       "      <td>1.0</td>\n",
       "      <td>6494.0</td>\n",
       "      <td>0.0</td>\n",
       "      <td>0.0</td>\n",
       "      <td>0.0</td>\n",
       "      <td>7.0</td>\n",
       "    </tr>\n",
       "    <tr>\n",
       "      <th>2</th>\n",
       "      <td>2018-02-26</td>\n",
       "      <td>6288438</td>\n",
       "      <td>3</td>\n",
       "      <td>4563</td>\n",
       "      <td>25888</td>\n",
       "      <td>25888</td>\n",
       "      <td>25888</td>\n",
       "      <td>25888</td>\n",
       "      <td>2868356</td>\n",
       "      <td>2018</td>\n",
       "      <td>...</td>\n",
       "      <td>20180226628843803</td>\n",
       "      <td>201802266288438</td>\n",
       "      <td>27</td>\n",
       "      <td>43.0</td>\n",
       "      <td>1.0</td>\n",
       "      <td>6494.0</td>\n",
       "      <td>0.0</td>\n",
       "      <td>0.0</td>\n",
       "      <td>0.0</td>\n",
       "      <td>7.0</td>\n",
       "    </tr>\n",
       "    <tr>\n",
       "      <th>3</th>\n",
       "      <td>2018-02-26</td>\n",
       "      <td>6288438</td>\n",
       "      <td>4</td>\n",
       "      <td>1218</td>\n",
       "      <td>25935</td>\n",
       "      <td>25935</td>\n",
       "      <td>25935</td>\n",
       "      <td>25935</td>\n",
       "      <td>2868356</td>\n",
       "      <td>2018</td>\n",
       "      <td>...</td>\n",
       "      <td>20180226628843804</td>\n",
       "      <td>201802266288438</td>\n",
       "      <td>27</td>\n",
       "      <td>43.0</td>\n",
       "      <td>1.0</td>\n",
       "      <td>6494.0</td>\n",
       "      <td>0.0</td>\n",
       "      <td>0.0</td>\n",
       "      <td>0.0</td>\n",
       "      <td>7.0</td>\n",
       "    </tr>\n",
       "    <tr>\n",
       "      <th>4</th>\n",
       "      <td>2018-02-26</td>\n",
       "      <td>6288438</td>\n",
       "      <td>5</td>\n",
       "      <td>1258</td>\n",
       "      <td>26035</td>\n",
       "      <td>26035</td>\n",
       "      <td>26035</td>\n",
       "      <td>26035</td>\n",
       "      <td>2868356</td>\n",
       "      <td>2018</td>\n",
       "      <td>...</td>\n",
       "      <td>20180226628843805</td>\n",
       "      <td>201802266288438</td>\n",
       "      <td>27</td>\n",
       "      <td>43.0</td>\n",
       "      <td>1.0</td>\n",
       "      <td>6494.0</td>\n",
       "      <td>0.0</td>\n",
       "      <td>0.0</td>\n",
       "      <td>0.0</td>\n",
       "      <td>7.0</td>\n",
       "    </tr>\n",
       "  </tbody>\n",
       "</table>\n",
       "<p>5 rows × 22 columns</p>\n",
       "</div>"
      ],
      "text/plain": [
       "  DAYOFSERVICE   TRIPID  PROGRNUMBER  STOPPOINTID  PLANNEDTIME_ARR  \\\n",
       "0   2018-02-26  6288438            1         4595            25800   \n",
       "1   2018-02-26  6288438            2         4596            25840   \n",
       "2   2018-02-26  6288438            3         4563            25888   \n",
       "3   2018-02-26  6288438            4         1218            25935   \n",
       "4   2018-02-26  6288438            5         1258            26035   \n",
       "\n",
       "   PLANNEDTIME_DEP  ACTUALTIME_ARR  ACTUALTIME_DEP  VEHICLEID  year  ...  \\\n",
       "0            25800           25800           25800    2868356  2018  ...   \n",
       "1            25840           25840           25840    2868356  2018  ...   \n",
       "2            25888           25888           25888    2868356  2018  ...   \n",
       "3            25935           25935           25935    2868356  2018  ...   \n",
       "4            26035           26035           26035    2868356  2018  ...   \n",
       "\n",
       "                  id    trip_leave_id  LINEID  num_lineID DIRECTION  \\\n",
       "0  20180226628843801  201802266288438      27        43.0       1.0   \n",
       "1  20180226628843802  201802266288438      27        43.0       1.0   \n",
       "2  20180226628843803  201802266288438      27        43.0       1.0   \n",
       "3  20180226628843804  201802266288438      27        43.0       1.0   \n",
       "4  20180226628843805  201802266288438      27        43.0       1.0   \n",
       "\n",
       "   actual_duration  dayOfWeek  weekend  rushHour  actualARR_hour  \n",
       "0           6494.0        0.0      0.0       0.0             7.0  \n",
       "1           6494.0        0.0      0.0       0.0             7.0  \n",
       "2           6494.0        0.0      0.0       0.0             7.0  \n",
       "3           6494.0        0.0      0.0       0.0             7.0  \n",
       "4           6494.0        0.0      0.0       0.0             7.0  \n",
       "\n",
       "[5 rows x 22 columns]"
      ]
     },
     "execution_count": 5,
     "metadata": {},
     "output_type": "execute_result"
    }
   ],
   "source": [
    "wk.head()"
   ]
  },
  {
   "cell_type": "code",
   "execution_count": 6,
   "id": "7eea808d",
   "metadata": {},
   "outputs": [],
   "source": [
    "# Replace any 24 hour values to zero\n",
    "wk['actualARR_hour'] = np.where(wk['actualARR_hour'] == 24, 0, wk['actualARR_hour'])"
   ]
  },
  {
   "cell_type": "code",
   "execution_count": 7,
   "id": "7195636a",
   "metadata": {},
   "outputs": [],
   "source": [
    "# Update actualARR_hour to int to rid of decimals\n",
    "wk['actualARR_hour'] = wk['actualARR_hour'].astype('int32')"
   ]
  },
  {
   "cell_type": "code",
   "execution_count": null,
   "id": "ed8ea247",
   "metadata": {},
   "outputs": [],
   "source": [
    "wk.head()"
   ]
  },
  {
   "cell_type": "markdown",
   "id": "81073090",
   "metadata": {},
   "source": [
    "## Datatype Changes"
   ]
  },
  {
   "cell_type": "code",
   "execution_count": 8,
   "id": "75954e98",
   "metadata": {},
   "outputs": [],
   "source": [
    "wk['num_lineID'] = wk['num_lineID'].astype('int16')\n",
    "wk['DIRECTION'] = wk['DIRECTION'].astype('int16')"
   ]
  },
  {
   "cell_type": "code",
   "execution_count": 9,
   "id": "aa322fd2",
   "metadata": {},
   "outputs": [],
   "source": [
    "wk['actual_duration'] = wk['actual_duration'].astype('int64')\n",
    "wk['dayOfWeek'] = wk['dayOfWeek'].astype('int16')"
   ]
  },
  {
   "cell_type": "code",
   "execution_count": 10,
   "id": "89c4a79a",
   "metadata": {},
   "outputs": [],
   "source": [
    "wk['weekend'] = wk['weekend'].astype('int16')\n",
    "wk['rushHour'] = wk['rushHour'].astype('int16')"
   ]
  },
  {
   "cell_type": "code",
   "execution_count": 11,
   "id": "604f0107",
   "metadata": {},
   "outputs": [
    {
     "data": {
      "text/html": [
       "<div>\n",
       "<style scoped>\n",
       "    .dataframe tbody tr th:only-of-type {\n",
       "        vertical-align: middle;\n",
       "    }\n",
       "\n",
       "    .dataframe tbody tr th {\n",
       "        vertical-align: top;\n",
       "    }\n",
       "\n",
       "    .dataframe thead th {\n",
       "        text-align: right;\n",
       "    }\n",
       "</style>\n",
       "<table border=\"1\" class=\"dataframe\">\n",
       "  <thead>\n",
       "    <tr style=\"text-align: right;\">\n",
       "      <th></th>\n",
       "      <th>DAYOFSERVICE</th>\n",
       "      <th>TRIPID</th>\n",
       "      <th>PROGRNUMBER</th>\n",
       "      <th>STOPPOINTID</th>\n",
       "      <th>PLANNEDTIME_ARR</th>\n",
       "      <th>PLANNEDTIME_DEP</th>\n",
       "      <th>ACTUALTIME_ARR</th>\n",
       "      <th>ACTUALTIME_DEP</th>\n",
       "      <th>VEHICLEID</th>\n",
       "      <th>year</th>\n",
       "      <th>...</th>\n",
       "      <th>id</th>\n",
       "      <th>trip_leave_id</th>\n",
       "      <th>LINEID</th>\n",
       "      <th>num_lineID</th>\n",
       "      <th>DIRECTION</th>\n",
       "      <th>actual_duration</th>\n",
       "      <th>dayOfWeek</th>\n",
       "      <th>weekend</th>\n",
       "      <th>rushHour</th>\n",
       "      <th>actualARR_hour</th>\n",
       "    </tr>\n",
       "  </thead>\n",
       "  <tbody>\n",
       "    <tr>\n",
       "      <th>0</th>\n",
       "      <td>2018-02-26</td>\n",
       "      <td>6288438</td>\n",
       "      <td>1</td>\n",
       "      <td>4595</td>\n",
       "      <td>25800</td>\n",
       "      <td>25800</td>\n",
       "      <td>25800</td>\n",
       "      <td>25800</td>\n",
       "      <td>2868356</td>\n",
       "      <td>2018</td>\n",
       "      <td>...</td>\n",
       "      <td>20180226628843801</td>\n",
       "      <td>201802266288438</td>\n",
       "      <td>27</td>\n",
       "      <td>43</td>\n",
       "      <td>1</td>\n",
       "      <td>6494</td>\n",
       "      <td>0</td>\n",
       "      <td>0</td>\n",
       "      <td>0</td>\n",
       "      <td>7</td>\n",
       "    </tr>\n",
       "    <tr>\n",
       "      <th>1</th>\n",
       "      <td>2018-02-26</td>\n",
       "      <td>6288438</td>\n",
       "      <td>2</td>\n",
       "      <td>4596</td>\n",
       "      <td>25840</td>\n",
       "      <td>25840</td>\n",
       "      <td>25840</td>\n",
       "      <td>25840</td>\n",
       "      <td>2868356</td>\n",
       "      <td>2018</td>\n",
       "      <td>...</td>\n",
       "      <td>20180226628843802</td>\n",
       "      <td>201802266288438</td>\n",
       "      <td>27</td>\n",
       "      <td>43</td>\n",
       "      <td>1</td>\n",
       "      <td>6494</td>\n",
       "      <td>0</td>\n",
       "      <td>0</td>\n",
       "      <td>0</td>\n",
       "      <td>7</td>\n",
       "    </tr>\n",
       "    <tr>\n",
       "      <th>2</th>\n",
       "      <td>2018-02-26</td>\n",
       "      <td>6288438</td>\n",
       "      <td>3</td>\n",
       "      <td>4563</td>\n",
       "      <td>25888</td>\n",
       "      <td>25888</td>\n",
       "      <td>25888</td>\n",
       "      <td>25888</td>\n",
       "      <td>2868356</td>\n",
       "      <td>2018</td>\n",
       "      <td>...</td>\n",
       "      <td>20180226628843803</td>\n",
       "      <td>201802266288438</td>\n",
       "      <td>27</td>\n",
       "      <td>43</td>\n",
       "      <td>1</td>\n",
       "      <td>6494</td>\n",
       "      <td>0</td>\n",
       "      <td>0</td>\n",
       "      <td>0</td>\n",
       "      <td>7</td>\n",
       "    </tr>\n",
       "    <tr>\n",
       "      <th>3</th>\n",
       "      <td>2018-02-26</td>\n",
       "      <td>6288438</td>\n",
       "      <td>4</td>\n",
       "      <td>1218</td>\n",
       "      <td>25935</td>\n",
       "      <td>25935</td>\n",
       "      <td>25935</td>\n",
       "      <td>25935</td>\n",
       "      <td>2868356</td>\n",
       "      <td>2018</td>\n",
       "      <td>...</td>\n",
       "      <td>20180226628843804</td>\n",
       "      <td>201802266288438</td>\n",
       "      <td>27</td>\n",
       "      <td>43</td>\n",
       "      <td>1</td>\n",
       "      <td>6494</td>\n",
       "      <td>0</td>\n",
       "      <td>0</td>\n",
       "      <td>0</td>\n",
       "      <td>7</td>\n",
       "    </tr>\n",
       "    <tr>\n",
       "      <th>4</th>\n",
       "      <td>2018-02-26</td>\n",
       "      <td>6288438</td>\n",
       "      <td>5</td>\n",
       "      <td>1258</td>\n",
       "      <td>26035</td>\n",
       "      <td>26035</td>\n",
       "      <td>26035</td>\n",
       "      <td>26035</td>\n",
       "      <td>2868356</td>\n",
       "      <td>2018</td>\n",
       "      <td>...</td>\n",
       "      <td>20180226628843805</td>\n",
       "      <td>201802266288438</td>\n",
       "      <td>27</td>\n",
       "      <td>43</td>\n",
       "      <td>1</td>\n",
       "      <td>6494</td>\n",
       "      <td>0</td>\n",
       "      <td>0</td>\n",
       "      <td>0</td>\n",
       "      <td>7</td>\n",
       "    </tr>\n",
       "  </tbody>\n",
       "</table>\n",
       "<p>5 rows × 22 columns</p>\n",
       "</div>"
      ],
      "text/plain": [
       "  DAYOFSERVICE   TRIPID  PROGRNUMBER  STOPPOINTID  PLANNEDTIME_ARR  \\\n",
       "0   2018-02-26  6288438            1         4595            25800   \n",
       "1   2018-02-26  6288438            2         4596            25840   \n",
       "2   2018-02-26  6288438            3         4563            25888   \n",
       "3   2018-02-26  6288438            4         1218            25935   \n",
       "4   2018-02-26  6288438            5         1258            26035   \n",
       "\n",
       "   PLANNEDTIME_DEP  ACTUALTIME_ARR  ACTUALTIME_DEP  VEHICLEID  year  ...  \\\n",
       "0            25800           25800           25800    2868356  2018  ...   \n",
       "1            25840           25840           25840    2868356  2018  ...   \n",
       "2            25888           25888           25888    2868356  2018  ...   \n",
       "3            25935           25935           25935    2868356  2018  ...   \n",
       "4            26035           26035           26035    2868356  2018  ...   \n",
       "\n",
       "                  id    trip_leave_id  LINEID  num_lineID DIRECTION  \\\n",
       "0  20180226628843801  201802266288438      27          43         1   \n",
       "1  20180226628843802  201802266288438      27          43         1   \n",
       "2  20180226628843803  201802266288438      27          43         1   \n",
       "3  20180226628843804  201802266288438      27          43         1   \n",
       "4  20180226628843805  201802266288438      27          43         1   \n",
       "\n",
       "   actual_duration  dayOfWeek  weekend  rushHour  actualARR_hour  \n",
       "0             6494          0        0         0               7  \n",
       "1             6494          0        0         0               7  \n",
       "2             6494          0        0         0               7  \n",
       "3             6494          0        0         0               7  \n",
       "4             6494          0        0         0               7  \n",
       "\n",
       "[5 rows x 22 columns]"
      ]
     },
     "execution_count": 11,
     "metadata": {},
     "output_type": "execute_result"
    }
   ],
   "source": [
    "wk.head()"
   ]
  },
  {
   "cell_type": "code",
   "execution_count": null,
   "id": "645ff86a",
   "metadata": {},
   "outputs": [],
   "source": [
    "wk.dtypes"
   ]
  },
  {
   "cell_type": "markdown",
   "id": "86d6d334",
   "metadata": {},
   "source": [
    "## Route 27"
   ]
  },
  {
   "cell_type": "code",
   "execution_count": 12,
   "id": "01b378cc",
   "metadata": {},
   "outputs": [],
   "source": [
    "lwk = wk[(wk['LINEID'] == '27')]"
   ]
  },
  {
   "cell_type": "code",
   "execution_count": 13,
   "id": "5ae677fe",
   "metadata": {},
   "outputs": [
    {
     "data": {
      "text/plain": [
       "(604137, 22)"
      ]
     },
     "execution_count": 13,
     "metadata": {},
     "output_type": "execute_result"
    }
   ],
   "source": [
    "lwk.shape"
   ]
  },
  {
   "cell_type": "code",
   "execution_count": 14,
   "id": "eb268b7e",
   "metadata": {},
   "outputs": [],
   "source": [
    "# Drop Route 27 rows from wk\n",
    "wk.drop(wk[wk['LINEID'] == '27'].index, inplace = True)"
   ]
  },
  {
   "cell_type": "code",
   "execution_count": null,
   "id": "cdb83698",
   "metadata": {},
   "outputs": [],
   "source": [
    "wk.head()"
   ]
  },
  {
   "cell_type": "code",
   "execution_count": null,
   "id": "f85f5650",
   "metadata": {},
   "outputs": [],
   "source": [
    "wk.shape"
   ]
  },
  {
   "cell_type": "markdown",
   "id": "f36c2173",
   "metadata": {},
   "source": [
    "<h3>Send to CSV</h3>"
   ]
  },
  {
   "cell_type": "code",
   "execution_count": null,
   "id": "4fcd4689",
   "metadata": {},
   "outputs": [],
   "source": [
    "# Send df to csv:\n",
    "lwk.to_csv('v5_27_tripLeave2_sp0.csv', index=False)"
   ]
  },
  {
   "cell_type": "markdown",
   "id": "02f3d83e",
   "metadata": {},
   "source": [
    "## Route 67"
   ]
  },
  {
   "cell_type": "code",
   "execution_count": 15,
   "id": "b91914a8",
   "metadata": {},
   "outputs": [],
   "source": [
    "lwk = wk[(wk['LINEID'] == '67')]"
   ]
  },
  {
   "cell_type": "code",
   "execution_count": 16,
   "id": "697f3295",
   "metadata": {},
   "outputs": [
    {
     "data": {
      "text/plain": [
       "(229746, 22)"
      ]
     },
     "execution_count": 16,
     "metadata": {},
     "output_type": "execute_result"
    }
   ],
   "source": [
    "lwk.shape"
   ]
  },
  {
   "cell_type": "code",
   "execution_count": 17,
   "id": "d4360a64",
   "metadata": {},
   "outputs": [],
   "source": [
    "# Drop Route 67 rows from wk\n",
    "wk.drop(wk[wk['LINEID'] == '67'].index, inplace = True)"
   ]
  },
  {
   "cell_type": "code",
   "execution_count": null,
   "id": "942c64b0",
   "metadata": {},
   "outputs": [],
   "source": [
    "wk.head()"
   ]
  },
  {
   "cell_type": "code",
   "execution_count": null,
   "id": "cdc545e0",
   "metadata": {},
   "outputs": [],
   "source": [
    "wk.shape"
   ]
  },
  {
   "cell_type": "markdown",
   "id": "40667721",
   "metadata": {},
   "source": [
    "<h3>Send to CSV</h3>"
   ]
  },
  {
   "cell_type": "code",
   "execution_count": null,
   "id": "5d225394",
   "metadata": {},
   "outputs": [],
   "source": [
    "# Send df to csv:\n",
    "lwk.to_csv('v5_67_tripLeave2_sp0.csv', index=False)"
   ]
  },
  {
   "cell_type": "markdown",
   "id": "c9871333",
   "metadata": {},
   "source": [
    "## Route 31"
   ]
  },
  {
   "cell_type": "code",
   "execution_count": 18,
   "id": "6d09b20e",
   "metadata": {},
   "outputs": [],
   "source": [
    "lwk = wk[(wk['LINEID'] == '31')]"
   ]
  },
  {
   "cell_type": "code",
   "execution_count": 19,
   "id": "5a20631a",
   "metadata": {},
   "outputs": [
    {
     "data": {
      "text/plain": [
       "(204514, 22)"
      ]
     },
     "execution_count": 19,
     "metadata": {},
     "output_type": "execute_result"
    }
   ],
   "source": [
    "lwk.shape"
   ]
  },
  {
   "cell_type": "code",
   "execution_count": 20,
   "id": "33e489aa",
   "metadata": {},
   "outputs": [],
   "source": [
    "# Drop Route 31 rows from wk\n",
    "wk.drop(wk[wk['LINEID'] == '31'].index, inplace = True)"
   ]
  },
  {
   "cell_type": "code",
   "execution_count": null,
   "id": "4ed9474e",
   "metadata": {},
   "outputs": [],
   "source": [
    "wk.head()"
   ]
  },
  {
   "cell_type": "code",
   "execution_count": null,
   "id": "f5f7599c",
   "metadata": {},
   "outputs": [],
   "source": [
    "wk.shape"
   ]
  },
  {
   "cell_type": "markdown",
   "id": "38748ef1",
   "metadata": {},
   "source": [
    "<h3>Send to CSV</h3>"
   ]
  },
  {
   "cell_type": "code",
   "execution_count": null,
   "id": "838ecfd9",
   "metadata": {},
   "outputs": [],
   "source": [
    "# Send df to csv:\n",
    "lwk.to_csv('v5_31_tripLeave2_sp0.csv', index=False)"
   ]
  },
  {
   "cell_type": "markdown",
   "id": "c9ce61f5",
   "metadata": {},
   "source": [
    "## Route 31B"
   ]
  },
  {
   "cell_type": "code",
   "execution_count": 21,
   "id": "f6ad83ea",
   "metadata": {},
   "outputs": [],
   "source": [
    "lwk = wk[(wk['LINEID'] == '31B')]"
   ]
  },
  {
   "cell_type": "code",
   "execution_count": 22,
   "id": "ec9abc5f",
   "metadata": {},
   "outputs": [
    {
     "data": {
      "text/plain": [
       "(20124, 22)"
      ]
     },
     "execution_count": 22,
     "metadata": {},
     "output_type": "execute_result"
    }
   ],
   "source": [
    "lwk.shape"
   ]
  },
  {
   "cell_type": "code",
   "execution_count": 23,
   "id": "33c70ba9",
   "metadata": {},
   "outputs": [],
   "source": [
    "# Drop Route 31B rows from wk\n",
    "wk.drop(wk[wk['LINEID'] == '31B'].index, inplace = True)"
   ]
  },
  {
   "cell_type": "code",
   "execution_count": 24,
   "id": "1f691a8b",
   "metadata": {},
   "outputs": [
    {
     "data": {
      "text/html": [
       "<div>\n",
       "<style scoped>\n",
       "    .dataframe tbody tr th:only-of-type {\n",
       "        vertical-align: middle;\n",
       "    }\n",
       "\n",
       "    .dataframe tbody tr th {\n",
       "        vertical-align: top;\n",
       "    }\n",
       "\n",
       "    .dataframe thead th {\n",
       "        text-align: right;\n",
       "    }\n",
       "</style>\n",
       "<table border=\"1\" class=\"dataframe\">\n",
       "  <thead>\n",
       "    <tr style=\"text-align: right;\">\n",
       "      <th></th>\n",
       "      <th>DAYOFSERVICE</th>\n",
       "      <th>TRIPID</th>\n",
       "      <th>PROGRNUMBER</th>\n",
       "      <th>STOPPOINTID</th>\n",
       "      <th>PLANNEDTIME_ARR</th>\n",
       "      <th>PLANNEDTIME_DEP</th>\n",
       "      <th>ACTUALTIME_ARR</th>\n",
       "      <th>ACTUALTIME_DEP</th>\n",
       "      <th>VEHICLEID</th>\n",
       "      <th>year</th>\n",
       "      <th>...</th>\n",
       "      <th>id</th>\n",
       "      <th>trip_leave_id</th>\n",
       "      <th>LINEID</th>\n",
       "      <th>num_lineID</th>\n",
       "      <th>DIRECTION</th>\n",
       "      <th>actual_duration</th>\n",
       "      <th>dayOfWeek</th>\n",
       "      <th>weekend</th>\n",
       "      <th>rushHour</th>\n",
       "      <th>actualARR_hour</th>\n",
       "    </tr>\n",
       "  </thead>\n",
       "  <tbody>\n",
       "    <tr>\n",
       "      <th>1080</th>\n",
       "      <td>2018-02-26</td>\n",
       "      <td>6288515</td>\n",
       "      <td>2</td>\n",
       "      <td>289</td>\n",
       "      <td>36990</td>\n",
       "      <td>36990</td>\n",
       "      <td>36990</td>\n",
       "      <td>36990</td>\n",
       "      <td>1000774</td>\n",
       "      <td>2018</td>\n",
       "      <td>...</td>\n",
       "      <td>20180226628851502</td>\n",
       "      <td>201802266288515</td>\n",
       "      <td>31A</td>\n",
       "      <td>50</td>\n",
       "      <td>1</td>\n",
       "      <td>3073</td>\n",
       "      <td>0</td>\n",
       "      <td>0</td>\n",
       "      <td>0</td>\n",
       "      <td>10</td>\n",
       "    </tr>\n",
       "    <tr>\n",
       "      <th>1081</th>\n",
       "      <td>2018-02-26</td>\n",
       "      <td>6288515</td>\n",
       "      <td>3</td>\n",
       "      <td>496</td>\n",
       "      <td>37066</td>\n",
       "      <td>37066</td>\n",
       "      <td>37066</td>\n",
       "      <td>37066</td>\n",
       "      <td>1000774</td>\n",
       "      <td>2018</td>\n",
       "      <td>...</td>\n",
       "      <td>20180226628851503</td>\n",
       "      <td>201802266288515</td>\n",
       "      <td>31A</td>\n",
       "      <td>50</td>\n",
       "      <td>1</td>\n",
       "      <td>3073</td>\n",
       "      <td>0</td>\n",
       "      <td>0</td>\n",
       "      <td>0</td>\n",
       "      <td>10</td>\n",
       "    </tr>\n",
       "    <tr>\n",
       "      <th>1082</th>\n",
       "      <td>2018-02-26</td>\n",
       "      <td>6288515</td>\n",
       "      <td>4</td>\n",
       "      <td>7490</td>\n",
       "      <td>37080</td>\n",
       "      <td>37080</td>\n",
       "      <td>37080</td>\n",
       "      <td>37080</td>\n",
       "      <td>1000774</td>\n",
       "      <td>2018</td>\n",
       "      <td>...</td>\n",
       "      <td>20180226628851504</td>\n",
       "      <td>201802266288515</td>\n",
       "      <td>31A</td>\n",
       "      <td>50</td>\n",
       "      <td>1</td>\n",
       "      <td>3073</td>\n",
       "      <td>0</td>\n",
       "      <td>0</td>\n",
       "      <td>0</td>\n",
       "      <td>10</td>\n",
       "    </tr>\n",
       "    <tr>\n",
       "      <th>1083</th>\n",
       "      <td>2018-02-26</td>\n",
       "      <td>6288515</td>\n",
       "      <td>5</td>\n",
       "      <td>515</td>\n",
       "      <td>37193</td>\n",
       "      <td>37193</td>\n",
       "      <td>37193</td>\n",
       "      <td>37193</td>\n",
       "      <td>1000774</td>\n",
       "      <td>2018</td>\n",
       "      <td>...</td>\n",
       "      <td>20180226628851505</td>\n",
       "      <td>201802266288515</td>\n",
       "      <td>31A</td>\n",
       "      <td>50</td>\n",
       "      <td>1</td>\n",
       "      <td>3073</td>\n",
       "      <td>0</td>\n",
       "      <td>0</td>\n",
       "      <td>0</td>\n",
       "      <td>10</td>\n",
       "    </tr>\n",
       "    <tr>\n",
       "      <th>1084</th>\n",
       "      <td>2018-02-26</td>\n",
       "      <td>6288515</td>\n",
       "      <td>6</td>\n",
       "      <td>516</td>\n",
       "      <td>37260</td>\n",
       "      <td>37260</td>\n",
       "      <td>37260</td>\n",
       "      <td>37260</td>\n",
       "      <td>1000774</td>\n",
       "      <td>2018</td>\n",
       "      <td>...</td>\n",
       "      <td>20180226628851506</td>\n",
       "      <td>201802266288515</td>\n",
       "      <td>31A</td>\n",
       "      <td>50</td>\n",
       "      <td>1</td>\n",
       "      <td>3073</td>\n",
       "      <td>0</td>\n",
       "      <td>0</td>\n",
       "      <td>0</td>\n",
       "      <td>10</td>\n",
       "    </tr>\n",
       "  </tbody>\n",
       "</table>\n",
       "<p>5 rows × 22 columns</p>\n",
       "</div>"
      ],
      "text/plain": [
       "     DAYOFSERVICE   TRIPID  PROGRNUMBER  STOPPOINTID  PLANNEDTIME_ARR  \\\n",
       "1080   2018-02-26  6288515            2          289            36990   \n",
       "1081   2018-02-26  6288515            3          496            37066   \n",
       "1082   2018-02-26  6288515            4         7490            37080   \n",
       "1083   2018-02-26  6288515            5          515            37193   \n",
       "1084   2018-02-26  6288515            6          516            37260   \n",
       "\n",
       "      PLANNEDTIME_DEP  ACTUALTIME_ARR  ACTUALTIME_DEP  VEHICLEID  year  ...  \\\n",
       "1080            36990           36990           36990    1000774  2018  ...   \n",
       "1081            37066           37066           37066    1000774  2018  ...   \n",
       "1082            37080           37080           37080    1000774  2018  ...   \n",
       "1083            37193           37193           37193    1000774  2018  ...   \n",
       "1084            37260           37260           37260    1000774  2018  ...   \n",
       "\n",
       "                     id    trip_leave_id  LINEID  num_lineID DIRECTION  \\\n",
       "1080  20180226628851502  201802266288515     31A          50         1   \n",
       "1081  20180226628851503  201802266288515     31A          50         1   \n",
       "1082  20180226628851504  201802266288515     31A          50         1   \n",
       "1083  20180226628851505  201802266288515     31A          50         1   \n",
       "1084  20180226628851506  201802266288515     31A          50         1   \n",
       "\n",
       "      actual_duration  dayOfWeek  weekend  rushHour  actualARR_hour  \n",
       "1080             3073          0        0         0              10  \n",
       "1081             3073          0        0         0              10  \n",
       "1082             3073          0        0         0              10  \n",
       "1083             3073          0        0         0              10  \n",
       "1084             3073          0        0         0              10  \n",
       "\n",
       "[5 rows x 22 columns]"
      ]
     },
     "execution_count": 24,
     "metadata": {},
     "output_type": "execute_result"
    }
   ],
   "source": [
    "wk.head()"
   ]
  },
  {
   "cell_type": "code",
   "execution_count": 25,
   "id": "c35ec0ec",
   "metadata": {},
   "outputs": [
    {
     "data": {
      "text/plain": [
       "(17146803, 22)"
      ]
     },
     "execution_count": 25,
     "metadata": {},
     "output_type": "execute_result"
    }
   ],
   "source": [
    "wk.shape"
   ]
  },
  {
   "cell_type": "markdown",
   "id": "685da73e",
   "metadata": {},
   "source": [
    "<h3>Send to CSV</h3>"
   ]
  },
  {
   "cell_type": "code",
   "execution_count": 26,
   "id": "dd78bfed",
   "metadata": {},
   "outputs": [],
   "source": [
    "# Send df to csv:\n",
    "lwk.to_csv('v5_31B_tripLeave2_sp0.csv', index=False)"
   ]
  },
  {
   "cell_type": "markdown",
   "id": "e082232a",
   "metadata": {},
   "source": [
    "## Continue v5_tripLeave2_route_split_1"
   ]
  },
  {
   "cell_type": "code",
   "execution_count": 27,
   "id": "647c1774",
   "metadata": {},
   "outputs": [],
   "source": [
    "# Send df to csv:\n",
    "wk.to_csv('v5_tripLeave2_route_split_1.csv', index=False)"
   ]
  },
  {
   "cell_type": "code",
   "execution_count": null,
   "id": "c4a5925f",
   "metadata": {},
   "outputs": [],
   "source": []
  }
 ],
 "metadata": {
  "kernelspec": {
   "display_name": "Python 3 (ipykernel)",
   "language": "python",
   "name": "python3"
  },
  "language_info": {
   "codemirror_mode": {
    "name": "ipython",
    "version": 3
   },
   "file_extension": ".py",
   "mimetype": "text/x-python",
   "name": "python",
   "nbconvert_exporter": "python",
   "pygments_lexer": "ipython3",
   "version": "3.10.4"
  }
 },
 "nbformat": 4,
 "nbformat_minor": 5
}
