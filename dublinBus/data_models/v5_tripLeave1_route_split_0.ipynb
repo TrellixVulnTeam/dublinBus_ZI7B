{
 "cells": [
  {
   "cell_type": "code",
   "execution_count": 1,
   "id": "29f878e6",
   "metadata": {},
   "outputs": [],
   "source": [
    "# Library Imports.\n",
    "import pandas as pd\n",
    "import matplotlib.pyplot as plt\n",
    "import numpy as np\n",
    "from matplotlib.backends.backend_pdf import PdfPages\n",
    "import seaborn as sns\n",
    "\n",
    "# Allows plots to appear directly in the notebook.\n",
    "%matplotlib inline\n",
    "\n",
    "from sklearn.linear_model import LinearRegression\n",
    "from sklearn.model_selection import train_test_split\n",
    "from sklearn.tree import DecisionTreeRegressor\n",
    "from sklearn import tree\n",
    "from sklearn.ensemble import RandomForestRegressor\n",
    "from sklearn import metrics\n",
    "from sklearn.model_selection import cross_validate\n",
    "from sklearn.model_selection import cross_val_score \n",
    "\n",
    "import pickle"
   ]
  },
  {
   "cell_type": "code",
   "execution_count": 2,
   "id": "12abaae1",
   "metadata": {},
   "outputs": [],
   "source": [
    "# Read tripleave1 CSV file into Data Frame:\n",
    "wk = pd.read_csv('v4_tripLeave1_LT_2018.csv', keep_default_na=True, delimiter=',', skipinitialspace=True)"
   ]
  },
  {
   "cell_type": "code",
   "execution_count": 3,
   "id": "5dda47a0",
   "metadata": {},
   "outputs": [
    {
     "data": {
      "text/plain": [
       "(18362590, 21)"
      ]
     },
     "execution_count": 3,
     "metadata": {},
     "output_type": "execute_result"
    }
   ],
   "source": [
    "wk.shape"
   ]
  },
  {
   "cell_type": "code",
   "execution_count": 4,
   "id": "c0c029ad",
   "metadata": {},
   "outputs": [
    {
     "data": {
      "text/html": [
       "<div>\n",
       "<style scoped>\n",
       "    .dataframe tbody tr th:only-of-type {\n",
       "        vertical-align: middle;\n",
       "    }\n",
       "\n",
       "    .dataframe tbody tr th {\n",
       "        vertical-align: top;\n",
       "    }\n",
       "\n",
       "    .dataframe thead th {\n",
       "        text-align: right;\n",
       "    }\n",
       "</style>\n",
       "<table border=\"1\" class=\"dataframe\">\n",
       "  <thead>\n",
       "    <tr style=\"text-align: right;\">\n",
       "      <th></th>\n",
       "      <th>DAYOFSERVICE</th>\n",
       "      <th>TRIPID</th>\n",
       "      <th>PROGRNUMBER</th>\n",
       "      <th>STOPPOINTID</th>\n",
       "      <th>PLANNEDTIME_ARR</th>\n",
       "      <th>PLANNEDTIME_DEP</th>\n",
       "      <th>ACTUALTIME_ARR</th>\n",
       "      <th>ACTUALTIME_DEP</th>\n",
       "      <th>VEHICLEID</th>\n",
       "      <th>year</th>\n",
       "      <th>...</th>\n",
       "      <th>day</th>\n",
       "      <th>id</th>\n",
       "      <th>trip_leave_id</th>\n",
       "      <th>LINEID</th>\n",
       "      <th>num_lineID</th>\n",
       "      <th>DIRECTION</th>\n",
       "      <th>actual_duration</th>\n",
       "      <th>dayOfWeek</th>\n",
       "      <th>weekend</th>\n",
       "      <th>rushHour</th>\n",
       "    </tr>\n",
       "  </thead>\n",
       "  <tbody>\n",
       "    <tr>\n",
       "      <th>0</th>\n",
       "      <td>2018-01-01</td>\n",
       "      <td>5955277</td>\n",
       "      <td>1</td>\n",
       "      <td>7347</td>\n",
       "      <td>30000</td>\n",
       "      <td>30000</td>\n",
       "      <td>30000</td>\n",
       "      <td>30000</td>\n",
       "      <td>1001127</td>\n",
       "      <td>2018</td>\n",
       "      <td>...</td>\n",
       "      <td>1</td>\n",
       "      <td>20180101595527701</td>\n",
       "      <td>201801015955277</td>\n",
       "      <td>16</td>\n",
       "      <td>24.0</td>\n",
       "      <td>1.0</td>\n",
       "      <td>3155.0</td>\n",
       "      <td>0.0</td>\n",
       "      <td>0.0</td>\n",
       "      <td>1.0</td>\n",
       "    </tr>\n",
       "    <tr>\n",
       "      <th>1</th>\n",
       "      <td>2018-01-01</td>\n",
       "      <td>5955277</td>\n",
       "      <td>2</td>\n",
       "      <td>3669</td>\n",
       "      <td>30080</td>\n",
       "      <td>30080</td>\n",
       "      <td>30080</td>\n",
       "      <td>30080</td>\n",
       "      <td>1001127</td>\n",
       "      <td>2018</td>\n",
       "      <td>...</td>\n",
       "      <td>1</td>\n",
       "      <td>20180101595527702</td>\n",
       "      <td>201801015955277</td>\n",
       "      <td>16</td>\n",
       "      <td>24.0</td>\n",
       "      <td>1.0</td>\n",
       "      <td>3155.0</td>\n",
       "      <td>0.0</td>\n",
       "      <td>0.0</td>\n",
       "      <td>1.0</td>\n",
       "    </tr>\n",
       "    <tr>\n",
       "      <th>2</th>\n",
       "      <td>2018-01-01</td>\n",
       "      <td>5955277</td>\n",
       "      <td>3</td>\n",
       "      <td>7349</td>\n",
       "      <td>30138</td>\n",
       "      <td>30138</td>\n",
       "      <td>30138</td>\n",
       "      <td>30138</td>\n",
       "      <td>1001127</td>\n",
       "      <td>2018</td>\n",
       "      <td>...</td>\n",
       "      <td>1</td>\n",
       "      <td>20180101595527703</td>\n",
       "      <td>201801015955277</td>\n",
       "      <td>16</td>\n",
       "      <td>24.0</td>\n",
       "      <td>1.0</td>\n",
       "      <td>3155.0</td>\n",
       "      <td>0.0</td>\n",
       "      <td>0.0</td>\n",
       "      <td>1.0</td>\n",
       "    </tr>\n",
       "    <tr>\n",
       "      <th>3</th>\n",
       "      <td>2018-01-01</td>\n",
       "      <td>5955277</td>\n",
       "      <td>4</td>\n",
       "      <td>1631</td>\n",
       "      <td>30206</td>\n",
       "      <td>30206</td>\n",
       "      <td>30206</td>\n",
       "      <td>30206</td>\n",
       "      <td>1001127</td>\n",
       "      <td>2018</td>\n",
       "      <td>...</td>\n",
       "      <td>1</td>\n",
       "      <td>20180101595527704</td>\n",
       "      <td>201801015955277</td>\n",
       "      <td>16</td>\n",
       "      <td>24.0</td>\n",
       "      <td>1.0</td>\n",
       "      <td>3155.0</td>\n",
       "      <td>0.0</td>\n",
       "      <td>0.0</td>\n",
       "      <td>1.0</td>\n",
       "    </tr>\n",
       "    <tr>\n",
       "      <th>4</th>\n",
       "      <td>2018-01-01</td>\n",
       "      <td>5955277</td>\n",
       "      <td>5</td>\n",
       "      <td>1632</td>\n",
       "      <td>30221</td>\n",
       "      <td>30221</td>\n",
       "      <td>30221</td>\n",
       "      <td>30221</td>\n",
       "      <td>1001127</td>\n",
       "      <td>2018</td>\n",
       "      <td>...</td>\n",
       "      <td>1</td>\n",
       "      <td>20180101595527705</td>\n",
       "      <td>201801015955277</td>\n",
       "      <td>16</td>\n",
       "      <td>24.0</td>\n",
       "      <td>1.0</td>\n",
       "      <td>3155.0</td>\n",
       "      <td>0.0</td>\n",
       "      <td>0.0</td>\n",
       "      <td>1.0</td>\n",
       "    </tr>\n",
       "  </tbody>\n",
       "</table>\n",
       "<p>5 rows × 21 columns</p>\n",
       "</div>"
      ],
      "text/plain": [
       "  DAYOFSERVICE   TRIPID  PROGRNUMBER  STOPPOINTID  PLANNEDTIME_ARR  \\\n",
       "0   2018-01-01  5955277            1         7347            30000   \n",
       "1   2018-01-01  5955277            2         3669            30080   \n",
       "2   2018-01-01  5955277            3         7349            30138   \n",
       "3   2018-01-01  5955277            4         1631            30206   \n",
       "4   2018-01-01  5955277            5         1632            30221   \n",
       "\n",
       "   PLANNEDTIME_DEP  ACTUALTIME_ARR  ACTUALTIME_DEP  VEHICLEID  year  ...  day  \\\n",
       "0            30000           30000           30000    1001127  2018  ...    1   \n",
       "1            30080           30080           30080    1001127  2018  ...    1   \n",
       "2            30138           30138           30138    1001127  2018  ...    1   \n",
       "3            30206           30206           30206    1001127  2018  ...    1   \n",
       "4            30221           30221           30221    1001127  2018  ...    1   \n",
       "\n",
       "                  id    trip_leave_id  LINEID num_lineID  DIRECTION  \\\n",
       "0  20180101595527701  201801015955277      16       24.0        1.0   \n",
       "1  20180101595527702  201801015955277      16       24.0        1.0   \n",
       "2  20180101595527703  201801015955277      16       24.0        1.0   \n",
       "3  20180101595527704  201801015955277      16       24.0        1.0   \n",
       "4  20180101595527705  201801015955277      16       24.0        1.0   \n",
       "\n",
       "   actual_duration  dayOfWeek  weekend  rushHour  \n",
       "0           3155.0        0.0      0.0       1.0  \n",
       "1           3155.0        0.0      0.0       1.0  \n",
       "2           3155.0        0.0      0.0       1.0  \n",
       "3           3155.0        0.0      0.0       1.0  \n",
       "4           3155.0        0.0      0.0       1.0  \n",
       "\n",
       "[5 rows x 21 columns]"
      ]
     },
     "execution_count": 4,
     "metadata": {},
     "output_type": "execute_result"
    }
   ],
   "source": [
    "wk.head()"
   ]
  },
  {
   "cell_type": "code",
   "execution_count": 5,
   "id": "4878f708",
   "metadata": {},
   "outputs": [
    {
     "data": {
      "text/plain": [
       "DAYOFSERVICE        object\n",
       "TRIPID               int64\n",
       "PROGRNUMBER          int64\n",
       "STOPPOINTID          int64\n",
       "PLANNEDTIME_ARR      int64\n",
       "PLANNEDTIME_DEP      int64\n",
       "ACTUALTIME_ARR       int64\n",
       "ACTUALTIME_DEP       int64\n",
       "VEHICLEID            int64\n",
       "year                 int64\n",
       "month                int64\n",
       "day                  int64\n",
       "id                   int64\n",
       "trip_leave_id        int64\n",
       "LINEID              object\n",
       "num_lineID         float64\n",
       "DIRECTION          float64\n",
       "actual_duration    float64\n",
       "dayOfWeek          float64\n",
       "weekend            float64\n",
       "rushHour           float64\n",
       "dtype: object"
      ]
     },
     "execution_count": 5,
     "metadata": {},
     "output_type": "execute_result"
    }
   ],
   "source": [
    "wk.dtypes"
   ]
  },
  {
   "cell_type": "markdown",
   "id": "bbd04bd3",
   "metadata": {},
   "source": [
    "## Add Actual Arrival Time Hour"
   ]
  },
  {
   "cell_type": "code",
   "execution_count": 6,
   "id": "d3a402c4",
   "metadata": {},
   "outputs": [],
   "source": [
    "wk['actualARR_hour'] = (wk['ACTUALTIME_ARR'] / 3600).round()"
   ]
  },
  {
   "cell_type": "code",
   "execution_count": null,
   "id": "507135f5",
   "metadata": {},
   "outputs": [],
   "source": [
    "wk.head()"
   ]
  },
  {
   "cell_type": "code",
   "execution_count": 7,
   "id": "7eea808d",
   "metadata": {},
   "outputs": [],
   "source": [
    "# Replace any 24 hour values to zero\n",
    "wk['actualARR_hour'] = np.where(wk['actualARR_hour'] == 24, 0, wk['actualARR_hour'])"
   ]
  },
  {
   "cell_type": "code",
   "execution_count": 8,
   "id": "7195636a",
   "metadata": {},
   "outputs": [],
   "source": [
    "# Update actualARR_hour to int to rid of decimals\n",
    "wk['actualARR_hour'] = wk['actualARR_hour'].astype('int32')"
   ]
  },
  {
   "cell_type": "code",
   "execution_count": 9,
   "id": "ed8ea247",
   "metadata": {},
   "outputs": [
    {
     "data": {
      "text/html": [
       "<div>\n",
       "<style scoped>\n",
       "    .dataframe tbody tr th:only-of-type {\n",
       "        vertical-align: middle;\n",
       "    }\n",
       "\n",
       "    .dataframe tbody tr th {\n",
       "        vertical-align: top;\n",
       "    }\n",
       "\n",
       "    .dataframe thead th {\n",
       "        text-align: right;\n",
       "    }\n",
       "</style>\n",
       "<table border=\"1\" class=\"dataframe\">\n",
       "  <thead>\n",
       "    <tr style=\"text-align: right;\">\n",
       "      <th></th>\n",
       "      <th>DAYOFSERVICE</th>\n",
       "      <th>TRIPID</th>\n",
       "      <th>PROGRNUMBER</th>\n",
       "      <th>STOPPOINTID</th>\n",
       "      <th>PLANNEDTIME_ARR</th>\n",
       "      <th>PLANNEDTIME_DEP</th>\n",
       "      <th>ACTUALTIME_ARR</th>\n",
       "      <th>ACTUALTIME_DEP</th>\n",
       "      <th>VEHICLEID</th>\n",
       "      <th>year</th>\n",
       "      <th>...</th>\n",
       "      <th>id</th>\n",
       "      <th>trip_leave_id</th>\n",
       "      <th>LINEID</th>\n",
       "      <th>num_lineID</th>\n",
       "      <th>DIRECTION</th>\n",
       "      <th>actual_duration</th>\n",
       "      <th>dayOfWeek</th>\n",
       "      <th>weekend</th>\n",
       "      <th>rushHour</th>\n",
       "      <th>actualARR_hour</th>\n",
       "    </tr>\n",
       "  </thead>\n",
       "  <tbody>\n",
       "    <tr>\n",
       "      <th>0</th>\n",
       "      <td>2018-01-01</td>\n",
       "      <td>5955277</td>\n",
       "      <td>1</td>\n",
       "      <td>7347</td>\n",
       "      <td>30000</td>\n",
       "      <td>30000</td>\n",
       "      <td>30000</td>\n",
       "      <td>30000</td>\n",
       "      <td>1001127</td>\n",
       "      <td>2018</td>\n",
       "      <td>...</td>\n",
       "      <td>20180101595527701</td>\n",
       "      <td>201801015955277</td>\n",
       "      <td>16</td>\n",
       "      <td>24.0</td>\n",
       "      <td>1.0</td>\n",
       "      <td>3155.0</td>\n",
       "      <td>0.0</td>\n",
       "      <td>0.0</td>\n",
       "      <td>1.0</td>\n",
       "      <td>8</td>\n",
       "    </tr>\n",
       "    <tr>\n",
       "      <th>1</th>\n",
       "      <td>2018-01-01</td>\n",
       "      <td>5955277</td>\n",
       "      <td>2</td>\n",
       "      <td>3669</td>\n",
       "      <td>30080</td>\n",
       "      <td>30080</td>\n",
       "      <td>30080</td>\n",
       "      <td>30080</td>\n",
       "      <td>1001127</td>\n",
       "      <td>2018</td>\n",
       "      <td>...</td>\n",
       "      <td>20180101595527702</td>\n",
       "      <td>201801015955277</td>\n",
       "      <td>16</td>\n",
       "      <td>24.0</td>\n",
       "      <td>1.0</td>\n",
       "      <td>3155.0</td>\n",
       "      <td>0.0</td>\n",
       "      <td>0.0</td>\n",
       "      <td>1.0</td>\n",
       "      <td>8</td>\n",
       "    </tr>\n",
       "    <tr>\n",
       "      <th>2</th>\n",
       "      <td>2018-01-01</td>\n",
       "      <td>5955277</td>\n",
       "      <td>3</td>\n",
       "      <td>7349</td>\n",
       "      <td>30138</td>\n",
       "      <td>30138</td>\n",
       "      <td>30138</td>\n",
       "      <td>30138</td>\n",
       "      <td>1001127</td>\n",
       "      <td>2018</td>\n",
       "      <td>...</td>\n",
       "      <td>20180101595527703</td>\n",
       "      <td>201801015955277</td>\n",
       "      <td>16</td>\n",
       "      <td>24.0</td>\n",
       "      <td>1.0</td>\n",
       "      <td>3155.0</td>\n",
       "      <td>0.0</td>\n",
       "      <td>0.0</td>\n",
       "      <td>1.0</td>\n",
       "      <td>8</td>\n",
       "    </tr>\n",
       "    <tr>\n",
       "      <th>3</th>\n",
       "      <td>2018-01-01</td>\n",
       "      <td>5955277</td>\n",
       "      <td>4</td>\n",
       "      <td>1631</td>\n",
       "      <td>30206</td>\n",
       "      <td>30206</td>\n",
       "      <td>30206</td>\n",
       "      <td>30206</td>\n",
       "      <td>1001127</td>\n",
       "      <td>2018</td>\n",
       "      <td>...</td>\n",
       "      <td>20180101595527704</td>\n",
       "      <td>201801015955277</td>\n",
       "      <td>16</td>\n",
       "      <td>24.0</td>\n",
       "      <td>1.0</td>\n",
       "      <td>3155.0</td>\n",
       "      <td>0.0</td>\n",
       "      <td>0.0</td>\n",
       "      <td>1.0</td>\n",
       "      <td>8</td>\n",
       "    </tr>\n",
       "    <tr>\n",
       "      <th>4</th>\n",
       "      <td>2018-01-01</td>\n",
       "      <td>5955277</td>\n",
       "      <td>5</td>\n",
       "      <td>1632</td>\n",
       "      <td>30221</td>\n",
       "      <td>30221</td>\n",
       "      <td>30221</td>\n",
       "      <td>30221</td>\n",
       "      <td>1001127</td>\n",
       "      <td>2018</td>\n",
       "      <td>...</td>\n",
       "      <td>20180101595527705</td>\n",
       "      <td>201801015955277</td>\n",
       "      <td>16</td>\n",
       "      <td>24.0</td>\n",
       "      <td>1.0</td>\n",
       "      <td>3155.0</td>\n",
       "      <td>0.0</td>\n",
       "      <td>0.0</td>\n",
       "      <td>1.0</td>\n",
       "      <td>8</td>\n",
       "    </tr>\n",
       "  </tbody>\n",
       "</table>\n",
       "<p>5 rows × 22 columns</p>\n",
       "</div>"
      ],
      "text/plain": [
       "  DAYOFSERVICE   TRIPID  PROGRNUMBER  STOPPOINTID  PLANNEDTIME_ARR  \\\n",
       "0   2018-01-01  5955277            1         7347            30000   \n",
       "1   2018-01-01  5955277            2         3669            30080   \n",
       "2   2018-01-01  5955277            3         7349            30138   \n",
       "3   2018-01-01  5955277            4         1631            30206   \n",
       "4   2018-01-01  5955277            5         1632            30221   \n",
       "\n",
       "   PLANNEDTIME_DEP  ACTUALTIME_ARR  ACTUALTIME_DEP  VEHICLEID  year  ...  \\\n",
       "0            30000           30000           30000    1001127  2018  ...   \n",
       "1            30080           30080           30080    1001127  2018  ...   \n",
       "2            30138           30138           30138    1001127  2018  ...   \n",
       "3            30206           30206           30206    1001127  2018  ...   \n",
       "4            30221           30221           30221    1001127  2018  ...   \n",
       "\n",
       "                  id    trip_leave_id  LINEID  num_lineID DIRECTION  \\\n",
       "0  20180101595527701  201801015955277      16        24.0       1.0   \n",
       "1  20180101595527702  201801015955277      16        24.0       1.0   \n",
       "2  20180101595527703  201801015955277      16        24.0       1.0   \n",
       "3  20180101595527704  201801015955277      16        24.0       1.0   \n",
       "4  20180101595527705  201801015955277      16        24.0       1.0   \n",
       "\n",
       "   actual_duration  dayOfWeek  weekend  rushHour  actualARR_hour  \n",
       "0           3155.0        0.0      0.0       1.0               8  \n",
       "1           3155.0        0.0      0.0       1.0               8  \n",
       "2           3155.0        0.0      0.0       1.0               8  \n",
       "3           3155.0        0.0      0.0       1.0               8  \n",
       "4           3155.0        0.0      0.0       1.0               8  \n",
       "\n",
       "[5 rows x 22 columns]"
      ]
     },
     "execution_count": 9,
     "metadata": {},
     "output_type": "execute_result"
    }
   ],
   "source": [
    "wk.head()"
   ]
  },
  {
   "cell_type": "markdown",
   "id": "81073090",
   "metadata": {},
   "source": [
    "## Datatype Changes"
   ]
  },
  {
   "cell_type": "code",
   "execution_count": 10,
   "id": "75954e98",
   "metadata": {},
   "outputs": [],
   "source": [
    "wk['num_lineID'] = wk['num_lineID'].astype('int16')\n",
    "wk['DIRECTION'] = wk['DIRECTION'].astype('int16')\n",
    "wk['actual_duration'] = wk['actual_duration'].astype('int64')\n",
    "wk['dayOfWeek'] = wk['dayOfWeek'].astype('int16')\n",
    "wk['weekend'] = wk['weekend'].astype('int16')\n",
    "wk['rushHour'] = wk['rushHour'].astype('int16')"
   ]
  },
  {
   "cell_type": "code",
   "execution_count": 11,
   "id": "604f0107",
   "metadata": {},
   "outputs": [
    {
     "data": {
      "text/html": [
       "<div>\n",
       "<style scoped>\n",
       "    .dataframe tbody tr th:only-of-type {\n",
       "        vertical-align: middle;\n",
       "    }\n",
       "\n",
       "    .dataframe tbody tr th {\n",
       "        vertical-align: top;\n",
       "    }\n",
       "\n",
       "    .dataframe thead th {\n",
       "        text-align: right;\n",
       "    }\n",
       "</style>\n",
       "<table border=\"1\" class=\"dataframe\">\n",
       "  <thead>\n",
       "    <tr style=\"text-align: right;\">\n",
       "      <th></th>\n",
       "      <th>DAYOFSERVICE</th>\n",
       "      <th>TRIPID</th>\n",
       "      <th>PROGRNUMBER</th>\n",
       "      <th>STOPPOINTID</th>\n",
       "      <th>PLANNEDTIME_ARR</th>\n",
       "      <th>PLANNEDTIME_DEP</th>\n",
       "      <th>ACTUALTIME_ARR</th>\n",
       "      <th>ACTUALTIME_DEP</th>\n",
       "      <th>VEHICLEID</th>\n",
       "      <th>year</th>\n",
       "      <th>...</th>\n",
       "      <th>id</th>\n",
       "      <th>trip_leave_id</th>\n",
       "      <th>LINEID</th>\n",
       "      <th>num_lineID</th>\n",
       "      <th>DIRECTION</th>\n",
       "      <th>actual_duration</th>\n",
       "      <th>dayOfWeek</th>\n",
       "      <th>weekend</th>\n",
       "      <th>rushHour</th>\n",
       "      <th>actualARR_hour</th>\n",
       "    </tr>\n",
       "  </thead>\n",
       "  <tbody>\n",
       "    <tr>\n",
       "      <th>0</th>\n",
       "      <td>2018-01-01</td>\n",
       "      <td>5955277</td>\n",
       "      <td>1</td>\n",
       "      <td>7347</td>\n",
       "      <td>30000</td>\n",
       "      <td>30000</td>\n",
       "      <td>30000</td>\n",
       "      <td>30000</td>\n",
       "      <td>1001127</td>\n",
       "      <td>2018</td>\n",
       "      <td>...</td>\n",
       "      <td>20180101595527701</td>\n",
       "      <td>201801015955277</td>\n",
       "      <td>16</td>\n",
       "      <td>24</td>\n",
       "      <td>1</td>\n",
       "      <td>3155</td>\n",
       "      <td>0</td>\n",
       "      <td>0</td>\n",
       "      <td>1</td>\n",
       "      <td>8</td>\n",
       "    </tr>\n",
       "    <tr>\n",
       "      <th>1</th>\n",
       "      <td>2018-01-01</td>\n",
       "      <td>5955277</td>\n",
       "      <td>2</td>\n",
       "      <td>3669</td>\n",
       "      <td>30080</td>\n",
       "      <td>30080</td>\n",
       "      <td>30080</td>\n",
       "      <td>30080</td>\n",
       "      <td>1001127</td>\n",
       "      <td>2018</td>\n",
       "      <td>...</td>\n",
       "      <td>20180101595527702</td>\n",
       "      <td>201801015955277</td>\n",
       "      <td>16</td>\n",
       "      <td>24</td>\n",
       "      <td>1</td>\n",
       "      <td>3155</td>\n",
       "      <td>0</td>\n",
       "      <td>0</td>\n",
       "      <td>1</td>\n",
       "      <td>8</td>\n",
       "    </tr>\n",
       "    <tr>\n",
       "      <th>2</th>\n",
       "      <td>2018-01-01</td>\n",
       "      <td>5955277</td>\n",
       "      <td>3</td>\n",
       "      <td>7349</td>\n",
       "      <td>30138</td>\n",
       "      <td>30138</td>\n",
       "      <td>30138</td>\n",
       "      <td>30138</td>\n",
       "      <td>1001127</td>\n",
       "      <td>2018</td>\n",
       "      <td>...</td>\n",
       "      <td>20180101595527703</td>\n",
       "      <td>201801015955277</td>\n",
       "      <td>16</td>\n",
       "      <td>24</td>\n",
       "      <td>1</td>\n",
       "      <td>3155</td>\n",
       "      <td>0</td>\n",
       "      <td>0</td>\n",
       "      <td>1</td>\n",
       "      <td>8</td>\n",
       "    </tr>\n",
       "    <tr>\n",
       "      <th>3</th>\n",
       "      <td>2018-01-01</td>\n",
       "      <td>5955277</td>\n",
       "      <td>4</td>\n",
       "      <td>1631</td>\n",
       "      <td>30206</td>\n",
       "      <td>30206</td>\n",
       "      <td>30206</td>\n",
       "      <td>30206</td>\n",
       "      <td>1001127</td>\n",
       "      <td>2018</td>\n",
       "      <td>...</td>\n",
       "      <td>20180101595527704</td>\n",
       "      <td>201801015955277</td>\n",
       "      <td>16</td>\n",
       "      <td>24</td>\n",
       "      <td>1</td>\n",
       "      <td>3155</td>\n",
       "      <td>0</td>\n",
       "      <td>0</td>\n",
       "      <td>1</td>\n",
       "      <td>8</td>\n",
       "    </tr>\n",
       "    <tr>\n",
       "      <th>4</th>\n",
       "      <td>2018-01-01</td>\n",
       "      <td>5955277</td>\n",
       "      <td>5</td>\n",
       "      <td>1632</td>\n",
       "      <td>30221</td>\n",
       "      <td>30221</td>\n",
       "      <td>30221</td>\n",
       "      <td>30221</td>\n",
       "      <td>1001127</td>\n",
       "      <td>2018</td>\n",
       "      <td>...</td>\n",
       "      <td>20180101595527705</td>\n",
       "      <td>201801015955277</td>\n",
       "      <td>16</td>\n",
       "      <td>24</td>\n",
       "      <td>1</td>\n",
       "      <td>3155</td>\n",
       "      <td>0</td>\n",
       "      <td>0</td>\n",
       "      <td>1</td>\n",
       "      <td>8</td>\n",
       "    </tr>\n",
       "  </tbody>\n",
       "</table>\n",
       "<p>5 rows × 22 columns</p>\n",
       "</div>"
      ],
      "text/plain": [
       "  DAYOFSERVICE   TRIPID  PROGRNUMBER  STOPPOINTID  PLANNEDTIME_ARR  \\\n",
       "0   2018-01-01  5955277            1         7347            30000   \n",
       "1   2018-01-01  5955277            2         3669            30080   \n",
       "2   2018-01-01  5955277            3         7349            30138   \n",
       "3   2018-01-01  5955277            4         1631            30206   \n",
       "4   2018-01-01  5955277            5         1632            30221   \n",
       "\n",
       "   PLANNEDTIME_DEP  ACTUALTIME_ARR  ACTUALTIME_DEP  VEHICLEID  year  ...  \\\n",
       "0            30000           30000           30000    1001127  2018  ...   \n",
       "1            30080           30080           30080    1001127  2018  ...   \n",
       "2            30138           30138           30138    1001127  2018  ...   \n",
       "3            30206           30206           30206    1001127  2018  ...   \n",
       "4            30221           30221           30221    1001127  2018  ...   \n",
       "\n",
       "                  id    trip_leave_id  LINEID  num_lineID DIRECTION  \\\n",
       "0  20180101595527701  201801015955277      16          24         1   \n",
       "1  20180101595527702  201801015955277      16          24         1   \n",
       "2  20180101595527703  201801015955277      16          24         1   \n",
       "3  20180101595527704  201801015955277      16          24         1   \n",
       "4  20180101595527705  201801015955277      16          24         1   \n",
       "\n",
       "   actual_duration  dayOfWeek  weekend  rushHour  actualARR_hour  \n",
       "0             3155          0        0         1               8  \n",
       "1             3155          0        0         1               8  \n",
       "2             3155          0        0         1               8  \n",
       "3             3155          0        0         1               8  \n",
       "4             3155          0        0         1               8  \n",
       "\n",
       "[5 rows x 22 columns]"
      ]
     },
     "execution_count": 11,
     "metadata": {},
     "output_type": "execute_result"
    }
   ],
   "source": [
    "wk.head()"
   ]
  },
  {
   "cell_type": "code",
   "execution_count": null,
   "id": "645ff86a",
   "metadata": {},
   "outputs": [],
   "source": [
    "wk.dtypes"
   ]
  },
  {
   "cell_type": "markdown",
   "id": "86d6d334",
   "metadata": {},
   "source": [
    "## Route 16"
   ]
  },
  {
   "cell_type": "code",
   "execution_count": 12,
   "id": "01b378cc",
   "metadata": {},
   "outputs": [],
   "source": [
    "lwk = wk[(wk['LINEID'] == '16')]"
   ]
  },
  {
   "cell_type": "code",
   "execution_count": 13,
   "id": "5ae677fe",
   "metadata": {},
   "outputs": [
    {
     "data": {
      "text/plain": [
       "(547911, 22)"
      ]
     },
     "execution_count": 13,
     "metadata": {},
     "output_type": "execute_result"
    }
   ],
   "source": [
    "lwk.shape"
   ]
  },
  {
   "cell_type": "code",
   "execution_count": 14,
   "id": "eb268b7e",
   "metadata": {},
   "outputs": [],
   "source": [
    "# Drop Route 16 rows from wk\n",
    "wk.drop(wk[wk['LINEID'] == '16'].index, inplace = True)"
   ]
  },
  {
   "cell_type": "code",
   "execution_count": null,
   "id": "cdb83698",
   "metadata": {},
   "outputs": [],
   "source": [
    "wk.head()"
   ]
  },
  {
   "cell_type": "code",
   "execution_count": null,
   "id": "f85f5650",
   "metadata": {},
   "outputs": [],
   "source": [
    "wk.shape"
   ]
  },
  {
   "cell_type": "markdown",
   "id": "f36c2173",
   "metadata": {},
   "source": [
    "<h3>Send to CSV</h3>"
   ]
  },
  {
   "cell_type": "code",
   "execution_count": null,
   "id": "4fcd4689",
   "metadata": {},
   "outputs": [],
   "source": [
    "# Send df to csv:\n",
    "lwk.to_csv('v5_16_tripLeave1_sp0.csv', index=False)"
   ]
  },
  {
   "cell_type": "markdown",
   "id": "02f3d83e",
   "metadata": {},
   "source": [
    "## Route 16C"
   ]
  },
  {
   "cell_type": "code",
   "execution_count": 15,
   "id": "b91914a8",
   "metadata": {},
   "outputs": [],
   "source": [
    "lwk = wk[(wk['LINEID'] == '16C')]"
   ]
  },
  {
   "cell_type": "code",
   "execution_count": 16,
   "id": "697f3295",
   "metadata": {},
   "outputs": [
    {
     "data": {
      "text/plain": [
       "(9131, 22)"
      ]
     },
     "execution_count": 16,
     "metadata": {},
     "output_type": "execute_result"
    }
   ],
   "source": [
    "lwk.shape"
   ]
  },
  {
   "cell_type": "code",
   "execution_count": 17,
   "id": "d4360a64",
   "metadata": {},
   "outputs": [],
   "source": [
    "# Drop Route 16C rows from wk\n",
    "wk.drop(wk[wk['LINEID'] == '16C'].index, inplace = True)"
   ]
  },
  {
   "cell_type": "code",
   "execution_count": null,
   "id": "942c64b0",
   "metadata": {},
   "outputs": [],
   "source": [
    "wk.head()"
   ]
  },
  {
   "cell_type": "code",
   "execution_count": null,
   "id": "cdc545e0",
   "metadata": {},
   "outputs": [],
   "source": [
    "wk.shape"
   ]
  },
  {
   "cell_type": "markdown",
   "id": "40667721",
   "metadata": {},
   "source": [
    "<h3>Send to CSV</h3>"
   ]
  },
  {
   "cell_type": "code",
   "execution_count": null,
   "id": "5d225394",
   "metadata": {},
   "outputs": [],
   "source": [
    "# Send df to csv:\n",
    "lwk.to_csv('v5_16C_tripLeave1_sp0.csv', index=False)"
   ]
  },
  {
   "cell_type": "markdown",
   "id": "c9871333",
   "metadata": {},
   "source": [
    "## Route 40"
   ]
  },
  {
   "cell_type": "code",
   "execution_count": 18,
   "id": "6d09b20e",
   "metadata": {},
   "outputs": [],
   "source": [
    "lwk = wk[(wk['LINEID'] == '40')]"
   ]
  },
  {
   "cell_type": "code",
   "execution_count": 19,
   "id": "5a20631a",
   "metadata": {},
   "outputs": [
    {
     "data": {
      "text/plain": [
       "(688020, 22)"
      ]
     },
     "execution_count": 19,
     "metadata": {},
     "output_type": "execute_result"
    }
   ],
   "source": [
    "lwk.shape"
   ]
  },
  {
   "cell_type": "code",
   "execution_count": 20,
   "id": "33e489aa",
   "metadata": {},
   "outputs": [],
   "source": [
    "# Drop Route 40 rows from wk\n",
    "wk.drop(wk[wk['LINEID'] == '40'].index, inplace = True)"
   ]
  },
  {
   "cell_type": "code",
   "execution_count": null,
   "id": "4ed9474e",
   "metadata": {},
   "outputs": [],
   "source": [
    "wk.head()"
   ]
  },
  {
   "cell_type": "code",
   "execution_count": null,
   "id": "f5f7599c",
   "metadata": {},
   "outputs": [],
   "source": [
    "wk.shape"
   ]
  },
  {
   "cell_type": "markdown",
   "id": "38748ef1",
   "metadata": {},
   "source": [
    "<h3>Send to CSV</h3>"
   ]
  },
  {
   "cell_type": "code",
   "execution_count": null,
   "id": "838ecfd9",
   "metadata": {},
   "outputs": [],
   "source": [
    "# Send df to csv:\n",
    "lwk.to_csv('v5_40_tripLeave1_sp0.csv', index=False)"
   ]
  },
  {
   "cell_type": "markdown",
   "id": "c9ce61f5",
   "metadata": {},
   "source": [
    "## Route 25B"
   ]
  },
  {
   "cell_type": "code",
   "execution_count": 21,
   "id": "f6ad83ea",
   "metadata": {},
   "outputs": [],
   "source": [
    "lwk = wk[(wk['LINEID'] == '25B')]"
   ]
  },
  {
   "cell_type": "code",
   "execution_count": 22,
   "id": "ec9abc5f",
   "metadata": {},
   "outputs": [
    {
     "data": {
      "text/plain": [
       "(165856, 22)"
      ]
     },
     "execution_count": 22,
     "metadata": {},
     "output_type": "execute_result"
    }
   ],
   "source": [
    "lwk.shape"
   ]
  },
  {
   "cell_type": "code",
   "execution_count": 23,
   "id": "33c70ba9",
   "metadata": {},
   "outputs": [],
   "source": [
    "# Drop Route 25B rows from wk\n",
    "wk.drop(wk[wk['LINEID'] == '25B'].index, inplace = True)"
   ]
  },
  {
   "cell_type": "code",
   "execution_count": null,
   "id": "1f691a8b",
   "metadata": {},
   "outputs": [],
   "source": [
    "wk.head()"
   ]
  },
  {
   "cell_type": "code",
   "execution_count": null,
   "id": "c35ec0ec",
   "metadata": {},
   "outputs": [],
   "source": [
    "wk.shape"
   ]
  },
  {
   "cell_type": "markdown",
   "id": "685da73e",
   "metadata": {},
   "source": [
    "<h3>Send to CSV</h3>"
   ]
  },
  {
   "cell_type": "code",
   "execution_count": null,
   "id": "dd78bfed",
   "metadata": {},
   "outputs": [],
   "source": [
    "# Send df to csv:\n",
    "lwk.to_csv('v5_25B_tripLeave1_sp0.csv', index=False)"
   ]
  },
  {
   "cell_type": "markdown",
   "id": "0a607558",
   "metadata": {},
   "source": [
    "## Route 25A"
   ]
  },
  {
   "cell_type": "code",
   "execution_count": 24,
   "id": "d4accdca",
   "metadata": {},
   "outputs": [],
   "source": [
    "lwk = wk[(wk['LINEID'] == '25A')]"
   ]
  },
  {
   "cell_type": "code",
   "execution_count": 25,
   "id": "8bd84191",
   "metadata": {},
   "outputs": [
    {
     "data": {
      "text/plain": [
       "(171037, 22)"
      ]
     },
     "execution_count": 25,
     "metadata": {},
     "output_type": "execute_result"
    }
   ],
   "source": [
    "lwk.shape"
   ]
  },
  {
   "cell_type": "code",
   "execution_count": 26,
   "id": "9329913e",
   "metadata": {},
   "outputs": [],
   "source": [
    "# Drop Route 25A rows from wk\n",
    "wk.drop(wk[wk['LINEID'] == '25A'].index, inplace = True)"
   ]
  },
  {
   "cell_type": "code",
   "execution_count": null,
   "id": "e6684ab8",
   "metadata": {},
   "outputs": [],
   "source": [
    "wk.head()"
   ]
  },
  {
   "cell_type": "code",
   "execution_count": null,
   "id": "c1b9c022",
   "metadata": {},
   "outputs": [],
   "source": [
    "wk.shape"
   ]
  },
  {
   "cell_type": "markdown",
   "id": "9001e06a",
   "metadata": {},
   "source": [
    "<h3>Send to CSV</h3>"
   ]
  },
  {
   "cell_type": "code",
   "execution_count": null,
   "id": "a4594538",
   "metadata": {},
   "outputs": [],
   "source": [
    "# Send df to csv:\n",
    "lwk.to_csv('v5_25A_tripLeave1_sp0.csv', index=False)"
   ]
  },
  {
   "cell_type": "markdown",
   "id": "cf6b9a30",
   "metadata": {},
   "source": [
    "## Route 15"
   ]
  },
  {
   "cell_type": "code",
   "execution_count": 27,
   "id": "be7cfb01",
   "metadata": {},
   "outputs": [],
   "source": [
    "lwk = wk[(wk['LINEID'] == '15')]"
   ]
  },
  {
   "cell_type": "code",
   "execution_count": 28,
   "id": "ba583db4",
   "metadata": {},
   "outputs": [
    {
     "data": {
      "text/plain": [
       "(612829, 22)"
      ]
     },
     "execution_count": 28,
     "metadata": {},
     "output_type": "execute_result"
    }
   ],
   "source": [
    "lwk.shape"
   ]
  },
  {
   "cell_type": "code",
   "execution_count": 29,
   "id": "9e719e0a",
   "metadata": {},
   "outputs": [],
   "source": [
    "# Drop Route 15 rows from wk\n",
    "wk.drop(wk[wk['LINEID'] == '15'].index, inplace = True)"
   ]
  },
  {
   "cell_type": "code",
   "execution_count": null,
   "id": "1c15d26f",
   "metadata": {},
   "outputs": [],
   "source": [
    "wk.head()"
   ]
  },
  {
   "cell_type": "code",
   "execution_count": null,
   "id": "5299a41b",
   "metadata": {},
   "outputs": [],
   "source": [
    "wk.shape"
   ]
  },
  {
   "cell_type": "markdown",
   "id": "c95c36a2",
   "metadata": {},
   "source": [
    "<h3>Send to CSV</h3>"
   ]
  },
  {
   "cell_type": "code",
   "execution_count": null,
   "id": "10e456a8",
   "metadata": {},
   "outputs": [],
   "source": [
    "# Send df to csv:\n",
    "lwk.to_csv('v5_15_tripLeave1_sp0.csv', index=False)"
   ]
  },
  {
   "cell_type": "markdown",
   "id": "eae8e196",
   "metadata": {},
   "source": [
    "## Route 47"
   ]
  },
  {
   "cell_type": "code",
   "execution_count": 30,
   "id": "2fe9252d",
   "metadata": {},
   "outputs": [],
   "source": [
    "lwk = wk[(wk['LINEID'] == '47')]"
   ]
  },
  {
   "cell_type": "code",
   "execution_count": 31,
   "id": "df08328a",
   "metadata": {},
   "outputs": [
    {
     "data": {
      "text/plain": [
       "(78186, 22)"
      ]
     },
     "execution_count": 31,
     "metadata": {},
     "output_type": "execute_result"
    }
   ],
   "source": [
    "lwk.shape"
   ]
  },
  {
   "cell_type": "code",
   "execution_count": 32,
   "id": "b0b02512",
   "metadata": {},
   "outputs": [],
   "source": [
    "# Drop Route 47 rows from wk\n",
    "wk.drop(wk[wk['LINEID'] == '47'].index, inplace = True)"
   ]
  },
  {
   "cell_type": "code",
   "execution_count": null,
   "id": "8b9db2a6",
   "metadata": {},
   "outputs": [],
   "source": [
    "wk.head()"
   ]
  },
  {
   "cell_type": "code",
   "execution_count": null,
   "id": "91131d06",
   "metadata": {},
   "outputs": [],
   "source": [
    "wk.shape"
   ]
  },
  {
   "cell_type": "markdown",
   "id": "3a88d28c",
   "metadata": {},
   "source": [
    "<h3>Send to CSV</h3>"
   ]
  },
  {
   "cell_type": "code",
   "execution_count": null,
   "id": "8bc23b00",
   "metadata": {},
   "outputs": [],
   "source": [
    "# Send df to csv:\n",
    "lwk.to_csv('v5_47_tripLeave1_sp0.csv', index=False)"
   ]
  },
  {
   "cell_type": "markdown",
   "id": "12bd18a1",
   "metadata": {},
   "source": [
    "## Route 33"
   ]
  },
  {
   "cell_type": "code",
   "execution_count": 33,
   "id": "310eb1b2",
   "metadata": {},
   "outputs": [],
   "source": [
    "lwk = wk[(wk['LINEID'] == '33')]"
   ]
  },
  {
   "cell_type": "code",
   "execution_count": 34,
   "id": "9d7e0310",
   "metadata": {},
   "outputs": [
    {
     "data": {
      "text/plain": [
       "(219692, 22)"
      ]
     },
     "execution_count": 34,
     "metadata": {},
     "output_type": "execute_result"
    }
   ],
   "source": [
    "lwk.shape"
   ]
  },
  {
   "cell_type": "code",
   "execution_count": 35,
   "id": "2bc58961",
   "metadata": {},
   "outputs": [],
   "source": [
    "# Drop Route 33 rows from wk\n",
    "wk.drop(wk[wk['LINEID'] == '33'].index, inplace = True)"
   ]
  },
  {
   "cell_type": "code",
   "execution_count": 36,
   "id": "e626322e",
   "metadata": {},
   "outputs": [
    {
     "data": {
      "text/html": [
       "<div>\n",
       "<style scoped>\n",
       "    .dataframe tbody tr th:only-of-type {\n",
       "        vertical-align: middle;\n",
       "    }\n",
       "\n",
       "    .dataframe tbody tr th {\n",
       "        vertical-align: top;\n",
       "    }\n",
       "\n",
       "    .dataframe thead th {\n",
       "        text-align: right;\n",
       "    }\n",
       "</style>\n",
       "<table border=\"1\" class=\"dataframe\">\n",
       "  <thead>\n",
       "    <tr style=\"text-align: right;\">\n",
       "      <th></th>\n",
       "      <th>DAYOFSERVICE</th>\n",
       "      <th>TRIPID</th>\n",
       "      <th>PROGRNUMBER</th>\n",
       "      <th>STOPPOINTID</th>\n",
       "      <th>PLANNEDTIME_ARR</th>\n",
       "      <th>PLANNEDTIME_DEP</th>\n",
       "      <th>ACTUALTIME_ARR</th>\n",
       "      <th>ACTUALTIME_DEP</th>\n",
       "      <th>VEHICLEID</th>\n",
       "      <th>year</th>\n",
       "      <th>...</th>\n",
       "      <th>id</th>\n",
       "      <th>trip_leave_id</th>\n",
       "      <th>LINEID</th>\n",
       "      <th>num_lineID</th>\n",
       "      <th>DIRECTION</th>\n",
       "      <th>actual_duration</th>\n",
       "      <th>dayOfWeek</th>\n",
       "      <th>weekend</th>\n",
       "      <th>rushHour</th>\n",
       "      <th>actualARR_hour</th>\n",
       "    </tr>\n",
       "  </thead>\n",
       "  <tbody>\n",
       "    <tr>\n",
       "      <th>3177</th>\n",
       "      <td>2018-01-01</td>\n",
       "      <td>5955456</td>\n",
       "      <td>1</td>\n",
       "      <td>6048</td>\n",
       "      <td>72900</td>\n",
       "      <td>72900</td>\n",
       "      <td>72900</td>\n",
       "      <td>72900</td>\n",
       "      <td>2534846</td>\n",
       "      <td>2018</td>\n",
       "      <td>...</td>\n",
       "      <td>20180101595545601</td>\n",
       "      <td>201801015955456</td>\n",
       "      <td>33A</td>\n",
       "      <td>56</td>\n",
       "      <td>2</td>\n",
       "      <td>2579</td>\n",
       "      <td>0</td>\n",
       "      <td>0</td>\n",
       "      <td>0</td>\n",
       "      <td>20</td>\n",
       "    </tr>\n",
       "    <tr>\n",
       "      <th>3178</th>\n",
       "      <td>2018-01-01</td>\n",
       "      <td>5955456</td>\n",
       "      <td>2</td>\n",
       "      <td>7173</td>\n",
       "      <td>72942</td>\n",
       "      <td>72942</td>\n",
       "      <td>72942</td>\n",
       "      <td>72942</td>\n",
       "      <td>2534846</td>\n",
       "      <td>2018</td>\n",
       "      <td>...</td>\n",
       "      <td>20180101595545602</td>\n",
       "      <td>201801015955456</td>\n",
       "      <td>33A</td>\n",
       "      <td>56</td>\n",
       "      <td>2</td>\n",
       "      <td>2579</td>\n",
       "      <td>0</td>\n",
       "      <td>0</td>\n",
       "      <td>0</td>\n",
       "      <td>20</td>\n",
       "    </tr>\n",
       "    <tr>\n",
       "      <th>3179</th>\n",
       "      <td>2018-01-01</td>\n",
       "      <td>5955456</td>\n",
       "      <td>3</td>\n",
       "      <td>3811</td>\n",
       "      <td>72968</td>\n",
       "      <td>72968</td>\n",
       "      <td>72968</td>\n",
       "      <td>72968</td>\n",
       "      <td>2534846</td>\n",
       "      <td>2018</td>\n",
       "      <td>...</td>\n",
       "      <td>20180101595545603</td>\n",
       "      <td>201801015955456</td>\n",
       "      <td>33A</td>\n",
       "      <td>56</td>\n",
       "      <td>2</td>\n",
       "      <td>2579</td>\n",
       "      <td>0</td>\n",
       "      <td>0</td>\n",
       "      <td>0</td>\n",
       "      <td>20</td>\n",
       "    </tr>\n",
       "    <tr>\n",
       "      <th>3180</th>\n",
       "      <td>2018-01-01</td>\n",
       "      <td>5955456</td>\n",
       "      <td>4</td>\n",
       "      <td>3812</td>\n",
       "      <td>72993</td>\n",
       "      <td>72993</td>\n",
       "      <td>72993</td>\n",
       "      <td>72993</td>\n",
       "      <td>2534846</td>\n",
       "      <td>2018</td>\n",
       "      <td>...</td>\n",
       "      <td>20180101595545604</td>\n",
       "      <td>201801015955456</td>\n",
       "      <td>33A</td>\n",
       "      <td>56</td>\n",
       "      <td>2</td>\n",
       "      <td>2579</td>\n",
       "      <td>0</td>\n",
       "      <td>0</td>\n",
       "      <td>0</td>\n",
       "      <td>20</td>\n",
       "    </tr>\n",
       "    <tr>\n",
       "      <th>3181</th>\n",
       "      <td>2018-01-01</td>\n",
       "      <td>5955456</td>\n",
       "      <td>5</td>\n",
       "      <td>3664</td>\n",
       "      <td>73014</td>\n",
       "      <td>73014</td>\n",
       "      <td>73014</td>\n",
       "      <td>73014</td>\n",
       "      <td>2534846</td>\n",
       "      <td>2018</td>\n",
       "      <td>...</td>\n",
       "      <td>20180101595545605</td>\n",
       "      <td>201801015955456</td>\n",
       "      <td>33A</td>\n",
       "      <td>56</td>\n",
       "      <td>2</td>\n",
       "      <td>2579</td>\n",
       "      <td>0</td>\n",
       "      <td>0</td>\n",
       "      <td>0</td>\n",
       "      <td>20</td>\n",
       "    </tr>\n",
       "  </tbody>\n",
       "</table>\n",
       "<p>5 rows × 22 columns</p>\n",
       "</div>"
      ],
      "text/plain": [
       "     DAYOFSERVICE   TRIPID  PROGRNUMBER  STOPPOINTID  PLANNEDTIME_ARR  \\\n",
       "3177   2018-01-01  5955456            1         6048            72900   \n",
       "3178   2018-01-01  5955456            2         7173            72942   \n",
       "3179   2018-01-01  5955456            3         3811            72968   \n",
       "3180   2018-01-01  5955456            4         3812            72993   \n",
       "3181   2018-01-01  5955456            5         3664            73014   \n",
       "\n",
       "      PLANNEDTIME_DEP  ACTUALTIME_ARR  ACTUALTIME_DEP  VEHICLEID  year  ...  \\\n",
       "3177            72900           72900           72900    2534846  2018  ...   \n",
       "3178            72942           72942           72942    2534846  2018  ...   \n",
       "3179            72968           72968           72968    2534846  2018  ...   \n",
       "3180            72993           72993           72993    2534846  2018  ...   \n",
       "3181            73014           73014           73014    2534846  2018  ...   \n",
       "\n",
       "                     id    trip_leave_id  LINEID  num_lineID DIRECTION  \\\n",
       "3177  20180101595545601  201801015955456     33A          56         2   \n",
       "3178  20180101595545602  201801015955456     33A          56         2   \n",
       "3179  20180101595545603  201801015955456     33A          56         2   \n",
       "3180  20180101595545604  201801015955456     33A          56         2   \n",
       "3181  20180101595545605  201801015955456     33A          56         2   \n",
       "\n",
       "      actual_duration  dayOfWeek  weekend  rushHour  actualARR_hour  \n",
       "3177             2579          0        0         0              20  \n",
       "3178             2579          0        0         0              20  \n",
       "3179             2579          0        0         0              20  \n",
       "3180             2579          0        0         0              20  \n",
       "3181             2579          0        0         0              20  \n",
       "\n",
       "[5 rows x 22 columns]"
      ]
     },
     "execution_count": 36,
     "metadata": {},
     "output_type": "execute_result"
    }
   ],
   "source": [
    "wk.head()"
   ]
  },
  {
   "cell_type": "code",
   "execution_count": 37,
   "id": "1925fbda",
   "metadata": {},
   "outputs": [
    {
     "data": {
      "text/plain": [
       "(15869928, 22)"
      ]
     },
     "execution_count": 37,
     "metadata": {},
     "output_type": "execute_result"
    }
   ],
   "source": [
    "wk.shape"
   ]
  },
  {
   "cell_type": "markdown",
   "id": "fbce052d",
   "metadata": {},
   "source": [
    "<h3>Send to CSV</h3>"
   ]
  },
  {
   "cell_type": "code",
   "execution_count": 38,
   "id": "f7db27b7",
   "metadata": {},
   "outputs": [],
   "source": [
    "# Send df to csv:\n",
    "lwk.to_csv('v5_33_tripLeave1_sp0.csv', index=False)"
   ]
  },
  {
   "cell_type": "markdown",
   "id": "e082232a",
   "metadata": {},
   "source": [
    "## Continue v5_tripLeave1_route_split_1"
   ]
  },
  {
   "cell_type": "code",
   "execution_count": 39,
   "id": "647c1774",
   "metadata": {},
   "outputs": [],
   "source": [
    "# Send df to csv:\n",
    "wk.to_csv('v5_tripLeave1_route_split_1.csv', index=False)"
   ]
  },
  {
   "cell_type": "code",
   "execution_count": null,
   "id": "c4a5925f",
   "metadata": {},
   "outputs": [],
   "source": []
  }
 ],
 "metadata": {
  "kernelspec": {
   "display_name": "Python 3 (ipykernel)",
   "language": "python",
   "name": "python3"
  },
  "language_info": {
   "codemirror_mode": {
    "name": "ipython",
    "version": 3
   },
   "file_extension": ".py",
   "mimetype": "text/x-python",
   "name": "python",
   "nbconvert_exporter": "python",
   "pygments_lexer": "ipython3",
   "version": "3.10.4"
  }
 },
 "nbformat": 4,
 "nbformat_minor": 5
}
