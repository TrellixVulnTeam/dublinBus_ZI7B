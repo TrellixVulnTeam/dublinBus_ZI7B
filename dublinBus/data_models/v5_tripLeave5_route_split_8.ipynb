{
 "cells": [
  {
   "cell_type": "code",
   "execution_count": 1,
   "id": "29f878e6",
   "metadata": {},
   "outputs": [],
   "source": [
    "# Library Imports.\n",
    "import pandas as pd\n",
    "\n",
    "import numpy as np"
   ]
  },
  {
   "cell_type": "code",
   "execution_count": 2,
   "id": "12abaae1",
   "metadata": {},
   "outputs": [],
   "source": [
    "# Read tripleave5 route split 8 CSV file into Data Frame:\n",
    "wk = pd.read_csv('v5_tripLeave5_route_split_8.csv', keep_default_na=True, delimiter=',', skipinitialspace=True)"
   ]
  },
  {
   "cell_type": "code",
   "execution_count": 3,
   "id": "5dda47a0",
   "metadata": {},
   "outputs": [
    {
     "data": {
      "text/plain": [
       "(102159, 22)"
      ]
     },
     "execution_count": 3,
     "metadata": {},
     "output_type": "execute_result"
    }
   ],
   "source": [
    "wk.shape"
   ]
  },
  {
   "cell_type": "code",
   "execution_count": null,
   "id": "c0c029ad",
   "metadata": {},
   "outputs": [],
   "source": [
    "wk.head()"
   ]
  },
  {
   "cell_type": "code",
   "execution_count": null,
   "id": "4878f708",
   "metadata": {},
   "outputs": [],
   "source": [
    "wk.dtypes"
   ]
  },
  {
   "cell_type": "markdown",
   "id": "81073090",
   "metadata": {},
   "source": [
    "## Datatype Changes"
   ]
  },
  {
   "cell_type": "code",
   "execution_count": 4,
   "id": "75954e98",
   "metadata": {},
   "outputs": [],
   "source": [
    "wk['num_lineID'] = wk['num_lineID'].astype('int16')\n",
    "wk['DIRECTION'] = wk['DIRECTION'].astype('int16')"
   ]
  },
  {
   "cell_type": "code",
   "execution_count": 5,
   "id": "81d272e5",
   "metadata": {},
   "outputs": [],
   "source": [
    "wk['actual_duration'] = wk['actual_duration'].astype('int64')\n",
    "wk['dayOfWeek'] = wk['dayOfWeek'].astype('int16')"
   ]
  },
  {
   "cell_type": "code",
   "execution_count": 6,
   "id": "8267e3dc",
   "metadata": {},
   "outputs": [],
   "source": [
    "wk['weekend'] = wk['weekend'].astype('int16')\n",
    "wk['rushHour'] = wk['rushHour'].astype('int16')"
   ]
  },
  {
   "cell_type": "code",
   "execution_count": 7,
   "id": "604f0107",
   "metadata": {},
   "outputs": [
    {
     "data": {
      "text/html": [
       "<div>\n",
       "<style scoped>\n",
       "    .dataframe tbody tr th:only-of-type {\n",
       "        vertical-align: middle;\n",
       "    }\n",
       "\n",
       "    .dataframe tbody tr th {\n",
       "        vertical-align: top;\n",
       "    }\n",
       "\n",
       "    .dataframe thead th {\n",
       "        text-align: right;\n",
       "    }\n",
       "</style>\n",
       "<table border=\"1\" class=\"dataframe\">\n",
       "  <thead>\n",
       "    <tr style=\"text-align: right;\">\n",
       "      <th></th>\n",
       "      <th>DAYOFSERVICE</th>\n",
       "      <th>TRIPID</th>\n",
       "      <th>PROGRNUMBER</th>\n",
       "      <th>STOPPOINTID</th>\n",
       "      <th>PLANNEDTIME_ARR</th>\n",
       "      <th>PLANNEDTIME_DEP</th>\n",
       "      <th>ACTUALTIME_ARR</th>\n",
       "      <th>ACTUALTIME_DEP</th>\n",
       "      <th>VEHICLEID</th>\n",
       "      <th>year</th>\n",
       "      <th>...</th>\n",
       "      <th>id</th>\n",
       "      <th>trip_leave_id</th>\n",
       "      <th>LINEID</th>\n",
       "      <th>num_lineID</th>\n",
       "      <th>DIRECTION</th>\n",
       "      <th>actual_duration</th>\n",
       "      <th>dayOfWeek</th>\n",
       "      <th>weekend</th>\n",
       "      <th>rushHour</th>\n",
       "      <th>actualARR_hour</th>\n",
       "    </tr>\n",
       "  </thead>\n",
       "  <tbody>\n",
       "    <tr>\n",
       "      <th>0</th>\n",
       "      <td>2018-08-27</td>\n",
       "      <td>7511422</td>\n",
       "      <td>1</td>\n",
       "      <td>4168</td>\n",
       "      <td>26400</td>\n",
       "      <td>26400</td>\n",
       "      <td>26400</td>\n",
       "      <td>26400</td>\n",
       "      <td>2534806</td>\n",
       "      <td>2018</td>\n",
       "      <td>...</td>\n",
       "      <td>20180827751142201</td>\n",
       "      <td>201808277511422</td>\n",
       "      <td>84A</td>\n",
       "      <td>127</td>\n",
       "      <td>2</td>\n",
       "      <td>2937</td>\n",
       "      <td>0</td>\n",
       "      <td>0</td>\n",
       "      <td>0</td>\n",
       "      <td>7</td>\n",
       "    </tr>\n",
       "    <tr>\n",
       "      <th>1</th>\n",
       "      <td>2018-08-27</td>\n",
       "      <td>7511422</td>\n",
       "      <td>2</td>\n",
       "      <td>4170</td>\n",
       "      <td>26482</td>\n",
       "      <td>26482</td>\n",
       "      <td>26482</td>\n",
       "      <td>26482</td>\n",
       "      <td>2534806</td>\n",
       "      <td>2018</td>\n",
       "      <td>...</td>\n",
       "      <td>20180827751142202</td>\n",
       "      <td>201808277511422</td>\n",
       "      <td>84A</td>\n",
       "      <td>127</td>\n",
       "      <td>2</td>\n",
       "      <td>2937</td>\n",
       "      <td>0</td>\n",
       "      <td>0</td>\n",
       "      <td>0</td>\n",
       "      <td>7</td>\n",
       "    </tr>\n",
       "    <tr>\n",
       "      <th>2</th>\n",
       "      <td>2018-08-27</td>\n",
       "      <td>7511422</td>\n",
       "      <td>3</td>\n",
       "      <td>4153</td>\n",
       "      <td>26541</td>\n",
       "      <td>26541</td>\n",
       "      <td>26541</td>\n",
       "      <td>26541</td>\n",
       "      <td>2534806</td>\n",
       "      <td>2018</td>\n",
       "      <td>...</td>\n",
       "      <td>20180827751142203</td>\n",
       "      <td>201808277511422</td>\n",
       "      <td>84A</td>\n",
       "      <td>127</td>\n",
       "      <td>2</td>\n",
       "      <td>2937</td>\n",
       "      <td>0</td>\n",
       "      <td>0</td>\n",
       "      <td>0</td>\n",
       "      <td>7</td>\n",
       "    </tr>\n",
       "    <tr>\n",
       "      <th>3</th>\n",
       "      <td>2018-08-27</td>\n",
       "      <td>7511422</td>\n",
       "      <td>4</td>\n",
       "      <td>4154</td>\n",
       "      <td>26595</td>\n",
       "      <td>26595</td>\n",
       "      <td>26595</td>\n",
       "      <td>26595</td>\n",
       "      <td>2534806</td>\n",
       "      <td>2018</td>\n",
       "      <td>...</td>\n",
       "      <td>20180827751142204</td>\n",
       "      <td>201808277511422</td>\n",
       "      <td>84A</td>\n",
       "      <td>127</td>\n",
       "      <td>2</td>\n",
       "      <td>2937</td>\n",
       "      <td>0</td>\n",
       "      <td>0</td>\n",
       "      <td>0</td>\n",
       "      <td>7</td>\n",
       "    </tr>\n",
       "    <tr>\n",
       "      <th>4</th>\n",
       "      <td>2018-08-27</td>\n",
       "      <td>7511422</td>\n",
       "      <td>5</td>\n",
       "      <td>4416</td>\n",
       "      <td>26640</td>\n",
       "      <td>26640</td>\n",
       "      <td>26640</td>\n",
       "      <td>26640</td>\n",
       "      <td>2534806</td>\n",
       "      <td>2018</td>\n",
       "      <td>...</td>\n",
       "      <td>20180827751142205</td>\n",
       "      <td>201808277511422</td>\n",
       "      <td>84A</td>\n",
       "      <td>127</td>\n",
       "      <td>2</td>\n",
       "      <td>2937</td>\n",
       "      <td>0</td>\n",
       "      <td>0</td>\n",
       "      <td>0</td>\n",
       "      <td>7</td>\n",
       "    </tr>\n",
       "  </tbody>\n",
       "</table>\n",
       "<p>5 rows × 22 columns</p>\n",
       "</div>"
      ],
      "text/plain": [
       "  DAYOFSERVICE   TRIPID  PROGRNUMBER  STOPPOINTID  PLANNEDTIME_ARR  \\\n",
       "0   2018-08-27  7511422            1         4168            26400   \n",
       "1   2018-08-27  7511422            2         4170            26482   \n",
       "2   2018-08-27  7511422            3         4153            26541   \n",
       "3   2018-08-27  7511422            4         4154            26595   \n",
       "4   2018-08-27  7511422            5         4416            26640   \n",
       "\n",
       "   PLANNEDTIME_DEP  ACTUALTIME_ARR  ACTUALTIME_DEP  VEHICLEID  year  ...  \\\n",
       "0            26400           26400           26400    2534806  2018  ...   \n",
       "1            26482           26482           26482    2534806  2018  ...   \n",
       "2            26541           26541           26541    2534806  2018  ...   \n",
       "3            26595           26595           26595    2534806  2018  ...   \n",
       "4            26640           26640           26640    2534806  2018  ...   \n",
       "\n",
       "                  id    trip_leave_id  LINEID  num_lineID DIRECTION  \\\n",
       "0  20180827751142201  201808277511422     84A         127         2   \n",
       "1  20180827751142202  201808277511422     84A         127         2   \n",
       "2  20180827751142203  201808277511422     84A         127         2   \n",
       "3  20180827751142204  201808277511422     84A         127         2   \n",
       "4  20180827751142205  201808277511422     84A         127         2   \n",
       "\n",
       "   actual_duration  dayOfWeek  weekend  rushHour  actualARR_hour  \n",
       "0             2937          0        0         0               7  \n",
       "1             2937          0        0         0               7  \n",
       "2             2937          0        0         0               7  \n",
       "3             2937          0        0         0               7  \n",
       "4             2937          0        0         0               7  \n",
       "\n",
       "[5 rows x 22 columns]"
      ]
     },
     "execution_count": 7,
     "metadata": {},
     "output_type": "execute_result"
    }
   ],
   "source": [
    "wk.head()"
   ]
  },
  {
   "cell_type": "code",
   "execution_count": null,
   "id": "645ff86a",
   "metadata": {},
   "outputs": [],
   "source": [
    "wk.dtypes"
   ]
  },
  {
   "cell_type": "markdown",
   "id": "86d6d334",
   "metadata": {},
   "source": [
    "## Route 84A"
   ]
  },
  {
   "cell_type": "code",
   "execution_count": 8,
   "id": "01b378cc",
   "metadata": {},
   "outputs": [],
   "source": [
    "lwk = wk[(wk['LINEID'] == '84A')]"
   ]
  },
  {
   "cell_type": "code",
   "execution_count": 9,
   "id": "5ae677fe",
   "metadata": {},
   "outputs": [
    {
     "data": {
      "text/plain": [
       "(23088, 22)"
      ]
     },
     "execution_count": 9,
     "metadata": {},
     "output_type": "execute_result"
    }
   ],
   "source": [
    "lwk.shape"
   ]
  },
  {
   "cell_type": "code",
   "execution_count": 10,
   "id": "eb268b7e",
   "metadata": {},
   "outputs": [],
   "source": [
    "# Drop Route 84A rows from wk\n",
    "wk.drop(wk[wk['LINEID'] == '84A'].index, inplace = True)"
   ]
  },
  {
   "cell_type": "code",
   "execution_count": 11,
   "id": "cdb83698",
   "metadata": {},
   "outputs": [
    {
     "data": {
      "text/html": [
       "<div>\n",
       "<style scoped>\n",
       "    .dataframe tbody tr th:only-of-type {\n",
       "        vertical-align: middle;\n",
       "    }\n",
       "\n",
       "    .dataframe tbody tr th {\n",
       "        vertical-align: top;\n",
       "    }\n",
       "\n",
       "    .dataframe thead th {\n",
       "        text-align: right;\n",
       "    }\n",
       "</style>\n",
       "<table border=\"1\" class=\"dataframe\">\n",
       "  <thead>\n",
       "    <tr style=\"text-align: right;\">\n",
       "      <th></th>\n",
       "      <th>DAYOFSERVICE</th>\n",
       "      <th>TRIPID</th>\n",
       "      <th>PROGRNUMBER</th>\n",
       "      <th>STOPPOINTID</th>\n",
       "      <th>PLANNEDTIME_ARR</th>\n",
       "      <th>PLANNEDTIME_DEP</th>\n",
       "      <th>ACTUALTIME_ARR</th>\n",
       "      <th>ACTUALTIME_DEP</th>\n",
       "      <th>VEHICLEID</th>\n",
       "      <th>year</th>\n",
       "      <th>...</th>\n",
       "      <th>id</th>\n",
       "      <th>trip_leave_id</th>\n",
       "      <th>LINEID</th>\n",
       "      <th>num_lineID</th>\n",
       "      <th>DIRECTION</th>\n",
       "      <th>actual_duration</th>\n",
       "      <th>dayOfWeek</th>\n",
       "      <th>weekend</th>\n",
       "      <th>rushHour</th>\n",
       "      <th>actualARR_hour</th>\n",
       "    </tr>\n",
       "  </thead>\n",
       "  <tbody>\n",
       "    <tr>\n",
       "      <th>238</th>\n",
       "      <td>2018-08-27</td>\n",
       "      <td>7511678</td>\n",
       "      <td>1</td>\n",
       "      <td>7433</td>\n",
       "      <td>26700</td>\n",
       "      <td>26700</td>\n",
       "      <td>26700</td>\n",
       "      <td>26700</td>\n",
       "      <td>1000323</td>\n",
       "      <td>2018</td>\n",
       "      <td>...</td>\n",
       "      <td>20180827751167801</td>\n",
       "      <td>201808277511678</td>\n",
       "      <td>51X</td>\n",
       "      <td>91</td>\n",
       "      <td>2</td>\n",
       "      <td>4376</td>\n",
       "      <td>0</td>\n",
       "      <td>0</td>\n",
       "      <td>0</td>\n",
       "      <td>7</td>\n",
       "    </tr>\n",
       "    <tr>\n",
       "      <th>239</th>\n",
       "      <td>2018-08-27</td>\n",
       "      <td>7511678</td>\n",
       "      <td>2</td>\n",
       "      <td>4677</td>\n",
       "      <td>26822</td>\n",
       "      <td>26822</td>\n",
       "      <td>26822</td>\n",
       "      <td>26822</td>\n",
       "      <td>1000323</td>\n",
       "      <td>2018</td>\n",
       "      <td>...</td>\n",
       "      <td>20180827751167802</td>\n",
       "      <td>201808277511678</td>\n",
       "      <td>51X</td>\n",
       "      <td>91</td>\n",
       "      <td>2</td>\n",
       "      <td>4376</td>\n",
       "      <td>0</td>\n",
       "      <td>0</td>\n",
       "      <td>0</td>\n",
       "      <td>7</td>\n",
       "    </tr>\n",
       "    <tr>\n",
       "      <th>240</th>\n",
       "      <td>2018-08-27</td>\n",
       "      <td>7511678</td>\n",
       "      <td>3</td>\n",
       "      <td>2136</td>\n",
       "      <td>26864</td>\n",
       "      <td>26864</td>\n",
       "      <td>26864</td>\n",
       "      <td>26864</td>\n",
       "      <td>1000323</td>\n",
       "      <td>2018</td>\n",
       "      <td>...</td>\n",
       "      <td>20180827751167803</td>\n",
       "      <td>201808277511678</td>\n",
       "      <td>51X</td>\n",
       "      <td>91</td>\n",
       "      <td>2</td>\n",
       "      <td>4376</td>\n",
       "      <td>0</td>\n",
       "      <td>0</td>\n",
       "      <td>0</td>\n",
       "      <td>7</td>\n",
       "    </tr>\n",
       "    <tr>\n",
       "      <th>241</th>\n",
       "      <td>2018-08-27</td>\n",
       "      <td>7511678</td>\n",
       "      <td>4</td>\n",
       "      <td>2137</td>\n",
       "      <td>26892</td>\n",
       "      <td>26892</td>\n",
       "      <td>26892</td>\n",
       "      <td>26892</td>\n",
       "      <td>1000323</td>\n",
       "      <td>2018</td>\n",
       "      <td>...</td>\n",
       "      <td>20180827751167804</td>\n",
       "      <td>201808277511678</td>\n",
       "      <td>51X</td>\n",
       "      <td>91</td>\n",
       "      <td>2</td>\n",
       "      <td>4376</td>\n",
       "      <td>0</td>\n",
       "      <td>0</td>\n",
       "      <td>0</td>\n",
       "      <td>7</td>\n",
       "    </tr>\n",
       "    <tr>\n",
       "      <th>242</th>\n",
       "      <td>2018-08-27</td>\n",
       "      <td>7511678</td>\n",
       "      <td>5</td>\n",
       "      <td>2138</td>\n",
       "      <td>26932</td>\n",
       "      <td>26932</td>\n",
       "      <td>26932</td>\n",
       "      <td>26932</td>\n",
       "      <td>1000323</td>\n",
       "      <td>2018</td>\n",
       "      <td>...</td>\n",
       "      <td>20180827751167805</td>\n",
       "      <td>201808277511678</td>\n",
       "      <td>51X</td>\n",
       "      <td>91</td>\n",
       "      <td>2</td>\n",
       "      <td>4376</td>\n",
       "      <td>0</td>\n",
       "      <td>0</td>\n",
       "      <td>0</td>\n",
       "      <td>7</td>\n",
       "    </tr>\n",
       "  </tbody>\n",
       "</table>\n",
       "<p>5 rows × 22 columns</p>\n",
       "</div>"
      ],
      "text/plain": [
       "    DAYOFSERVICE   TRIPID  PROGRNUMBER  STOPPOINTID  PLANNEDTIME_ARR  \\\n",
       "238   2018-08-27  7511678            1         7433            26700   \n",
       "239   2018-08-27  7511678            2         4677            26822   \n",
       "240   2018-08-27  7511678            3         2136            26864   \n",
       "241   2018-08-27  7511678            4         2137            26892   \n",
       "242   2018-08-27  7511678            5         2138            26932   \n",
       "\n",
       "     PLANNEDTIME_DEP  ACTUALTIME_ARR  ACTUALTIME_DEP  VEHICLEID  year  ...  \\\n",
       "238            26700           26700           26700    1000323  2018  ...   \n",
       "239            26822           26822           26822    1000323  2018  ...   \n",
       "240            26864           26864           26864    1000323  2018  ...   \n",
       "241            26892           26892           26892    1000323  2018  ...   \n",
       "242            26932           26932           26932    1000323  2018  ...   \n",
       "\n",
       "                    id    trip_leave_id  LINEID  num_lineID DIRECTION  \\\n",
       "238  20180827751167801  201808277511678     51X          91         2   \n",
       "239  20180827751167802  201808277511678     51X          91         2   \n",
       "240  20180827751167803  201808277511678     51X          91         2   \n",
       "241  20180827751167804  201808277511678     51X          91         2   \n",
       "242  20180827751167805  201808277511678     51X          91         2   \n",
       "\n",
       "     actual_duration  dayOfWeek  weekend  rushHour  actualARR_hour  \n",
       "238             4376          0        0         0               7  \n",
       "239             4376          0        0         0               7  \n",
       "240             4376          0        0         0               7  \n",
       "241             4376          0        0         0               7  \n",
       "242             4376          0        0         0               7  \n",
       "\n",
       "[5 rows x 22 columns]"
      ]
     },
     "execution_count": 11,
     "metadata": {},
     "output_type": "execute_result"
    }
   ],
   "source": [
    "wk.head()"
   ]
  },
  {
   "cell_type": "code",
   "execution_count": 12,
   "id": "f85f5650",
   "metadata": {},
   "outputs": [
    {
     "data": {
      "text/plain": [
       "(79071, 22)"
      ]
     },
     "execution_count": 12,
     "metadata": {},
     "output_type": "execute_result"
    }
   ],
   "source": [
    "wk.shape"
   ]
  },
  {
   "cell_type": "markdown",
   "id": "f36c2173",
   "metadata": {},
   "source": [
    "<h3>Send to CSV</h3>"
   ]
  },
  {
   "cell_type": "code",
   "execution_count": 13,
   "id": "4fcd4689",
   "metadata": {},
   "outputs": [],
   "source": [
    "# Send df to csv:\n",
    "lwk.to_csv('v5_84A_tripLeave5_sp8.csv', index=False)"
   ]
  },
  {
   "cell_type": "markdown",
   "id": "02f3d83e",
   "metadata": {},
   "source": [
    "## Route 51X"
   ]
  },
  {
   "cell_type": "code",
   "execution_count": 14,
   "id": "b91914a8",
   "metadata": {},
   "outputs": [],
   "source": [
    "lwk = wk[(wk['LINEID'] == '51X')]"
   ]
  },
  {
   "cell_type": "code",
   "execution_count": 15,
   "id": "697f3295",
   "metadata": {},
   "outputs": [
    {
     "data": {
      "text/plain": [
       "(1697, 22)"
      ]
     },
     "execution_count": 15,
     "metadata": {},
     "output_type": "execute_result"
    }
   ],
   "source": [
    "lwk.shape"
   ]
  },
  {
   "cell_type": "code",
   "execution_count": 16,
   "id": "d4360a64",
   "metadata": {},
   "outputs": [],
   "source": [
    "# Drop Route 51X rows from wk\n",
    "wk.drop(wk[wk['LINEID'] == '51X'].index, inplace = True)"
   ]
  },
  {
   "cell_type": "code",
   "execution_count": 17,
   "id": "942c64b0",
   "metadata": {},
   "outputs": [
    {
     "data": {
      "text/html": [
       "<div>\n",
       "<style scoped>\n",
       "    .dataframe tbody tr th:only-of-type {\n",
       "        vertical-align: middle;\n",
       "    }\n",
       "\n",
       "    .dataframe tbody tr th {\n",
       "        vertical-align: top;\n",
       "    }\n",
       "\n",
       "    .dataframe thead th {\n",
       "        text-align: right;\n",
       "    }\n",
       "</style>\n",
       "<table border=\"1\" class=\"dataframe\">\n",
       "  <thead>\n",
       "    <tr style=\"text-align: right;\">\n",
       "      <th></th>\n",
       "      <th>DAYOFSERVICE</th>\n",
       "      <th>TRIPID</th>\n",
       "      <th>PROGRNUMBER</th>\n",
       "      <th>STOPPOINTID</th>\n",
       "      <th>PLANNEDTIME_ARR</th>\n",
       "      <th>PLANNEDTIME_DEP</th>\n",
       "      <th>ACTUALTIME_ARR</th>\n",
       "      <th>ACTUALTIME_DEP</th>\n",
       "      <th>VEHICLEID</th>\n",
       "      <th>year</th>\n",
       "      <th>...</th>\n",
       "      <th>id</th>\n",
       "      <th>trip_leave_id</th>\n",
       "      <th>LINEID</th>\n",
       "      <th>num_lineID</th>\n",
       "      <th>DIRECTION</th>\n",
       "      <th>actual_duration</th>\n",
       "      <th>dayOfWeek</th>\n",
       "      <th>weekend</th>\n",
       "      <th>rushHour</th>\n",
       "      <th>actualARR_hour</th>\n",
       "    </tr>\n",
       "  </thead>\n",
       "  <tbody>\n",
       "    <tr>\n",
       "      <th>286</th>\n",
       "      <td>2018-08-27</td>\n",
       "      <td>7511814</td>\n",
       "      <td>18</td>\n",
       "      <td>2969</td>\n",
       "      <td>39737</td>\n",
       "      <td>39737</td>\n",
       "      <td>39737</td>\n",
       "      <td>39737</td>\n",
       "      <td>2406878</td>\n",
       "      <td>2018</td>\n",
       "      <td>...</td>\n",
       "      <td>20180827751181418</td>\n",
       "      <td>201808277511814</td>\n",
       "      <td>161</td>\n",
       "      <td>25</td>\n",
       "      <td>2</td>\n",
       "      <td>1259</td>\n",
       "      <td>0</td>\n",
       "      <td>0</td>\n",
       "      <td>0</td>\n",
       "      <td>11</td>\n",
       "    </tr>\n",
       "    <tr>\n",
       "      <th>287</th>\n",
       "      <td>2018-08-27</td>\n",
       "      <td>7511814</td>\n",
       "      <td>19</td>\n",
       "      <td>2970</td>\n",
       "      <td>39767</td>\n",
       "      <td>39767</td>\n",
       "      <td>39767</td>\n",
       "      <td>39767</td>\n",
       "      <td>2406878</td>\n",
       "      <td>2018</td>\n",
       "      <td>...</td>\n",
       "      <td>20180827751181419</td>\n",
       "      <td>201808277511814</td>\n",
       "      <td>161</td>\n",
       "      <td>25</td>\n",
       "      <td>2</td>\n",
       "      <td>1259</td>\n",
       "      <td>0</td>\n",
       "      <td>0</td>\n",
       "      <td>0</td>\n",
       "      <td>11</td>\n",
       "    </tr>\n",
       "    <tr>\n",
       "      <th>288</th>\n",
       "      <td>2018-08-27</td>\n",
       "      <td>7511814</td>\n",
       "      <td>20</td>\n",
       "      <td>4988</td>\n",
       "      <td>39808</td>\n",
       "      <td>39808</td>\n",
       "      <td>39808</td>\n",
       "      <td>39808</td>\n",
       "      <td>2406878</td>\n",
       "      <td>2018</td>\n",
       "      <td>...</td>\n",
       "      <td>20180827751181420</td>\n",
       "      <td>201808277511814</td>\n",
       "      <td>161</td>\n",
       "      <td>25</td>\n",
       "      <td>2</td>\n",
       "      <td>1259</td>\n",
       "      <td>0</td>\n",
       "      <td>0</td>\n",
       "      <td>0</td>\n",
       "      <td>11</td>\n",
       "    </tr>\n",
       "    <tr>\n",
       "      <th>289</th>\n",
       "      <td>2018-08-27</td>\n",
       "      <td>7511814</td>\n",
       "      <td>21</td>\n",
       "      <td>4707</td>\n",
       "      <td>39866</td>\n",
       "      <td>39866</td>\n",
       "      <td>39866</td>\n",
       "      <td>39866</td>\n",
       "      <td>2406878</td>\n",
       "      <td>2018</td>\n",
       "      <td>...</td>\n",
       "      <td>20180827751181421</td>\n",
       "      <td>201808277511814</td>\n",
       "      <td>161</td>\n",
       "      <td>25</td>\n",
       "      <td>2</td>\n",
       "      <td>1259</td>\n",
       "      <td>0</td>\n",
       "      <td>0</td>\n",
       "      <td>0</td>\n",
       "      <td>11</td>\n",
       "    </tr>\n",
       "    <tr>\n",
       "      <th>290</th>\n",
       "      <td>2018-08-27</td>\n",
       "      <td>7511814</td>\n",
       "      <td>22</td>\n",
       "      <td>4708</td>\n",
       "      <td>39892</td>\n",
       "      <td>39892</td>\n",
       "      <td>39892</td>\n",
       "      <td>39892</td>\n",
       "      <td>2406878</td>\n",
       "      <td>2018</td>\n",
       "      <td>...</td>\n",
       "      <td>20180827751181422</td>\n",
       "      <td>201808277511814</td>\n",
       "      <td>161</td>\n",
       "      <td>25</td>\n",
       "      <td>2</td>\n",
       "      <td>1259</td>\n",
       "      <td>0</td>\n",
       "      <td>0</td>\n",
       "      <td>0</td>\n",
       "      <td>11</td>\n",
       "    </tr>\n",
       "  </tbody>\n",
       "</table>\n",
       "<p>5 rows × 22 columns</p>\n",
       "</div>"
      ],
      "text/plain": [
       "    DAYOFSERVICE   TRIPID  PROGRNUMBER  STOPPOINTID  PLANNEDTIME_ARR  \\\n",
       "286   2018-08-27  7511814           18         2969            39737   \n",
       "287   2018-08-27  7511814           19         2970            39767   \n",
       "288   2018-08-27  7511814           20         4988            39808   \n",
       "289   2018-08-27  7511814           21         4707            39866   \n",
       "290   2018-08-27  7511814           22         4708            39892   \n",
       "\n",
       "     PLANNEDTIME_DEP  ACTUALTIME_ARR  ACTUALTIME_DEP  VEHICLEID  year  ...  \\\n",
       "286            39737           39737           39737    2406878  2018  ...   \n",
       "287            39767           39767           39767    2406878  2018  ...   \n",
       "288            39808           39808           39808    2406878  2018  ...   \n",
       "289            39866           39866           39866    2406878  2018  ...   \n",
       "290            39892           39892           39892    2406878  2018  ...   \n",
       "\n",
       "                    id    trip_leave_id  LINEID  num_lineID DIRECTION  \\\n",
       "286  20180827751181418  201808277511814     161          25         2   \n",
       "287  20180827751181419  201808277511814     161          25         2   \n",
       "288  20180827751181420  201808277511814     161          25         2   \n",
       "289  20180827751181421  201808277511814     161          25         2   \n",
       "290  20180827751181422  201808277511814     161          25         2   \n",
       "\n",
       "     actual_duration  dayOfWeek  weekend  rushHour  actualARR_hour  \n",
       "286             1259          0        0         0              11  \n",
       "287             1259          0        0         0              11  \n",
       "288             1259          0        0         0              11  \n",
       "289             1259          0        0         0              11  \n",
       "290             1259          0        0         0              11  \n",
       "\n",
       "[5 rows x 22 columns]"
      ]
     },
     "execution_count": 17,
     "metadata": {},
     "output_type": "execute_result"
    }
   ],
   "source": [
    "wk.head()"
   ]
  },
  {
   "cell_type": "code",
   "execution_count": 18,
   "id": "cdc545e0",
   "metadata": {},
   "outputs": [
    {
     "data": {
      "text/plain": [
       "(77374, 22)"
      ]
     },
     "execution_count": 18,
     "metadata": {},
     "output_type": "execute_result"
    }
   ],
   "source": [
    "wk.shape"
   ]
  },
  {
   "cell_type": "markdown",
   "id": "40667721",
   "metadata": {},
   "source": [
    "<h3>Send to CSV</h3>"
   ]
  },
  {
   "cell_type": "code",
   "execution_count": 19,
   "id": "5d225394",
   "metadata": {},
   "outputs": [],
   "source": [
    "# Send df to csv:\n",
    "lwk.to_csv('v5_51X_tripLeave5_sp8.csv', index=False)"
   ]
  },
  {
   "cell_type": "markdown",
   "id": "c9871333",
   "metadata": {},
   "source": [
    "## Route 161"
   ]
  },
  {
   "cell_type": "code",
   "execution_count": 20,
   "id": "6d09b20e",
   "metadata": {},
   "outputs": [],
   "source": [
    "lwk = wk[(wk['LINEID'] == '161')]"
   ]
  },
  {
   "cell_type": "code",
   "execution_count": 21,
   "id": "5a20631a",
   "metadata": {},
   "outputs": [
    {
     "data": {
      "text/plain": [
       "(3451, 22)"
      ]
     },
     "execution_count": 21,
     "metadata": {},
     "output_type": "execute_result"
    }
   ],
   "source": [
    "lwk.shape"
   ]
  },
  {
   "cell_type": "code",
   "execution_count": 22,
   "id": "33e489aa",
   "metadata": {},
   "outputs": [],
   "source": [
    "# Drop Route 161 rows from wk\n",
    "wk.drop(wk[wk['LINEID'] == '161'].index, inplace = True)"
   ]
  },
  {
   "cell_type": "code",
   "execution_count": 23,
   "id": "4ed9474e",
   "metadata": {},
   "outputs": [
    {
     "data": {
      "text/html": [
       "<div>\n",
       "<style scoped>\n",
       "    .dataframe tbody tr th:only-of-type {\n",
       "        vertical-align: middle;\n",
       "    }\n",
       "\n",
       "    .dataframe tbody tr th {\n",
       "        vertical-align: top;\n",
       "    }\n",
       "\n",
       "    .dataframe thead th {\n",
       "        text-align: right;\n",
       "    }\n",
       "</style>\n",
       "<table border=\"1\" class=\"dataframe\">\n",
       "  <thead>\n",
       "    <tr style=\"text-align: right;\">\n",
       "      <th></th>\n",
       "      <th>DAYOFSERVICE</th>\n",
       "      <th>TRIPID</th>\n",
       "      <th>PROGRNUMBER</th>\n",
       "      <th>STOPPOINTID</th>\n",
       "      <th>PLANNEDTIME_ARR</th>\n",
       "      <th>PLANNEDTIME_DEP</th>\n",
       "      <th>ACTUALTIME_ARR</th>\n",
       "      <th>ACTUALTIME_DEP</th>\n",
       "      <th>VEHICLEID</th>\n",
       "      <th>year</th>\n",
       "      <th>...</th>\n",
       "      <th>id</th>\n",
       "      <th>trip_leave_id</th>\n",
       "      <th>LINEID</th>\n",
       "      <th>num_lineID</th>\n",
       "      <th>DIRECTION</th>\n",
       "      <th>actual_duration</th>\n",
       "      <th>dayOfWeek</th>\n",
       "      <th>weekend</th>\n",
       "      <th>rushHour</th>\n",
       "      <th>actualARR_hour</th>\n",
       "    </tr>\n",
       "  </thead>\n",
       "  <tbody>\n",
       "    <tr>\n",
       "      <th>300</th>\n",
       "      <td>2018-08-27</td>\n",
       "      <td>7511820</td>\n",
       "      <td>1</td>\n",
       "      <td>248</td>\n",
       "      <td>84600</td>\n",
       "      <td>84600</td>\n",
       "      <td>84600</td>\n",
       "      <td>84600</td>\n",
       "      <td>2693216</td>\n",
       "      <td>2018</td>\n",
       "      <td>...</td>\n",
       "      <td>20180827751182001</td>\n",
       "      <td>201808277511820</td>\n",
       "      <td>14C</td>\n",
       "      <td>17</td>\n",
       "      <td>1</td>\n",
       "      <td>1076</td>\n",
       "      <td>0</td>\n",
       "      <td>0</td>\n",
       "      <td>0</td>\n",
       "      <td>0</td>\n",
       "    </tr>\n",
       "    <tr>\n",
       "      <th>301</th>\n",
       "      <td>2018-08-27</td>\n",
       "      <td>7511820</td>\n",
       "      <td>3</td>\n",
       "      <td>250</td>\n",
       "      <td>84681</td>\n",
       "      <td>84681</td>\n",
       "      <td>84681</td>\n",
       "      <td>84681</td>\n",
       "      <td>2693216</td>\n",
       "      <td>2018</td>\n",
       "      <td>...</td>\n",
       "      <td>20180827751182003</td>\n",
       "      <td>201808277511820</td>\n",
       "      <td>14C</td>\n",
       "      <td>17</td>\n",
       "      <td>1</td>\n",
       "      <td>1076</td>\n",
       "      <td>0</td>\n",
       "      <td>0</td>\n",
       "      <td>0</td>\n",
       "      <td>0</td>\n",
       "    </tr>\n",
       "    <tr>\n",
       "      <th>302</th>\n",
       "      <td>2018-08-27</td>\n",
       "      <td>7511820</td>\n",
       "      <td>4</td>\n",
       "      <td>251</td>\n",
       "      <td>84712</td>\n",
       "      <td>84712</td>\n",
       "      <td>84712</td>\n",
       "      <td>84712</td>\n",
       "      <td>2693216</td>\n",
       "      <td>2018</td>\n",
       "      <td>...</td>\n",
       "      <td>20180827751182004</td>\n",
       "      <td>201808277511820</td>\n",
       "      <td>14C</td>\n",
       "      <td>17</td>\n",
       "      <td>1</td>\n",
       "      <td>1076</td>\n",
       "      <td>0</td>\n",
       "      <td>0</td>\n",
       "      <td>0</td>\n",
       "      <td>0</td>\n",
       "    </tr>\n",
       "    <tr>\n",
       "      <th>303</th>\n",
       "      <td>2018-08-27</td>\n",
       "      <td>7511820</td>\n",
       "      <td>5</td>\n",
       "      <td>252</td>\n",
       "      <td>84748</td>\n",
       "      <td>84748</td>\n",
       "      <td>84748</td>\n",
       "      <td>84748</td>\n",
       "      <td>2693216</td>\n",
       "      <td>2018</td>\n",
       "      <td>...</td>\n",
       "      <td>20180827751182005</td>\n",
       "      <td>201808277511820</td>\n",
       "      <td>14C</td>\n",
       "      <td>17</td>\n",
       "      <td>1</td>\n",
       "      <td>1076</td>\n",
       "      <td>0</td>\n",
       "      <td>0</td>\n",
       "      <td>0</td>\n",
       "      <td>0</td>\n",
       "    </tr>\n",
       "    <tr>\n",
       "      <th>304</th>\n",
       "      <td>2018-08-27</td>\n",
       "      <td>7511820</td>\n",
       "      <td>6</td>\n",
       "      <td>255</td>\n",
       "      <td>84774</td>\n",
       "      <td>84774</td>\n",
       "      <td>84774</td>\n",
       "      <td>84774</td>\n",
       "      <td>2693216</td>\n",
       "      <td>2018</td>\n",
       "      <td>...</td>\n",
       "      <td>20180827751182006</td>\n",
       "      <td>201808277511820</td>\n",
       "      <td>14C</td>\n",
       "      <td>17</td>\n",
       "      <td>1</td>\n",
       "      <td>1076</td>\n",
       "      <td>0</td>\n",
       "      <td>0</td>\n",
       "      <td>0</td>\n",
       "      <td>0</td>\n",
       "    </tr>\n",
       "  </tbody>\n",
       "</table>\n",
       "<p>5 rows × 22 columns</p>\n",
       "</div>"
      ],
      "text/plain": [
       "    DAYOFSERVICE   TRIPID  PROGRNUMBER  STOPPOINTID  PLANNEDTIME_ARR  \\\n",
       "300   2018-08-27  7511820            1          248            84600   \n",
       "301   2018-08-27  7511820            3          250            84681   \n",
       "302   2018-08-27  7511820            4          251            84712   \n",
       "303   2018-08-27  7511820            5          252            84748   \n",
       "304   2018-08-27  7511820            6          255            84774   \n",
       "\n",
       "     PLANNEDTIME_DEP  ACTUALTIME_ARR  ACTUALTIME_DEP  VEHICLEID  year  ...  \\\n",
       "300            84600           84600           84600    2693216  2018  ...   \n",
       "301            84681           84681           84681    2693216  2018  ...   \n",
       "302            84712           84712           84712    2693216  2018  ...   \n",
       "303            84748           84748           84748    2693216  2018  ...   \n",
       "304            84774           84774           84774    2693216  2018  ...   \n",
       "\n",
       "                    id    trip_leave_id  LINEID  num_lineID DIRECTION  \\\n",
       "300  20180827751182001  201808277511820     14C          17         1   \n",
       "301  20180827751182003  201808277511820     14C          17         1   \n",
       "302  20180827751182004  201808277511820     14C          17         1   \n",
       "303  20180827751182005  201808277511820     14C          17         1   \n",
       "304  20180827751182006  201808277511820     14C          17         1   \n",
       "\n",
       "     actual_duration  dayOfWeek  weekend  rushHour  actualARR_hour  \n",
       "300             1076          0        0         0               0  \n",
       "301             1076          0        0         0               0  \n",
       "302             1076          0        0         0               0  \n",
       "303             1076          0        0         0               0  \n",
       "304             1076          0        0         0               0  \n",
       "\n",
       "[5 rows x 22 columns]"
      ]
     },
     "execution_count": 23,
     "metadata": {},
     "output_type": "execute_result"
    }
   ],
   "source": [
    "wk.head()"
   ]
  },
  {
   "cell_type": "code",
   "execution_count": 24,
   "id": "f5f7599c",
   "metadata": {},
   "outputs": [
    {
     "data": {
      "text/plain": [
       "(73923, 22)"
      ]
     },
     "execution_count": 24,
     "metadata": {},
     "output_type": "execute_result"
    }
   ],
   "source": [
    "wk.shape"
   ]
  },
  {
   "cell_type": "markdown",
   "id": "38748ef1",
   "metadata": {},
   "source": [
    "<h3>Send to CSV</h3>"
   ]
  },
  {
   "cell_type": "code",
   "execution_count": 25,
   "id": "838ecfd9",
   "metadata": {},
   "outputs": [],
   "source": [
    "# Send df to csv:\n",
    "lwk.to_csv('v5_161_tripLeave5_sp8.csv', index=False)"
   ]
  },
  {
   "cell_type": "markdown",
   "id": "c9ce61f5",
   "metadata": {},
   "source": [
    "## Route 14C"
   ]
  },
  {
   "cell_type": "code",
   "execution_count": 26,
   "id": "f6ad83ea",
   "metadata": {},
   "outputs": [],
   "source": [
    "lwk = wk[(wk['LINEID'] == '14C')]"
   ]
  },
  {
   "cell_type": "code",
   "execution_count": 27,
   "id": "ec9abc5f",
   "metadata": {},
   "outputs": [
    {
     "data": {
      "text/plain": [
       "(4925, 22)"
      ]
     },
     "execution_count": 27,
     "metadata": {},
     "output_type": "execute_result"
    }
   ],
   "source": [
    "lwk.shape"
   ]
  },
  {
   "cell_type": "code",
   "execution_count": 28,
   "id": "33c70ba9",
   "metadata": {},
   "outputs": [],
   "source": [
    "# Drop Route 14C rows from wk\n",
    "wk.drop(wk[wk['LINEID'] == '14C'].index, inplace = True)"
   ]
  },
  {
   "cell_type": "code",
   "execution_count": 29,
   "id": "1f691a8b",
   "metadata": {},
   "outputs": [
    {
     "data": {
      "text/html": [
       "<div>\n",
       "<style scoped>\n",
       "    .dataframe tbody tr th:only-of-type {\n",
       "        vertical-align: middle;\n",
       "    }\n",
       "\n",
       "    .dataframe tbody tr th {\n",
       "        vertical-align: top;\n",
       "    }\n",
       "\n",
       "    .dataframe thead th {\n",
       "        text-align: right;\n",
       "    }\n",
       "</style>\n",
       "<table border=\"1\" class=\"dataframe\">\n",
       "  <thead>\n",
       "    <tr style=\"text-align: right;\">\n",
       "      <th></th>\n",
       "      <th>DAYOFSERVICE</th>\n",
       "      <th>TRIPID</th>\n",
       "      <th>PROGRNUMBER</th>\n",
       "      <th>STOPPOINTID</th>\n",
       "      <th>PLANNEDTIME_ARR</th>\n",
       "      <th>PLANNEDTIME_DEP</th>\n",
       "      <th>ACTUALTIME_ARR</th>\n",
       "      <th>ACTUALTIME_DEP</th>\n",
       "      <th>VEHICLEID</th>\n",
       "      <th>year</th>\n",
       "      <th>...</th>\n",
       "      <th>id</th>\n",
       "      <th>trip_leave_id</th>\n",
       "      <th>LINEID</th>\n",
       "      <th>num_lineID</th>\n",
       "      <th>DIRECTION</th>\n",
       "      <th>actual_duration</th>\n",
       "      <th>dayOfWeek</th>\n",
       "      <th>weekend</th>\n",
       "      <th>rushHour</th>\n",
       "      <th>actualARR_hour</th>\n",
       "    </tr>\n",
       "  </thead>\n",
       "  <tbody>\n",
       "    <tr>\n",
       "      <th>499</th>\n",
       "      <td>2018-08-27</td>\n",
       "      <td>7513088</td>\n",
       "      <td>1</td>\n",
       "      <td>4495</td>\n",
       "      <td>57600</td>\n",
       "      <td>57600</td>\n",
       "      <td>57600</td>\n",
       "      <td>57600</td>\n",
       "      <td>2534787</td>\n",
       "      <td>2018</td>\n",
       "      <td>...</td>\n",
       "      <td>20180827751308801</td>\n",
       "      <td>201808277513088</td>\n",
       "      <td>68A</td>\n",
       "      <td>107</td>\n",
       "      <td>1</td>\n",
       "      <td>1946</td>\n",
       "      <td>0</td>\n",
       "      <td>0</td>\n",
       "      <td>1</td>\n",
       "      <td>16</td>\n",
       "    </tr>\n",
       "    <tr>\n",
       "      <th>500</th>\n",
       "      <td>2018-08-27</td>\n",
       "      <td>7513088</td>\n",
       "      <td>2</td>\n",
       "      <td>1278</td>\n",
       "      <td>57772</td>\n",
       "      <td>57772</td>\n",
       "      <td>57772</td>\n",
       "      <td>57772</td>\n",
       "      <td>2534787</td>\n",
       "      <td>2018</td>\n",
       "      <td>...</td>\n",
       "      <td>20180827751308802</td>\n",
       "      <td>201808277513088</td>\n",
       "      <td>68A</td>\n",
       "      <td>107</td>\n",
       "      <td>1</td>\n",
       "      <td>1946</td>\n",
       "      <td>0</td>\n",
       "      <td>0</td>\n",
       "      <td>1</td>\n",
       "      <td>16</td>\n",
       "    </tr>\n",
       "    <tr>\n",
       "      <th>501</th>\n",
       "      <td>2018-08-27</td>\n",
       "      <td>7513088</td>\n",
       "      <td>3</td>\n",
       "      <td>1282</td>\n",
       "      <td>57945</td>\n",
       "      <td>57945</td>\n",
       "      <td>57945</td>\n",
       "      <td>57945</td>\n",
       "      <td>2534787</td>\n",
       "      <td>2018</td>\n",
       "      <td>...</td>\n",
       "      <td>20180827751308803</td>\n",
       "      <td>201808277513088</td>\n",
       "      <td>68A</td>\n",
       "      <td>107</td>\n",
       "      <td>1</td>\n",
       "      <td>1946</td>\n",
       "      <td>0</td>\n",
       "      <td>0</td>\n",
       "      <td>1</td>\n",
       "      <td>16</td>\n",
       "    </tr>\n",
       "    <tr>\n",
       "      <th>502</th>\n",
       "      <td>2018-08-27</td>\n",
       "      <td>7513088</td>\n",
       "      <td>4</td>\n",
       "      <td>4456</td>\n",
       "      <td>58058</td>\n",
       "      <td>58058</td>\n",
       "      <td>58058</td>\n",
       "      <td>58058</td>\n",
       "      <td>2534787</td>\n",
       "      <td>2018</td>\n",
       "      <td>...</td>\n",
       "      <td>20180827751308804</td>\n",
       "      <td>201808277513088</td>\n",
       "      <td>68A</td>\n",
       "      <td>107</td>\n",
       "      <td>1</td>\n",
       "      <td>1946</td>\n",
       "      <td>0</td>\n",
       "      <td>0</td>\n",
       "      <td>1</td>\n",
       "      <td>16</td>\n",
       "    </tr>\n",
       "    <tr>\n",
       "      <th>503</th>\n",
       "      <td>2018-08-27</td>\n",
       "      <td>7513088</td>\n",
       "      <td>5</td>\n",
       "      <td>1284</td>\n",
       "      <td>58115</td>\n",
       "      <td>58115</td>\n",
       "      <td>58115</td>\n",
       "      <td>58115</td>\n",
       "      <td>2534787</td>\n",
       "      <td>2018</td>\n",
       "      <td>...</td>\n",
       "      <td>20180827751308805</td>\n",
       "      <td>201808277513088</td>\n",
       "      <td>68A</td>\n",
       "      <td>107</td>\n",
       "      <td>1</td>\n",
       "      <td>1946</td>\n",
       "      <td>0</td>\n",
       "      <td>0</td>\n",
       "      <td>1</td>\n",
       "      <td>16</td>\n",
       "    </tr>\n",
       "  </tbody>\n",
       "</table>\n",
       "<p>5 rows × 22 columns</p>\n",
       "</div>"
      ],
      "text/plain": [
       "    DAYOFSERVICE   TRIPID  PROGRNUMBER  STOPPOINTID  PLANNEDTIME_ARR  \\\n",
       "499   2018-08-27  7513088            1         4495            57600   \n",
       "500   2018-08-27  7513088            2         1278            57772   \n",
       "501   2018-08-27  7513088            3         1282            57945   \n",
       "502   2018-08-27  7513088            4         4456            58058   \n",
       "503   2018-08-27  7513088            5         1284            58115   \n",
       "\n",
       "     PLANNEDTIME_DEP  ACTUALTIME_ARR  ACTUALTIME_DEP  VEHICLEID  year  ...  \\\n",
       "499            57600           57600           57600    2534787  2018  ...   \n",
       "500            57772           57772           57772    2534787  2018  ...   \n",
       "501            57945           57945           57945    2534787  2018  ...   \n",
       "502            58058           58058           58058    2534787  2018  ...   \n",
       "503            58115           58115           58115    2534787  2018  ...   \n",
       "\n",
       "                    id    trip_leave_id  LINEID  num_lineID DIRECTION  \\\n",
       "499  20180827751308801  201808277513088     68A         107         1   \n",
       "500  20180827751308802  201808277513088     68A         107         1   \n",
       "501  20180827751308803  201808277513088     68A         107         1   \n",
       "502  20180827751308804  201808277513088     68A         107         1   \n",
       "503  20180827751308805  201808277513088     68A         107         1   \n",
       "\n",
       "     actual_duration  dayOfWeek  weekend  rushHour  actualARR_hour  \n",
       "499             1946          0        0         1              16  \n",
       "500             1946          0        0         1              16  \n",
       "501             1946          0        0         1              16  \n",
       "502             1946          0        0         1              16  \n",
       "503             1946          0        0         1              16  \n",
       "\n",
       "[5 rows x 22 columns]"
      ]
     },
     "execution_count": 29,
     "metadata": {},
     "output_type": "execute_result"
    }
   ],
   "source": [
    "wk.head()"
   ]
  },
  {
   "cell_type": "code",
   "execution_count": 30,
   "id": "c35ec0ec",
   "metadata": {},
   "outputs": [
    {
     "data": {
      "text/plain": [
       "(68998, 22)"
      ]
     },
     "execution_count": 30,
     "metadata": {},
     "output_type": "execute_result"
    }
   ],
   "source": [
    "wk.shape"
   ]
  },
  {
   "cell_type": "markdown",
   "id": "685da73e",
   "metadata": {},
   "source": [
    "<h3>Send to CSV</h3>"
   ]
  },
  {
   "cell_type": "code",
   "execution_count": 31,
   "id": "dd78bfed",
   "metadata": {},
   "outputs": [],
   "source": [
    "# Send df to csv:\n",
    "lwk.to_csv('v5_14C_tripLeave5_sp8.csv', index=False)"
   ]
  },
  {
   "cell_type": "markdown",
   "id": "0a607558",
   "metadata": {},
   "source": [
    "## Route 68A"
   ]
  },
  {
   "cell_type": "code",
   "execution_count": 32,
   "id": "d4accdca",
   "metadata": {},
   "outputs": [],
   "source": [
    "lwk = wk[(wk['LINEID'] == '68A')]"
   ]
  },
  {
   "cell_type": "code",
   "execution_count": 33,
   "id": "8bd84191",
   "metadata": {},
   "outputs": [
    {
     "data": {
      "text/plain": [
       "(4130, 22)"
      ]
     },
     "execution_count": 33,
     "metadata": {},
     "output_type": "execute_result"
    }
   ],
   "source": [
    "lwk.shape"
   ]
  },
  {
   "cell_type": "code",
   "execution_count": 34,
   "id": "9329913e",
   "metadata": {},
   "outputs": [],
   "source": [
    "# Drop Route 68A rows from wk\n",
    "wk.drop(wk[wk['LINEID'] == '68A'].index, inplace = True)"
   ]
  },
  {
   "cell_type": "code",
   "execution_count": 35,
   "id": "e6684ab8",
   "metadata": {},
   "outputs": [
    {
     "data": {
      "text/html": [
       "<div>\n",
       "<style scoped>\n",
       "    .dataframe tbody tr th:only-of-type {\n",
       "        vertical-align: middle;\n",
       "    }\n",
       "\n",
       "    .dataframe tbody tr th {\n",
       "        vertical-align: top;\n",
       "    }\n",
       "\n",
       "    .dataframe thead th {\n",
       "        text-align: right;\n",
       "    }\n",
       "</style>\n",
       "<table border=\"1\" class=\"dataframe\">\n",
       "  <thead>\n",
       "    <tr style=\"text-align: right;\">\n",
       "      <th></th>\n",
       "      <th>DAYOFSERVICE</th>\n",
       "      <th>TRIPID</th>\n",
       "      <th>PROGRNUMBER</th>\n",
       "      <th>STOPPOINTID</th>\n",
       "      <th>PLANNEDTIME_ARR</th>\n",
       "      <th>PLANNEDTIME_DEP</th>\n",
       "      <th>ACTUALTIME_ARR</th>\n",
       "      <th>ACTUALTIME_DEP</th>\n",
       "      <th>VEHICLEID</th>\n",
       "      <th>year</th>\n",
       "      <th>...</th>\n",
       "      <th>id</th>\n",
       "      <th>trip_leave_id</th>\n",
       "      <th>LINEID</th>\n",
       "      <th>num_lineID</th>\n",
       "      <th>DIRECTION</th>\n",
       "      <th>actual_duration</th>\n",
       "      <th>dayOfWeek</th>\n",
       "      <th>weekend</th>\n",
       "      <th>rushHour</th>\n",
       "      <th>actualARR_hour</th>\n",
       "    </tr>\n",
       "  </thead>\n",
       "  <tbody>\n",
       "    <tr>\n",
       "      <th>568</th>\n",
       "      <td>2018-08-27</td>\n",
       "      <td>7513636</td>\n",
       "      <td>1</td>\n",
       "      <td>4713</td>\n",
       "      <td>26400</td>\n",
       "      <td>26400</td>\n",
       "      <td>26400</td>\n",
       "      <td>26400</td>\n",
       "      <td>2172293</td>\n",
       "      <td>2018</td>\n",
       "      <td>...</td>\n",
       "      <td>20180827751363601</td>\n",
       "      <td>201808277513636</td>\n",
       "      <td>77X</td>\n",
       "      <td>118</td>\n",
       "      <td>2</td>\n",
       "      <td>5159</td>\n",
       "      <td>0</td>\n",
       "      <td>0</td>\n",
       "      <td>0</td>\n",
       "      <td>7</td>\n",
       "    </tr>\n",
       "    <tr>\n",
       "      <th>569</th>\n",
       "      <td>2018-08-27</td>\n",
       "      <td>7513636</td>\n",
       "      <td>2</td>\n",
       "      <td>4714</td>\n",
       "      <td>26453</td>\n",
       "      <td>26453</td>\n",
       "      <td>26453</td>\n",
       "      <td>26453</td>\n",
       "      <td>2172293</td>\n",
       "      <td>2018</td>\n",
       "      <td>...</td>\n",
       "      <td>20180827751363602</td>\n",
       "      <td>201808277513636</td>\n",
       "      <td>77X</td>\n",
       "      <td>118</td>\n",
       "      <td>2</td>\n",
       "      <td>5159</td>\n",
       "      <td>0</td>\n",
       "      <td>0</td>\n",
       "      <td>0</td>\n",
       "      <td>7</td>\n",
       "    </tr>\n",
       "    <tr>\n",
       "      <th>570</th>\n",
       "      <td>2018-08-27</td>\n",
       "      <td>7513636</td>\n",
       "      <td>3</td>\n",
       "      <td>4960</td>\n",
       "      <td>26490</td>\n",
       "      <td>26490</td>\n",
       "      <td>26490</td>\n",
       "      <td>26490</td>\n",
       "      <td>2172293</td>\n",
       "      <td>2018</td>\n",
       "      <td>...</td>\n",
       "      <td>20180827751363603</td>\n",
       "      <td>201808277513636</td>\n",
       "      <td>77X</td>\n",
       "      <td>118</td>\n",
       "      <td>2</td>\n",
       "      <td>5159</td>\n",
       "      <td>0</td>\n",
       "      <td>0</td>\n",
       "      <td>0</td>\n",
       "      <td>7</td>\n",
       "    </tr>\n",
       "    <tr>\n",
       "      <th>571</th>\n",
       "      <td>2018-08-27</td>\n",
       "      <td>7513636</td>\n",
       "      <td>4</td>\n",
       "      <td>4932</td>\n",
       "      <td>26548</td>\n",
       "      <td>26548</td>\n",
       "      <td>26548</td>\n",
       "      <td>26548</td>\n",
       "      <td>2172293</td>\n",
       "      <td>2018</td>\n",
       "      <td>...</td>\n",
       "      <td>20180827751363604</td>\n",
       "      <td>201808277513636</td>\n",
       "      <td>77X</td>\n",
       "      <td>118</td>\n",
       "      <td>2</td>\n",
       "      <td>5159</td>\n",
       "      <td>0</td>\n",
       "      <td>0</td>\n",
       "      <td>0</td>\n",
       "      <td>7</td>\n",
       "    </tr>\n",
       "    <tr>\n",
       "      <th>572</th>\n",
       "      <td>2018-08-27</td>\n",
       "      <td>7513636</td>\n",
       "      <td>5</td>\n",
       "      <td>4933</td>\n",
       "      <td>26561</td>\n",
       "      <td>26561</td>\n",
       "      <td>26561</td>\n",
       "      <td>26561</td>\n",
       "      <td>2172293</td>\n",
       "      <td>2018</td>\n",
       "      <td>...</td>\n",
       "      <td>20180827751363605</td>\n",
       "      <td>201808277513636</td>\n",
       "      <td>77X</td>\n",
       "      <td>118</td>\n",
       "      <td>2</td>\n",
       "      <td>5159</td>\n",
       "      <td>0</td>\n",
       "      <td>0</td>\n",
       "      <td>0</td>\n",
       "      <td>7</td>\n",
       "    </tr>\n",
       "  </tbody>\n",
       "</table>\n",
       "<p>5 rows × 22 columns</p>\n",
       "</div>"
      ],
      "text/plain": [
       "    DAYOFSERVICE   TRIPID  PROGRNUMBER  STOPPOINTID  PLANNEDTIME_ARR  \\\n",
       "568   2018-08-27  7513636            1         4713            26400   \n",
       "569   2018-08-27  7513636            2         4714            26453   \n",
       "570   2018-08-27  7513636            3         4960            26490   \n",
       "571   2018-08-27  7513636            4         4932            26548   \n",
       "572   2018-08-27  7513636            5         4933            26561   \n",
       "\n",
       "     PLANNEDTIME_DEP  ACTUALTIME_ARR  ACTUALTIME_DEP  VEHICLEID  year  ...  \\\n",
       "568            26400           26400           26400    2172293  2018  ...   \n",
       "569            26453           26453           26453    2172293  2018  ...   \n",
       "570            26490           26490           26490    2172293  2018  ...   \n",
       "571            26548           26548           26548    2172293  2018  ...   \n",
       "572            26561           26561           26561    2172293  2018  ...   \n",
       "\n",
       "                    id    trip_leave_id  LINEID  num_lineID DIRECTION  \\\n",
       "568  20180827751363601  201808277513636     77X         118         2   \n",
       "569  20180827751363602  201808277513636     77X         118         2   \n",
       "570  20180827751363603  201808277513636     77X         118         2   \n",
       "571  20180827751363604  201808277513636     77X         118         2   \n",
       "572  20180827751363605  201808277513636     77X         118         2   \n",
       "\n",
       "     actual_duration  dayOfWeek  weekend  rushHour  actualARR_hour  \n",
       "568             5159          0        0         0               7  \n",
       "569             5159          0        0         0               7  \n",
       "570             5159          0        0         0               7  \n",
       "571             5159          0        0         0               7  \n",
       "572             5159          0        0         0               7  \n",
       "\n",
       "[5 rows x 22 columns]"
      ]
     },
     "execution_count": 35,
     "metadata": {},
     "output_type": "execute_result"
    }
   ],
   "source": [
    "wk.head()"
   ]
  },
  {
   "cell_type": "code",
   "execution_count": 36,
   "id": "c1b9c022",
   "metadata": {},
   "outputs": [
    {
     "data": {
      "text/plain": [
       "(64868, 22)"
      ]
     },
     "execution_count": 36,
     "metadata": {},
     "output_type": "execute_result"
    }
   ],
   "source": [
    "wk.shape"
   ]
  },
  {
   "cell_type": "markdown",
   "id": "9001e06a",
   "metadata": {},
   "source": [
    "<h3>Send to CSV</h3>"
   ]
  },
  {
   "cell_type": "code",
   "execution_count": 37,
   "id": "a4594538",
   "metadata": {},
   "outputs": [],
   "source": [
    "# Send df to csv:\n",
    "lwk.to_csv('v5_68A_tripLeave5_sp8.csv', index=False)"
   ]
  },
  {
   "cell_type": "markdown",
   "id": "cf6b9a30",
   "metadata": {},
   "source": [
    "## Route 77X"
   ]
  },
  {
   "cell_type": "code",
   "execution_count": 38,
   "id": "be7cfb01",
   "metadata": {},
   "outputs": [],
   "source": [
    "lwk = wk[(wk['LINEID'] == '77X')]"
   ]
  },
  {
   "cell_type": "code",
   "execution_count": 39,
   "id": "ba583db4",
   "metadata": {},
   "outputs": [
    {
     "data": {
      "text/plain": [
       "(2468, 22)"
      ]
     },
     "execution_count": 39,
     "metadata": {},
     "output_type": "execute_result"
    }
   ],
   "source": [
    "lwk.shape"
   ]
  },
  {
   "cell_type": "code",
   "execution_count": 40,
   "id": "9e719e0a",
   "metadata": {},
   "outputs": [],
   "source": [
    "# Drop Route 77X rows from wk\n",
    "wk.drop(wk[wk['LINEID'] == '77X'].index, inplace = True)"
   ]
  },
  {
   "cell_type": "code",
   "execution_count": 41,
   "id": "1c15d26f",
   "metadata": {},
   "outputs": [
    {
     "data": {
      "text/html": [
       "<div>\n",
       "<style scoped>\n",
       "    .dataframe tbody tr th:only-of-type {\n",
       "        vertical-align: middle;\n",
       "    }\n",
       "\n",
       "    .dataframe tbody tr th {\n",
       "        vertical-align: top;\n",
       "    }\n",
       "\n",
       "    .dataframe thead th {\n",
       "        text-align: right;\n",
       "    }\n",
       "</style>\n",
       "<table border=\"1\" class=\"dataframe\">\n",
       "  <thead>\n",
       "    <tr style=\"text-align: right;\">\n",
       "      <th></th>\n",
       "      <th>DAYOFSERVICE</th>\n",
       "      <th>TRIPID</th>\n",
       "      <th>PROGRNUMBER</th>\n",
       "      <th>STOPPOINTID</th>\n",
       "      <th>PLANNEDTIME_ARR</th>\n",
       "      <th>PLANNEDTIME_DEP</th>\n",
       "      <th>ACTUALTIME_ARR</th>\n",
       "      <th>ACTUALTIME_DEP</th>\n",
       "      <th>VEHICLEID</th>\n",
       "      <th>year</th>\n",
       "      <th>...</th>\n",
       "      <th>id</th>\n",
       "      <th>trip_leave_id</th>\n",
       "      <th>LINEID</th>\n",
       "      <th>num_lineID</th>\n",
       "      <th>DIRECTION</th>\n",
       "      <th>actual_duration</th>\n",
       "      <th>dayOfWeek</th>\n",
       "      <th>weekend</th>\n",
       "      <th>rushHour</th>\n",
       "      <th>actualARR_hour</th>\n",
       "    </tr>\n",
       "  </thead>\n",
       "  <tbody>\n",
       "    <tr>\n",
       "      <th>633</th>\n",
       "      <td>2018-08-27</td>\n",
       "      <td>7513834</td>\n",
       "      <td>1</td>\n",
       "      <td>7158</td>\n",
       "      <td>27900</td>\n",
       "      <td>27900</td>\n",
       "      <td>27900</td>\n",
       "      <td>27900</td>\n",
       "      <td>1000861</td>\n",
       "      <td>2018</td>\n",
       "      <td>...</td>\n",
       "      <td>20180827751383401</td>\n",
       "      <td>201808277513834</td>\n",
       "      <td>39X</td>\n",
       "      <td>68</td>\n",
       "      <td>2</td>\n",
       "      <td>3933</td>\n",
       "      <td>0</td>\n",
       "      <td>0</td>\n",
       "      <td>1</td>\n",
       "      <td>8</td>\n",
       "    </tr>\n",
       "    <tr>\n",
       "      <th>634</th>\n",
       "      <td>2018-08-27</td>\n",
       "      <td>7513834</td>\n",
       "      <td>2</td>\n",
       "      <td>7048</td>\n",
       "      <td>27951</td>\n",
       "      <td>27951</td>\n",
       "      <td>27951</td>\n",
       "      <td>27951</td>\n",
       "      <td>1000861</td>\n",
       "      <td>2018</td>\n",
       "      <td>...</td>\n",
       "      <td>20180827751383402</td>\n",
       "      <td>201808277513834</td>\n",
       "      <td>39X</td>\n",
       "      <td>68</td>\n",
       "      <td>2</td>\n",
       "      <td>3933</td>\n",
       "      <td>0</td>\n",
       "      <td>0</td>\n",
       "      <td>1</td>\n",
       "      <td>8</td>\n",
       "    </tr>\n",
       "    <tr>\n",
       "      <th>635</th>\n",
       "      <td>2018-08-27</td>\n",
       "      <td>7513834</td>\n",
       "      <td>3</td>\n",
       "      <td>7159</td>\n",
       "      <td>28037</td>\n",
       "      <td>28037</td>\n",
       "      <td>28037</td>\n",
       "      <td>28037</td>\n",
       "      <td>1000861</td>\n",
       "      <td>2018</td>\n",
       "      <td>...</td>\n",
       "      <td>20180827751383403</td>\n",
       "      <td>201808277513834</td>\n",
       "      <td>39X</td>\n",
       "      <td>68</td>\n",
       "      <td>2</td>\n",
       "      <td>3933</td>\n",
       "      <td>0</td>\n",
       "      <td>0</td>\n",
       "      <td>1</td>\n",
       "      <td>8</td>\n",
       "    </tr>\n",
       "    <tr>\n",
       "      <th>636</th>\n",
       "      <td>2018-08-27</td>\n",
       "      <td>7513834</td>\n",
       "      <td>4</td>\n",
       "      <td>7017</td>\n",
       "      <td>28183</td>\n",
       "      <td>28183</td>\n",
       "      <td>28183</td>\n",
       "      <td>28183</td>\n",
       "      <td>1000861</td>\n",
       "      <td>2018</td>\n",
       "      <td>...</td>\n",
       "      <td>20180827751383404</td>\n",
       "      <td>201808277513834</td>\n",
       "      <td>39X</td>\n",
       "      <td>68</td>\n",
       "      <td>2</td>\n",
       "      <td>3933</td>\n",
       "      <td>0</td>\n",
       "      <td>0</td>\n",
       "      <td>1</td>\n",
       "      <td>8</td>\n",
       "    </tr>\n",
       "    <tr>\n",
       "      <th>637</th>\n",
       "      <td>2018-08-27</td>\n",
       "      <td>7513834</td>\n",
       "      <td>5</td>\n",
       "      <td>7018</td>\n",
       "      <td>28245</td>\n",
       "      <td>28245</td>\n",
       "      <td>28245</td>\n",
       "      <td>28245</td>\n",
       "      <td>1000861</td>\n",
       "      <td>2018</td>\n",
       "      <td>...</td>\n",
       "      <td>20180827751383405</td>\n",
       "      <td>201808277513834</td>\n",
       "      <td>39X</td>\n",
       "      <td>68</td>\n",
       "      <td>2</td>\n",
       "      <td>3933</td>\n",
       "      <td>0</td>\n",
       "      <td>0</td>\n",
       "      <td>1</td>\n",
       "      <td>8</td>\n",
       "    </tr>\n",
       "  </tbody>\n",
       "</table>\n",
       "<p>5 rows × 22 columns</p>\n",
       "</div>"
      ],
      "text/plain": [
       "    DAYOFSERVICE   TRIPID  PROGRNUMBER  STOPPOINTID  PLANNEDTIME_ARR  \\\n",
       "633   2018-08-27  7513834            1         7158            27900   \n",
       "634   2018-08-27  7513834            2         7048            27951   \n",
       "635   2018-08-27  7513834            3         7159            28037   \n",
       "636   2018-08-27  7513834            4         7017            28183   \n",
       "637   2018-08-27  7513834            5         7018            28245   \n",
       "\n",
       "     PLANNEDTIME_DEP  ACTUALTIME_ARR  ACTUALTIME_DEP  VEHICLEID  year  ...  \\\n",
       "633            27900           27900           27900    1000861  2018  ...   \n",
       "634            27951           27951           27951    1000861  2018  ...   \n",
       "635            28037           28037           28037    1000861  2018  ...   \n",
       "636            28183           28183           28183    1000861  2018  ...   \n",
       "637            28245           28245           28245    1000861  2018  ...   \n",
       "\n",
       "                    id    trip_leave_id  LINEID  num_lineID DIRECTION  \\\n",
       "633  20180827751383401  201808277513834     39X          68         2   \n",
       "634  20180827751383402  201808277513834     39X          68         2   \n",
       "635  20180827751383403  201808277513834     39X          68         2   \n",
       "636  20180827751383404  201808277513834     39X          68         2   \n",
       "637  20180827751383405  201808277513834     39X          68         2   \n",
       "\n",
       "     actual_duration  dayOfWeek  weekend  rushHour  actualARR_hour  \n",
       "633             3933          0        0         1               8  \n",
       "634             3933          0        0         1               8  \n",
       "635             3933          0        0         1               8  \n",
       "636             3933          0        0         1               8  \n",
       "637             3933          0        0         1               8  \n",
       "\n",
       "[5 rows x 22 columns]"
      ]
     },
     "execution_count": 41,
     "metadata": {},
     "output_type": "execute_result"
    }
   ],
   "source": [
    "wk.head()"
   ]
  },
  {
   "cell_type": "code",
   "execution_count": 42,
   "id": "5299a41b",
   "metadata": {},
   "outputs": [
    {
     "data": {
      "text/plain": [
       "(62400, 22)"
      ]
     },
     "execution_count": 42,
     "metadata": {},
     "output_type": "execute_result"
    }
   ],
   "source": [
    "wk.shape"
   ]
  },
  {
   "cell_type": "markdown",
   "id": "c95c36a2",
   "metadata": {},
   "source": [
    "<h3>Send to CSV</h3>"
   ]
  },
  {
   "cell_type": "code",
   "execution_count": 43,
   "id": "10e456a8",
   "metadata": {},
   "outputs": [],
   "source": [
    "# Send df to csv:\n",
    "lwk.to_csv('v5_77X_tripLeave5_sp8.csv', index=False)"
   ]
  },
  {
   "cell_type": "markdown",
   "id": "eae8e196",
   "metadata": {},
   "source": [
    "## Route 39X"
   ]
  },
  {
   "cell_type": "code",
   "execution_count": 44,
   "id": "2fe9252d",
   "metadata": {},
   "outputs": [],
   "source": [
    "lwk = wk[(wk['LINEID'] == '39X')]"
   ]
  },
  {
   "cell_type": "code",
   "execution_count": 45,
   "id": "df08328a",
   "metadata": {},
   "outputs": [
    {
     "data": {
      "text/plain": [
       "(6494, 22)"
      ]
     },
     "execution_count": 45,
     "metadata": {},
     "output_type": "execute_result"
    }
   ],
   "source": [
    "lwk.shape"
   ]
  },
  {
   "cell_type": "code",
   "execution_count": 46,
   "id": "b0b02512",
   "metadata": {},
   "outputs": [],
   "source": [
    "# Drop Route 39X rows from wk\n",
    "wk.drop(wk[wk['LINEID'] == '39X'].index, inplace = True)"
   ]
  },
  {
   "cell_type": "code",
   "execution_count": 47,
   "id": "8b9db2a6",
   "metadata": {},
   "outputs": [
    {
     "data": {
      "text/html": [
       "<div>\n",
       "<style scoped>\n",
       "    .dataframe tbody tr th:only-of-type {\n",
       "        vertical-align: middle;\n",
       "    }\n",
       "\n",
       "    .dataframe tbody tr th {\n",
       "        vertical-align: top;\n",
       "    }\n",
       "\n",
       "    .dataframe thead th {\n",
       "        text-align: right;\n",
       "    }\n",
       "</style>\n",
       "<table border=\"1\" class=\"dataframe\">\n",
       "  <thead>\n",
       "    <tr style=\"text-align: right;\">\n",
       "      <th></th>\n",
       "      <th>DAYOFSERVICE</th>\n",
       "      <th>TRIPID</th>\n",
       "      <th>PROGRNUMBER</th>\n",
       "      <th>STOPPOINTID</th>\n",
       "      <th>PLANNEDTIME_ARR</th>\n",
       "      <th>PLANNEDTIME_DEP</th>\n",
       "      <th>ACTUALTIME_ARR</th>\n",
       "      <th>ACTUALTIME_DEP</th>\n",
       "      <th>VEHICLEID</th>\n",
       "      <th>year</th>\n",
       "      <th>...</th>\n",
       "      <th>id</th>\n",
       "      <th>trip_leave_id</th>\n",
       "      <th>LINEID</th>\n",
       "      <th>num_lineID</th>\n",
       "      <th>DIRECTION</th>\n",
       "      <th>actual_duration</th>\n",
       "      <th>dayOfWeek</th>\n",
       "      <th>weekend</th>\n",
       "      <th>rushHour</th>\n",
       "      <th>actualARR_hour</th>\n",
       "    </tr>\n",
       "  </thead>\n",
       "  <tbody>\n",
       "    <tr>\n",
       "      <th>686</th>\n",
       "      <td>2018-08-27</td>\n",
       "      <td>7514316</td>\n",
       "      <td>1</td>\n",
       "      <td>7067</td>\n",
       "      <td>29100</td>\n",
       "      <td>29100</td>\n",
       "      <td>29100</td>\n",
       "      <td>29100</td>\n",
       "      <td>1000171</td>\n",
       "      <td>2018</td>\n",
       "      <td>...</td>\n",
       "      <td>20180827751431601</td>\n",
       "      <td>201808277514316</td>\n",
       "      <td>15D</td>\n",
       "      <td>23</td>\n",
       "      <td>2</td>\n",
       "      <td>3798</td>\n",
       "      <td>0</td>\n",
       "      <td>0</td>\n",
       "      <td>1</td>\n",
       "      <td>8</td>\n",
       "    </tr>\n",
       "    <tr>\n",
       "      <th>687</th>\n",
       "      <td>2018-08-27</td>\n",
       "      <td>7514316</td>\n",
       "      <td>2</td>\n",
       "      <td>2956</td>\n",
       "      <td>29128</td>\n",
       "      <td>29128</td>\n",
       "      <td>29128</td>\n",
       "      <td>29128</td>\n",
       "      <td>1000171</td>\n",
       "      <td>2018</td>\n",
       "      <td>...</td>\n",
       "      <td>20180827751431602</td>\n",
       "      <td>201808277514316</td>\n",
       "      <td>15D</td>\n",
       "      <td>23</td>\n",
       "      <td>2</td>\n",
       "      <td>3798</td>\n",
       "      <td>0</td>\n",
       "      <td>0</td>\n",
       "      <td>1</td>\n",
       "      <td>8</td>\n",
       "    </tr>\n",
       "    <tr>\n",
       "      <th>688</th>\n",
       "      <td>2018-08-27</td>\n",
       "      <td>7514316</td>\n",
       "      <td>3</td>\n",
       "      <td>2965</td>\n",
       "      <td>29186</td>\n",
       "      <td>29186</td>\n",
       "      <td>29186</td>\n",
       "      <td>29186</td>\n",
       "      <td>1000171</td>\n",
       "      <td>2018</td>\n",
       "      <td>...</td>\n",
       "      <td>20180827751431603</td>\n",
       "      <td>201808277514316</td>\n",
       "      <td>15D</td>\n",
       "      <td>23</td>\n",
       "      <td>2</td>\n",
       "      <td>3798</td>\n",
       "      <td>0</td>\n",
       "      <td>0</td>\n",
       "      <td>1</td>\n",
       "      <td>8</td>\n",
       "    </tr>\n",
       "    <tr>\n",
       "      <th>689</th>\n",
       "      <td>2018-08-27</td>\n",
       "      <td>7514316</td>\n",
       "      <td>4</td>\n",
       "      <td>2983</td>\n",
       "      <td>29259</td>\n",
       "      <td>29259</td>\n",
       "      <td>29259</td>\n",
       "      <td>29259</td>\n",
       "      <td>1000171</td>\n",
       "      <td>2018</td>\n",
       "      <td>...</td>\n",
       "      <td>20180827751431604</td>\n",
       "      <td>201808277514316</td>\n",
       "      <td>15D</td>\n",
       "      <td>23</td>\n",
       "      <td>2</td>\n",
       "      <td>3798</td>\n",
       "      <td>0</td>\n",
       "      <td>0</td>\n",
       "      <td>1</td>\n",
       "      <td>8</td>\n",
       "    </tr>\n",
       "    <tr>\n",
       "      <th>690</th>\n",
       "      <td>2018-08-27</td>\n",
       "      <td>7514316</td>\n",
       "      <td>5</td>\n",
       "      <td>2984</td>\n",
       "      <td>29342</td>\n",
       "      <td>29342</td>\n",
       "      <td>29342</td>\n",
       "      <td>29342</td>\n",
       "      <td>1000171</td>\n",
       "      <td>2018</td>\n",
       "      <td>...</td>\n",
       "      <td>20180827751431605</td>\n",
       "      <td>201808277514316</td>\n",
       "      <td>15D</td>\n",
       "      <td>23</td>\n",
       "      <td>2</td>\n",
       "      <td>3798</td>\n",
       "      <td>0</td>\n",
       "      <td>0</td>\n",
       "      <td>1</td>\n",
       "      <td>8</td>\n",
       "    </tr>\n",
       "  </tbody>\n",
       "</table>\n",
       "<p>5 rows × 22 columns</p>\n",
       "</div>"
      ],
      "text/plain": [
       "    DAYOFSERVICE   TRIPID  PROGRNUMBER  STOPPOINTID  PLANNEDTIME_ARR  \\\n",
       "686   2018-08-27  7514316            1         7067            29100   \n",
       "687   2018-08-27  7514316            2         2956            29128   \n",
       "688   2018-08-27  7514316            3         2965            29186   \n",
       "689   2018-08-27  7514316            4         2983            29259   \n",
       "690   2018-08-27  7514316            5         2984            29342   \n",
       "\n",
       "     PLANNEDTIME_DEP  ACTUALTIME_ARR  ACTUALTIME_DEP  VEHICLEID  year  ...  \\\n",
       "686            29100           29100           29100    1000171  2018  ...   \n",
       "687            29128           29128           29128    1000171  2018  ...   \n",
       "688            29186           29186           29186    1000171  2018  ...   \n",
       "689            29259           29259           29259    1000171  2018  ...   \n",
       "690            29342           29342           29342    1000171  2018  ...   \n",
       "\n",
       "                    id    trip_leave_id  LINEID  num_lineID DIRECTION  \\\n",
       "686  20180827751431601  201808277514316     15D          23         2   \n",
       "687  20180827751431602  201808277514316     15D          23         2   \n",
       "688  20180827751431603  201808277514316     15D          23         2   \n",
       "689  20180827751431604  201808277514316     15D          23         2   \n",
       "690  20180827751431605  201808277514316     15D          23         2   \n",
       "\n",
       "     actual_duration  dayOfWeek  weekend  rushHour  actualARR_hour  \n",
       "686             3798          0        0         1               8  \n",
       "687             3798          0        0         1               8  \n",
       "688             3798          0        0         1               8  \n",
       "689             3798          0        0         1               8  \n",
       "690             3798          0        0         1               8  \n",
       "\n",
       "[5 rows x 22 columns]"
      ]
     },
     "execution_count": 47,
     "metadata": {},
     "output_type": "execute_result"
    }
   ],
   "source": [
    "wk.head()"
   ]
  },
  {
   "cell_type": "code",
   "execution_count": 48,
   "id": "91131d06",
   "metadata": {},
   "outputs": [
    {
     "data": {
      "text/plain": [
       "(55906, 22)"
      ]
     },
     "execution_count": 48,
     "metadata": {},
     "output_type": "execute_result"
    }
   ],
   "source": [
    "wk.shape"
   ]
  },
  {
   "cell_type": "markdown",
   "id": "3a88d28c",
   "metadata": {},
   "source": [
    "<h3>Send to CSV</h3>"
   ]
  },
  {
   "cell_type": "code",
   "execution_count": 49,
   "id": "8bc23b00",
   "metadata": {},
   "outputs": [],
   "source": [
    "# Send df to csv:\n",
    "lwk.to_csv('v5_39X_tripLeave5_sp8.csv', index=False)"
   ]
  },
  {
   "cell_type": "markdown",
   "id": "12bd18a1",
   "metadata": {},
   "source": [
    "## Route 15D"
   ]
  },
  {
   "cell_type": "code",
   "execution_count": 50,
   "id": "310eb1b2",
   "metadata": {},
   "outputs": [],
   "source": [
    "lwk = wk[(wk['LINEID'] == '15D')]"
   ]
  },
  {
   "cell_type": "code",
   "execution_count": 51,
   "id": "9d7e0310",
   "metadata": {},
   "outputs": [
    {
     "data": {
      "text/plain": [
       "(4349, 22)"
      ]
     },
     "execution_count": 51,
     "metadata": {},
     "output_type": "execute_result"
    }
   ],
   "source": [
    "lwk.shape"
   ]
  },
  {
   "cell_type": "code",
   "execution_count": 52,
   "id": "2bc58961",
   "metadata": {},
   "outputs": [],
   "source": [
    "# Drop Route 15D rows from wk\n",
    "wk.drop(wk[wk['LINEID'] == '15D'].index, inplace = True)"
   ]
  },
  {
   "cell_type": "code",
   "execution_count": 53,
   "id": "e626322e",
   "metadata": {},
   "outputs": [
    {
     "data": {
      "text/html": [
       "<div>\n",
       "<style scoped>\n",
       "    .dataframe tbody tr th:only-of-type {\n",
       "        vertical-align: middle;\n",
       "    }\n",
       "\n",
       "    .dataframe tbody tr th {\n",
       "        vertical-align: top;\n",
       "    }\n",
       "\n",
       "    .dataframe thead th {\n",
       "        text-align: right;\n",
       "    }\n",
       "</style>\n",
       "<table border=\"1\" class=\"dataframe\">\n",
       "  <thead>\n",
       "    <tr style=\"text-align: right;\">\n",
       "      <th></th>\n",
       "      <th>DAYOFSERVICE</th>\n",
       "      <th>TRIPID</th>\n",
       "      <th>PROGRNUMBER</th>\n",
       "      <th>STOPPOINTID</th>\n",
       "      <th>PLANNEDTIME_ARR</th>\n",
       "      <th>PLANNEDTIME_DEP</th>\n",
       "      <th>ACTUALTIME_ARR</th>\n",
       "      <th>ACTUALTIME_DEP</th>\n",
       "      <th>VEHICLEID</th>\n",
       "      <th>year</th>\n",
       "      <th>...</th>\n",
       "      <th>id</th>\n",
       "      <th>trip_leave_id</th>\n",
       "      <th>LINEID</th>\n",
       "      <th>num_lineID</th>\n",
       "      <th>DIRECTION</th>\n",
       "      <th>actual_duration</th>\n",
       "      <th>dayOfWeek</th>\n",
       "      <th>weekend</th>\n",
       "      <th>rushHour</th>\n",
       "      <th>actualARR_hour</th>\n",
       "    </tr>\n",
       "  </thead>\n",
       "  <tbody>\n",
       "    <tr>\n",
       "      <th>904</th>\n",
       "      <td>2018-08-28</td>\n",
       "      <td>7503505</td>\n",
       "      <td>1</td>\n",
       "      <td>2825</td>\n",
       "      <td>56700</td>\n",
       "      <td>56700</td>\n",
       "      <td>56700</td>\n",
       "      <td>56700</td>\n",
       "      <td>2868332</td>\n",
       "      <td>2018</td>\n",
       "      <td>...</td>\n",
       "      <td>20180828750350501</td>\n",
       "      <td>201808287503505</td>\n",
       "      <td>44B</td>\n",
       "      <td>84</td>\n",
       "      <td>1</td>\n",
       "      <td>1666</td>\n",
       "      <td>1</td>\n",
       "      <td>0</td>\n",
       "      <td>1</td>\n",
       "      <td>16</td>\n",
       "    </tr>\n",
       "    <tr>\n",
       "      <th>905</th>\n",
       "      <td>2018-08-28</td>\n",
       "      <td>7503505</td>\n",
       "      <td>2</td>\n",
       "      <td>2826</td>\n",
       "      <td>56769</td>\n",
       "      <td>56769</td>\n",
       "      <td>56769</td>\n",
       "      <td>56769</td>\n",
       "      <td>2868332</td>\n",
       "      <td>2018</td>\n",
       "      <td>...</td>\n",
       "      <td>20180828750350502</td>\n",
       "      <td>201808287503505</td>\n",
       "      <td>44B</td>\n",
       "      <td>84</td>\n",
       "      <td>1</td>\n",
       "      <td>1666</td>\n",
       "      <td>1</td>\n",
       "      <td>0</td>\n",
       "      <td>1</td>\n",
       "      <td>16</td>\n",
       "    </tr>\n",
       "    <tr>\n",
       "      <th>906</th>\n",
       "      <td>2018-08-28</td>\n",
       "      <td>7503505</td>\n",
       "      <td>3</td>\n",
       "      <td>2827</td>\n",
       "      <td>56819</td>\n",
       "      <td>56819</td>\n",
       "      <td>56819</td>\n",
       "      <td>56819</td>\n",
       "      <td>2868332</td>\n",
       "      <td>2018</td>\n",
       "      <td>...</td>\n",
       "      <td>20180828750350503</td>\n",
       "      <td>201808287503505</td>\n",
       "      <td>44B</td>\n",
       "      <td>84</td>\n",
       "      <td>1</td>\n",
       "      <td>1666</td>\n",
       "      <td>1</td>\n",
       "      <td>0</td>\n",
       "      <td>1</td>\n",
       "      <td>16</td>\n",
       "    </tr>\n",
       "    <tr>\n",
       "      <th>907</th>\n",
       "      <td>2018-08-28</td>\n",
       "      <td>7503505</td>\n",
       "      <td>4</td>\n",
       "      <td>2828</td>\n",
       "      <td>56875</td>\n",
       "      <td>56875</td>\n",
       "      <td>56875</td>\n",
       "      <td>56875</td>\n",
       "      <td>2868332</td>\n",
       "      <td>2018</td>\n",
       "      <td>...</td>\n",
       "      <td>20180828750350504</td>\n",
       "      <td>201808287503505</td>\n",
       "      <td>44B</td>\n",
       "      <td>84</td>\n",
       "      <td>1</td>\n",
       "      <td>1666</td>\n",
       "      <td>1</td>\n",
       "      <td>0</td>\n",
       "      <td>1</td>\n",
       "      <td>16</td>\n",
       "    </tr>\n",
       "    <tr>\n",
       "      <th>908</th>\n",
       "      <td>2018-08-28</td>\n",
       "      <td>7503505</td>\n",
       "      <td>5</td>\n",
       "      <td>2829</td>\n",
       "      <td>56925</td>\n",
       "      <td>56925</td>\n",
       "      <td>56925</td>\n",
       "      <td>56925</td>\n",
       "      <td>2868332</td>\n",
       "      <td>2018</td>\n",
       "      <td>...</td>\n",
       "      <td>20180828750350505</td>\n",
       "      <td>201808287503505</td>\n",
       "      <td>44B</td>\n",
       "      <td>84</td>\n",
       "      <td>1</td>\n",
       "      <td>1666</td>\n",
       "      <td>1</td>\n",
       "      <td>0</td>\n",
       "      <td>1</td>\n",
       "      <td>16</td>\n",
       "    </tr>\n",
       "  </tbody>\n",
       "</table>\n",
       "<p>5 rows × 22 columns</p>\n",
       "</div>"
      ],
      "text/plain": [
       "    DAYOFSERVICE   TRIPID  PROGRNUMBER  STOPPOINTID  PLANNEDTIME_ARR  \\\n",
       "904   2018-08-28  7503505            1         2825            56700   \n",
       "905   2018-08-28  7503505            2         2826            56769   \n",
       "906   2018-08-28  7503505            3         2827            56819   \n",
       "907   2018-08-28  7503505            4         2828            56875   \n",
       "908   2018-08-28  7503505            5         2829            56925   \n",
       "\n",
       "     PLANNEDTIME_DEP  ACTUALTIME_ARR  ACTUALTIME_DEP  VEHICLEID  year  ...  \\\n",
       "904            56700           56700           56700    2868332  2018  ...   \n",
       "905            56769           56769           56769    2868332  2018  ...   \n",
       "906            56819           56819           56819    2868332  2018  ...   \n",
       "907            56875           56875           56875    2868332  2018  ...   \n",
       "908            56925           56925           56925    2868332  2018  ...   \n",
       "\n",
       "                    id    trip_leave_id  LINEID  num_lineID DIRECTION  \\\n",
       "904  20180828750350501  201808287503505     44B          84         1   \n",
       "905  20180828750350502  201808287503505     44B          84         1   \n",
       "906  20180828750350503  201808287503505     44B          84         1   \n",
       "907  20180828750350504  201808287503505     44B          84         1   \n",
       "908  20180828750350505  201808287503505     44B          84         1   \n",
       "\n",
       "     actual_duration  dayOfWeek  weekend  rushHour  actualARR_hour  \n",
       "904             1666          1        0         1              16  \n",
       "905             1666          1        0         1              16  \n",
       "906             1666          1        0         1              16  \n",
       "907             1666          1        0         1              16  \n",
       "908             1666          1        0         1              16  \n",
       "\n",
       "[5 rows x 22 columns]"
      ]
     },
     "execution_count": 53,
     "metadata": {},
     "output_type": "execute_result"
    }
   ],
   "source": [
    "wk.head()"
   ]
  },
  {
   "cell_type": "code",
   "execution_count": 54,
   "id": "1925fbda",
   "metadata": {},
   "outputs": [
    {
     "data": {
      "text/plain": [
       "(51557, 22)"
      ]
     },
     "execution_count": 54,
     "metadata": {},
     "output_type": "execute_result"
    }
   ],
   "source": [
    "wk.shape"
   ]
  },
  {
   "cell_type": "markdown",
   "id": "fbce052d",
   "metadata": {},
   "source": [
    "<h3>Send to CSV</h3>"
   ]
  },
  {
   "cell_type": "code",
   "execution_count": 55,
   "id": "f7db27b7",
   "metadata": {},
   "outputs": [],
   "source": [
    "# Send df to csv:\n",
    "lwk.to_csv('v5_15D_tripLeave5_sp8.csv', index=False)"
   ]
  },
  {
   "cell_type": "markdown",
   "id": "b634e919",
   "metadata": {},
   "source": [
    "## Route 44B"
   ]
  },
  {
   "cell_type": "code",
   "execution_count": 56,
   "id": "3953f651",
   "metadata": {},
   "outputs": [],
   "source": [
    "lwk = wk[(wk['LINEID'] == '44B')]"
   ]
  },
  {
   "cell_type": "code",
   "execution_count": 57,
   "id": "c2cf16ab",
   "metadata": {},
   "outputs": [
    {
     "data": {
      "text/plain": [
       "(9621, 22)"
      ]
     },
     "execution_count": 57,
     "metadata": {},
     "output_type": "execute_result"
    }
   ],
   "source": [
    "lwk.shape"
   ]
  },
  {
   "cell_type": "code",
   "execution_count": 58,
   "id": "9c60ac87",
   "metadata": {},
   "outputs": [],
   "source": [
    "# Drop Route 44B rows from wk\n",
    "wk.drop(wk[wk['LINEID'] == '44B'].index, inplace = True)"
   ]
  },
  {
   "cell_type": "code",
   "execution_count": 59,
   "id": "697f4f68",
   "metadata": {},
   "outputs": [
    {
     "data": {
      "text/html": [
       "<div>\n",
       "<style scoped>\n",
       "    .dataframe tbody tr th:only-of-type {\n",
       "        vertical-align: middle;\n",
       "    }\n",
       "\n",
       "    .dataframe tbody tr th {\n",
       "        vertical-align: top;\n",
       "    }\n",
       "\n",
       "    .dataframe thead th {\n",
       "        text-align: right;\n",
       "    }\n",
       "</style>\n",
       "<table border=\"1\" class=\"dataframe\">\n",
       "  <thead>\n",
       "    <tr style=\"text-align: right;\">\n",
       "      <th></th>\n",
       "      <th>DAYOFSERVICE</th>\n",
       "      <th>TRIPID</th>\n",
       "      <th>PROGRNUMBER</th>\n",
       "      <th>STOPPOINTID</th>\n",
       "      <th>PLANNEDTIME_ARR</th>\n",
       "      <th>PLANNEDTIME_DEP</th>\n",
       "      <th>ACTUALTIME_ARR</th>\n",
       "      <th>ACTUALTIME_DEP</th>\n",
       "      <th>VEHICLEID</th>\n",
       "      <th>year</th>\n",
       "      <th>...</th>\n",
       "      <th>id</th>\n",
       "      <th>trip_leave_id</th>\n",
       "      <th>LINEID</th>\n",
       "      <th>num_lineID</th>\n",
       "      <th>DIRECTION</th>\n",
       "      <th>actual_duration</th>\n",
       "      <th>dayOfWeek</th>\n",
       "      <th>weekend</th>\n",
       "      <th>rushHour</th>\n",
       "      <th>actualARR_hour</th>\n",
       "    </tr>\n",
       "  </thead>\n",
       "  <tbody>\n",
       "    <tr>\n",
       "      <th>1873</th>\n",
       "      <td>2018-08-29</td>\n",
       "      <td>7506153</td>\n",
       "      <td>1</td>\n",
       "      <td>4167</td>\n",
       "      <td>34200</td>\n",
       "      <td>34200</td>\n",
       "      <td>34200</td>\n",
       "      <td>34200</td>\n",
       "      <td>2406887</td>\n",
       "      <td>2018</td>\n",
       "      <td>...</td>\n",
       "      <td>20180829750615301</td>\n",
       "      <td>201808297506153</td>\n",
       "      <td>185</td>\n",
       "      <td>32</td>\n",
       "      <td>1</td>\n",
       "      <td>490</td>\n",
       "      <td>2</td>\n",
       "      <td>0</td>\n",
       "      <td>0</td>\n",
       "      <td>10</td>\n",
       "    </tr>\n",
       "    <tr>\n",
       "      <th>1874</th>\n",
       "      <td>2018-08-29</td>\n",
       "      <td>7506153</td>\n",
       "      <td>2</td>\n",
       "      <td>4170</td>\n",
       "      <td>34289</td>\n",
       "      <td>34289</td>\n",
       "      <td>34289</td>\n",
       "      <td>34289</td>\n",
       "      <td>2406887</td>\n",
       "      <td>2018</td>\n",
       "      <td>...</td>\n",
       "      <td>20180829750615302</td>\n",
       "      <td>201808297506153</td>\n",
       "      <td>185</td>\n",
       "      <td>32</td>\n",
       "      <td>1</td>\n",
       "      <td>490</td>\n",
       "      <td>2</td>\n",
       "      <td>0</td>\n",
       "      <td>0</td>\n",
       "      <td>10</td>\n",
       "    </tr>\n",
       "    <tr>\n",
       "      <th>1875</th>\n",
       "      <td>2018-08-29</td>\n",
       "      <td>7506153</td>\n",
       "      <td>3</td>\n",
       "      <td>4153</td>\n",
       "      <td>34349</td>\n",
       "      <td>34349</td>\n",
       "      <td>34349</td>\n",
       "      <td>34349</td>\n",
       "      <td>2406887</td>\n",
       "      <td>2018</td>\n",
       "      <td>...</td>\n",
       "      <td>20180829750615303</td>\n",
       "      <td>201808297506153</td>\n",
       "      <td>185</td>\n",
       "      <td>32</td>\n",
       "      <td>1</td>\n",
       "      <td>490</td>\n",
       "      <td>2</td>\n",
       "      <td>0</td>\n",
       "      <td>0</td>\n",
       "      <td>10</td>\n",
       "    </tr>\n",
       "    <tr>\n",
       "      <th>1876</th>\n",
       "      <td>2018-08-29</td>\n",
       "      <td>7506153</td>\n",
       "      <td>4</td>\n",
       "      <td>4154</td>\n",
       "      <td>34404</td>\n",
       "      <td>34404</td>\n",
       "      <td>34404</td>\n",
       "      <td>34404</td>\n",
       "      <td>2406887</td>\n",
       "      <td>2018</td>\n",
       "      <td>...</td>\n",
       "      <td>20180829750615304</td>\n",
       "      <td>201808297506153</td>\n",
       "      <td>185</td>\n",
       "      <td>32</td>\n",
       "      <td>1</td>\n",
       "      <td>490</td>\n",
       "      <td>2</td>\n",
       "      <td>0</td>\n",
       "      <td>0</td>\n",
       "      <td>10</td>\n",
       "    </tr>\n",
       "    <tr>\n",
       "      <th>1877</th>\n",
       "      <td>2018-08-29</td>\n",
       "      <td>7506153</td>\n",
       "      <td>5</td>\n",
       "      <td>4183</td>\n",
       "      <td>34440</td>\n",
       "      <td>34440</td>\n",
       "      <td>34440</td>\n",
       "      <td>34440</td>\n",
       "      <td>2406887</td>\n",
       "      <td>2018</td>\n",
       "      <td>...</td>\n",
       "      <td>20180829750615305</td>\n",
       "      <td>201808297506153</td>\n",
       "      <td>185</td>\n",
       "      <td>32</td>\n",
       "      <td>1</td>\n",
       "      <td>490</td>\n",
       "      <td>2</td>\n",
       "      <td>0</td>\n",
       "      <td>0</td>\n",
       "      <td>10</td>\n",
       "    </tr>\n",
       "  </tbody>\n",
       "</table>\n",
       "<p>5 rows × 22 columns</p>\n",
       "</div>"
      ],
      "text/plain": [
       "     DAYOFSERVICE   TRIPID  PROGRNUMBER  STOPPOINTID  PLANNEDTIME_ARR  \\\n",
       "1873   2018-08-29  7506153            1         4167            34200   \n",
       "1874   2018-08-29  7506153            2         4170            34289   \n",
       "1875   2018-08-29  7506153            3         4153            34349   \n",
       "1876   2018-08-29  7506153            4         4154            34404   \n",
       "1877   2018-08-29  7506153            5         4183            34440   \n",
       "\n",
       "      PLANNEDTIME_DEP  ACTUALTIME_ARR  ACTUALTIME_DEP  VEHICLEID  year  ...  \\\n",
       "1873            34200           34200           34200    2406887  2018  ...   \n",
       "1874            34289           34289           34289    2406887  2018  ...   \n",
       "1875            34349           34349           34349    2406887  2018  ...   \n",
       "1876            34404           34404           34404    2406887  2018  ...   \n",
       "1877            34440           34440           34440    2406887  2018  ...   \n",
       "\n",
       "                     id    trip_leave_id  LINEID  num_lineID DIRECTION  \\\n",
       "1873  20180829750615301  201808297506153     185          32         1   \n",
       "1874  20180829750615302  201808297506153     185          32         1   \n",
       "1875  20180829750615303  201808297506153     185          32         1   \n",
       "1876  20180829750615304  201808297506153     185          32         1   \n",
       "1877  20180829750615305  201808297506153     185          32         1   \n",
       "\n",
       "      actual_duration  dayOfWeek  weekend  rushHour  actualARR_hour  \n",
       "1873              490          2        0         0              10  \n",
       "1874              490          2        0         0              10  \n",
       "1875              490          2        0         0              10  \n",
       "1876              490          2        0         0              10  \n",
       "1877              490          2        0         0              10  \n",
       "\n",
       "[5 rows x 22 columns]"
      ]
     },
     "execution_count": 59,
     "metadata": {},
     "output_type": "execute_result"
    }
   ],
   "source": [
    "wk.head()"
   ]
  },
  {
   "cell_type": "code",
   "execution_count": 60,
   "id": "008d0da7",
   "metadata": {},
   "outputs": [
    {
     "data": {
      "text/plain": [
       "(41936, 22)"
      ]
     },
     "execution_count": 60,
     "metadata": {},
     "output_type": "execute_result"
    }
   ],
   "source": [
    "wk.shape"
   ]
  },
  {
   "cell_type": "markdown",
   "id": "344cabed",
   "metadata": {},
   "source": [
    "<h3>Send to CSV</h3>"
   ]
  },
  {
   "cell_type": "code",
   "execution_count": 61,
   "id": "a87bdae2",
   "metadata": {},
   "outputs": [],
   "source": [
    "# Send df to csv:\n",
    "lwk.to_csv('v5_44B_tripLeave5_sp8.csv', index=False)"
   ]
  },
  {
   "cell_type": "markdown",
   "id": "caae3da1",
   "metadata": {},
   "source": [
    "## Route 185"
   ]
  },
  {
   "cell_type": "code",
   "execution_count": 62,
   "id": "57040cc6",
   "metadata": {},
   "outputs": [],
   "source": [
    "lwk = wk[(wk['LINEID'] == '185')]"
   ]
  },
  {
   "cell_type": "code",
   "execution_count": 63,
   "id": "94445942",
   "metadata": {},
   "outputs": [
    {
     "data": {
      "text/plain": [
       "(26868, 22)"
      ]
     },
     "execution_count": 63,
     "metadata": {},
     "output_type": "execute_result"
    }
   ],
   "source": [
    "lwk.shape"
   ]
  },
  {
   "cell_type": "code",
   "execution_count": 64,
   "id": "6daa2caf",
   "metadata": {},
   "outputs": [],
   "source": [
    "# Drop Route 185 rows from wk\n",
    "wk.drop(wk[wk['LINEID'] == '185'].index, inplace = True)"
   ]
  },
  {
   "cell_type": "code",
   "execution_count": 65,
   "id": "b120bb4d",
   "metadata": {},
   "outputs": [
    {
     "data": {
      "text/html": [
       "<div>\n",
       "<style scoped>\n",
       "    .dataframe tbody tr th:only-of-type {\n",
       "        vertical-align: middle;\n",
       "    }\n",
       "\n",
       "    .dataframe tbody tr th {\n",
       "        vertical-align: top;\n",
       "    }\n",
       "\n",
       "    .dataframe thead th {\n",
       "        text-align: right;\n",
       "    }\n",
       "</style>\n",
       "<table border=\"1\" class=\"dataframe\">\n",
       "  <thead>\n",
       "    <tr style=\"text-align: right;\">\n",
       "      <th></th>\n",
       "      <th>DAYOFSERVICE</th>\n",
       "      <th>TRIPID</th>\n",
       "      <th>PROGRNUMBER</th>\n",
       "      <th>STOPPOINTID</th>\n",
       "      <th>PLANNEDTIME_ARR</th>\n",
       "      <th>PLANNEDTIME_DEP</th>\n",
       "      <th>ACTUALTIME_ARR</th>\n",
       "      <th>ACTUALTIME_DEP</th>\n",
       "      <th>VEHICLEID</th>\n",
       "      <th>year</th>\n",
       "      <th>...</th>\n",
       "      <th>id</th>\n",
       "      <th>trip_leave_id</th>\n",
       "      <th>LINEID</th>\n",
       "      <th>num_lineID</th>\n",
       "      <th>DIRECTION</th>\n",
       "      <th>actual_duration</th>\n",
       "      <th>dayOfWeek</th>\n",
       "      <th>weekend</th>\n",
       "      <th>rushHour</th>\n",
       "      <th>actualARR_hour</th>\n",
       "    </tr>\n",
       "  </thead>\n",
       "  <tbody>\n",
       "    <tr>\n",
       "      <th>6515</th>\n",
       "      <td>2018-09-03</td>\n",
       "      <td>7643736</td>\n",
       "      <td>2</td>\n",
       "      <td>3284</td>\n",
       "      <td>28553</td>\n",
       "      <td>28553</td>\n",
       "      <td>28553</td>\n",
       "      <td>28553</td>\n",
       "      <td>2534855</td>\n",
       "      <td>2018</td>\n",
       "      <td>...</td>\n",
       "      <td>20180903764373602</td>\n",
       "      <td>201809037643736</td>\n",
       "      <td>118</td>\n",
       "      <td>7</td>\n",
       "      <td>2</td>\n",
       "      <td>3429</td>\n",
       "      <td>0</td>\n",
       "      <td>0</td>\n",
       "      <td>1</td>\n",
       "      <td>8</td>\n",
       "    </tr>\n",
       "    <tr>\n",
       "      <th>6516</th>\n",
       "      <td>2018-09-03</td>\n",
       "      <td>7643736</td>\n",
       "      <td>3</td>\n",
       "      <td>3310</td>\n",
       "      <td>28581</td>\n",
       "      <td>28581</td>\n",
       "      <td>28581</td>\n",
       "      <td>28581</td>\n",
       "      <td>2534855</td>\n",
       "      <td>2018</td>\n",
       "      <td>...</td>\n",
       "      <td>20180903764373603</td>\n",
       "      <td>201809037643736</td>\n",
       "      <td>118</td>\n",
       "      <td>7</td>\n",
       "      <td>2</td>\n",
       "      <td>3429</td>\n",
       "      <td>0</td>\n",
       "      <td>0</td>\n",
       "      <td>1</td>\n",
       "      <td>8</td>\n",
       "    </tr>\n",
       "    <tr>\n",
       "      <th>6517</th>\n",
       "      <td>2018-09-03</td>\n",
       "      <td>7643736</td>\n",
       "      <td>4</td>\n",
       "      <td>3481</td>\n",
       "      <td>28592</td>\n",
       "      <td>28592</td>\n",
       "      <td>28592</td>\n",
       "      <td>28592</td>\n",
       "      <td>2534855</td>\n",
       "      <td>2018</td>\n",
       "      <td>...</td>\n",
       "      <td>20180903764373604</td>\n",
       "      <td>201809037643736</td>\n",
       "      <td>118</td>\n",
       "      <td>7</td>\n",
       "      <td>2</td>\n",
       "      <td>3429</td>\n",
       "      <td>0</td>\n",
       "      <td>0</td>\n",
       "      <td>1</td>\n",
       "      <td>8</td>\n",
       "    </tr>\n",
       "    <tr>\n",
       "      <th>6518</th>\n",
       "      <td>2018-09-03</td>\n",
       "      <td>7643736</td>\n",
       "      <td>5</td>\n",
       "      <td>3482</td>\n",
       "      <td>28612</td>\n",
       "      <td>28612</td>\n",
       "      <td>28612</td>\n",
       "      <td>28612</td>\n",
       "      <td>2534855</td>\n",
       "      <td>2018</td>\n",
       "      <td>...</td>\n",
       "      <td>20180903764373605</td>\n",
       "      <td>201809037643736</td>\n",
       "      <td>118</td>\n",
       "      <td>7</td>\n",
       "      <td>2</td>\n",
       "      <td>3429</td>\n",
       "      <td>0</td>\n",
       "      <td>0</td>\n",
       "      <td>1</td>\n",
       "      <td>8</td>\n",
       "    </tr>\n",
       "    <tr>\n",
       "      <th>6519</th>\n",
       "      <td>2018-09-03</td>\n",
       "      <td>7643736</td>\n",
       "      <td>6</td>\n",
       "      <td>3483</td>\n",
       "      <td>28670</td>\n",
       "      <td>28670</td>\n",
       "      <td>28670</td>\n",
       "      <td>28670</td>\n",
       "      <td>2534855</td>\n",
       "      <td>2018</td>\n",
       "      <td>...</td>\n",
       "      <td>20180903764373606</td>\n",
       "      <td>201809037643736</td>\n",
       "      <td>118</td>\n",
       "      <td>7</td>\n",
       "      <td>2</td>\n",
       "      <td>3429</td>\n",
       "      <td>0</td>\n",
       "      <td>0</td>\n",
       "      <td>1</td>\n",
       "      <td>8</td>\n",
       "    </tr>\n",
       "  </tbody>\n",
       "</table>\n",
       "<p>5 rows × 22 columns</p>\n",
       "</div>"
      ],
      "text/plain": [
       "     DAYOFSERVICE   TRIPID  PROGRNUMBER  STOPPOINTID  PLANNEDTIME_ARR  \\\n",
       "6515   2018-09-03  7643736            2         3284            28553   \n",
       "6516   2018-09-03  7643736            3         3310            28581   \n",
       "6517   2018-09-03  7643736            4         3481            28592   \n",
       "6518   2018-09-03  7643736            5         3482            28612   \n",
       "6519   2018-09-03  7643736            6         3483            28670   \n",
       "\n",
       "      PLANNEDTIME_DEP  ACTUALTIME_ARR  ACTUALTIME_DEP  VEHICLEID  year  ...  \\\n",
       "6515            28553           28553           28553    2534855  2018  ...   \n",
       "6516            28581           28581           28581    2534855  2018  ...   \n",
       "6517            28592           28592           28592    2534855  2018  ...   \n",
       "6518            28612           28612           28612    2534855  2018  ...   \n",
       "6519            28670           28670           28670    2534855  2018  ...   \n",
       "\n",
       "                     id    trip_leave_id  LINEID  num_lineID DIRECTION  \\\n",
       "6515  20180903764373602  201809037643736     118           7         2   \n",
       "6516  20180903764373603  201809037643736     118           7         2   \n",
       "6517  20180903764373604  201809037643736     118           7         2   \n",
       "6518  20180903764373605  201809037643736     118           7         2   \n",
       "6519  20180903764373606  201809037643736     118           7         2   \n",
       "\n",
       "      actual_duration  dayOfWeek  weekend  rushHour  actualARR_hour  \n",
       "6515             3429          0        0         1               8  \n",
       "6516             3429          0        0         1               8  \n",
       "6517             3429          0        0         1               8  \n",
       "6518             3429          0        0         1               8  \n",
       "6519             3429          0        0         1               8  \n",
       "\n",
       "[5 rows x 22 columns]"
      ]
     },
     "execution_count": 65,
     "metadata": {},
     "output_type": "execute_result"
    }
   ],
   "source": [
    "wk.head()"
   ]
  },
  {
   "cell_type": "code",
   "execution_count": 66,
   "id": "e4817201",
   "metadata": {},
   "outputs": [
    {
     "data": {
      "text/plain": [
       "(15068, 22)"
      ]
     },
     "execution_count": 66,
     "metadata": {},
     "output_type": "execute_result"
    }
   ],
   "source": [
    "wk.shape"
   ]
  },
  {
   "cell_type": "markdown",
   "id": "d39a108d",
   "metadata": {},
   "source": [
    "<h3>Send to CSV</h3>"
   ]
  },
  {
   "cell_type": "code",
   "execution_count": 67,
   "id": "1de6b91b",
   "metadata": {},
   "outputs": [],
   "source": [
    "# Send df to csv:\n",
    "lwk.to_csv('v5_185_tripLeave5_sp8.csv', index=False)"
   ]
  },
  {
   "cell_type": "markdown",
   "id": "bb64356b",
   "metadata": {},
   "source": [
    "## Route 118"
   ]
  },
  {
   "cell_type": "code",
   "execution_count": 68,
   "id": "16722cc0",
   "metadata": {},
   "outputs": [],
   "source": [
    "lwk = wk[(wk['LINEID'] == '118')]"
   ]
  },
  {
   "cell_type": "code",
   "execution_count": 69,
   "id": "ad9e01f0",
   "metadata": {},
   "outputs": [
    {
     "data": {
      "text/plain": [
       "(2863, 22)"
      ]
     },
     "execution_count": 69,
     "metadata": {},
     "output_type": "execute_result"
    }
   ],
   "source": [
    "lwk.shape"
   ]
  },
  {
   "cell_type": "code",
   "execution_count": 70,
   "id": "bf0d5ee0",
   "metadata": {},
   "outputs": [],
   "source": [
    "# Drop Route 118 rows from wk\n",
    "wk.drop(wk[wk['LINEID'] == '118'].index, inplace = True)"
   ]
  },
  {
   "cell_type": "code",
   "execution_count": 71,
   "id": "720f5491",
   "metadata": {},
   "outputs": [
    {
     "data": {
      "text/html": [
       "<div>\n",
       "<style scoped>\n",
       "    .dataframe tbody tr th:only-of-type {\n",
       "        vertical-align: middle;\n",
       "    }\n",
       "\n",
       "    .dataframe tbody tr th {\n",
       "        vertical-align: top;\n",
       "    }\n",
       "\n",
       "    .dataframe thead th {\n",
       "        text-align: right;\n",
       "    }\n",
       "</style>\n",
       "<table border=\"1\" class=\"dataframe\">\n",
       "  <thead>\n",
       "    <tr style=\"text-align: right;\">\n",
       "      <th></th>\n",
       "      <th>DAYOFSERVICE</th>\n",
       "      <th>TRIPID</th>\n",
       "      <th>PROGRNUMBER</th>\n",
       "      <th>STOPPOINTID</th>\n",
       "      <th>PLANNEDTIME_ARR</th>\n",
       "      <th>PLANNEDTIME_DEP</th>\n",
       "      <th>ACTUALTIME_ARR</th>\n",
       "      <th>ACTUALTIME_DEP</th>\n",
       "      <th>VEHICLEID</th>\n",
       "      <th>year</th>\n",
       "      <th>...</th>\n",
       "      <th>id</th>\n",
       "      <th>trip_leave_id</th>\n",
       "      <th>LINEID</th>\n",
       "      <th>num_lineID</th>\n",
       "      <th>DIRECTION</th>\n",
       "      <th>actual_duration</th>\n",
       "      <th>dayOfWeek</th>\n",
       "      <th>weekend</th>\n",
       "      <th>rushHour</th>\n",
       "      <th>actualARR_hour</th>\n",
       "    </tr>\n",
       "  </thead>\n",
       "  <tbody>\n",
       "    <tr>\n",
       "      <th>6584</th>\n",
       "      <td>2018-09-03</td>\n",
       "      <td>7644916</td>\n",
       "      <td>1</td>\n",
       "      <td>943</td>\n",
       "      <td>27000</td>\n",
       "      <td>27000</td>\n",
       "      <td>27000</td>\n",
       "      <td>27000</td>\n",
       "      <td>1000738</td>\n",
       "      <td>2018</td>\n",
       "      <td>...</td>\n",
       "      <td>20180903764491601</td>\n",
       "      <td>201809037644916</td>\n",
       "      <td>42D</td>\n",
       "      <td>81</td>\n",
       "      <td>2</td>\n",
       "      <td>2450</td>\n",
       "      <td>0</td>\n",
       "      <td>0</td>\n",
       "      <td>1</td>\n",
       "      <td>8</td>\n",
       "    </tr>\n",
       "    <tr>\n",
       "      <th>6585</th>\n",
       "      <td>2018-09-03</td>\n",
       "      <td>7644916</td>\n",
       "      <td>2</td>\n",
       "      <td>3599</td>\n",
       "      <td>27240</td>\n",
       "      <td>27240</td>\n",
       "      <td>27240</td>\n",
       "      <td>27240</td>\n",
       "      <td>1000738</td>\n",
       "      <td>2018</td>\n",
       "      <td>...</td>\n",
       "      <td>20180903764491602</td>\n",
       "      <td>201809037644916</td>\n",
       "      <td>42D</td>\n",
       "      <td>81</td>\n",
       "      <td>2</td>\n",
       "      <td>2450</td>\n",
       "      <td>0</td>\n",
       "      <td>0</td>\n",
       "      <td>1</td>\n",
       "      <td>8</td>\n",
       "    </tr>\n",
       "    <tr>\n",
       "      <th>6586</th>\n",
       "      <td>2018-09-03</td>\n",
       "      <td>7644916</td>\n",
       "      <td>3</td>\n",
       "      <td>3600</td>\n",
       "      <td>27312</td>\n",
       "      <td>27312</td>\n",
       "      <td>27312</td>\n",
       "      <td>27312</td>\n",
       "      <td>1000738</td>\n",
       "      <td>2018</td>\n",
       "      <td>...</td>\n",
       "      <td>20180903764491603</td>\n",
       "      <td>201809037644916</td>\n",
       "      <td>42D</td>\n",
       "      <td>81</td>\n",
       "      <td>2</td>\n",
       "      <td>2450</td>\n",
       "      <td>0</td>\n",
       "      <td>0</td>\n",
       "      <td>1</td>\n",
       "      <td>8</td>\n",
       "    </tr>\n",
       "    <tr>\n",
       "      <th>6587</th>\n",
       "      <td>2018-09-03</td>\n",
       "      <td>7644916</td>\n",
       "      <td>4</td>\n",
       "      <td>3601</td>\n",
       "      <td>27401</td>\n",
       "      <td>27401</td>\n",
       "      <td>27401</td>\n",
       "      <td>27401</td>\n",
       "      <td>1000738</td>\n",
       "      <td>2018</td>\n",
       "      <td>...</td>\n",
       "      <td>20180903764491604</td>\n",
       "      <td>201809037644916</td>\n",
       "      <td>42D</td>\n",
       "      <td>81</td>\n",
       "      <td>2</td>\n",
       "      <td>2450</td>\n",
       "      <td>0</td>\n",
       "      <td>0</td>\n",
       "      <td>1</td>\n",
       "      <td>8</td>\n",
       "    </tr>\n",
       "    <tr>\n",
       "      <th>6588</th>\n",
       "      <td>2018-09-03</td>\n",
       "      <td>7644916</td>\n",
       "      <td>5</td>\n",
       "      <td>3602</td>\n",
       "      <td>27480</td>\n",
       "      <td>27480</td>\n",
       "      <td>27480</td>\n",
       "      <td>27480</td>\n",
       "      <td>1000738</td>\n",
       "      <td>2018</td>\n",
       "      <td>...</td>\n",
       "      <td>20180903764491605</td>\n",
       "      <td>201809037644916</td>\n",
       "      <td>42D</td>\n",
       "      <td>81</td>\n",
       "      <td>2</td>\n",
       "      <td>2450</td>\n",
       "      <td>0</td>\n",
       "      <td>0</td>\n",
       "      <td>1</td>\n",
       "      <td>8</td>\n",
       "    </tr>\n",
       "  </tbody>\n",
       "</table>\n",
       "<p>5 rows × 22 columns</p>\n",
       "</div>"
      ],
      "text/plain": [
       "     DAYOFSERVICE   TRIPID  PROGRNUMBER  STOPPOINTID  PLANNEDTIME_ARR  \\\n",
       "6584   2018-09-03  7644916            1          943            27000   \n",
       "6585   2018-09-03  7644916            2         3599            27240   \n",
       "6586   2018-09-03  7644916            3         3600            27312   \n",
       "6587   2018-09-03  7644916            4         3601            27401   \n",
       "6588   2018-09-03  7644916            5         3602            27480   \n",
       "\n",
       "      PLANNEDTIME_DEP  ACTUALTIME_ARR  ACTUALTIME_DEP  VEHICLEID  year  ...  \\\n",
       "6584            27000           27000           27000    1000738  2018  ...   \n",
       "6585            27240           27240           27240    1000738  2018  ...   \n",
       "6586            27312           27312           27312    1000738  2018  ...   \n",
       "6587            27401           27401           27401    1000738  2018  ...   \n",
       "6588            27480           27480           27480    1000738  2018  ...   \n",
       "\n",
       "                     id    trip_leave_id  LINEID  num_lineID DIRECTION  \\\n",
       "6584  20180903764491601  201809037644916     42D          81         2   \n",
       "6585  20180903764491602  201809037644916     42D          81         2   \n",
       "6586  20180903764491603  201809037644916     42D          81         2   \n",
       "6587  20180903764491604  201809037644916     42D          81         2   \n",
       "6588  20180903764491605  201809037644916     42D          81         2   \n",
       "\n",
       "      actual_duration  dayOfWeek  weekend  rushHour  actualARR_hour  \n",
       "6584             2450          0        0         1               8  \n",
       "6585             2450          0        0         1               8  \n",
       "6586             2450          0        0         1               8  \n",
       "6587             2450          0        0         1               8  \n",
       "6588             2450          0        0         1               8  \n",
       "\n",
       "[5 rows x 22 columns]"
      ]
     },
     "execution_count": 71,
     "metadata": {},
     "output_type": "execute_result"
    }
   ],
   "source": [
    "wk.head()"
   ]
  },
  {
   "cell_type": "code",
   "execution_count": 72,
   "id": "ddff214c",
   "metadata": {},
   "outputs": [
    {
     "data": {
      "text/plain": [
       "(12205, 22)"
      ]
     },
     "execution_count": 72,
     "metadata": {},
     "output_type": "execute_result"
    }
   ],
   "source": [
    "wk.shape"
   ]
  },
  {
   "cell_type": "markdown",
   "id": "93a5421b",
   "metadata": {},
   "source": [
    "<h3>Send to CSV</h3>"
   ]
  },
  {
   "cell_type": "code",
   "execution_count": 73,
   "id": "db5adc85",
   "metadata": {},
   "outputs": [],
   "source": [
    "# Send df to csv:\n",
    "lwk.to_csv('v5_118_tripLeave5_sp8.csv', index=False)"
   ]
  },
  {
   "cell_type": "markdown",
   "id": "22d4967d",
   "metadata": {},
   "source": [
    "## Route 42D"
   ]
  },
  {
   "cell_type": "code",
   "execution_count": 74,
   "id": "bf3194ae",
   "metadata": {},
   "outputs": [],
   "source": [
    "lwk = wk[(wk['LINEID'] == '42D')]"
   ]
  },
  {
   "cell_type": "code",
   "execution_count": 75,
   "id": "716cc5f7",
   "metadata": {},
   "outputs": [
    {
     "data": {
      "text/plain": [
       "(1977, 22)"
      ]
     },
     "execution_count": 75,
     "metadata": {},
     "output_type": "execute_result"
    }
   ],
   "source": [
    "lwk.shape"
   ]
  },
  {
   "cell_type": "code",
   "execution_count": 76,
   "id": "35acae7d",
   "metadata": {},
   "outputs": [],
   "source": [
    "# Drop Route 42D rows from wk\n",
    "wk.drop(wk[wk['LINEID'] == '42D'].index, inplace = True)"
   ]
  },
  {
   "cell_type": "code",
   "execution_count": 77,
   "id": "4c542da6",
   "metadata": {},
   "outputs": [
    {
     "data": {
      "text/html": [
       "<div>\n",
       "<style scoped>\n",
       "    .dataframe tbody tr th:only-of-type {\n",
       "        vertical-align: middle;\n",
       "    }\n",
       "\n",
       "    .dataframe tbody tr th {\n",
       "        vertical-align: top;\n",
       "    }\n",
       "\n",
       "    .dataframe thead th {\n",
       "        text-align: right;\n",
       "    }\n",
       "</style>\n",
       "<table border=\"1\" class=\"dataframe\">\n",
       "  <thead>\n",
       "    <tr style=\"text-align: right;\">\n",
       "      <th></th>\n",
       "      <th>DAYOFSERVICE</th>\n",
       "      <th>TRIPID</th>\n",
       "      <th>PROGRNUMBER</th>\n",
       "      <th>STOPPOINTID</th>\n",
       "      <th>PLANNEDTIME_ARR</th>\n",
       "      <th>PLANNEDTIME_DEP</th>\n",
       "      <th>ACTUALTIME_ARR</th>\n",
       "      <th>ACTUALTIME_DEP</th>\n",
       "      <th>VEHICLEID</th>\n",
       "      <th>year</th>\n",
       "      <th>...</th>\n",
       "      <th>id</th>\n",
       "      <th>trip_leave_id</th>\n",
       "      <th>LINEID</th>\n",
       "      <th>num_lineID</th>\n",
       "      <th>DIRECTION</th>\n",
       "      <th>actual_duration</th>\n",
       "      <th>dayOfWeek</th>\n",
       "      <th>weekend</th>\n",
       "      <th>rushHour</th>\n",
       "      <th>actualARR_hour</th>\n",
       "    </tr>\n",
       "  </thead>\n",
       "  <tbody>\n",
       "    <tr>\n",
       "      <th>6659</th>\n",
       "      <td>2018-09-03</td>\n",
       "      <td>7646561</td>\n",
       "      <td>1</td>\n",
       "      <td>928</td>\n",
       "      <td>27900</td>\n",
       "      <td>27900</td>\n",
       "      <td>27900</td>\n",
       "      <td>27900</td>\n",
       "      <td>1000199</td>\n",
       "      <td>2018</td>\n",
       "      <td>...</td>\n",
       "      <td>20180903764656101</td>\n",
       "      <td>201809037646561</td>\n",
       "      <td>31D</td>\n",
       "      <td>52</td>\n",
       "      <td>2</td>\n",
       "      <td>1865</td>\n",
       "      <td>0</td>\n",
       "      <td>0</td>\n",
       "      <td>1</td>\n",
       "      <td>8</td>\n",
       "    </tr>\n",
       "    <tr>\n",
       "      <th>6660</th>\n",
       "      <td>2018-09-03</td>\n",
       "      <td>7646561</td>\n",
       "      <td>2</td>\n",
       "      <td>929</td>\n",
       "      <td>27961</td>\n",
       "      <td>27961</td>\n",
       "      <td>27961</td>\n",
       "      <td>27961</td>\n",
       "      <td>1000199</td>\n",
       "      <td>2018</td>\n",
       "      <td>...</td>\n",
       "      <td>20180903764656102</td>\n",
       "      <td>201809037646561</td>\n",
       "      <td>31D</td>\n",
       "      <td>52</td>\n",
       "      <td>2</td>\n",
       "      <td>1865</td>\n",
       "      <td>0</td>\n",
       "      <td>0</td>\n",
       "      <td>1</td>\n",
       "      <td>8</td>\n",
       "    </tr>\n",
       "    <tr>\n",
       "      <th>6661</th>\n",
       "      <td>2018-09-03</td>\n",
       "      <td>7646561</td>\n",
       "      <td>3</td>\n",
       "      <td>930</td>\n",
       "      <td>28080</td>\n",
       "      <td>28080</td>\n",
       "      <td>28080</td>\n",
       "      <td>28080</td>\n",
       "      <td>1000199</td>\n",
       "      <td>2018</td>\n",
       "      <td>...</td>\n",
       "      <td>20180903764656103</td>\n",
       "      <td>201809037646561</td>\n",
       "      <td>31D</td>\n",
       "      <td>52</td>\n",
       "      <td>2</td>\n",
       "      <td>1865</td>\n",
       "      <td>0</td>\n",
       "      <td>0</td>\n",
       "      <td>1</td>\n",
       "      <td>8</td>\n",
       "    </tr>\n",
       "    <tr>\n",
       "      <th>6662</th>\n",
       "      <td>2018-09-03</td>\n",
       "      <td>7646561</td>\n",
       "      <td>4</td>\n",
       "      <td>931</td>\n",
       "      <td>28162</td>\n",
       "      <td>28162</td>\n",
       "      <td>28162</td>\n",
       "      <td>28162</td>\n",
       "      <td>1000199</td>\n",
       "      <td>2018</td>\n",
       "      <td>...</td>\n",
       "      <td>20180903764656104</td>\n",
       "      <td>201809037646561</td>\n",
       "      <td>31D</td>\n",
       "      <td>52</td>\n",
       "      <td>2</td>\n",
       "      <td>1865</td>\n",
       "      <td>0</td>\n",
       "      <td>0</td>\n",
       "      <td>1</td>\n",
       "      <td>8</td>\n",
       "    </tr>\n",
       "    <tr>\n",
       "      <th>6663</th>\n",
       "      <td>2018-09-03</td>\n",
       "      <td>7646561</td>\n",
       "      <td>5</td>\n",
       "      <td>587</td>\n",
       "      <td>28260</td>\n",
       "      <td>28260</td>\n",
       "      <td>28260</td>\n",
       "      <td>28260</td>\n",
       "      <td>1000199</td>\n",
       "      <td>2018</td>\n",
       "      <td>...</td>\n",
       "      <td>20180903764656105</td>\n",
       "      <td>201809037646561</td>\n",
       "      <td>31D</td>\n",
       "      <td>52</td>\n",
       "      <td>2</td>\n",
       "      <td>1865</td>\n",
       "      <td>0</td>\n",
       "      <td>0</td>\n",
       "      <td>1</td>\n",
       "      <td>8</td>\n",
       "    </tr>\n",
       "  </tbody>\n",
       "</table>\n",
       "<p>5 rows × 22 columns</p>\n",
       "</div>"
      ],
      "text/plain": [
       "     DAYOFSERVICE   TRIPID  PROGRNUMBER  STOPPOINTID  PLANNEDTIME_ARR  \\\n",
       "6659   2018-09-03  7646561            1          928            27900   \n",
       "6660   2018-09-03  7646561            2          929            27961   \n",
       "6661   2018-09-03  7646561            3          930            28080   \n",
       "6662   2018-09-03  7646561            4          931            28162   \n",
       "6663   2018-09-03  7646561            5          587            28260   \n",
       "\n",
       "      PLANNEDTIME_DEP  ACTUALTIME_ARR  ACTUALTIME_DEP  VEHICLEID  year  ...  \\\n",
       "6659            27900           27900           27900    1000199  2018  ...   \n",
       "6660            27961           27961           27961    1000199  2018  ...   \n",
       "6661            28080           28080           28080    1000199  2018  ...   \n",
       "6662            28162           28162           28162    1000199  2018  ...   \n",
       "6663            28260           28260           28260    1000199  2018  ...   \n",
       "\n",
       "                     id    trip_leave_id  LINEID  num_lineID DIRECTION  \\\n",
       "6659  20180903764656101  201809037646561     31D          52         2   \n",
       "6660  20180903764656102  201809037646561     31D          52         2   \n",
       "6661  20180903764656103  201809037646561     31D          52         2   \n",
       "6662  20180903764656104  201809037646561     31D          52         2   \n",
       "6663  20180903764656105  201809037646561     31D          52         2   \n",
       "\n",
       "      actual_duration  dayOfWeek  weekend  rushHour  actualARR_hour  \n",
       "6659             1865          0        0         1               8  \n",
       "6660             1865          0        0         1               8  \n",
       "6661             1865          0        0         1               8  \n",
       "6662             1865          0        0         1               8  \n",
       "6663             1865          0        0         1               8  \n",
       "\n",
       "[5 rows x 22 columns]"
      ]
     },
     "execution_count": 77,
     "metadata": {},
     "output_type": "execute_result"
    }
   ],
   "source": [
    "wk.head()"
   ]
  },
  {
   "cell_type": "code",
   "execution_count": 78,
   "id": "5cf68458",
   "metadata": {},
   "outputs": [
    {
     "data": {
      "text/plain": [
       "(10228, 22)"
      ]
     },
     "execution_count": 78,
     "metadata": {},
     "output_type": "execute_result"
    }
   ],
   "source": [
    "wk.shape"
   ]
  },
  {
   "cell_type": "markdown",
   "id": "523dc3c7",
   "metadata": {},
   "source": [
    "<h3>Send to CSV</h3>"
   ]
  },
  {
   "cell_type": "code",
   "execution_count": 79,
   "id": "805ec743",
   "metadata": {},
   "outputs": [],
   "source": [
    "# Send df to csv:\n",
    "lwk.to_csv('v5_42D_tripLeave5_sp8.csv', index=False)"
   ]
  },
  {
   "cell_type": "markdown",
   "id": "0823372f",
   "metadata": {},
   "source": [
    "## Route 31D"
   ]
  },
  {
   "cell_type": "code",
   "execution_count": 80,
   "id": "95f2a15d",
   "metadata": {},
   "outputs": [],
   "source": [
    "lwk = wk[(wk['LINEID'] == '31D')]"
   ]
  },
  {
   "cell_type": "code",
   "execution_count": 81,
   "id": "efd13dd0",
   "metadata": {},
   "outputs": [
    {
     "data": {
      "text/plain": [
       "(2242, 22)"
      ]
     },
     "execution_count": 81,
     "metadata": {},
     "output_type": "execute_result"
    }
   ],
   "source": [
    "lwk.shape"
   ]
  },
  {
   "cell_type": "code",
   "execution_count": 82,
   "id": "51c29c44",
   "metadata": {},
   "outputs": [],
   "source": [
    "# Drop Route 31D rows from wk\n",
    "wk.drop(wk[wk['LINEID'] == '31D'].index, inplace = True)"
   ]
  },
  {
   "cell_type": "code",
   "execution_count": 83,
   "id": "4e6a1c0e",
   "metadata": {},
   "outputs": [
    {
     "data": {
      "text/html": [
       "<div>\n",
       "<style scoped>\n",
       "    .dataframe tbody tr th:only-of-type {\n",
       "        vertical-align: middle;\n",
       "    }\n",
       "\n",
       "    .dataframe tbody tr th {\n",
       "        vertical-align: top;\n",
       "    }\n",
       "\n",
       "    .dataframe thead th {\n",
       "        text-align: right;\n",
       "    }\n",
       "</style>\n",
       "<table border=\"1\" class=\"dataframe\">\n",
       "  <thead>\n",
       "    <tr style=\"text-align: right;\">\n",
       "      <th></th>\n",
       "      <th>DAYOFSERVICE</th>\n",
       "      <th>TRIPID</th>\n",
       "      <th>PROGRNUMBER</th>\n",
       "      <th>STOPPOINTID</th>\n",
       "      <th>PLANNEDTIME_ARR</th>\n",
       "      <th>PLANNEDTIME_DEP</th>\n",
       "      <th>ACTUALTIME_ARR</th>\n",
       "      <th>ACTUALTIME_DEP</th>\n",
       "      <th>VEHICLEID</th>\n",
       "      <th>year</th>\n",
       "      <th>...</th>\n",
       "      <th>id</th>\n",
       "      <th>trip_leave_id</th>\n",
       "      <th>LINEID</th>\n",
       "      <th>num_lineID</th>\n",
       "      <th>DIRECTION</th>\n",
       "      <th>actual_duration</th>\n",
       "      <th>dayOfWeek</th>\n",
       "      <th>weekend</th>\n",
       "      <th>rushHour</th>\n",
       "      <th>actualARR_hour</th>\n",
       "    </tr>\n",
       "  </thead>\n",
       "  <tbody>\n",
       "    <tr>\n",
       "      <th>7287</th>\n",
       "      <td>2018-09-03</td>\n",
       "      <td>7653769</td>\n",
       "      <td>1</td>\n",
       "      <td>3333</td>\n",
       "      <td>26100</td>\n",
       "      <td>26100</td>\n",
       "      <td>26100</td>\n",
       "      <td>26100</td>\n",
       "      <td>1000766</td>\n",
       "      <td>2018</td>\n",
       "      <td>...</td>\n",
       "      <td>20180903765376901</td>\n",
       "      <td>201809037653769</td>\n",
       "      <td>70D</td>\n",
       "      <td>113</td>\n",
       "      <td>2</td>\n",
       "      <td>3021</td>\n",
       "      <td>0</td>\n",
       "      <td>0</td>\n",
       "      <td>0</td>\n",
       "      <td>7</td>\n",
       "    </tr>\n",
       "    <tr>\n",
       "      <th>7288</th>\n",
       "      <td>2018-09-03</td>\n",
       "      <td>7653769</td>\n",
       "      <td>2</td>\n",
       "      <td>3334</td>\n",
       "      <td>26162</td>\n",
       "      <td>26162</td>\n",
       "      <td>26162</td>\n",
       "      <td>26162</td>\n",
       "      <td>1000766</td>\n",
       "      <td>2018</td>\n",
       "      <td>...</td>\n",
       "      <td>20180903765376902</td>\n",
       "      <td>201809037653769</td>\n",
       "      <td>70D</td>\n",
       "      <td>113</td>\n",
       "      <td>2</td>\n",
       "      <td>3021</td>\n",
       "      <td>0</td>\n",
       "      <td>0</td>\n",
       "      <td>0</td>\n",
       "      <td>7</td>\n",
       "    </tr>\n",
       "    <tr>\n",
       "      <th>7289</th>\n",
       "      <td>2018-09-03</td>\n",
       "      <td>7653769</td>\n",
       "      <td>3</td>\n",
       "      <td>3352</td>\n",
       "      <td>26220</td>\n",
       "      <td>26220</td>\n",
       "      <td>26220</td>\n",
       "      <td>26220</td>\n",
       "      <td>1000766</td>\n",
       "      <td>2018</td>\n",
       "      <td>...</td>\n",
       "      <td>20180903765376903</td>\n",
       "      <td>201809037653769</td>\n",
       "      <td>70D</td>\n",
       "      <td>113</td>\n",
       "      <td>2</td>\n",
       "      <td>3021</td>\n",
       "      <td>0</td>\n",
       "      <td>0</td>\n",
       "      <td>0</td>\n",
       "      <td>7</td>\n",
       "    </tr>\n",
       "    <tr>\n",
       "      <th>7290</th>\n",
       "      <td>2018-09-03</td>\n",
       "      <td>7653769</td>\n",
       "      <td>4</td>\n",
       "      <td>3335</td>\n",
       "      <td>26340</td>\n",
       "      <td>26340</td>\n",
       "      <td>26340</td>\n",
       "      <td>26340</td>\n",
       "      <td>1000766</td>\n",
       "      <td>2018</td>\n",
       "      <td>...</td>\n",
       "      <td>20180903765376904</td>\n",
       "      <td>201809037653769</td>\n",
       "      <td>70D</td>\n",
       "      <td>113</td>\n",
       "      <td>2</td>\n",
       "      <td>3021</td>\n",
       "      <td>0</td>\n",
       "      <td>0</td>\n",
       "      <td>0</td>\n",
       "      <td>7</td>\n",
       "    </tr>\n",
       "    <tr>\n",
       "      <th>7291</th>\n",
       "      <td>2018-09-03</td>\n",
       "      <td>7653769</td>\n",
       "      <td>5</td>\n",
       "      <td>3336</td>\n",
       "      <td>26460</td>\n",
       "      <td>26460</td>\n",
       "      <td>26460</td>\n",
       "      <td>26460</td>\n",
       "      <td>1000766</td>\n",
       "      <td>2018</td>\n",
       "      <td>...</td>\n",
       "      <td>20180903765376905</td>\n",
       "      <td>201809037653769</td>\n",
       "      <td>70D</td>\n",
       "      <td>113</td>\n",
       "      <td>2</td>\n",
       "      <td>3021</td>\n",
       "      <td>0</td>\n",
       "      <td>0</td>\n",
       "      <td>0</td>\n",
       "      <td>7</td>\n",
       "    </tr>\n",
       "  </tbody>\n",
       "</table>\n",
       "<p>5 rows × 22 columns</p>\n",
       "</div>"
      ],
      "text/plain": [
       "     DAYOFSERVICE   TRIPID  PROGRNUMBER  STOPPOINTID  PLANNEDTIME_ARR  \\\n",
       "7287   2018-09-03  7653769            1         3333            26100   \n",
       "7288   2018-09-03  7653769            2         3334            26162   \n",
       "7289   2018-09-03  7653769            3         3352            26220   \n",
       "7290   2018-09-03  7653769            4         3335            26340   \n",
       "7291   2018-09-03  7653769            5         3336            26460   \n",
       "\n",
       "      PLANNEDTIME_DEP  ACTUALTIME_ARR  ACTUALTIME_DEP  VEHICLEID  year  ...  \\\n",
       "7287            26100           26100           26100    1000766  2018  ...   \n",
       "7288            26162           26162           26162    1000766  2018  ...   \n",
       "7289            26220           26220           26220    1000766  2018  ...   \n",
       "7290            26340           26340           26340    1000766  2018  ...   \n",
       "7291            26460           26460           26460    1000766  2018  ...   \n",
       "\n",
       "                     id    trip_leave_id  LINEID  num_lineID DIRECTION  \\\n",
       "7287  20180903765376901  201809037653769     70D         113         2   \n",
       "7288  20180903765376902  201809037653769     70D         113         2   \n",
       "7289  20180903765376903  201809037653769     70D         113         2   \n",
       "7290  20180903765376904  201809037653769     70D         113         2   \n",
       "7291  20180903765376905  201809037653769     70D         113         2   \n",
       "\n",
       "      actual_duration  dayOfWeek  weekend  rushHour  actualARR_hour  \n",
       "7287             3021          0        0         0               7  \n",
       "7288             3021          0        0         0               7  \n",
       "7289             3021          0        0         0               7  \n",
       "7290             3021          0        0         0               7  \n",
       "7291             3021          0        0         0               7  \n",
       "\n",
       "[5 rows x 22 columns]"
      ]
     },
     "execution_count": 83,
     "metadata": {},
     "output_type": "execute_result"
    }
   ],
   "source": [
    "wk.head()"
   ]
  },
  {
   "cell_type": "code",
   "execution_count": 84,
   "id": "86d2c72b",
   "metadata": {},
   "outputs": [
    {
     "data": {
      "text/plain": [
       "(7986, 22)"
      ]
     },
     "execution_count": 84,
     "metadata": {},
     "output_type": "execute_result"
    }
   ],
   "source": [
    "wk.shape"
   ]
  },
  {
   "cell_type": "markdown",
   "id": "51be6963",
   "metadata": {},
   "source": [
    "<h3>Send to CSV</h3>"
   ]
  },
  {
   "cell_type": "code",
   "execution_count": 85,
   "id": "f67b4c51",
   "metadata": {},
   "outputs": [],
   "source": [
    "# Send df to csv:\n",
    "lwk.to_csv('v5_31D_tripLeave5_sp8.csv', index=False)"
   ]
  },
  {
   "cell_type": "markdown",
   "id": "868a29bc",
   "metadata": {},
   "source": [
    "## Route 70D"
   ]
  },
  {
   "cell_type": "code",
   "execution_count": 86,
   "id": "0b86b72a",
   "metadata": {},
   "outputs": [],
   "source": [
    "lwk = wk[(wk['LINEID'] == '70D')]"
   ]
  },
  {
   "cell_type": "code",
   "execution_count": 87,
   "id": "6e7237d7",
   "metadata": {},
   "outputs": [
    {
     "data": {
      "text/plain": [
       "(2430, 22)"
      ]
     },
     "execution_count": 87,
     "metadata": {},
     "output_type": "execute_result"
    }
   ],
   "source": [
    "lwk.shape"
   ]
  },
  {
   "cell_type": "code",
   "execution_count": 88,
   "id": "816a6c2a",
   "metadata": {},
   "outputs": [],
   "source": [
    "# Drop Route 70D rows from wk\n",
    "wk.drop(wk[wk['LINEID'] == '70D'].index, inplace = True)"
   ]
  },
  {
   "cell_type": "code",
   "execution_count": 89,
   "id": "8034db3f",
   "metadata": {},
   "outputs": [
    {
     "data": {
      "text/html": [
       "<div>\n",
       "<style scoped>\n",
       "    .dataframe tbody tr th:only-of-type {\n",
       "        vertical-align: middle;\n",
       "    }\n",
       "\n",
       "    .dataframe tbody tr th {\n",
       "        vertical-align: top;\n",
       "    }\n",
       "\n",
       "    .dataframe thead th {\n",
       "        text-align: right;\n",
       "    }\n",
       "</style>\n",
       "<table border=\"1\" class=\"dataframe\">\n",
       "  <thead>\n",
       "    <tr style=\"text-align: right;\">\n",
       "      <th></th>\n",
       "      <th>DAYOFSERVICE</th>\n",
       "      <th>TRIPID</th>\n",
       "      <th>PROGRNUMBER</th>\n",
       "      <th>STOPPOINTID</th>\n",
       "      <th>PLANNEDTIME_ARR</th>\n",
       "      <th>PLANNEDTIME_DEP</th>\n",
       "      <th>ACTUALTIME_ARR</th>\n",
       "      <th>ACTUALTIME_DEP</th>\n",
       "      <th>VEHICLEID</th>\n",
       "      <th>year</th>\n",
       "      <th>...</th>\n",
       "      <th>id</th>\n",
       "      <th>trip_leave_id</th>\n",
       "      <th>LINEID</th>\n",
       "      <th>num_lineID</th>\n",
       "      <th>DIRECTION</th>\n",
       "      <th>actual_duration</th>\n",
       "      <th>dayOfWeek</th>\n",
       "      <th>weekend</th>\n",
       "      <th>rushHour</th>\n",
       "      <th>actualARR_hour</th>\n",
       "    </tr>\n",
       "  </thead>\n",
       "  <tbody>\n",
       "    <tr>\n",
       "      <th>8334</th>\n",
       "      <td>2018-09-03</td>\n",
       "      <td>7659878</td>\n",
       "      <td>1</td>\n",
       "      <td>4747</td>\n",
       "      <td>25200</td>\n",
       "      <td>25200</td>\n",
       "      <td>25200</td>\n",
       "      <td>25200</td>\n",
       "      <td>1001166</td>\n",
       "      <td>2018</td>\n",
       "      <td>...</td>\n",
       "      <td>20180903765987801</td>\n",
       "      <td>201809037659878</td>\n",
       "      <td>236</td>\n",
       "      <td>34</td>\n",
       "      <td>1</td>\n",
       "      <td>1856</td>\n",
       "      <td>0</td>\n",
       "      <td>0</td>\n",
       "      <td>0</td>\n",
       "      <td>7</td>\n",
       "    </tr>\n",
       "    <tr>\n",
       "      <th>8335</th>\n",
       "      <td>2018-09-03</td>\n",
       "      <td>7659878</td>\n",
       "      <td>2</td>\n",
       "      <td>2960</td>\n",
       "      <td>25239</td>\n",
       "      <td>25239</td>\n",
       "      <td>25239</td>\n",
       "      <td>25239</td>\n",
       "      <td>1001166</td>\n",
       "      <td>2018</td>\n",
       "      <td>...</td>\n",
       "      <td>20180903765987802</td>\n",
       "      <td>201809037659878</td>\n",
       "      <td>236</td>\n",
       "      <td>34</td>\n",
       "      <td>1</td>\n",
       "      <td>1856</td>\n",
       "      <td>0</td>\n",
       "      <td>0</td>\n",
       "      <td>0</td>\n",
       "      <td>7</td>\n",
       "    </tr>\n",
       "    <tr>\n",
       "      <th>8336</th>\n",
       "      <td>2018-09-03</td>\n",
       "      <td>7659878</td>\n",
       "      <td>3</td>\n",
       "      <td>1545</td>\n",
       "      <td>25285</td>\n",
       "      <td>25285</td>\n",
       "      <td>25285</td>\n",
       "      <td>25285</td>\n",
       "      <td>1001166</td>\n",
       "      <td>2018</td>\n",
       "      <td>...</td>\n",
       "      <td>20180903765987803</td>\n",
       "      <td>201809037659878</td>\n",
       "      <td>236</td>\n",
       "      <td>34</td>\n",
       "      <td>1</td>\n",
       "      <td>1856</td>\n",
       "      <td>0</td>\n",
       "      <td>0</td>\n",
       "      <td>0</td>\n",
       "      <td>7</td>\n",
       "    </tr>\n",
       "    <tr>\n",
       "      <th>8337</th>\n",
       "      <td>2018-09-03</td>\n",
       "      <td>7659878</td>\n",
       "      <td>4</td>\n",
       "      <td>1816</td>\n",
       "      <td>25352</td>\n",
       "      <td>25352</td>\n",
       "      <td>25352</td>\n",
       "      <td>25352</td>\n",
       "      <td>1001166</td>\n",
       "      <td>2018</td>\n",
       "      <td>...</td>\n",
       "      <td>20180903765987804</td>\n",
       "      <td>201809037659878</td>\n",
       "      <td>236</td>\n",
       "      <td>34</td>\n",
       "      <td>1</td>\n",
       "      <td>1856</td>\n",
       "      <td>0</td>\n",
       "      <td>0</td>\n",
       "      <td>0</td>\n",
       "      <td>7</td>\n",
       "    </tr>\n",
       "    <tr>\n",
       "      <th>8338</th>\n",
       "      <td>2018-09-03</td>\n",
       "      <td>7659878</td>\n",
       "      <td>5</td>\n",
       "      <td>6171</td>\n",
       "      <td>25402</td>\n",
       "      <td>25402</td>\n",
       "      <td>25402</td>\n",
       "      <td>25402</td>\n",
       "      <td>1001166</td>\n",
       "      <td>2018</td>\n",
       "      <td>...</td>\n",
       "      <td>20180903765987805</td>\n",
       "      <td>201809037659878</td>\n",
       "      <td>236</td>\n",
       "      <td>34</td>\n",
       "      <td>1</td>\n",
       "      <td>1856</td>\n",
       "      <td>0</td>\n",
       "      <td>0</td>\n",
       "      <td>0</td>\n",
       "      <td>7</td>\n",
       "    </tr>\n",
       "  </tbody>\n",
       "</table>\n",
       "<p>5 rows × 22 columns</p>\n",
       "</div>"
      ],
      "text/plain": [
       "     DAYOFSERVICE   TRIPID  PROGRNUMBER  STOPPOINTID  PLANNEDTIME_ARR  \\\n",
       "8334   2018-09-03  7659878            1         4747            25200   \n",
       "8335   2018-09-03  7659878            2         2960            25239   \n",
       "8336   2018-09-03  7659878            3         1545            25285   \n",
       "8337   2018-09-03  7659878            4         1816            25352   \n",
       "8338   2018-09-03  7659878            5         6171            25402   \n",
       "\n",
       "      PLANNEDTIME_DEP  ACTUALTIME_ARR  ACTUALTIME_DEP  VEHICLEID  year  ...  \\\n",
       "8334            25200           25200           25200    1001166  2018  ...   \n",
       "8335            25239           25239           25239    1001166  2018  ...   \n",
       "8336            25285           25285           25285    1001166  2018  ...   \n",
       "8337            25352           25352           25352    1001166  2018  ...   \n",
       "8338            25402           25402           25402    1001166  2018  ...   \n",
       "\n",
       "                     id    trip_leave_id  LINEID  num_lineID DIRECTION  \\\n",
       "8334  20180903765987801  201809037659878     236          34         1   \n",
       "8335  20180903765987802  201809037659878     236          34         1   \n",
       "8336  20180903765987803  201809037659878     236          34         1   \n",
       "8337  20180903765987804  201809037659878     236          34         1   \n",
       "8338  20180903765987805  201809037659878     236          34         1   \n",
       "\n",
       "      actual_duration  dayOfWeek  weekend  rushHour  actualARR_hour  \n",
       "8334             1856          0        0         0               7  \n",
       "8335             1856          0        0         0               7  \n",
       "8336             1856          0        0         0               7  \n",
       "8337             1856          0        0         0               7  \n",
       "8338             1856          0        0         0               7  \n",
       "\n",
       "[5 rows x 22 columns]"
      ]
     },
     "execution_count": 89,
     "metadata": {},
     "output_type": "execute_result"
    }
   ],
   "source": [
    "wk.head()"
   ]
  },
  {
   "cell_type": "code",
   "execution_count": 90,
   "id": "8f56a08c",
   "metadata": {},
   "outputs": [
    {
     "data": {
      "text/plain": [
       "(5556, 22)"
      ]
     },
     "execution_count": 90,
     "metadata": {},
     "output_type": "execute_result"
    }
   ],
   "source": [
    "wk.shape"
   ]
  },
  {
   "cell_type": "markdown",
   "id": "4ebceb8a",
   "metadata": {},
   "source": [
    "<h3>Send to CSV</h3>"
   ]
  },
  {
   "cell_type": "code",
   "execution_count": 91,
   "id": "11c254f2",
   "metadata": {},
   "outputs": [],
   "source": [
    "# Send df to csv:\n",
    "lwk.to_csv('v5_70D_tripLeave5_sp8.csv', index=False)"
   ]
  },
  {
   "cell_type": "markdown",
   "id": "771fedce",
   "metadata": {},
   "source": [
    "## Route 236"
   ]
  },
  {
   "cell_type": "code",
   "execution_count": 92,
   "id": "439a324e",
   "metadata": {},
   "outputs": [],
   "source": [
    "lwk = wk[(wk['LINEID'] == '236')]"
   ]
  },
  {
   "cell_type": "code",
   "execution_count": 93,
   "id": "f3611ec3",
   "metadata": {},
   "outputs": [
    {
     "data": {
      "text/plain": [
       "(5556, 22)"
      ]
     },
     "execution_count": 93,
     "metadata": {},
     "output_type": "execute_result"
    }
   ],
   "source": [
    "lwk.shape"
   ]
  },
  {
   "cell_type": "code",
   "execution_count": 94,
   "id": "9538fd38",
   "metadata": {},
   "outputs": [],
   "source": [
    "# Drop Route 236 rows from wk\n",
    "wk.drop(wk[wk['LINEID'] == '236'].index, inplace = True)"
   ]
  },
  {
   "cell_type": "code",
   "execution_count": 95,
   "id": "fbf7be4c",
   "metadata": {},
   "outputs": [
    {
     "data": {
      "text/html": [
       "<div>\n",
       "<style scoped>\n",
       "    .dataframe tbody tr th:only-of-type {\n",
       "        vertical-align: middle;\n",
       "    }\n",
       "\n",
       "    .dataframe tbody tr th {\n",
       "        vertical-align: top;\n",
       "    }\n",
       "\n",
       "    .dataframe thead th {\n",
       "        text-align: right;\n",
       "    }\n",
       "</style>\n",
       "<table border=\"1\" class=\"dataframe\">\n",
       "  <thead>\n",
       "    <tr style=\"text-align: right;\">\n",
       "      <th></th>\n",
       "      <th>DAYOFSERVICE</th>\n",
       "      <th>TRIPID</th>\n",
       "      <th>PROGRNUMBER</th>\n",
       "      <th>STOPPOINTID</th>\n",
       "      <th>PLANNEDTIME_ARR</th>\n",
       "      <th>PLANNEDTIME_DEP</th>\n",
       "      <th>ACTUALTIME_ARR</th>\n",
       "      <th>ACTUALTIME_DEP</th>\n",
       "      <th>VEHICLEID</th>\n",
       "      <th>year</th>\n",
       "      <th>...</th>\n",
       "      <th>id</th>\n",
       "      <th>trip_leave_id</th>\n",
       "      <th>LINEID</th>\n",
       "      <th>num_lineID</th>\n",
       "      <th>DIRECTION</th>\n",
       "      <th>actual_duration</th>\n",
       "      <th>dayOfWeek</th>\n",
       "      <th>weekend</th>\n",
       "      <th>rushHour</th>\n",
       "      <th>actualARR_hour</th>\n",
       "    </tr>\n",
       "  </thead>\n",
       "  <tbody>\n",
       "  </tbody>\n",
       "</table>\n",
       "<p>0 rows × 22 columns</p>\n",
       "</div>"
      ],
      "text/plain": [
       "Empty DataFrame\n",
       "Columns: [DAYOFSERVICE, TRIPID, PROGRNUMBER, STOPPOINTID, PLANNEDTIME_ARR, PLANNEDTIME_DEP, ACTUALTIME_ARR, ACTUALTIME_DEP, VEHICLEID, year, month, day, id, trip_leave_id, LINEID, num_lineID, DIRECTION, actual_duration, dayOfWeek, weekend, rushHour, actualARR_hour]\n",
       "Index: []\n",
       "\n",
       "[0 rows x 22 columns]"
      ]
     },
     "execution_count": 95,
     "metadata": {},
     "output_type": "execute_result"
    }
   ],
   "source": [
    "wk.head()"
   ]
  },
  {
   "cell_type": "code",
   "execution_count": 96,
   "id": "fea85771",
   "metadata": {},
   "outputs": [
    {
     "data": {
      "text/plain": [
       "(0, 22)"
      ]
     },
     "execution_count": 96,
     "metadata": {},
     "output_type": "execute_result"
    }
   ],
   "source": [
    "wk.shape"
   ]
  },
  {
   "cell_type": "markdown",
   "id": "325fea57",
   "metadata": {},
   "source": [
    "<h3>Send to CSV</h3>"
   ]
  },
  {
   "cell_type": "code",
   "execution_count": 97,
   "id": "ceda339b",
   "metadata": {},
   "outputs": [],
   "source": [
    "# Send df to csv:\n",
    "lwk.to_csv('v5_236_tripLeave5_sp8.csv', index=False)"
   ]
  },
  {
   "cell_type": "markdown",
   "id": "86b5f4b7",
   "metadata": {},
   "source": [
    "## Route 41X"
   ]
  },
  {
   "cell_type": "code",
   "execution_count": null,
   "id": "f0f742b0",
   "metadata": {},
   "outputs": [],
   "source": [
    "lwk = wk[(wk['LINEID'] == '41X')]"
   ]
  },
  {
   "cell_type": "code",
   "execution_count": null,
   "id": "631b7a20",
   "metadata": {},
   "outputs": [],
   "source": [
    "lwk.shape"
   ]
  },
  {
   "cell_type": "code",
   "execution_count": null,
   "id": "ac78354c",
   "metadata": {},
   "outputs": [],
   "source": [
    "# Drop Route 41X rows from wk\n",
    "wk.drop(wk[wk['LINEID'] == '41X'].index, inplace = True)"
   ]
  },
  {
   "cell_type": "code",
   "execution_count": null,
   "id": "c9470d40",
   "metadata": {},
   "outputs": [],
   "source": [
    "wk.head()"
   ]
  },
  {
   "cell_type": "code",
   "execution_count": null,
   "id": "ab362154",
   "metadata": {},
   "outputs": [],
   "source": [
    "wk.shape"
   ]
  },
  {
   "cell_type": "markdown",
   "id": "6589fd12",
   "metadata": {},
   "source": [
    "<h3>Send to CSV</h3>"
   ]
  },
  {
   "cell_type": "code",
   "execution_count": null,
   "id": "073558bd",
   "metadata": {},
   "outputs": [],
   "source": [
    "# Send df to csv:\n",
    "lwk.to_csv('v5_41X_tripLeave5_sp8.csv', index=False)"
   ]
  },
  {
   "cell_type": "markdown",
   "id": "3469b22f",
   "metadata": {},
   "source": [
    "## Route 31B"
   ]
  },
  {
   "cell_type": "code",
   "execution_count": null,
   "id": "d8c02809",
   "metadata": {},
   "outputs": [],
   "source": [
    "lwk = wk[(wk['LINEID'] == '31B')]"
   ]
  },
  {
   "cell_type": "code",
   "execution_count": null,
   "id": "41617c49",
   "metadata": {},
   "outputs": [],
   "source": [
    "lwk.shape"
   ]
  },
  {
   "cell_type": "code",
   "execution_count": null,
   "id": "27ff399a",
   "metadata": {},
   "outputs": [],
   "source": [
    "# Drop Route 31B rows from wk\n",
    "wk.drop(wk[wk['LINEID'] == '31B'].index, inplace = True)"
   ]
  },
  {
   "cell_type": "code",
   "execution_count": null,
   "id": "288aaa19",
   "metadata": {},
   "outputs": [],
   "source": [
    "wk.head()"
   ]
  },
  {
   "cell_type": "code",
   "execution_count": null,
   "id": "3c62176b",
   "metadata": {},
   "outputs": [],
   "source": [
    "wk.shape"
   ]
  },
  {
   "cell_type": "markdown",
   "id": "4151ec7a",
   "metadata": {},
   "source": [
    "<h3>Send to CSV</h3>"
   ]
  },
  {
   "cell_type": "code",
   "execution_count": null,
   "id": "5407d6cc",
   "metadata": {},
   "outputs": [],
   "source": [
    "# Send df to csv:\n",
    "lwk.to_csv('v5_31B_tripLeave5_sp8.csv', index=False)"
   ]
  },
  {
   "cell_type": "markdown",
   "id": "621c727d",
   "metadata": {},
   "source": [
    "## Route 14C"
   ]
  },
  {
   "cell_type": "code",
   "execution_count": null,
   "id": "afe67f5d",
   "metadata": {},
   "outputs": [],
   "source": [
    "lwk = wk[(wk['LINEID'] == '14C')]"
   ]
  },
  {
   "cell_type": "code",
   "execution_count": null,
   "id": "cba22090",
   "metadata": {},
   "outputs": [],
   "source": [
    "lwk.shape"
   ]
  },
  {
   "cell_type": "code",
   "execution_count": null,
   "id": "1508ac1d",
   "metadata": {},
   "outputs": [],
   "source": [
    "# Drop Route 14C rows from wk\n",
    "wk.drop(wk[wk['LINEID'] == '14C'].index, inplace = True)"
   ]
  },
  {
   "cell_type": "code",
   "execution_count": null,
   "id": "21d2e6ea",
   "metadata": {},
   "outputs": [],
   "source": [
    "wk.head()"
   ]
  },
  {
   "cell_type": "code",
   "execution_count": null,
   "id": "4a7cec71",
   "metadata": {},
   "outputs": [],
   "source": [
    "wk.shape"
   ]
  },
  {
   "cell_type": "markdown",
   "id": "381660d2",
   "metadata": {},
   "source": [
    "<h3>Send to CSV</h3>"
   ]
  },
  {
   "cell_type": "code",
   "execution_count": null,
   "id": "96683213",
   "metadata": {},
   "outputs": [],
   "source": [
    "# Send df to csv:\n",
    "lwk.to_csv('v5_14C_tripLeave5_sp8.csv', index=False)"
   ]
  },
  {
   "cell_type": "markdown",
   "id": "e082232a",
   "metadata": {},
   "source": [
    "## Continue v5_tripLeave5_route_split_9"
   ]
  },
  {
   "cell_type": "code",
   "execution_count": null,
   "id": "647c1774",
   "metadata": {},
   "outputs": [],
   "source": [
    "# Send df to csv:\n",
    "wk.to_csv('v5_tripLeave5_route_split_9.csv', index=False)"
   ]
  },
  {
   "cell_type": "code",
   "execution_count": null,
   "id": "c4a5925f",
   "metadata": {},
   "outputs": [],
   "source": []
  }
 ],
 "metadata": {
  "kernelspec": {
   "display_name": "Python 3 (ipykernel)",
   "language": "python",
   "name": "python3"
  },
  "language_info": {
   "codemirror_mode": {
    "name": "ipython",
    "version": 3
   },
   "file_extension": ".py",
   "mimetype": "text/x-python",
   "name": "python",
   "nbconvert_exporter": "python",
   "pygments_lexer": "ipython3",
   "version": "3.10.4"
  }
 },
 "nbformat": 4,
 "nbformat_minor": 5
}
