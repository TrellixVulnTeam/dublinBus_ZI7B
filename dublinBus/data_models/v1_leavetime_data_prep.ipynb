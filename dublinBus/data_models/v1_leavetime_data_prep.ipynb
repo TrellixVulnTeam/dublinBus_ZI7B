{
 "cells": [
  {
   "cell_type": "code",
   "execution_count": 1,
   "id": "95f4efee",
   "metadata": {},
   "outputs": [],
   "source": [
    "# Library Imports.\n",
    "import pandas as pd\n",
    "import matplotlib.pyplot as plt\n",
    "import numpy as np\n",
    "from matplotlib.backends.backend_pdf import PdfPages\n",
    "import seaborn as sns\n",
    "\n",
    "# Allows plots to appear directly in the notebook.\n",
    "%matplotlib inline\n",
    "\n",
    "from sklearn.linear_model import LinearRegression\n",
    "from sklearn.model_selection import train_test_split\n",
    "from sklearn.tree import DecisionTreeRegressor\n",
    "from sklearn import tree\n",
    "from sklearn.ensemble import RandomForestRegressor\n",
    "from sklearn import metrics\n",
    "from sklearn.model_selection import cross_validate\n",
    "from sklearn.model_selection import cross_val_score "
   ]
  },
  {
   "cell_type": "code",
   "execution_count": 2,
   "id": "19d05c55",
   "metadata": {},
   "outputs": [],
   "source": [
    "chunk = pd.read_csv('v0b_dtypes_LT_2018.csv', delimiter = ',',chunksize=1000000)\n",
    "\n",
    "leave = pd.concat(chunk)"
   ]
  },
  {
   "cell_type": "code",
   "execution_count": 3,
   "id": "9681ff54",
   "metadata": {},
   "outputs": [
    {
     "data": {
      "text/html": [
       "<div>\n",
       "<style scoped>\n",
       "    .dataframe tbody tr th:only-of-type {\n",
       "        vertical-align: middle;\n",
       "    }\n",
       "\n",
       "    .dataframe tbody tr th {\n",
       "        vertical-align: top;\n",
       "    }\n",
       "\n",
       "    .dataframe thead th {\n",
       "        text-align: right;\n",
       "    }\n",
       "</style>\n",
       "<table border=\"1\" class=\"dataframe\">\n",
       "  <thead>\n",
       "    <tr style=\"text-align: right;\">\n",
       "      <th></th>\n",
       "      <th>DATASOURCE</th>\n",
       "      <th>DAYOFSERVICE</th>\n",
       "      <th>TRIPID</th>\n",
       "      <th>PROGRNUMBER</th>\n",
       "      <th>STOPPOINTID</th>\n",
       "      <th>PLANNEDTIME_ARR</th>\n",
       "      <th>PLANNEDTIME_DEP</th>\n",
       "      <th>ACTUALTIME_ARR</th>\n",
       "      <th>ACTUALTIME_DEP</th>\n",
       "      <th>VEHICLEID</th>\n",
       "      <th>SUPPRESSED</th>\n",
       "      <th>JUSTIFICATIONID</th>\n",
       "      <th>LASTUPDATE</th>\n",
       "    </tr>\n",
       "  </thead>\n",
       "  <tbody>\n",
       "    <tr>\n",
       "      <th>0</th>\n",
       "      <td>DB</td>\n",
       "      <td>01-JAN-18 00:00:00</td>\n",
       "      <td>5972116</td>\n",
       "      <td>12</td>\n",
       "      <td>119</td>\n",
       "      <td>48030</td>\n",
       "      <td>48030</td>\n",
       "      <td>48012</td>\n",
       "      <td>48012</td>\n",
       "      <td>2693211</td>\n",
       "      <td>NaN</td>\n",
       "      <td>NaN</td>\n",
       "      <td>08-JAN-18 17:21:10</td>\n",
       "    </tr>\n",
       "    <tr>\n",
       "      <th>1</th>\n",
       "      <td>DB</td>\n",
       "      <td>01-JAN-18 00:00:00</td>\n",
       "      <td>5966674</td>\n",
       "      <td>12</td>\n",
       "      <td>119</td>\n",
       "      <td>54001</td>\n",
       "      <td>54001</td>\n",
       "      <td>54023</td>\n",
       "      <td>54023</td>\n",
       "      <td>2693267</td>\n",
       "      <td>NaN</td>\n",
       "      <td>NaN</td>\n",
       "      <td>08-JAN-18 17:21:10</td>\n",
       "    </tr>\n",
       "    <tr>\n",
       "      <th>2</th>\n",
       "      <td>DB</td>\n",
       "      <td>01-JAN-18 00:00:00</td>\n",
       "      <td>5959105</td>\n",
       "      <td>12</td>\n",
       "      <td>119</td>\n",
       "      <td>60001</td>\n",
       "      <td>60001</td>\n",
       "      <td>59955</td>\n",
       "      <td>59955</td>\n",
       "      <td>2693263</td>\n",
       "      <td>NaN</td>\n",
       "      <td>NaN</td>\n",
       "      <td>08-JAN-18 17:21:10</td>\n",
       "    </tr>\n",
       "    <tr>\n",
       "      <th>3</th>\n",
       "      <td>DB</td>\n",
       "      <td>01-JAN-18 00:00:00</td>\n",
       "      <td>5966888</td>\n",
       "      <td>12</td>\n",
       "      <td>119</td>\n",
       "      <td>58801</td>\n",
       "      <td>58801</td>\n",
       "      <td>58771</td>\n",
       "      <td>58771</td>\n",
       "      <td>2693284</td>\n",
       "      <td>NaN</td>\n",
       "      <td>NaN</td>\n",
       "      <td>08-JAN-18 17:21:10</td>\n",
       "    </tr>\n",
       "    <tr>\n",
       "      <th>4</th>\n",
       "      <td>DB</td>\n",
       "      <td>01-JAN-18 00:00:00</td>\n",
       "      <td>5965960</td>\n",
       "      <td>12</td>\n",
       "      <td>119</td>\n",
       "      <td>56401</td>\n",
       "      <td>56401</td>\n",
       "      <td>56309</td>\n",
       "      <td>56323</td>\n",
       "      <td>2693209</td>\n",
       "      <td>NaN</td>\n",
       "      <td>NaN</td>\n",
       "      <td>08-JAN-18 17:21:10</td>\n",
       "    </tr>\n",
       "  </tbody>\n",
       "</table>\n",
       "</div>"
      ],
      "text/plain": [
       "  DATASOURCE        DAYOFSERVICE   TRIPID  PROGRNUMBER  STOPPOINTID  \\\n",
       "0         DB  01-JAN-18 00:00:00  5972116           12          119   \n",
       "1         DB  01-JAN-18 00:00:00  5966674           12          119   \n",
       "2         DB  01-JAN-18 00:00:00  5959105           12          119   \n",
       "3         DB  01-JAN-18 00:00:00  5966888           12          119   \n",
       "4         DB  01-JAN-18 00:00:00  5965960           12          119   \n",
       "\n",
       "   PLANNEDTIME_ARR  PLANNEDTIME_DEP  ACTUALTIME_ARR  ACTUALTIME_DEP  \\\n",
       "0            48030            48030           48012           48012   \n",
       "1            54001            54001           54023           54023   \n",
       "2            60001            60001           59955           59955   \n",
       "3            58801            58801           58771           58771   \n",
       "4            56401            56401           56309           56323   \n",
       "\n",
       "   VEHICLEID  SUPPRESSED  JUSTIFICATIONID          LASTUPDATE  \n",
       "0    2693211         NaN              NaN  08-JAN-18 17:21:10  \n",
       "1    2693267         NaN              NaN  08-JAN-18 17:21:10  \n",
       "2    2693263         NaN              NaN  08-JAN-18 17:21:10  \n",
       "3    2693284         NaN              NaN  08-JAN-18 17:21:10  \n",
       "4    2693209         NaN              NaN  08-JAN-18 17:21:10  "
      ]
     },
     "execution_count": 3,
     "metadata": {},
     "output_type": "execute_result"
    }
   ],
   "source": [
    "leave.head()"
   ]
  },
  {
   "cell_type": "code",
   "execution_count": 4,
   "id": "e2b4a81f",
   "metadata": {},
   "outputs": [
    {
     "data": {
      "text/plain": [
       "(116799395, 13)"
      ]
     },
     "execution_count": 4,
     "metadata": {},
     "output_type": "execute_result"
    }
   ],
   "source": [
    "leave.shape"
   ]
  },
  {
   "cell_type": "code",
   "execution_count": 5,
   "id": "3a3ae7ac",
   "metadata": {},
   "outputs": [
    {
     "data": {
      "text/plain": [
       "DATASOURCE          object\n",
       "DAYOFSERVICE        object\n",
       "TRIPID               int64\n",
       "PROGRNUMBER          int64\n",
       "STOPPOINTID          int64\n",
       "PLANNEDTIME_ARR      int64\n",
       "PLANNEDTIME_DEP      int64\n",
       "ACTUALTIME_ARR       int64\n",
       "ACTUALTIME_DEP       int64\n",
       "VEHICLEID            int64\n",
       "SUPPRESSED         float64\n",
       "JUSTIFICATIONID    float64\n",
       "LASTUPDATE          object\n",
       "dtype: object"
      ]
     },
     "execution_count": 5,
     "metadata": {},
     "output_type": "execute_result"
    }
   ],
   "source": [
    "leave.dtypes"
   ]
  },
  {
   "cell_type": "markdown",
   "id": "bc58f69e",
   "metadata": {},
   "source": [
    "<h3>Changing Data Types to make size of leave dataframe smaller</h3>"
   ]
  },
  {
   "cell_type": "code",
   "execution_count": 6,
   "id": "9829b00c",
   "metadata": {},
   "outputs": [],
   "source": [
    "leave['TRIPID'] = leave['TRIPID'].astype('int32')"
   ]
  },
  {
   "cell_type": "code",
   "execution_count": 7,
   "id": "2749e26e",
   "metadata": {},
   "outputs": [],
   "source": [
    "leave['PROGRNUMBER'] = leave['PROGRNUMBER'].astype('int32')"
   ]
  },
  {
   "cell_type": "code",
   "execution_count": 8,
   "id": "182dbb4f",
   "metadata": {},
   "outputs": [],
   "source": [
    "leave['STOPPOINTID'] = leave['STOPPOINTID'].astype('int32')"
   ]
  },
  {
   "cell_type": "code",
   "execution_count": 9,
   "id": "b6f3ed3a",
   "metadata": {},
   "outputs": [],
   "source": [
    "leave['PLANNEDTIME_ARR'] = leave['PLANNEDTIME_ARR'].astype('int32')"
   ]
  },
  {
   "cell_type": "code",
   "execution_count": 10,
   "id": "b5e8e57c",
   "metadata": {},
   "outputs": [],
   "source": [
    "leave['PLANNEDTIME_DEP'] = leave['PLANNEDTIME_DEP'].astype('int32')"
   ]
  },
  {
   "cell_type": "code",
   "execution_count": 11,
   "id": "f80c1493",
   "metadata": {},
   "outputs": [],
   "source": [
    "leave['VEHICLEID'] = leave['VEHICLEID'].astype('int32')"
   ]
  },
  {
   "cell_type": "code",
   "execution_count": 13,
   "id": "f405d65e",
   "metadata": {},
   "outputs": [],
   "source": [
    "leave['SUPPRESSED'] = leave['SUPPRESSED'].astype('float32')"
   ]
  },
  {
   "cell_type": "code",
   "execution_count": 14,
   "id": "70530432",
   "metadata": {},
   "outputs": [],
   "source": [
    "leave['JUSTIFICATIONID'] = leave['JUSTIFICATIONID'].astype('float32')"
   ]
  },
  {
   "cell_type": "code",
   "execution_count": 15,
   "id": "b7c3d934",
   "metadata": {},
   "outputs": [
    {
     "data": {
      "text/plain": [
       "DATASOURCE          object\n",
       "DAYOFSERVICE        object\n",
       "TRIPID               int32\n",
       "PROGRNUMBER          int32\n",
       "STOPPOINTID          int32\n",
       "PLANNEDTIME_ARR      int32\n",
       "PLANNEDTIME_DEP      int32\n",
       "ACTUALTIME_ARR       int64\n",
       "ACTUALTIME_DEP       int64\n",
       "VEHICLEID            int32\n",
       "SUPPRESSED         float32\n",
       "JUSTIFICATIONID    float32\n",
       "LASTUPDATE          object\n",
       "dtype: object"
      ]
     },
     "execution_count": 15,
     "metadata": {},
     "output_type": "execute_result"
    }
   ],
   "source": [
    "leave.dtypes"
   ]
  },
  {
   "cell_type": "markdown",
   "id": "fe1b5bc7",
   "metadata": {},
   "source": [
    "- Test 3: Check that no rows have justification IDs: <br>\n",
    "&nbsp;- 438869 failed (.38% with faults), need to drop these rows. <br>"
   ]
  },
  {
   "cell_type": "code",
   "execution_count": 16,
   "id": "128c8be3",
   "metadata": {},
   "outputs": [
    {
     "name": "stdout",
     "output_type": "stream",
     "text": [
      "Number of rows failing test:  438869\n"
     ]
    }
   ],
   "source": [
    "test_3 = leave.JUSTIFICATIONID [leave.JUSTIFICATIONID.notnull()]\n",
    "print('Number of rows failing test: ', test_3.shape[0])"
   ]
  },
  {
   "cell_type": "code",
   "execution_count": 17,
   "id": "d95b4c1a",
   "metadata": {},
   "outputs": [],
   "source": [
    "# Drop rows that have justification codes\n",
    "leave.drop(leave[leave.JUSTIFICATIONID.notnull()].index, inplace = True)"
   ]
  },
  {
   "cell_type": "code",
   "execution_count": 18,
   "id": "584969eb",
   "metadata": {},
   "outputs": [
    {
     "data": {
      "text/plain": [
       "(116360526, 13)"
      ]
     },
     "execution_count": 18,
     "metadata": {},
     "output_type": "execute_result"
    }
   ],
   "source": [
    "leave.shape"
   ]
  },
  {
   "cell_type": "code",
   "execution_count": 19,
   "id": "bcb25dce",
   "metadata": {},
   "outputs": [],
   "source": [
    "# Send df to csv:\n",
    "leave.to_csv('v1_dtypes_LT_2018.csv', index=False)"
   ]
  },
  {
   "cell_type": "markdown",
   "id": "110fda3e",
   "metadata": {},
   "source": [
    "- Test 4: Check that Datasource columns is not constant: <br>\n",
    "&nbsp;- All rows failed. <br>"
   ]
  },
  {
   "cell_type": "code",
   "execution_count": 20,
   "id": "469848dd",
   "metadata": {},
   "outputs": [
    {
     "data": {
      "text/plain": [
       "DB    116360526\n",
       "Name: DATASOURCE, dtype: int64"
      ]
     },
     "execution_count": 20,
     "metadata": {},
     "output_type": "execute_result"
    }
   ],
   "source": [
    "leave.DATASOURCE.value_counts()"
   ]
  },
  {
   "cell_type": "code",
   "execution_count": 21,
   "id": "128d0e3a",
   "metadata": {},
   "outputs": [],
   "source": [
    "# Drop DATASOURCE column:\n",
    "\n",
    "leave.drop('DATASOURCE', axis=1, inplace=True)"
   ]
  },
  {
   "cell_type": "markdown",
   "id": "5b5ea22a",
   "metadata": {},
   "source": [
    "- Test 5: Check that SUPPRESSED column is not constant: <br>\n",
    "&nbsp;- All rows failed (zero of NaN). <br>"
   ]
  },
  {
   "cell_type": "code",
   "execution_count": 23,
   "id": "28f4b281",
   "metadata": {},
   "outputs": [
    {
     "data": {
      "text/plain": [
       "0.0    73\n",
       "Name: SUPPRESSED, dtype: int64"
      ]
     },
     "execution_count": 23,
     "metadata": {},
     "output_type": "execute_result"
    }
   ],
   "source": [
    "leave.SUPPRESSED.value_counts()"
   ]
  },
  {
   "cell_type": "code",
   "execution_count": 24,
   "id": "647aace2",
   "metadata": {},
   "outputs": [],
   "source": [
    "# Drop SUPPRESSED column:\n",
    "\n",
    "leave.drop('SUPPRESSED', axis=1, inplace=True)"
   ]
  },
  {
   "cell_type": "markdown",
   "id": "64e938fd",
   "metadata": {},
   "source": [
    "- Test 6: Check that JUSTIFICATIONID column is not constant: <br>\n",
    "&nbsp;- All rows failed (NaN). <br>"
   ]
  },
  {
   "cell_type": "code",
   "execution_count": 26,
   "id": "106eae0e",
   "metadata": {},
   "outputs": [
    {
     "data": {
      "text/plain": [
       "Series([], Name: JUSTIFICATIONID, dtype: int64)"
      ]
     },
     "execution_count": 26,
     "metadata": {},
     "output_type": "execute_result"
    }
   ],
   "source": [
    "leave.JUSTIFICATIONID.value_counts()"
   ]
  },
  {
   "cell_type": "code",
   "execution_count": 27,
   "id": "8c843aa2",
   "metadata": {},
   "outputs": [],
   "source": [
    "# Drop JUSTIFICATIONID column:\n",
    "\n",
    "leave.drop('JUSTIFICATIONID', axis=1, inplace=True)"
   ]
  },
  {
   "cell_type": "code",
   "execution_count": 29,
   "id": "5847d07c",
   "metadata": {},
   "outputs": [
    {
     "data": {
      "text/plain": [
       "(116360526, 10)"
      ]
     },
     "execution_count": 29,
     "metadata": {},
     "output_type": "execute_result"
    }
   ],
   "source": [
    "leave.shape"
   ]
  },
  {
   "cell_type": "code",
   "execution_count": 30,
   "id": "cbaa2cb3",
   "metadata": {},
   "outputs": [],
   "source": [
    "# Send df to csv:\n",
    "leave.to_csv('v1a_dtypes_LT_2018.csv', index=False)"
   ]
  },
  {
   "cell_type": "markdown",
   "id": "d134e50c",
   "metadata": {},
   "source": [
    "- Test 7: Check for PLANNEDTIME_ARR values are not negative: <br>\n",
    "&nbsp;- All rows passed. <br>"
   ]
  },
  {
   "cell_type": "code",
   "execution_count": 31,
   "id": "baf8833b",
   "metadata": {},
   "outputs": [
    {
     "name": "stdout",
     "output_type": "stream",
     "text": [
      "Number of rows failing test:  0\n"
     ]
    }
   ],
   "source": [
    "test_7 = leave.PLANNEDTIME_ARR [leave.PLANNEDTIME_ARR < 0]\n",
    "print('Number of rows failing test: ', test_7.shape[0])"
   ]
  },
  {
   "cell_type": "markdown",
   "id": "708206c9",
   "metadata": {},
   "source": [
    "- Test 8: Check for PLANNEDTIME_DEP values are not negative: <br>\n",
    "&nbsp;- All rows passed. <br>"
   ]
  },
  {
   "cell_type": "code",
   "execution_count": 32,
   "id": "84b96ec0",
   "metadata": {},
   "outputs": [
    {
     "name": "stdout",
     "output_type": "stream",
     "text": [
      "Number of rows failing test:  0\n"
     ]
    }
   ],
   "source": [
    "test_8 = leave.PLANNEDTIME_DEP [leave.PLANNEDTIME_DEP < 0]\n",
    "print('Number of rows failing test: ', test_8.shape[0])"
   ]
  },
  {
   "cell_type": "markdown",
   "id": "62c3a383",
   "metadata": {},
   "source": [
    "- Test 9: Check for ACTUALTIME_ARR values are not negative: <br>\n",
    "&nbsp;- All rows passed. <br>"
   ]
  },
  {
   "cell_type": "code",
   "execution_count": 33,
   "id": "7e6479dc",
   "metadata": {},
   "outputs": [
    {
     "name": "stdout",
     "output_type": "stream",
     "text": [
      "Number of rows failing test:  0\n"
     ]
    }
   ],
   "source": [
    "test_9 = leave.ACTUALTIME_ARR [leave.ACTUALTIME_ARR < 0]\n",
    "print('Number of rows failing test: ', test_9.shape[0])"
   ]
  },
  {
   "cell_type": "markdown",
   "id": "20e86001",
   "metadata": {},
   "source": [
    "- Test 10: Check for ACTUALTIME_DEP values are not negative: <br>\n",
    "&nbsp;- All rows passed. <br>"
   ]
  },
  {
   "cell_type": "code",
   "execution_count": 34,
   "id": "4fb5866f",
   "metadata": {},
   "outputs": [
    {
     "name": "stdout",
     "output_type": "stream",
     "text": [
      "Number of rows failing test:  0\n"
     ]
    }
   ],
   "source": [
    "test_10 = leave.ACTUALTIME_DEP [leave.ACTUALTIME_DEP < 0]\n",
    "print('Number of rows failing test: ', test_10.shape[0])"
   ]
  },
  {
   "cell_type": "markdown",
   "id": "44d2fb9b",
   "metadata": {},
   "source": [
    "- Test 11: Check for ACTUALTIME_ARR values are not missing: <br>\n",
    "&nbsp;- All rows passed. <br>"
   ]
  },
  {
   "cell_type": "code",
   "execution_count": 35,
   "id": "cfa218bb",
   "metadata": {},
   "outputs": [
    {
     "name": "stdout",
     "output_type": "stream",
     "text": [
      "Number of rows failing test:  0\n"
     ]
    }
   ],
   "source": [
    "test_11 = leave.ACTUALTIME_ARR [leave.ACTUALTIME_ARR.isnull()]\n",
    "print('Number of rows failing test: ', test_11.shape[0])"
   ]
  },
  {
   "cell_type": "markdown",
   "id": "5f82fc65",
   "metadata": {},
   "source": [
    "- Test 12: Check for ACTUALTIME_DEP values are not missing: <br>\n",
    "&nbsp;- All rows passed. <br>"
   ]
  },
  {
   "cell_type": "code",
   "execution_count": 36,
   "id": "1bff2125",
   "metadata": {},
   "outputs": [
    {
     "name": "stdout",
     "output_type": "stream",
     "text": [
      "Number of rows failing test:  0\n"
     ]
    }
   ],
   "source": [
    "test_12 = leave.ACTUALTIME_DEP [leave.ACTUALTIME_DEP.isnull()]\n",
    "print('Number of rows failing test: ', test_12.shape[0])"
   ]
  },
  {
   "cell_type": "markdown",
   "id": "bff4929e",
   "metadata": {},
   "source": [
    "## Continued on 'v2_leavetime_data_prep.ipynb'"
   ]
  }
 ],
 "metadata": {
  "kernelspec": {
   "display_name": "Python 3 (ipykernel)",
   "language": "python",
   "name": "python3"
  },
  "language_info": {
   "codemirror_mode": {
    "name": "ipython",
    "version": 3
   },
   "file_extension": ".py",
   "mimetype": "text/x-python",
   "name": "python",
   "nbconvert_exporter": "python",
   "pygments_lexer": "ipython3",
   "version": "3.10.4"
  }
 },
 "nbformat": 4,
 "nbformat_minor": 5
}
