{
 "cells": [
  {
   "cell_type": "code",
   "execution_count": 1,
   "id": "29f878e6",
   "metadata": {},
   "outputs": [],
   "source": [
    "# Library Imports.\n",
    "import pandas as pd\n",
    "\n",
    "import numpy as np"
   ]
  },
  {
   "cell_type": "code",
   "execution_count": 2,
   "id": "12abaae1",
   "metadata": {},
   "outputs": [],
   "source": [
    "# Read tripleave6 route split 3 CSV file into Data Frame:\n",
    "wk = pd.read_csv('v5_tripLeave6_route_split_3.csv', keep_default_na=True, delimiter=',', skipinitialspace=True)"
   ]
  },
  {
   "cell_type": "code",
   "execution_count": 3,
   "id": "5dda47a0",
   "metadata": {},
   "outputs": [
    {
     "data": {
      "text/plain": [
       "(10819760, 22)"
      ]
     },
     "execution_count": 3,
     "metadata": {},
     "output_type": "execute_result"
    }
   ],
   "source": [
    "wk.shape"
   ]
  },
  {
   "cell_type": "code",
   "execution_count": null,
   "id": "c0c029ad",
   "metadata": {},
   "outputs": [],
   "source": [
    "wk.head()"
   ]
  },
  {
   "cell_type": "code",
   "execution_count": null,
   "id": "4878f708",
   "metadata": {},
   "outputs": [],
   "source": [
    "wk.dtypes"
   ]
  },
  {
   "cell_type": "markdown",
   "id": "81073090",
   "metadata": {},
   "source": [
    "## Datatype Changes"
   ]
  },
  {
   "cell_type": "code",
   "execution_count": 4,
   "id": "75954e98",
   "metadata": {},
   "outputs": [],
   "source": [
    "wk['num_lineID'] = wk['num_lineID'].astype('int16')\n",
    "wk['DIRECTION'] = wk['DIRECTION'].astype('int16')"
   ]
  },
  {
   "cell_type": "code",
   "execution_count": 5,
   "id": "81d272e5",
   "metadata": {},
   "outputs": [],
   "source": [
    "wk['actual_duration'] = wk['actual_duration'].astype('int64')\n",
    "wk['dayOfWeek'] = wk['dayOfWeek'].astype('int16')"
   ]
  },
  {
   "cell_type": "code",
   "execution_count": 6,
   "id": "8267e3dc",
   "metadata": {},
   "outputs": [],
   "source": [
    "wk['weekend'] = wk['weekend'].astype('int16')\n",
    "wk['rushHour'] = wk['rushHour'].astype('int16')"
   ]
  },
  {
   "cell_type": "code",
   "execution_count": null,
   "id": "604f0107",
   "metadata": {},
   "outputs": [],
   "source": [
    "wk.head()"
   ]
  },
  {
   "cell_type": "code",
   "execution_count": null,
   "id": "645ff86a",
   "metadata": {},
   "outputs": [],
   "source": [
    "wk.dtypes"
   ]
  },
  {
   "cell_type": "markdown",
   "id": "86d6d334",
   "metadata": {},
   "source": [
    "## Route 9"
   ]
  },
  {
   "cell_type": "code",
   "execution_count": 7,
   "id": "01b378cc",
   "metadata": {},
   "outputs": [],
   "source": [
    "lwk = wk[(wk['LINEID'] == '9')]"
   ]
  },
  {
   "cell_type": "code",
   "execution_count": 8,
   "id": "5ae677fe",
   "metadata": {},
   "outputs": [
    {
     "data": {
      "text/plain": [
       "(449663, 22)"
      ]
     },
     "execution_count": 8,
     "metadata": {},
     "output_type": "execute_result"
    }
   ],
   "source": [
    "lwk.shape"
   ]
  },
  {
   "cell_type": "code",
   "execution_count": 9,
   "id": "eb268b7e",
   "metadata": {},
   "outputs": [],
   "source": [
    "# Drop Route 9 rows from wk\n",
    "wk.drop(wk[wk['LINEID'] == '9'].index, inplace = True)"
   ]
  },
  {
   "cell_type": "code",
   "execution_count": null,
   "id": "cdb83698",
   "metadata": {},
   "outputs": [],
   "source": [
    "wk.head()"
   ]
  },
  {
   "cell_type": "code",
   "execution_count": null,
   "id": "f85f5650",
   "metadata": {},
   "outputs": [],
   "source": [
    "wk.shape"
   ]
  },
  {
   "cell_type": "markdown",
   "id": "f36c2173",
   "metadata": {},
   "source": [
    "<h3>Send to CSV</h3>"
   ]
  },
  {
   "cell_type": "code",
   "execution_count": null,
   "id": "4fcd4689",
   "metadata": {},
   "outputs": [],
   "source": [
    "# Send df to csv:\n",
    "lwk.to_csv('v5_9_tripLeave6_sp3.csv', index=False)"
   ]
  },
  {
   "cell_type": "markdown",
   "id": "02f3d83e",
   "metadata": {},
   "source": [
    "## Route 16"
   ]
  },
  {
   "cell_type": "code",
   "execution_count": 10,
   "id": "b91914a8",
   "metadata": {},
   "outputs": [],
   "source": [
    "lwk = wk[(wk['LINEID'] == '16')]"
   ]
  },
  {
   "cell_type": "code",
   "execution_count": 11,
   "id": "697f3295",
   "metadata": {},
   "outputs": [
    {
     "data": {
      "text/plain": [
       "(574890, 22)"
      ]
     },
     "execution_count": 11,
     "metadata": {},
     "output_type": "execute_result"
    }
   ],
   "source": [
    "lwk.shape"
   ]
  },
  {
   "cell_type": "code",
   "execution_count": 12,
   "id": "d4360a64",
   "metadata": {},
   "outputs": [],
   "source": [
    "# Drop Route 16 rows from wk\n",
    "wk.drop(wk[wk['LINEID'] == '16'].index, inplace = True)"
   ]
  },
  {
   "cell_type": "code",
   "execution_count": null,
   "id": "942c64b0",
   "metadata": {},
   "outputs": [],
   "source": [
    "wk.head()"
   ]
  },
  {
   "cell_type": "code",
   "execution_count": null,
   "id": "cdc545e0",
   "metadata": {},
   "outputs": [],
   "source": [
    "wk.shape"
   ]
  },
  {
   "cell_type": "markdown",
   "id": "40667721",
   "metadata": {},
   "source": [
    "<h3>Send to CSV</h3>"
   ]
  },
  {
   "cell_type": "code",
   "execution_count": null,
   "id": "5d225394",
   "metadata": {},
   "outputs": [],
   "source": [
    "# Send df to csv:\n",
    "lwk.to_csv('v5_16_tripLeave6_sp3.csv', index=False)"
   ]
  },
  {
   "cell_type": "markdown",
   "id": "c9871333",
   "metadata": {},
   "source": [
    "## Route 15A"
   ]
  },
  {
   "cell_type": "code",
   "execution_count": 13,
   "id": "6d09b20e",
   "metadata": {},
   "outputs": [],
   "source": [
    "lwk = wk[(wk['LINEID'] == '15A')]"
   ]
  },
  {
   "cell_type": "code",
   "execution_count": 14,
   "id": "5a20631a",
   "metadata": {},
   "outputs": [
    {
     "data": {
      "text/plain": [
       "(207877, 22)"
      ]
     },
     "execution_count": 14,
     "metadata": {},
     "output_type": "execute_result"
    }
   ],
   "source": [
    "lwk.shape"
   ]
  },
  {
   "cell_type": "code",
   "execution_count": 15,
   "id": "33e489aa",
   "metadata": {},
   "outputs": [],
   "source": [
    "# Drop Route 15A rows from wk\n",
    "wk.drop(wk[wk['LINEID'] == '15A'].index, inplace = True)"
   ]
  },
  {
   "cell_type": "code",
   "execution_count": 16,
   "id": "4ed9474e",
   "metadata": {},
   "outputs": [
    {
     "data": {
      "text/html": [
       "<div>\n",
       "<style scoped>\n",
       "    .dataframe tbody tr th:only-of-type {\n",
       "        vertical-align: middle;\n",
       "    }\n",
       "\n",
       "    .dataframe tbody tr th {\n",
       "        vertical-align: top;\n",
       "    }\n",
       "\n",
       "    .dataframe thead th {\n",
       "        text-align: right;\n",
       "    }\n",
       "</style>\n",
       "<table border=\"1\" class=\"dataframe\">\n",
       "  <thead>\n",
       "    <tr style=\"text-align: right;\">\n",
       "      <th></th>\n",
       "      <th>DAYOFSERVICE</th>\n",
       "      <th>TRIPID</th>\n",
       "      <th>PROGRNUMBER</th>\n",
       "      <th>STOPPOINTID</th>\n",
       "      <th>PLANNEDTIME_ARR</th>\n",
       "      <th>PLANNEDTIME_DEP</th>\n",
       "      <th>ACTUALTIME_ARR</th>\n",
       "      <th>ACTUALTIME_DEP</th>\n",
       "      <th>VEHICLEID</th>\n",
       "      <th>year</th>\n",
       "      <th>...</th>\n",
       "      <th>id</th>\n",
       "      <th>trip_leave_id</th>\n",
       "      <th>LINEID</th>\n",
       "      <th>num_lineID</th>\n",
       "      <th>DIRECTION</th>\n",
       "      <th>actual_duration</th>\n",
       "      <th>dayOfWeek</th>\n",
       "      <th>weekend</th>\n",
       "      <th>rushHour</th>\n",
       "      <th>actualARR_hour</th>\n",
       "    </tr>\n",
       "  </thead>\n",
       "  <tbody>\n",
       "    <tr>\n",
       "      <th>1665</th>\n",
       "      <td>2018-09-09</td>\n",
       "      <td>8091183</td>\n",
       "      <td>1</td>\n",
       "      <td>7229</td>\n",
       "      <td>46800</td>\n",
       "      <td>46800</td>\n",
       "      <td>46800</td>\n",
       "      <td>46800</td>\n",
       "      <td>2693236</td>\n",
       "      <td>2018</td>\n",
       "      <td>...</td>\n",
       "      <td>20180909809118301</td>\n",
       "      <td>201809098091183</td>\n",
       "      <td>13</td>\n",
       "      <td>11</td>\n",
       "      <td>2</td>\n",
       "      <td>6554</td>\n",
       "      <td>6</td>\n",
       "      <td>1</td>\n",
       "      <td>0</td>\n",
       "      <td>13</td>\n",
       "    </tr>\n",
       "    <tr>\n",
       "      <th>1666</th>\n",
       "      <td>2018-09-09</td>\n",
       "      <td>8091183</td>\n",
       "      <td>2</td>\n",
       "      <td>4617</td>\n",
       "      <td>46924</td>\n",
       "      <td>46924</td>\n",
       "      <td>46924</td>\n",
       "      <td>46924</td>\n",
       "      <td>2693236</td>\n",
       "      <td>2018</td>\n",
       "      <td>...</td>\n",
       "      <td>20180909809118302</td>\n",
       "      <td>201809098091183</td>\n",
       "      <td>13</td>\n",
       "      <td>11</td>\n",
       "      <td>2</td>\n",
       "      <td>6554</td>\n",
       "      <td>6</td>\n",
       "      <td>1</td>\n",
       "      <td>0</td>\n",
       "      <td>13</td>\n",
       "    </tr>\n",
       "    <tr>\n",
       "      <th>1667</th>\n",
       "      <td>2018-09-09</td>\n",
       "      <td>8091183</td>\n",
       "      <td>3</td>\n",
       "      <td>4555</td>\n",
       "      <td>46945</td>\n",
       "      <td>46945</td>\n",
       "      <td>46945</td>\n",
       "      <td>46945</td>\n",
       "      <td>2693236</td>\n",
       "      <td>2018</td>\n",
       "      <td>...</td>\n",
       "      <td>20180909809118303</td>\n",
       "      <td>201809098091183</td>\n",
       "      <td>13</td>\n",
       "      <td>11</td>\n",
       "      <td>2</td>\n",
       "      <td>6554</td>\n",
       "      <td>6</td>\n",
       "      <td>1</td>\n",
       "      <td>0</td>\n",
       "      <td>13</td>\n",
       "    </tr>\n",
       "    <tr>\n",
       "      <th>1668</th>\n",
       "      <td>2018-09-09</td>\n",
       "      <td>8091183</td>\n",
       "      <td>4</td>\n",
       "      <td>4576</td>\n",
       "      <td>47029</td>\n",
       "      <td>47029</td>\n",
       "      <td>47029</td>\n",
       "      <td>47029</td>\n",
       "      <td>2693236</td>\n",
       "      <td>2018</td>\n",
       "      <td>...</td>\n",
       "      <td>20180909809118304</td>\n",
       "      <td>201809098091183</td>\n",
       "      <td>13</td>\n",
       "      <td>11</td>\n",
       "      <td>2</td>\n",
       "      <td>6554</td>\n",
       "      <td>6</td>\n",
       "      <td>1</td>\n",
       "      <td>0</td>\n",
       "      <td>13</td>\n",
       "    </tr>\n",
       "    <tr>\n",
       "      <th>1669</th>\n",
       "      <td>2018-09-09</td>\n",
       "      <td>8091183</td>\n",
       "      <td>5</td>\n",
       "      <td>3418</td>\n",
       "      <td>47094</td>\n",
       "      <td>47094</td>\n",
       "      <td>47094</td>\n",
       "      <td>47094</td>\n",
       "      <td>2693236</td>\n",
       "      <td>2018</td>\n",
       "      <td>...</td>\n",
       "      <td>20180909809118305</td>\n",
       "      <td>201809098091183</td>\n",
       "      <td>13</td>\n",
       "      <td>11</td>\n",
       "      <td>2</td>\n",
       "      <td>6554</td>\n",
       "      <td>6</td>\n",
       "      <td>1</td>\n",
       "      <td>0</td>\n",
       "      <td>13</td>\n",
       "    </tr>\n",
       "  </tbody>\n",
       "</table>\n",
       "<p>5 rows × 22 columns</p>\n",
       "</div>"
      ],
      "text/plain": [
       "     DAYOFSERVICE   TRIPID  PROGRNUMBER  STOPPOINTID  PLANNEDTIME_ARR  \\\n",
       "1665   2018-09-09  8091183            1         7229            46800   \n",
       "1666   2018-09-09  8091183            2         4617            46924   \n",
       "1667   2018-09-09  8091183            3         4555            46945   \n",
       "1668   2018-09-09  8091183            4         4576            47029   \n",
       "1669   2018-09-09  8091183            5         3418            47094   \n",
       "\n",
       "      PLANNEDTIME_DEP  ACTUALTIME_ARR  ACTUALTIME_DEP  VEHICLEID  year  ...  \\\n",
       "1665            46800           46800           46800    2693236  2018  ...   \n",
       "1666            46924           46924           46924    2693236  2018  ...   \n",
       "1667            46945           46945           46945    2693236  2018  ...   \n",
       "1668            47029           47029           47029    2693236  2018  ...   \n",
       "1669            47094           47094           47094    2693236  2018  ...   \n",
       "\n",
       "                     id    trip_leave_id  LINEID  num_lineID DIRECTION  \\\n",
       "1665  20180909809118301  201809098091183      13          11         2   \n",
       "1666  20180909809118302  201809098091183      13          11         2   \n",
       "1667  20180909809118303  201809098091183      13          11         2   \n",
       "1668  20180909809118304  201809098091183      13          11         2   \n",
       "1669  20180909809118305  201809098091183      13          11         2   \n",
       "\n",
       "      actual_duration  dayOfWeek  weekend  rushHour  actualARR_hour  \n",
       "1665             6554          6        1         0              13  \n",
       "1666             6554          6        1         0              13  \n",
       "1667             6554          6        1         0              13  \n",
       "1668             6554          6        1         0              13  \n",
       "1669             6554          6        1         0              13  \n",
       "\n",
       "[5 rows x 22 columns]"
      ]
     },
     "execution_count": 16,
     "metadata": {},
     "output_type": "execute_result"
    }
   ],
   "source": [
    "wk.head()"
   ]
  },
  {
   "cell_type": "code",
   "execution_count": 17,
   "id": "f5f7599c",
   "metadata": {},
   "outputs": [
    {
     "data": {
      "text/plain": [
       "(9587330, 22)"
      ]
     },
     "execution_count": 17,
     "metadata": {},
     "output_type": "execute_result"
    }
   ],
   "source": [
    "wk.shape"
   ]
  },
  {
   "cell_type": "markdown",
   "id": "38748ef1",
   "metadata": {},
   "source": [
    "<h3>Send to CSV</h3>"
   ]
  },
  {
   "cell_type": "code",
   "execution_count": 18,
   "id": "838ecfd9",
   "metadata": {},
   "outputs": [],
   "source": [
    "# Send df to csv:\n",
    "lwk.to_csv('v5_15A_tripLeave6_sp3.csv', index=False)"
   ]
  },
  {
   "cell_type": "markdown",
   "id": "c9ce61f5",
   "metadata": {},
   "source": [
    "## Route 13"
   ]
  },
  {
   "cell_type": "code",
   "execution_count": 19,
   "id": "f6ad83ea",
   "metadata": {},
   "outputs": [],
   "source": [
    "lwk = wk[(wk['LINEID'] == '13')]"
   ]
  },
  {
   "cell_type": "code",
   "execution_count": 20,
   "id": "ec9abc5f",
   "metadata": {},
   "outputs": [
    {
     "data": {
      "text/plain": [
       "(433846, 22)"
      ]
     },
     "execution_count": 20,
     "metadata": {},
     "output_type": "execute_result"
    }
   ],
   "source": [
    "lwk.shape"
   ]
  },
  {
   "cell_type": "code",
   "execution_count": 21,
   "id": "33c70ba9",
   "metadata": {},
   "outputs": [],
   "source": [
    "# Drop Route 13 rows from wk\n",
    "wk.drop(wk[wk['LINEID'] == '13'].index, inplace = True)"
   ]
  },
  {
   "cell_type": "code",
   "execution_count": 22,
   "id": "1f691a8b",
   "metadata": {},
   "outputs": [
    {
     "data": {
      "text/html": [
       "<div>\n",
       "<style scoped>\n",
       "    .dataframe tbody tr th:only-of-type {\n",
       "        vertical-align: middle;\n",
       "    }\n",
       "\n",
       "    .dataframe tbody tr th {\n",
       "        vertical-align: top;\n",
       "    }\n",
       "\n",
       "    .dataframe thead th {\n",
       "        text-align: right;\n",
       "    }\n",
       "</style>\n",
       "<table border=\"1\" class=\"dataframe\">\n",
       "  <thead>\n",
       "    <tr style=\"text-align: right;\">\n",
       "      <th></th>\n",
       "      <th>DAYOFSERVICE</th>\n",
       "      <th>TRIPID</th>\n",
       "      <th>PROGRNUMBER</th>\n",
       "      <th>STOPPOINTID</th>\n",
       "      <th>PLANNEDTIME_ARR</th>\n",
       "      <th>PLANNEDTIME_DEP</th>\n",
       "      <th>ACTUALTIME_ARR</th>\n",
       "      <th>ACTUALTIME_DEP</th>\n",
       "      <th>VEHICLEID</th>\n",
       "      <th>year</th>\n",
       "      <th>...</th>\n",
       "      <th>id</th>\n",
       "      <th>trip_leave_id</th>\n",
       "      <th>LINEID</th>\n",
       "      <th>num_lineID</th>\n",
       "      <th>DIRECTION</th>\n",
       "      <th>actual_duration</th>\n",
       "      <th>dayOfWeek</th>\n",
       "      <th>weekend</th>\n",
       "      <th>rushHour</th>\n",
       "      <th>actualARR_hour</th>\n",
       "    </tr>\n",
       "  </thead>\n",
       "  <tbody>\n",
       "    <tr>\n",
       "      <th>2199</th>\n",
       "      <td>2018-09-09</td>\n",
       "      <td>8091244</td>\n",
       "      <td>1</td>\n",
       "      <td>4686</td>\n",
       "      <td>48600</td>\n",
       "      <td>48600</td>\n",
       "      <td>48600</td>\n",
       "      <td>48600</td>\n",
       "      <td>1001214</td>\n",
       "      <td>2018</td>\n",
       "      <td>...</td>\n",
       "      <td>20180909809124401</td>\n",
       "      <td>201809098091244</td>\n",
       "      <td>220</td>\n",
       "      <td>33</td>\n",
       "      <td>1</td>\n",
       "      <td>4576</td>\n",
       "      <td>6</td>\n",
       "      <td>1</td>\n",
       "      <td>0</td>\n",
       "      <td>14</td>\n",
       "    </tr>\n",
       "    <tr>\n",
       "      <th>2200</th>\n",
       "      <td>2018-09-09</td>\n",
       "      <td>8091244</td>\n",
       "      <td>2</td>\n",
       "      <td>4687</td>\n",
       "      <td>48620</td>\n",
       "      <td>48620</td>\n",
       "      <td>48620</td>\n",
       "      <td>48620</td>\n",
       "      <td>1001214</td>\n",
       "      <td>2018</td>\n",
       "      <td>...</td>\n",
       "      <td>20180909809124402</td>\n",
       "      <td>201809098091244</td>\n",
       "      <td>220</td>\n",
       "      <td>33</td>\n",
       "      <td>1</td>\n",
       "      <td>4576</td>\n",
       "      <td>6</td>\n",
       "      <td>1</td>\n",
       "      <td>0</td>\n",
       "      <td>14</td>\n",
       "    </tr>\n",
       "    <tr>\n",
       "      <th>2201</th>\n",
       "      <td>2018-09-09</td>\n",
       "      <td>8091244</td>\n",
       "      <td>3</td>\n",
       "      <td>102</td>\n",
       "      <td>48716</td>\n",
       "      <td>48716</td>\n",
       "      <td>48716</td>\n",
       "      <td>48716</td>\n",
       "      <td>1001214</td>\n",
       "      <td>2018</td>\n",
       "      <td>...</td>\n",
       "      <td>20180909809124403</td>\n",
       "      <td>201809098091244</td>\n",
       "      <td>220</td>\n",
       "      <td>33</td>\n",
       "      <td>1</td>\n",
       "      <td>4576</td>\n",
       "      <td>6</td>\n",
       "      <td>1</td>\n",
       "      <td>0</td>\n",
       "      <td>14</td>\n",
       "    </tr>\n",
       "    <tr>\n",
       "      <th>2202</th>\n",
       "      <td>2018-09-09</td>\n",
       "      <td>8091244</td>\n",
       "      <td>4</td>\n",
       "      <td>6239</td>\n",
       "      <td>48753</td>\n",
       "      <td>48753</td>\n",
       "      <td>48753</td>\n",
       "      <td>48753</td>\n",
       "      <td>1001214</td>\n",
       "      <td>2018</td>\n",
       "      <td>...</td>\n",
       "      <td>20180909809124404</td>\n",
       "      <td>201809098091244</td>\n",
       "      <td>220</td>\n",
       "      <td>33</td>\n",
       "      <td>1</td>\n",
       "      <td>4576</td>\n",
       "      <td>6</td>\n",
       "      <td>1</td>\n",
       "      <td>0</td>\n",
       "      <td>14</td>\n",
       "    </tr>\n",
       "    <tr>\n",
       "      <th>2203</th>\n",
       "      <td>2018-09-09</td>\n",
       "      <td>8091244</td>\n",
       "      <td>5</td>\n",
       "      <td>104</td>\n",
       "      <td>48819</td>\n",
       "      <td>48819</td>\n",
       "      <td>48819</td>\n",
       "      <td>48819</td>\n",
       "      <td>1001214</td>\n",
       "      <td>2018</td>\n",
       "      <td>...</td>\n",
       "      <td>20180909809124405</td>\n",
       "      <td>201809098091244</td>\n",
       "      <td>220</td>\n",
       "      <td>33</td>\n",
       "      <td>1</td>\n",
       "      <td>4576</td>\n",
       "      <td>6</td>\n",
       "      <td>1</td>\n",
       "      <td>0</td>\n",
       "      <td>14</td>\n",
       "    </tr>\n",
       "  </tbody>\n",
       "</table>\n",
       "<p>5 rows × 22 columns</p>\n",
       "</div>"
      ],
      "text/plain": [
       "     DAYOFSERVICE   TRIPID  PROGRNUMBER  STOPPOINTID  PLANNEDTIME_ARR  \\\n",
       "2199   2018-09-09  8091244            1         4686            48600   \n",
       "2200   2018-09-09  8091244            2         4687            48620   \n",
       "2201   2018-09-09  8091244            3          102            48716   \n",
       "2202   2018-09-09  8091244            4         6239            48753   \n",
       "2203   2018-09-09  8091244            5          104            48819   \n",
       "\n",
       "      PLANNEDTIME_DEP  ACTUALTIME_ARR  ACTUALTIME_DEP  VEHICLEID  year  ...  \\\n",
       "2199            48600           48600           48600    1001214  2018  ...   \n",
       "2200            48620           48620           48620    1001214  2018  ...   \n",
       "2201            48716           48716           48716    1001214  2018  ...   \n",
       "2202            48753           48753           48753    1001214  2018  ...   \n",
       "2203            48819           48819           48819    1001214  2018  ...   \n",
       "\n",
       "                     id    trip_leave_id  LINEID  num_lineID DIRECTION  \\\n",
       "2199  20180909809124401  201809098091244     220          33         1   \n",
       "2200  20180909809124402  201809098091244     220          33         1   \n",
       "2201  20180909809124403  201809098091244     220          33         1   \n",
       "2202  20180909809124404  201809098091244     220          33         1   \n",
       "2203  20180909809124405  201809098091244     220          33         1   \n",
       "\n",
       "      actual_duration  dayOfWeek  weekend  rushHour  actualARR_hour  \n",
       "2199             4576          6        1         0              14  \n",
       "2200             4576          6        1         0              14  \n",
       "2201             4576          6        1         0              14  \n",
       "2202             4576          6        1         0              14  \n",
       "2203             4576          6        1         0              14  \n",
       "\n",
       "[5 rows x 22 columns]"
      ]
     },
     "execution_count": 22,
     "metadata": {},
     "output_type": "execute_result"
    }
   ],
   "source": [
    "wk.head()"
   ]
  },
  {
   "cell_type": "code",
   "execution_count": 23,
   "id": "c35ec0ec",
   "metadata": {},
   "outputs": [
    {
     "data": {
      "text/plain": [
       "(9153484, 22)"
      ]
     },
     "execution_count": 23,
     "metadata": {},
     "output_type": "execute_result"
    }
   ],
   "source": [
    "wk.shape"
   ]
  },
  {
   "cell_type": "markdown",
   "id": "685da73e",
   "metadata": {},
   "source": [
    "<h3>Send to CSV</h3>"
   ]
  },
  {
   "cell_type": "code",
   "execution_count": 24,
   "id": "dd78bfed",
   "metadata": {},
   "outputs": [],
   "source": [
    "# Send df to csv:\n",
    "lwk.to_csv('v5_13_tripLeave6_sp3.csv', index=False)"
   ]
  },
  {
   "cell_type": "markdown",
   "id": "0a607558",
   "metadata": {},
   "source": [
    "## Route 220"
   ]
  },
  {
   "cell_type": "code",
   "execution_count": 25,
   "id": "d4accdca",
   "metadata": {},
   "outputs": [],
   "source": [
    "lwk = wk[(wk['LINEID'] == '220')]"
   ]
  },
  {
   "cell_type": "code",
   "execution_count": 26,
   "id": "8bd84191",
   "metadata": {},
   "outputs": [
    {
     "data": {
      "text/plain": [
       "(66067, 22)"
      ]
     },
     "execution_count": 26,
     "metadata": {},
     "output_type": "execute_result"
    }
   ],
   "source": [
    "lwk.shape"
   ]
  },
  {
   "cell_type": "code",
   "execution_count": 27,
   "id": "9329913e",
   "metadata": {},
   "outputs": [],
   "source": [
    "# Drop Route 220 rows from wk\n",
    "wk.drop(wk[wk['LINEID'] == '220'].index, inplace = True)"
   ]
  },
  {
   "cell_type": "code",
   "execution_count": 28,
   "id": "e6684ab8",
   "metadata": {},
   "outputs": [
    {
     "data": {
      "text/html": [
       "<div>\n",
       "<style scoped>\n",
       "    .dataframe tbody tr th:only-of-type {\n",
       "        vertical-align: middle;\n",
       "    }\n",
       "\n",
       "    .dataframe tbody tr th {\n",
       "        vertical-align: top;\n",
       "    }\n",
       "\n",
       "    .dataframe thead th {\n",
       "        text-align: right;\n",
       "    }\n",
       "</style>\n",
       "<table border=\"1\" class=\"dataframe\">\n",
       "  <thead>\n",
       "    <tr style=\"text-align: right;\">\n",
       "      <th></th>\n",
       "      <th>DAYOFSERVICE</th>\n",
       "      <th>TRIPID</th>\n",
       "      <th>PROGRNUMBER</th>\n",
       "      <th>STOPPOINTID</th>\n",
       "      <th>PLANNEDTIME_ARR</th>\n",
       "      <th>PLANNEDTIME_DEP</th>\n",
       "      <th>ACTUALTIME_ARR</th>\n",
       "      <th>ACTUALTIME_DEP</th>\n",
       "      <th>VEHICLEID</th>\n",
       "      <th>year</th>\n",
       "      <th>...</th>\n",
       "      <th>id</th>\n",
       "      <th>trip_leave_id</th>\n",
       "      <th>LINEID</th>\n",
       "      <th>num_lineID</th>\n",
       "      <th>DIRECTION</th>\n",
       "      <th>actual_duration</th>\n",
       "      <th>dayOfWeek</th>\n",
       "      <th>weekend</th>\n",
       "      <th>rushHour</th>\n",
       "      <th>actualARR_hour</th>\n",
       "    </tr>\n",
       "  </thead>\n",
       "  <tbody>\n",
       "    <tr>\n",
       "      <th>2751</th>\n",
       "      <td>2018-09-09</td>\n",
       "      <td>8091534</td>\n",
       "      <td>1</td>\n",
       "      <td>4525</td>\n",
       "      <td>30600</td>\n",
       "      <td>30600</td>\n",
       "      <td>30600</td>\n",
       "      <td>30600</td>\n",
       "      <td>2693287</td>\n",
       "      <td>2018</td>\n",
       "      <td>...</td>\n",
       "      <td>20180909809153401</td>\n",
       "      <td>201809098091534</td>\n",
       "      <td>122</td>\n",
       "      <td>9</td>\n",
       "      <td>1</td>\n",
       "      <td>2687</td>\n",
       "      <td>6</td>\n",
       "      <td>1</td>\n",
       "      <td>0</td>\n",
       "      <td>8</td>\n",
       "    </tr>\n",
       "    <tr>\n",
       "      <th>2752</th>\n",
       "      <td>2018-09-09</td>\n",
       "      <td>8091534</td>\n",
       "      <td>2</td>\n",
       "      <td>4526</td>\n",
       "      <td>30661</td>\n",
       "      <td>30661</td>\n",
       "      <td>30661</td>\n",
       "      <td>30661</td>\n",
       "      <td>2693287</td>\n",
       "      <td>2018</td>\n",
       "      <td>...</td>\n",
       "      <td>20180909809153402</td>\n",
       "      <td>201809098091534</td>\n",
       "      <td>122</td>\n",
       "      <td>9</td>\n",
       "      <td>1</td>\n",
       "      <td>2687</td>\n",
       "      <td>6</td>\n",
       "      <td>1</td>\n",
       "      <td>0</td>\n",
       "      <td>9</td>\n",
       "    </tr>\n",
       "    <tr>\n",
       "      <th>2753</th>\n",
       "      <td>2018-09-09</td>\n",
       "      <td>8091534</td>\n",
       "      <td>3</td>\n",
       "      <td>1700</td>\n",
       "      <td>30754</td>\n",
       "      <td>30754</td>\n",
       "      <td>30754</td>\n",
       "      <td>30754</td>\n",
       "      <td>2693287</td>\n",
       "      <td>2018</td>\n",
       "      <td>...</td>\n",
       "      <td>20180909809153403</td>\n",
       "      <td>201809098091534</td>\n",
       "      <td>122</td>\n",
       "      <td>9</td>\n",
       "      <td>1</td>\n",
       "      <td>2687</td>\n",
       "      <td>6</td>\n",
       "      <td>1</td>\n",
       "      <td>0</td>\n",
       "      <td>9</td>\n",
       "    </tr>\n",
       "    <tr>\n",
       "      <th>2754</th>\n",
       "      <td>2018-09-09</td>\n",
       "      <td>8091534</td>\n",
       "      <td>4</td>\n",
       "      <td>1701</td>\n",
       "      <td>30791</td>\n",
       "      <td>30791</td>\n",
       "      <td>30791</td>\n",
       "      <td>30791</td>\n",
       "      <td>2693287</td>\n",
       "      <td>2018</td>\n",
       "      <td>...</td>\n",
       "      <td>20180909809153404</td>\n",
       "      <td>201809098091534</td>\n",
       "      <td>122</td>\n",
       "      <td>9</td>\n",
       "      <td>1</td>\n",
       "      <td>2687</td>\n",
       "      <td>6</td>\n",
       "      <td>1</td>\n",
       "      <td>0</td>\n",
       "      <td>9</td>\n",
       "    </tr>\n",
       "    <tr>\n",
       "      <th>2755</th>\n",
       "      <td>2018-09-09</td>\n",
       "      <td>8091534</td>\n",
       "      <td>5</td>\n",
       "      <td>1702</td>\n",
       "      <td>30816</td>\n",
       "      <td>30816</td>\n",
       "      <td>30816</td>\n",
       "      <td>30816</td>\n",
       "      <td>2693287</td>\n",
       "      <td>2018</td>\n",
       "      <td>...</td>\n",
       "      <td>20180909809153405</td>\n",
       "      <td>201809098091534</td>\n",
       "      <td>122</td>\n",
       "      <td>9</td>\n",
       "      <td>1</td>\n",
       "      <td>2687</td>\n",
       "      <td>6</td>\n",
       "      <td>1</td>\n",
       "      <td>0</td>\n",
       "      <td>9</td>\n",
       "    </tr>\n",
       "  </tbody>\n",
       "</table>\n",
       "<p>5 rows × 22 columns</p>\n",
       "</div>"
      ],
      "text/plain": [
       "     DAYOFSERVICE   TRIPID  PROGRNUMBER  STOPPOINTID  PLANNEDTIME_ARR  \\\n",
       "2751   2018-09-09  8091534            1         4525            30600   \n",
       "2752   2018-09-09  8091534            2         4526            30661   \n",
       "2753   2018-09-09  8091534            3         1700            30754   \n",
       "2754   2018-09-09  8091534            4         1701            30791   \n",
       "2755   2018-09-09  8091534            5         1702            30816   \n",
       "\n",
       "      PLANNEDTIME_DEP  ACTUALTIME_ARR  ACTUALTIME_DEP  VEHICLEID  year  ...  \\\n",
       "2751            30600           30600           30600    2693287  2018  ...   \n",
       "2752            30661           30661           30661    2693287  2018  ...   \n",
       "2753            30754           30754           30754    2693287  2018  ...   \n",
       "2754            30791           30791           30791    2693287  2018  ...   \n",
       "2755            30816           30816           30816    2693287  2018  ...   \n",
       "\n",
       "                     id    trip_leave_id  LINEID  num_lineID DIRECTION  \\\n",
       "2751  20180909809153401  201809098091534     122           9         1   \n",
       "2752  20180909809153402  201809098091534     122           9         1   \n",
       "2753  20180909809153403  201809098091534     122           9         1   \n",
       "2754  20180909809153404  201809098091534     122           9         1   \n",
       "2755  20180909809153405  201809098091534     122           9         1   \n",
       "\n",
       "      actual_duration  dayOfWeek  weekend  rushHour  actualARR_hour  \n",
       "2751             2687          6        1         0               8  \n",
       "2752             2687          6        1         0               9  \n",
       "2753             2687          6        1         0               9  \n",
       "2754             2687          6        1         0               9  \n",
       "2755             2687          6        1         0               9  \n",
       "\n",
       "[5 rows x 22 columns]"
      ]
     },
     "execution_count": 28,
     "metadata": {},
     "output_type": "execute_result"
    }
   ],
   "source": [
    "wk.head()"
   ]
  },
  {
   "cell_type": "code",
   "execution_count": 29,
   "id": "c1b9c022",
   "metadata": {},
   "outputs": [
    {
     "data": {
      "text/plain": [
       "(9087417, 22)"
      ]
     },
     "execution_count": 29,
     "metadata": {},
     "output_type": "execute_result"
    }
   ],
   "source": [
    "wk.shape"
   ]
  },
  {
   "cell_type": "markdown",
   "id": "9001e06a",
   "metadata": {},
   "source": [
    "<h3>Send to CSV</h3>"
   ]
  },
  {
   "cell_type": "code",
   "execution_count": 30,
   "id": "a4594538",
   "metadata": {},
   "outputs": [],
   "source": [
    "# Send df to csv:\n",
    "lwk.to_csv('v5_220_tripLeave6_sp3.csv', index=False)"
   ]
  },
  {
   "cell_type": "markdown",
   "id": "cf6b9a30",
   "metadata": {},
   "source": [
    "## Route 122"
   ]
  },
  {
   "cell_type": "code",
   "execution_count": 31,
   "id": "be7cfb01",
   "metadata": {},
   "outputs": [],
   "source": [
    "lwk = wk[(wk['LINEID'] == '122')]"
   ]
  },
  {
   "cell_type": "code",
   "execution_count": 32,
   "id": "ba583db4",
   "metadata": {},
   "outputs": [
    {
     "data": {
      "text/plain": [
       "(318574, 22)"
      ]
     },
     "execution_count": 32,
     "metadata": {},
     "output_type": "execute_result"
    }
   ],
   "source": [
    "lwk.shape"
   ]
  },
  {
   "cell_type": "code",
   "execution_count": 33,
   "id": "9e719e0a",
   "metadata": {},
   "outputs": [],
   "source": [
    "# Drop Route 122 rows from wk\n",
    "wk.drop(wk[wk['LINEID'] == '122'].index, inplace = True)"
   ]
  },
  {
   "cell_type": "code",
   "execution_count": 34,
   "id": "1c15d26f",
   "metadata": {},
   "outputs": [
    {
     "data": {
      "text/html": [
       "<div>\n",
       "<style scoped>\n",
       "    .dataframe tbody tr th:only-of-type {\n",
       "        vertical-align: middle;\n",
       "    }\n",
       "\n",
       "    .dataframe tbody tr th {\n",
       "        vertical-align: top;\n",
       "    }\n",
       "\n",
       "    .dataframe thead th {\n",
       "        text-align: right;\n",
       "    }\n",
       "</style>\n",
       "<table border=\"1\" class=\"dataframe\">\n",
       "  <thead>\n",
       "    <tr style=\"text-align: right;\">\n",
       "      <th></th>\n",
       "      <th>DAYOFSERVICE</th>\n",
       "      <th>TRIPID</th>\n",
       "      <th>PROGRNUMBER</th>\n",
       "      <th>STOPPOINTID</th>\n",
       "      <th>PLANNEDTIME_ARR</th>\n",
       "      <th>PLANNEDTIME_DEP</th>\n",
       "      <th>ACTUALTIME_ARR</th>\n",
       "      <th>ACTUALTIME_DEP</th>\n",
       "      <th>VEHICLEID</th>\n",
       "      <th>year</th>\n",
       "      <th>...</th>\n",
       "      <th>id</th>\n",
       "      <th>trip_leave_id</th>\n",
       "      <th>LINEID</th>\n",
       "      <th>num_lineID</th>\n",
       "      <th>DIRECTION</th>\n",
       "      <th>actual_duration</th>\n",
       "      <th>dayOfWeek</th>\n",
       "      <th>weekend</th>\n",
       "      <th>rushHour</th>\n",
       "      <th>actualARR_hour</th>\n",
       "    </tr>\n",
       "  </thead>\n",
       "  <tbody>\n",
       "    <tr>\n",
       "      <th>3791</th>\n",
       "      <td>2018-09-09</td>\n",
       "      <td>8091692</td>\n",
       "      <td>1</td>\n",
       "      <td>4747</td>\n",
       "      <td>34200</td>\n",
       "      <td>34200</td>\n",
       "      <td>34200</td>\n",
       "      <td>34200</td>\n",
       "      <td>1000480</td>\n",
       "      <td>2018</td>\n",
       "      <td>...</td>\n",
       "      <td>20180909809169201</td>\n",
       "      <td>201809098091692</td>\n",
       "      <td>17A</td>\n",
       "      <td>29</td>\n",
       "      <td>1</td>\n",
       "      <td>3107</td>\n",
       "      <td>6</td>\n",
       "      <td>1</td>\n",
       "      <td>0</td>\n",
       "      <td>10</td>\n",
       "    </tr>\n",
       "    <tr>\n",
       "      <th>3792</th>\n",
       "      <td>2018-09-09</td>\n",
       "      <td>8091692</td>\n",
       "      <td>2</td>\n",
       "      <td>7298</td>\n",
       "      <td>34436</td>\n",
       "      <td>34436</td>\n",
       "      <td>34436</td>\n",
       "      <td>34436</td>\n",
       "      <td>1000480</td>\n",
       "      <td>2018</td>\n",
       "      <td>...</td>\n",
       "      <td>20180909809169202</td>\n",
       "      <td>201809098091692</td>\n",
       "      <td>17A</td>\n",
       "      <td>29</td>\n",
       "      <td>1</td>\n",
       "      <td>3107</td>\n",
       "      <td>6</td>\n",
       "      <td>1</td>\n",
       "      <td>0</td>\n",
       "      <td>10</td>\n",
       "    </tr>\n",
       "    <tr>\n",
       "      <th>3793</th>\n",
       "      <td>2018-09-09</td>\n",
       "      <td>8091692</td>\n",
       "      <td>3</td>\n",
       "      <td>2294</td>\n",
       "      <td>34500</td>\n",
       "      <td>34500</td>\n",
       "      <td>34500</td>\n",
       "      <td>34500</td>\n",
       "      <td>1000480</td>\n",
       "      <td>2018</td>\n",
       "      <td>...</td>\n",
       "      <td>20180909809169203</td>\n",
       "      <td>201809098091692</td>\n",
       "      <td>17A</td>\n",
       "      <td>29</td>\n",
       "      <td>1</td>\n",
       "      <td>3107</td>\n",
       "      <td>6</td>\n",
       "      <td>1</td>\n",
       "      <td>0</td>\n",
       "      <td>10</td>\n",
       "    </tr>\n",
       "    <tr>\n",
       "      <th>3794</th>\n",
       "      <td>2018-09-09</td>\n",
       "      <td>8091692</td>\n",
       "      <td>4</td>\n",
       "      <td>6039</td>\n",
       "      <td>34618</td>\n",
       "      <td>34618</td>\n",
       "      <td>34618</td>\n",
       "      <td>34618</td>\n",
       "      <td>1000480</td>\n",
       "      <td>2018</td>\n",
       "      <td>...</td>\n",
       "      <td>20180909809169204</td>\n",
       "      <td>201809098091692</td>\n",
       "      <td>17A</td>\n",
       "      <td>29</td>\n",
       "      <td>1</td>\n",
       "      <td>3107</td>\n",
       "      <td>6</td>\n",
       "      <td>1</td>\n",
       "      <td>0</td>\n",
       "      <td>10</td>\n",
       "    </tr>\n",
       "    <tr>\n",
       "      <th>3795</th>\n",
       "      <td>2018-09-09</td>\n",
       "      <td>8091692</td>\n",
       "      <td>8</td>\n",
       "      <td>4976</td>\n",
       "      <td>34881</td>\n",
       "      <td>34881</td>\n",
       "      <td>34881</td>\n",
       "      <td>34881</td>\n",
       "      <td>1000480</td>\n",
       "      <td>2018</td>\n",
       "      <td>...</td>\n",
       "      <td>20180909809169208</td>\n",
       "      <td>201809098091692</td>\n",
       "      <td>17A</td>\n",
       "      <td>29</td>\n",
       "      <td>1</td>\n",
       "      <td>3107</td>\n",
       "      <td>6</td>\n",
       "      <td>1</td>\n",
       "      <td>0</td>\n",
       "      <td>10</td>\n",
       "    </tr>\n",
       "  </tbody>\n",
       "</table>\n",
       "<p>5 rows × 22 columns</p>\n",
       "</div>"
      ],
      "text/plain": [
       "     DAYOFSERVICE   TRIPID  PROGRNUMBER  STOPPOINTID  PLANNEDTIME_ARR  \\\n",
       "3791   2018-09-09  8091692            1         4747            34200   \n",
       "3792   2018-09-09  8091692            2         7298            34436   \n",
       "3793   2018-09-09  8091692            3         2294            34500   \n",
       "3794   2018-09-09  8091692            4         6039            34618   \n",
       "3795   2018-09-09  8091692            8         4976            34881   \n",
       "\n",
       "      PLANNEDTIME_DEP  ACTUALTIME_ARR  ACTUALTIME_DEP  VEHICLEID  year  ...  \\\n",
       "3791            34200           34200           34200    1000480  2018  ...   \n",
       "3792            34436           34436           34436    1000480  2018  ...   \n",
       "3793            34500           34500           34500    1000480  2018  ...   \n",
       "3794            34618           34618           34618    1000480  2018  ...   \n",
       "3795            34881           34881           34881    1000480  2018  ...   \n",
       "\n",
       "                     id    trip_leave_id  LINEID  num_lineID DIRECTION  \\\n",
       "3791  20180909809169201  201809098091692     17A          29         1   \n",
       "3792  20180909809169202  201809098091692     17A          29         1   \n",
       "3793  20180909809169203  201809098091692     17A          29         1   \n",
       "3794  20180909809169204  201809098091692     17A          29         1   \n",
       "3795  20180909809169208  201809098091692     17A          29         1   \n",
       "\n",
       "      actual_duration  dayOfWeek  weekend  rushHour  actualARR_hour  \n",
       "3791             3107          6        1         0              10  \n",
       "3792             3107          6        1         0              10  \n",
       "3793             3107          6        1         0              10  \n",
       "3794             3107          6        1         0              10  \n",
       "3795             3107          6        1         0              10  \n",
       "\n",
       "[5 rows x 22 columns]"
      ]
     },
     "execution_count": 34,
     "metadata": {},
     "output_type": "execute_result"
    }
   ],
   "source": [
    "wk.head()"
   ]
  },
  {
   "cell_type": "code",
   "execution_count": 35,
   "id": "5299a41b",
   "metadata": {},
   "outputs": [
    {
     "data": {
      "text/plain": [
       "(8768843, 22)"
      ]
     },
     "execution_count": 35,
     "metadata": {},
     "output_type": "execute_result"
    }
   ],
   "source": [
    "wk.shape"
   ]
  },
  {
   "cell_type": "markdown",
   "id": "c95c36a2",
   "metadata": {},
   "source": [
    "<h3>Send to CSV</h3>"
   ]
  },
  {
   "cell_type": "code",
   "execution_count": 36,
   "id": "10e456a8",
   "metadata": {},
   "outputs": [],
   "source": [
    "# Send df to csv:\n",
    "lwk.to_csv('v5_122_tripLeave6_sp3.csv', index=False)"
   ]
  },
  {
   "cell_type": "markdown",
   "id": "eae8e196",
   "metadata": {},
   "source": [
    "## Route 17A"
   ]
  },
  {
   "cell_type": "code",
   "execution_count": 37,
   "id": "2fe9252d",
   "metadata": {},
   "outputs": [],
   "source": [
    "lwk = wk[(wk['LINEID'] == '17A')]"
   ]
  },
  {
   "cell_type": "code",
   "execution_count": 38,
   "id": "df08328a",
   "metadata": {},
   "outputs": [
    {
     "data": {
      "text/plain": [
       "(186874, 22)"
      ]
     },
     "execution_count": 38,
     "metadata": {},
     "output_type": "execute_result"
    }
   ],
   "source": [
    "lwk.shape"
   ]
  },
  {
   "cell_type": "code",
   "execution_count": 39,
   "id": "b0b02512",
   "metadata": {},
   "outputs": [],
   "source": [
    "# Drop Route 17A rows from wk\n",
    "wk.drop(wk[wk['LINEID'] == '17A'].index, inplace = True)"
   ]
  },
  {
   "cell_type": "code",
   "execution_count": 40,
   "id": "8b9db2a6",
   "metadata": {},
   "outputs": [
    {
     "data": {
      "text/html": [
       "<div>\n",
       "<style scoped>\n",
       "    .dataframe tbody tr th:only-of-type {\n",
       "        vertical-align: middle;\n",
       "    }\n",
       "\n",
       "    .dataframe tbody tr th {\n",
       "        vertical-align: top;\n",
       "    }\n",
       "\n",
       "    .dataframe thead th {\n",
       "        text-align: right;\n",
       "    }\n",
       "</style>\n",
       "<table border=\"1\" class=\"dataframe\">\n",
       "  <thead>\n",
       "    <tr style=\"text-align: right;\">\n",
       "      <th></th>\n",
       "      <th>DAYOFSERVICE</th>\n",
       "      <th>TRIPID</th>\n",
       "      <th>PROGRNUMBER</th>\n",
       "      <th>STOPPOINTID</th>\n",
       "      <th>PLANNEDTIME_ARR</th>\n",
       "      <th>PLANNEDTIME_DEP</th>\n",
       "      <th>ACTUALTIME_ARR</th>\n",
       "      <th>ACTUALTIME_DEP</th>\n",
       "      <th>VEHICLEID</th>\n",
       "      <th>year</th>\n",
       "      <th>...</th>\n",
       "      <th>id</th>\n",
       "      <th>trip_leave_id</th>\n",
       "      <th>LINEID</th>\n",
       "      <th>num_lineID</th>\n",
       "      <th>DIRECTION</th>\n",
       "      <th>actual_duration</th>\n",
       "      <th>dayOfWeek</th>\n",
       "      <th>weekend</th>\n",
       "      <th>rushHour</th>\n",
       "      <th>actualARR_hour</th>\n",
       "    </tr>\n",
       "  </thead>\n",
       "  <tbody>\n",
       "    <tr>\n",
       "      <th>4261</th>\n",
       "      <td>2018-09-09</td>\n",
       "      <td>8092088</td>\n",
       "      <td>1</td>\n",
       "      <td>288</td>\n",
       "      <td>66600</td>\n",
       "      <td>66600</td>\n",
       "      <td>66600</td>\n",
       "      <td>66600</td>\n",
       "      <td>1932322</td>\n",
       "      <td>2018</td>\n",
       "      <td>...</td>\n",
       "      <td>20180909809208801</td>\n",
       "      <td>201809098092088</td>\n",
       "      <td>41B</td>\n",
       "      <td>76</td>\n",
       "      <td>1</td>\n",
       "      <td>3018</td>\n",
       "      <td>6</td>\n",
       "      <td>1</td>\n",
       "      <td>0</td>\n",
       "      <td>18</td>\n",
       "    </tr>\n",
       "    <tr>\n",
       "      <th>4262</th>\n",
       "      <td>2018-09-09</td>\n",
       "      <td>8092088</td>\n",
       "      <td>2</td>\n",
       "      <td>1171</td>\n",
       "      <td>66653</td>\n",
       "      <td>66653</td>\n",
       "      <td>66653</td>\n",
       "      <td>66653</td>\n",
       "      <td>1932322</td>\n",
       "      <td>2018</td>\n",
       "      <td>...</td>\n",
       "      <td>20180909809208802</td>\n",
       "      <td>201809098092088</td>\n",
       "      <td>41B</td>\n",
       "      <td>76</td>\n",
       "      <td>1</td>\n",
       "      <td>3018</td>\n",
       "      <td>6</td>\n",
       "      <td>1</td>\n",
       "      <td>0</td>\n",
       "      <td>19</td>\n",
       "    </tr>\n",
       "    <tr>\n",
       "      <th>4263</th>\n",
       "      <td>2018-09-09</td>\n",
       "      <td>8092088</td>\n",
       "      <td>3</td>\n",
       "      <td>1172</td>\n",
       "      <td>66694</td>\n",
       "      <td>66694</td>\n",
       "      <td>66694</td>\n",
       "      <td>66694</td>\n",
       "      <td>1932322</td>\n",
       "      <td>2018</td>\n",
       "      <td>...</td>\n",
       "      <td>20180909809208803</td>\n",
       "      <td>201809098092088</td>\n",
       "      <td>41B</td>\n",
       "      <td>76</td>\n",
       "      <td>1</td>\n",
       "      <td>3018</td>\n",
       "      <td>6</td>\n",
       "      <td>1</td>\n",
       "      <td>0</td>\n",
       "      <td>19</td>\n",
       "    </tr>\n",
       "    <tr>\n",
       "      <th>4264</th>\n",
       "      <td>2018-09-09</td>\n",
       "      <td>8092088</td>\n",
       "      <td>4</td>\n",
       "      <td>1173</td>\n",
       "      <td>66753</td>\n",
       "      <td>66753</td>\n",
       "      <td>66753</td>\n",
       "      <td>66753</td>\n",
       "      <td>1932322</td>\n",
       "      <td>2018</td>\n",
       "      <td>...</td>\n",
       "      <td>20180909809208804</td>\n",
       "      <td>201809098092088</td>\n",
       "      <td>41B</td>\n",
       "      <td>76</td>\n",
       "      <td>1</td>\n",
       "      <td>3018</td>\n",
       "      <td>6</td>\n",
       "      <td>1</td>\n",
       "      <td>0</td>\n",
       "      <td>19</td>\n",
       "    </tr>\n",
       "    <tr>\n",
       "      <th>4265</th>\n",
       "      <td>2018-09-09</td>\n",
       "      <td>8092088</td>\n",
       "      <td>5</td>\n",
       "      <td>1174</td>\n",
       "      <td>66828</td>\n",
       "      <td>66828</td>\n",
       "      <td>66828</td>\n",
       "      <td>66828</td>\n",
       "      <td>1932322</td>\n",
       "      <td>2018</td>\n",
       "      <td>...</td>\n",
       "      <td>20180909809208805</td>\n",
       "      <td>201809098092088</td>\n",
       "      <td>41B</td>\n",
       "      <td>76</td>\n",
       "      <td>1</td>\n",
       "      <td>3018</td>\n",
       "      <td>6</td>\n",
       "      <td>1</td>\n",
       "      <td>0</td>\n",
       "      <td>19</td>\n",
       "    </tr>\n",
       "  </tbody>\n",
       "</table>\n",
       "<p>5 rows × 22 columns</p>\n",
       "</div>"
      ],
      "text/plain": [
       "     DAYOFSERVICE   TRIPID  PROGRNUMBER  STOPPOINTID  PLANNEDTIME_ARR  \\\n",
       "4261   2018-09-09  8092088            1          288            66600   \n",
       "4262   2018-09-09  8092088            2         1171            66653   \n",
       "4263   2018-09-09  8092088            3         1172            66694   \n",
       "4264   2018-09-09  8092088            4         1173            66753   \n",
       "4265   2018-09-09  8092088            5         1174            66828   \n",
       "\n",
       "      PLANNEDTIME_DEP  ACTUALTIME_ARR  ACTUALTIME_DEP  VEHICLEID  year  ...  \\\n",
       "4261            66600           66600           66600    1932322  2018  ...   \n",
       "4262            66653           66653           66653    1932322  2018  ...   \n",
       "4263            66694           66694           66694    1932322  2018  ...   \n",
       "4264            66753           66753           66753    1932322  2018  ...   \n",
       "4265            66828           66828           66828    1932322  2018  ...   \n",
       "\n",
       "                     id    trip_leave_id  LINEID  num_lineID DIRECTION  \\\n",
       "4261  20180909809208801  201809098092088     41B          76         1   \n",
       "4262  20180909809208802  201809098092088     41B          76         1   \n",
       "4263  20180909809208803  201809098092088     41B          76         1   \n",
       "4264  20180909809208804  201809098092088     41B          76         1   \n",
       "4265  20180909809208805  201809098092088     41B          76         1   \n",
       "\n",
       "      actual_duration  dayOfWeek  weekend  rushHour  actualARR_hour  \n",
       "4261             3018          6        1         0              18  \n",
       "4262             3018          6        1         0              19  \n",
       "4263             3018          6        1         0              19  \n",
       "4264             3018          6        1         0              19  \n",
       "4265             3018          6        1         0              19  \n",
       "\n",
       "[5 rows x 22 columns]"
      ]
     },
     "execution_count": 40,
     "metadata": {},
     "output_type": "execute_result"
    }
   ],
   "source": [
    "wk.head()"
   ]
  },
  {
   "cell_type": "code",
   "execution_count": 41,
   "id": "91131d06",
   "metadata": {},
   "outputs": [
    {
     "data": {
      "text/plain": [
       "(8581969, 22)"
      ]
     },
     "execution_count": 41,
     "metadata": {},
     "output_type": "execute_result"
    }
   ],
   "source": [
    "wk.shape"
   ]
  },
  {
   "cell_type": "markdown",
   "id": "3a88d28c",
   "metadata": {},
   "source": [
    "<h3>Send to CSV</h3>"
   ]
  },
  {
   "cell_type": "code",
   "execution_count": 42,
   "id": "8bc23b00",
   "metadata": {},
   "outputs": [],
   "source": [
    "# Send df to csv:\n",
    "lwk.to_csv('v5_17A_tripLeave6_sp3.csv', index=False)"
   ]
  },
  {
   "cell_type": "markdown",
   "id": "12bd18a1",
   "metadata": {},
   "source": [
    "## Route 41B"
   ]
  },
  {
   "cell_type": "code",
   "execution_count": 43,
   "id": "310eb1b2",
   "metadata": {},
   "outputs": [],
   "source": [
    "lwk = wk[(wk['LINEID'] == '41B')]"
   ]
  },
  {
   "cell_type": "code",
   "execution_count": 44,
   "id": "9d7e0310",
   "metadata": {},
   "outputs": [
    {
     "data": {
      "text/plain": [
       "(19556, 22)"
      ]
     },
     "execution_count": 44,
     "metadata": {},
     "output_type": "execute_result"
    }
   ],
   "source": [
    "lwk.shape"
   ]
  },
  {
   "cell_type": "code",
   "execution_count": 45,
   "id": "2bc58961",
   "metadata": {},
   "outputs": [],
   "source": [
    "# Drop Route 41B rows from wk\n",
    "wk.drop(wk[wk['LINEID'] == '41B'].index, inplace = True)"
   ]
  },
  {
   "cell_type": "code",
   "execution_count": 46,
   "id": "e626322e",
   "metadata": {},
   "outputs": [
    {
     "data": {
      "text/html": [
       "<div>\n",
       "<style scoped>\n",
       "    .dataframe tbody tr th:only-of-type {\n",
       "        vertical-align: middle;\n",
       "    }\n",
       "\n",
       "    .dataframe tbody tr th {\n",
       "        vertical-align: top;\n",
       "    }\n",
       "\n",
       "    .dataframe thead th {\n",
       "        text-align: right;\n",
       "    }\n",
       "</style>\n",
       "<table border=\"1\" class=\"dataframe\">\n",
       "  <thead>\n",
       "    <tr style=\"text-align: right;\">\n",
       "      <th></th>\n",
       "      <th>DAYOFSERVICE</th>\n",
       "      <th>TRIPID</th>\n",
       "      <th>PROGRNUMBER</th>\n",
       "      <th>STOPPOINTID</th>\n",
       "      <th>PLANNEDTIME_ARR</th>\n",
       "      <th>PLANNEDTIME_DEP</th>\n",
       "      <th>ACTUALTIME_ARR</th>\n",
       "      <th>ACTUALTIME_DEP</th>\n",
       "      <th>VEHICLEID</th>\n",
       "      <th>year</th>\n",
       "      <th>...</th>\n",
       "      <th>id</th>\n",
       "      <th>trip_leave_id</th>\n",
       "      <th>LINEID</th>\n",
       "      <th>num_lineID</th>\n",
       "      <th>DIRECTION</th>\n",
       "      <th>actual_duration</th>\n",
       "      <th>dayOfWeek</th>\n",
       "      <th>weekend</th>\n",
       "      <th>rushHour</th>\n",
       "      <th>actualARR_hour</th>\n",
       "    </tr>\n",
       "  </thead>\n",
       "  <tbody>\n",
       "    <tr>\n",
       "      <th>4358</th>\n",
       "      <td>2018-09-09</td>\n",
       "      <td>8092093</td>\n",
       "      <td>1</td>\n",
       "      <td>6285</td>\n",
       "      <td>29700</td>\n",
       "      <td>29700</td>\n",
       "      <td>29700</td>\n",
       "      <td>29700</td>\n",
       "      <td>1932331</td>\n",
       "      <td>2018</td>\n",
       "      <td>...</td>\n",
       "      <td>20180909809209301</td>\n",
       "      <td>201809098092093</td>\n",
       "      <td>15B</td>\n",
       "      <td>22</td>\n",
       "      <td>2</td>\n",
       "      <td>2819</td>\n",
       "      <td>6</td>\n",
       "      <td>1</td>\n",
       "      <td>0</td>\n",
       "      <td>8</td>\n",
       "    </tr>\n",
       "    <tr>\n",
       "      <th>4359</th>\n",
       "      <td>2018-09-09</td>\n",
       "      <td>8092093</td>\n",
       "      <td>2</td>\n",
       "      <td>6286</td>\n",
       "      <td>29728</td>\n",
       "      <td>29728</td>\n",
       "      <td>29728</td>\n",
       "      <td>29728</td>\n",
       "      <td>1932331</td>\n",
       "      <td>2018</td>\n",
       "      <td>...</td>\n",
       "      <td>20180909809209302</td>\n",
       "      <td>201809098092093</td>\n",
       "      <td>15B</td>\n",
       "      <td>22</td>\n",
       "      <td>2</td>\n",
       "      <td>2819</td>\n",
       "      <td>6</td>\n",
       "      <td>1</td>\n",
       "      <td>0</td>\n",
       "      <td>8</td>\n",
       "    </tr>\n",
       "    <tr>\n",
       "      <th>4360</th>\n",
       "      <td>2018-09-09</td>\n",
       "      <td>8092093</td>\n",
       "      <td>3</td>\n",
       "      <td>6287</td>\n",
       "      <td>29788</td>\n",
       "      <td>29788</td>\n",
       "      <td>29788</td>\n",
       "      <td>29788</td>\n",
       "      <td>1932331</td>\n",
       "      <td>2018</td>\n",
       "      <td>...</td>\n",
       "      <td>20180909809209303</td>\n",
       "      <td>201809098092093</td>\n",
       "      <td>15B</td>\n",
       "      <td>22</td>\n",
       "      <td>2</td>\n",
       "      <td>2819</td>\n",
       "      <td>6</td>\n",
       "      <td>1</td>\n",
       "      <td>0</td>\n",
       "      <td>8</td>\n",
       "    </tr>\n",
       "    <tr>\n",
       "      <th>4361</th>\n",
       "      <td>2018-09-09</td>\n",
       "      <td>8092093</td>\n",
       "      <td>4</td>\n",
       "      <td>6288</td>\n",
       "      <td>29823</td>\n",
       "      <td>29823</td>\n",
       "      <td>29823</td>\n",
       "      <td>29823</td>\n",
       "      <td>1932331</td>\n",
       "      <td>2018</td>\n",
       "      <td>...</td>\n",
       "      <td>20180909809209304</td>\n",
       "      <td>201809098092093</td>\n",
       "      <td>15B</td>\n",
       "      <td>22</td>\n",
       "      <td>2</td>\n",
       "      <td>2819</td>\n",
       "      <td>6</td>\n",
       "      <td>1</td>\n",
       "      <td>0</td>\n",
       "      <td>8</td>\n",
       "    </tr>\n",
       "    <tr>\n",
       "      <th>4362</th>\n",
       "      <td>2018-09-09</td>\n",
       "      <td>8092093</td>\n",
       "      <td>5</td>\n",
       "      <td>6342</td>\n",
       "      <td>29863</td>\n",
       "      <td>29863</td>\n",
       "      <td>29863</td>\n",
       "      <td>29863</td>\n",
       "      <td>1932331</td>\n",
       "      <td>2018</td>\n",
       "      <td>...</td>\n",
       "      <td>20180909809209305</td>\n",
       "      <td>201809098092093</td>\n",
       "      <td>15B</td>\n",
       "      <td>22</td>\n",
       "      <td>2</td>\n",
       "      <td>2819</td>\n",
       "      <td>6</td>\n",
       "      <td>1</td>\n",
       "      <td>0</td>\n",
       "      <td>8</td>\n",
       "    </tr>\n",
       "  </tbody>\n",
       "</table>\n",
       "<p>5 rows × 22 columns</p>\n",
       "</div>"
      ],
      "text/plain": [
       "     DAYOFSERVICE   TRIPID  PROGRNUMBER  STOPPOINTID  PLANNEDTIME_ARR  \\\n",
       "4358   2018-09-09  8092093            1         6285            29700   \n",
       "4359   2018-09-09  8092093            2         6286            29728   \n",
       "4360   2018-09-09  8092093            3         6287            29788   \n",
       "4361   2018-09-09  8092093            4         6288            29823   \n",
       "4362   2018-09-09  8092093            5         6342            29863   \n",
       "\n",
       "      PLANNEDTIME_DEP  ACTUALTIME_ARR  ACTUALTIME_DEP  VEHICLEID  year  ...  \\\n",
       "4358            29700           29700           29700    1932331  2018  ...   \n",
       "4359            29728           29728           29728    1932331  2018  ...   \n",
       "4360            29788           29788           29788    1932331  2018  ...   \n",
       "4361            29823           29823           29823    1932331  2018  ...   \n",
       "4362            29863           29863           29863    1932331  2018  ...   \n",
       "\n",
       "                     id    trip_leave_id  LINEID  num_lineID DIRECTION  \\\n",
       "4358  20180909809209301  201809098092093     15B          22         2   \n",
       "4359  20180909809209302  201809098092093     15B          22         2   \n",
       "4360  20180909809209303  201809098092093     15B          22         2   \n",
       "4361  20180909809209304  201809098092093     15B          22         2   \n",
       "4362  20180909809209305  201809098092093     15B          22         2   \n",
       "\n",
       "      actual_duration  dayOfWeek  weekend  rushHour  actualARR_hour  \n",
       "4358             2819          6        1         0               8  \n",
       "4359             2819          6        1         0               8  \n",
       "4360             2819          6        1         0               8  \n",
       "4361             2819          6        1         0               8  \n",
       "4362             2819          6        1         0               8  \n",
       "\n",
       "[5 rows x 22 columns]"
      ]
     },
     "execution_count": 46,
     "metadata": {},
     "output_type": "execute_result"
    }
   ],
   "source": [
    "wk.head()"
   ]
  },
  {
   "cell_type": "code",
   "execution_count": 47,
   "id": "1925fbda",
   "metadata": {},
   "outputs": [
    {
     "data": {
      "text/plain": [
       "(8562413, 22)"
      ]
     },
     "execution_count": 47,
     "metadata": {},
     "output_type": "execute_result"
    }
   ],
   "source": [
    "wk.shape"
   ]
  },
  {
   "cell_type": "markdown",
   "id": "fbce052d",
   "metadata": {},
   "source": [
    "<h3>Send to CSV</h3>"
   ]
  },
  {
   "cell_type": "code",
   "execution_count": 48,
   "id": "f7db27b7",
   "metadata": {},
   "outputs": [],
   "source": [
    "# Send df to csv:\n",
    "lwk.to_csv('v5_41B_tripLeave6_sp3.csv', index=False)"
   ]
  },
  {
   "cell_type": "markdown",
   "id": "b634e919",
   "metadata": {},
   "source": [
    "## Route 15B"
   ]
  },
  {
   "cell_type": "code",
   "execution_count": 49,
   "id": "3953f651",
   "metadata": {},
   "outputs": [],
   "source": [
    "lwk = wk[(wk['LINEID'] == '15B')]"
   ]
  },
  {
   "cell_type": "code",
   "execution_count": 50,
   "id": "c2cf16ab",
   "metadata": {},
   "outputs": [
    {
     "data": {
      "text/plain": [
       "(328238, 22)"
      ]
     },
     "execution_count": 50,
     "metadata": {},
     "output_type": "execute_result"
    }
   ],
   "source": [
    "lwk.shape"
   ]
  },
  {
   "cell_type": "code",
   "execution_count": 51,
   "id": "9c60ac87",
   "metadata": {},
   "outputs": [],
   "source": [
    "# Drop Route 15B rows from wk\n",
    "wk.drop(wk[wk['LINEID'] == '15B'].index, inplace = True)"
   ]
  },
  {
   "cell_type": "code",
   "execution_count": 52,
   "id": "697f4f68",
   "metadata": {},
   "outputs": [
    {
     "data": {
      "text/html": [
       "<div>\n",
       "<style scoped>\n",
       "    .dataframe tbody tr th:only-of-type {\n",
       "        vertical-align: middle;\n",
       "    }\n",
       "\n",
       "    .dataframe tbody tr th {\n",
       "        vertical-align: top;\n",
       "    }\n",
       "\n",
       "    .dataframe thead th {\n",
       "        text-align: right;\n",
       "    }\n",
       "</style>\n",
       "<table border=\"1\" class=\"dataframe\">\n",
       "  <thead>\n",
       "    <tr style=\"text-align: right;\">\n",
       "      <th></th>\n",
       "      <th>DAYOFSERVICE</th>\n",
       "      <th>TRIPID</th>\n",
       "      <th>PROGRNUMBER</th>\n",
       "      <th>STOPPOINTID</th>\n",
       "      <th>PLANNEDTIME_ARR</th>\n",
       "      <th>PLANNEDTIME_DEP</th>\n",
       "      <th>ACTUALTIME_ARR</th>\n",
       "      <th>ACTUALTIME_DEP</th>\n",
       "      <th>VEHICLEID</th>\n",
       "      <th>year</th>\n",
       "      <th>...</th>\n",
       "      <th>id</th>\n",
       "      <th>trip_leave_id</th>\n",
       "      <th>LINEID</th>\n",
       "      <th>num_lineID</th>\n",
       "      <th>DIRECTION</th>\n",
       "      <th>actual_duration</th>\n",
       "      <th>dayOfWeek</th>\n",
       "      <th>weekend</th>\n",
       "      <th>rushHour</th>\n",
       "      <th>actualARR_hour</th>\n",
       "    </tr>\n",
       "  </thead>\n",
       "  <tbody>\n",
       "    <tr>\n",
       "      <th>5149</th>\n",
       "      <td>2018-09-09</td>\n",
       "      <td>8092280</td>\n",
       "      <td>1</td>\n",
       "      <td>7662</td>\n",
       "      <td>34200</td>\n",
       "      <td>34200</td>\n",
       "      <td>34200</td>\n",
       "      <td>34200</td>\n",
       "      <td>3265666</td>\n",
       "      <td>2018</td>\n",
       "      <td>...</td>\n",
       "      <td>20180909809228001</td>\n",
       "      <td>201809098092280</td>\n",
       "      <td>47</td>\n",
       "      <td>88</td>\n",
       "      <td>1</td>\n",
       "      <td>2687</td>\n",
       "      <td>6</td>\n",
       "      <td>1</td>\n",
       "      <td>0</td>\n",
       "      <td>10</td>\n",
       "    </tr>\n",
       "    <tr>\n",
       "      <th>5150</th>\n",
       "      <td>2018-09-09</td>\n",
       "      <td>8092280</td>\n",
       "      <td>2</td>\n",
       "      <td>7564</td>\n",
       "      <td>34290</td>\n",
       "      <td>34290</td>\n",
       "      <td>34290</td>\n",
       "      <td>34290</td>\n",
       "      <td>3265666</td>\n",
       "      <td>2018</td>\n",
       "      <td>...</td>\n",
       "      <td>20180909809228002</td>\n",
       "      <td>201809098092280</td>\n",
       "      <td>47</td>\n",
       "      <td>88</td>\n",
       "      <td>1</td>\n",
       "      <td>2687</td>\n",
       "      <td>6</td>\n",
       "      <td>1</td>\n",
       "      <td>0</td>\n",
       "      <td>10</td>\n",
       "    </tr>\n",
       "    <tr>\n",
       "      <th>5151</th>\n",
       "      <td>2018-09-09</td>\n",
       "      <td>8092280</td>\n",
       "      <td>3</td>\n",
       "      <td>340</td>\n",
       "      <td>34380</td>\n",
       "      <td>34380</td>\n",
       "      <td>34380</td>\n",
       "      <td>34380</td>\n",
       "      <td>3265666</td>\n",
       "      <td>2018</td>\n",
       "      <td>...</td>\n",
       "      <td>20180909809228003</td>\n",
       "      <td>201809098092280</td>\n",
       "      <td>47</td>\n",
       "      <td>88</td>\n",
       "      <td>1</td>\n",
       "      <td>2687</td>\n",
       "      <td>6</td>\n",
       "      <td>1</td>\n",
       "      <td>0</td>\n",
       "      <td>10</td>\n",
       "    </tr>\n",
       "    <tr>\n",
       "      <th>5152</th>\n",
       "      <td>2018-09-09</td>\n",
       "      <td>8092280</td>\n",
       "      <td>4</td>\n",
       "      <td>350</td>\n",
       "      <td>34470</td>\n",
       "      <td>34470</td>\n",
       "      <td>34470</td>\n",
       "      <td>34470</td>\n",
       "      <td>3265666</td>\n",
       "      <td>2018</td>\n",
       "      <td>...</td>\n",
       "      <td>20180909809228004</td>\n",
       "      <td>201809098092280</td>\n",
       "      <td>47</td>\n",
       "      <td>88</td>\n",
       "      <td>1</td>\n",
       "      <td>2687</td>\n",
       "      <td>6</td>\n",
       "      <td>1</td>\n",
       "      <td>0</td>\n",
       "      <td>10</td>\n",
       "    </tr>\n",
       "    <tr>\n",
       "      <th>5153</th>\n",
       "      <td>2018-09-09</td>\n",
       "      <td>8092280</td>\n",
       "      <td>5</td>\n",
       "      <td>351</td>\n",
       "      <td>34545</td>\n",
       "      <td>34545</td>\n",
       "      <td>34545</td>\n",
       "      <td>34545</td>\n",
       "      <td>3265666</td>\n",
       "      <td>2018</td>\n",
       "      <td>...</td>\n",
       "      <td>20180909809228005</td>\n",
       "      <td>201809098092280</td>\n",
       "      <td>47</td>\n",
       "      <td>88</td>\n",
       "      <td>1</td>\n",
       "      <td>2687</td>\n",
       "      <td>6</td>\n",
       "      <td>1</td>\n",
       "      <td>0</td>\n",
       "      <td>10</td>\n",
       "    </tr>\n",
       "  </tbody>\n",
       "</table>\n",
       "<p>5 rows × 22 columns</p>\n",
       "</div>"
      ],
      "text/plain": [
       "     DAYOFSERVICE   TRIPID  PROGRNUMBER  STOPPOINTID  PLANNEDTIME_ARR  \\\n",
       "5149   2018-09-09  8092280            1         7662            34200   \n",
       "5150   2018-09-09  8092280            2         7564            34290   \n",
       "5151   2018-09-09  8092280            3          340            34380   \n",
       "5152   2018-09-09  8092280            4          350            34470   \n",
       "5153   2018-09-09  8092280            5          351            34545   \n",
       "\n",
       "      PLANNEDTIME_DEP  ACTUALTIME_ARR  ACTUALTIME_DEP  VEHICLEID  year  ...  \\\n",
       "5149            34200           34200           34200    3265666  2018  ...   \n",
       "5150            34290           34290           34290    3265666  2018  ...   \n",
       "5151            34380           34380           34380    3265666  2018  ...   \n",
       "5152            34470           34470           34470    3265666  2018  ...   \n",
       "5153            34545           34545           34545    3265666  2018  ...   \n",
       "\n",
       "                     id    trip_leave_id  LINEID  num_lineID DIRECTION  \\\n",
       "5149  20180909809228001  201809098092280      47          88         1   \n",
       "5150  20180909809228002  201809098092280      47          88         1   \n",
       "5151  20180909809228003  201809098092280      47          88         1   \n",
       "5152  20180909809228004  201809098092280      47          88         1   \n",
       "5153  20180909809228005  201809098092280      47          88         1   \n",
       "\n",
       "      actual_duration  dayOfWeek  weekend  rushHour  actualARR_hour  \n",
       "5149             2687          6        1         0              10  \n",
       "5150             2687          6        1         0              10  \n",
       "5151             2687          6        1         0              10  \n",
       "5152             2687          6        1         0              10  \n",
       "5153             2687          6        1         0              10  \n",
       "\n",
       "[5 rows x 22 columns]"
      ]
     },
     "execution_count": 52,
     "metadata": {},
     "output_type": "execute_result"
    }
   ],
   "source": [
    "wk.head()"
   ]
  },
  {
   "cell_type": "code",
   "execution_count": 53,
   "id": "008d0da7",
   "metadata": {},
   "outputs": [
    {
     "data": {
      "text/plain": [
       "(8234175, 22)"
      ]
     },
     "execution_count": 53,
     "metadata": {},
     "output_type": "execute_result"
    }
   ],
   "source": [
    "wk.shape"
   ]
  },
  {
   "cell_type": "markdown",
   "id": "344cabed",
   "metadata": {},
   "source": [
    "<h3>Send to CSV</h3>"
   ]
  },
  {
   "cell_type": "code",
   "execution_count": 54,
   "id": "a87bdae2",
   "metadata": {},
   "outputs": [],
   "source": [
    "# Send df to csv:\n",
    "lwk.to_csv('v5_15B_tripLeave6_sp3.csv', index=False)"
   ]
  },
  {
   "cell_type": "markdown",
   "id": "5abb48a6",
   "metadata": {},
   "source": [
    "## Route 47"
   ]
  },
  {
   "cell_type": "code",
   "execution_count": 55,
   "id": "62bd656c",
   "metadata": {},
   "outputs": [],
   "source": [
    "lwk = wk[(wk['LINEID'] == '47')]"
   ]
  },
  {
   "cell_type": "code",
   "execution_count": 56,
   "id": "5a3f3ff5",
   "metadata": {},
   "outputs": [
    {
     "data": {
      "text/plain": [
       "(91950, 22)"
      ]
     },
     "execution_count": 56,
     "metadata": {},
     "output_type": "execute_result"
    }
   ],
   "source": [
    "lwk.shape"
   ]
  },
  {
   "cell_type": "code",
   "execution_count": 57,
   "id": "dce6fcb4",
   "metadata": {},
   "outputs": [],
   "source": [
    "# Drop Route 47 rows from wk\n",
    "wk.drop(wk[wk['LINEID'] == '47'].index, inplace = True)"
   ]
  },
  {
   "cell_type": "code",
   "execution_count": 58,
   "id": "79c03659",
   "metadata": {},
   "outputs": [
    {
     "data": {
      "text/html": [
       "<div>\n",
       "<style scoped>\n",
       "    .dataframe tbody tr th:only-of-type {\n",
       "        vertical-align: middle;\n",
       "    }\n",
       "\n",
       "    .dataframe tbody tr th {\n",
       "        vertical-align: top;\n",
       "    }\n",
       "\n",
       "    .dataframe thead th {\n",
       "        text-align: right;\n",
       "    }\n",
       "</style>\n",
       "<table border=\"1\" class=\"dataframe\">\n",
       "  <thead>\n",
       "    <tr style=\"text-align: right;\">\n",
       "      <th></th>\n",
       "      <th>DAYOFSERVICE</th>\n",
       "      <th>TRIPID</th>\n",
       "      <th>PROGRNUMBER</th>\n",
       "      <th>STOPPOINTID</th>\n",
       "      <th>PLANNEDTIME_ARR</th>\n",
       "      <th>PLANNEDTIME_DEP</th>\n",
       "      <th>ACTUALTIME_ARR</th>\n",
       "      <th>ACTUALTIME_DEP</th>\n",
       "      <th>VEHICLEID</th>\n",
       "      <th>year</th>\n",
       "      <th>...</th>\n",
       "      <th>id</th>\n",
       "      <th>trip_leave_id</th>\n",
       "      <th>LINEID</th>\n",
       "      <th>num_lineID</th>\n",
       "      <th>DIRECTION</th>\n",
       "      <th>actual_duration</th>\n",
       "      <th>dayOfWeek</th>\n",
       "      <th>weekend</th>\n",
       "      <th>rushHour</th>\n",
       "      <th>actualARR_hour</th>\n",
       "    </tr>\n",
       "  </thead>\n",
       "  <tbody>\n",
       "    <tr>\n",
       "      <th>6274</th>\n",
       "      <td>2018-09-09</td>\n",
       "      <td>8092382</td>\n",
       "      <td>1</td>\n",
       "      <td>2353</td>\n",
       "      <td>32400</td>\n",
       "      <td>32400</td>\n",
       "      <td>32400</td>\n",
       "      <td>32400</td>\n",
       "      <td>2172289</td>\n",
       "      <td>2018</td>\n",
       "      <td>...</td>\n",
       "      <td>20180909809238201</td>\n",
       "      <td>201809098092382</td>\n",
       "      <td>27</td>\n",
       "      <td>43</td>\n",
       "      <td>2</td>\n",
       "      <td>4907</td>\n",
       "      <td>6</td>\n",
       "      <td>1</td>\n",
       "      <td>0</td>\n",
       "      <td>9</td>\n",
       "    </tr>\n",
       "    <tr>\n",
       "      <th>6275</th>\n",
       "      <td>2018-09-09</td>\n",
       "      <td>8092382</td>\n",
       "      <td>2</td>\n",
       "      <td>4643</td>\n",
       "      <td>32442</td>\n",
       "      <td>32442</td>\n",
       "      <td>32442</td>\n",
       "      <td>32442</td>\n",
       "      <td>2172289</td>\n",
       "      <td>2018</td>\n",
       "      <td>...</td>\n",
       "      <td>20180909809238202</td>\n",
       "      <td>201809098092382</td>\n",
       "      <td>27</td>\n",
       "      <td>43</td>\n",
       "      <td>2</td>\n",
       "      <td>4907</td>\n",
       "      <td>6</td>\n",
       "      <td>1</td>\n",
       "      <td>0</td>\n",
       "      <td>9</td>\n",
       "    </tr>\n",
       "    <tr>\n",
       "      <th>6276</th>\n",
       "      <td>2018-09-09</td>\n",
       "      <td>8092382</td>\n",
       "      <td>3</td>\n",
       "      <td>4644</td>\n",
       "      <td>32492</td>\n",
       "      <td>32492</td>\n",
       "      <td>32492</td>\n",
       "      <td>32492</td>\n",
       "      <td>2172289</td>\n",
       "      <td>2018</td>\n",
       "      <td>...</td>\n",
       "      <td>20180909809238203</td>\n",
       "      <td>201809098092382</td>\n",
       "      <td>27</td>\n",
       "      <td>43</td>\n",
       "      <td>2</td>\n",
       "      <td>4907</td>\n",
       "      <td>6</td>\n",
       "      <td>1</td>\n",
       "      <td>0</td>\n",
       "      <td>9</td>\n",
       "    </tr>\n",
       "    <tr>\n",
       "      <th>6277</th>\n",
       "      <td>2018-09-09</td>\n",
       "      <td>8092382</td>\n",
       "      <td>4</td>\n",
       "      <td>4645</td>\n",
       "      <td>32524</td>\n",
       "      <td>32524</td>\n",
       "      <td>32524</td>\n",
       "      <td>32524</td>\n",
       "      <td>2172289</td>\n",
       "      <td>2018</td>\n",
       "      <td>...</td>\n",
       "      <td>20180909809238204</td>\n",
       "      <td>201809098092382</td>\n",
       "      <td>27</td>\n",
       "      <td>43</td>\n",
       "      <td>2</td>\n",
       "      <td>4907</td>\n",
       "      <td>6</td>\n",
       "      <td>1</td>\n",
       "      <td>0</td>\n",
       "      <td>9</td>\n",
       "    </tr>\n",
       "    <tr>\n",
       "      <th>6278</th>\n",
       "      <td>2018-09-09</td>\n",
       "      <td>8092382</td>\n",
       "      <td>5</td>\n",
       "      <td>4440</td>\n",
       "      <td>32557</td>\n",
       "      <td>32557</td>\n",
       "      <td>32557</td>\n",
       "      <td>32557</td>\n",
       "      <td>2172289</td>\n",
       "      <td>2018</td>\n",
       "      <td>...</td>\n",
       "      <td>20180909809238205</td>\n",
       "      <td>201809098092382</td>\n",
       "      <td>27</td>\n",
       "      <td>43</td>\n",
       "      <td>2</td>\n",
       "      <td>4907</td>\n",
       "      <td>6</td>\n",
       "      <td>1</td>\n",
       "      <td>0</td>\n",
       "      <td>9</td>\n",
       "    </tr>\n",
       "  </tbody>\n",
       "</table>\n",
       "<p>5 rows × 22 columns</p>\n",
       "</div>"
      ],
      "text/plain": [
       "     DAYOFSERVICE   TRIPID  PROGRNUMBER  STOPPOINTID  PLANNEDTIME_ARR  \\\n",
       "6274   2018-09-09  8092382            1         2353            32400   \n",
       "6275   2018-09-09  8092382            2         4643            32442   \n",
       "6276   2018-09-09  8092382            3         4644            32492   \n",
       "6277   2018-09-09  8092382            4         4645            32524   \n",
       "6278   2018-09-09  8092382            5         4440            32557   \n",
       "\n",
       "      PLANNEDTIME_DEP  ACTUALTIME_ARR  ACTUALTIME_DEP  VEHICLEID  year  ...  \\\n",
       "6274            32400           32400           32400    2172289  2018  ...   \n",
       "6275            32442           32442           32442    2172289  2018  ...   \n",
       "6276            32492           32492           32492    2172289  2018  ...   \n",
       "6277            32524           32524           32524    2172289  2018  ...   \n",
       "6278            32557           32557           32557    2172289  2018  ...   \n",
       "\n",
       "                     id    trip_leave_id  LINEID  num_lineID DIRECTION  \\\n",
       "6274  20180909809238201  201809098092382      27          43         2   \n",
       "6275  20180909809238202  201809098092382      27          43         2   \n",
       "6276  20180909809238203  201809098092382      27          43         2   \n",
       "6277  20180909809238204  201809098092382      27          43         2   \n",
       "6278  20180909809238205  201809098092382      27          43         2   \n",
       "\n",
       "      actual_duration  dayOfWeek  weekend  rushHour  actualARR_hour  \n",
       "6274             4907          6        1         0               9  \n",
       "6275             4907          6        1         0               9  \n",
       "6276             4907          6        1         0               9  \n",
       "6277             4907          6        1         0               9  \n",
       "6278             4907          6        1         0               9  \n",
       "\n",
       "[5 rows x 22 columns]"
      ]
     },
     "execution_count": 58,
     "metadata": {},
     "output_type": "execute_result"
    }
   ],
   "source": [
    "wk.head()"
   ]
  },
  {
   "cell_type": "code",
   "execution_count": 59,
   "id": "3edf2ff0",
   "metadata": {},
   "outputs": [
    {
     "data": {
      "text/plain": [
       "(8142225, 22)"
      ]
     },
     "execution_count": 59,
     "metadata": {},
     "output_type": "execute_result"
    }
   ],
   "source": [
    "wk.shape"
   ]
  },
  {
   "cell_type": "markdown",
   "id": "24dedbcb",
   "metadata": {},
   "source": [
    "<h3>Send to CSV</h3>"
   ]
  },
  {
   "cell_type": "code",
   "execution_count": 60,
   "id": "ee8051a4",
   "metadata": {},
   "outputs": [],
   "source": [
    "# Send df to csv:\n",
    "lwk.to_csv('v5_47_tripLeave6_sp3.csv', index=False)"
   ]
  },
  {
   "cell_type": "markdown",
   "id": "a9da300e",
   "metadata": {},
   "source": [
    "## Route 27"
   ]
  },
  {
   "cell_type": "code",
   "execution_count": 61,
   "id": "2aa6c403",
   "metadata": {},
   "outputs": [],
   "source": [
    "lwk = wk[(wk['LINEID'] == '27')]"
   ]
  },
  {
   "cell_type": "code",
   "execution_count": 62,
   "id": "e99640e4",
   "metadata": {},
   "outputs": [
    {
     "data": {
      "text/plain": [
       "(810336, 22)"
      ]
     },
     "execution_count": 62,
     "metadata": {},
     "output_type": "execute_result"
    }
   ],
   "source": [
    "lwk.shape"
   ]
  },
  {
   "cell_type": "code",
   "execution_count": 63,
   "id": "ee26c5af",
   "metadata": {},
   "outputs": [],
   "source": [
    "# Drop Route 27 rows from wk\n",
    "wk.drop(wk[wk['LINEID'] == '27'].index, inplace = True)"
   ]
  },
  {
   "cell_type": "code",
   "execution_count": 64,
   "id": "fd7bc3f4",
   "metadata": {},
   "outputs": [
    {
     "data": {
      "text/html": [
       "<div>\n",
       "<style scoped>\n",
       "    .dataframe tbody tr th:only-of-type {\n",
       "        vertical-align: middle;\n",
       "    }\n",
       "\n",
       "    .dataframe tbody tr th {\n",
       "        vertical-align: top;\n",
       "    }\n",
       "\n",
       "    .dataframe thead th {\n",
       "        text-align: right;\n",
       "    }\n",
       "</style>\n",
       "<table border=\"1\" class=\"dataframe\">\n",
       "  <thead>\n",
       "    <tr style=\"text-align: right;\">\n",
       "      <th></th>\n",
       "      <th>DAYOFSERVICE</th>\n",
       "      <th>TRIPID</th>\n",
       "      <th>PROGRNUMBER</th>\n",
       "      <th>STOPPOINTID</th>\n",
       "      <th>PLANNEDTIME_ARR</th>\n",
       "      <th>PLANNEDTIME_DEP</th>\n",
       "      <th>ACTUALTIME_ARR</th>\n",
       "      <th>ACTUALTIME_DEP</th>\n",
       "      <th>VEHICLEID</th>\n",
       "      <th>year</th>\n",
       "      <th>...</th>\n",
       "      <th>id</th>\n",
       "      <th>trip_leave_id</th>\n",
       "      <th>LINEID</th>\n",
       "      <th>num_lineID</th>\n",
       "      <th>DIRECTION</th>\n",
       "      <th>actual_duration</th>\n",
       "      <th>dayOfWeek</th>\n",
       "      <th>weekend</th>\n",
       "      <th>rushHour</th>\n",
       "      <th>actualARR_hour</th>\n",
       "    </tr>\n",
       "  </thead>\n",
       "  <tbody>\n",
       "    <tr>\n",
       "      <th>7103</th>\n",
       "      <td>2018-09-09</td>\n",
       "      <td>8092456</td>\n",
       "      <td>1</td>\n",
       "      <td>7564</td>\n",
       "      <td>34200</td>\n",
       "      <td>34200</td>\n",
       "      <td>34200</td>\n",
       "      <td>34200</td>\n",
       "      <td>2693210</td>\n",
       "      <td>2018</td>\n",
       "      <td>...</td>\n",
       "      <td>20180909809245601</td>\n",
       "      <td>201809098092456</td>\n",
       "      <td>65</td>\n",
       "      <td>98</td>\n",
       "      <td>1</td>\n",
       "      <td>6610</td>\n",
       "      <td>6</td>\n",
       "      <td>1</td>\n",
       "      <td>0</td>\n",
       "      <td>10</td>\n",
       "    </tr>\n",
       "    <tr>\n",
       "      <th>7104</th>\n",
       "      <td>2018-09-09</td>\n",
       "      <td>8092456</td>\n",
       "      <td>2</td>\n",
       "      <td>4521</td>\n",
       "      <td>34385</td>\n",
       "      <td>34385</td>\n",
       "      <td>34385</td>\n",
       "      <td>34385</td>\n",
       "      <td>2693210</td>\n",
       "      <td>2018</td>\n",
       "      <td>...</td>\n",
       "      <td>20180909809245602</td>\n",
       "      <td>201809098092456</td>\n",
       "      <td>65</td>\n",
       "      <td>98</td>\n",
       "      <td>1</td>\n",
       "      <td>6610</td>\n",
       "      <td>6</td>\n",
       "      <td>1</td>\n",
       "      <td>0</td>\n",
       "      <td>10</td>\n",
       "    </tr>\n",
       "    <tr>\n",
       "      <th>7105</th>\n",
       "      <td>2018-09-09</td>\n",
       "      <td>8092456</td>\n",
       "      <td>3</td>\n",
       "      <td>1283</td>\n",
       "      <td>34516</td>\n",
       "      <td>34516</td>\n",
       "      <td>34516</td>\n",
       "      <td>34516</td>\n",
       "      <td>2693210</td>\n",
       "      <td>2018</td>\n",
       "      <td>...</td>\n",
       "      <td>20180909809245603</td>\n",
       "      <td>201809098092456</td>\n",
       "      <td>65</td>\n",
       "      <td>98</td>\n",
       "      <td>1</td>\n",
       "      <td>6610</td>\n",
       "      <td>6</td>\n",
       "      <td>1</td>\n",
       "      <td>0</td>\n",
       "      <td>10</td>\n",
       "    </tr>\n",
       "    <tr>\n",
       "      <th>7106</th>\n",
       "      <td>2018-09-09</td>\n",
       "      <td>8092456</td>\n",
       "      <td>4</td>\n",
       "      <td>4456</td>\n",
       "      <td>34555</td>\n",
       "      <td>34555</td>\n",
       "      <td>34555</td>\n",
       "      <td>34555</td>\n",
       "      <td>2693210</td>\n",
       "      <td>2018</td>\n",
       "      <td>...</td>\n",
       "      <td>20180909809245604</td>\n",
       "      <td>201809098092456</td>\n",
       "      <td>65</td>\n",
       "      <td>98</td>\n",
       "      <td>1</td>\n",
       "      <td>6610</td>\n",
       "      <td>6</td>\n",
       "      <td>1</td>\n",
       "      <td>0</td>\n",
       "      <td>10</td>\n",
       "    </tr>\n",
       "    <tr>\n",
       "      <th>7107</th>\n",
       "      <td>2018-09-09</td>\n",
       "      <td>8092456</td>\n",
       "      <td>5</td>\n",
       "      <td>1284</td>\n",
       "      <td>34591</td>\n",
       "      <td>34591</td>\n",
       "      <td>34591</td>\n",
       "      <td>34591</td>\n",
       "      <td>2693210</td>\n",
       "      <td>2018</td>\n",
       "      <td>...</td>\n",
       "      <td>20180909809245605</td>\n",
       "      <td>201809098092456</td>\n",
       "      <td>65</td>\n",
       "      <td>98</td>\n",
       "      <td>1</td>\n",
       "      <td>6610</td>\n",
       "      <td>6</td>\n",
       "      <td>1</td>\n",
       "      <td>0</td>\n",
       "      <td>10</td>\n",
       "    </tr>\n",
       "  </tbody>\n",
       "</table>\n",
       "<p>5 rows × 22 columns</p>\n",
       "</div>"
      ],
      "text/plain": [
       "     DAYOFSERVICE   TRIPID  PROGRNUMBER  STOPPOINTID  PLANNEDTIME_ARR  \\\n",
       "7103   2018-09-09  8092456            1         7564            34200   \n",
       "7104   2018-09-09  8092456            2         4521            34385   \n",
       "7105   2018-09-09  8092456            3         1283            34516   \n",
       "7106   2018-09-09  8092456            4         4456            34555   \n",
       "7107   2018-09-09  8092456            5         1284            34591   \n",
       "\n",
       "      PLANNEDTIME_DEP  ACTUALTIME_ARR  ACTUALTIME_DEP  VEHICLEID  year  ...  \\\n",
       "7103            34200           34200           34200    2693210  2018  ...   \n",
       "7104            34385           34385           34385    2693210  2018  ...   \n",
       "7105            34516           34516           34516    2693210  2018  ...   \n",
       "7106            34555           34555           34555    2693210  2018  ...   \n",
       "7107            34591           34591           34591    2693210  2018  ...   \n",
       "\n",
       "                     id    trip_leave_id  LINEID  num_lineID DIRECTION  \\\n",
       "7103  20180909809245601  201809098092456      65          98         1   \n",
       "7104  20180909809245602  201809098092456      65          98         1   \n",
       "7105  20180909809245603  201809098092456      65          98         1   \n",
       "7106  20180909809245604  201809098092456      65          98         1   \n",
       "7107  20180909809245605  201809098092456      65          98         1   \n",
       "\n",
       "      actual_duration  dayOfWeek  weekend  rushHour  actualARR_hour  \n",
       "7103             6610          6        1         0              10  \n",
       "7104             6610          6        1         0              10  \n",
       "7105             6610          6        1         0              10  \n",
       "7106             6610          6        1         0              10  \n",
       "7107             6610          6        1         0              10  \n",
       "\n",
       "[5 rows x 22 columns]"
      ]
     },
     "execution_count": 64,
     "metadata": {},
     "output_type": "execute_result"
    }
   ],
   "source": [
    "wk.head()"
   ]
  },
  {
   "cell_type": "code",
   "execution_count": 65,
   "id": "1b93e616",
   "metadata": {},
   "outputs": [
    {
     "data": {
      "text/plain": [
       "(7331889, 22)"
      ]
     },
     "execution_count": 65,
     "metadata": {},
     "output_type": "execute_result"
    }
   ],
   "source": [
    "wk.shape"
   ]
  },
  {
   "cell_type": "markdown",
   "id": "77b6db13",
   "metadata": {},
   "source": [
    "<h3>Send to CSV</h3>"
   ]
  },
  {
   "cell_type": "code",
   "execution_count": 66,
   "id": "5a01369b",
   "metadata": {},
   "outputs": [],
   "source": [
    "# Send df to csv:\n",
    "lwk.to_csv('v5_27_tripLeave6_sp3.csv', index=False)"
   ]
  },
  {
   "cell_type": "markdown",
   "id": "b95b6a31",
   "metadata": {},
   "source": [
    "## Route 65"
   ]
  },
  {
   "cell_type": "code",
   "execution_count": 67,
   "id": "e80f43ab",
   "metadata": {},
   "outputs": [],
   "source": [
    "lwk = wk[(wk['LINEID'] == '65')]"
   ]
  },
  {
   "cell_type": "code",
   "execution_count": 68,
   "id": "b5239428",
   "metadata": {},
   "outputs": [
    {
     "data": {
      "text/plain": [
       "(115945, 22)"
      ]
     },
     "execution_count": 68,
     "metadata": {},
     "output_type": "execute_result"
    }
   ],
   "source": [
    "lwk.shape"
   ]
  },
  {
   "cell_type": "code",
   "execution_count": 69,
   "id": "c8bc59dc",
   "metadata": {},
   "outputs": [],
   "source": [
    "# Drop Route 65 rows from wk\n",
    "wk.drop(wk[wk['LINEID'] == '65'].index, inplace = True)"
   ]
  },
  {
   "cell_type": "code",
   "execution_count": 70,
   "id": "bbd36229",
   "metadata": {},
   "outputs": [
    {
     "data": {
      "text/html": [
       "<div>\n",
       "<style scoped>\n",
       "    .dataframe tbody tr th:only-of-type {\n",
       "        vertical-align: middle;\n",
       "    }\n",
       "\n",
       "    .dataframe tbody tr th {\n",
       "        vertical-align: top;\n",
       "    }\n",
       "\n",
       "    .dataframe thead th {\n",
       "        text-align: right;\n",
       "    }\n",
       "</style>\n",
       "<table border=\"1\" class=\"dataframe\">\n",
       "  <thead>\n",
       "    <tr style=\"text-align: right;\">\n",
       "      <th></th>\n",
       "      <th>DAYOFSERVICE</th>\n",
       "      <th>TRIPID</th>\n",
       "      <th>PROGRNUMBER</th>\n",
       "      <th>STOPPOINTID</th>\n",
       "      <th>PLANNEDTIME_ARR</th>\n",
       "      <th>PLANNEDTIME_DEP</th>\n",
       "      <th>ACTUALTIME_ARR</th>\n",
       "      <th>ACTUALTIME_DEP</th>\n",
       "      <th>VEHICLEID</th>\n",
       "      <th>year</th>\n",
       "      <th>...</th>\n",
       "      <th>id</th>\n",
       "      <th>trip_leave_id</th>\n",
       "      <th>LINEID</th>\n",
       "      <th>num_lineID</th>\n",
       "      <th>DIRECTION</th>\n",
       "      <th>actual_duration</th>\n",
       "      <th>dayOfWeek</th>\n",
       "      <th>weekend</th>\n",
       "      <th>rushHour</th>\n",
       "      <th>actualARR_hour</th>\n",
       "    </tr>\n",
       "  </thead>\n",
       "  <tbody>\n",
       "    <tr>\n",
       "      <th>7595</th>\n",
       "      <td>2018-09-09</td>\n",
       "      <td>8092550</td>\n",
       "      <td>3</td>\n",
       "      <td>7173</td>\n",
       "      <td>43244</td>\n",
       "      <td>43244</td>\n",
       "      <td>43244</td>\n",
       "      <td>43244</td>\n",
       "      <td>2693202</td>\n",
       "      <td>2018</td>\n",
       "      <td>...</td>\n",
       "      <td>20180909809255003</td>\n",
       "      <td>201809098092550</td>\n",
       "      <td>33</td>\n",
       "      <td>55</td>\n",
       "      <td>2</td>\n",
       "      <td>5848</td>\n",
       "      <td>6</td>\n",
       "      <td>1</td>\n",
       "      <td>0</td>\n",
       "      <td>12</td>\n",
       "    </tr>\n",
       "    <tr>\n",
       "      <th>7596</th>\n",
       "      <td>2018-09-09</td>\n",
       "      <td>8092550</td>\n",
       "      <td>4</td>\n",
       "      <td>3811</td>\n",
       "      <td>43272</td>\n",
       "      <td>43272</td>\n",
       "      <td>43272</td>\n",
       "      <td>43272</td>\n",
       "      <td>2693202</td>\n",
       "      <td>2018</td>\n",
       "      <td>...</td>\n",
       "      <td>20180909809255004</td>\n",
       "      <td>201809098092550</td>\n",
       "      <td>33</td>\n",
       "      <td>55</td>\n",
       "      <td>2</td>\n",
       "      <td>5848</td>\n",
       "      <td>6</td>\n",
       "      <td>1</td>\n",
       "      <td>0</td>\n",
       "      <td>12</td>\n",
       "    </tr>\n",
       "    <tr>\n",
       "      <th>7597</th>\n",
       "      <td>2018-09-09</td>\n",
       "      <td>8092550</td>\n",
       "      <td>5</td>\n",
       "      <td>3812</td>\n",
       "      <td>43299</td>\n",
       "      <td>43299</td>\n",
       "      <td>43299</td>\n",
       "      <td>43299</td>\n",
       "      <td>2693202</td>\n",
       "      <td>2018</td>\n",
       "      <td>...</td>\n",
       "      <td>20180909809255005</td>\n",
       "      <td>201809098092550</td>\n",
       "      <td>33</td>\n",
       "      <td>55</td>\n",
       "      <td>2</td>\n",
       "      <td>5848</td>\n",
       "      <td>6</td>\n",
       "      <td>1</td>\n",
       "      <td>0</td>\n",
       "      <td>12</td>\n",
       "    </tr>\n",
       "    <tr>\n",
       "      <th>7598</th>\n",
       "      <td>2018-09-09</td>\n",
       "      <td>8092550</td>\n",
       "      <td>6</td>\n",
       "      <td>3664</td>\n",
       "      <td>43321</td>\n",
       "      <td>43321</td>\n",
       "      <td>43321</td>\n",
       "      <td>43321</td>\n",
       "      <td>2693202</td>\n",
       "      <td>2018</td>\n",
       "      <td>...</td>\n",
       "      <td>20180909809255006</td>\n",
       "      <td>201809098092550</td>\n",
       "      <td>33</td>\n",
       "      <td>55</td>\n",
       "      <td>2</td>\n",
       "      <td>5848</td>\n",
       "      <td>6</td>\n",
       "      <td>1</td>\n",
       "      <td>0</td>\n",
       "      <td>12</td>\n",
       "    </tr>\n",
       "    <tr>\n",
       "      <th>7599</th>\n",
       "      <td>2018-09-09</td>\n",
       "      <td>8092550</td>\n",
       "      <td>7</td>\n",
       "      <td>3813</td>\n",
       "      <td>43455</td>\n",
       "      <td>43455</td>\n",
       "      <td>43455</td>\n",
       "      <td>43455</td>\n",
       "      <td>2693202</td>\n",
       "      <td>2018</td>\n",
       "      <td>...</td>\n",
       "      <td>20180909809255007</td>\n",
       "      <td>201809098092550</td>\n",
       "      <td>33</td>\n",
       "      <td>55</td>\n",
       "      <td>2</td>\n",
       "      <td>5848</td>\n",
       "      <td>6</td>\n",
       "      <td>1</td>\n",
       "      <td>0</td>\n",
       "      <td>12</td>\n",
       "    </tr>\n",
       "  </tbody>\n",
       "</table>\n",
       "<p>5 rows × 22 columns</p>\n",
       "</div>"
      ],
      "text/plain": [
       "     DAYOFSERVICE   TRIPID  PROGRNUMBER  STOPPOINTID  PLANNEDTIME_ARR  \\\n",
       "7595   2018-09-09  8092550            3         7173            43244   \n",
       "7596   2018-09-09  8092550            4         3811            43272   \n",
       "7597   2018-09-09  8092550            5         3812            43299   \n",
       "7598   2018-09-09  8092550            6         3664            43321   \n",
       "7599   2018-09-09  8092550            7         3813            43455   \n",
       "\n",
       "      PLANNEDTIME_DEP  ACTUALTIME_ARR  ACTUALTIME_DEP  VEHICLEID  year  ...  \\\n",
       "7595            43244           43244           43244    2693202  2018  ...   \n",
       "7596            43272           43272           43272    2693202  2018  ...   \n",
       "7597            43299           43299           43299    2693202  2018  ...   \n",
       "7598            43321           43321           43321    2693202  2018  ...   \n",
       "7599            43455           43455           43455    2693202  2018  ...   \n",
       "\n",
       "                     id    trip_leave_id  LINEID  num_lineID DIRECTION  \\\n",
       "7595  20180909809255003  201809098092550      33          55         2   \n",
       "7596  20180909809255004  201809098092550      33          55         2   \n",
       "7597  20180909809255005  201809098092550      33          55         2   \n",
       "7598  20180909809255006  201809098092550      33          55         2   \n",
       "7599  20180909809255007  201809098092550      33          55         2   \n",
       "\n",
       "      actual_duration  dayOfWeek  weekend  rushHour  actualARR_hour  \n",
       "7595             5848          6        1         0              12  \n",
       "7596             5848          6        1         0              12  \n",
       "7597             5848          6        1         0              12  \n",
       "7598             5848          6        1         0              12  \n",
       "7599             5848          6        1         0              12  \n",
       "\n",
       "[5 rows x 22 columns]"
      ]
     },
     "execution_count": 70,
     "metadata": {},
     "output_type": "execute_result"
    }
   ],
   "source": [
    "wk.head()"
   ]
  },
  {
   "cell_type": "code",
   "execution_count": 71,
   "id": "13e7be08",
   "metadata": {},
   "outputs": [
    {
     "data": {
      "text/plain": [
       "(7215944, 22)"
      ]
     },
     "execution_count": 71,
     "metadata": {},
     "output_type": "execute_result"
    }
   ],
   "source": [
    "wk.shape"
   ]
  },
  {
   "cell_type": "markdown",
   "id": "479dbac7",
   "metadata": {},
   "source": [
    "<h3>Send to CSV</h3>"
   ]
  },
  {
   "cell_type": "code",
   "execution_count": 72,
   "id": "bc196282",
   "metadata": {},
   "outputs": [],
   "source": [
    "# Send df to csv:\n",
    "lwk.to_csv('v5_65_tripLeave6_sp3.csv', index=False)"
   ]
  },
  {
   "cell_type": "markdown",
   "id": "8ba99674",
   "metadata": {},
   "source": [
    "## Route 33"
   ]
  },
  {
   "cell_type": "code",
   "execution_count": 73,
   "id": "1629070b",
   "metadata": {},
   "outputs": [],
   "source": [
    "lwk = wk[(wk['LINEID'] == '33')]"
   ]
  },
  {
   "cell_type": "code",
   "execution_count": 74,
   "id": "12a132db",
   "metadata": {},
   "outputs": [
    {
     "data": {
      "text/plain": [
       "(209863, 22)"
      ]
     },
     "execution_count": 74,
     "metadata": {},
     "output_type": "execute_result"
    }
   ],
   "source": [
    "lwk.shape"
   ]
  },
  {
   "cell_type": "code",
   "execution_count": 75,
   "id": "687fa5fe",
   "metadata": {},
   "outputs": [],
   "source": [
    "# Drop Route 33 rows from wk\n",
    "wk.drop(wk[wk['LINEID'] == '33'].index, inplace = True)"
   ]
  },
  {
   "cell_type": "code",
   "execution_count": 76,
   "id": "38d83c9f",
   "metadata": {},
   "outputs": [
    {
     "data": {
      "text/html": [
       "<div>\n",
       "<style scoped>\n",
       "    .dataframe tbody tr th:only-of-type {\n",
       "        vertical-align: middle;\n",
       "    }\n",
       "\n",
       "    .dataframe tbody tr th {\n",
       "        vertical-align: top;\n",
       "    }\n",
       "\n",
       "    .dataframe thead th {\n",
       "        text-align: right;\n",
       "    }\n",
       "</style>\n",
       "<table border=\"1\" class=\"dataframe\">\n",
       "  <thead>\n",
       "    <tr style=\"text-align: right;\">\n",
       "      <th></th>\n",
       "      <th>DAYOFSERVICE</th>\n",
       "      <th>TRIPID</th>\n",
       "      <th>PROGRNUMBER</th>\n",
       "      <th>STOPPOINTID</th>\n",
       "      <th>PLANNEDTIME_ARR</th>\n",
       "      <th>PLANNEDTIME_DEP</th>\n",
       "      <th>ACTUALTIME_ARR</th>\n",
       "      <th>ACTUALTIME_DEP</th>\n",
       "      <th>VEHICLEID</th>\n",
       "      <th>year</th>\n",
       "      <th>...</th>\n",
       "      <th>id</th>\n",
       "      <th>trip_leave_id</th>\n",
       "      <th>LINEID</th>\n",
       "      <th>num_lineID</th>\n",
       "      <th>DIRECTION</th>\n",
       "      <th>actual_duration</th>\n",
       "      <th>dayOfWeek</th>\n",
       "      <th>weekend</th>\n",
       "      <th>rushHour</th>\n",
       "      <th>actualARR_hour</th>\n",
       "    </tr>\n",
       "  </thead>\n",
       "  <tbody>\n",
       "    <tr>\n",
       "      <th>8274</th>\n",
       "      <td>2018-09-09</td>\n",
       "      <td>8092644</td>\n",
       "      <td>1</td>\n",
       "      <td>7574</td>\n",
       "      <td>27000</td>\n",
       "      <td>27000</td>\n",
       "      <td>27000</td>\n",
       "      <td>27000</td>\n",
       "      <td>2693281</td>\n",
       "      <td>2018</td>\n",
       "      <td>...</td>\n",
       "      <td>20180909809264401</td>\n",
       "      <td>201809098092644</td>\n",
       "      <td>145</td>\n",
       "      <td>16</td>\n",
       "      <td>2</td>\n",
       "      <td>5060</td>\n",
       "      <td>6</td>\n",
       "      <td>1</td>\n",
       "      <td>0</td>\n",
       "      <td>8</td>\n",
       "    </tr>\n",
       "    <tr>\n",
       "      <th>8275</th>\n",
       "      <td>2018-09-09</td>\n",
       "      <td>8092644</td>\n",
       "      <td>2</td>\n",
       "      <td>4177</td>\n",
       "      <td>27110</td>\n",
       "      <td>27110</td>\n",
       "      <td>27110</td>\n",
       "      <td>27110</td>\n",
       "      <td>2693281</td>\n",
       "      <td>2018</td>\n",
       "      <td>...</td>\n",
       "      <td>20180909809264402</td>\n",
       "      <td>201809098092644</td>\n",
       "      <td>145</td>\n",
       "      <td>16</td>\n",
       "      <td>2</td>\n",
       "      <td>5060</td>\n",
       "      <td>6</td>\n",
       "      <td>1</td>\n",
       "      <td>0</td>\n",
       "      <td>8</td>\n",
       "    </tr>\n",
       "    <tr>\n",
       "      <th>8276</th>\n",
       "      <td>2018-09-09</td>\n",
       "      <td>8092644</td>\n",
       "      <td>3</td>\n",
       "      <td>4178</td>\n",
       "      <td>27137</td>\n",
       "      <td>27137</td>\n",
       "      <td>27137</td>\n",
       "      <td>27137</td>\n",
       "      <td>2693281</td>\n",
       "      <td>2018</td>\n",
       "      <td>...</td>\n",
       "      <td>20180909809264403</td>\n",
       "      <td>201809098092644</td>\n",
       "      <td>145</td>\n",
       "      <td>16</td>\n",
       "      <td>2</td>\n",
       "      <td>5060</td>\n",
       "      <td>6</td>\n",
       "      <td>1</td>\n",
       "      <td>0</td>\n",
       "      <td>8</td>\n",
       "    </tr>\n",
       "    <tr>\n",
       "      <th>8277</th>\n",
       "      <td>2018-09-09</td>\n",
       "      <td>8092644</td>\n",
       "      <td>4</td>\n",
       "      <td>4179</td>\n",
       "      <td>27190</td>\n",
       "      <td>27190</td>\n",
       "      <td>27190</td>\n",
       "      <td>27190</td>\n",
       "      <td>2693281</td>\n",
       "      <td>2018</td>\n",
       "      <td>...</td>\n",
       "      <td>20180909809264404</td>\n",
       "      <td>201809098092644</td>\n",
       "      <td>145</td>\n",
       "      <td>16</td>\n",
       "      <td>2</td>\n",
       "      <td>5060</td>\n",
       "      <td>6</td>\n",
       "      <td>1</td>\n",
       "      <td>0</td>\n",
       "      <td>8</td>\n",
       "    </tr>\n",
       "    <tr>\n",
       "      <th>8278</th>\n",
       "      <td>2018-09-09</td>\n",
       "      <td>8092644</td>\n",
       "      <td>5</td>\n",
       "      <td>2993</td>\n",
       "      <td>27238</td>\n",
       "      <td>27238</td>\n",
       "      <td>27238</td>\n",
       "      <td>27238</td>\n",
       "      <td>2693281</td>\n",
       "      <td>2018</td>\n",
       "      <td>...</td>\n",
       "      <td>20180909809264405</td>\n",
       "      <td>201809098092644</td>\n",
       "      <td>145</td>\n",
       "      <td>16</td>\n",
       "      <td>2</td>\n",
       "      <td>5060</td>\n",
       "      <td>6</td>\n",
       "      <td>1</td>\n",
       "      <td>0</td>\n",
       "      <td>8</td>\n",
       "    </tr>\n",
       "  </tbody>\n",
       "</table>\n",
       "<p>5 rows × 22 columns</p>\n",
       "</div>"
      ],
      "text/plain": [
       "     DAYOFSERVICE   TRIPID  PROGRNUMBER  STOPPOINTID  PLANNEDTIME_ARR  \\\n",
       "8274   2018-09-09  8092644            1         7574            27000   \n",
       "8275   2018-09-09  8092644            2         4177            27110   \n",
       "8276   2018-09-09  8092644            3         4178            27137   \n",
       "8277   2018-09-09  8092644            4         4179            27190   \n",
       "8278   2018-09-09  8092644            5         2993            27238   \n",
       "\n",
       "      PLANNEDTIME_DEP  ACTUALTIME_ARR  ACTUALTIME_DEP  VEHICLEID  year  ...  \\\n",
       "8274            27000           27000           27000    2693281  2018  ...   \n",
       "8275            27110           27110           27110    2693281  2018  ...   \n",
       "8276            27137           27137           27137    2693281  2018  ...   \n",
       "8277            27190           27190           27190    2693281  2018  ...   \n",
       "8278            27238           27238           27238    2693281  2018  ...   \n",
       "\n",
       "                     id    trip_leave_id  LINEID  num_lineID DIRECTION  \\\n",
       "8274  20180909809264401  201809098092644     145          16         2   \n",
       "8275  20180909809264402  201809098092644     145          16         2   \n",
       "8276  20180909809264403  201809098092644     145          16         2   \n",
       "8277  20180909809264404  201809098092644     145          16         2   \n",
       "8278  20180909809264405  201809098092644     145          16         2   \n",
       "\n",
       "      actual_duration  dayOfWeek  weekend  rushHour  actualARR_hour  \n",
       "8274             5060          6        1         0               8  \n",
       "8275             5060          6        1         0               8  \n",
       "8276             5060          6        1         0               8  \n",
       "8277             5060          6        1         0               8  \n",
       "8278             5060          6        1         0               8  \n",
       "\n",
       "[5 rows x 22 columns]"
      ]
     },
     "execution_count": 76,
     "metadata": {},
     "output_type": "execute_result"
    }
   ],
   "source": [
    "wk.head()"
   ]
  },
  {
   "cell_type": "code",
   "execution_count": 77,
   "id": "ff2a81f6",
   "metadata": {},
   "outputs": [
    {
     "data": {
      "text/plain": [
       "(7006081, 22)"
      ]
     },
     "execution_count": 77,
     "metadata": {},
     "output_type": "execute_result"
    }
   ],
   "source": [
    "wk.shape"
   ]
  },
  {
   "cell_type": "markdown",
   "id": "a72b065e",
   "metadata": {},
   "source": [
    "<h3>Send to CSV</h3>"
   ]
  },
  {
   "cell_type": "code",
   "execution_count": 78,
   "id": "618d20bf",
   "metadata": {},
   "outputs": [],
   "source": [
    "# Send df to csv:\n",
    "lwk.to_csv('v5_33_tripLeave6_sp3.csv', index=False)"
   ]
  },
  {
   "cell_type": "markdown",
   "id": "c6928325",
   "metadata": {},
   "source": [
    "## Route 145"
   ]
  },
  {
   "cell_type": "code",
   "execution_count": 79,
   "id": "8d714705",
   "metadata": {},
   "outputs": [],
   "source": [
    "lwk = wk[(wk['LINEID'] == '145')]"
   ]
  },
  {
   "cell_type": "code",
   "execution_count": 80,
   "id": "d90f9b76",
   "metadata": {},
   "outputs": [
    {
     "data": {
      "text/plain": [
       "(682094, 22)"
      ]
     },
     "execution_count": 80,
     "metadata": {},
     "output_type": "execute_result"
    }
   ],
   "source": [
    "lwk.shape"
   ]
  },
  {
   "cell_type": "code",
   "execution_count": 81,
   "id": "eb0cb553",
   "metadata": {},
   "outputs": [],
   "source": [
    "# Drop Route 145 rows from wk\n",
    "wk.drop(wk[wk['LINEID'] == '145'].index, inplace = True)"
   ]
  },
  {
   "cell_type": "code",
   "execution_count": 82,
   "id": "af463272",
   "metadata": {},
   "outputs": [
    {
     "data": {
      "text/html": [
       "<div>\n",
       "<style scoped>\n",
       "    .dataframe tbody tr th:only-of-type {\n",
       "        vertical-align: middle;\n",
       "    }\n",
       "\n",
       "    .dataframe tbody tr th {\n",
       "        vertical-align: top;\n",
       "    }\n",
       "\n",
       "    .dataframe thead th {\n",
       "        text-align: right;\n",
       "    }\n",
       "</style>\n",
       "<table border=\"1\" class=\"dataframe\">\n",
       "  <thead>\n",
       "    <tr style=\"text-align: right;\">\n",
       "      <th></th>\n",
       "      <th>DAYOFSERVICE</th>\n",
       "      <th>TRIPID</th>\n",
       "      <th>PROGRNUMBER</th>\n",
       "      <th>STOPPOINTID</th>\n",
       "      <th>PLANNEDTIME_ARR</th>\n",
       "      <th>PLANNEDTIME_DEP</th>\n",
       "      <th>ACTUALTIME_ARR</th>\n",
       "      <th>ACTUALTIME_DEP</th>\n",
       "      <th>VEHICLEID</th>\n",
       "      <th>year</th>\n",
       "      <th>...</th>\n",
       "      <th>id</th>\n",
       "      <th>trip_leave_id</th>\n",
       "      <th>LINEID</th>\n",
       "      <th>num_lineID</th>\n",
       "      <th>DIRECTION</th>\n",
       "      <th>actual_duration</th>\n",
       "      <th>dayOfWeek</th>\n",
       "      <th>weekend</th>\n",
       "      <th>rushHour</th>\n",
       "      <th>actualARR_hour</th>\n",
       "    </tr>\n",
       "  </thead>\n",
       "  <tbody>\n",
       "    <tr>\n",
       "      <th>9033</th>\n",
       "      <td>2018-09-09</td>\n",
       "      <td>8092685</td>\n",
       "      <td>1</td>\n",
       "      <td>300</td>\n",
       "      <td>46800</td>\n",
       "      <td>46800</td>\n",
       "      <td>46800</td>\n",
       "      <td>46800</td>\n",
       "      <td>2406899</td>\n",
       "      <td>2018</td>\n",
       "      <td>...</td>\n",
       "      <td>20180909809268501</td>\n",
       "      <td>201809098092685</td>\n",
       "      <td>27A</td>\n",
       "      <td>45</td>\n",
       "      <td>1</td>\n",
       "      <td>1718</td>\n",
       "      <td>6</td>\n",
       "      <td>1</td>\n",
       "      <td>0</td>\n",
       "      <td>13</td>\n",
       "    </tr>\n",
       "    <tr>\n",
       "      <th>9034</th>\n",
       "      <td>2018-09-09</td>\n",
       "      <td>8092685</td>\n",
       "      <td>2</td>\n",
       "      <td>496</td>\n",
       "      <td>46888</td>\n",
       "      <td>46888</td>\n",
       "      <td>46888</td>\n",
       "      <td>46888</td>\n",
       "      <td>2406899</td>\n",
       "      <td>2018</td>\n",
       "      <td>...</td>\n",
       "      <td>20180909809268502</td>\n",
       "      <td>201809098092685</td>\n",
       "      <td>27A</td>\n",
       "      <td>45</td>\n",
       "      <td>1</td>\n",
       "      <td>1718</td>\n",
       "      <td>6</td>\n",
       "      <td>1</td>\n",
       "      <td>0</td>\n",
       "      <td>13</td>\n",
       "    </tr>\n",
       "    <tr>\n",
       "      <th>9035</th>\n",
       "      <td>2018-09-09</td>\n",
       "      <td>8092685</td>\n",
       "      <td>3</td>\n",
       "      <td>7490</td>\n",
       "      <td>46905</td>\n",
       "      <td>46905</td>\n",
       "      <td>46905</td>\n",
       "      <td>46905</td>\n",
       "      <td>2406899</td>\n",
       "      <td>2018</td>\n",
       "      <td>...</td>\n",
       "      <td>20180909809268503</td>\n",
       "      <td>201809098092685</td>\n",
       "      <td>27A</td>\n",
       "      <td>45</td>\n",
       "      <td>1</td>\n",
       "      <td>1718</td>\n",
       "      <td>6</td>\n",
       "      <td>1</td>\n",
       "      <td>0</td>\n",
       "      <td>13</td>\n",
       "    </tr>\n",
       "    <tr>\n",
       "      <th>9036</th>\n",
       "      <td>2018-09-09</td>\n",
       "      <td>8092685</td>\n",
       "      <td>4</td>\n",
       "      <td>497</td>\n",
       "      <td>46929</td>\n",
       "      <td>46929</td>\n",
       "      <td>46929</td>\n",
       "      <td>46929</td>\n",
       "      <td>2406899</td>\n",
       "      <td>2018</td>\n",
       "      <td>...</td>\n",
       "      <td>20180909809268504</td>\n",
       "      <td>201809098092685</td>\n",
       "      <td>27A</td>\n",
       "      <td>45</td>\n",
       "      <td>1</td>\n",
       "      <td>1718</td>\n",
       "      <td>6</td>\n",
       "      <td>1</td>\n",
       "      <td>0</td>\n",
       "      <td>13</td>\n",
       "    </tr>\n",
       "    <tr>\n",
       "      <th>9037</th>\n",
       "      <td>2018-09-09</td>\n",
       "      <td>8092685</td>\n",
       "      <td>5</td>\n",
       "      <td>515</td>\n",
       "      <td>47009</td>\n",
       "      <td>47009</td>\n",
       "      <td>47009</td>\n",
       "      <td>47009</td>\n",
       "      <td>2406899</td>\n",
       "      <td>2018</td>\n",
       "      <td>...</td>\n",
       "      <td>20180909809268505</td>\n",
       "      <td>201809098092685</td>\n",
       "      <td>27A</td>\n",
       "      <td>45</td>\n",
       "      <td>1</td>\n",
       "      <td>1718</td>\n",
       "      <td>6</td>\n",
       "      <td>1</td>\n",
       "      <td>0</td>\n",
       "      <td>13</td>\n",
       "    </tr>\n",
       "  </tbody>\n",
       "</table>\n",
       "<p>5 rows × 22 columns</p>\n",
       "</div>"
      ],
      "text/plain": [
       "     DAYOFSERVICE   TRIPID  PROGRNUMBER  STOPPOINTID  PLANNEDTIME_ARR  \\\n",
       "9033   2018-09-09  8092685            1          300            46800   \n",
       "9034   2018-09-09  8092685            2          496            46888   \n",
       "9035   2018-09-09  8092685            3         7490            46905   \n",
       "9036   2018-09-09  8092685            4          497            46929   \n",
       "9037   2018-09-09  8092685            5          515            47009   \n",
       "\n",
       "      PLANNEDTIME_DEP  ACTUALTIME_ARR  ACTUALTIME_DEP  VEHICLEID  year  ...  \\\n",
       "9033            46800           46800           46800    2406899  2018  ...   \n",
       "9034            46888           46888           46888    2406899  2018  ...   \n",
       "9035            46905           46905           46905    2406899  2018  ...   \n",
       "9036            46929           46929           46929    2406899  2018  ...   \n",
       "9037            47009           47009           47009    2406899  2018  ...   \n",
       "\n",
       "                     id    trip_leave_id  LINEID  num_lineID DIRECTION  \\\n",
       "9033  20180909809268501  201809098092685     27A          45         1   \n",
       "9034  20180909809268502  201809098092685     27A          45         1   \n",
       "9035  20180909809268503  201809098092685     27A          45         1   \n",
       "9036  20180909809268504  201809098092685     27A          45         1   \n",
       "9037  20180909809268505  201809098092685     27A          45         1   \n",
       "\n",
       "      actual_duration  dayOfWeek  weekend  rushHour  actualARR_hour  \n",
       "9033             1718          6        1         0              13  \n",
       "9034             1718          6        1         0              13  \n",
       "9035             1718          6        1         0              13  \n",
       "9036             1718          6        1         0              13  \n",
       "9037             1718          6        1         0              13  \n",
       "\n",
       "[5 rows x 22 columns]"
      ]
     },
     "execution_count": 82,
     "metadata": {},
     "output_type": "execute_result"
    }
   ],
   "source": [
    "wk.head()"
   ]
  },
  {
   "cell_type": "code",
   "execution_count": 83,
   "id": "ae7c64e7",
   "metadata": {},
   "outputs": [
    {
     "data": {
      "text/plain": [
       "(6323987, 22)"
      ]
     },
     "execution_count": 83,
     "metadata": {},
     "output_type": "execute_result"
    }
   ],
   "source": [
    "wk.shape"
   ]
  },
  {
   "cell_type": "markdown",
   "id": "9482876b",
   "metadata": {},
   "source": [
    "<h3>Send to CSV</h3>"
   ]
  },
  {
   "cell_type": "code",
   "execution_count": 84,
   "id": "6e03b560",
   "metadata": {},
   "outputs": [],
   "source": [
    "# Send df to csv:\n",
    "lwk.to_csv('v5_145_tripLeave6_sp3.csv', index=False)"
   ]
  },
  {
   "cell_type": "markdown",
   "id": "e082232a",
   "metadata": {},
   "source": [
    "## Continue v5_tripLeave6_route_split_4"
   ]
  },
  {
   "cell_type": "code",
   "execution_count": 85,
   "id": "647c1774",
   "metadata": {},
   "outputs": [],
   "source": [
    "# Send df to csv:\n",
    "wk.to_csv('v5_tripLeave6_route_split_4.csv', index=False)"
   ]
  },
  {
   "cell_type": "code",
   "execution_count": null,
   "id": "c4a5925f",
   "metadata": {},
   "outputs": [],
   "source": []
  }
 ],
 "metadata": {
  "kernelspec": {
   "display_name": "Python 3 (ipykernel)",
   "language": "python",
   "name": "python3"
  },
  "language_info": {
   "codemirror_mode": {
    "name": "ipython",
    "version": 3
   },
   "file_extension": ".py",
   "mimetype": "text/x-python",
   "name": "python",
   "nbconvert_exporter": "python",
   "pygments_lexer": "ipython3",
   "version": "3.10.4"
  }
 },
 "nbformat": 4,
 "nbformat_minor": 5
}
