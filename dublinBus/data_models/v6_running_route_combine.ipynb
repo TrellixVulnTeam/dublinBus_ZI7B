{
 "cells": [
  {
   "cell_type": "code",
   "execution_count": 1,
   "id": "f09f25b5",
   "metadata": {},
   "outputs": [],
   "source": [
    "# Library Imports.\n",
    "import pandas as pd\n",
    "\n",
    "import numpy as np"
   ]
  },
  {
   "cell_type": "markdown",
   "id": "d2b8ce36",
   "metadata": {},
   "source": [
    "## Read in Routes"
   ]
  },
  {
   "cell_type": "code",
   "execution_count": 846,
   "id": "77967dd8",
   "metadata": {},
   "outputs": [],
   "source": [
    "rt = pd.read_csv('v5_9_tripLeave1_sp5.csv', keep_default_na=True, delimiter=',', skipinitialspace=True)"
   ]
  },
  {
   "cell_type": "code",
   "execution_count": 847,
   "id": "a6942704",
   "metadata": {},
   "outputs": [
    {
     "data": {
      "text/plain": [
       "(442613, 22)"
      ]
     },
     "execution_count": 847,
     "metadata": {},
     "output_type": "execute_result"
    }
   ],
   "source": [
    "rt.shape"
   ]
  },
  {
   "cell_type": "code",
   "execution_count": 848,
   "id": "45142213",
   "metadata": {},
   "outputs": [],
   "source": [
    "rt1 = pd.read_csv('v5_9_tripLeave2_sp4.csv', keep_default_na=True, delimiter=',', skipinitialspace=True)"
   ]
  },
  {
   "cell_type": "code",
   "execution_count": 849,
   "id": "40f44530",
   "metadata": {},
   "outputs": [
    {
     "data": {
      "text/plain": [
       "(431979, 22)"
      ]
     },
     "execution_count": 849,
     "metadata": {},
     "output_type": "execute_result"
    }
   ],
   "source": [
    "rt1.shape"
   ]
  },
  {
   "cell_type": "code",
   "execution_count": 850,
   "id": "0739cedb",
   "metadata": {},
   "outputs": [],
   "source": [
    "rt2 = pd.read_csv('v5_9_tripLeave2_sp9c.csv', keep_default_na=True, delimiter=',', skipinitialspace=True)"
   ]
  },
  {
   "cell_type": "code",
   "execution_count": 851,
   "id": "5afca851",
   "metadata": {},
   "outputs": [
    {
     "data": {
      "text/plain": [
       "(16985, 22)"
      ]
     },
     "execution_count": 851,
     "metadata": {},
     "output_type": "execute_result"
    }
   ],
   "source": [
    "rt2.shape"
   ]
  },
  {
   "cell_type": "code",
   "execution_count": 852,
   "id": "739f6a78",
   "metadata": {},
   "outputs": [],
   "source": [
    "rt3 = pd.read_csv('v5_9_tripLeave3_sp4.csv', keep_default_na=True, delimiter=',', skipinitialspace=True)"
   ]
  },
  {
   "cell_type": "code",
   "execution_count": 853,
   "id": "02ca1608",
   "metadata": {},
   "outputs": [
    {
     "data": {
      "text/plain": [
       "(449099, 22)"
      ]
     },
     "execution_count": 853,
     "metadata": {},
     "output_type": "execute_result"
    }
   ],
   "source": [
    "rt3.shape"
   ]
  },
  {
   "cell_type": "code",
   "execution_count": 854,
   "id": "9e675077",
   "metadata": {},
   "outputs": [],
   "source": [
    "rt4 = pd.read_csv('v5_9_tripLeave4_sp0.csv', keep_default_na=True, delimiter=',', skipinitialspace=True)"
   ]
  },
  {
   "cell_type": "code",
   "execution_count": 855,
   "id": "8a412a1e",
   "metadata": {},
   "outputs": [
    {
     "data": {
      "text/plain": [
       "(417551, 22)"
      ]
     },
     "execution_count": 855,
     "metadata": {},
     "output_type": "execute_result"
    }
   ],
   "source": [
    "rt4.shape"
   ]
  },
  {
   "cell_type": "code",
   "execution_count": 856,
   "id": "08e78b77",
   "metadata": {},
   "outputs": [],
   "source": [
    "rt5 = pd.read_csv('v5_9_tripLeave5_sp2.csv', keep_default_na=True, delimiter=',', skipinitialspace=True)"
   ]
  },
  {
   "cell_type": "code",
   "execution_count": 857,
   "id": "ad80c6ab",
   "metadata": {},
   "outputs": [
    {
     "data": {
      "text/plain": [
       "(473174, 22)"
      ]
     },
     "execution_count": 857,
     "metadata": {},
     "output_type": "execute_result"
    }
   ],
   "source": [
    "rt5.shape"
   ]
  },
  {
   "cell_type": "code",
   "execution_count": 858,
   "id": "3b7e74cf",
   "metadata": {},
   "outputs": [],
   "source": [
    "rt6 = pd.read_csv('v5_9_tripLeave6_sp3.csv', keep_default_na=True, delimiter=',', skipinitialspace=True)"
   ]
  },
  {
   "cell_type": "code",
   "execution_count": 859,
   "id": "c48f391c",
   "metadata": {},
   "outputs": [
    {
     "data": {
      "text/plain": [
       "(449663, 22)"
      ]
     },
     "execution_count": 859,
     "metadata": {},
     "output_type": "execute_result"
    }
   ],
   "source": [
    "rt6.shape"
   ]
  },
  {
   "cell_type": "code",
   "execution_count": null,
   "id": "d5b45b56",
   "metadata": {},
   "outputs": [],
   "source": [
    "rt7 = pd.read_csv('v5_145_tripLeave6_sp3.csv', keep_default_na=True, delimiter=',', skipinitialspace=True)"
   ]
  },
  {
   "cell_type": "code",
   "execution_count": null,
   "id": "6fdb22e5",
   "metadata": {},
   "outputs": [],
   "source": [
    "rt7.shape"
   ]
  },
  {
   "cell_type": "markdown",
   "id": "799d69aa",
   "metadata": {},
   "source": [
    "## Combine Routes into One Dataframe"
   ]
  },
  {
   "cell_type": "code",
   "execution_count": 860,
   "id": "b1ccbf5d",
   "metadata": {},
   "outputs": [],
   "source": [
    "comb = pd.concat([rt, rt1, rt2, rt3, rt4, rt5, rt6], axis=0)"
   ]
  },
  {
   "cell_type": "code",
   "execution_count": 861,
   "id": "0c85ed3a",
   "metadata": {},
   "outputs": [
    {
     "data": {
      "text/plain": [
       "(2681064, 22)"
      ]
     },
     "execution_count": 861,
     "metadata": {},
     "output_type": "execute_result"
    }
   ],
   "source": [
    "comb.shape"
   ]
  },
  {
   "cell_type": "code",
   "execution_count": 862,
   "id": "a4465f21",
   "metadata": {},
   "outputs": [
    {
     "data": {
      "text/html": [
       "<div>\n",
       "<style scoped>\n",
       "    .dataframe tbody tr th:only-of-type {\n",
       "        vertical-align: middle;\n",
       "    }\n",
       "\n",
       "    .dataframe tbody tr th {\n",
       "        vertical-align: top;\n",
       "    }\n",
       "\n",
       "    .dataframe thead th {\n",
       "        text-align: right;\n",
       "    }\n",
       "</style>\n",
       "<table border=\"1\" class=\"dataframe\">\n",
       "  <thead>\n",
       "    <tr style=\"text-align: right;\">\n",
       "      <th></th>\n",
       "      <th>DAYOFSERVICE</th>\n",
       "      <th>TRIPID</th>\n",
       "      <th>PROGRNUMBER</th>\n",
       "      <th>STOPPOINTID</th>\n",
       "      <th>PLANNEDTIME_ARR</th>\n",
       "      <th>PLANNEDTIME_DEP</th>\n",
       "      <th>ACTUALTIME_ARR</th>\n",
       "      <th>ACTUALTIME_DEP</th>\n",
       "      <th>VEHICLEID</th>\n",
       "      <th>year</th>\n",
       "      <th>...</th>\n",
       "      <th>id</th>\n",
       "      <th>trip_leave_id</th>\n",
       "      <th>LINEID</th>\n",
       "      <th>num_lineID</th>\n",
       "      <th>DIRECTION</th>\n",
       "      <th>actual_duration</th>\n",
       "      <th>dayOfWeek</th>\n",
       "      <th>weekend</th>\n",
       "      <th>rushHour</th>\n",
       "      <th>actualARR_hour</th>\n",
       "    </tr>\n",
       "  </thead>\n",
       "  <tbody>\n",
       "    <tr>\n",
       "      <th>0</th>\n",
       "      <td>2018-01-01</td>\n",
       "      <td>5957793</td>\n",
       "      <td>1</td>\n",
       "      <td>7132</td>\n",
       "      <td>32400</td>\n",
       "      <td>32400</td>\n",
       "      <td>32400</td>\n",
       "      <td>32400</td>\n",
       "      <td>2172314</td>\n",
       "      <td>2018</td>\n",
       "      <td>...</td>\n",
       "      <td>20180101595779301</td>\n",
       "      <td>201801015957793</td>\n",
       "      <td>9</td>\n",
       "      <td>129</td>\n",
       "      <td>1</td>\n",
       "      <td>3090</td>\n",
       "      <td>0</td>\n",
       "      <td>0</td>\n",
       "      <td>0</td>\n",
       "      <td>9</td>\n",
       "    </tr>\n",
       "    <tr>\n",
       "      <th>1</th>\n",
       "      <td>2018-01-01</td>\n",
       "      <td>5957793</td>\n",
       "      <td>2</td>\n",
       "      <td>6230</td>\n",
       "      <td>32470</td>\n",
       "      <td>32470</td>\n",
       "      <td>32470</td>\n",
       "      <td>32470</td>\n",
       "      <td>2172314</td>\n",
       "      <td>2018</td>\n",
       "      <td>...</td>\n",
       "      <td>20180101595779302</td>\n",
       "      <td>201801015957793</td>\n",
       "      <td>9</td>\n",
       "      <td>129</td>\n",
       "      <td>1</td>\n",
       "      <td>3090</td>\n",
       "      <td>0</td>\n",
       "      <td>0</td>\n",
       "      <td>0</td>\n",
       "      <td>9</td>\n",
       "    </tr>\n",
       "    <tr>\n",
       "      <th>2</th>\n",
       "      <td>2018-01-01</td>\n",
       "      <td>5957793</td>\n",
       "      <td>3</td>\n",
       "      <td>6228</td>\n",
       "      <td>32513</td>\n",
       "      <td>32513</td>\n",
       "      <td>32513</td>\n",
       "      <td>32513</td>\n",
       "      <td>2172314</td>\n",
       "      <td>2018</td>\n",
       "      <td>...</td>\n",
       "      <td>20180101595779303</td>\n",
       "      <td>201801015957793</td>\n",
       "      <td>9</td>\n",
       "      <td>129</td>\n",
       "      <td>1</td>\n",
       "      <td>3090</td>\n",
       "      <td>0</td>\n",
       "      <td>0</td>\n",
       "      <td>0</td>\n",
       "      <td>9</td>\n",
       "    </tr>\n",
       "    <tr>\n",
       "      <th>3</th>\n",
       "      <td>2018-01-01</td>\n",
       "      <td>5957793</td>\n",
       "      <td>4</td>\n",
       "      <td>4788</td>\n",
       "      <td>32569</td>\n",
       "      <td>32569</td>\n",
       "      <td>32569</td>\n",
       "      <td>32569</td>\n",
       "      <td>2172314</td>\n",
       "      <td>2018</td>\n",
       "      <td>...</td>\n",
       "      <td>20180101595779304</td>\n",
       "      <td>201801015957793</td>\n",
       "      <td>9</td>\n",
       "      <td>129</td>\n",
       "      <td>1</td>\n",
       "      <td>3090</td>\n",
       "      <td>0</td>\n",
       "      <td>0</td>\n",
       "      <td>0</td>\n",
       "      <td>9</td>\n",
       "    </tr>\n",
       "    <tr>\n",
       "      <th>4</th>\n",
       "      <td>2018-01-01</td>\n",
       "      <td>5957793</td>\n",
       "      <td>5</td>\n",
       "      <td>6273</td>\n",
       "      <td>32615</td>\n",
       "      <td>32615</td>\n",
       "      <td>32615</td>\n",
       "      <td>32615</td>\n",
       "      <td>2172314</td>\n",
       "      <td>2018</td>\n",
       "      <td>...</td>\n",
       "      <td>20180101595779305</td>\n",
       "      <td>201801015957793</td>\n",
       "      <td>9</td>\n",
       "      <td>129</td>\n",
       "      <td>1</td>\n",
       "      <td>3090</td>\n",
       "      <td>0</td>\n",
       "      <td>0</td>\n",
       "      <td>0</td>\n",
       "      <td>9</td>\n",
       "    </tr>\n",
       "  </tbody>\n",
       "</table>\n",
       "<p>5 rows × 22 columns</p>\n",
       "</div>"
      ],
      "text/plain": [
       "  DAYOFSERVICE   TRIPID  PROGRNUMBER  STOPPOINTID  PLANNEDTIME_ARR  \\\n",
       "0   2018-01-01  5957793            1         7132            32400   \n",
       "1   2018-01-01  5957793            2         6230            32470   \n",
       "2   2018-01-01  5957793            3         6228            32513   \n",
       "3   2018-01-01  5957793            4         4788            32569   \n",
       "4   2018-01-01  5957793            5         6273            32615   \n",
       "\n",
       "   PLANNEDTIME_DEP  ACTUALTIME_ARR  ACTUALTIME_DEP  VEHICLEID  year  ...  \\\n",
       "0            32400           32400           32400    2172314  2018  ...   \n",
       "1            32470           32470           32470    2172314  2018  ...   \n",
       "2            32513           32513           32513    2172314  2018  ...   \n",
       "3            32569           32569           32569    2172314  2018  ...   \n",
       "4            32615           32615           32615    2172314  2018  ...   \n",
       "\n",
       "                  id    trip_leave_id  LINEID  num_lineID  DIRECTION  \\\n",
       "0  20180101595779301  201801015957793       9         129          1   \n",
       "1  20180101595779302  201801015957793       9         129          1   \n",
       "2  20180101595779303  201801015957793       9         129          1   \n",
       "3  20180101595779304  201801015957793       9         129          1   \n",
       "4  20180101595779305  201801015957793       9         129          1   \n",
       "\n",
       "   actual_duration  dayOfWeek  weekend  rushHour  actualARR_hour  \n",
       "0             3090          0        0         0               9  \n",
       "1             3090          0        0         0               9  \n",
       "2             3090          0        0         0               9  \n",
       "3             3090          0        0         0               9  \n",
       "4             3090          0        0         0               9  \n",
       "\n",
       "[5 rows x 22 columns]"
      ]
     },
     "execution_count": 862,
     "metadata": {},
     "output_type": "execute_result"
    }
   ],
   "source": [
    "comb.head()"
   ]
  },
  {
   "cell_type": "markdown",
   "id": "4a83145f",
   "metadata": {},
   "source": [
    "## Send to CSV"
   ]
  },
  {
   "cell_type": "code",
   "execution_count": 863,
   "id": "4a5c218e",
   "metadata": {},
   "outputs": [],
   "source": [
    "# Send df to csv:\n",
    "comb.to_csv('v6_route_9.csv', index=False)"
   ]
  },
  {
   "cell_type": "code",
   "execution_count": null,
   "id": "a7742058",
   "metadata": {},
   "outputs": [],
   "source": []
  }
 ],
 "metadata": {
  "kernelspec": {
   "display_name": "Python 3 (ipykernel)",
   "language": "python",
   "name": "python3"
  },
  "language_info": {
   "codemirror_mode": {
    "name": "ipython",
    "version": 3
   },
   "file_extension": ".py",
   "mimetype": "text/x-python",
   "name": "python",
   "nbconvert_exporter": "python",
   "pygments_lexer": "ipython3",
   "version": "3.10.4"
  }
 },
 "nbformat": 4,
 "nbformat_minor": 5
}
