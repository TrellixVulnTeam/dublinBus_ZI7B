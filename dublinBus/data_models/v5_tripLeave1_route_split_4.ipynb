{
 "cells": [
  {
   "cell_type": "code",
   "execution_count": 1,
   "id": "29f878e6",
   "metadata": {},
   "outputs": [],
   "source": [
    "# Library Imports.\n",
    "import pandas as pd\n",
    "\n",
    "import numpy as np"
   ]
  },
  {
   "cell_type": "code",
   "execution_count": 2,
   "id": "12abaae1",
   "metadata": {},
   "outputs": [],
   "source": [
    "# Read tripleave1 route split 4 CSV file into Data Frame:\n",
    "wk = pd.read_csv('v5_tripLeave1_route_split_4.csv', keep_default_na=True, delimiter=',', skipinitialspace=True)"
   ]
  },
  {
   "cell_type": "code",
   "execution_count": 3,
   "id": "5dda47a0",
   "metadata": {},
   "outputs": [
    {
     "data": {
      "text/plain": [
       "(9231897, 22)"
      ]
     },
     "execution_count": 3,
     "metadata": {},
     "output_type": "execute_result"
    }
   ],
   "source": [
    "wk.shape"
   ]
  },
  {
   "cell_type": "code",
   "execution_count": 4,
   "id": "c0c029ad",
   "metadata": {},
   "outputs": [
    {
     "data": {
      "text/html": [
       "<div>\n",
       "<style scoped>\n",
       "    .dataframe tbody tr th:only-of-type {\n",
       "        vertical-align: middle;\n",
       "    }\n",
       "\n",
       "    .dataframe tbody tr th {\n",
       "        vertical-align: top;\n",
       "    }\n",
       "\n",
       "    .dataframe thead th {\n",
       "        text-align: right;\n",
       "    }\n",
       "</style>\n",
       "<table border=\"1\" class=\"dataframe\">\n",
       "  <thead>\n",
       "    <tr style=\"text-align: right;\">\n",
       "      <th></th>\n",
       "      <th>DAYOFSERVICE</th>\n",
       "      <th>TRIPID</th>\n",
       "      <th>PROGRNUMBER</th>\n",
       "      <th>STOPPOINTID</th>\n",
       "      <th>PLANNEDTIME_ARR</th>\n",
       "      <th>PLANNEDTIME_DEP</th>\n",
       "      <th>ACTUALTIME_ARR</th>\n",
       "      <th>ACTUALTIME_DEP</th>\n",
       "      <th>VEHICLEID</th>\n",
       "      <th>year</th>\n",
       "      <th>...</th>\n",
       "      <th>id</th>\n",
       "      <th>trip_leave_id</th>\n",
       "      <th>LINEID</th>\n",
       "      <th>num_lineID</th>\n",
       "      <th>DIRECTION</th>\n",
       "      <th>actual_duration</th>\n",
       "      <th>dayOfWeek</th>\n",
       "      <th>weekend</th>\n",
       "      <th>rushHour</th>\n",
       "      <th>actualARR_hour</th>\n",
       "    </tr>\n",
       "  </thead>\n",
       "  <tbody>\n",
       "    <tr>\n",
       "      <th>0</th>\n",
       "      <td>2018-01-01</td>\n",
       "      <td>5956807</td>\n",
       "      <td>1</td>\n",
       "      <td>248</td>\n",
       "      <td>31200</td>\n",
       "      <td>31200</td>\n",
       "      <td>31200</td>\n",
       "      <td>31200</td>\n",
       "      <td>1932359</td>\n",
       "      <td>2018</td>\n",
       "      <td>...</td>\n",
       "      <td>20180101595680701</td>\n",
       "      <td>201801015956807</td>\n",
       "      <td>14</td>\n",
       "      <td>13</td>\n",
       "      <td>1</td>\n",
       "      <td>3399</td>\n",
       "      <td>0</td>\n",
       "      <td>0</td>\n",
       "      <td>0</td>\n",
       "      <td>9</td>\n",
       "    </tr>\n",
       "    <tr>\n",
       "      <th>1</th>\n",
       "      <td>2018-01-01</td>\n",
       "      <td>5956807</td>\n",
       "      <td>2</td>\n",
       "      <td>249</td>\n",
       "      <td>31232</td>\n",
       "      <td>31232</td>\n",
       "      <td>31232</td>\n",
       "      <td>31232</td>\n",
       "      <td>1932359</td>\n",
       "      <td>2018</td>\n",
       "      <td>...</td>\n",
       "      <td>20180101595680702</td>\n",
       "      <td>201801015956807</td>\n",
       "      <td>14</td>\n",
       "      <td>13</td>\n",
       "      <td>1</td>\n",
       "      <td>3399</td>\n",
       "      <td>0</td>\n",
       "      <td>0</td>\n",
       "      <td>0</td>\n",
       "      <td>9</td>\n",
       "    </tr>\n",
       "    <tr>\n",
       "      <th>2</th>\n",
       "      <td>2018-01-01</td>\n",
       "      <td>5956807</td>\n",
       "      <td>3</td>\n",
       "      <td>250</td>\n",
       "      <td>31291</td>\n",
       "      <td>31291</td>\n",
       "      <td>31291</td>\n",
       "      <td>31291</td>\n",
       "      <td>1932359</td>\n",
       "      <td>2018</td>\n",
       "      <td>...</td>\n",
       "      <td>20180101595680703</td>\n",
       "      <td>201801015956807</td>\n",
       "      <td>14</td>\n",
       "      <td>13</td>\n",
       "      <td>1</td>\n",
       "      <td>3399</td>\n",
       "      <td>0</td>\n",
       "      <td>0</td>\n",
       "      <td>0</td>\n",
       "      <td>9</td>\n",
       "    </tr>\n",
       "    <tr>\n",
       "      <th>3</th>\n",
       "      <td>2018-01-01</td>\n",
       "      <td>5956807</td>\n",
       "      <td>4</td>\n",
       "      <td>251</td>\n",
       "      <td>31325</td>\n",
       "      <td>31325</td>\n",
       "      <td>31325</td>\n",
       "      <td>31325</td>\n",
       "      <td>1932359</td>\n",
       "      <td>2018</td>\n",
       "      <td>...</td>\n",
       "      <td>20180101595680704</td>\n",
       "      <td>201801015956807</td>\n",
       "      <td>14</td>\n",
       "      <td>13</td>\n",
       "      <td>1</td>\n",
       "      <td>3399</td>\n",
       "      <td>0</td>\n",
       "      <td>0</td>\n",
       "      <td>0</td>\n",
       "      <td>9</td>\n",
       "    </tr>\n",
       "    <tr>\n",
       "      <th>4</th>\n",
       "      <td>2018-01-01</td>\n",
       "      <td>5956807</td>\n",
       "      <td>5</td>\n",
       "      <td>252</td>\n",
       "      <td>31378</td>\n",
       "      <td>31378</td>\n",
       "      <td>31378</td>\n",
       "      <td>31378</td>\n",
       "      <td>1932359</td>\n",
       "      <td>2018</td>\n",
       "      <td>...</td>\n",
       "      <td>20180101595680705</td>\n",
       "      <td>201801015956807</td>\n",
       "      <td>14</td>\n",
       "      <td>13</td>\n",
       "      <td>1</td>\n",
       "      <td>3399</td>\n",
       "      <td>0</td>\n",
       "      <td>0</td>\n",
       "      <td>0</td>\n",
       "      <td>9</td>\n",
       "    </tr>\n",
       "  </tbody>\n",
       "</table>\n",
       "<p>5 rows × 22 columns</p>\n",
       "</div>"
      ],
      "text/plain": [
       "  DAYOFSERVICE   TRIPID  PROGRNUMBER  STOPPOINTID  PLANNEDTIME_ARR  \\\n",
       "0   2018-01-01  5956807            1          248            31200   \n",
       "1   2018-01-01  5956807            2          249            31232   \n",
       "2   2018-01-01  5956807            3          250            31291   \n",
       "3   2018-01-01  5956807            4          251            31325   \n",
       "4   2018-01-01  5956807            5          252            31378   \n",
       "\n",
       "   PLANNEDTIME_DEP  ACTUALTIME_ARR  ACTUALTIME_DEP  VEHICLEID  year  ...  \\\n",
       "0            31200           31200           31200    1932359  2018  ...   \n",
       "1            31232           31232           31232    1932359  2018  ...   \n",
       "2            31291           31291           31291    1932359  2018  ...   \n",
       "3            31325           31325           31325    1932359  2018  ...   \n",
       "4            31378           31378           31378    1932359  2018  ...   \n",
       "\n",
       "                  id    trip_leave_id  LINEID  num_lineID DIRECTION  \\\n",
       "0  20180101595680701  201801015956807      14          13         1   \n",
       "1  20180101595680702  201801015956807      14          13         1   \n",
       "2  20180101595680703  201801015956807      14          13         1   \n",
       "3  20180101595680704  201801015956807      14          13         1   \n",
       "4  20180101595680705  201801015956807      14          13         1   \n",
       "\n",
       "   actual_duration  dayOfWeek  weekend  rushHour  actualARR_hour  \n",
       "0             3399          0        0         0               9  \n",
       "1             3399          0        0         0               9  \n",
       "2             3399          0        0         0               9  \n",
       "3             3399          0        0         0               9  \n",
       "4             3399          0        0         0               9  \n",
       "\n",
       "[5 rows x 22 columns]"
      ]
     },
     "execution_count": 4,
     "metadata": {},
     "output_type": "execute_result"
    }
   ],
   "source": [
    "wk.head()"
   ]
  },
  {
   "cell_type": "code",
   "execution_count": 5,
   "id": "4878f708",
   "metadata": {},
   "outputs": [
    {
     "data": {
      "text/plain": [
       "DAYOFSERVICE       object\n",
       "TRIPID              int64\n",
       "PROGRNUMBER         int64\n",
       "STOPPOINTID         int64\n",
       "PLANNEDTIME_ARR     int64\n",
       "PLANNEDTIME_DEP     int64\n",
       "ACTUALTIME_ARR      int64\n",
       "ACTUALTIME_DEP      int64\n",
       "VEHICLEID           int64\n",
       "year                int64\n",
       "month               int64\n",
       "day                 int64\n",
       "id                  int64\n",
       "trip_leave_id       int64\n",
       "LINEID             object\n",
       "num_lineID          int64\n",
       "DIRECTION           int64\n",
       "actual_duration     int64\n",
       "dayOfWeek           int64\n",
       "weekend             int64\n",
       "rushHour            int64\n",
       "actualARR_hour      int64\n",
       "dtype: object"
      ]
     },
     "execution_count": 5,
     "metadata": {},
     "output_type": "execute_result"
    }
   ],
   "source": [
    "wk.dtypes"
   ]
  },
  {
   "cell_type": "markdown",
   "id": "81073090",
   "metadata": {},
   "source": [
    "## Datatype Changes"
   ]
  },
  {
   "cell_type": "code",
   "execution_count": 6,
   "id": "75954e98",
   "metadata": {},
   "outputs": [],
   "source": [
    "wk['num_lineID'] = wk['num_lineID'].astype('int16')\n",
    "wk['DIRECTION'] = wk['DIRECTION'].astype('int16')"
   ]
  },
  {
   "cell_type": "code",
   "execution_count": 7,
   "id": "81d272e5",
   "metadata": {},
   "outputs": [],
   "source": [
    "wk['actual_duration'] = wk['actual_duration'].astype('int64')\n",
    "wk['dayOfWeek'] = wk['dayOfWeek'].astype('int16')"
   ]
  },
  {
   "cell_type": "code",
   "execution_count": 8,
   "id": "8267e3dc",
   "metadata": {},
   "outputs": [],
   "source": [
    "wk['weekend'] = wk['weekend'].astype('int16')\n",
    "wk['rushHour'] = wk['rushHour'].astype('int16')"
   ]
  },
  {
   "cell_type": "code",
   "execution_count": null,
   "id": "604f0107",
   "metadata": {},
   "outputs": [],
   "source": [
    "wk.head()"
   ]
  },
  {
   "cell_type": "code",
   "execution_count": null,
   "id": "645ff86a",
   "metadata": {},
   "outputs": [],
   "source": [
    "wk.dtypes"
   ]
  },
  {
   "cell_type": "markdown",
   "id": "86d6d334",
   "metadata": {},
   "source": [
    "## Route 14"
   ]
  },
  {
   "cell_type": "code",
   "execution_count": 9,
   "id": "01b378cc",
   "metadata": {},
   "outputs": [],
   "source": [
    "lwk = wk[(wk['LINEID'] == '14')]"
   ]
  },
  {
   "cell_type": "code",
   "execution_count": 10,
   "id": "5ae677fe",
   "metadata": {},
   "outputs": [
    {
     "data": {
      "text/plain": [
       "(409768, 22)"
      ]
     },
     "execution_count": 10,
     "metadata": {},
     "output_type": "execute_result"
    }
   ],
   "source": [
    "lwk.shape"
   ]
  },
  {
   "cell_type": "code",
   "execution_count": 11,
   "id": "eb268b7e",
   "metadata": {},
   "outputs": [],
   "source": [
    "# Drop Route 14 rows from wk\n",
    "wk.drop(wk[wk['LINEID'] == '14'].index, inplace = True)"
   ]
  },
  {
   "cell_type": "code",
   "execution_count": null,
   "id": "cdb83698",
   "metadata": {},
   "outputs": [],
   "source": [
    "wk.head()"
   ]
  },
  {
   "cell_type": "code",
   "execution_count": null,
   "id": "f85f5650",
   "metadata": {},
   "outputs": [],
   "source": [
    "wk.shape"
   ]
  },
  {
   "cell_type": "markdown",
   "id": "f36c2173",
   "metadata": {},
   "source": [
    "<h3>Send to CSV</h3>"
   ]
  },
  {
   "cell_type": "code",
   "execution_count": null,
   "id": "4fcd4689",
   "metadata": {},
   "outputs": [],
   "source": [
    "# Send df to csv:\n",
    "lwk.to_csv('v5_14_tripLeave1_sp4.csv', index=False)"
   ]
  },
  {
   "cell_type": "markdown",
   "id": "02f3d83e",
   "metadata": {},
   "source": [
    "## Route 102"
   ]
  },
  {
   "cell_type": "code",
   "execution_count": 12,
   "id": "b91914a8",
   "metadata": {},
   "outputs": [],
   "source": [
    "lwk = wk[(wk['LINEID'] == '102')]"
   ]
  },
  {
   "cell_type": "code",
   "execution_count": 13,
   "id": "697f3295",
   "metadata": {},
   "outputs": [
    {
     "data": {
      "text/plain": [
       "(163965, 22)"
      ]
     },
     "execution_count": 13,
     "metadata": {},
     "output_type": "execute_result"
    }
   ],
   "source": [
    "lwk.shape"
   ]
  },
  {
   "cell_type": "code",
   "execution_count": 14,
   "id": "d4360a64",
   "metadata": {},
   "outputs": [],
   "source": [
    "# Drop Route 102 rows from wk\n",
    "wk.drop(wk[wk['LINEID'] == '102'].index, inplace = True)"
   ]
  },
  {
   "cell_type": "code",
   "execution_count": null,
   "id": "942c64b0",
   "metadata": {},
   "outputs": [],
   "source": [
    "wk.head()"
   ]
  },
  {
   "cell_type": "code",
   "execution_count": null,
   "id": "cdc545e0",
   "metadata": {},
   "outputs": [],
   "source": [
    "wk.shape"
   ]
  },
  {
   "cell_type": "markdown",
   "id": "40667721",
   "metadata": {},
   "source": [
    "<h3>Send to CSV</h3>"
   ]
  },
  {
   "cell_type": "code",
   "execution_count": null,
   "id": "5d225394",
   "metadata": {},
   "outputs": [],
   "source": [
    "# Send df to csv:\n",
    "lwk.to_csv('v5_102_tripLeave1_sp4.csv', index=False)"
   ]
  },
  {
   "cell_type": "markdown",
   "id": "c9871333",
   "metadata": {},
   "source": [
    "## Route 40B"
   ]
  },
  {
   "cell_type": "code",
   "execution_count": 15,
   "id": "6d09b20e",
   "metadata": {},
   "outputs": [],
   "source": [
    "lwk = wk[(wk['LINEID'] == '40B')]"
   ]
  },
  {
   "cell_type": "code",
   "execution_count": 16,
   "id": "5a20631a",
   "metadata": {},
   "outputs": [
    {
     "data": {
      "text/plain": [
       "(22302, 22)"
      ]
     },
     "execution_count": 16,
     "metadata": {},
     "output_type": "execute_result"
    }
   ],
   "source": [
    "lwk.shape"
   ]
  },
  {
   "cell_type": "code",
   "execution_count": 17,
   "id": "33e489aa",
   "metadata": {},
   "outputs": [],
   "source": [
    "# Drop Route 40B rows from wk\n",
    "wk.drop(wk[wk['LINEID'] == '40B'].index, inplace = True)"
   ]
  },
  {
   "cell_type": "code",
   "execution_count": null,
   "id": "4ed9474e",
   "metadata": {},
   "outputs": [],
   "source": [
    "wk.head()"
   ]
  },
  {
   "cell_type": "code",
   "execution_count": null,
   "id": "f5f7599c",
   "metadata": {},
   "outputs": [],
   "source": [
    "wk.shape"
   ]
  },
  {
   "cell_type": "markdown",
   "id": "38748ef1",
   "metadata": {},
   "source": [
    "<h3>Send to CSV</h3>"
   ]
  },
  {
   "cell_type": "code",
   "execution_count": null,
   "id": "838ecfd9",
   "metadata": {},
   "outputs": [],
   "source": [
    "# Send df to csv:\n",
    "lwk.to_csv('v5_40B_tripLeave1_sp4.csv', index=False)"
   ]
  },
  {
   "cell_type": "markdown",
   "id": "c9ce61f5",
   "metadata": {},
   "source": [
    "## Route 40D"
   ]
  },
  {
   "cell_type": "code",
   "execution_count": 18,
   "id": "f6ad83ea",
   "metadata": {},
   "outputs": [],
   "source": [
    "lwk = wk[(wk['LINEID'] == '40D')]"
   ]
  },
  {
   "cell_type": "code",
   "execution_count": 19,
   "id": "ec9abc5f",
   "metadata": {},
   "outputs": [
    {
     "data": {
      "text/plain": [
       "(187000, 22)"
      ]
     },
     "execution_count": 19,
     "metadata": {},
     "output_type": "execute_result"
    }
   ],
   "source": [
    "lwk.shape"
   ]
  },
  {
   "cell_type": "code",
   "execution_count": 20,
   "id": "33c70ba9",
   "metadata": {},
   "outputs": [],
   "source": [
    "# Drop Route 40D rows from wk\n",
    "wk.drop(wk[wk['LINEID'] == '40D'].index, inplace = True)"
   ]
  },
  {
   "cell_type": "code",
   "execution_count": null,
   "id": "1f691a8b",
   "metadata": {},
   "outputs": [],
   "source": [
    "wk.head()"
   ]
  },
  {
   "cell_type": "code",
   "execution_count": null,
   "id": "c35ec0ec",
   "metadata": {},
   "outputs": [],
   "source": [
    "wk.shape"
   ]
  },
  {
   "cell_type": "markdown",
   "id": "685da73e",
   "metadata": {},
   "source": [
    "<h3>Send to CSV</h3>"
   ]
  },
  {
   "cell_type": "code",
   "execution_count": null,
   "id": "dd78bfed",
   "metadata": {},
   "outputs": [],
   "source": [
    "# Send df to csv:\n",
    "lwk.to_csv('v5_40D_tripLeave1_sp4.csv', index=False)"
   ]
  },
  {
   "cell_type": "markdown",
   "id": "0a607558",
   "metadata": {},
   "source": [
    "## Route 220"
   ]
  },
  {
   "cell_type": "code",
   "execution_count": 21,
   "id": "d4accdca",
   "metadata": {},
   "outputs": [],
   "source": [
    "lwk = wk[(wk['LINEID'] == '220')]"
   ]
  },
  {
   "cell_type": "code",
   "execution_count": 22,
   "id": "8bd84191",
   "metadata": {},
   "outputs": [
    {
     "data": {
      "text/plain": [
       "(68170, 22)"
      ]
     },
     "execution_count": 22,
     "metadata": {},
     "output_type": "execute_result"
    }
   ],
   "source": [
    "lwk.shape"
   ]
  },
  {
   "cell_type": "code",
   "execution_count": 23,
   "id": "9329913e",
   "metadata": {},
   "outputs": [],
   "source": [
    "# Drop Route 220 rows from wk\n",
    "wk.drop(wk[wk['LINEID'] == '220'].index, inplace = True)"
   ]
  },
  {
   "cell_type": "code",
   "execution_count": null,
   "id": "e6684ab8",
   "metadata": {},
   "outputs": [],
   "source": [
    "wk.head()"
   ]
  },
  {
   "cell_type": "code",
   "execution_count": null,
   "id": "c1b9c022",
   "metadata": {},
   "outputs": [],
   "source": [
    "wk.shape"
   ]
  },
  {
   "cell_type": "markdown",
   "id": "9001e06a",
   "metadata": {},
   "source": [
    "<h3>Send to CSV</h3>"
   ]
  },
  {
   "cell_type": "code",
   "execution_count": null,
   "id": "a4594538",
   "metadata": {},
   "outputs": [],
   "source": [
    "# Send df to csv:\n",
    "lwk.to_csv('v5_220_tripLeave1_sp4.csv', index=False)"
   ]
  },
  {
   "cell_type": "markdown",
   "id": "cf6b9a30",
   "metadata": {},
   "source": [
    "## Route 75"
   ]
  },
  {
   "cell_type": "code",
   "execution_count": 24,
   "id": "be7cfb01",
   "metadata": {},
   "outputs": [],
   "source": [
    "lwk = wk[(wk['LINEID'] == '75')]"
   ]
  },
  {
   "cell_type": "code",
   "execution_count": 25,
   "id": "ba583db4",
   "metadata": {},
   "outputs": [
    {
     "data": {
      "text/plain": [
       "(299596, 22)"
      ]
     },
     "execution_count": 25,
     "metadata": {},
     "output_type": "execute_result"
    }
   ],
   "source": [
    "lwk.shape"
   ]
  },
  {
   "cell_type": "code",
   "execution_count": 26,
   "id": "9e719e0a",
   "metadata": {},
   "outputs": [],
   "source": [
    "# Drop Route 75 rows from wk\n",
    "wk.drop(wk[wk['LINEID'] == '75'].index, inplace = True)"
   ]
  },
  {
   "cell_type": "code",
   "execution_count": null,
   "id": "1c15d26f",
   "metadata": {},
   "outputs": [],
   "source": [
    "wk.head()"
   ]
  },
  {
   "cell_type": "code",
   "execution_count": null,
   "id": "5299a41b",
   "metadata": {},
   "outputs": [],
   "source": [
    "wk.shape"
   ]
  },
  {
   "cell_type": "markdown",
   "id": "c95c36a2",
   "metadata": {},
   "source": [
    "<h3>Send to CSV</h3>"
   ]
  },
  {
   "cell_type": "code",
   "execution_count": null,
   "id": "10e456a8",
   "metadata": {},
   "outputs": [],
   "source": [
    "# Send df to csv:\n",
    "lwk.to_csv('v5_75_tripLeave1_sp4.csv', index=False)"
   ]
  },
  {
   "cell_type": "markdown",
   "id": "eae8e196",
   "metadata": {},
   "source": [
    "## Route 29A"
   ]
  },
  {
   "cell_type": "code",
   "execution_count": 27,
   "id": "2fe9252d",
   "metadata": {},
   "outputs": [],
   "source": [
    "lwk = wk[(wk['LINEID'] == '29A')]"
   ]
  },
  {
   "cell_type": "code",
   "execution_count": 28,
   "id": "df08328a",
   "metadata": {},
   "outputs": [
    {
     "data": {
      "text/plain": [
       "(220684, 22)"
      ]
     },
     "execution_count": 28,
     "metadata": {},
     "output_type": "execute_result"
    }
   ],
   "source": [
    "lwk.shape"
   ]
  },
  {
   "cell_type": "code",
   "execution_count": 29,
   "id": "b0b02512",
   "metadata": {},
   "outputs": [],
   "source": [
    "# Drop Route 29A rows from wk\n",
    "wk.drop(wk[wk['LINEID'] == '29A'].index, inplace = True)"
   ]
  },
  {
   "cell_type": "code",
   "execution_count": null,
   "id": "8b9db2a6",
   "metadata": {},
   "outputs": [],
   "source": [
    "wk.head()"
   ]
  },
  {
   "cell_type": "code",
   "execution_count": null,
   "id": "91131d06",
   "metadata": {},
   "outputs": [],
   "source": [
    "wk.shape"
   ]
  },
  {
   "cell_type": "markdown",
   "id": "3a88d28c",
   "metadata": {},
   "source": [
    "<h3>Send to CSV</h3>"
   ]
  },
  {
   "cell_type": "code",
   "execution_count": null,
   "id": "8bc23b00",
   "metadata": {},
   "outputs": [],
   "source": [
    "# Send df to csv:\n",
    "lwk.to_csv('v5_29A_tripLeave1_sp4.csv', index=False)"
   ]
  },
  {
   "cell_type": "markdown",
   "id": "12bd18a1",
   "metadata": {},
   "source": [
    "## Route 66A"
   ]
  },
  {
   "cell_type": "code",
   "execution_count": 30,
   "id": "310eb1b2",
   "metadata": {},
   "outputs": [],
   "source": [
    "lwk = wk[(wk['LINEID'] == '66A')]"
   ]
  },
  {
   "cell_type": "code",
   "execution_count": 31,
   "id": "9d7e0310",
   "metadata": {},
   "outputs": [
    {
     "data": {
      "text/plain": [
       "(71877, 22)"
      ]
     },
     "execution_count": 31,
     "metadata": {},
     "output_type": "execute_result"
    }
   ],
   "source": [
    "lwk.shape"
   ]
  },
  {
   "cell_type": "code",
   "execution_count": 32,
   "id": "2bc58961",
   "metadata": {},
   "outputs": [],
   "source": [
    "# Drop Route 66A rows from wk\n",
    "wk.drop(wk[wk['LINEID'] == '66A'].index, inplace = True)"
   ]
  },
  {
   "cell_type": "code",
   "execution_count": null,
   "id": "e626322e",
   "metadata": {},
   "outputs": [],
   "source": [
    "wk.head()"
   ]
  },
  {
   "cell_type": "code",
   "execution_count": null,
   "id": "1925fbda",
   "metadata": {},
   "outputs": [],
   "source": [
    "wk.shape"
   ]
  },
  {
   "cell_type": "markdown",
   "id": "fbce052d",
   "metadata": {},
   "source": [
    "<h3>Send to CSV</h3>"
   ]
  },
  {
   "cell_type": "code",
   "execution_count": null,
   "id": "f7db27b7",
   "metadata": {},
   "outputs": [],
   "source": [
    "# Send df to csv:\n",
    "lwk.to_csv('v5_66A_tripLeave1_sp4.csv', index=False)"
   ]
  },
  {
   "cell_type": "markdown",
   "id": "b634e919",
   "metadata": {},
   "source": [
    "## Route 26"
   ]
  },
  {
   "cell_type": "code",
   "execution_count": 33,
   "id": "3953f651",
   "metadata": {},
   "outputs": [],
   "source": [
    "lwk = wk[(wk['LINEID'] == '26')]"
   ]
  },
  {
   "cell_type": "code",
   "execution_count": 34,
   "id": "c2cf16ab",
   "metadata": {},
   "outputs": [
    {
     "data": {
      "text/plain": [
       "(61014, 22)"
      ]
     },
     "execution_count": 34,
     "metadata": {},
     "output_type": "execute_result"
    }
   ],
   "source": [
    "lwk.shape"
   ]
  },
  {
   "cell_type": "code",
   "execution_count": 35,
   "id": "9c60ac87",
   "metadata": {},
   "outputs": [],
   "source": [
    "# Drop Route 26 rows from wk\n",
    "wk.drop(wk[wk['LINEID'] == '26'].index, inplace = True)"
   ]
  },
  {
   "cell_type": "code",
   "execution_count": null,
   "id": "697f4f68",
   "metadata": {},
   "outputs": [],
   "source": [
    "wk.head()"
   ]
  },
  {
   "cell_type": "code",
   "execution_count": null,
   "id": "008d0da7",
   "metadata": {},
   "outputs": [],
   "source": [
    "wk.shape"
   ]
  },
  {
   "cell_type": "markdown",
   "id": "344cabed",
   "metadata": {},
   "source": [
    "<h3>Send to CSV</h3>"
   ]
  },
  {
   "cell_type": "code",
   "execution_count": null,
   "id": "a87bdae2",
   "metadata": {},
   "outputs": [],
   "source": [
    "# Send df to csv:\n",
    "lwk.to_csv('v5_26_tripLeave1_sp4.csv', index=False)"
   ]
  },
  {
   "cell_type": "markdown",
   "id": "caae3da1",
   "metadata": {},
   "source": [
    "## Route 66"
   ]
  },
  {
   "cell_type": "code",
   "execution_count": 36,
   "id": "57040cc6",
   "metadata": {},
   "outputs": [],
   "source": [
    "lwk = wk[(wk['LINEID'] == '66')]"
   ]
  },
  {
   "cell_type": "code",
   "execution_count": 37,
   "id": "94445942",
   "metadata": {},
   "outputs": [
    {
     "data": {
      "text/plain": [
       "(190797, 22)"
      ]
     },
     "execution_count": 37,
     "metadata": {},
     "output_type": "execute_result"
    }
   ],
   "source": [
    "lwk.shape"
   ]
  },
  {
   "cell_type": "code",
   "execution_count": 38,
   "id": "6daa2caf",
   "metadata": {},
   "outputs": [],
   "source": [
    "# Drop Route 66 rows from wk\n",
    "wk.drop(wk[wk['LINEID'] == '66'].index, inplace = True)"
   ]
  },
  {
   "cell_type": "code",
   "execution_count": null,
   "id": "b120bb4d",
   "metadata": {},
   "outputs": [],
   "source": [
    "wk.head()"
   ]
  },
  {
   "cell_type": "code",
   "execution_count": null,
   "id": "e4817201",
   "metadata": {},
   "outputs": [],
   "source": [
    "wk.shape"
   ]
  },
  {
   "cell_type": "markdown",
   "id": "d39a108d",
   "metadata": {},
   "source": [
    "<h3>Send to CSV</h3>"
   ]
  },
  {
   "cell_type": "code",
   "execution_count": null,
   "id": "1de6b91b",
   "metadata": {},
   "outputs": [],
   "source": [
    "# Send df to csv:\n",
    "lwk.to_csv('v5_66_tripLeave1_sp4.csv', index=False)"
   ]
  },
  {
   "cell_type": "markdown",
   "id": "bb64356b",
   "metadata": {},
   "source": [
    "## Route 7"
   ]
  },
  {
   "cell_type": "code",
   "execution_count": 39,
   "id": "16722cc0",
   "metadata": {},
   "outputs": [],
   "source": [
    "lwk = wk[(wk['LINEID'] == '7')]"
   ]
  },
  {
   "cell_type": "code",
   "execution_count": 40,
   "id": "ad9e01f0",
   "metadata": {},
   "outputs": [
    {
     "data": {
      "text/plain": [
       "(177661, 22)"
      ]
     },
     "execution_count": 40,
     "metadata": {},
     "output_type": "execute_result"
    }
   ],
   "source": [
    "lwk.shape"
   ]
  },
  {
   "cell_type": "code",
   "execution_count": 41,
   "id": "bf0d5ee0",
   "metadata": {},
   "outputs": [],
   "source": [
    "# Drop Route 7 rows from wk\n",
    "wk.drop(wk[wk['LINEID'] == '7'].index, inplace = True)"
   ]
  },
  {
   "cell_type": "code",
   "execution_count": null,
   "id": "720f5491",
   "metadata": {},
   "outputs": [],
   "source": [
    "wk.head()"
   ]
  },
  {
   "cell_type": "code",
   "execution_count": null,
   "id": "ddff214c",
   "metadata": {},
   "outputs": [],
   "source": [
    "wk.shape"
   ]
  },
  {
   "cell_type": "markdown",
   "id": "93a5421b",
   "metadata": {},
   "source": [
    "<h3>Send to CSV</h3>"
   ]
  },
  {
   "cell_type": "code",
   "execution_count": null,
   "id": "db5adc85",
   "metadata": {},
   "outputs": [],
   "source": [
    "# Send df to csv:\n",
    "lwk.to_csv('v5_7_tripLeave1_sp4.csv', index=False)"
   ]
  },
  {
   "cell_type": "markdown",
   "id": "22d4967d",
   "metadata": {},
   "source": [
    "## Route 7A"
   ]
  },
  {
   "cell_type": "code",
   "execution_count": 42,
   "id": "bf3194ae",
   "metadata": {},
   "outputs": [],
   "source": [
    "lwk = wk[(wk['LINEID'] == '7A')]"
   ]
  },
  {
   "cell_type": "code",
   "execution_count": 43,
   "id": "716cc5f7",
   "metadata": {},
   "outputs": [
    {
     "data": {
      "text/plain": [
       "(225676, 22)"
      ]
     },
     "execution_count": 43,
     "metadata": {},
     "output_type": "execute_result"
    }
   ],
   "source": [
    "lwk.shape"
   ]
  },
  {
   "cell_type": "code",
   "execution_count": 44,
   "id": "35acae7d",
   "metadata": {},
   "outputs": [],
   "source": [
    "# Drop Route 7A rows from wk\n",
    "wk.drop(wk[wk['LINEID'] == '7A'].index, inplace = True)"
   ]
  },
  {
   "cell_type": "code",
   "execution_count": 45,
   "id": "4c542da6",
   "metadata": {},
   "outputs": [
    {
     "data": {
      "text/html": [
       "<div>\n",
       "<style scoped>\n",
       "    .dataframe tbody tr th:only-of-type {\n",
       "        vertical-align: middle;\n",
       "    }\n",
       "\n",
       "    .dataframe tbody tr th {\n",
       "        vertical-align: top;\n",
       "    }\n",
       "\n",
       "    .dataframe thead th {\n",
       "        text-align: right;\n",
       "    }\n",
       "</style>\n",
       "<table border=\"1\" class=\"dataframe\">\n",
       "  <thead>\n",
       "    <tr style=\"text-align: right;\">\n",
       "      <th></th>\n",
       "      <th>DAYOFSERVICE</th>\n",
       "      <th>TRIPID</th>\n",
       "      <th>PROGRNUMBER</th>\n",
       "      <th>STOPPOINTID</th>\n",
       "      <th>PLANNEDTIME_ARR</th>\n",
       "      <th>PLANNEDTIME_DEP</th>\n",
       "      <th>ACTUALTIME_ARR</th>\n",
       "      <th>ACTUALTIME_DEP</th>\n",
       "      <th>VEHICLEID</th>\n",
       "      <th>year</th>\n",
       "      <th>...</th>\n",
       "      <th>id</th>\n",
       "      <th>trip_leave_id</th>\n",
       "      <th>LINEID</th>\n",
       "      <th>num_lineID</th>\n",
       "      <th>DIRECTION</th>\n",
       "      <th>actual_duration</th>\n",
       "      <th>dayOfWeek</th>\n",
       "      <th>weekend</th>\n",
       "      <th>rushHour</th>\n",
       "      <th>actualARR_hour</th>\n",
       "    </tr>\n",
       "  </thead>\n",
       "  <tbody>\n",
       "    <tr>\n",
       "      <th>3063</th>\n",
       "      <td>2018-01-01</td>\n",
       "      <td>5957533</td>\n",
       "      <td>1</td>\n",
       "      <td>7591</td>\n",
       "      <td>37200</td>\n",
       "      <td>37200</td>\n",
       "      <td>37200</td>\n",
       "      <td>37200</td>\n",
       "      <td>1001072</td>\n",
       "      <td>2018</td>\n",
       "      <td>...</td>\n",
       "      <td>20180101595753301</td>\n",
       "      <td>201801015957533</td>\n",
       "      <td>130</td>\n",
       "      <td>12</td>\n",
       "      <td>1</td>\n",
       "      <td>1429</td>\n",
       "      <td>0</td>\n",
       "      <td>0</td>\n",
       "      <td>0</td>\n",
       "      <td>10</td>\n",
       "    </tr>\n",
       "    <tr>\n",
       "      <th>3064</th>\n",
       "      <td>2018-01-01</td>\n",
       "      <td>5957533</td>\n",
       "      <td>3</td>\n",
       "      <td>496</td>\n",
       "      <td>37300</td>\n",
       "      <td>37300</td>\n",
       "      <td>37300</td>\n",
       "      <td>37300</td>\n",
       "      <td>1001072</td>\n",
       "      <td>2018</td>\n",
       "      <td>...</td>\n",
       "      <td>20180101595753303</td>\n",
       "      <td>201801015957533</td>\n",
       "      <td>130</td>\n",
       "      <td>12</td>\n",
       "      <td>1</td>\n",
       "      <td>1429</td>\n",
       "      <td>0</td>\n",
       "      <td>0</td>\n",
       "      <td>0</td>\n",
       "      <td>10</td>\n",
       "    </tr>\n",
       "    <tr>\n",
       "      <th>3065</th>\n",
       "      <td>2018-01-01</td>\n",
       "      <td>5957533</td>\n",
       "      <td>4</td>\n",
       "      <td>7490</td>\n",
       "      <td>37317</td>\n",
       "      <td>37317</td>\n",
       "      <td>37317</td>\n",
       "      <td>37317</td>\n",
       "      <td>1001072</td>\n",
       "      <td>2018</td>\n",
       "      <td>...</td>\n",
       "      <td>20180101595753304</td>\n",
       "      <td>201801015957533</td>\n",
       "      <td>130</td>\n",
       "      <td>12</td>\n",
       "      <td>1</td>\n",
       "      <td>1429</td>\n",
       "      <td>0</td>\n",
       "      <td>0</td>\n",
       "      <td>0</td>\n",
       "      <td>10</td>\n",
       "    </tr>\n",
       "    <tr>\n",
       "      <th>3066</th>\n",
       "      <td>2018-01-01</td>\n",
       "      <td>5957533</td>\n",
       "      <td>5</td>\n",
       "      <td>515</td>\n",
       "      <td>37394</td>\n",
       "      <td>37394</td>\n",
       "      <td>37394</td>\n",
       "      <td>37394</td>\n",
       "      <td>1001072</td>\n",
       "      <td>2018</td>\n",
       "      <td>...</td>\n",
       "      <td>20180101595753305</td>\n",
       "      <td>201801015957533</td>\n",
       "      <td>130</td>\n",
       "      <td>12</td>\n",
       "      <td>1</td>\n",
       "      <td>1429</td>\n",
       "      <td>0</td>\n",
       "      <td>0</td>\n",
       "      <td>0</td>\n",
       "      <td>10</td>\n",
       "    </tr>\n",
       "    <tr>\n",
       "      <th>3067</th>\n",
       "      <td>2018-01-01</td>\n",
       "      <td>5957533</td>\n",
       "      <td>6</td>\n",
       "      <td>516</td>\n",
       "      <td>37439</td>\n",
       "      <td>37439</td>\n",
       "      <td>37439</td>\n",
       "      <td>37439</td>\n",
       "      <td>1001072</td>\n",
       "      <td>2018</td>\n",
       "      <td>...</td>\n",
       "      <td>20180101595753306</td>\n",
       "      <td>201801015957533</td>\n",
       "      <td>130</td>\n",
       "      <td>12</td>\n",
       "      <td>1</td>\n",
       "      <td>1429</td>\n",
       "      <td>0</td>\n",
       "      <td>0</td>\n",
       "      <td>0</td>\n",
       "      <td>10</td>\n",
       "    </tr>\n",
       "  </tbody>\n",
       "</table>\n",
       "<p>5 rows × 22 columns</p>\n",
       "</div>"
      ],
      "text/plain": [
       "     DAYOFSERVICE   TRIPID  PROGRNUMBER  STOPPOINTID  PLANNEDTIME_ARR  \\\n",
       "3063   2018-01-01  5957533            1         7591            37200   \n",
       "3064   2018-01-01  5957533            3          496            37300   \n",
       "3065   2018-01-01  5957533            4         7490            37317   \n",
       "3066   2018-01-01  5957533            5          515            37394   \n",
       "3067   2018-01-01  5957533            6          516            37439   \n",
       "\n",
       "      PLANNEDTIME_DEP  ACTUALTIME_ARR  ACTUALTIME_DEP  VEHICLEID  year  ...  \\\n",
       "3063            37200           37200           37200    1001072  2018  ...   \n",
       "3064            37300           37300           37300    1001072  2018  ...   \n",
       "3065            37317           37317           37317    1001072  2018  ...   \n",
       "3066            37394           37394           37394    1001072  2018  ...   \n",
       "3067            37439           37439           37439    1001072  2018  ...   \n",
       "\n",
       "                     id    trip_leave_id  LINEID  num_lineID DIRECTION  \\\n",
       "3063  20180101595753301  201801015957533     130          12         1   \n",
       "3064  20180101595753303  201801015957533     130          12         1   \n",
       "3065  20180101595753304  201801015957533     130          12         1   \n",
       "3066  20180101595753305  201801015957533     130          12         1   \n",
       "3067  20180101595753306  201801015957533     130          12         1   \n",
       "\n",
       "      actual_duration  dayOfWeek  weekend  rushHour  actualARR_hour  \n",
       "3063             1429          0        0         0              10  \n",
       "3064             1429          0        0         0              10  \n",
       "3065             1429          0        0         0              10  \n",
       "3066             1429          0        0         0              10  \n",
       "3067             1429          0        0         0              10  \n",
       "\n",
       "[5 rows x 22 columns]"
      ]
     },
     "execution_count": 45,
     "metadata": {},
     "output_type": "execute_result"
    }
   ],
   "source": [
    "wk.head()"
   ]
  },
  {
   "cell_type": "code",
   "execution_count": 46,
   "id": "5cf68458",
   "metadata": {},
   "outputs": [
    {
     "data": {
      "text/plain": [
       "(7133387, 22)"
      ]
     },
     "execution_count": 46,
     "metadata": {},
     "output_type": "execute_result"
    }
   ],
   "source": [
    "wk.shape"
   ]
  },
  {
   "cell_type": "markdown",
   "id": "523dc3c7",
   "metadata": {},
   "source": [
    "<h3>Send to CSV</h3>"
   ]
  },
  {
   "cell_type": "code",
   "execution_count": 47,
   "id": "805ec743",
   "metadata": {},
   "outputs": [],
   "source": [
    "# Send df to csv:\n",
    "lwk.to_csv('v5_7A_tripLeave1_sp4.csv', index=False)"
   ]
  },
  {
   "cell_type": "markdown",
   "id": "e082232a",
   "metadata": {},
   "source": [
    "## Continue v5_tripLeave1_route_split_5"
   ]
  },
  {
   "cell_type": "code",
   "execution_count": 48,
   "id": "647c1774",
   "metadata": {},
   "outputs": [],
   "source": [
    "# Send df to csv:\n",
    "wk.to_csv('v5_tripLeave1_route_split_5.csv', index=False)"
   ]
  },
  {
   "cell_type": "code",
   "execution_count": null,
   "id": "c4a5925f",
   "metadata": {},
   "outputs": [],
   "source": []
  }
 ],
 "metadata": {
  "kernelspec": {
   "display_name": "Python 3 (ipykernel)",
   "language": "python",
   "name": "python3"
  },
  "language_info": {
   "codemirror_mode": {
    "name": "ipython",
    "version": 3
   },
   "file_extension": ".py",
   "mimetype": "text/x-python",
   "name": "python",
   "nbconvert_exporter": "python",
   "pygments_lexer": "ipython3",
   "version": "3.10.4"
  }
 },
 "nbformat": 4,
 "nbformat_minor": 5
}
