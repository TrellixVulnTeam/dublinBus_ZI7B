{
 "cells": [
  {
   "cell_type": "code",
   "execution_count": 1,
   "id": "29f878e6",
   "metadata": {},
   "outputs": [],
   "source": [
    "# Library Imports.\n",
    "import pandas as pd\n",
    "\n",
    "import numpy as np"
   ]
  },
  {
   "cell_type": "code",
   "execution_count": 2,
   "id": "12abaae1",
   "metadata": {},
   "outputs": [],
   "source": [
    "# Read tripleave5 route split 2 CSV file into Data Frame:\n",
    "wk = pd.read_csv('v5_tripLeave5_route_split_2.csv', keep_default_na=True, delimiter=',', skipinitialspace=True)"
   ]
  },
  {
   "cell_type": "code",
   "execution_count": 3,
   "id": "5dda47a0",
   "metadata": {},
   "outputs": [
    {
     "data": {
      "text/plain": [
       "(13987803, 22)"
      ]
     },
     "execution_count": 3,
     "metadata": {},
     "output_type": "execute_result"
    }
   ],
   "source": [
    "wk.shape"
   ]
  },
  {
   "cell_type": "code",
   "execution_count": null,
   "id": "c0c029ad",
   "metadata": {},
   "outputs": [],
   "source": [
    "wk.head()"
   ]
  },
  {
   "cell_type": "code",
   "execution_count": null,
   "id": "4878f708",
   "metadata": {},
   "outputs": [],
   "source": [
    "wk.dtypes"
   ]
  },
  {
   "cell_type": "markdown",
   "id": "81073090",
   "metadata": {},
   "source": [
    "## Datatype Changes"
   ]
  },
  {
   "cell_type": "code",
   "execution_count": 4,
   "id": "75954e98",
   "metadata": {},
   "outputs": [],
   "source": [
    "wk['num_lineID'] = wk['num_lineID'].astype('int16')\n",
    "wk['DIRECTION'] = wk['DIRECTION'].astype('int16')"
   ]
  },
  {
   "cell_type": "code",
   "execution_count": 5,
   "id": "81d272e5",
   "metadata": {},
   "outputs": [],
   "source": [
    "wk['actual_duration'] = wk['actual_duration'].astype('int64')\n",
    "wk['dayOfWeek'] = wk['dayOfWeek'].astype('int16')"
   ]
  },
  {
   "cell_type": "code",
   "execution_count": 6,
   "id": "8267e3dc",
   "metadata": {},
   "outputs": [],
   "source": [
    "wk['weekend'] = wk['weekend'].astype('int16')\n",
    "wk['rushHour'] = wk['rushHour'].astype('int16')"
   ]
  },
  {
   "cell_type": "code",
   "execution_count": null,
   "id": "604f0107",
   "metadata": {},
   "outputs": [],
   "source": [
    "wk.head()"
   ]
  },
  {
   "cell_type": "code",
   "execution_count": null,
   "id": "645ff86a",
   "metadata": {},
   "outputs": [],
   "source": [
    "wk.dtypes"
   ]
  },
  {
   "cell_type": "markdown",
   "id": "86d6d334",
   "metadata": {},
   "source": [
    "## Route 76"
   ]
  },
  {
   "cell_type": "code",
   "execution_count": 7,
   "id": "01b378cc",
   "metadata": {},
   "outputs": [],
   "source": [
    "lwk = wk[(wk['LINEID'] == '76')]"
   ]
  },
  {
   "cell_type": "code",
   "execution_count": 8,
   "id": "5ae677fe",
   "metadata": {},
   "outputs": [
    {
     "data": {
      "text/plain": [
       "(125327, 22)"
      ]
     },
     "execution_count": 8,
     "metadata": {},
     "output_type": "execute_result"
    }
   ],
   "source": [
    "lwk.shape"
   ]
  },
  {
   "cell_type": "code",
   "execution_count": 9,
   "id": "eb268b7e",
   "metadata": {},
   "outputs": [],
   "source": [
    "# Drop Route 76 rows from wk\n",
    "wk.drop(wk[wk['LINEID'] == '76'].index, inplace = True)"
   ]
  },
  {
   "cell_type": "code",
   "execution_count": null,
   "id": "cdb83698",
   "metadata": {},
   "outputs": [],
   "source": [
    "wk.head()"
   ]
  },
  {
   "cell_type": "code",
   "execution_count": null,
   "id": "f85f5650",
   "metadata": {},
   "outputs": [],
   "source": [
    "wk.shape"
   ]
  },
  {
   "cell_type": "markdown",
   "id": "f36c2173",
   "metadata": {},
   "source": [
    "<h3>Send to CSV</h3>"
   ]
  },
  {
   "cell_type": "code",
   "execution_count": null,
   "id": "4fcd4689",
   "metadata": {},
   "outputs": [],
   "source": [
    "# Send df to csv:\n",
    "lwk.to_csv('v5_76_tripLeave5_sp2.csv', index=False)"
   ]
  },
  {
   "cell_type": "markdown",
   "id": "02f3d83e",
   "metadata": {},
   "source": [
    "## Route 9"
   ]
  },
  {
   "cell_type": "code",
   "execution_count": 10,
   "id": "b91914a8",
   "metadata": {},
   "outputs": [],
   "source": [
    "lwk = wk[(wk['LINEID'] == '9')]"
   ]
  },
  {
   "cell_type": "code",
   "execution_count": 11,
   "id": "697f3295",
   "metadata": {},
   "outputs": [
    {
     "data": {
      "text/plain": [
       "(473174, 22)"
      ]
     },
     "execution_count": 11,
     "metadata": {},
     "output_type": "execute_result"
    }
   ],
   "source": [
    "lwk.shape"
   ]
  },
  {
   "cell_type": "code",
   "execution_count": 12,
   "id": "d4360a64",
   "metadata": {},
   "outputs": [],
   "source": [
    "# Drop Route 9 rows from wk\n",
    "wk.drop(wk[wk['LINEID'] == '9'].index, inplace = True)"
   ]
  },
  {
   "cell_type": "code",
   "execution_count": null,
   "id": "942c64b0",
   "metadata": {},
   "outputs": [],
   "source": [
    "wk.head()"
   ]
  },
  {
   "cell_type": "code",
   "execution_count": null,
   "id": "cdc545e0",
   "metadata": {},
   "outputs": [],
   "source": [
    "wk.shape"
   ]
  },
  {
   "cell_type": "markdown",
   "id": "40667721",
   "metadata": {},
   "source": [
    "<h3>Send to CSV</h3>"
   ]
  },
  {
   "cell_type": "code",
   "execution_count": null,
   "id": "5d225394",
   "metadata": {},
   "outputs": [],
   "source": [
    "# Send df to csv:\n",
    "lwk.to_csv('v5_9_tripLeave5_sp2.csv', index=False)"
   ]
  },
  {
   "cell_type": "markdown",
   "id": "c9871333",
   "metadata": {},
   "source": [
    "## Route 15A"
   ]
  },
  {
   "cell_type": "code",
   "execution_count": 13,
   "id": "6d09b20e",
   "metadata": {},
   "outputs": [],
   "source": [
    "lwk = wk[(wk['LINEID'] == '15A')]"
   ]
  },
  {
   "cell_type": "code",
   "execution_count": 14,
   "id": "5a20631a",
   "metadata": {},
   "outputs": [
    {
     "data": {
      "text/plain": [
       "(197919, 22)"
      ]
     },
     "execution_count": 14,
     "metadata": {},
     "output_type": "execute_result"
    }
   ],
   "source": [
    "lwk.shape"
   ]
  },
  {
   "cell_type": "code",
   "execution_count": 15,
   "id": "33e489aa",
   "metadata": {},
   "outputs": [],
   "source": [
    "# Drop Route 15A rows from wk\n",
    "wk.drop(wk[wk['LINEID'] == '15A'].index, inplace = True)"
   ]
  },
  {
   "cell_type": "code",
   "execution_count": null,
   "id": "4ed9474e",
   "metadata": {},
   "outputs": [],
   "source": [
    "wk.head()"
   ]
  },
  {
   "cell_type": "code",
   "execution_count": null,
   "id": "f5f7599c",
   "metadata": {},
   "outputs": [],
   "source": [
    "wk.shape"
   ]
  },
  {
   "cell_type": "markdown",
   "id": "38748ef1",
   "metadata": {},
   "source": [
    "<h3>Send to CSV</h3>"
   ]
  },
  {
   "cell_type": "code",
   "execution_count": null,
   "id": "838ecfd9",
   "metadata": {},
   "outputs": [],
   "source": [
    "# Send df to csv:\n",
    "lwk.to_csv('v5_15A_tripLeave5_sp2.csv', index=False)"
   ]
  },
  {
   "cell_type": "markdown",
   "id": "c9ce61f5",
   "metadata": {},
   "source": [
    "## Route 270"
   ]
  },
  {
   "cell_type": "code",
   "execution_count": 16,
   "id": "f6ad83ea",
   "metadata": {},
   "outputs": [],
   "source": [
    "lwk = wk[(wk['LINEID'] == '270')]"
   ]
  },
  {
   "cell_type": "code",
   "execution_count": 17,
   "id": "ec9abc5f",
   "metadata": {},
   "outputs": [
    {
     "data": {
      "text/plain": [
       "(27622, 22)"
      ]
     },
     "execution_count": 17,
     "metadata": {},
     "output_type": "execute_result"
    }
   ],
   "source": [
    "lwk.shape"
   ]
  },
  {
   "cell_type": "code",
   "execution_count": 18,
   "id": "33c70ba9",
   "metadata": {},
   "outputs": [],
   "source": [
    "# Drop Route 270 rows from wk\n",
    "wk.drop(wk[wk['LINEID'] == '270'].index, inplace = True)"
   ]
  },
  {
   "cell_type": "code",
   "execution_count": null,
   "id": "1f691a8b",
   "metadata": {},
   "outputs": [],
   "source": [
    "wk.head()"
   ]
  },
  {
   "cell_type": "code",
   "execution_count": null,
   "id": "c35ec0ec",
   "metadata": {},
   "outputs": [],
   "source": [
    "wk.shape"
   ]
  },
  {
   "cell_type": "markdown",
   "id": "685da73e",
   "metadata": {},
   "source": [
    "<h3>Send to CSV</h3>"
   ]
  },
  {
   "cell_type": "code",
   "execution_count": null,
   "id": "dd78bfed",
   "metadata": {},
   "outputs": [],
   "source": [
    "# Send df to csv:\n",
    "lwk.to_csv('v5_270_tripLeave5_sp2.csv', index=False)"
   ]
  },
  {
   "cell_type": "markdown",
   "id": "0a607558",
   "metadata": {},
   "source": [
    "## Route 39"
   ]
  },
  {
   "cell_type": "code",
   "execution_count": 19,
   "id": "d4accdca",
   "metadata": {},
   "outputs": [],
   "source": [
    "lwk = wk[(wk['LINEID'] == '39')]"
   ]
  },
  {
   "cell_type": "code",
   "execution_count": 20,
   "id": "8bd84191",
   "metadata": {},
   "outputs": [
    {
     "data": {
      "text/plain": [
       "(275646, 22)"
      ]
     },
     "execution_count": 20,
     "metadata": {},
     "output_type": "execute_result"
    }
   ],
   "source": [
    "lwk.shape"
   ]
  },
  {
   "cell_type": "code",
   "execution_count": 21,
   "id": "9329913e",
   "metadata": {},
   "outputs": [],
   "source": [
    "# Drop Route 39 rows from wk\n",
    "wk.drop(wk[wk['LINEID'] == '39'].index, inplace = True)"
   ]
  },
  {
   "cell_type": "code",
   "execution_count": null,
   "id": "e6684ab8",
   "metadata": {},
   "outputs": [],
   "source": [
    "wk.head()"
   ]
  },
  {
   "cell_type": "code",
   "execution_count": null,
   "id": "c1b9c022",
   "metadata": {},
   "outputs": [],
   "source": [
    "wk.shape"
   ]
  },
  {
   "cell_type": "markdown",
   "id": "9001e06a",
   "metadata": {},
   "source": [
    "<h3>Send to CSV</h3>"
   ]
  },
  {
   "cell_type": "code",
   "execution_count": null,
   "id": "a4594538",
   "metadata": {},
   "outputs": [],
   "source": [
    "# Send df to csv:\n",
    "lwk.to_csv('v5_39_tripLeave5_sp2.csv', index=False)"
   ]
  },
  {
   "cell_type": "markdown",
   "id": "cf6b9a30",
   "metadata": {},
   "source": [
    "## Route 11"
   ]
  },
  {
   "cell_type": "code",
   "execution_count": 22,
   "id": "be7cfb01",
   "metadata": {},
   "outputs": [],
   "source": [
    "lwk = wk[(wk['LINEID'] == '11')]"
   ]
  },
  {
   "cell_type": "code",
   "execution_count": 23,
   "id": "ba583db4",
   "metadata": {},
   "outputs": [
    {
     "data": {
      "text/plain": [
       "(258863, 22)"
      ]
     },
     "execution_count": 23,
     "metadata": {},
     "output_type": "execute_result"
    }
   ],
   "source": [
    "lwk.shape"
   ]
  },
  {
   "cell_type": "code",
   "execution_count": 24,
   "id": "9e719e0a",
   "metadata": {},
   "outputs": [],
   "source": [
    "# Drop Route 11 rows from wk\n",
    "wk.drop(wk[wk['LINEID'] == '11'].index, inplace = True)"
   ]
  },
  {
   "cell_type": "code",
   "execution_count": null,
   "id": "1c15d26f",
   "metadata": {},
   "outputs": [],
   "source": [
    "wk.head()"
   ]
  },
  {
   "cell_type": "code",
   "execution_count": null,
   "id": "5299a41b",
   "metadata": {},
   "outputs": [],
   "source": [
    "wk.shape"
   ]
  },
  {
   "cell_type": "markdown",
   "id": "c95c36a2",
   "metadata": {},
   "source": [
    "<h3>Send to CSV</h3>"
   ]
  },
  {
   "cell_type": "code",
   "execution_count": null,
   "id": "10e456a8",
   "metadata": {},
   "outputs": [],
   "source": [
    "# Send df to csv:\n",
    "lwk.to_csv('v5_11_tripLeave5_sp2.csv', index=False)"
   ]
  },
  {
   "cell_type": "markdown",
   "id": "eae8e196",
   "metadata": {},
   "source": [
    "## Route 39A"
   ]
  },
  {
   "cell_type": "code",
   "execution_count": 25,
   "id": "2fe9252d",
   "metadata": {},
   "outputs": [],
   "source": [
    "lwk = wk[(wk['LINEID'] == '39A')]"
   ]
  },
  {
   "cell_type": "code",
   "execution_count": 26,
   "id": "df08328a",
   "metadata": {},
   "outputs": [
    {
     "data": {
      "text/plain": [
       "(577940, 22)"
      ]
     },
     "execution_count": 26,
     "metadata": {},
     "output_type": "execute_result"
    }
   ],
   "source": [
    "lwk.shape"
   ]
  },
  {
   "cell_type": "code",
   "execution_count": 27,
   "id": "b0b02512",
   "metadata": {},
   "outputs": [],
   "source": [
    "# Drop Route 39A rows from wk\n",
    "wk.drop(wk[wk['LINEID'] == '39A'].index, inplace = True)"
   ]
  },
  {
   "cell_type": "code",
   "execution_count": null,
   "id": "8b9db2a6",
   "metadata": {},
   "outputs": [],
   "source": [
    "wk.head()"
   ]
  },
  {
   "cell_type": "code",
   "execution_count": null,
   "id": "91131d06",
   "metadata": {},
   "outputs": [],
   "source": [
    "wk.shape"
   ]
  },
  {
   "cell_type": "markdown",
   "id": "3a88d28c",
   "metadata": {},
   "source": [
    "<h3>Send to CSV</h3>"
   ]
  },
  {
   "cell_type": "code",
   "execution_count": null,
   "id": "8bc23b00",
   "metadata": {},
   "outputs": [],
   "source": [
    "# Send df to csv:\n",
    "lwk.to_csv('v5_39A_tripLeave5_sp2.csv', index=False)"
   ]
  },
  {
   "cell_type": "markdown",
   "id": "12bd18a1",
   "metadata": {},
   "source": [
    "## Route 15B"
   ]
  },
  {
   "cell_type": "code",
   "execution_count": 28,
   "id": "310eb1b2",
   "metadata": {},
   "outputs": [],
   "source": [
    "lwk = wk[(wk['LINEID'] == '15B')]"
   ]
  },
  {
   "cell_type": "code",
   "execution_count": 29,
   "id": "9d7e0310",
   "metadata": {},
   "outputs": [
    {
     "data": {
      "text/plain": [
       "(265554, 22)"
      ]
     },
     "execution_count": 29,
     "metadata": {},
     "output_type": "execute_result"
    }
   ],
   "source": [
    "lwk.shape"
   ]
  },
  {
   "cell_type": "code",
   "execution_count": 30,
   "id": "2bc58961",
   "metadata": {},
   "outputs": [],
   "source": [
    "# Drop Route 15B rows from wk\n",
    "wk.drop(wk[wk['LINEID'] == '15B'].index, inplace = True)"
   ]
  },
  {
   "cell_type": "code",
   "execution_count": null,
   "id": "e626322e",
   "metadata": {},
   "outputs": [],
   "source": [
    "wk.head()"
   ]
  },
  {
   "cell_type": "code",
   "execution_count": null,
   "id": "1925fbda",
   "metadata": {},
   "outputs": [],
   "source": [
    "wk.shape"
   ]
  },
  {
   "cell_type": "markdown",
   "id": "fbce052d",
   "metadata": {},
   "source": [
    "<h3>Send to CSV</h3>"
   ]
  },
  {
   "cell_type": "code",
   "execution_count": null,
   "id": "f7db27b7",
   "metadata": {},
   "outputs": [],
   "source": [
    "# Send df to csv:\n",
    "lwk.to_csv('v5_15B_tripLeave5_sp2.csv', index=False)"
   ]
  },
  {
   "cell_type": "markdown",
   "id": "b634e919",
   "metadata": {},
   "source": [
    "## Route 25"
   ]
  },
  {
   "cell_type": "code",
   "execution_count": 31,
   "id": "3953f651",
   "metadata": {},
   "outputs": [],
   "source": [
    "lwk = wk[(wk['LINEID'] == '25')]"
   ]
  },
  {
   "cell_type": "code",
   "execution_count": 32,
   "id": "c2cf16ab",
   "metadata": {},
   "outputs": [
    {
     "data": {
      "text/plain": [
       "(62643, 22)"
      ]
     },
     "execution_count": 32,
     "metadata": {},
     "output_type": "execute_result"
    }
   ],
   "source": [
    "lwk.shape"
   ]
  },
  {
   "cell_type": "code",
   "execution_count": 33,
   "id": "9c60ac87",
   "metadata": {},
   "outputs": [],
   "source": [
    "# Drop Route 25 rows from wk\n",
    "wk.drop(wk[wk['LINEID'] == '25'].index, inplace = True)"
   ]
  },
  {
   "cell_type": "code",
   "execution_count": 34,
   "id": "697f4f68",
   "metadata": {},
   "outputs": [
    {
     "data": {
      "text/html": [
       "<div>\n",
       "<style scoped>\n",
       "    .dataframe tbody tr th:only-of-type {\n",
       "        vertical-align: middle;\n",
       "    }\n",
       "\n",
       "    .dataframe tbody tr th {\n",
       "        vertical-align: top;\n",
       "    }\n",
       "\n",
       "    .dataframe thead th {\n",
       "        text-align: right;\n",
       "    }\n",
       "</style>\n",
       "<table border=\"1\" class=\"dataframe\">\n",
       "  <thead>\n",
       "    <tr style=\"text-align: right;\">\n",
       "      <th></th>\n",
       "      <th>DAYOFSERVICE</th>\n",
       "      <th>TRIPID</th>\n",
       "      <th>PROGRNUMBER</th>\n",
       "      <th>STOPPOINTID</th>\n",
       "      <th>PLANNEDTIME_ARR</th>\n",
       "      <th>PLANNEDTIME_DEP</th>\n",
       "      <th>ACTUALTIME_ARR</th>\n",
       "      <th>ACTUALTIME_DEP</th>\n",
       "      <th>VEHICLEID</th>\n",
       "      <th>year</th>\n",
       "      <th>...</th>\n",
       "      <th>id</th>\n",
       "      <th>trip_leave_id</th>\n",
       "      <th>LINEID</th>\n",
       "      <th>num_lineID</th>\n",
       "      <th>DIRECTION</th>\n",
       "      <th>actual_duration</th>\n",
       "      <th>dayOfWeek</th>\n",
       "      <th>weekend</th>\n",
       "      <th>rushHour</th>\n",
       "      <th>actualARR_hour</th>\n",
       "    </tr>\n",
       "  </thead>\n",
       "  <tbody>\n",
       "    <tr>\n",
       "      <th>3515</th>\n",
       "      <td>2018-08-26</td>\n",
       "      <td>7503535</td>\n",
       "      <td>1</td>\n",
       "      <td>2353</td>\n",
       "      <td>36000</td>\n",
       "      <td>36000</td>\n",
       "      <td>36000</td>\n",
       "      <td>36000</td>\n",
       "      <td>2534843</td>\n",
       "      <td>2018</td>\n",
       "      <td>...</td>\n",
       "      <td>20180826750353501</td>\n",
       "      <td>201808267503535</td>\n",
       "      <td>27</td>\n",
       "      <td>43</td>\n",
       "      <td>2</td>\n",
       "      <td>4241</td>\n",
       "      <td>6</td>\n",
       "      <td>1</td>\n",
       "      <td>0</td>\n",
       "      <td>10</td>\n",
       "    </tr>\n",
       "    <tr>\n",
       "      <th>3516</th>\n",
       "      <td>2018-08-26</td>\n",
       "      <td>7503535</td>\n",
       "      <td>2</td>\n",
       "      <td>4643</td>\n",
       "      <td>36048</td>\n",
       "      <td>36048</td>\n",
       "      <td>36048</td>\n",
       "      <td>36048</td>\n",
       "      <td>2534843</td>\n",
       "      <td>2018</td>\n",
       "      <td>...</td>\n",
       "      <td>20180826750353502</td>\n",
       "      <td>201808267503535</td>\n",
       "      <td>27</td>\n",
       "      <td>43</td>\n",
       "      <td>2</td>\n",
       "      <td>4241</td>\n",
       "      <td>6</td>\n",
       "      <td>1</td>\n",
       "      <td>0</td>\n",
       "      <td>10</td>\n",
       "    </tr>\n",
       "    <tr>\n",
       "      <th>3517</th>\n",
       "      <td>2018-08-26</td>\n",
       "      <td>7503535</td>\n",
       "      <td>3</td>\n",
       "      <td>4644</td>\n",
       "      <td>36104</td>\n",
       "      <td>36104</td>\n",
       "      <td>36104</td>\n",
       "      <td>36104</td>\n",
       "      <td>2534843</td>\n",
       "      <td>2018</td>\n",
       "      <td>...</td>\n",
       "      <td>20180826750353503</td>\n",
       "      <td>201808267503535</td>\n",
       "      <td>27</td>\n",
       "      <td>43</td>\n",
       "      <td>2</td>\n",
       "      <td>4241</td>\n",
       "      <td>6</td>\n",
       "      <td>1</td>\n",
       "      <td>0</td>\n",
       "      <td>10</td>\n",
       "    </tr>\n",
       "    <tr>\n",
       "      <th>3518</th>\n",
       "      <td>2018-08-26</td>\n",
       "      <td>7503535</td>\n",
       "      <td>4</td>\n",
       "      <td>4645</td>\n",
       "      <td>36140</td>\n",
       "      <td>36140</td>\n",
       "      <td>36140</td>\n",
       "      <td>36140</td>\n",
       "      <td>2534843</td>\n",
       "      <td>2018</td>\n",
       "      <td>...</td>\n",
       "      <td>20180826750353504</td>\n",
       "      <td>201808267503535</td>\n",
       "      <td>27</td>\n",
       "      <td>43</td>\n",
       "      <td>2</td>\n",
       "      <td>4241</td>\n",
       "      <td>6</td>\n",
       "      <td>1</td>\n",
       "      <td>0</td>\n",
       "      <td>10</td>\n",
       "    </tr>\n",
       "    <tr>\n",
       "      <th>3519</th>\n",
       "      <td>2018-08-26</td>\n",
       "      <td>7503535</td>\n",
       "      <td>5</td>\n",
       "      <td>4440</td>\n",
       "      <td>36177</td>\n",
       "      <td>36177</td>\n",
       "      <td>36177</td>\n",
       "      <td>36177</td>\n",
       "      <td>2534843</td>\n",
       "      <td>2018</td>\n",
       "      <td>...</td>\n",
       "      <td>20180826750353505</td>\n",
       "      <td>201808267503535</td>\n",
       "      <td>27</td>\n",
       "      <td>43</td>\n",
       "      <td>2</td>\n",
       "      <td>4241</td>\n",
       "      <td>6</td>\n",
       "      <td>1</td>\n",
       "      <td>0</td>\n",
       "      <td>10</td>\n",
       "    </tr>\n",
       "  </tbody>\n",
       "</table>\n",
       "<p>5 rows × 22 columns</p>\n",
       "</div>"
      ],
      "text/plain": [
       "     DAYOFSERVICE   TRIPID  PROGRNUMBER  STOPPOINTID  PLANNEDTIME_ARR  \\\n",
       "3515   2018-08-26  7503535            1         2353            36000   \n",
       "3516   2018-08-26  7503535            2         4643            36048   \n",
       "3517   2018-08-26  7503535            3         4644            36104   \n",
       "3518   2018-08-26  7503535            4         4645            36140   \n",
       "3519   2018-08-26  7503535            5         4440            36177   \n",
       "\n",
       "      PLANNEDTIME_DEP  ACTUALTIME_ARR  ACTUALTIME_DEP  VEHICLEID  year  ...  \\\n",
       "3515            36000           36000           36000    2534843  2018  ...   \n",
       "3516            36048           36048           36048    2534843  2018  ...   \n",
       "3517            36104           36104           36104    2534843  2018  ...   \n",
       "3518            36140           36140           36140    2534843  2018  ...   \n",
       "3519            36177           36177           36177    2534843  2018  ...   \n",
       "\n",
       "                     id    trip_leave_id  LINEID  num_lineID DIRECTION  \\\n",
       "3515  20180826750353501  201808267503535      27          43         2   \n",
       "3516  20180826750353502  201808267503535      27          43         2   \n",
       "3517  20180826750353503  201808267503535      27          43         2   \n",
       "3518  20180826750353504  201808267503535      27          43         2   \n",
       "3519  20180826750353505  201808267503535      27          43         2   \n",
       "\n",
       "      actual_duration  dayOfWeek  weekend  rushHour  actualARR_hour  \n",
       "3515             4241          6        1         0              10  \n",
       "3516             4241          6        1         0              10  \n",
       "3517             4241          6        1         0              10  \n",
       "3518             4241          6        1         0              10  \n",
       "3519             4241          6        1         0              10  \n",
       "\n",
       "[5 rows x 22 columns]"
      ]
     },
     "execution_count": 34,
     "metadata": {},
     "output_type": "execute_result"
    }
   ],
   "source": [
    "wk.head()"
   ]
  },
  {
   "cell_type": "code",
   "execution_count": 35,
   "id": "008d0da7",
   "metadata": {},
   "outputs": [
    {
     "data": {
      "text/plain": [
       "(11723115, 22)"
      ]
     },
     "execution_count": 35,
     "metadata": {},
     "output_type": "execute_result"
    }
   ],
   "source": [
    "wk.shape"
   ]
  },
  {
   "cell_type": "markdown",
   "id": "344cabed",
   "metadata": {},
   "source": [
    "<h3>Send to CSV</h3>"
   ]
  },
  {
   "cell_type": "code",
   "execution_count": 36,
   "id": "a87bdae2",
   "metadata": {},
   "outputs": [],
   "source": [
    "# Send df to csv:\n",
    "lwk.to_csv('v5_25_tripLeave5_sp2.csv', index=False)"
   ]
  },
  {
   "cell_type": "markdown",
   "id": "9a1e859a",
   "metadata": {},
   "source": [
    "## Route 27"
   ]
  },
  {
   "cell_type": "code",
   "execution_count": 37,
   "id": "c9fb312b",
   "metadata": {},
   "outputs": [],
   "source": [
    "lwk = wk[(wk['LINEID'] == '27')]"
   ]
  },
  {
   "cell_type": "code",
   "execution_count": 38,
   "id": "f28d6741",
   "metadata": {},
   "outputs": [
    {
     "data": {
      "text/plain": [
       "(637386, 22)"
      ]
     },
     "execution_count": 38,
     "metadata": {},
     "output_type": "execute_result"
    }
   ],
   "source": [
    "lwk.shape"
   ]
  },
  {
   "cell_type": "code",
   "execution_count": 39,
   "id": "db270359",
   "metadata": {},
   "outputs": [],
   "source": [
    "# Drop Route 27 rows from wk\n",
    "wk.drop(wk[wk['LINEID'] == '27'].index, inplace = True)"
   ]
  },
  {
   "cell_type": "code",
   "execution_count": 40,
   "id": "8f0c7612",
   "metadata": {},
   "outputs": [
    {
     "data": {
      "text/html": [
       "<div>\n",
       "<style scoped>\n",
       "    .dataframe tbody tr th:only-of-type {\n",
       "        vertical-align: middle;\n",
       "    }\n",
       "\n",
       "    .dataframe tbody tr th {\n",
       "        vertical-align: top;\n",
       "    }\n",
       "\n",
       "    .dataframe thead th {\n",
       "        text-align: right;\n",
       "    }\n",
       "</style>\n",
       "<table border=\"1\" class=\"dataframe\">\n",
       "  <thead>\n",
       "    <tr style=\"text-align: right;\">\n",
       "      <th></th>\n",
       "      <th>DAYOFSERVICE</th>\n",
       "      <th>TRIPID</th>\n",
       "      <th>PROGRNUMBER</th>\n",
       "      <th>STOPPOINTID</th>\n",
       "      <th>PLANNEDTIME_ARR</th>\n",
       "      <th>PLANNEDTIME_DEP</th>\n",
       "      <th>ACTUALTIME_ARR</th>\n",
       "      <th>ACTUALTIME_DEP</th>\n",
       "      <th>VEHICLEID</th>\n",
       "      <th>year</th>\n",
       "      <th>...</th>\n",
       "      <th>id</th>\n",
       "      <th>trip_leave_id</th>\n",
       "      <th>LINEID</th>\n",
       "      <th>num_lineID</th>\n",
       "      <th>DIRECTION</th>\n",
       "      <th>actual_duration</th>\n",
       "      <th>dayOfWeek</th>\n",
       "      <th>weekend</th>\n",
       "      <th>rushHour</th>\n",
       "      <th>actualARR_hour</th>\n",
       "    </tr>\n",
       "  </thead>\n",
       "  <tbody>\n",
       "    <tr>\n",
       "      <th>4051</th>\n",
       "      <td>2018-08-26</td>\n",
       "      <td>7503562</td>\n",
       "      <td>1</td>\n",
       "      <td>288</td>\n",
       "      <td>44400</td>\n",
       "      <td>44400</td>\n",
       "      <td>44400</td>\n",
       "      <td>44400</td>\n",
       "      <td>1000117</td>\n",
       "      <td>2018</td>\n",
       "      <td>...</td>\n",
       "      <td>20180826750356201</td>\n",
       "      <td>201808267503562</td>\n",
       "      <td>41C</td>\n",
       "      <td>77</td>\n",
       "      <td>1</td>\n",
       "      <td>3517</td>\n",
       "      <td>6</td>\n",
       "      <td>1</td>\n",
       "      <td>0</td>\n",
       "      <td>12</td>\n",
       "    </tr>\n",
       "    <tr>\n",
       "      <th>4052</th>\n",
       "      <td>2018-08-26</td>\n",
       "      <td>7503562</td>\n",
       "      <td>2</td>\n",
       "      <td>1171</td>\n",
       "      <td>44467</td>\n",
       "      <td>44467</td>\n",
       "      <td>44467</td>\n",
       "      <td>44467</td>\n",
       "      <td>1000117</td>\n",
       "      <td>2018</td>\n",
       "      <td>...</td>\n",
       "      <td>20180826750356202</td>\n",
       "      <td>201808267503562</td>\n",
       "      <td>41C</td>\n",
       "      <td>77</td>\n",
       "      <td>1</td>\n",
       "      <td>3517</td>\n",
       "      <td>6</td>\n",
       "      <td>1</td>\n",
       "      <td>0</td>\n",
       "      <td>12</td>\n",
       "    </tr>\n",
       "    <tr>\n",
       "      <th>4053</th>\n",
       "      <td>2018-08-26</td>\n",
       "      <td>7503562</td>\n",
       "      <td>3</td>\n",
       "      <td>1172</td>\n",
       "      <td>44519</td>\n",
       "      <td>44519</td>\n",
       "      <td>44519</td>\n",
       "      <td>44519</td>\n",
       "      <td>1000117</td>\n",
       "      <td>2018</td>\n",
       "      <td>...</td>\n",
       "      <td>20180826750356203</td>\n",
       "      <td>201808267503562</td>\n",
       "      <td>41C</td>\n",
       "      <td>77</td>\n",
       "      <td>1</td>\n",
       "      <td>3517</td>\n",
       "      <td>6</td>\n",
       "      <td>1</td>\n",
       "      <td>0</td>\n",
       "      <td>12</td>\n",
       "    </tr>\n",
       "    <tr>\n",
       "      <th>4054</th>\n",
       "      <td>2018-08-26</td>\n",
       "      <td>7503562</td>\n",
       "      <td>4</td>\n",
       "      <td>1173</td>\n",
       "      <td>44593</td>\n",
       "      <td>44593</td>\n",
       "      <td>44593</td>\n",
       "      <td>44593</td>\n",
       "      <td>1000117</td>\n",
       "      <td>2018</td>\n",
       "      <td>...</td>\n",
       "      <td>20180826750356204</td>\n",
       "      <td>201808267503562</td>\n",
       "      <td>41C</td>\n",
       "      <td>77</td>\n",
       "      <td>1</td>\n",
       "      <td>3517</td>\n",
       "      <td>6</td>\n",
       "      <td>1</td>\n",
       "      <td>0</td>\n",
       "      <td>12</td>\n",
       "    </tr>\n",
       "    <tr>\n",
       "      <th>4055</th>\n",
       "      <td>2018-08-26</td>\n",
       "      <td>7503562</td>\n",
       "      <td>5</td>\n",
       "      <td>1174</td>\n",
       "      <td>44689</td>\n",
       "      <td>44689</td>\n",
       "      <td>44689</td>\n",
       "      <td>44689</td>\n",
       "      <td>1000117</td>\n",
       "      <td>2018</td>\n",
       "      <td>...</td>\n",
       "      <td>20180826750356205</td>\n",
       "      <td>201808267503562</td>\n",
       "      <td>41C</td>\n",
       "      <td>77</td>\n",
       "      <td>1</td>\n",
       "      <td>3517</td>\n",
       "      <td>6</td>\n",
       "      <td>1</td>\n",
       "      <td>0</td>\n",
       "      <td>12</td>\n",
       "    </tr>\n",
       "  </tbody>\n",
       "</table>\n",
       "<p>5 rows × 22 columns</p>\n",
       "</div>"
      ],
      "text/plain": [
       "     DAYOFSERVICE   TRIPID  PROGRNUMBER  STOPPOINTID  PLANNEDTIME_ARR  \\\n",
       "4051   2018-08-26  7503562            1          288            44400   \n",
       "4052   2018-08-26  7503562            2         1171            44467   \n",
       "4053   2018-08-26  7503562            3         1172            44519   \n",
       "4054   2018-08-26  7503562            4         1173            44593   \n",
       "4055   2018-08-26  7503562            5         1174            44689   \n",
       "\n",
       "      PLANNEDTIME_DEP  ACTUALTIME_ARR  ACTUALTIME_DEP  VEHICLEID  year  ...  \\\n",
       "4051            44400           44400           44400    1000117  2018  ...   \n",
       "4052            44467           44467           44467    1000117  2018  ...   \n",
       "4053            44519           44519           44519    1000117  2018  ...   \n",
       "4054            44593           44593           44593    1000117  2018  ...   \n",
       "4055            44689           44689           44689    1000117  2018  ...   \n",
       "\n",
       "                     id    trip_leave_id  LINEID  num_lineID DIRECTION  \\\n",
       "4051  20180826750356201  201808267503562     41C          77         1   \n",
       "4052  20180826750356202  201808267503562     41C          77         1   \n",
       "4053  20180826750356203  201808267503562     41C          77         1   \n",
       "4054  20180826750356204  201808267503562     41C          77         1   \n",
       "4055  20180826750356205  201808267503562     41C          77         1   \n",
       "\n",
       "      actual_duration  dayOfWeek  weekend  rushHour  actualARR_hour  \n",
       "4051             3517          6        1         0              12  \n",
       "4052             3517          6        1         0              12  \n",
       "4053             3517          6        1         0              12  \n",
       "4054             3517          6        1         0              12  \n",
       "4055             3517          6        1         0              12  \n",
       "\n",
       "[5 rows x 22 columns]"
      ]
     },
     "execution_count": 40,
     "metadata": {},
     "output_type": "execute_result"
    }
   ],
   "source": [
    "wk.head()"
   ]
  },
  {
   "cell_type": "code",
   "execution_count": 41,
   "id": "34f4ce3a",
   "metadata": {},
   "outputs": [
    {
     "data": {
      "text/plain": [
       "(11085729, 22)"
      ]
     },
     "execution_count": 41,
     "metadata": {},
     "output_type": "execute_result"
    }
   ],
   "source": [
    "wk.shape"
   ]
  },
  {
   "cell_type": "markdown",
   "id": "c29421f1",
   "metadata": {},
   "source": [
    "<h3>Send to CSV</h3>"
   ]
  },
  {
   "cell_type": "code",
   "execution_count": 42,
   "id": "7fd1814b",
   "metadata": {},
   "outputs": [],
   "source": [
    "# Send df to csv:\n",
    "lwk.to_csv('v5_27_tripLeave5_sp2.csv', index=False)"
   ]
  },
  {
   "cell_type": "markdown",
   "id": "ee451137",
   "metadata": {},
   "source": [
    "## Route 41C"
   ]
  },
  {
   "cell_type": "code",
   "execution_count": 43,
   "id": "0b7442b9",
   "metadata": {},
   "outputs": [],
   "source": [
    "lwk = wk[(wk['LINEID'] == '41C')]"
   ]
  },
  {
   "cell_type": "code",
   "execution_count": 44,
   "id": "d65befef",
   "metadata": {},
   "outputs": [
    {
     "data": {
      "text/plain": [
       "(260431, 22)"
      ]
     },
     "execution_count": 44,
     "metadata": {},
     "output_type": "execute_result"
    }
   ],
   "source": [
    "lwk.shape"
   ]
  },
  {
   "cell_type": "code",
   "execution_count": 45,
   "id": "91f7be6b",
   "metadata": {},
   "outputs": [],
   "source": [
    "# Drop Route 41C rows from wk\n",
    "wk.drop(wk[wk['LINEID'] == '41C'].index, inplace = True)"
   ]
  },
  {
   "cell_type": "code",
   "execution_count": 46,
   "id": "b5b81713",
   "metadata": {},
   "outputs": [
    {
     "data": {
      "text/html": [
       "<div>\n",
       "<style scoped>\n",
       "    .dataframe tbody tr th:only-of-type {\n",
       "        vertical-align: middle;\n",
       "    }\n",
       "\n",
       "    .dataframe tbody tr th {\n",
       "        vertical-align: top;\n",
       "    }\n",
       "\n",
       "    .dataframe thead th {\n",
       "        text-align: right;\n",
       "    }\n",
       "</style>\n",
       "<table border=\"1\" class=\"dataframe\">\n",
       "  <thead>\n",
       "    <tr style=\"text-align: right;\">\n",
       "      <th></th>\n",
       "      <th>DAYOFSERVICE</th>\n",
       "      <th>TRIPID</th>\n",
       "      <th>PROGRNUMBER</th>\n",
       "      <th>STOPPOINTID</th>\n",
       "      <th>PLANNEDTIME_ARR</th>\n",
       "      <th>PLANNEDTIME_DEP</th>\n",
       "      <th>ACTUALTIME_ARR</th>\n",
       "      <th>ACTUALTIME_DEP</th>\n",
       "      <th>VEHICLEID</th>\n",
       "      <th>year</th>\n",
       "      <th>...</th>\n",
       "      <th>id</th>\n",
       "      <th>trip_leave_id</th>\n",
       "      <th>LINEID</th>\n",
       "      <th>num_lineID</th>\n",
       "      <th>DIRECTION</th>\n",
       "      <th>actual_duration</th>\n",
       "      <th>dayOfWeek</th>\n",
       "      <th>weekend</th>\n",
       "      <th>rushHour</th>\n",
       "      <th>actualARR_hour</th>\n",
       "    </tr>\n",
       "  </thead>\n",
       "  <tbody>\n",
       "    <tr>\n",
       "      <th>4111</th>\n",
       "      <td>2018-08-26</td>\n",
       "      <td>7503563</td>\n",
       "      <td>1</td>\n",
       "      <td>4843</td>\n",
       "      <td>48000</td>\n",
       "      <td>48000</td>\n",
       "      <td>48000</td>\n",
       "      <td>48000</td>\n",
       "      <td>1000117</td>\n",
       "      <td>2018</td>\n",
       "      <td>...</td>\n",
       "      <td>20180826750356301</td>\n",
       "      <td>201808267503563</td>\n",
       "      <td>41</td>\n",
       "      <td>74</td>\n",
       "      <td>2</td>\n",
       "      <td>4449</td>\n",
       "      <td>6</td>\n",
       "      <td>1</td>\n",
       "      <td>0</td>\n",
       "      <td>13</td>\n",
       "    </tr>\n",
       "    <tr>\n",
       "      <th>4112</th>\n",
       "      <td>2018-08-26</td>\n",
       "      <td>7503563</td>\n",
       "      <td>2</td>\n",
       "      <td>4905</td>\n",
       "      <td>48051</td>\n",
       "      <td>48051</td>\n",
       "      <td>48051</td>\n",
       "      <td>48051</td>\n",
       "      <td>1000117</td>\n",
       "      <td>2018</td>\n",
       "      <td>...</td>\n",
       "      <td>20180826750356302</td>\n",
       "      <td>201808267503563</td>\n",
       "      <td>41</td>\n",
       "      <td>74</td>\n",
       "      <td>2</td>\n",
       "      <td>4449</td>\n",
       "      <td>6</td>\n",
       "      <td>1</td>\n",
       "      <td>0</td>\n",
       "      <td>13</td>\n",
       "    </tr>\n",
       "    <tr>\n",
       "      <th>4113</th>\n",
       "      <td>2018-08-26</td>\n",
       "      <td>7503563</td>\n",
       "      <td>4</td>\n",
       "      <td>4906</td>\n",
       "      <td>48100</td>\n",
       "      <td>48100</td>\n",
       "      <td>48100</td>\n",
       "      <td>48100</td>\n",
       "      <td>1000117</td>\n",
       "      <td>2018</td>\n",
       "      <td>...</td>\n",
       "      <td>20180826750356304</td>\n",
       "      <td>201808267503563</td>\n",
       "      <td>41</td>\n",
       "      <td>74</td>\n",
       "      <td>2</td>\n",
       "      <td>4449</td>\n",
       "      <td>6</td>\n",
       "      <td>1</td>\n",
       "      <td>0</td>\n",
       "      <td>13</td>\n",
       "    </tr>\n",
       "    <tr>\n",
       "      <th>4114</th>\n",
       "      <td>2018-08-26</td>\n",
       "      <td>7503563</td>\n",
       "      <td>5</td>\n",
       "      <td>4907</td>\n",
       "      <td>48136</td>\n",
       "      <td>48136</td>\n",
       "      <td>48136</td>\n",
       "      <td>48136</td>\n",
       "      <td>1000117</td>\n",
       "      <td>2018</td>\n",
       "      <td>...</td>\n",
       "      <td>20180826750356305</td>\n",
       "      <td>201808267503563</td>\n",
       "      <td>41</td>\n",
       "      <td>74</td>\n",
       "      <td>2</td>\n",
       "      <td>4449</td>\n",
       "      <td>6</td>\n",
       "      <td>1</td>\n",
       "      <td>0</td>\n",
       "      <td>13</td>\n",
       "    </tr>\n",
       "    <tr>\n",
       "      <th>4115</th>\n",
       "      <td>2018-08-26</td>\n",
       "      <td>7503563</td>\n",
       "      <td>6</td>\n",
       "      <td>4908</td>\n",
       "      <td>48158</td>\n",
       "      <td>48158</td>\n",
       "      <td>48158</td>\n",
       "      <td>48158</td>\n",
       "      <td>1000117</td>\n",
       "      <td>2018</td>\n",
       "      <td>...</td>\n",
       "      <td>20180826750356306</td>\n",
       "      <td>201808267503563</td>\n",
       "      <td>41</td>\n",
       "      <td>74</td>\n",
       "      <td>2</td>\n",
       "      <td>4449</td>\n",
       "      <td>6</td>\n",
       "      <td>1</td>\n",
       "      <td>0</td>\n",
       "      <td>13</td>\n",
       "    </tr>\n",
       "  </tbody>\n",
       "</table>\n",
       "<p>5 rows × 22 columns</p>\n",
       "</div>"
      ],
      "text/plain": [
       "     DAYOFSERVICE   TRIPID  PROGRNUMBER  STOPPOINTID  PLANNEDTIME_ARR  \\\n",
       "4111   2018-08-26  7503563            1         4843            48000   \n",
       "4112   2018-08-26  7503563            2         4905            48051   \n",
       "4113   2018-08-26  7503563            4         4906            48100   \n",
       "4114   2018-08-26  7503563            5         4907            48136   \n",
       "4115   2018-08-26  7503563            6         4908            48158   \n",
       "\n",
       "      PLANNEDTIME_DEP  ACTUALTIME_ARR  ACTUALTIME_DEP  VEHICLEID  year  ...  \\\n",
       "4111            48000           48000           48000    1000117  2018  ...   \n",
       "4112            48051           48051           48051    1000117  2018  ...   \n",
       "4113            48100           48100           48100    1000117  2018  ...   \n",
       "4114            48136           48136           48136    1000117  2018  ...   \n",
       "4115            48158           48158           48158    1000117  2018  ...   \n",
       "\n",
       "                     id    trip_leave_id  LINEID  num_lineID DIRECTION  \\\n",
       "4111  20180826750356301  201808267503563      41          74         2   \n",
       "4112  20180826750356302  201808267503563      41          74         2   \n",
       "4113  20180826750356304  201808267503563      41          74         2   \n",
       "4114  20180826750356305  201808267503563      41          74         2   \n",
       "4115  20180826750356306  201808267503563      41          74         2   \n",
       "\n",
       "      actual_duration  dayOfWeek  weekend  rushHour  actualARR_hour  \n",
       "4111             4449          6        1         0              13  \n",
       "4112             4449          6        1         0              13  \n",
       "4113             4449          6        1         0              13  \n",
       "4114             4449          6        1         0              13  \n",
       "4115             4449          6        1         0              13  \n",
       "\n",
       "[5 rows x 22 columns]"
      ]
     },
     "execution_count": 46,
     "metadata": {},
     "output_type": "execute_result"
    }
   ],
   "source": [
    "wk.head()"
   ]
  },
  {
   "cell_type": "code",
   "execution_count": 47,
   "id": "db5ba536",
   "metadata": {},
   "outputs": [
    {
     "data": {
      "text/plain": [
       "(10825298, 22)"
      ]
     },
     "execution_count": 47,
     "metadata": {},
     "output_type": "execute_result"
    }
   ],
   "source": [
    "wk.shape"
   ]
  },
  {
   "cell_type": "markdown",
   "id": "6f1e5372",
   "metadata": {},
   "source": [
    "<h3>Send to CSV</h3>"
   ]
  },
  {
   "cell_type": "code",
   "execution_count": 48,
   "id": "dd5efd24",
   "metadata": {},
   "outputs": [],
   "source": [
    "# Send df to csv:\n",
    "lwk.to_csv('v5_41C_tripLeave5_sp2.csv', index=False)"
   ]
  },
  {
   "cell_type": "markdown",
   "id": "3e31757f",
   "metadata": {},
   "source": [
    "## Route 41"
   ]
  },
  {
   "cell_type": "code",
   "execution_count": 49,
   "id": "bc881fd8",
   "metadata": {},
   "outputs": [],
   "source": [
    "lwk = wk[(wk['LINEID'] == '41')]"
   ]
  },
  {
   "cell_type": "code",
   "execution_count": 50,
   "id": "c5e11ea4",
   "metadata": {},
   "outputs": [
    {
     "data": {
      "text/plain": [
       "(271682, 22)"
      ]
     },
     "execution_count": 50,
     "metadata": {},
     "output_type": "execute_result"
    }
   ],
   "source": [
    "lwk.shape"
   ]
  },
  {
   "cell_type": "code",
   "execution_count": 51,
   "id": "37e0c93e",
   "metadata": {},
   "outputs": [],
   "source": [
    "# Drop Route 41 rows from wk\n",
    "wk.drop(wk[wk['LINEID'] == '41'].index, inplace = True)"
   ]
  },
  {
   "cell_type": "code",
   "execution_count": 52,
   "id": "7ea5a3c1",
   "metadata": {},
   "outputs": [
    {
     "data": {
      "text/html": [
       "<div>\n",
       "<style scoped>\n",
       "    .dataframe tbody tr th:only-of-type {\n",
       "        vertical-align: middle;\n",
       "    }\n",
       "\n",
       "    .dataframe tbody tr th {\n",
       "        vertical-align: top;\n",
       "    }\n",
       "\n",
       "    .dataframe thead th {\n",
       "        text-align: right;\n",
       "    }\n",
       "</style>\n",
       "<table border=\"1\" class=\"dataframe\">\n",
       "  <thead>\n",
       "    <tr style=\"text-align: right;\">\n",
       "      <th></th>\n",
       "      <th>DAYOFSERVICE</th>\n",
       "      <th>TRIPID</th>\n",
       "      <th>PROGRNUMBER</th>\n",
       "      <th>STOPPOINTID</th>\n",
       "      <th>PLANNEDTIME_ARR</th>\n",
       "      <th>PLANNEDTIME_DEP</th>\n",
       "      <th>ACTUALTIME_ARR</th>\n",
       "      <th>ACTUALTIME_DEP</th>\n",
       "      <th>VEHICLEID</th>\n",
       "      <th>year</th>\n",
       "      <th>...</th>\n",
       "      <th>id</th>\n",
       "      <th>trip_leave_id</th>\n",
       "      <th>LINEID</th>\n",
       "      <th>num_lineID</th>\n",
       "      <th>DIRECTION</th>\n",
       "      <th>actual_duration</th>\n",
       "      <th>dayOfWeek</th>\n",
       "      <th>weekend</th>\n",
       "      <th>rushHour</th>\n",
       "      <th>actualARR_hour</th>\n",
       "    </tr>\n",
       "  </thead>\n",
       "  <tbody>\n",
       "    <tr>\n",
       "      <th>4424</th>\n",
       "      <td>2018-08-26</td>\n",
       "      <td>7503622</td>\n",
       "      <td>8</td>\n",
       "      <td>406</td>\n",
       "      <td>39157</td>\n",
       "      <td>39157</td>\n",
       "      <td>39157</td>\n",
       "      <td>39157</td>\n",
       "      <td>1932303</td>\n",
       "      <td>2018</td>\n",
       "      <td>...</td>\n",
       "      <td>20180826750362208</td>\n",
       "      <td>201808267503622</td>\n",
       "      <td>145</td>\n",
       "      <td>16</td>\n",
       "      <td>1</td>\n",
       "      <td>3725</td>\n",
       "      <td>6</td>\n",
       "      <td>1</td>\n",
       "      <td>0</td>\n",
       "      <td>11</td>\n",
       "    </tr>\n",
       "    <tr>\n",
       "      <th>4425</th>\n",
       "      <td>2018-08-26</td>\n",
       "      <td>7503622</td>\n",
       "      <td>9</td>\n",
       "      <td>747</td>\n",
       "      <td>39253</td>\n",
       "      <td>39253</td>\n",
       "      <td>39253</td>\n",
       "      <td>39253</td>\n",
       "      <td>1932303</td>\n",
       "      <td>2018</td>\n",
       "      <td>...</td>\n",
       "      <td>20180826750362209</td>\n",
       "      <td>201808267503622</td>\n",
       "      <td>145</td>\n",
       "      <td>16</td>\n",
       "      <td>1</td>\n",
       "      <td>3725</td>\n",
       "      <td>6</td>\n",
       "      <td>1</td>\n",
       "      <td>0</td>\n",
       "      <td>11</td>\n",
       "    </tr>\n",
       "    <tr>\n",
       "      <th>4426</th>\n",
       "      <td>2018-08-26</td>\n",
       "      <td>7503622</td>\n",
       "      <td>10</td>\n",
       "      <td>842</td>\n",
       "      <td>39324</td>\n",
       "      <td>39324</td>\n",
       "      <td>39324</td>\n",
       "      <td>39324</td>\n",
       "      <td>1932303</td>\n",
       "      <td>2018</td>\n",
       "      <td>...</td>\n",
       "      <td>20180826750362210</td>\n",
       "      <td>201808267503622</td>\n",
       "      <td>145</td>\n",
       "      <td>16</td>\n",
       "      <td>1</td>\n",
       "      <td>3725</td>\n",
       "      <td>6</td>\n",
       "      <td>1</td>\n",
       "      <td>0</td>\n",
       "      <td>11</td>\n",
       "    </tr>\n",
       "    <tr>\n",
       "      <th>4427</th>\n",
       "      <td>2018-08-26</td>\n",
       "      <td>7503622</td>\n",
       "      <td>11</td>\n",
       "      <td>845</td>\n",
       "      <td>39371</td>\n",
       "      <td>39371</td>\n",
       "      <td>39371</td>\n",
       "      <td>39371</td>\n",
       "      <td>1932303</td>\n",
       "      <td>2018</td>\n",
       "      <td>...</td>\n",
       "      <td>20180826750362211</td>\n",
       "      <td>201808267503622</td>\n",
       "      <td>145</td>\n",
       "      <td>16</td>\n",
       "      <td>1</td>\n",
       "      <td>3725</td>\n",
       "      <td>6</td>\n",
       "      <td>1</td>\n",
       "      <td>0</td>\n",
       "      <td>11</td>\n",
       "    </tr>\n",
       "    <tr>\n",
       "      <th>4428</th>\n",
       "      <td>2018-08-26</td>\n",
       "      <td>7503622</td>\n",
       "      <td>12</td>\n",
       "      <td>846</td>\n",
       "      <td>39438</td>\n",
       "      <td>39438</td>\n",
       "      <td>39438</td>\n",
       "      <td>39438</td>\n",
       "      <td>1932303</td>\n",
       "      <td>2018</td>\n",
       "      <td>...</td>\n",
       "      <td>20180826750362212</td>\n",
       "      <td>201808267503622</td>\n",
       "      <td>145</td>\n",
       "      <td>16</td>\n",
       "      <td>1</td>\n",
       "      <td>3725</td>\n",
       "      <td>6</td>\n",
       "      <td>1</td>\n",
       "      <td>0</td>\n",
       "      <td>11</td>\n",
       "    </tr>\n",
       "  </tbody>\n",
       "</table>\n",
       "<p>5 rows × 22 columns</p>\n",
       "</div>"
      ],
      "text/plain": [
       "     DAYOFSERVICE   TRIPID  PROGRNUMBER  STOPPOINTID  PLANNEDTIME_ARR  \\\n",
       "4424   2018-08-26  7503622            8          406            39157   \n",
       "4425   2018-08-26  7503622            9          747            39253   \n",
       "4426   2018-08-26  7503622           10          842            39324   \n",
       "4427   2018-08-26  7503622           11          845            39371   \n",
       "4428   2018-08-26  7503622           12          846            39438   \n",
       "\n",
       "      PLANNEDTIME_DEP  ACTUALTIME_ARR  ACTUALTIME_DEP  VEHICLEID  year  ...  \\\n",
       "4424            39157           39157           39157    1932303  2018  ...   \n",
       "4425            39253           39253           39253    1932303  2018  ...   \n",
       "4426            39324           39324           39324    1932303  2018  ...   \n",
       "4427            39371           39371           39371    1932303  2018  ...   \n",
       "4428            39438           39438           39438    1932303  2018  ...   \n",
       "\n",
       "                     id    trip_leave_id  LINEID  num_lineID DIRECTION  \\\n",
       "4424  20180826750362208  201808267503622     145          16         1   \n",
       "4425  20180826750362209  201808267503622     145          16         1   \n",
       "4426  20180826750362210  201808267503622     145          16         1   \n",
       "4427  20180826750362211  201808267503622     145          16         1   \n",
       "4428  20180826750362212  201808267503622     145          16         1   \n",
       "\n",
       "      actual_duration  dayOfWeek  weekend  rushHour  actualARR_hour  \n",
       "4424             3725          6        1         0              11  \n",
       "4425             3725          6        1         0              11  \n",
       "4426             3725          6        1         0              11  \n",
       "4427             3725          6        1         0              11  \n",
       "4428             3725          6        1         0              11  \n",
       "\n",
       "[5 rows x 22 columns]"
      ]
     },
     "execution_count": 52,
     "metadata": {},
     "output_type": "execute_result"
    }
   ],
   "source": [
    "wk.head()"
   ]
  },
  {
   "cell_type": "code",
   "execution_count": 53,
   "id": "d57633b8",
   "metadata": {},
   "outputs": [
    {
     "data": {
      "text/plain": [
       "(10553616, 22)"
      ]
     },
     "execution_count": 53,
     "metadata": {},
     "output_type": "execute_result"
    }
   ],
   "source": [
    "wk.shape"
   ]
  },
  {
   "cell_type": "markdown",
   "id": "d74fafcb",
   "metadata": {},
   "source": [
    "<h3>Send to CSV</h3>"
   ]
  },
  {
   "cell_type": "code",
   "execution_count": 54,
   "id": "ba54eb20",
   "metadata": {},
   "outputs": [],
   "source": [
    "# Send df to csv:\n",
    "lwk.to_csv('v5_41_tripLeave5_sp2.csv', index=False)"
   ]
  },
  {
   "cell_type": "markdown",
   "id": "e082232a",
   "metadata": {},
   "source": [
    "## Continue v5_tripLeave5_route_split_3"
   ]
  },
  {
   "cell_type": "code",
   "execution_count": 55,
   "id": "647c1774",
   "metadata": {},
   "outputs": [],
   "source": [
    "# Send df to csv:\n",
    "wk.to_csv('v5_tripLeave5_route_split_3.csv', index=False)"
   ]
  },
  {
   "cell_type": "code",
   "execution_count": null,
   "id": "c4a5925f",
   "metadata": {},
   "outputs": [],
   "source": []
  }
 ],
 "metadata": {
  "kernelspec": {
   "display_name": "Python 3 (ipykernel)",
   "language": "python",
   "name": "python3"
  },
  "language_info": {
   "codemirror_mode": {
    "name": "ipython",
    "version": 3
   },
   "file_extension": ".py",
   "mimetype": "text/x-python",
   "name": "python",
   "nbconvert_exporter": "python",
   "pygments_lexer": "ipython3",
   "version": "3.10.4"
  }
 },
 "nbformat": 4,
 "nbformat_minor": 5
}
