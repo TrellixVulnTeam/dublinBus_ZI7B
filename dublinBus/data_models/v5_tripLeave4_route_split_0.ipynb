{
 "cells": [
  {
   "cell_type": "code",
   "execution_count": 1,
   "id": "29f878e6",
   "metadata": {},
   "outputs": [],
   "source": [
    "# Library Imports.\n",
    "import pandas as pd\n",
    "\n",
    "import numpy as np"
   ]
  },
  {
   "cell_type": "code",
   "execution_count": 2,
   "id": "12abaae1",
   "metadata": {},
   "outputs": [],
   "source": [
    "# Read tripleave4 CSV file into Data Frame:\n",
    "wk = pd.read_csv('v4_tripLeave4_LT_2018.csv', keep_default_na=True, delimiter=',', skipinitialspace=True)"
   ]
  },
  {
   "cell_type": "code",
   "execution_count": 3,
   "id": "5dda47a0",
   "metadata": {},
   "outputs": [
    {
     "data": {
      "text/plain": [
       "(18386916, 21)"
      ]
     },
     "execution_count": 3,
     "metadata": {},
     "output_type": "execute_result"
    }
   ],
   "source": [
    "wk.shape"
   ]
  },
  {
   "cell_type": "code",
   "execution_count": null,
   "id": "c0c029ad",
   "metadata": {},
   "outputs": [],
   "source": [
    "wk.head()"
   ]
  },
  {
   "cell_type": "code",
   "execution_count": null,
   "id": "4878f708",
   "metadata": {},
   "outputs": [],
   "source": [
    "wk.dtypes"
   ]
  },
  {
   "cell_type": "markdown",
   "id": "bbd04bd3",
   "metadata": {},
   "source": [
    "## Add Actual Arrival Time Hour"
   ]
  },
  {
   "cell_type": "code",
   "execution_count": 4,
   "id": "d3a402c4",
   "metadata": {},
   "outputs": [],
   "source": [
    "wk['actualARR_hour'] = (wk['ACTUALTIME_ARR'] / 3600).round()"
   ]
  },
  {
   "cell_type": "code",
   "execution_count": null,
   "id": "507135f5",
   "metadata": {},
   "outputs": [],
   "source": [
    "wk.head()"
   ]
  },
  {
   "cell_type": "code",
   "execution_count": 5,
   "id": "7eea808d",
   "metadata": {},
   "outputs": [],
   "source": [
    "# Replace any 24 hour values to zero\n",
    "wk['actualARR_hour'] = np.where(wk['actualARR_hour'] == 24, 0, wk['actualARR_hour'])"
   ]
  },
  {
   "cell_type": "code",
   "execution_count": 6,
   "id": "7195636a",
   "metadata": {},
   "outputs": [],
   "source": [
    "# Update actualARR_hour to int to rid of decimals\n",
    "wk['actualARR_hour'] = wk['actualARR_hour'].astype('int32')"
   ]
  },
  {
   "cell_type": "code",
   "execution_count": 7,
   "id": "ed8ea247",
   "metadata": {},
   "outputs": [
    {
     "data": {
      "text/html": [
       "<div>\n",
       "<style scoped>\n",
       "    .dataframe tbody tr th:only-of-type {\n",
       "        vertical-align: middle;\n",
       "    }\n",
       "\n",
       "    .dataframe tbody tr th {\n",
       "        vertical-align: top;\n",
       "    }\n",
       "\n",
       "    .dataframe thead th {\n",
       "        text-align: right;\n",
       "    }\n",
       "</style>\n",
       "<table border=\"1\" class=\"dataframe\">\n",
       "  <thead>\n",
       "    <tr style=\"text-align: right;\">\n",
       "      <th></th>\n",
       "      <th>DAYOFSERVICE</th>\n",
       "      <th>TRIPID</th>\n",
       "      <th>PROGRNUMBER</th>\n",
       "      <th>STOPPOINTID</th>\n",
       "      <th>PLANNEDTIME_ARR</th>\n",
       "      <th>PLANNEDTIME_DEP</th>\n",
       "      <th>ACTUALTIME_ARR</th>\n",
       "      <th>ACTUALTIME_DEP</th>\n",
       "      <th>VEHICLEID</th>\n",
       "      <th>year</th>\n",
       "      <th>...</th>\n",
       "      <th>id</th>\n",
       "      <th>trip_leave_id</th>\n",
       "      <th>LINEID</th>\n",
       "      <th>num_lineID</th>\n",
       "      <th>DIRECTION</th>\n",
       "      <th>actual_duration</th>\n",
       "      <th>dayOfWeek</th>\n",
       "      <th>weekend</th>\n",
       "      <th>rushHour</th>\n",
       "      <th>actualARR_hour</th>\n",
       "    </tr>\n",
       "  </thead>\n",
       "  <tbody>\n",
       "    <tr>\n",
       "      <th>0</th>\n",
       "      <td>2018-06-24</td>\n",
       "      <td>7110233</td>\n",
       "      <td>1</td>\n",
       "      <td>7149</td>\n",
       "      <td>43200</td>\n",
       "      <td>43200</td>\n",
       "      <td>43200</td>\n",
       "      <td>43200</td>\n",
       "      <td>2534822</td>\n",
       "      <td>2018</td>\n",
       "      <td>...</td>\n",
       "      <td>20180624711023301</td>\n",
       "      <td>201806247110233</td>\n",
       "      <td>140</td>\n",
       "      <td>14.0</td>\n",
       "      <td>1.0</td>\n",
       "      <td>3640.0</td>\n",
       "      <td>6.0</td>\n",
       "      <td>1.0</td>\n",
       "      <td>0.0</td>\n",
       "      <td>12</td>\n",
       "    </tr>\n",
       "    <tr>\n",
       "      <th>1</th>\n",
       "      <td>2018-06-24</td>\n",
       "      <td>7110233</td>\n",
       "      <td>2</td>\n",
       "      <td>7277</td>\n",
       "      <td>43270</td>\n",
       "      <td>43270</td>\n",
       "      <td>43270</td>\n",
       "      <td>43270</td>\n",
       "      <td>2534822</td>\n",
       "      <td>2018</td>\n",
       "      <td>...</td>\n",
       "      <td>20180624711023302</td>\n",
       "      <td>201806247110233</td>\n",
       "      <td>140</td>\n",
       "      <td>14.0</td>\n",
       "      <td>1.0</td>\n",
       "      <td>3640.0</td>\n",
       "      <td>6.0</td>\n",
       "      <td>1.0</td>\n",
       "      <td>0.0</td>\n",
       "      <td>12</td>\n",
       "    </tr>\n",
       "    <tr>\n",
       "      <th>2</th>\n",
       "      <td>2018-06-24</td>\n",
       "      <td>7110233</td>\n",
       "      <td>3</td>\n",
       "      <td>6363</td>\n",
       "      <td>43370</td>\n",
       "      <td>43370</td>\n",
       "      <td>43370</td>\n",
       "      <td>43370</td>\n",
       "      <td>2534822</td>\n",
       "      <td>2018</td>\n",
       "      <td>...</td>\n",
       "      <td>20180624711023303</td>\n",
       "      <td>201806247110233</td>\n",
       "      <td>140</td>\n",
       "      <td>14.0</td>\n",
       "      <td>1.0</td>\n",
       "      <td>3640.0</td>\n",
       "      <td>6.0</td>\n",
       "      <td>1.0</td>\n",
       "      <td>0.0</td>\n",
       "      <td>12</td>\n",
       "    </tr>\n",
       "    <tr>\n",
       "      <th>3</th>\n",
       "      <td>2018-06-24</td>\n",
       "      <td>7110233</td>\n",
       "      <td>4</td>\n",
       "      <td>6361</td>\n",
       "      <td>43438</td>\n",
       "      <td>43438</td>\n",
       "      <td>43438</td>\n",
       "      <td>43438</td>\n",
       "      <td>2534822</td>\n",
       "      <td>2018</td>\n",
       "      <td>...</td>\n",
       "      <td>20180624711023304</td>\n",
       "      <td>201806247110233</td>\n",
       "      <td>140</td>\n",
       "      <td>14.0</td>\n",
       "      <td>1.0</td>\n",
       "      <td>3640.0</td>\n",
       "      <td>6.0</td>\n",
       "      <td>1.0</td>\n",
       "      <td>0.0</td>\n",
       "      <td>12</td>\n",
       "    </tr>\n",
       "    <tr>\n",
       "      <th>4</th>\n",
       "      <td>2018-06-24</td>\n",
       "      <td>7110233</td>\n",
       "      <td>5</td>\n",
       "      <td>6367</td>\n",
       "      <td>43472</td>\n",
       "      <td>43472</td>\n",
       "      <td>43472</td>\n",
       "      <td>43472</td>\n",
       "      <td>2534822</td>\n",
       "      <td>2018</td>\n",
       "      <td>...</td>\n",
       "      <td>20180624711023305</td>\n",
       "      <td>201806247110233</td>\n",
       "      <td>140</td>\n",
       "      <td>14.0</td>\n",
       "      <td>1.0</td>\n",
       "      <td>3640.0</td>\n",
       "      <td>6.0</td>\n",
       "      <td>1.0</td>\n",
       "      <td>0.0</td>\n",
       "      <td>12</td>\n",
       "    </tr>\n",
       "  </tbody>\n",
       "</table>\n",
       "<p>5 rows × 22 columns</p>\n",
       "</div>"
      ],
      "text/plain": [
       "  DAYOFSERVICE   TRIPID  PROGRNUMBER  STOPPOINTID  PLANNEDTIME_ARR  \\\n",
       "0   2018-06-24  7110233            1         7149            43200   \n",
       "1   2018-06-24  7110233            2         7277            43270   \n",
       "2   2018-06-24  7110233            3         6363            43370   \n",
       "3   2018-06-24  7110233            4         6361            43438   \n",
       "4   2018-06-24  7110233            5         6367            43472   \n",
       "\n",
       "   PLANNEDTIME_DEP  ACTUALTIME_ARR  ACTUALTIME_DEP  VEHICLEID  year  ...  \\\n",
       "0            43200           43200           43200    2534822  2018  ...   \n",
       "1            43270           43270           43270    2534822  2018  ...   \n",
       "2            43370           43370           43370    2534822  2018  ...   \n",
       "3            43438           43438           43438    2534822  2018  ...   \n",
       "4            43472           43472           43472    2534822  2018  ...   \n",
       "\n",
       "                  id    trip_leave_id  LINEID  num_lineID DIRECTION  \\\n",
       "0  20180624711023301  201806247110233     140        14.0       1.0   \n",
       "1  20180624711023302  201806247110233     140        14.0       1.0   \n",
       "2  20180624711023303  201806247110233     140        14.0       1.0   \n",
       "3  20180624711023304  201806247110233     140        14.0       1.0   \n",
       "4  20180624711023305  201806247110233     140        14.0       1.0   \n",
       "\n",
       "   actual_duration  dayOfWeek  weekend  rushHour  actualARR_hour  \n",
       "0           3640.0        6.0      1.0       0.0              12  \n",
       "1           3640.0        6.0      1.0       0.0              12  \n",
       "2           3640.0        6.0      1.0       0.0              12  \n",
       "3           3640.0        6.0      1.0       0.0              12  \n",
       "4           3640.0        6.0      1.0       0.0              12  \n",
       "\n",
       "[5 rows x 22 columns]"
      ]
     },
     "execution_count": 7,
     "metadata": {},
     "output_type": "execute_result"
    }
   ],
   "source": [
    "wk.head()"
   ]
  },
  {
   "cell_type": "markdown",
   "id": "81073090",
   "metadata": {},
   "source": [
    "## Datatype Changes"
   ]
  },
  {
   "cell_type": "code",
   "execution_count": 8,
   "id": "75954e98",
   "metadata": {},
   "outputs": [],
   "source": [
    "wk['num_lineID'] = wk['num_lineID'].astype('int16')\n",
    "wk['DIRECTION'] = wk['DIRECTION'].astype('int16')"
   ]
  },
  {
   "cell_type": "code",
   "execution_count": 9,
   "id": "aa322fd2",
   "metadata": {},
   "outputs": [],
   "source": [
    "wk['actual_duration'] = wk['actual_duration'].astype('int64')\n",
    "wk['dayOfWeek'] = wk['dayOfWeek'].astype('int16')"
   ]
  },
  {
   "cell_type": "code",
   "execution_count": 10,
   "id": "89c4a79a",
   "metadata": {},
   "outputs": [],
   "source": [
    "wk['weekend'] = wk['weekend'].astype('int16')\n",
    "wk['rushHour'] = wk['rushHour'].astype('int16')"
   ]
  },
  {
   "cell_type": "code",
   "execution_count": null,
   "id": "604f0107",
   "metadata": {},
   "outputs": [],
   "source": [
    "wk.head()"
   ]
  },
  {
   "cell_type": "code",
   "execution_count": 11,
   "id": "645ff86a",
   "metadata": {},
   "outputs": [
    {
     "data": {
      "text/plain": [
       "DAYOFSERVICE       object\n",
       "TRIPID              int64\n",
       "PROGRNUMBER         int64\n",
       "STOPPOINTID         int64\n",
       "PLANNEDTIME_ARR     int64\n",
       "PLANNEDTIME_DEP     int64\n",
       "ACTUALTIME_ARR      int64\n",
       "ACTUALTIME_DEP      int64\n",
       "VEHICLEID           int64\n",
       "year                int64\n",
       "month               int64\n",
       "day                 int64\n",
       "id                  int64\n",
       "trip_leave_id       int64\n",
       "LINEID             object\n",
       "num_lineID          int16\n",
       "DIRECTION           int16\n",
       "actual_duration     int64\n",
       "dayOfWeek           int16\n",
       "weekend             int16\n",
       "rushHour            int16\n",
       "actualARR_hour      int32\n",
       "dtype: object"
      ]
     },
     "execution_count": 11,
     "metadata": {},
     "output_type": "execute_result"
    }
   ],
   "source": [
    "wk.dtypes"
   ]
  },
  {
   "cell_type": "markdown",
   "id": "86d6d334",
   "metadata": {},
   "source": [
    "## Route 140"
   ]
  },
  {
   "cell_type": "code",
   "execution_count": 12,
   "id": "01b378cc",
   "metadata": {},
   "outputs": [],
   "source": [
    "lwk = wk[(wk['LINEID'] == '140')]"
   ]
  },
  {
   "cell_type": "code",
   "execution_count": 13,
   "id": "5ae677fe",
   "metadata": {},
   "outputs": [
    {
     "data": {
      "text/plain": [
       "(313673, 22)"
      ]
     },
     "execution_count": 13,
     "metadata": {},
     "output_type": "execute_result"
    }
   ],
   "source": [
    "lwk.shape"
   ]
  },
  {
   "cell_type": "code",
   "execution_count": 14,
   "id": "eb268b7e",
   "metadata": {},
   "outputs": [],
   "source": [
    "# Drop Route 140 rows from wk\n",
    "wk.drop(wk[wk['LINEID'] == '140'].index, inplace = True)"
   ]
  },
  {
   "cell_type": "code",
   "execution_count": 15,
   "id": "cdb83698",
   "metadata": {},
   "outputs": [
    {
     "data": {
      "text/html": [
       "<div>\n",
       "<style scoped>\n",
       "    .dataframe tbody tr th:only-of-type {\n",
       "        vertical-align: middle;\n",
       "    }\n",
       "\n",
       "    .dataframe tbody tr th {\n",
       "        vertical-align: top;\n",
       "    }\n",
       "\n",
       "    .dataframe thead th {\n",
       "        text-align: right;\n",
       "    }\n",
       "</style>\n",
       "<table border=\"1\" class=\"dataframe\">\n",
       "  <thead>\n",
       "    <tr style=\"text-align: right;\">\n",
       "      <th></th>\n",
       "      <th>DAYOFSERVICE</th>\n",
       "      <th>TRIPID</th>\n",
       "      <th>PROGRNUMBER</th>\n",
       "      <th>STOPPOINTID</th>\n",
       "      <th>PLANNEDTIME_ARR</th>\n",
       "      <th>PLANNEDTIME_DEP</th>\n",
       "      <th>ACTUALTIME_ARR</th>\n",
       "      <th>ACTUALTIME_DEP</th>\n",
       "      <th>VEHICLEID</th>\n",
       "      <th>year</th>\n",
       "      <th>...</th>\n",
       "      <th>id</th>\n",
       "      <th>trip_leave_id</th>\n",
       "      <th>LINEID</th>\n",
       "      <th>num_lineID</th>\n",
       "      <th>DIRECTION</th>\n",
       "      <th>actual_duration</th>\n",
       "      <th>dayOfWeek</th>\n",
       "      <th>weekend</th>\n",
       "      <th>rushHour</th>\n",
       "      <th>actualARR_hour</th>\n",
       "    </tr>\n",
       "  </thead>\n",
       "  <tbody>\n",
       "    <tr>\n",
       "      <th>182</th>\n",
       "      <td>2018-06-24</td>\n",
       "      <td>7110251</td>\n",
       "      <td>1</td>\n",
       "      <td>6041</td>\n",
       "      <td>48600</td>\n",
       "      <td>48600</td>\n",
       "      <td>48600</td>\n",
       "      <td>48600</td>\n",
       "      <td>2868391</td>\n",
       "      <td>2018</td>\n",
       "      <td>...</td>\n",
       "      <td>20180624711025101</td>\n",
       "      <td>201806247110251</td>\n",
       "      <td>14</td>\n",
       "      <td>13</td>\n",
       "      <td>2</td>\n",
       "      <td>4871</td>\n",
       "      <td>6</td>\n",
       "      <td>1</td>\n",
       "      <td>0</td>\n",
       "      <td>14</td>\n",
       "    </tr>\n",
       "    <tr>\n",
       "      <th>183</th>\n",
       "      <td>2018-06-24</td>\n",
       "      <td>7110251</td>\n",
       "      <td>6</td>\n",
       "      <td>2845</td>\n",
       "      <td>48903</td>\n",
       "      <td>48903</td>\n",
       "      <td>48903</td>\n",
       "      <td>48903</td>\n",
       "      <td>2868391</td>\n",
       "      <td>2018</td>\n",
       "      <td>...</td>\n",
       "      <td>20180624711025106</td>\n",
       "      <td>201806247110251</td>\n",
       "      <td>14</td>\n",
       "      <td>13</td>\n",
       "      <td>2</td>\n",
       "      <td>4871</td>\n",
       "      <td>6</td>\n",
       "      <td>1</td>\n",
       "      <td>0</td>\n",
       "      <td>14</td>\n",
       "    </tr>\n",
       "    <tr>\n",
       "      <th>184</th>\n",
       "      <td>2018-06-24</td>\n",
       "      <td>7110251</td>\n",
       "      <td>7</td>\n",
       "      <td>2846</td>\n",
       "      <td>48955</td>\n",
       "      <td>48955</td>\n",
       "      <td>48955</td>\n",
       "      <td>48955</td>\n",
       "      <td>2868391</td>\n",
       "      <td>2018</td>\n",
       "      <td>...</td>\n",
       "      <td>20180624711025107</td>\n",
       "      <td>201806247110251</td>\n",
       "      <td>14</td>\n",
       "      <td>13</td>\n",
       "      <td>2</td>\n",
       "      <td>4871</td>\n",
       "      <td>6</td>\n",
       "      <td>1</td>\n",
       "      <td>0</td>\n",
       "      <td>14</td>\n",
       "    </tr>\n",
       "    <tr>\n",
       "      <th>185</th>\n",
       "      <td>2018-06-24</td>\n",
       "      <td>7110251</td>\n",
       "      <td>8</td>\n",
       "      <td>2847</td>\n",
       "      <td>48987</td>\n",
       "      <td>48987</td>\n",
       "      <td>48987</td>\n",
       "      <td>48987</td>\n",
       "      <td>2868391</td>\n",
       "      <td>2018</td>\n",
       "      <td>...</td>\n",
       "      <td>20180624711025108</td>\n",
       "      <td>201806247110251</td>\n",
       "      <td>14</td>\n",
       "      <td>13</td>\n",
       "      <td>2</td>\n",
       "      <td>4871</td>\n",
       "      <td>6</td>\n",
       "      <td>1</td>\n",
       "      <td>0</td>\n",
       "      <td>14</td>\n",
       "    </tr>\n",
       "    <tr>\n",
       "      <th>186</th>\n",
       "      <td>2018-06-24</td>\n",
       "      <td>7110251</td>\n",
       "      <td>9</td>\n",
       "      <td>4397</td>\n",
       "      <td>49013</td>\n",
       "      <td>49013</td>\n",
       "      <td>49013</td>\n",
       "      <td>49013</td>\n",
       "      <td>2868391</td>\n",
       "      <td>2018</td>\n",
       "      <td>...</td>\n",
       "      <td>20180624711025109</td>\n",
       "      <td>201806247110251</td>\n",
       "      <td>14</td>\n",
       "      <td>13</td>\n",
       "      <td>2</td>\n",
       "      <td>4871</td>\n",
       "      <td>6</td>\n",
       "      <td>1</td>\n",
       "      <td>0</td>\n",
       "      <td>14</td>\n",
       "    </tr>\n",
       "  </tbody>\n",
       "</table>\n",
       "<p>5 rows × 22 columns</p>\n",
       "</div>"
      ],
      "text/plain": [
       "    DAYOFSERVICE   TRIPID  PROGRNUMBER  STOPPOINTID  PLANNEDTIME_ARR  \\\n",
       "182   2018-06-24  7110251            1         6041            48600   \n",
       "183   2018-06-24  7110251            6         2845            48903   \n",
       "184   2018-06-24  7110251            7         2846            48955   \n",
       "185   2018-06-24  7110251            8         2847            48987   \n",
       "186   2018-06-24  7110251            9         4397            49013   \n",
       "\n",
       "     PLANNEDTIME_DEP  ACTUALTIME_ARR  ACTUALTIME_DEP  VEHICLEID  year  ...  \\\n",
       "182            48600           48600           48600    2868391  2018  ...   \n",
       "183            48903           48903           48903    2868391  2018  ...   \n",
       "184            48955           48955           48955    2868391  2018  ...   \n",
       "185            48987           48987           48987    2868391  2018  ...   \n",
       "186            49013           49013           49013    2868391  2018  ...   \n",
       "\n",
       "                    id    trip_leave_id  LINEID  num_lineID DIRECTION  \\\n",
       "182  20180624711025101  201806247110251      14          13         2   \n",
       "183  20180624711025106  201806247110251      14          13         2   \n",
       "184  20180624711025107  201806247110251      14          13         2   \n",
       "185  20180624711025108  201806247110251      14          13         2   \n",
       "186  20180624711025109  201806247110251      14          13         2   \n",
       "\n",
       "     actual_duration  dayOfWeek  weekend  rushHour  actualARR_hour  \n",
       "182             4871          6        1         0              14  \n",
       "183             4871          6        1         0              14  \n",
       "184             4871          6        1         0              14  \n",
       "185             4871          6        1         0              14  \n",
       "186             4871          6        1         0              14  \n",
       "\n",
       "[5 rows x 22 columns]"
      ]
     },
     "execution_count": 15,
     "metadata": {},
     "output_type": "execute_result"
    }
   ],
   "source": [
    "wk.head()"
   ]
  },
  {
   "cell_type": "code",
   "execution_count": 16,
   "id": "f85f5650",
   "metadata": {},
   "outputs": [
    {
     "data": {
      "text/plain": [
       "(18073243, 22)"
      ]
     },
     "execution_count": 16,
     "metadata": {},
     "output_type": "execute_result"
    }
   ],
   "source": [
    "wk.shape"
   ]
  },
  {
   "cell_type": "markdown",
   "id": "f36c2173",
   "metadata": {},
   "source": [
    "<h3>Send to CSV</h3>"
   ]
  },
  {
   "cell_type": "code",
   "execution_count": 17,
   "id": "4fcd4689",
   "metadata": {},
   "outputs": [],
   "source": [
    "# Send df to csv:\n",
    "lwk.to_csv('v5_140_tripLeave4_sp0.csv', index=False)"
   ]
  },
  {
   "cell_type": "markdown",
   "id": "02f3d83e",
   "metadata": {},
   "source": [
    "## Route 14"
   ]
  },
  {
   "cell_type": "code",
   "execution_count": 18,
   "id": "b91914a8",
   "metadata": {},
   "outputs": [],
   "source": [
    "lwk = wk[(wk['LINEID'] == '14')]"
   ]
  },
  {
   "cell_type": "code",
   "execution_count": 19,
   "id": "697f3295",
   "metadata": {},
   "outputs": [
    {
     "data": {
      "text/plain": [
       "(392638, 22)"
      ]
     },
     "execution_count": 19,
     "metadata": {},
     "output_type": "execute_result"
    }
   ],
   "source": [
    "lwk.shape"
   ]
  },
  {
   "cell_type": "code",
   "execution_count": 20,
   "id": "d4360a64",
   "metadata": {},
   "outputs": [],
   "source": [
    "# Drop Route 14 rows from wk\n",
    "wk.drop(wk[wk['LINEID'] == '14'].index, inplace = True)"
   ]
  },
  {
   "cell_type": "code",
   "execution_count": 21,
   "id": "942c64b0",
   "metadata": {},
   "outputs": [
    {
     "data": {
      "text/html": [
       "<div>\n",
       "<style scoped>\n",
       "    .dataframe tbody tr th:only-of-type {\n",
       "        vertical-align: middle;\n",
       "    }\n",
       "\n",
       "    .dataframe tbody tr th {\n",
       "        vertical-align: top;\n",
       "    }\n",
       "\n",
       "    .dataframe thead th {\n",
       "        text-align: right;\n",
       "    }\n",
       "</style>\n",
       "<table border=\"1\" class=\"dataframe\">\n",
       "  <thead>\n",
       "    <tr style=\"text-align: right;\">\n",
       "      <th></th>\n",
       "      <th>DAYOFSERVICE</th>\n",
       "      <th>TRIPID</th>\n",
       "      <th>PROGRNUMBER</th>\n",
       "      <th>STOPPOINTID</th>\n",
       "      <th>PLANNEDTIME_ARR</th>\n",
       "      <th>PLANNEDTIME_DEP</th>\n",
       "      <th>ACTUALTIME_ARR</th>\n",
       "      <th>ACTUALTIME_DEP</th>\n",
       "      <th>VEHICLEID</th>\n",
       "      <th>year</th>\n",
       "      <th>...</th>\n",
       "      <th>id</th>\n",
       "      <th>trip_leave_id</th>\n",
       "      <th>LINEID</th>\n",
       "      <th>num_lineID</th>\n",
       "      <th>DIRECTION</th>\n",
       "      <th>actual_duration</th>\n",
       "      <th>dayOfWeek</th>\n",
       "      <th>weekend</th>\n",
       "      <th>rushHour</th>\n",
       "      <th>actualARR_hour</th>\n",
       "    </tr>\n",
       "  </thead>\n",
       "  <tbody>\n",
       "    <tr>\n",
       "      <th>584</th>\n",
       "      <td>2018-06-24</td>\n",
       "      <td>7110290</td>\n",
       "      <td>6</td>\n",
       "      <td>7204</td>\n",
       "      <td>31963</td>\n",
       "      <td>31963</td>\n",
       "      <td>31963</td>\n",
       "      <td>31963</td>\n",
       "      <td>1000758</td>\n",
       "      <td>2018</td>\n",
       "      <td>...</td>\n",
       "      <td>20180624711029006</td>\n",
       "      <td>201806247110290</td>\n",
       "      <td>33B</td>\n",
       "      <td>57</td>\n",
       "      <td>2</td>\n",
       "      <td>1832</td>\n",
       "      <td>6</td>\n",
       "      <td>1</td>\n",
       "      <td>0</td>\n",
       "      <td>9</td>\n",
       "    </tr>\n",
       "    <tr>\n",
       "      <th>585</th>\n",
       "      <td>2018-06-24</td>\n",
       "      <td>7110290</td>\n",
       "      <td>7</td>\n",
       "      <td>3739</td>\n",
       "      <td>32103</td>\n",
       "      <td>32103</td>\n",
       "      <td>32103</td>\n",
       "      <td>32103</td>\n",
       "      <td>1000758</td>\n",
       "      <td>2018</td>\n",
       "      <td>...</td>\n",
       "      <td>20180624711029007</td>\n",
       "      <td>201806247110290</td>\n",
       "      <td>33B</td>\n",
       "      <td>57</td>\n",
       "      <td>2</td>\n",
       "      <td>1832</td>\n",
       "      <td>6</td>\n",
       "      <td>1</td>\n",
       "      <td>0</td>\n",
       "      <td>9</td>\n",
       "    </tr>\n",
       "    <tr>\n",
       "      <th>586</th>\n",
       "      <td>2018-06-24</td>\n",
       "      <td>7110290</td>\n",
       "      <td>8</td>\n",
       "      <td>3738</td>\n",
       "      <td>32179</td>\n",
       "      <td>32179</td>\n",
       "      <td>32179</td>\n",
       "      <td>32179</td>\n",
       "      <td>1000758</td>\n",
       "      <td>2018</td>\n",
       "      <td>...</td>\n",
       "      <td>20180624711029008</td>\n",
       "      <td>201806247110290</td>\n",
       "      <td>33B</td>\n",
       "      <td>57</td>\n",
       "      <td>2</td>\n",
       "      <td>1832</td>\n",
       "      <td>6</td>\n",
       "      <td>1</td>\n",
       "      <td>0</td>\n",
       "      <td>9</td>\n",
       "    </tr>\n",
       "    <tr>\n",
       "      <th>587</th>\n",
       "      <td>2018-06-24</td>\n",
       "      <td>7110290</td>\n",
       "      <td>9</td>\n",
       "      <td>7170</td>\n",
       "      <td>32216</td>\n",
       "      <td>32216</td>\n",
       "      <td>32216</td>\n",
       "      <td>32216</td>\n",
       "      <td>1000758</td>\n",
       "      <td>2018</td>\n",
       "      <td>...</td>\n",
       "      <td>20180624711029009</td>\n",
       "      <td>201806247110290</td>\n",
       "      <td>33B</td>\n",
       "      <td>57</td>\n",
       "      <td>2</td>\n",
       "      <td>1832</td>\n",
       "      <td>6</td>\n",
       "      <td>1</td>\n",
       "      <td>0</td>\n",
       "      <td>9</td>\n",
       "    </tr>\n",
       "    <tr>\n",
       "      <th>588</th>\n",
       "      <td>2018-06-24</td>\n",
       "      <td>7110290</td>\n",
       "      <td>10</td>\n",
       "      <td>3740</td>\n",
       "      <td>32255</td>\n",
       "      <td>32255</td>\n",
       "      <td>32255</td>\n",
       "      <td>32255</td>\n",
       "      <td>1000758</td>\n",
       "      <td>2018</td>\n",
       "      <td>...</td>\n",
       "      <td>20180624711029010</td>\n",
       "      <td>201806247110290</td>\n",
       "      <td>33B</td>\n",
       "      <td>57</td>\n",
       "      <td>2</td>\n",
       "      <td>1832</td>\n",
       "      <td>6</td>\n",
       "      <td>1</td>\n",
       "      <td>0</td>\n",
       "      <td>9</td>\n",
       "    </tr>\n",
       "  </tbody>\n",
       "</table>\n",
       "<p>5 rows × 22 columns</p>\n",
       "</div>"
      ],
      "text/plain": [
       "    DAYOFSERVICE   TRIPID  PROGRNUMBER  STOPPOINTID  PLANNEDTIME_ARR  \\\n",
       "584   2018-06-24  7110290            6         7204            31963   \n",
       "585   2018-06-24  7110290            7         3739            32103   \n",
       "586   2018-06-24  7110290            8         3738            32179   \n",
       "587   2018-06-24  7110290            9         7170            32216   \n",
       "588   2018-06-24  7110290           10         3740            32255   \n",
       "\n",
       "     PLANNEDTIME_DEP  ACTUALTIME_ARR  ACTUALTIME_DEP  VEHICLEID  year  ...  \\\n",
       "584            31963           31963           31963    1000758  2018  ...   \n",
       "585            32103           32103           32103    1000758  2018  ...   \n",
       "586            32179           32179           32179    1000758  2018  ...   \n",
       "587            32216           32216           32216    1000758  2018  ...   \n",
       "588            32255           32255           32255    1000758  2018  ...   \n",
       "\n",
       "                    id    trip_leave_id  LINEID  num_lineID DIRECTION  \\\n",
       "584  20180624711029006  201806247110290     33B          57         2   \n",
       "585  20180624711029007  201806247110290     33B          57         2   \n",
       "586  20180624711029008  201806247110290     33B          57         2   \n",
       "587  20180624711029009  201806247110290     33B          57         2   \n",
       "588  20180624711029010  201806247110290     33B          57         2   \n",
       "\n",
       "     actual_duration  dayOfWeek  weekend  rushHour  actualARR_hour  \n",
       "584             1832          6        1         0               9  \n",
       "585             1832          6        1         0               9  \n",
       "586             1832          6        1         0               9  \n",
       "587             1832          6        1         0               9  \n",
       "588             1832          6        1         0               9  \n",
       "\n",
       "[5 rows x 22 columns]"
      ]
     },
     "execution_count": 21,
     "metadata": {},
     "output_type": "execute_result"
    }
   ],
   "source": [
    "wk.head()"
   ]
  },
  {
   "cell_type": "code",
   "execution_count": 22,
   "id": "cdc545e0",
   "metadata": {},
   "outputs": [
    {
     "data": {
      "text/plain": [
       "(17680605, 22)"
      ]
     },
     "execution_count": 22,
     "metadata": {},
     "output_type": "execute_result"
    }
   ],
   "source": [
    "wk.shape"
   ]
  },
  {
   "cell_type": "markdown",
   "id": "40667721",
   "metadata": {},
   "source": [
    "<h3>Send to CSV</h3>"
   ]
  },
  {
   "cell_type": "code",
   "execution_count": 23,
   "id": "5d225394",
   "metadata": {},
   "outputs": [],
   "source": [
    "# Send df to csv:\n",
    "lwk.to_csv('v5_14_tripLeave4_sp0.csv', index=False)"
   ]
  },
  {
   "cell_type": "markdown",
   "id": "c9871333",
   "metadata": {},
   "source": [
    "## Route 33B"
   ]
  },
  {
   "cell_type": "code",
   "execution_count": 24,
   "id": "6d09b20e",
   "metadata": {},
   "outputs": [],
   "source": [
    "lwk = wk[(wk['LINEID'] == '33B')]"
   ]
  },
  {
   "cell_type": "code",
   "execution_count": 25,
   "id": "5a20631a",
   "metadata": {},
   "outputs": [
    {
     "data": {
      "text/plain": [
       "(47688, 22)"
      ]
     },
     "execution_count": 25,
     "metadata": {},
     "output_type": "execute_result"
    }
   ],
   "source": [
    "lwk.shape"
   ]
  },
  {
   "cell_type": "code",
   "execution_count": 26,
   "id": "33e489aa",
   "metadata": {},
   "outputs": [],
   "source": [
    "# Drop Route 33B rows from wk\n",
    "wk.drop(wk[wk['LINEID'] == '33B'].index, inplace = True)"
   ]
  },
  {
   "cell_type": "code",
   "execution_count": 27,
   "id": "4ed9474e",
   "metadata": {},
   "outputs": [
    {
     "data": {
      "text/html": [
       "<div>\n",
       "<style scoped>\n",
       "    .dataframe tbody tr th:only-of-type {\n",
       "        vertical-align: middle;\n",
       "    }\n",
       "\n",
       "    .dataframe tbody tr th {\n",
       "        vertical-align: top;\n",
       "    }\n",
       "\n",
       "    .dataframe thead th {\n",
       "        text-align: right;\n",
       "    }\n",
       "</style>\n",
       "<table border=\"1\" class=\"dataframe\">\n",
       "  <thead>\n",
       "    <tr style=\"text-align: right;\">\n",
       "      <th></th>\n",
       "      <th>DAYOFSERVICE</th>\n",
       "      <th>TRIPID</th>\n",
       "      <th>PROGRNUMBER</th>\n",
       "      <th>STOPPOINTID</th>\n",
       "      <th>PLANNEDTIME_ARR</th>\n",
       "      <th>PLANNEDTIME_DEP</th>\n",
       "      <th>ACTUALTIME_ARR</th>\n",
       "      <th>ACTUALTIME_DEP</th>\n",
       "      <th>VEHICLEID</th>\n",
       "      <th>year</th>\n",
       "      <th>...</th>\n",
       "      <th>id</th>\n",
       "      <th>trip_leave_id</th>\n",
       "      <th>LINEID</th>\n",
       "      <th>num_lineID</th>\n",
       "      <th>DIRECTION</th>\n",
       "      <th>actual_duration</th>\n",
       "      <th>dayOfWeek</th>\n",
       "      <th>weekend</th>\n",
       "      <th>rushHour</th>\n",
       "      <th>actualARR_hour</th>\n",
       "    </tr>\n",
       "  </thead>\n",
       "  <tbody>\n",
       "    <tr>\n",
       "      <th>930</th>\n",
       "      <td>2018-06-24</td>\n",
       "      <td>7110377</td>\n",
       "      <td>3</td>\n",
       "      <td>1700</td>\n",
       "      <td>39171</td>\n",
       "      <td>39171</td>\n",
       "      <td>39171</td>\n",
       "      <td>39171</td>\n",
       "      <td>1000135</td>\n",
       "      <td>2018</td>\n",
       "      <td>...</td>\n",
       "      <td>20180624711037703</td>\n",
       "      <td>201806247110377</td>\n",
       "      <td>122</td>\n",
       "      <td>9</td>\n",
       "      <td>1</td>\n",
       "      <td>2801</td>\n",
       "      <td>6</td>\n",
       "      <td>1</td>\n",
       "      <td>0</td>\n",
       "      <td>11</td>\n",
       "    </tr>\n",
       "    <tr>\n",
       "      <th>931</th>\n",
       "      <td>2018-06-24</td>\n",
       "      <td>7110377</td>\n",
       "      <td>4</td>\n",
       "      <td>1701</td>\n",
       "      <td>39210</td>\n",
       "      <td>39210</td>\n",
       "      <td>39210</td>\n",
       "      <td>39210</td>\n",
       "      <td>1000135</td>\n",
       "      <td>2018</td>\n",
       "      <td>...</td>\n",
       "      <td>20180624711037704</td>\n",
       "      <td>201806247110377</td>\n",
       "      <td>122</td>\n",
       "      <td>9</td>\n",
       "      <td>1</td>\n",
       "      <td>2801</td>\n",
       "      <td>6</td>\n",
       "      <td>1</td>\n",
       "      <td>0</td>\n",
       "      <td>11</td>\n",
       "    </tr>\n",
       "    <tr>\n",
       "      <th>932</th>\n",
       "      <td>2018-06-24</td>\n",
       "      <td>7110377</td>\n",
       "      <td>5</td>\n",
       "      <td>1702</td>\n",
       "      <td>39237</td>\n",
       "      <td>39237</td>\n",
       "      <td>39237</td>\n",
       "      <td>39237</td>\n",
       "      <td>1000135</td>\n",
       "      <td>2018</td>\n",
       "      <td>...</td>\n",
       "      <td>20180624711037705</td>\n",
       "      <td>201806247110377</td>\n",
       "      <td>122</td>\n",
       "      <td>9</td>\n",
       "      <td>1</td>\n",
       "      <td>2801</td>\n",
       "      <td>6</td>\n",
       "      <td>1</td>\n",
       "      <td>0</td>\n",
       "      <td>11</td>\n",
       "    </tr>\n",
       "    <tr>\n",
       "      <th>933</th>\n",
       "      <td>2018-06-24</td>\n",
       "      <td>7110377</td>\n",
       "      <td>6</td>\n",
       "      <td>16</td>\n",
       "      <td>39286</td>\n",
       "      <td>39286</td>\n",
       "      <td>39286</td>\n",
       "      <td>39286</td>\n",
       "      <td>1000135</td>\n",
       "      <td>2018</td>\n",
       "      <td>...</td>\n",
       "      <td>20180624711037706</td>\n",
       "      <td>201806247110377</td>\n",
       "      <td>122</td>\n",
       "      <td>9</td>\n",
       "      <td>1</td>\n",
       "      <td>2801</td>\n",
       "      <td>6</td>\n",
       "      <td>1</td>\n",
       "      <td>0</td>\n",
       "      <td>11</td>\n",
       "    </tr>\n",
       "    <tr>\n",
       "      <th>934</th>\n",
       "      <td>2018-06-24</td>\n",
       "      <td>7110377</td>\n",
       "      <td>7</td>\n",
       "      <td>73</td>\n",
       "      <td>39347</td>\n",
       "      <td>39347</td>\n",
       "      <td>39347</td>\n",
       "      <td>39347</td>\n",
       "      <td>1000135</td>\n",
       "      <td>2018</td>\n",
       "      <td>...</td>\n",
       "      <td>20180624711037707</td>\n",
       "      <td>201806247110377</td>\n",
       "      <td>122</td>\n",
       "      <td>9</td>\n",
       "      <td>1</td>\n",
       "      <td>2801</td>\n",
       "      <td>6</td>\n",
       "      <td>1</td>\n",
       "      <td>0</td>\n",
       "      <td>11</td>\n",
       "    </tr>\n",
       "  </tbody>\n",
       "</table>\n",
       "<p>5 rows × 22 columns</p>\n",
       "</div>"
      ],
      "text/plain": [
       "    DAYOFSERVICE   TRIPID  PROGRNUMBER  STOPPOINTID  PLANNEDTIME_ARR  \\\n",
       "930   2018-06-24  7110377            3         1700            39171   \n",
       "931   2018-06-24  7110377            4         1701            39210   \n",
       "932   2018-06-24  7110377            5         1702            39237   \n",
       "933   2018-06-24  7110377            6           16            39286   \n",
       "934   2018-06-24  7110377            7           73            39347   \n",
       "\n",
       "     PLANNEDTIME_DEP  ACTUALTIME_ARR  ACTUALTIME_DEP  VEHICLEID  year  ...  \\\n",
       "930            39171           39171           39171    1000135  2018  ...   \n",
       "931            39210           39210           39210    1000135  2018  ...   \n",
       "932            39237           39237           39237    1000135  2018  ...   \n",
       "933            39286           39286           39286    1000135  2018  ...   \n",
       "934            39347           39347           39347    1000135  2018  ...   \n",
       "\n",
       "                    id    trip_leave_id  LINEID  num_lineID DIRECTION  \\\n",
       "930  20180624711037703  201806247110377     122           9         1   \n",
       "931  20180624711037704  201806247110377     122           9         1   \n",
       "932  20180624711037705  201806247110377     122           9         1   \n",
       "933  20180624711037706  201806247110377     122           9         1   \n",
       "934  20180624711037707  201806247110377     122           9         1   \n",
       "\n",
       "     actual_duration  dayOfWeek  weekend  rushHour  actualARR_hour  \n",
       "930             2801          6        1         0              11  \n",
       "931             2801          6        1         0              11  \n",
       "932             2801          6        1         0              11  \n",
       "933             2801          6        1         0              11  \n",
       "934             2801          6        1         0              11  \n",
       "\n",
       "[5 rows x 22 columns]"
      ]
     },
     "execution_count": 27,
     "metadata": {},
     "output_type": "execute_result"
    }
   ],
   "source": [
    "wk.head()"
   ]
  },
  {
   "cell_type": "code",
   "execution_count": 28,
   "id": "f5f7599c",
   "metadata": {},
   "outputs": [
    {
     "data": {
      "text/plain": [
       "(17632917, 22)"
      ]
     },
     "execution_count": 28,
     "metadata": {},
     "output_type": "execute_result"
    }
   ],
   "source": [
    "wk.shape"
   ]
  },
  {
   "cell_type": "markdown",
   "id": "38748ef1",
   "metadata": {},
   "source": [
    "<h3>Send to CSV</h3>"
   ]
  },
  {
   "cell_type": "code",
   "execution_count": 29,
   "id": "838ecfd9",
   "metadata": {},
   "outputs": [],
   "source": [
    "# Send df to csv:\n",
    "lwk.to_csv('v5_33B_tripLeave4_sp0.csv', index=False)"
   ]
  },
  {
   "cell_type": "markdown",
   "id": "c9ce61f5",
   "metadata": {},
   "source": [
    "## Route 122"
   ]
  },
  {
   "cell_type": "code",
   "execution_count": 30,
   "id": "f6ad83ea",
   "metadata": {},
   "outputs": [],
   "source": [
    "lwk = wk[(wk['LINEID'] == '122')]"
   ]
  },
  {
   "cell_type": "code",
   "execution_count": 31,
   "id": "ec9abc5f",
   "metadata": {},
   "outputs": [
    {
     "data": {
      "text/plain": [
       "(276119, 22)"
      ]
     },
     "execution_count": 31,
     "metadata": {},
     "output_type": "execute_result"
    }
   ],
   "source": [
    "lwk.shape"
   ]
  },
  {
   "cell_type": "code",
   "execution_count": 32,
   "id": "33c70ba9",
   "metadata": {},
   "outputs": [],
   "source": [
    "# Drop Route 122 rows from wk\n",
    "wk.drop(wk[wk['LINEID'] == '122'].index, inplace = True)"
   ]
  },
  {
   "cell_type": "code",
   "execution_count": 33,
   "id": "1f691a8b",
   "metadata": {},
   "outputs": [
    {
     "data": {
      "text/html": [
       "<div>\n",
       "<style scoped>\n",
       "    .dataframe tbody tr th:only-of-type {\n",
       "        vertical-align: middle;\n",
       "    }\n",
       "\n",
       "    .dataframe tbody tr th {\n",
       "        vertical-align: top;\n",
       "    }\n",
       "\n",
       "    .dataframe thead th {\n",
       "        text-align: right;\n",
       "    }\n",
       "</style>\n",
       "<table border=\"1\" class=\"dataframe\">\n",
       "  <thead>\n",
       "    <tr style=\"text-align: right;\">\n",
       "      <th></th>\n",
       "      <th>DAYOFSERVICE</th>\n",
       "      <th>TRIPID</th>\n",
       "      <th>PROGRNUMBER</th>\n",
       "      <th>STOPPOINTID</th>\n",
       "      <th>PLANNEDTIME_ARR</th>\n",
       "      <th>PLANNEDTIME_DEP</th>\n",
       "      <th>ACTUALTIME_ARR</th>\n",
       "      <th>ACTUALTIME_DEP</th>\n",
       "      <th>VEHICLEID</th>\n",
       "      <th>year</th>\n",
       "      <th>...</th>\n",
       "      <th>id</th>\n",
       "      <th>trip_leave_id</th>\n",
       "      <th>LINEID</th>\n",
       "      <th>num_lineID</th>\n",
       "      <th>DIRECTION</th>\n",
       "      <th>actual_duration</th>\n",
       "      <th>dayOfWeek</th>\n",
       "      <th>weekend</th>\n",
       "      <th>rushHour</th>\n",
       "      <th>actualARR_hour</th>\n",
       "    </tr>\n",
       "  </thead>\n",
       "  <tbody>\n",
       "    <tr>\n",
       "      <th>1874</th>\n",
       "      <td>2018-06-24</td>\n",
       "      <td>7110481</td>\n",
       "      <td>1</td>\n",
       "      <td>324</td>\n",
       "      <td>31800</td>\n",
       "      <td>31800</td>\n",
       "      <td>31800</td>\n",
       "      <td>31800</td>\n",
       "      <td>1000140</td>\n",
       "      <td>2018</td>\n",
       "      <td>...</td>\n",
       "      <td>20180624711048101</td>\n",
       "      <td>201806247110481</td>\n",
       "      <td>27B</td>\n",
       "      <td>46</td>\n",
       "      <td>2</td>\n",
       "      <td>2626</td>\n",
       "      <td>6</td>\n",
       "      <td>1</td>\n",
       "      <td>0</td>\n",
       "      <td>9</td>\n",
       "    </tr>\n",
       "    <tr>\n",
       "      <th>1875</th>\n",
       "      <td>2018-06-24</td>\n",
       "      <td>7110481</td>\n",
       "      <td>7</td>\n",
       "      <td>1634</td>\n",
       "      <td>32027</td>\n",
       "      <td>32027</td>\n",
       "      <td>32027</td>\n",
       "      <td>32027</td>\n",
       "      <td>1000140</td>\n",
       "      <td>2018</td>\n",
       "      <td>...</td>\n",
       "      <td>20180624711048107</td>\n",
       "      <td>201806247110481</td>\n",
       "      <td>27B</td>\n",
       "      <td>46</td>\n",
       "      <td>2</td>\n",
       "      <td>2626</td>\n",
       "      <td>6</td>\n",
       "      <td>1</td>\n",
       "      <td>0</td>\n",
       "      <td>9</td>\n",
       "    </tr>\n",
       "    <tr>\n",
       "      <th>1876</th>\n",
       "      <td>2018-06-24</td>\n",
       "      <td>7110481</td>\n",
       "      <td>8</td>\n",
       "      <td>1635</td>\n",
       "      <td>32061</td>\n",
       "      <td>32061</td>\n",
       "      <td>32061</td>\n",
       "      <td>32061</td>\n",
       "      <td>1000140</td>\n",
       "      <td>2018</td>\n",
       "      <td>...</td>\n",
       "      <td>20180624711048108</td>\n",
       "      <td>201806247110481</td>\n",
       "      <td>27B</td>\n",
       "      <td>46</td>\n",
       "      <td>2</td>\n",
       "      <td>2626</td>\n",
       "      <td>6</td>\n",
       "      <td>1</td>\n",
       "      <td>0</td>\n",
       "      <td>9</td>\n",
       "    </tr>\n",
       "    <tr>\n",
       "      <th>1877</th>\n",
       "      <td>2018-06-24</td>\n",
       "      <td>7110481</td>\n",
       "      <td>9</td>\n",
       "      <td>1636</td>\n",
       "      <td>32093</td>\n",
       "      <td>32093</td>\n",
       "      <td>32093</td>\n",
       "      <td>32093</td>\n",
       "      <td>1000140</td>\n",
       "      <td>2018</td>\n",
       "      <td>...</td>\n",
       "      <td>20180624711048109</td>\n",
       "      <td>201806247110481</td>\n",
       "      <td>27B</td>\n",
       "      <td>46</td>\n",
       "      <td>2</td>\n",
       "      <td>2626</td>\n",
       "      <td>6</td>\n",
       "      <td>1</td>\n",
       "      <td>0</td>\n",
       "      <td>9</td>\n",
       "    </tr>\n",
       "    <tr>\n",
       "      <th>1878</th>\n",
       "      <td>2018-06-24</td>\n",
       "      <td>7110481</td>\n",
       "      <td>10</td>\n",
       "      <td>1637</td>\n",
       "      <td>32153</td>\n",
       "      <td>32153</td>\n",
       "      <td>32153</td>\n",
       "      <td>32153</td>\n",
       "      <td>1000140</td>\n",
       "      <td>2018</td>\n",
       "      <td>...</td>\n",
       "      <td>20180624711048110</td>\n",
       "      <td>201806247110481</td>\n",
       "      <td>27B</td>\n",
       "      <td>46</td>\n",
       "      <td>2</td>\n",
       "      <td>2626</td>\n",
       "      <td>6</td>\n",
       "      <td>1</td>\n",
       "      <td>0</td>\n",
       "      <td>9</td>\n",
       "    </tr>\n",
       "  </tbody>\n",
       "</table>\n",
       "<p>5 rows × 22 columns</p>\n",
       "</div>"
      ],
      "text/plain": [
       "     DAYOFSERVICE   TRIPID  PROGRNUMBER  STOPPOINTID  PLANNEDTIME_ARR  \\\n",
       "1874   2018-06-24  7110481            1          324            31800   \n",
       "1875   2018-06-24  7110481            7         1634            32027   \n",
       "1876   2018-06-24  7110481            8         1635            32061   \n",
       "1877   2018-06-24  7110481            9         1636            32093   \n",
       "1878   2018-06-24  7110481           10         1637            32153   \n",
       "\n",
       "      PLANNEDTIME_DEP  ACTUALTIME_ARR  ACTUALTIME_DEP  VEHICLEID  year  ...  \\\n",
       "1874            31800           31800           31800    1000140  2018  ...   \n",
       "1875            32027           32027           32027    1000140  2018  ...   \n",
       "1876            32061           32061           32061    1000140  2018  ...   \n",
       "1877            32093           32093           32093    1000140  2018  ...   \n",
       "1878            32153           32153           32153    1000140  2018  ...   \n",
       "\n",
       "                     id    trip_leave_id  LINEID  num_lineID DIRECTION  \\\n",
       "1874  20180624711048101  201806247110481     27B          46         2   \n",
       "1875  20180624711048107  201806247110481     27B          46         2   \n",
       "1876  20180624711048108  201806247110481     27B          46         2   \n",
       "1877  20180624711048109  201806247110481     27B          46         2   \n",
       "1878  20180624711048110  201806247110481     27B          46         2   \n",
       "\n",
       "      actual_duration  dayOfWeek  weekend  rushHour  actualARR_hour  \n",
       "1874             2626          6        1         0               9  \n",
       "1875             2626          6        1         0               9  \n",
       "1876             2626          6        1         0               9  \n",
       "1877             2626          6        1         0               9  \n",
       "1878             2626          6        1         0               9  \n",
       "\n",
       "[5 rows x 22 columns]"
      ]
     },
     "execution_count": 33,
     "metadata": {},
     "output_type": "execute_result"
    }
   ],
   "source": [
    "wk.head()"
   ]
  },
  {
   "cell_type": "code",
   "execution_count": 34,
   "id": "c35ec0ec",
   "metadata": {},
   "outputs": [
    {
     "data": {
      "text/plain": [
       "(17356798, 22)"
      ]
     },
     "execution_count": 34,
     "metadata": {},
     "output_type": "execute_result"
    }
   ],
   "source": [
    "wk.shape"
   ]
  },
  {
   "cell_type": "markdown",
   "id": "685da73e",
   "metadata": {},
   "source": [
    "<h3>Send to CSV</h3>"
   ]
  },
  {
   "cell_type": "code",
   "execution_count": 35,
   "id": "dd78bfed",
   "metadata": {},
   "outputs": [],
   "source": [
    "# Send df to csv:\n",
    "lwk.to_csv('v5_122_tripLeave4_sp0.csv', index=False)"
   ]
  },
  {
   "cell_type": "markdown",
   "id": "ddc44d2d",
   "metadata": {},
   "source": [
    "## Route 27B"
   ]
  },
  {
   "cell_type": "code",
   "execution_count": 36,
   "id": "d2bb632a",
   "metadata": {},
   "outputs": [],
   "source": [
    "lwk = wk[(wk['LINEID'] == '27B')]"
   ]
  },
  {
   "cell_type": "code",
   "execution_count": 37,
   "id": "1cb949d1",
   "metadata": {},
   "outputs": [
    {
     "data": {
      "text/plain": [
       "(235207, 22)"
      ]
     },
     "execution_count": 37,
     "metadata": {},
     "output_type": "execute_result"
    }
   ],
   "source": [
    "lwk.shape"
   ]
  },
  {
   "cell_type": "code",
   "execution_count": 38,
   "id": "88e0198c",
   "metadata": {},
   "outputs": [],
   "source": [
    "# Drop Route 27B rows from wk\n",
    "wk.drop(wk[wk['LINEID'] == '27B'].index, inplace = True)"
   ]
  },
  {
   "cell_type": "code",
   "execution_count": 39,
   "id": "4a47bd51",
   "metadata": {},
   "outputs": [
    {
     "data": {
      "text/html": [
       "<div>\n",
       "<style scoped>\n",
       "    .dataframe tbody tr th:only-of-type {\n",
       "        vertical-align: middle;\n",
       "    }\n",
       "\n",
       "    .dataframe tbody tr th {\n",
       "        vertical-align: top;\n",
       "    }\n",
       "\n",
       "    .dataframe thead th {\n",
       "        text-align: right;\n",
       "    }\n",
       "</style>\n",
       "<table border=\"1\" class=\"dataframe\">\n",
       "  <thead>\n",
       "    <tr style=\"text-align: right;\">\n",
       "      <th></th>\n",
       "      <th>DAYOFSERVICE</th>\n",
       "      <th>TRIPID</th>\n",
       "      <th>PROGRNUMBER</th>\n",
       "      <th>STOPPOINTID</th>\n",
       "      <th>PLANNEDTIME_ARR</th>\n",
       "      <th>PLANNEDTIME_DEP</th>\n",
       "      <th>ACTUALTIME_ARR</th>\n",
       "      <th>ACTUALTIME_DEP</th>\n",
       "      <th>VEHICLEID</th>\n",
       "      <th>year</th>\n",
       "      <th>...</th>\n",
       "      <th>id</th>\n",
       "      <th>trip_leave_id</th>\n",
       "      <th>LINEID</th>\n",
       "      <th>num_lineID</th>\n",
       "      <th>DIRECTION</th>\n",
       "      <th>actual_duration</th>\n",
       "      <th>dayOfWeek</th>\n",
       "      <th>weekend</th>\n",
       "      <th>rushHour</th>\n",
       "      <th>actualARR_hour</th>\n",
       "    </tr>\n",
       "  </thead>\n",
       "  <tbody>\n",
       "    <tr>\n",
       "      <th>2566</th>\n",
       "      <td>2018-06-24</td>\n",
       "      <td>7110517</td>\n",
       "      <td>1</td>\n",
       "      <td>7132</td>\n",
       "      <td>47700</td>\n",
       "      <td>47700</td>\n",
       "      <td>47700</td>\n",
       "      <td>47700</td>\n",
       "      <td>2868324</td>\n",
       "      <td>2018</td>\n",
       "      <td>...</td>\n",
       "      <td>20180624711051701</td>\n",
       "      <td>201806247110517</td>\n",
       "      <td>9</td>\n",
       "      <td>129</td>\n",
       "      <td>1</td>\n",
       "      <td>3385</td>\n",
       "      <td>6</td>\n",
       "      <td>1</td>\n",
       "      <td>0</td>\n",
       "      <td>13</td>\n",
       "    </tr>\n",
       "    <tr>\n",
       "      <th>2567</th>\n",
       "      <td>2018-06-24</td>\n",
       "      <td>7110517</td>\n",
       "      <td>2</td>\n",
       "      <td>6230</td>\n",
       "      <td>47776</td>\n",
       "      <td>47776</td>\n",
       "      <td>47776</td>\n",
       "      <td>47776</td>\n",
       "      <td>2868324</td>\n",
       "      <td>2018</td>\n",
       "      <td>...</td>\n",
       "      <td>20180624711051702</td>\n",
       "      <td>201806247110517</td>\n",
       "      <td>9</td>\n",
       "      <td>129</td>\n",
       "      <td>1</td>\n",
       "      <td>3385</td>\n",
       "      <td>6</td>\n",
       "      <td>1</td>\n",
       "      <td>0</td>\n",
       "      <td>13</td>\n",
       "    </tr>\n",
       "    <tr>\n",
       "      <th>2568</th>\n",
       "      <td>2018-06-24</td>\n",
       "      <td>7110517</td>\n",
       "      <td>3</td>\n",
       "      <td>6228</td>\n",
       "      <td>47823</td>\n",
       "      <td>47823</td>\n",
       "      <td>47823</td>\n",
       "      <td>47823</td>\n",
       "      <td>2868324</td>\n",
       "      <td>2018</td>\n",
       "      <td>...</td>\n",
       "      <td>20180624711051703</td>\n",
       "      <td>201806247110517</td>\n",
       "      <td>9</td>\n",
       "      <td>129</td>\n",
       "      <td>1</td>\n",
       "      <td>3385</td>\n",
       "      <td>6</td>\n",
       "      <td>1</td>\n",
       "      <td>0</td>\n",
       "      <td>13</td>\n",
       "    </tr>\n",
       "    <tr>\n",
       "      <th>2569</th>\n",
       "      <td>2018-06-24</td>\n",
       "      <td>7110517</td>\n",
       "      <td>4</td>\n",
       "      <td>4788</td>\n",
       "      <td>47884</td>\n",
       "      <td>47884</td>\n",
       "      <td>47884</td>\n",
       "      <td>47884</td>\n",
       "      <td>2868324</td>\n",
       "      <td>2018</td>\n",
       "      <td>...</td>\n",
       "      <td>20180624711051704</td>\n",
       "      <td>201806247110517</td>\n",
       "      <td>9</td>\n",
       "      <td>129</td>\n",
       "      <td>1</td>\n",
       "      <td>3385</td>\n",
       "      <td>6</td>\n",
       "      <td>1</td>\n",
       "      <td>0</td>\n",
       "      <td>13</td>\n",
       "    </tr>\n",
       "    <tr>\n",
       "      <th>2570</th>\n",
       "      <td>2018-06-24</td>\n",
       "      <td>7110517</td>\n",
       "      <td>5</td>\n",
       "      <td>6273</td>\n",
       "      <td>47932</td>\n",
       "      <td>47932</td>\n",
       "      <td>47932</td>\n",
       "      <td>47932</td>\n",
       "      <td>2868324</td>\n",
       "      <td>2018</td>\n",
       "      <td>...</td>\n",
       "      <td>20180624711051705</td>\n",
       "      <td>201806247110517</td>\n",
       "      <td>9</td>\n",
       "      <td>129</td>\n",
       "      <td>1</td>\n",
       "      <td>3385</td>\n",
       "      <td>6</td>\n",
       "      <td>1</td>\n",
       "      <td>0</td>\n",
       "      <td>13</td>\n",
       "    </tr>\n",
       "  </tbody>\n",
       "</table>\n",
       "<p>5 rows × 22 columns</p>\n",
       "</div>"
      ],
      "text/plain": [
       "     DAYOFSERVICE   TRIPID  PROGRNUMBER  STOPPOINTID  PLANNEDTIME_ARR  \\\n",
       "2566   2018-06-24  7110517            1         7132            47700   \n",
       "2567   2018-06-24  7110517            2         6230            47776   \n",
       "2568   2018-06-24  7110517            3         6228            47823   \n",
       "2569   2018-06-24  7110517            4         4788            47884   \n",
       "2570   2018-06-24  7110517            5         6273            47932   \n",
       "\n",
       "      PLANNEDTIME_DEP  ACTUALTIME_ARR  ACTUALTIME_DEP  VEHICLEID  year  ...  \\\n",
       "2566            47700           47700           47700    2868324  2018  ...   \n",
       "2567            47776           47776           47776    2868324  2018  ...   \n",
       "2568            47823           47823           47823    2868324  2018  ...   \n",
       "2569            47884           47884           47884    2868324  2018  ...   \n",
       "2570            47932           47932           47932    2868324  2018  ...   \n",
       "\n",
       "                     id    trip_leave_id  LINEID  num_lineID DIRECTION  \\\n",
       "2566  20180624711051701  201806247110517       9         129         1   \n",
       "2567  20180624711051702  201806247110517       9         129         1   \n",
       "2568  20180624711051703  201806247110517       9         129         1   \n",
       "2569  20180624711051704  201806247110517       9         129         1   \n",
       "2570  20180624711051705  201806247110517       9         129         1   \n",
       "\n",
       "      actual_duration  dayOfWeek  weekend  rushHour  actualARR_hour  \n",
       "2566             3385          6        1         0              13  \n",
       "2567             3385          6        1         0              13  \n",
       "2568             3385          6        1         0              13  \n",
       "2569             3385          6        1         0              13  \n",
       "2570             3385          6        1         0              13  \n",
       "\n",
       "[5 rows x 22 columns]"
      ]
     },
     "execution_count": 39,
     "metadata": {},
     "output_type": "execute_result"
    }
   ],
   "source": [
    "wk.head()"
   ]
  },
  {
   "cell_type": "code",
   "execution_count": 40,
   "id": "44146de7",
   "metadata": {},
   "outputs": [
    {
     "data": {
      "text/plain": [
       "(17121591, 22)"
      ]
     },
     "execution_count": 40,
     "metadata": {},
     "output_type": "execute_result"
    }
   ],
   "source": [
    "wk.shape"
   ]
  },
  {
   "cell_type": "markdown",
   "id": "f4db1506",
   "metadata": {},
   "source": [
    "<h3>Send to CSV</h3>"
   ]
  },
  {
   "cell_type": "code",
   "execution_count": 41,
   "id": "f9d1bb21",
   "metadata": {},
   "outputs": [],
   "source": [
    "# Send df to csv:\n",
    "lwk.to_csv('v5_27B_tripLeave4_sp0.csv', index=False)"
   ]
  },
  {
   "cell_type": "markdown",
   "id": "b913e4b2",
   "metadata": {},
   "source": [
    "## Route 9"
   ]
  },
  {
   "cell_type": "code",
   "execution_count": 42,
   "id": "e3ba99bd",
   "metadata": {},
   "outputs": [],
   "source": [
    "lwk = wk[(wk['LINEID'] == '9')]"
   ]
  },
  {
   "cell_type": "code",
   "execution_count": 43,
   "id": "cc2aaa02",
   "metadata": {},
   "outputs": [
    {
     "data": {
      "text/plain": [
       "(417551, 22)"
      ]
     },
     "execution_count": 43,
     "metadata": {},
     "output_type": "execute_result"
    }
   ],
   "source": [
    "lwk.shape"
   ]
  },
  {
   "cell_type": "code",
   "execution_count": 44,
   "id": "fb12ec53",
   "metadata": {},
   "outputs": [],
   "source": [
    "# Drop Route 9 rows from wk\n",
    "wk.drop(wk[wk['LINEID'] == '9'].index, inplace = True)"
   ]
  },
  {
   "cell_type": "code",
   "execution_count": 45,
   "id": "c9ebba86",
   "metadata": {},
   "outputs": [
    {
     "data": {
      "text/html": [
       "<div>\n",
       "<style scoped>\n",
       "    .dataframe tbody tr th:only-of-type {\n",
       "        vertical-align: middle;\n",
       "    }\n",
       "\n",
       "    .dataframe tbody tr th {\n",
       "        vertical-align: top;\n",
       "    }\n",
       "\n",
       "    .dataframe thead th {\n",
       "        text-align: right;\n",
       "    }\n",
       "</style>\n",
       "<table border=\"1\" class=\"dataframe\">\n",
       "  <thead>\n",
       "    <tr style=\"text-align: right;\">\n",
       "      <th></th>\n",
       "      <th>DAYOFSERVICE</th>\n",
       "      <th>TRIPID</th>\n",
       "      <th>PROGRNUMBER</th>\n",
       "      <th>STOPPOINTID</th>\n",
       "      <th>PLANNEDTIME_ARR</th>\n",
       "      <th>PLANNEDTIME_DEP</th>\n",
       "      <th>ACTUALTIME_ARR</th>\n",
       "      <th>ACTUALTIME_DEP</th>\n",
       "      <th>VEHICLEID</th>\n",
       "      <th>year</th>\n",
       "      <th>...</th>\n",
       "      <th>id</th>\n",
       "      <th>trip_leave_id</th>\n",
       "      <th>LINEID</th>\n",
       "      <th>num_lineID</th>\n",
       "      <th>DIRECTION</th>\n",
       "      <th>actual_duration</th>\n",
       "      <th>dayOfWeek</th>\n",
       "      <th>weekend</th>\n",
       "      <th>rushHour</th>\n",
       "      <th>actualARR_hour</th>\n",
       "    </tr>\n",
       "  </thead>\n",
       "  <tbody>\n",
       "    <tr>\n",
       "      <th>2900</th>\n",
       "      <td>2018-06-24</td>\n",
       "      <td>7110522</td>\n",
       "      <td>1</td>\n",
       "      <td>7662</td>\n",
       "      <td>34200</td>\n",
       "      <td>34200</td>\n",
       "      <td>34200</td>\n",
       "      <td>34200</td>\n",
       "      <td>2868385</td>\n",
       "      <td>2018</td>\n",
       "      <td>...</td>\n",
       "      <td>20180624711052201</td>\n",
       "      <td>201806247110522</td>\n",
       "      <td>47</td>\n",
       "      <td>88</td>\n",
       "      <td>1</td>\n",
       "      <td>2306</td>\n",
       "      <td>6</td>\n",
       "      <td>1</td>\n",
       "      <td>0</td>\n",
       "      <td>10</td>\n",
       "    </tr>\n",
       "    <tr>\n",
       "      <th>2901</th>\n",
       "      <td>2018-06-24</td>\n",
       "      <td>7110522</td>\n",
       "      <td>2</td>\n",
       "      <td>7564</td>\n",
       "      <td>34281</td>\n",
       "      <td>34281</td>\n",
       "      <td>34281</td>\n",
       "      <td>34281</td>\n",
       "      <td>2868385</td>\n",
       "      <td>2018</td>\n",
       "      <td>...</td>\n",
       "      <td>20180624711052202</td>\n",
       "      <td>201806247110522</td>\n",
       "      <td>47</td>\n",
       "      <td>88</td>\n",
       "      <td>1</td>\n",
       "      <td>2306</td>\n",
       "      <td>6</td>\n",
       "      <td>1</td>\n",
       "      <td>0</td>\n",
       "      <td>10</td>\n",
       "    </tr>\n",
       "    <tr>\n",
       "      <th>2902</th>\n",
       "      <td>2018-06-24</td>\n",
       "      <td>7110522</td>\n",
       "      <td>3</td>\n",
       "      <td>340</td>\n",
       "      <td>34362</td>\n",
       "      <td>34362</td>\n",
       "      <td>34362</td>\n",
       "      <td>34362</td>\n",
       "      <td>2868385</td>\n",
       "      <td>2018</td>\n",
       "      <td>...</td>\n",
       "      <td>20180624711052203</td>\n",
       "      <td>201806247110522</td>\n",
       "      <td>47</td>\n",
       "      <td>88</td>\n",
       "      <td>1</td>\n",
       "      <td>2306</td>\n",
       "      <td>6</td>\n",
       "      <td>1</td>\n",
       "      <td>0</td>\n",
       "      <td>10</td>\n",
       "    </tr>\n",
       "    <tr>\n",
       "      <th>2903</th>\n",
       "      <td>2018-06-24</td>\n",
       "      <td>7110522</td>\n",
       "      <td>4</td>\n",
       "      <td>350</td>\n",
       "      <td>34442</td>\n",
       "      <td>34442</td>\n",
       "      <td>34442</td>\n",
       "      <td>34442</td>\n",
       "      <td>2868385</td>\n",
       "      <td>2018</td>\n",
       "      <td>...</td>\n",
       "      <td>20180624711052204</td>\n",
       "      <td>201806247110522</td>\n",
       "      <td>47</td>\n",
       "      <td>88</td>\n",
       "      <td>1</td>\n",
       "      <td>2306</td>\n",
       "      <td>6</td>\n",
       "      <td>1</td>\n",
       "      <td>0</td>\n",
       "      <td>10</td>\n",
       "    </tr>\n",
       "    <tr>\n",
       "      <th>2904</th>\n",
       "      <td>2018-06-24</td>\n",
       "      <td>7110522</td>\n",
       "      <td>5</td>\n",
       "      <td>351</td>\n",
       "      <td>34525</td>\n",
       "      <td>34525</td>\n",
       "      <td>34525</td>\n",
       "      <td>34525</td>\n",
       "      <td>2868385</td>\n",
       "      <td>2018</td>\n",
       "      <td>...</td>\n",
       "      <td>20180624711052205</td>\n",
       "      <td>201806247110522</td>\n",
       "      <td>47</td>\n",
       "      <td>88</td>\n",
       "      <td>1</td>\n",
       "      <td>2306</td>\n",
       "      <td>6</td>\n",
       "      <td>1</td>\n",
       "      <td>0</td>\n",
       "      <td>10</td>\n",
       "    </tr>\n",
       "  </tbody>\n",
       "</table>\n",
       "<p>5 rows × 22 columns</p>\n",
       "</div>"
      ],
      "text/plain": [
       "     DAYOFSERVICE   TRIPID  PROGRNUMBER  STOPPOINTID  PLANNEDTIME_ARR  \\\n",
       "2900   2018-06-24  7110522            1         7662            34200   \n",
       "2901   2018-06-24  7110522            2         7564            34281   \n",
       "2902   2018-06-24  7110522            3          340            34362   \n",
       "2903   2018-06-24  7110522            4          350            34442   \n",
       "2904   2018-06-24  7110522            5          351            34525   \n",
       "\n",
       "      PLANNEDTIME_DEP  ACTUALTIME_ARR  ACTUALTIME_DEP  VEHICLEID  year  ...  \\\n",
       "2900            34200           34200           34200    2868385  2018  ...   \n",
       "2901            34281           34281           34281    2868385  2018  ...   \n",
       "2902            34362           34362           34362    2868385  2018  ...   \n",
       "2903            34442           34442           34442    2868385  2018  ...   \n",
       "2904            34525           34525           34525    2868385  2018  ...   \n",
       "\n",
       "                     id    trip_leave_id  LINEID  num_lineID DIRECTION  \\\n",
       "2900  20180624711052201  201806247110522      47          88         1   \n",
       "2901  20180624711052202  201806247110522      47          88         1   \n",
       "2902  20180624711052203  201806247110522      47          88         1   \n",
       "2903  20180624711052204  201806247110522      47          88         1   \n",
       "2904  20180624711052205  201806247110522      47          88         1   \n",
       "\n",
       "      actual_duration  dayOfWeek  weekend  rushHour  actualARR_hour  \n",
       "2900             2306          6        1         0              10  \n",
       "2901             2306          6        1         0              10  \n",
       "2902             2306          6        1         0              10  \n",
       "2903             2306          6        1         0              10  \n",
       "2904             2306          6        1         0              10  \n",
       "\n",
       "[5 rows x 22 columns]"
      ]
     },
     "execution_count": 45,
     "metadata": {},
     "output_type": "execute_result"
    }
   ],
   "source": [
    "wk.head()"
   ]
  },
  {
   "cell_type": "code",
   "execution_count": 46,
   "id": "bea2aa18",
   "metadata": {},
   "outputs": [
    {
     "data": {
      "text/plain": [
       "(16704040, 22)"
      ]
     },
     "execution_count": 46,
     "metadata": {},
     "output_type": "execute_result"
    }
   ],
   "source": [
    "wk.shape"
   ]
  },
  {
   "cell_type": "markdown",
   "id": "33ec1520",
   "metadata": {},
   "source": [
    "<h3>Send to CSV</h3>"
   ]
  },
  {
   "cell_type": "code",
   "execution_count": 47,
   "id": "c0c1ae21",
   "metadata": {},
   "outputs": [],
   "source": [
    "# Send df to csv:\n",
    "lwk.to_csv('v5_9_tripLeave4_sp0.csv', index=False)"
   ]
  },
  {
   "cell_type": "markdown",
   "id": "e082232a",
   "metadata": {},
   "source": [
    "## Continue v5_tripLeave4_route_split_1"
   ]
  },
  {
   "cell_type": "code",
   "execution_count": 48,
   "id": "647c1774",
   "metadata": {},
   "outputs": [],
   "source": [
    "# Send df to csv:\n",
    "wk.to_csv('v5_tripLeave4_route_split_1.csv', index=False)"
   ]
  },
  {
   "cell_type": "code",
   "execution_count": null,
   "id": "c4a5925f",
   "metadata": {},
   "outputs": [],
   "source": []
  }
 ],
 "metadata": {
  "kernelspec": {
   "display_name": "Python 3 (ipykernel)",
   "language": "python",
   "name": "python3"
  },
  "language_info": {
   "codemirror_mode": {
    "name": "ipython",
    "version": 3
   },
   "file_extension": ".py",
   "mimetype": "text/x-python",
   "name": "python",
   "nbconvert_exporter": "python",
   "pygments_lexer": "ipython3",
   "version": "3.10.4"
  }
 },
 "nbformat": 4,
 "nbformat_minor": 5
}
