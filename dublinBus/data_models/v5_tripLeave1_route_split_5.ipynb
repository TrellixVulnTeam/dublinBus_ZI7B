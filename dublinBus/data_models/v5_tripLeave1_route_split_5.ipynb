{
 "cells": [
  {
   "cell_type": "code",
   "execution_count": 1,
   "id": "29f878e6",
   "metadata": {},
   "outputs": [],
   "source": [
    "# Library Imports.\n",
    "import pandas as pd\n",
    "\n",
    "import numpy as np"
   ]
  },
  {
   "cell_type": "code",
   "execution_count": 2,
   "id": "12abaae1",
   "metadata": {},
   "outputs": [],
   "source": [
    "# Read tripleave1 route split 5 CSV file into Data Frame:\n",
    "wk = pd.read_csv('v5_tripLeave1_route_split_5.csv', keep_default_na=True, delimiter=',', skipinitialspace=True)"
   ]
  },
  {
   "cell_type": "code",
   "execution_count": 3,
   "id": "5dda47a0",
   "metadata": {},
   "outputs": [
    {
     "data": {
      "text/plain": [
       "(7133387, 22)"
      ]
     },
     "execution_count": 3,
     "metadata": {},
     "output_type": "execute_result"
    }
   ],
   "source": [
    "wk.shape"
   ]
  },
  {
   "cell_type": "code",
   "execution_count": 4,
   "id": "c0c029ad",
   "metadata": {},
   "outputs": [
    {
     "data": {
      "text/html": [
       "<div>\n",
       "<style scoped>\n",
       "    .dataframe tbody tr th:only-of-type {\n",
       "        vertical-align: middle;\n",
       "    }\n",
       "\n",
       "    .dataframe tbody tr th {\n",
       "        vertical-align: top;\n",
       "    }\n",
       "\n",
       "    .dataframe thead th {\n",
       "        text-align: right;\n",
       "    }\n",
       "</style>\n",
       "<table border=\"1\" class=\"dataframe\">\n",
       "  <thead>\n",
       "    <tr style=\"text-align: right;\">\n",
       "      <th></th>\n",
       "      <th>DAYOFSERVICE</th>\n",
       "      <th>TRIPID</th>\n",
       "      <th>PROGRNUMBER</th>\n",
       "      <th>STOPPOINTID</th>\n",
       "      <th>PLANNEDTIME_ARR</th>\n",
       "      <th>PLANNEDTIME_DEP</th>\n",
       "      <th>ACTUALTIME_ARR</th>\n",
       "      <th>ACTUALTIME_DEP</th>\n",
       "      <th>VEHICLEID</th>\n",
       "      <th>year</th>\n",
       "      <th>...</th>\n",
       "      <th>id</th>\n",
       "      <th>trip_leave_id</th>\n",
       "      <th>LINEID</th>\n",
       "      <th>num_lineID</th>\n",
       "      <th>DIRECTION</th>\n",
       "      <th>actual_duration</th>\n",
       "      <th>dayOfWeek</th>\n",
       "      <th>weekend</th>\n",
       "      <th>rushHour</th>\n",
       "      <th>actualARR_hour</th>\n",
       "    </tr>\n",
       "  </thead>\n",
       "  <tbody>\n",
       "    <tr>\n",
       "      <th>0</th>\n",
       "      <td>2018-01-01</td>\n",
       "      <td>5957533</td>\n",
       "      <td>1</td>\n",
       "      <td>7591</td>\n",
       "      <td>37200</td>\n",
       "      <td>37200</td>\n",
       "      <td>37200</td>\n",
       "      <td>37200</td>\n",
       "      <td>1001072</td>\n",
       "      <td>2018</td>\n",
       "      <td>...</td>\n",
       "      <td>20180101595753301</td>\n",
       "      <td>201801015957533</td>\n",
       "      <td>130</td>\n",
       "      <td>12</td>\n",
       "      <td>1</td>\n",
       "      <td>1429</td>\n",
       "      <td>0</td>\n",
       "      <td>0</td>\n",
       "      <td>0</td>\n",
       "      <td>10</td>\n",
       "    </tr>\n",
       "    <tr>\n",
       "      <th>1</th>\n",
       "      <td>2018-01-01</td>\n",
       "      <td>5957533</td>\n",
       "      <td>3</td>\n",
       "      <td>496</td>\n",
       "      <td>37300</td>\n",
       "      <td>37300</td>\n",
       "      <td>37300</td>\n",
       "      <td>37300</td>\n",
       "      <td>1001072</td>\n",
       "      <td>2018</td>\n",
       "      <td>...</td>\n",
       "      <td>20180101595753303</td>\n",
       "      <td>201801015957533</td>\n",
       "      <td>130</td>\n",
       "      <td>12</td>\n",
       "      <td>1</td>\n",
       "      <td>1429</td>\n",
       "      <td>0</td>\n",
       "      <td>0</td>\n",
       "      <td>0</td>\n",
       "      <td>10</td>\n",
       "    </tr>\n",
       "    <tr>\n",
       "      <th>2</th>\n",
       "      <td>2018-01-01</td>\n",
       "      <td>5957533</td>\n",
       "      <td>4</td>\n",
       "      <td>7490</td>\n",
       "      <td>37317</td>\n",
       "      <td>37317</td>\n",
       "      <td>37317</td>\n",
       "      <td>37317</td>\n",
       "      <td>1001072</td>\n",
       "      <td>2018</td>\n",
       "      <td>...</td>\n",
       "      <td>20180101595753304</td>\n",
       "      <td>201801015957533</td>\n",
       "      <td>130</td>\n",
       "      <td>12</td>\n",
       "      <td>1</td>\n",
       "      <td>1429</td>\n",
       "      <td>0</td>\n",
       "      <td>0</td>\n",
       "      <td>0</td>\n",
       "      <td>10</td>\n",
       "    </tr>\n",
       "    <tr>\n",
       "      <th>3</th>\n",
       "      <td>2018-01-01</td>\n",
       "      <td>5957533</td>\n",
       "      <td>5</td>\n",
       "      <td>515</td>\n",
       "      <td>37394</td>\n",
       "      <td>37394</td>\n",
       "      <td>37394</td>\n",
       "      <td>37394</td>\n",
       "      <td>1001072</td>\n",
       "      <td>2018</td>\n",
       "      <td>...</td>\n",
       "      <td>20180101595753305</td>\n",
       "      <td>201801015957533</td>\n",
       "      <td>130</td>\n",
       "      <td>12</td>\n",
       "      <td>1</td>\n",
       "      <td>1429</td>\n",
       "      <td>0</td>\n",
       "      <td>0</td>\n",
       "      <td>0</td>\n",
       "      <td>10</td>\n",
       "    </tr>\n",
       "    <tr>\n",
       "      <th>4</th>\n",
       "      <td>2018-01-01</td>\n",
       "      <td>5957533</td>\n",
       "      <td>6</td>\n",
       "      <td>516</td>\n",
       "      <td>37439</td>\n",
       "      <td>37439</td>\n",
       "      <td>37439</td>\n",
       "      <td>37439</td>\n",
       "      <td>1001072</td>\n",
       "      <td>2018</td>\n",
       "      <td>...</td>\n",
       "      <td>20180101595753306</td>\n",
       "      <td>201801015957533</td>\n",
       "      <td>130</td>\n",
       "      <td>12</td>\n",
       "      <td>1</td>\n",
       "      <td>1429</td>\n",
       "      <td>0</td>\n",
       "      <td>0</td>\n",
       "      <td>0</td>\n",
       "      <td>10</td>\n",
       "    </tr>\n",
       "  </tbody>\n",
       "</table>\n",
       "<p>5 rows × 22 columns</p>\n",
       "</div>"
      ],
      "text/plain": [
       "  DAYOFSERVICE   TRIPID  PROGRNUMBER  STOPPOINTID  PLANNEDTIME_ARR  \\\n",
       "0   2018-01-01  5957533            1         7591            37200   \n",
       "1   2018-01-01  5957533            3          496            37300   \n",
       "2   2018-01-01  5957533            4         7490            37317   \n",
       "3   2018-01-01  5957533            5          515            37394   \n",
       "4   2018-01-01  5957533            6          516            37439   \n",
       "\n",
       "   PLANNEDTIME_DEP  ACTUALTIME_ARR  ACTUALTIME_DEP  VEHICLEID  year  ...  \\\n",
       "0            37200           37200           37200    1001072  2018  ...   \n",
       "1            37300           37300           37300    1001072  2018  ...   \n",
       "2            37317           37317           37317    1001072  2018  ...   \n",
       "3            37394           37394           37394    1001072  2018  ...   \n",
       "4            37439           37439           37439    1001072  2018  ...   \n",
       "\n",
       "                  id    trip_leave_id  LINEID  num_lineID DIRECTION  \\\n",
       "0  20180101595753301  201801015957533     130          12         1   \n",
       "1  20180101595753303  201801015957533     130          12         1   \n",
       "2  20180101595753304  201801015957533     130          12         1   \n",
       "3  20180101595753305  201801015957533     130          12         1   \n",
       "4  20180101595753306  201801015957533     130          12         1   \n",
       "\n",
       "   actual_duration  dayOfWeek  weekend  rushHour  actualARR_hour  \n",
       "0             1429          0        0         0              10  \n",
       "1             1429          0        0         0              10  \n",
       "2             1429          0        0         0              10  \n",
       "3             1429          0        0         0              10  \n",
       "4             1429          0        0         0              10  \n",
       "\n",
       "[5 rows x 22 columns]"
      ]
     },
     "execution_count": 4,
     "metadata": {},
     "output_type": "execute_result"
    }
   ],
   "source": [
    "wk.head()"
   ]
  },
  {
   "cell_type": "code",
   "execution_count": 5,
   "id": "4878f708",
   "metadata": {},
   "outputs": [
    {
     "data": {
      "text/plain": [
       "DAYOFSERVICE       object\n",
       "TRIPID              int64\n",
       "PROGRNUMBER         int64\n",
       "STOPPOINTID         int64\n",
       "PLANNEDTIME_ARR     int64\n",
       "PLANNEDTIME_DEP     int64\n",
       "ACTUALTIME_ARR      int64\n",
       "ACTUALTIME_DEP      int64\n",
       "VEHICLEID           int64\n",
       "year                int64\n",
       "month               int64\n",
       "day                 int64\n",
       "id                  int64\n",
       "trip_leave_id       int64\n",
       "LINEID             object\n",
       "num_lineID          int64\n",
       "DIRECTION           int64\n",
       "actual_duration     int64\n",
       "dayOfWeek           int64\n",
       "weekend             int64\n",
       "rushHour            int64\n",
       "actualARR_hour      int64\n",
       "dtype: object"
      ]
     },
     "execution_count": 5,
     "metadata": {},
     "output_type": "execute_result"
    }
   ],
   "source": [
    "wk.dtypes"
   ]
  },
  {
   "cell_type": "markdown",
   "id": "81073090",
   "metadata": {},
   "source": [
    "## Datatype Changes"
   ]
  },
  {
   "cell_type": "code",
   "execution_count": 6,
   "id": "75954e98",
   "metadata": {},
   "outputs": [],
   "source": [
    "wk['num_lineID'] = wk['num_lineID'].astype('int16')\n",
    "wk['DIRECTION'] = wk['DIRECTION'].astype('int16')"
   ]
  },
  {
   "cell_type": "code",
   "execution_count": 7,
   "id": "81d272e5",
   "metadata": {},
   "outputs": [],
   "source": [
    "wk['actual_duration'] = wk['actual_duration'].astype('int64')\n",
    "wk['dayOfWeek'] = wk['dayOfWeek'].astype('int16')"
   ]
  },
  {
   "cell_type": "code",
   "execution_count": 8,
   "id": "8267e3dc",
   "metadata": {},
   "outputs": [],
   "source": [
    "wk['weekend'] = wk['weekend'].astype('int16')\n",
    "wk['rushHour'] = wk['rushHour'].astype('int16')"
   ]
  },
  {
   "cell_type": "code",
   "execution_count": null,
   "id": "604f0107",
   "metadata": {},
   "outputs": [],
   "source": [
    "wk.head()"
   ]
  },
  {
   "cell_type": "code",
   "execution_count": null,
   "id": "645ff86a",
   "metadata": {},
   "outputs": [],
   "source": [
    "wk.dtypes"
   ]
  },
  {
   "cell_type": "markdown",
   "id": "86d6d334",
   "metadata": {},
   "source": [
    "## Route 130"
   ]
  },
  {
   "cell_type": "code",
   "execution_count": 9,
   "id": "01b378cc",
   "metadata": {},
   "outputs": [],
   "source": [
    "lwk = wk[(wk['LINEID'] == '130')]"
   ]
  },
  {
   "cell_type": "code",
   "execution_count": 10,
   "id": "5ae677fe",
   "metadata": {},
   "outputs": [
    {
     "data": {
      "text/plain": [
       "(308848, 22)"
      ]
     },
     "execution_count": 10,
     "metadata": {},
     "output_type": "execute_result"
    }
   ],
   "source": [
    "lwk.shape"
   ]
  },
  {
   "cell_type": "code",
   "execution_count": 11,
   "id": "eb268b7e",
   "metadata": {},
   "outputs": [],
   "source": [
    "# Drop Route 130 rows from wk\n",
    "wk.drop(wk[wk['LINEID'] == '130'].index, inplace = True)"
   ]
  },
  {
   "cell_type": "code",
   "execution_count": null,
   "id": "cdb83698",
   "metadata": {},
   "outputs": [],
   "source": [
    "wk.head()"
   ]
  },
  {
   "cell_type": "code",
   "execution_count": null,
   "id": "f85f5650",
   "metadata": {},
   "outputs": [],
   "source": [
    "wk.shape"
   ]
  },
  {
   "cell_type": "markdown",
   "id": "f36c2173",
   "metadata": {},
   "source": [
    "<h3>Send to CSV</h3>"
   ]
  },
  {
   "cell_type": "code",
   "execution_count": null,
   "id": "4fcd4689",
   "metadata": {},
   "outputs": [],
   "source": [
    "# Send df to csv:\n",
    "lwk.to_csv('v5_130_tripLeave1_sp5.csv', index=False)"
   ]
  },
  {
   "cell_type": "markdown",
   "id": "02f3d83e",
   "metadata": {},
   "source": [
    "## Route 270"
   ]
  },
  {
   "cell_type": "code",
   "execution_count": 12,
   "id": "b91914a8",
   "metadata": {},
   "outputs": [],
   "source": [
    "lwk = wk[(wk['LINEID'] == '270')]"
   ]
  },
  {
   "cell_type": "code",
   "execution_count": 13,
   "id": "697f3295",
   "metadata": {},
   "outputs": [
    {
     "data": {
      "text/plain": [
       "(31782, 22)"
      ]
     },
     "execution_count": 13,
     "metadata": {},
     "output_type": "execute_result"
    }
   ],
   "source": [
    "lwk.shape"
   ]
  },
  {
   "cell_type": "code",
   "execution_count": 14,
   "id": "d4360a64",
   "metadata": {},
   "outputs": [],
   "source": [
    "# Drop Route 270 rows from wk\n",
    "wk.drop(wk[wk['LINEID'] == '270'].index, inplace = True)"
   ]
  },
  {
   "cell_type": "code",
   "execution_count": null,
   "id": "942c64b0",
   "metadata": {},
   "outputs": [],
   "source": [
    "wk.head()"
   ]
  },
  {
   "cell_type": "code",
   "execution_count": null,
   "id": "cdc545e0",
   "metadata": {},
   "outputs": [],
   "source": [
    "wk.shape"
   ]
  },
  {
   "cell_type": "markdown",
   "id": "40667721",
   "metadata": {},
   "source": [
    "<h3>Send to CSV</h3>"
   ]
  },
  {
   "cell_type": "code",
   "execution_count": null,
   "id": "5d225394",
   "metadata": {},
   "outputs": [],
   "source": [
    "# Send df to csv:\n",
    "lwk.to_csv('v5_270_tripLeave1_sp5.csv', index=False)"
   ]
  },
  {
   "cell_type": "markdown",
   "id": "c9871333",
   "metadata": {},
   "source": [
    "## Route 123"
   ]
  },
  {
   "cell_type": "code",
   "execution_count": 15,
   "id": "6d09b20e",
   "metadata": {},
   "outputs": [],
   "source": [
    "lwk = wk[(wk['LINEID'] == '123')]"
   ]
  },
  {
   "cell_type": "code",
   "execution_count": 16,
   "id": "5a20631a",
   "metadata": {},
   "outputs": [
    {
     "data": {
      "text/plain": [
       "(347511, 22)"
      ]
     },
     "execution_count": 16,
     "metadata": {},
     "output_type": "execute_result"
    }
   ],
   "source": [
    "lwk.shape"
   ]
  },
  {
   "cell_type": "code",
   "execution_count": 17,
   "id": "33e489aa",
   "metadata": {},
   "outputs": [],
   "source": [
    "# Drop Route 123 rows from wk\n",
    "wk.drop(wk[wk['LINEID'] == '123'].index, inplace = True)"
   ]
  },
  {
   "cell_type": "code",
   "execution_count": null,
   "id": "4ed9474e",
   "metadata": {},
   "outputs": [],
   "source": [
    "wk.head()"
   ]
  },
  {
   "cell_type": "code",
   "execution_count": null,
   "id": "f5f7599c",
   "metadata": {},
   "outputs": [],
   "source": [
    "wk.shape"
   ]
  },
  {
   "cell_type": "markdown",
   "id": "38748ef1",
   "metadata": {},
   "source": [
    "<h3>Send to CSV</h3>"
   ]
  },
  {
   "cell_type": "code",
   "execution_count": null,
   "id": "838ecfd9",
   "metadata": {},
   "outputs": [],
   "source": [
    "# Send df to csv:\n",
    "lwk.to_csv('v5_123_tripLeave1_sp5.csv', index=False)"
   ]
  },
  {
   "cell_type": "markdown",
   "id": "c9ce61f5",
   "metadata": {},
   "source": [
    "## Route 4"
   ]
  },
  {
   "cell_type": "code",
   "execution_count": 18,
   "id": "f6ad83ea",
   "metadata": {},
   "outputs": [],
   "source": [
    "lwk = wk[(wk['LINEID'] == '4')]"
   ]
  },
  {
   "cell_type": "code",
   "execution_count": 19,
   "id": "ec9abc5f",
   "metadata": {},
   "outputs": [
    {
     "data": {
      "text/plain": [
       "(333252, 22)"
      ]
     },
     "execution_count": 19,
     "metadata": {},
     "output_type": "execute_result"
    }
   ],
   "source": [
    "lwk.shape"
   ]
  },
  {
   "cell_type": "code",
   "execution_count": 20,
   "id": "33c70ba9",
   "metadata": {},
   "outputs": [],
   "source": [
    "# Drop Route 4 rows from wk\n",
    "wk.drop(wk[wk['LINEID'] == '4'].index, inplace = True)"
   ]
  },
  {
   "cell_type": "code",
   "execution_count": null,
   "id": "1f691a8b",
   "metadata": {},
   "outputs": [],
   "source": [
    "wk.head()"
   ]
  },
  {
   "cell_type": "code",
   "execution_count": null,
   "id": "c35ec0ec",
   "metadata": {},
   "outputs": [],
   "source": [
    "wk.shape"
   ]
  },
  {
   "cell_type": "markdown",
   "id": "685da73e",
   "metadata": {},
   "source": [
    "<h3>Send to CSV</h3>"
   ]
  },
  {
   "cell_type": "code",
   "execution_count": null,
   "id": "dd78bfed",
   "metadata": {},
   "outputs": [],
   "source": [
    "# Send df to csv:\n",
    "lwk.to_csv('v5_4_tripLeave1_sp5.csv', index=False)"
   ]
  },
  {
   "cell_type": "markdown",
   "id": "0a607558",
   "metadata": {},
   "source": [
    "## Route 9"
   ]
  },
  {
   "cell_type": "code",
   "execution_count": 21,
   "id": "d4accdca",
   "metadata": {},
   "outputs": [],
   "source": [
    "lwk = wk[(wk['LINEID'] == '9')]"
   ]
  },
  {
   "cell_type": "code",
   "execution_count": 22,
   "id": "8bd84191",
   "metadata": {},
   "outputs": [
    {
     "data": {
      "text/plain": [
       "(442613, 22)"
      ]
     },
     "execution_count": 22,
     "metadata": {},
     "output_type": "execute_result"
    }
   ],
   "source": [
    "lwk.shape"
   ]
  },
  {
   "cell_type": "code",
   "execution_count": 23,
   "id": "9329913e",
   "metadata": {},
   "outputs": [],
   "source": [
    "# Drop Route 9 rows from wk\n",
    "wk.drop(wk[wk['LINEID'] == '9'].index, inplace = True)"
   ]
  },
  {
   "cell_type": "code",
   "execution_count": null,
   "id": "e6684ab8",
   "metadata": {},
   "outputs": [],
   "source": [
    "wk.head()"
   ]
  },
  {
   "cell_type": "code",
   "execution_count": null,
   "id": "c1b9c022",
   "metadata": {},
   "outputs": [],
   "source": [
    "wk.shape"
   ]
  },
  {
   "cell_type": "markdown",
   "id": "9001e06a",
   "metadata": {},
   "source": [
    "<h3>Send to CSV</h3>"
   ]
  },
  {
   "cell_type": "code",
   "execution_count": null,
   "id": "a4594538",
   "metadata": {},
   "outputs": [],
   "source": [
    "# Send df to csv:\n",
    "lwk.to_csv('v5_9_tripLeave1_sp5.csv', index=False)"
   ]
  },
  {
   "cell_type": "markdown",
   "id": "cf6b9a30",
   "metadata": {},
   "source": [
    "## Route 151"
   ]
  },
  {
   "cell_type": "code",
   "execution_count": 24,
   "id": "be7cfb01",
   "metadata": {},
   "outputs": [],
   "source": [
    "lwk = wk[(wk['LINEID'] == '151')]"
   ]
  },
  {
   "cell_type": "code",
   "execution_count": 25,
   "id": "ba583db4",
   "metadata": {},
   "outputs": [
    {
     "data": {
      "text/plain": [
       "(254078, 22)"
      ]
     },
     "execution_count": 25,
     "metadata": {},
     "output_type": "execute_result"
    }
   ],
   "source": [
    "lwk.shape"
   ]
  },
  {
   "cell_type": "code",
   "execution_count": 26,
   "id": "9e719e0a",
   "metadata": {},
   "outputs": [],
   "source": [
    "# Drop Route 151 rows from wk\n",
    "wk.drop(wk[wk['LINEID'] == '151'].index, inplace = True)"
   ]
  },
  {
   "cell_type": "code",
   "execution_count": 27,
   "id": "1c15d26f",
   "metadata": {},
   "outputs": [
    {
     "data": {
      "text/html": [
       "<div>\n",
       "<style scoped>\n",
       "    .dataframe tbody tr th:only-of-type {\n",
       "        vertical-align: middle;\n",
       "    }\n",
       "\n",
       "    .dataframe tbody tr th {\n",
       "        vertical-align: top;\n",
       "    }\n",
       "\n",
       "    .dataframe thead th {\n",
       "        text-align: right;\n",
       "    }\n",
       "</style>\n",
       "<table border=\"1\" class=\"dataframe\">\n",
       "  <thead>\n",
       "    <tr style=\"text-align: right;\">\n",
       "      <th></th>\n",
       "      <th>DAYOFSERVICE</th>\n",
       "      <th>TRIPID</th>\n",
       "      <th>PROGRNUMBER</th>\n",
       "      <th>STOPPOINTID</th>\n",
       "      <th>PLANNEDTIME_ARR</th>\n",
       "      <th>PLANNEDTIME_DEP</th>\n",
       "      <th>ACTUALTIME_ARR</th>\n",
       "      <th>ACTUALTIME_DEP</th>\n",
       "      <th>VEHICLEID</th>\n",
       "      <th>year</th>\n",
       "      <th>...</th>\n",
       "      <th>id</th>\n",
       "      <th>trip_leave_id</th>\n",
       "      <th>LINEID</th>\n",
       "      <th>num_lineID</th>\n",
       "      <th>DIRECTION</th>\n",
       "      <th>actual_duration</th>\n",
       "      <th>dayOfWeek</th>\n",
       "      <th>weekend</th>\n",
       "      <th>rushHour</th>\n",
       "      <th>actualARR_hour</th>\n",
       "    </tr>\n",
       "  </thead>\n",
       "  <tbody>\n",
       "    <tr>\n",
       "      <th>3511</th>\n",
       "      <td>2018-01-01</td>\n",
       "      <td>5958121</td>\n",
       "      <td>1</td>\n",
       "      <td>7333</td>\n",
       "      <td>42000</td>\n",
       "      <td>42000</td>\n",
       "      <td>42000</td>\n",
       "      <td>42000</td>\n",
       "      <td>2534866</td>\n",
       "      <td>2018</td>\n",
       "      <td>...</td>\n",
       "      <td>20180101595812101</td>\n",
       "      <td>201801015958121</td>\n",
       "      <td>39</td>\n",
       "      <td>66</td>\n",
       "      <td>1</td>\n",
       "      <td>4067</td>\n",
       "      <td>0</td>\n",
       "      <td>0</td>\n",
       "      <td>0</td>\n",
       "      <td>12</td>\n",
       "    </tr>\n",
       "    <tr>\n",
       "      <th>3512</th>\n",
       "      <td>2018-01-01</td>\n",
       "      <td>5958121</td>\n",
       "      <td>2</td>\n",
       "      <td>783</td>\n",
       "      <td>42094</td>\n",
       "      <td>42094</td>\n",
       "      <td>42094</td>\n",
       "      <td>42094</td>\n",
       "      <td>2534866</td>\n",
       "      <td>2018</td>\n",
       "      <td>...</td>\n",
       "      <td>20180101595812102</td>\n",
       "      <td>201801015958121</td>\n",
       "      <td>39</td>\n",
       "      <td>66</td>\n",
       "      <td>1</td>\n",
       "      <td>4067</td>\n",
       "      <td>0</td>\n",
       "      <td>0</td>\n",
       "      <td>0</td>\n",
       "      <td>12</td>\n",
       "    </tr>\n",
       "    <tr>\n",
       "      <th>3513</th>\n",
       "      <td>2018-01-01</td>\n",
       "      <td>5958121</td>\n",
       "      <td>3</td>\n",
       "      <td>784</td>\n",
       "      <td>42119</td>\n",
       "      <td>42119</td>\n",
       "      <td>42119</td>\n",
       "      <td>42119</td>\n",
       "      <td>2534866</td>\n",
       "      <td>2018</td>\n",
       "      <td>...</td>\n",
       "      <td>20180101595812103</td>\n",
       "      <td>201801015958121</td>\n",
       "      <td>39</td>\n",
       "      <td>66</td>\n",
       "      <td>1</td>\n",
       "      <td>4067</td>\n",
       "      <td>0</td>\n",
       "      <td>0</td>\n",
       "      <td>0</td>\n",
       "      <td>12</td>\n",
       "    </tr>\n",
       "    <tr>\n",
       "      <th>3514</th>\n",
       "      <td>2018-01-01</td>\n",
       "      <td>5958121</td>\n",
       "      <td>4</td>\n",
       "      <td>785</td>\n",
       "      <td>42161</td>\n",
       "      <td>42161</td>\n",
       "      <td>42161</td>\n",
       "      <td>42161</td>\n",
       "      <td>2534866</td>\n",
       "      <td>2018</td>\n",
       "      <td>...</td>\n",
       "      <td>20180101595812104</td>\n",
       "      <td>201801015958121</td>\n",
       "      <td>39</td>\n",
       "      <td>66</td>\n",
       "      <td>1</td>\n",
       "      <td>4067</td>\n",
       "      <td>0</td>\n",
       "      <td>0</td>\n",
       "      <td>0</td>\n",
       "      <td>12</td>\n",
       "    </tr>\n",
       "    <tr>\n",
       "      <th>3515</th>\n",
       "      <td>2018-01-01</td>\n",
       "      <td>5958121</td>\n",
       "      <td>5</td>\n",
       "      <td>786</td>\n",
       "      <td>42240</td>\n",
       "      <td>42240</td>\n",
       "      <td>42240</td>\n",
       "      <td>42240</td>\n",
       "      <td>2534866</td>\n",
       "      <td>2018</td>\n",
       "      <td>...</td>\n",
       "      <td>20180101595812105</td>\n",
       "      <td>201801015958121</td>\n",
       "      <td>39</td>\n",
       "      <td>66</td>\n",
       "      <td>1</td>\n",
       "      <td>4067</td>\n",
       "      <td>0</td>\n",
       "      <td>0</td>\n",
       "      <td>0</td>\n",
       "      <td>12</td>\n",
       "    </tr>\n",
       "  </tbody>\n",
       "</table>\n",
       "<p>5 rows × 22 columns</p>\n",
       "</div>"
      ],
      "text/plain": [
       "     DAYOFSERVICE   TRIPID  PROGRNUMBER  STOPPOINTID  PLANNEDTIME_ARR  \\\n",
       "3511   2018-01-01  5958121            1         7333            42000   \n",
       "3512   2018-01-01  5958121            2          783            42094   \n",
       "3513   2018-01-01  5958121            3          784            42119   \n",
       "3514   2018-01-01  5958121            4          785            42161   \n",
       "3515   2018-01-01  5958121            5          786            42240   \n",
       "\n",
       "      PLANNEDTIME_DEP  ACTUALTIME_ARR  ACTUALTIME_DEP  VEHICLEID  year  ...  \\\n",
       "3511            42000           42000           42000    2534866  2018  ...   \n",
       "3512            42094           42094           42094    2534866  2018  ...   \n",
       "3513            42119           42119           42119    2534866  2018  ...   \n",
       "3514            42161           42161           42161    2534866  2018  ...   \n",
       "3515            42240           42240           42240    2534866  2018  ...   \n",
       "\n",
       "                     id    trip_leave_id  LINEID  num_lineID DIRECTION  \\\n",
       "3511  20180101595812101  201801015958121      39          66         1   \n",
       "3512  20180101595812102  201801015958121      39          66         1   \n",
       "3513  20180101595812103  201801015958121      39          66         1   \n",
       "3514  20180101595812104  201801015958121      39          66         1   \n",
       "3515  20180101595812105  201801015958121      39          66         1   \n",
       "\n",
       "      actual_duration  dayOfWeek  weekend  rushHour  actualARR_hour  \n",
       "3511             4067          0        0         0              12  \n",
       "3512             4067          0        0         0              12  \n",
       "3513             4067          0        0         0              12  \n",
       "3514             4067          0        0         0              12  \n",
       "3515             4067          0        0         0              12  \n",
       "\n",
       "[5 rows x 22 columns]"
      ]
     },
     "execution_count": 27,
     "metadata": {},
     "output_type": "execute_result"
    }
   ],
   "source": [
    "wk.head()"
   ]
  },
  {
   "cell_type": "code",
   "execution_count": 28,
   "id": "5299a41b",
   "metadata": {},
   "outputs": [
    {
     "data": {
      "text/plain": [
       "(5415303, 22)"
      ]
     },
     "execution_count": 28,
     "metadata": {},
     "output_type": "execute_result"
    }
   ],
   "source": [
    "wk.shape"
   ]
  },
  {
   "cell_type": "markdown",
   "id": "c95c36a2",
   "metadata": {},
   "source": [
    "<h3>Send to CSV</h3>"
   ]
  },
  {
   "cell_type": "code",
   "execution_count": 29,
   "id": "10e456a8",
   "metadata": {},
   "outputs": [],
   "source": [
    "# Send df to csv:\n",
    "lwk.to_csv('v5_151_tripLeave1_sp5.csv', index=False)"
   ]
  },
  {
   "cell_type": "markdown",
   "id": "e082232a",
   "metadata": {},
   "source": [
    "## Continue v5_tripLeave1_route_split_6"
   ]
  },
  {
   "cell_type": "code",
   "execution_count": 30,
   "id": "647c1774",
   "metadata": {},
   "outputs": [],
   "source": [
    "# Send df to csv:\n",
    "wk.to_csv('v5_tripLeave1_route_split_6.csv', index=False)"
   ]
  },
  {
   "cell_type": "code",
   "execution_count": null,
   "id": "c4a5925f",
   "metadata": {},
   "outputs": [],
   "source": []
  }
 ],
 "metadata": {
  "kernelspec": {
   "display_name": "Python 3 (ipykernel)",
   "language": "python",
   "name": "python3"
  },
  "language_info": {
   "codemirror_mode": {
    "name": "ipython",
    "version": 3
   },
   "file_extension": ".py",
   "mimetype": "text/x-python",
   "name": "python",
   "nbconvert_exporter": "python",
   "pygments_lexer": "ipython3",
   "version": "3.10.4"
  }
 },
 "nbformat": 4,
 "nbformat_minor": 5
}
