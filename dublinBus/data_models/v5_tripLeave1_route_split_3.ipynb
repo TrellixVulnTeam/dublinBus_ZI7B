{
 "cells": [
  {
   "cell_type": "code",
   "execution_count": null,
   "id": "29f878e6",
   "metadata": {},
   "outputs": [],
   "source": [
    "# Library Imports.\n",
    "import pandas as pd\n",
    "\n",
    "import numpy as np"
   ]
  },
  {
   "cell_type": "code",
   "execution_count": null,
   "id": "12abaae1",
   "metadata": {},
   "outputs": [],
   "source": [
    "# Read tripleave1 route split 3 CSV file into Data Frame:\n",
    "wk = pd.read_csv('v5_tripLeave1_route_split_3.csv', keep_default_na=True, delimiter=',', skipinitialspace=True)"
   ]
  },
  {
   "cell_type": "code",
   "execution_count": null,
   "id": "5dda47a0",
   "metadata": {},
   "outputs": [],
   "source": [
    "wk.shape"
   ]
  },
  {
   "cell_type": "code",
   "execution_count": null,
   "id": "c0c029ad",
   "metadata": {},
   "outputs": [],
   "source": [
    "wk.head()"
   ]
  },
  {
   "cell_type": "code",
   "execution_count": null,
   "id": "4878f708",
   "metadata": {},
   "outputs": [],
   "source": [
    "wk.dtypes"
   ]
  },
  {
   "cell_type": "markdown",
   "id": "81073090",
   "metadata": {},
   "source": [
    "## Datatype Changes"
   ]
  },
  {
   "cell_type": "code",
   "execution_count": null,
   "id": "75954e98",
   "metadata": {},
   "outputs": [],
   "source": [
    "wk['num_lineID'] = wk['num_lineID'].astype('int16')\n",
    "wk['DIRECTION'] = wk['DIRECTION'].astype('int16')"
   ]
  },
  {
   "cell_type": "code",
   "execution_count": null,
   "id": "81d272e5",
   "metadata": {},
   "outputs": [],
   "source": [
    "wk['actual_duration'] = wk['actual_duration'].astype('int64')\n",
    "wk['dayOfWeek'] = wk['dayOfWeek'].astype('int16')"
   ]
  },
  {
   "cell_type": "code",
   "execution_count": null,
   "id": "8267e3dc",
   "metadata": {},
   "outputs": [],
   "source": [
    "wk['weekend'] = wk['weekend'].astype('int16')\n",
    "wk['rushHour'] = wk['rushHour'].astype('int16')"
   ]
  },
  {
   "cell_type": "code",
   "execution_count": null,
   "id": "604f0107",
   "metadata": {},
   "outputs": [],
   "source": [
    "wk.head()"
   ]
  },
  {
   "cell_type": "code",
   "execution_count": null,
   "id": "645ff86a",
   "metadata": {},
   "outputs": [],
   "source": [
    "wk.dtypes"
   ]
  },
  {
   "cell_type": "markdown",
   "id": "86d6d334",
   "metadata": {},
   "source": [
    "## Route 67"
   ]
  },
  {
   "cell_type": "code",
   "execution_count": null,
   "id": "01b378cc",
   "metadata": {},
   "outputs": [],
   "source": [
    "lwk = wk[(wk['LINEID'] == '67')]"
   ]
  },
  {
   "cell_type": "code",
   "execution_count": null,
   "id": "5ae677fe",
   "metadata": {},
   "outputs": [],
   "source": [
    "lwk.shape"
   ]
  },
  {
   "cell_type": "code",
   "execution_count": null,
   "id": "eb268b7e",
   "metadata": {},
   "outputs": [],
   "source": [
    "# Drop Route 67 rows from wk\n",
    "wk.drop(wk[wk['LINEID'] == '67'].index, inplace = True)"
   ]
  },
  {
   "cell_type": "code",
   "execution_count": null,
   "id": "cdb83698",
   "metadata": {},
   "outputs": [],
   "source": [
    "wk.head()"
   ]
  },
  {
   "cell_type": "code",
   "execution_count": null,
   "id": "f85f5650",
   "metadata": {},
   "outputs": [],
   "source": [
    "wk.shape"
   ]
  },
  {
   "cell_type": "markdown",
   "id": "f36c2173",
   "metadata": {},
   "source": [
    "<h3>Send to CSV</h3>"
   ]
  },
  {
   "cell_type": "code",
   "execution_count": null,
   "id": "4fcd4689",
   "metadata": {},
   "outputs": [],
   "source": [
    "# Send df to csv:\n",
    "lwk.to_csv('v5_67_tripLeave1_sp3.csv', index=False)"
   ]
  },
  {
   "cell_type": "markdown",
   "id": "02f3d83e",
   "metadata": {},
   "source": [
    "## Route 68"
   ]
  },
  {
   "cell_type": "code",
   "execution_count": null,
   "id": "b91914a8",
   "metadata": {},
   "outputs": [],
   "source": [
    "lwk = wk[(wk['LINEID'] == '68')]"
   ]
  },
  {
   "cell_type": "code",
   "execution_count": null,
   "id": "697f3295",
   "metadata": {},
   "outputs": [],
   "source": [
    "lwk.shape"
   ]
  },
  {
   "cell_type": "code",
   "execution_count": null,
   "id": "d4360a64",
   "metadata": {},
   "outputs": [],
   "source": [
    "# Drop Route 68 rows from wk\n",
    "wk.drop(wk[wk['LINEID'] == '68'].index, inplace = True)"
   ]
  },
  {
   "cell_type": "code",
   "execution_count": null,
   "id": "942c64b0",
   "metadata": {},
   "outputs": [],
   "source": [
    "wk.head()"
   ]
  },
  {
   "cell_type": "code",
   "execution_count": null,
   "id": "cdc545e0",
   "metadata": {},
   "outputs": [],
   "source": [
    "wk.shape"
   ]
  },
  {
   "cell_type": "markdown",
   "id": "40667721",
   "metadata": {},
   "source": [
    "<h3>Send to CSV</h3>"
   ]
  },
  {
   "cell_type": "code",
   "execution_count": null,
   "id": "5d225394",
   "metadata": {},
   "outputs": [],
   "source": [
    "# Send df to csv:\n",
    "lwk.to_csv('v5_68_tripLeave1_sp3.csv', index=False)"
   ]
  },
  {
   "cell_type": "markdown",
   "id": "c9871333",
   "metadata": {},
   "source": [
    "## Route 69"
   ]
  },
  {
   "cell_type": "code",
   "execution_count": null,
   "id": "6d09b20e",
   "metadata": {},
   "outputs": [],
   "source": [
    "lwk = wk[(wk['LINEID'] == '69')]"
   ]
  },
  {
   "cell_type": "code",
   "execution_count": null,
   "id": "5a20631a",
   "metadata": {},
   "outputs": [],
   "source": [
    "lwk.shape"
   ]
  },
  {
   "cell_type": "code",
   "execution_count": null,
   "id": "33e489aa",
   "metadata": {},
   "outputs": [],
   "source": [
    "# Drop Route 69 rows from wk\n",
    "wk.drop(wk[wk['LINEID'] == '69'].index, inplace = True)"
   ]
  },
  {
   "cell_type": "code",
   "execution_count": null,
   "id": "4ed9474e",
   "metadata": {},
   "outputs": [],
   "source": [
    "wk.head()"
   ]
  },
  {
   "cell_type": "code",
   "execution_count": null,
   "id": "f5f7599c",
   "metadata": {},
   "outputs": [],
   "source": [
    "wk.shape"
   ]
  },
  {
   "cell_type": "markdown",
   "id": "38748ef1",
   "metadata": {},
   "source": [
    "<h3>Send to CSV</h3>"
   ]
  },
  {
   "cell_type": "code",
   "execution_count": null,
   "id": "838ecfd9",
   "metadata": {},
   "outputs": [],
   "source": [
    "# Send df to csv:\n",
    "lwk.to_csv('v5_69_tripLeave1_sp3.csv', index=False)"
   ]
  },
  {
   "cell_type": "markdown",
   "id": "c9ce61f5",
   "metadata": {},
   "source": [
    "## Route 61"
   ]
  },
  {
   "cell_type": "code",
   "execution_count": null,
   "id": "f6ad83ea",
   "metadata": {},
   "outputs": [],
   "source": [
    "lwk = wk[(wk['LINEID'] == '61')]"
   ]
  },
  {
   "cell_type": "code",
   "execution_count": null,
   "id": "ec9abc5f",
   "metadata": {},
   "outputs": [],
   "source": [
    "lwk.shape"
   ]
  },
  {
   "cell_type": "code",
   "execution_count": null,
   "id": "33c70ba9",
   "metadata": {},
   "outputs": [],
   "source": [
    "# Drop Route 61 rows from wk\n",
    "wk.drop(wk[wk['LINEID'] == '61'].index, inplace = True)"
   ]
  },
  {
   "cell_type": "code",
   "execution_count": null,
   "id": "1f691a8b",
   "metadata": {},
   "outputs": [],
   "source": [
    "wk.head()"
   ]
  },
  {
   "cell_type": "code",
   "execution_count": null,
   "id": "c35ec0ec",
   "metadata": {},
   "outputs": [],
   "source": [
    "wk.shape"
   ]
  },
  {
   "cell_type": "markdown",
   "id": "685da73e",
   "metadata": {},
   "source": [
    "<h3>Send to CSV</h3>"
   ]
  },
  {
   "cell_type": "code",
   "execution_count": null,
   "id": "dd78bfed",
   "metadata": {},
   "outputs": [],
   "source": [
    "# Send df to csv:\n",
    "lwk.to_csv('v5_61_tripLeave1_sp3.csv', index=False)"
   ]
  },
  {
   "cell_type": "markdown",
   "id": "0a607558",
   "metadata": {},
   "source": [
    "## Route 45A"
   ]
  },
  {
   "cell_type": "code",
   "execution_count": null,
   "id": "d4accdca",
   "metadata": {},
   "outputs": [],
   "source": [
    "lwk = wk[(wk['LINEID'] == '45A')]"
   ]
  },
  {
   "cell_type": "code",
   "execution_count": null,
   "id": "8bd84191",
   "metadata": {},
   "outputs": [],
   "source": [
    "lwk.shape"
   ]
  },
  {
   "cell_type": "code",
   "execution_count": null,
   "id": "9329913e",
   "metadata": {},
   "outputs": [],
   "source": [
    "# Drop Route 45A rows from wk\n",
    "wk.drop(wk[wk['LINEID'] == '45A'].index, inplace = True)"
   ]
  },
  {
   "cell_type": "code",
   "execution_count": null,
   "id": "e6684ab8",
   "metadata": {},
   "outputs": [],
   "source": [
    "wk.head()"
   ]
  },
  {
   "cell_type": "code",
   "execution_count": null,
   "id": "c1b9c022",
   "metadata": {},
   "outputs": [],
   "source": [
    "wk.shape"
   ]
  },
  {
   "cell_type": "markdown",
   "id": "9001e06a",
   "metadata": {},
   "source": [
    "<h3>Send to CSV</h3>"
   ]
  },
  {
   "cell_type": "code",
   "execution_count": null,
   "id": "a4594538",
   "metadata": {},
   "outputs": [],
   "source": [
    "# Send df to csv:\n",
    "lwk.to_csv('v5_45A_tripLeave1_sp3.csv', index=False)"
   ]
  },
  {
   "cell_type": "markdown",
   "id": "cf6b9a30",
   "metadata": {},
   "source": [
    "## Route 13"
   ]
  },
  {
   "cell_type": "code",
   "execution_count": null,
   "id": "be7cfb01",
   "metadata": {},
   "outputs": [],
   "source": [
    "lwk = wk[(wk['LINEID'] == '13')]"
   ]
  },
  {
   "cell_type": "code",
   "execution_count": null,
   "id": "ba583db4",
   "metadata": {},
   "outputs": [],
   "source": [
    "lwk.shape"
   ]
  },
  {
   "cell_type": "code",
   "execution_count": null,
   "id": "9e719e0a",
   "metadata": {},
   "outputs": [],
   "source": [
    "# Drop Route 13 rows from wk\n",
    "wk.drop(wk[wk['LINEID'] == '13'].index, inplace = True)"
   ]
  },
  {
   "cell_type": "code",
   "execution_count": null,
   "id": "1c15d26f",
   "metadata": {},
   "outputs": [],
   "source": [
    "wk.head()"
   ]
  },
  {
   "cell_type": "code",
   "execution_count": null,
   "id": "5299a41b",
   "metadata": {},
   "outputs": [],
   "source": [
    "wk.shape"
   ]
  },
  {
   "cell_type": "markdown",
   "id": "c95c36a2",
   "metadata": {},
   "source": [
    "<h3>Send to CSV</h3>"
   ]
  },
  {
   "cell_type": "code",
   "execution_count": null,
   "id": "10e456a8",
   "metadata": {},
   "outputs": [],
   "source": [
    "# Send df to csv:\n",
    "lwk.to_csv('v5_13_tripLeave1_sp3.csv', index=False)"
   ]
  },
  {
   "cell_type": "markdown",
   "id": "eae8e196",
   "metadata": {},
   "source": [
    "## Route 27"
   ]
  },
  {
   "cell_type": "code",
   "execution_count": null,
   "id": "2fe9252d",
   "metadata": {},
   "outputs": [],
   "source": [
    "lwk = wk[(wk['LINEID'] == '27')]"
   ]
  },
  {
   "cell_type": "code",
   "execution_count": null,
   "id": "df08328a",
   "metadata": {},
   "outputs": [],
   "source": [
    "lwk.shape"
   ]
  },
  {
   "cell_type": "code",
   "execution_count": null,
   "id": "b0b02512",
   "metadata": {},
   "outputs": [],
   "source": [
    "# Drop Route 27 rows from wk\n",
    "wk.drop(wk[wk['LINEID'] == '27'].index, inplace = True)"
   ]
  },
  {
   "cell_type": "code",
   "execution_count": null,
   "id": "8b9db2a6",
   "metadata": {},
   "outputs": [],
   "source": [
    "wk.head()"
   ]
  },
  {
   "cell_type": "code",
   "execution_count": null,
   "id": "91131d06",
   "metadata": {},
   "outputs": [],
   "source": [
    "wk.shape"
   ]
  },
  {
   "cell_type": "markdown",
   "id": "3a88d28c",
   "metadata": {},
   "source": [
    "<h3>Send to CSV</h3>"
   ]
  },
  {
   "cell_type": "code",
   "execution_count": null,
   "id": "8bc23b00",
   "metadata": {},
   "outputs": [],
   "source": [
    "# Send df to csv:\n",
    "lwk.to_csv('v5_27_tripLeave1_sp3.csv', index=False)"
   ]
  },
  {
   "cell_type": "markdown",
   "id": "12bd18a1",
   "metadata": {},
   "source": [
    "## Route 38A"
   ]
  },
  {
   "cell_type": "code",
   "execution_count": null,
   "id": "310eb1b2",
   "metadata": {},
   "outputs": [],
   "source": [
    "lwk = wk[(wk['LINEID'] == '38A')]"
   ]
  },
  {
   "cell_type": "code",
   "execution_count": null,
   "id": "9d7e0310",
   "metadata": {},
   "outputs": [],
   "source": [
    "lwk.shape"
   ]
  },
  {
   "cell_type": "code",
   "execution_count": null,
   "id": "2bc58961",
   "metadata": {},
   "outputs": [],
   "source": [
    "# Drop Route 38A rows from wk\n",
    "wk.drop(wk[wk['LINEID'] == '38A'].index, inplace = True)"
   ]
  },
  {
   "cell_type": "code",
   "execution_count": null,
   "id": "e626322e",
   "metadata": {},
   "outputs": [],
   "source": [
    "wk.head()"
   ]
  },
  {
   "cell_type": "code",
   "execution_count": null,
   "id": "1925fbda",
   "metadata": {},
   "outputs": [],
   "source": [
    "wk.shape"
   ]
  },
  {
   "cell_type": "markdown",
   "id": "fbce052d",
   "metadata": {},
   "source": [
    "<h3>Send to CSV</h3>"
   ]
  },
  {
   "cell_type": "code",
   "execution_count": null,
   "id": "f7db27b7",
   "metadata": {},
   "outputs": [],
   "source": [
    "# Send df to csv:\n",
    "lwk.to_csv('v5_38A_tripLeave1_sp3.csv', index=False)"
   ]
  },
  {
   "cell_type": "markdown",
   "id": "b634e919",
   "metadata": {},
   "source": [
    "## Route 38"
   ]
  },
  {
   "cell_type": "code",
   "execution_count": null,
   "id": "3953f651",
   "metadata": {},
   "outputs": [],
   "source": [
    "lwk = wk[(wk['LINEID'] == '38')]"
   ]
  },
  {
   "cell_type": "code",
   "execution_count": null,
   "id": "c2cf16ab",
   "metadata": {},
   "outputs": [],
   "source": [
    "lwk.shape"
   ]
  },
  {
   "cell_type": "code",
   "execution_count": null,
   "id": "9c60ac87",
   "metadata": {},
   "outputs": [],
   "source": [
    "# Drop Route 38 rows from wk\n",
    "wk.drop(wk[wk['LINEID'] == '38'].index, inplace = True)"
   ]
  },
  {
   "cell_type": "code",
   "execution_count": null,
   "id": "697f4f68",
   "metadata": {},
   "outputs": [],
   "source": [
    "wk.head()"
   ]
  },
  {
   "cell_type": "code",
   "execution_count": null,
   "id": "008d0da7",
   "metadata": {},
   "outputs": [],
   "source": [
    "wk.shape"
   ]
  },
  {
   "cell_type": "markdown",
   "id": "344cabed",
   "metadata": {},
   "source": [
    "<h3>Send to CSV</h3>"
   ]
  },
  {
   "cell_type": "code",
   "execution_count": null,
   "id": "a87bdae2",
   "metadata": {},
   "outputs": [],
   "source": [
    "# Send df to csv:\n",
    "lwk.to_csv('v5_38_tripLeave1_sp3.csv', index=False)"
   ]
  },
  {
   "cell_type": "markdown",
   "id": "5abb48a6",
   "metadata": {},
   "source": [
    "## Route 53"
   ]
  },
  {
   "cell_type": "code",
   "execution_count": null,
   "id": "62bd656c",
   "metadata": {},
   "outputs": [],
   "source": [
    "lwk = wk[(wk['LINEID'] == '53')]"
   ]
  },
  {
   "cell_type": "code",
   "execution_count": null,
   "id": "5a3f3ff5",
   "metadata": {},
   "outputs": [],
   "source": [
    "lwk.shape"
   ]
  },
  {
   "cell_type": "code",
   "execution_count": null,
   "id": "dce6fcb4",
   "metadata": {},
   "outputs": [],
   "source": [
    "# Drop Route 53 rows from wk\n",
    "wk.drop(wk[wk['LINEID'] == '53'].index, inplace = True)"
   ]
  },
  {
   "cell_type": "code",
   "execution_count": null,
   "id": "79c03659",
   "metadata": {},
   "outputs": [],
   "source": [
    "wk.head()"
   ]
  },
  {
   "cell_type": "code",
   "execution_count": null,
   "id": "3edf2ff0",
   "metadata": {},
   "outputs": [],
   "source": [
    "wk.shape"
   ]
  },
  {
   "cell_type": "markdown",
   "id": "24dedbcb",
   "metadata": {},
   "source": [
    "<h3>Send to CSV</h3>"
   ]
  },
  {
   "cell_type": "code",
   "execution_count": null,
   "id": "ee8051a4",
   "metadata": {},
   "outputs": [],
   "source": [
    "# Send df to csv:\n",
    "lwk.to_csv('v5_53_tripLeave1_sp3.csv', index=False)"
   ]
  },
  {
   "cell_type": "markdown",
   "id": "e082232a",
   "metadata": {},
   "source": [
    "## Continue v5_tripLeave1_route_split_4"
   ]
  },
  {
   "cell_type": "code",
   "execution_count": null,
   "id": "647c1774",
   "metadata": {},
   "outputs": [],
   "source": [
    "# Send df to csv:\n",
    "wk.to_csv('v5_tripLeave1_route_split_4.csv', index=False)"
   ]
  },
  {
   "cell_type": "code",
   "execution_count": null,
   "id": "c4a5925f",
   "metadata": {},
   "outputs": [],
   "source": []
  }
 ],
 "metadata": {
  "kernelspec": {
   "display_name": "Python 3 (ipykernel)",
   "language": "python",
   "name": "python3"
  },
  "language_info": {
   "codemirror_mode": {
    "name": "ipython",
    "version": 3
   },
   "file_extension": ".py",
   "mimetype": "text/x-python",
   "name": "python",
   "nbconvert_exporter": "python",
   "pygments_lexer": "ipython3",
   "version": "3.10.4"
  }
 },
 "nbformat": 4,
 "nbformat_minor": 5
}
