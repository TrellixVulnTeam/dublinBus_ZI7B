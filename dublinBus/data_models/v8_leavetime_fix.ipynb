{
 "cells": [
  {
   "cell_type": "code",
   "execution_count": 1,
   "id": "bde0b1b2",
   "metadata": {},
   "outputs": [],
   "source": [
    "# Library Imports.\n",
    "import pandas as pd\n",
    "\n",
    "import numpy as np"
   ]
  },
  {
   "cell_type": "code",
   "execution_count": 2,
   "id": "cad30764",
   "metadata": {},
   "outputs": [],
   "source": [
    "cols = ['DAYOFSERVICE','TRIPID', 'PROGRNUMBER', 'STOPPOINTID', 'ACTUALTIME_ARR']\n",
    "\n",
    "datatypes = {'TRIPID':'uint32', 'PROGRNUMBER':'uint16', 'STOPPOINTID':'uint16', \n",
    "             'PLANNEDTIME_ARR':'uint32', 'ACTUALTIME_ARR':'uint32'\n",
    "     }\n",
    "\n",
    "leave = pd.read_csv('rt_leavetimes_DB_2018.txt', sep=';', usecols=cols, dtype=datatypes, parse_dates=['DAYOFSERVICE'])"
   ]
  },
  {
   "cell_type": "code",
   "execution_count": null,
   "id": "973cea58",
   "metadata": {},
   "outputs": [],
   "source": [
    "leave.shape"
   ]
  },
  {
   "cell_type": "code",
   "execution_count": null,
   "id": "7a9233e9",
   "metadata": {},
   "outputs": [],
   "source": [
    "leave.head()"
   ]
  },
  {
   "cell_type": "markdown",
   "id": "d52788d4",
   "metadata": {},
   "source": [
    "## send to csv"
   ]
  },
  {
   "cell_type": "code",
   "execution_count": 3,
   "id": "38a23c35",
   "metadata": {},
   "outputs": [],
   "source": [
    "# Send df to csv:\n",
    "leave.to_csv('v8_lt_fix.csv', index=False)"
   ]
  },
  {
   "cell_type": "code",
   "execution_count": null,
   "id": "1b14f456",
   "metadata": {},
   "outputs": [],
   "source": []
  }
 ],
 "metadata": {
  "kernelspec": {
   "display_name": "Python 3 (ipykernel)",
   "language": "python",
   "name": "python3"
  },
  "language_info": {
   "codemirror_mode": {
    "name": "ipython",
    "version": 3
   },
   "file_extension": ".py",
   "mimetype": "text/x-python",
   "name": "python",
   "nbconvert_exporter": "python",
   "pygments_lexer": "ipython3",
   "version": "3.10.4"
  }
 },
 "nbformat": 4,
 "nbformat_minor": 5
}
