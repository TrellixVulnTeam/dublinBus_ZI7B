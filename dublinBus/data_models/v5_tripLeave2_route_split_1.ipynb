{
 "cells": [
  {
   "cell_type": "code",
   "execution_count": 1,
   "id": "29f878e6",
   "metadata": {},
   "outputs": [],
   "source": [
    "# Library Imports.\n",
    "import pandas as pd\n",
    "\n",
    "import numpy as np"
   ]
  },
  {
   "cell_type": "code",
   "execution_count": 2,
   "id": "12abaae1",
   "metadata": {},
   "outputs": [
    {
     "name": "stderr",
     "output_type": "stream",
     "text": [
      "/tmp/ipykernel_18861/713679397.py:5: DtypeWarning: Columns (14) have mixed types. Specify dtype option on import or set low_memory=False.\n",
      "  wk = pd.concat(chunk)\n",
      "/tmp/ipykernel_18861/713679397.py:5: DtypeWarning: Columns (14) have mixed types. Specify dtype option on import or set low_memory=False.\n",
      "  wk = pd.concat(chunk)\n"
     ]
    }
   ],
   "source": [
    "# Read tripleave2 route split 1 CSV file into Data Frame:\n",
    "\n",
    "chunk = pd.read_csv('v5_tripLeave2_route_split_1.csv', keep_default_na=True, delimiter=',', skipinitialspace=True, chunksize=1000000)\n",
    "\n",
    "wk = pd.concat(chunk)"
   ]
  },
  {
   "cell_type": "code",
   "execution_count": null,
   "id": "5dda47a0",
   "metadata": {},
   "outputs": [],
   "source": [
    "wk.shape"
   ]
  },
  {
   "cell_type": "code",
   "execution_count": null,
   "id": "c0c029ad",
   "metadata": {},
   "outputs": [],
   "source": [
    "wk.head()"
   ]
  },
  {
   "cell_type": "code",
   "execution_count": null,
   "id": "4878f708",
   "metadata": {},
   "outputs": [],
   "source": [
    "wk.dtypes"
   ]
  },
  {
   "cell_type": "markdown",
   "id": "81073090",
   "metadata": {},
   "source": [
    "## Datatype Changes"
   ]
  },
  {
   "cell_type": "code",
   "execution_count": 3,
   "id": "75954e98",
   "metadata": {},
   "outputs": [],
   "source": [
    "wk['num_lineID'] = wk['num_lineID'].astype('int16')\n",
    "wk['DIRECTION'] = wk['DIRECTION'].astype('int16')"
   ]
  },
  {
   "cell_type": "code",
   "execution_count": 4,
   "id": "b88a7f4e",
   "metadata": {},
   "outputs": [],
   "source": [
    "wk['actual_duration'] = wk['actual_duration'].astype('int64')\n",
    "wk['dayOfWeek'] = wk['dayOfWeek'].astype('int16')"
   ]
  },
  {
   "cell_type": "code",
   "execution_count": 5,
   "id": "8dafa63b",
   "metadata": {},
   "outputs": [],
   "source": [
    "wk['weekend'] = wk['weekend'].astype('int16')\n",
    "wk['rushHour'] = wk['rushHour'].astype('int16')"
   ]
  },
  {
   "cell_type": "code",
   "execution_count": null,
   "id": "604f0107",
   "metadata": {},
   "outputs": [],
   "source": [
    "wk.head()"
   ]
  },
  {
   "cell_type": "code",
   "execution_count": null,
   "id": "645ff86a",
   "metadata": {},
   "outputs": [],
   "source": [
    "wk.dtypes"
   ]
  },
  {
   "cell_type": "markdown",
   "id": "86d6d334",
   "metadata": {},
   "source": [
    "## Route 31A"
   ]
  },
  {
   "cell_type": "code",
   "execution_count": 6,
   "id": "01b378cc",
   "metadata": {},
   "outputs": [],
   "source": [
    "lwk = wk[(wk['LINEID'] == '31A')]"
   ]
  },
  {
   "cell_type": "code",
   "execution_count": 7,
   "id": "5ae677fe",
   "metadata": {},
   "outputs": [
    {
     "data": {
      "text/plain": [
       "(68134, 22)"
      ]
     },
     "execution_count": 7,
     "metadata": {},
     "output_type": "execute_result"
    }
   ],
   "source": [
    "lwk.shape"
   ]
  },
  {
   "cell_type": "code",
   "execution_count": 8,
   "id": "eb268b7e",
   "metadata": {},
   "outputs": [],
   "source": [
    "# Drop Route 31A rows from wk\n",
    "wk.drop(wk[wk['LINEID'] == '31A'].index, inplace = True)"
   ]
  },
  {
   "cell_type": "code",
   "execution_count": null,
   "id": "cdb83698",
   "metadata": {},
   "outputs": [],
   "source": [
    "wk.head()"
   ]
  },
  {
   "cell_type": "code",
   "execution_count": null,
   "id": "f85f5650",
   "metadata": {},
   "outputs": [],
   "source": [
    "wk.shape"
   ]
  },
  {
   "cell_type": "markdown",
   "id": "f36c2173",
   "metadata": {},
   "source": [
    "<h3>Send to CSV</h3>"
   ]
  },
  {
   "cell_type": "code",
   "execution_count": null,
   "id": "4fcd4689",
   "metadata": {},
   "outputs": [],
   "source": [
    "# Send df to csv:\n",
    "lwk.to_csv('v5_31A_tripLeave2_sp1.csv', index=False)"
   ]
  },
  {
   "cell_type": "markdown",
   "id": "02f3d83e",
   "metadata": {},
   "source": [
    "## Route 32"
   ]
  },
  {
   "cell_type": "code",
   "execution_count": 9,
   "id": "b91914a8",
   "metadata": {},
   "outputs": [],
   "source": [
    "lwk = wk[(wk['LINEID'] == '32')]"
   ]
  },
  {
   "cell_type": "code",
   "execution_count": 10,
   "id": "697f3295",
   "metadata": {},
   "outputs": [
    {
     "data": {
      "text/plain": [
       "(143386, 22)"
      ]
     },
     "execution_count": 10,
     "metadata": {},
     "output_type": "execute_result"
    }
   ],
   "source": [
    "lwk.shape"
   ]
  },
  {
   "cell_type": "code",
   "execution_count": 11,
   "id": "d4360a64",
   "metadata": {},
   "outputs": [],
   "source": [
    "# Drop Route 32 rows from wk\n",
    "wk.drop(wk[wk['LINEID'] == '32'].index, inplace = True)"
   ]
  },
  {
   "cell_type": "code",
   "execution_count": null,
   "id": "942c64b0",
   "metadata": {},
   "outputs": [],
   "source": [
    "wk.head()"
   ]
  },
  {
   "cell_type": "code",
   "execution_count": null,
   "id": "cdc545e0",
   "metadata": {},
   "outputs": [],
   "source": [
    "wk.shape"
   ]
  },
  {
   "cell_type": "markdown",
   "id": "40667721",
   "metadata": {},
   "source": [
    "<h3>Send to CSV</h3>"
   ]
  },
  {
   "cell_type": "code",
   "execution_count": null,
   "id": "5d225394",
   "metadata": {},
   "outputs": [],
   "source": [
    "# Send df to csv:\n",
    "lwk.to_csv('v5_32_tripLeave2_sp1.csv', index=False)"
   ]
  },
  {
   "cell_type": "markdown",
   "id": "c9871333",
   "metadata": {},
   "source": [
    "## Route 27X"
   ]
  },
  {
   "cell_type": "code",
   "execution_count": 12,
   "id": "6d09b20e",
   "metadata": {},
   "outputs": [],
   "source": [
    "lwk = wk[(wk['LINEID'] == '27X')]"
   ]
  },
  {
   "cell_type": "code",
   "execution_count": 13,
   "id": "5a20631a",
   "metadata": {},
   "outputs": [
    {
     "data": {
      "text/plain": [
       "(6915, 22)"
      ]
     },
     "execution_count": 13,
     "metadata": {},
     "output_type": "execute_result"
    }
   ],
   "source": [
    "lwk.shape"
   ]
  },
  {
   "cell_type": "code",
   "execution_count": 14,
   "id": "33e489aa",
   "metadata": {},
   "outputs": [],
   "source": [
    "# Drop Route 27X rows from wk\n",
    "wk.drop(wk[wk['LINEID'] == '27X'].index, inplace = True)"
   ]
  },
  {
   "cell_type": "code",
   "execution_count": null,
   "id": "4ed9474e",
   "metadata": {},
   "outputs": [],
   "source": [
    "wk.head()"
   ]
  },
  {
   "cell_type": "code",
   "execution_count": null,
   "id": "f5f7599c",
   "metadata": {},
   "outputs": [],
   "source": [
    "wk.shape"
   ]
  },
  {
   "cell_type": "markdown",
   "id": "38748ef1",
   "metadata": {},
   "source": [
    "<h3>Send to CSV</h3>"
   ]
  },
  {
   "cell_type": "code",
   "execution_count": null,
   "id": "838ecfd9",
   "metadata": {},
   "outputs": [],
   "source": [
    "# Send df to csv:\n",
    "lwk.to_csv('v5_27X_tripLeave2_sp1.csv', index=False)"
   ]
  },
  {
   "cell_type": "markdown",
   "id": "c9ce61f5",
   "metadata": {},
   "source": [
    "## Route 16C"
   ]
  },
  {
   "cell_type": "code",
   "execution_count": 15,
   "id": "f6ad83ea",
   "metadata": {},
   "outputs": [],
   "source": [
    "lwk = wk[(wk['LINEID'] == '16C')]"
   ]
  },
  {
   "cell_type": "code",
   "execution_count": 16,
   "id": "ec9abc5f",
   "metadata": {},
   "outputs": [
    {
     "data": {
      "text/plain": [
       "(9836, 22)"
      ]
     },
     "execution_count": 16,
     "metadata": {},
     "output_type": "execute_result"
    }
   ],
   "source": [
    "lwk.shape"
   ]
  },
  {
   "cell_type": "code",
   "execution_count": 17,
   "id": "33c70ba9",
   "metadata": {},
   "outputs": [],
   "source": [
    "# Drop Route 16C rows from wk\n",
    "wk.drop(wk[wk['LINEID'] == '16C'].index, inplace = True)"
   ]
  },
  {
   "cell_type": "code",
   "execution_count": null,
   "id": "1f691a8b",
   "metadata": {},
   "outputs": [],
   "source": [
    "wk.head()"
   ]
  },
  {
   "cell_type": "code",
   "execution_count": null,
   "id": "c35ec0ec",
   "metadata": {},
   "outputs": [],
   "source": [
    "wk.shape"
   ]
  },
  {
   "cell_type": "markdown",
   "id": "685da73e",
   "metadata": {},
   "source": [
    "<h3>Send to CSV</h3>"
   ]
  },
  {
   "cell_type": "code",
   "execution_count": null,
   "id": "dd78bfed",
   "metadata": {},
   "outputs": [],
   "source": [
    "# Send df to csv:\n",
    "lwk.to_csv('v5_16C_tripLeave2_sp1.csv', index=False)"
   ]
  },
  {
   "cell_type": "markdown",
   "id": "0a607558",
   "metadata": {},
   "source": [
    "## Route 16"
   ]
  },
  {
   "cell_type": "code",
   "execution_count": 18,
   "id": "d4accdca",
   "metadata": {},
   "outputs": [],
   "source": [
    "lwk = wk[(wk['LINEID'] == '16')]"
   ]
  },
  {
   "cell_type": "code",
   "execution_count": 19,
   "id": "8bd84191",
   "metadata": {},
   "outputs": [
    {
     "data": {
      "text/plain": [
       "(542099, 22)"
      ]
     },
     "execution_count": 19,
     "metadata": {},
     "output_type": "execute_result"
    }
   ],
   "source": [
    "lwk.shape"
   ]
  },
  {
   "cell_type": "code",
   "execution_count": 20,
   "id": "9329913e",
   "metadata": {},
   "outputs": [],
   "source": [
    "# Drop Route 16 rows from wk\n",
    "wk.drop(wk[wk['LINEID'] == '16'].index, inplace = True)"
   ]
  },
  {
   "cell_type": "code",
   "execution_count": 21,
   "id": "e6684ab8",
   "metadata": {},
   "outputs": [
    {
     "data": {
      "text/html": [
       "<div>\n",
       "<style scoped>\n",
       "    .dataframe tbody tr th:only-of-type {\n",
       "        vertical-align: middle;\n",
       "    }\n",
       "\n",
       "    .dataframe tbody tr th {\n",
       "        vertical-align: top;\n",
       "    }\n",
       "\n",
       "    .dataframe thead th {\n",
       "        text-align: right;\n",
       "    }\n",
       "</style>\n",
       "<table border=\"1\" class=\"dataframe\">\n",
       "  <thead>\n",
       "    <tr style=\"text-align: right;\">\n",
       "      <th></th>\n",
       "      <th>DAYOFSERVICE</th>\n",
       "      <th>TRIPID</th>\n",
       "      <th>PROGRNUMBER</th>\n",
       "      <th>STOPPOINTID</th>\n",
       "      <th>PLANNEDTIME_ARR</th>\n",
       "      <th>PLANNEDTIME_DEP</th>\n",
       "      <th>ACTUALTIME_ARR</th>\n",
       "      <th>ACTUALTIME_DEP</th>\n",
       "      <th>VEHICLEID</th>\n",
       "      <th>year</th>\n",
       "      <th>...</th>\n",
       "      <th>id</th>\n",
       "      <th>trip_leave_id</th>\n",
       "      <th>LINEID</th>\n",
       "      <th>num_lineID</th>\n",
       "      <th>DIRECTION</th>\n",
       "      <th>actual_duration</th>\n",
       "      <th>dayOfWeek</th>\n",
       "      <th>weekend</th>\n",
       "      <th>rushHour</th>\n",
       "      <th>actualARR_hour</th>\n",
       "    </tr>\n",
       "  </thead>\n",
       "  <tbody>\n",
       "    <tr>\n",
       "      <th>474</th>\n",
       "      <td>2018-02-26</td>\n",
       "      <td>6288537</td>\n",
       "      <td>1</td>\n",
       "      <td>385</td>\n",
       "      <td>62400</td>\n",
       "      <td>62400</td>\n",
       "      <td>62400</td>\n",
       "      <td>62400</td>\n",
       "      <td>1000372</td>\n",
       "      <td>2018</td>\n",
       "      <td>...</td>\n",
       "      <td>20180226628853701</td>\n",
       "      <td>201802266288537</td>\n",
       "      <td>18</td>\n",
       "      <td>30</td>\n",
       "      <td>2</td>\n",
       "      <td>5716</td>\n",
       "      <td>0</td>\n",
       "      <td>0</td>\n",
       "      <td>1</td>\n",
       "      <td>17</td>\n",
       "    </tr>\n",
       "    <tr>\n",
       "      <th>475</th>\n",
       "      <td>2018-02-26</td>\n",
       "      <td>6288537</td>\n",
       "      <td>2</td>\n",
       "      <td>2806</td>\n",
       "      <td>62507</td>\n",
       "      <td>62507</td>\n",
       "      <td>62507</td>\n",
       "      <td>62507</td>\n",
       "      <td>1000372</td>\n",
       "      <td>2018</td>\n",
       "      <td>...</td>\n",
       "      <td>20180226628853702</td>\n",
       "      <td>201802266288537</td>\n",
       "      <td>18</td>\n",
       "      <td>30</td>\n",
       "      <td>2</td>\n",
       "      <td>5716</td>\n",
       "      <td>0</td>\n",
       "      <td>0</td>\n",
       "      <td>1</td>\n",
       "      <td>17</td>\n",
       "    </tr>\n",
       "    <tr>\n",
       "      <th>476</th>\n",
       "      <td>2018-02-26</td>\n",
       "      <td>6288537</td>\n",
       "      <td>3</td>\n",
       "      <td>2807</td>\n",
       "      <td>62549</td>\n",
       "      <td>62549</td>\n",
       "      <td>62549</td>\n",
       "      <td>62549</td>\n",
       "      <td>1000372</td>\n",
       "      <td>2018</td>\n",
       "      <td>...</td>\n",
       "      <td>20180226628853703</td>\n",
       "      <td>201802266288537</td>\n",
       "      <td>18</td>\n",
       "      <td>30</td>\n",
       "      <td>2</td>\n",
       "      <td>5716</td>\n",
       "      <td>0</td>\n",
       "      <td>0</td>\n",
       "      <td>1</td>\n",
       "      <td>17</td>\n",
       "    </tr>\n",
       "    <tr>\n",
       "      <th>477</th>\n",
       "      <td>2018-02-26</td>\n",
       "      <td>6288537</td>\n",
       "      <td>4</td>\n",
       "      <td>2808</td>\n",
       "      <td>62608</td>\n",
       "      <td>62608</td>\n",
       "      <td>62608</td>\n",
       "      <td>62608</td>\n",
       "      <td>1000372</td>\n",
       "      <td>2018</td>\n",
       "      <td>...</td>\n",
       "      <td>20180226628853704</td>\n",
       "      <td>201802266288537</td>\n",
       "      <td>18</td>\n",
       "      <td>30</td>\n",
       "      <td>2</td>\n",
       "      <td>5716</td>\n",
       "      <td>0</td>\n",
       "      <td>0</td>\n",
       "      <td>1</td>\n",
       "      <td>17</td>\n",
       "    </tr>\n",
       "    <tr>\n",
       "      <th>478</th>\n",
       "      <td>2018-02-26</td>\n",
       "      <td>6288537</td>\n",
       "      <td>5</td>\n",
       "      <td>486</td>\n",
       "      <td>62786</td>\n",
       "      <td>62786</td>\n",
       "      <td>62786</td>\n",
       "      <td>62786</td>\n",
       "      <td>1000372</td>\n",
       "      <td>2018</td>\n",
       "      <td>...</td>\n",
       "      <td>20180226628853705</td>\n",
       "      <td>201802266288537</td>\n",
       "      <td>18</td>\n",
       "      <td>30</td>\n",
       "      <td>2</td>\n",
       "      <td>5716</td>\n",
       "      <td>0</td>\n",
       "      <td>0</td>\n",
       "      <td>1</td>\n",
       "      <td>17</td>\n",
       "    </tr>\n",
       "  </tbody>\n",
       "</table>\n",
       "<p>5 rows × 22 columns</p>\n",
       "</div>"
      ],
      "text/plain": [
       "    DAYOFSERVICE   TRIPID  PROGRNUMBER  STOPPOINTID  PLANNEDTIME_ARR  \\\n",
       "474   2018-02-26  6288537            1          385            62400   \n",
       "475   2018-02-26  6288537            2         2806            62507   \n",
       "476   2018-02-26  6288537            3         2807            62549   \n",
       "477   2018-02-26  6288537            4         2808            62608   \n",
       "478   2018-02-26  6288537            5          486            62786   \n",
       "\n",
       "     PLANNEDTIME_DEP  ACTUALTIME_ARR  ACTUALTIME_DEP  VEHICLEID  year  ...  \\\n",
       "474            62400           62400           62400    1000372  2018  ...   \n",
       "475            62507           62507           62507    1000372  2018  ...   \n",
       "476            62549           62549           62549    1000372  2018  ...   \n",
       "477            62608           62608           62608    1000372  2018  ...   \n",
       "478            62786           62786           62786    1000372  2018  ...   \n",
       "\n",
       "                    id    trip_leave_id  LINEID  num_lineID DIRECTION  \\\n",
       "474  20180226628853701  201802266288537      18          30         2   \n",
       "475  20180226628853702  201802266288537      18          30         2   \n",
       "476  20180226628853703  201802266288537      18          30         2   \n",
       "477  20180226628853704  201802266288537      18          30         2   \n",
       "478  20180226628853705  201802266288537      18          30         2   \n",
       "\n",
       "     actual_duration  dayOfWeek  weekend  rushHour  actualARR_hour  \n",
       "474             5716          0        0         1              17  \n",
       "475             5716          0        0         1              17  \n",
       "476             5716          0        0         1              17  \n",
       "477             5716          0        0         1              17  \n",
       "478             5716          0        0         1              17  \n",
       "\n",
       "[5 rows x 22 columns]"
      ]
     },
     "execution_count": 21,
     "metadata": {},
     "output_type": "execute_result"
    }
   ],
   "source": [
    "wk.head()"
   ]
  },
  {
   "cell_type": "code",
   "execution_count": 22,
   "id": "c1b9c022",
   "metadata": {},
   "outputs": [
    {
     "data": {
      "text/plain": [
       "(16376433, 22)"
      ]
     },
     "execution_count": 22,
     "metadata": {},
     "output_type": "execute_result"
    }
   ],
   "source": [
    "wk.shape"
   ]
  },
  {
   "cell_type": "markdown",
   "id": "9001e06a",
   "metadata": {},
   "source": [
    "<h3>Send to CSV</h3>"
   ]
  },
  {
   "cell_type": "code",
   "execution_count": 23,
   "id": "a4594538",
   "metadata": {},
   "outputs": [],
   "source": [
    "# Send df to csv:\n",
    "lwk.to_csv('v5_16_tripLeave2_sp1.csv', index=False)"
   ]
  },
  {
   "cell_type": "markdown",
   "id": "e082232a",
   "metadata": {},
   "source": [
    "## Continue v5_tripLeave2_route_split_2"
   ]
  },
  {
   "cell_type": "code",
   "execution_count": 24,
   "id": "647c1774",
   "metadata": {},
   "outputs": [],
   "source": [
    "# Send df to csv:\n",
    "wk.to_csv('v5_tripLeave2_route_split_2.csv', index=False)"
   ]
  },
  {
   "cell_type": "code",
   "execution_count": null,
   "id": "c4a5925f",
   "metadata": {},
   "outputs": [],
   "source": []
  }
 ],
 "metadata": {
  "kernelspec": {
   "display_name": "Python 3 (ipykernel)",
   "language": "python",
   "name": "python3"
  },
  "language_info": {
   "codemirror_mode": {
    "name": "ipython",
    "version": 3
   },
   "file_extension": ".py",
   "mimetype": "text/x-python",
   "name": "python",
   "nbconvert_exporter": "python",
   "pygments_lexer": "ipython3",
   "version": "3.10.4"
  }
 },
 "nbformat": 4,
 "nbformat_minor": 5
}
