{
 "cells": [
  {
   "cell_type": "code",
   "execution_count": 1,
   "id": "29f878e6",
   "metadata": {},
   "outputs": [],
   "source": [
    "# Library Imports.\n",
    "import pandas as pd\n",
    "\n",
    "import numpy as np"
   ]
  },
  {
   "cell_type": "code",
   "execution_count": 2,
   "id": "12abaae1",
   "metadata": {},
   "outputs": [],
   "source": [
    "# Read tripleave6 route split 2 CSV file into Data Frame:\n",
    "wk = pd.read_csv('v5_tripLeave6_route_split_2.csv', keep_default_na=True, delimiter=',', skipinitialspace=True)"
   ]
  },
  {
   "cell_type": "code",
   "execution_count": 3,
   "id": "5dda47a0",
   "metadata": {},
   "outputs": [
    {
     "data": {
      "text/plain": [
       "(13579302, 22)"
      ]
     },
     "execution_count": 3,
     "metadata": {},
     "output_type": "execute_result"
    }
   ],
   "source": [
    "wk.shape"
   ]
  },
  {
   "cell_type": "code",
   "execution_count": null,
   "id": "c0c029ad",
   "metadata": {},
   "outputs": [],
   "source": [
    "wk.head()"
   ]
  },
  {
   "cell_type": "code",
   "execution_count": null,
   "id": "4878f708",
   "metadata": {},
   "outputs": [],
   "source": [
    "wk.dtypes"
   ]
  },
  {
   "cell_type": "markdown",
   "id": "81073090",
   "metadata": {},
   "source": [
    "## Datatype Changes"
   ]
  },
  {
   "cell_type": "code",
   "execution_count": 4,
   "id": "75954e98",
   "metadata": {},
   "outputs": [],
   "source": [
    "wk['num_lineID'] = wk['num_lineID'].astype('int16')\n",
    "wk['DIRECTION'] = wk['DIRECTION'].astype('int16')"
   ]
  },
  {
   "cell_type": "code",
   "execution_count": 5,
   "id": "81d272e5",
   "metadata": {},
   "outputs": [],
   "source": [
    "wk['actual_duration'] = wk['actual_duration'].astype('int64')\n",
    "wk['dayOfWeek'] = wk['dayOfWeek'].astype('int16')"
   ]
  },
  {
   "cell_type": "code",
   "execution_count": 6,
   "id": "8267e3dc",
   "metadata": {},
   "outputs": [],
   "source": [
    "wk['weekend'] = wk['weekend'].astype('int16')\n",
    "wk['rushHour'] = wk['rushHour'].astype('int16')"
   ]
  },
  {
   "cell_type": "code",
   "execution_count": null,
   "id": "604f0107",
   "metadata": {},
   "outputs": [],
   "source": [
    "wk.head()"
   ]
  },
  {
   "cell_type": "code",
   "execution_count": null,
   "id": "645ff86a",
   "metadata": {},
   "outputs": [],
   "source": [
    "wk.dtypes"
   ]
  },
  {
   "cell_type": "markdown",
   "id": "86d6d334",
   "metadata": {},
   "source": [
    "## Route 14"
   ]
  },
  {
   "cell_type": "code",
   "execution_count": 7,
   "id": "01b378cc",
   "metadata": {},
   "outputs": [],
   "source": [
    "lwk = wk[(wk['LINEID'] == '14')]"
   ]
  },
  {
   "cell_type": "code",
   "execution_count": 8,
   "id": "5ae677fe",
   "metadata": {},
   "outputs": [
    {
     "data": {
      "text/plain": [
       "(502575, 22)"
      ]
     },
     "execution_count": 8,
     "metadata": {},
     "output_type": "execute_result"
    }
   ],
   "source": [
    "lwk.shape"
   ]
  },
  {
   "cell_type": "code",
   "execution_count": 9,
   "id": "eb268b7e",
   "metadata": {},
   "outputs": [],
   "source": [
    "# Drop Route 14 rows from wk\n",
    "wk.drop(wk[wk['LINEID'] == '14'].index, inplace = True)"
   ]
  },
  {
   "cell_type": "code",
   "execution_count": null,
   "id": "cdb83698",
   "metadata": {},
   "outputs": [],
   "source": [
    "wk.head()"
   ]
  },
  {
   "cell_type": "code",
   "execution_count": null,
   "id": "f85f5650",
   "metadata": {},
   "outputs": [],
   "source": [
    "wk.shape"
   ]
  },
  {
   "cell_type": "markdown",
   "id": "f36c2173",
   "metadata": {},
   "source": [
    "<h3>Send to CSV</h3>"
   ]
  },
  {
   "cell_type": "code",
   "execution_count": null,
   "id": "4fcd4689",
   "metadata": {},
   "outputs": [],
   "source": [
    "# Send df to csv:\n",
    "lwk.to_csv('v5_14_tripLeave6_sp2.csv', index=False)"
   ]
  },
  {
   "cell_type": "markdown",
   "id": "02f3d83e",
   "metadata": {},
   "source": [
    "## Route 123"
   ]
  },
  {
   "cell_type": "code",
   "execution_count": 10,
   "id": "b91914a8",
   "metadata": {},
   "outputs": [],
   "source": [
    "lwk = wk[(wk['LINEID'] == '123')]"
   ]
  },
  {
   "cell_type": "code",
   "execution_count": 11,
   "id": "697f3295",
   "metadata": {},
   "outputs": [
    {
     "data": {
      "text/plain": [
       "(338431, 22)"
      ]
     },
     "execution_count": 11,
     "metadata": {},
     "output_type": "execute_result"
    }
   ],
   "source": [
    "lwk.shape"
   ]
  },
  {
   "cell_type": "code",
   "execution_count": 12,
   "id": "d4360a64",
   "metadata": {},
   "outputs": [],
   "source": [
    "# Drop Route 123 rows from wk\n",
    "wk.drop(wk[wk['LINEID'] == '123'].index, inplace = True)"
   ]
  },
  {
   "cell_type": "code",
   "execution_count": null,
   "id": "942c64b0",
   "metadata": {},
   "outputs": [],
   "source": [
    "wk.head()"
   ]
  },
  {
   "cell_type": "code",
   "execution_count": null,
   "id": "cdc545e0",
   "metadata": {},
   "outputs": [],
   "source": [
    "wk.shape"
   ]
  },
  {
   "cell_type": "markdown",
   "id": "40667721",
   "metadata": {},
   "source": [
    "<h3>Send to CSV</h3>"
   ]
  },
  {
   "cell_type": "code",
   "execution_count": null,
   "id": "5d225394",
   "metadata": {},
   "outputs": [],
   "source": [
    "# Send df to csv:\n",
    "lwk.to_csv('v5_123_tripLeave6_sp2.csv', index=False)"
   ]
  },
  {
   "cell_type": "markdown",
   "id": "c9871333",
   "metadata": {},
   "source": [
    "## Route 75"
   ]
  },
  {
   "cell_type": "code",
   "execution_count": 13,
   "id": "6d09b20e",
   "metadata": {},
   "outputs": [],
   "source": [
    "lwk = wk[(wk['LINEID'] == '75')]"
   ]
  },
  {
   "cell_type": "code",
   "execution_count": 14,
   "id": "5a20631a",
   "metadata": {},
   "outputs": [
    {
     "data": {
      "text/plain": [
       "(39348, 22)"
      ]
     },
     "execution_count": 14,
     "metadata": {},
     "output_type": "execute_result"
    }
   ],
   "source": [
    "lwk.shape"
   ]
  },
  {
   "cell_type": "code",
   "execution_count": 15,
   "id": "33e489aa",
   "metadata": {},
   "outputs": [],
   "source": [
    "# Drop Route 75 rows from wk\n",
    "wk.drop(wk[wk['LINEID'] == '75'].index, inplace = True)"
   ]
  },
  {
   "cell_type": "code",
   "execution_count": null,
   "id": "4ed9474e",
   "metadata": {},
   "outputs": [],
   "source": [
    "wk.head()"
   ]
  },
  {
   "cell_type": "code",
   "execution_count": null,
   "id": "f5f7599c",
   "metadata": {},
   "outputs": [],
   "source": [
    "wk.shape"
   ]
  },
  {
   "cell_type": "markdown",
   "id": "38748ef1",
   "metadata": {},
   "source": [
    "<h3>Send to CSV</h3>"
   ]
  },
  {
   "cell_type": "code",
   "execution_count": null,
   "id": "838ecfd9",
   "metadata": {},
   "outputs": [],
   "source": [
    "# Send df to csv:\n",
    "lwk.to_csv('v5_75_tripLeave6_sp2.csv', index=False)"
   ]
  },
  {
   "cell_type": "markdown",
   "id": "c9ce61f5",
   "metadata": {},
   "source": [
    "## Route 54A"
   ]
  },
  {
   "cell_type": "code",
   "execution_count": 16,
   "id": "f6ad83ea",
   "metadata": {},
   "outputs": [],
   "source": [
    "lwk = wk[(wk['LINEID'] == '54A')]"
   ]
  },
  {
   "cell_type": "code",
   "execution_count": 17,
   "id": "ec9abc5f",
   "metadata": {},
   "outputs": [
    {
     "data": {
      "text/plain": [
       "(117449, 22)"
      ]
     },
     "execution_count": 17,
     "metadata": {},
     "output_type": "execute_result"
    }
   ],
   "source": [
    "lwk.shape"
   ]
  },
  {
   "cell_type": "code",
   "execution_count": 18,
   "id": "33c70ba9",
   "metadata": {},
   "outputs": [],
   "source": [
    "# Drop Route 54A rows from wk\n",
    "wk.drop(wk[wk['LINEID'] == '54A'].index, inplace = True)"
   ]
  },
  {
   "cell_type": "code",
   "execution_count": null,
   "id": "1f691a8b",
   "metadata": {},
   "outputs": [],
   "source": [
    "wk.head()"
   ]
  },
  {
   "cell_type": "code",
   "execution_count": null,
   "id": "c35ec0ec",
   "metadata": {},
   "outputs": [],
   "source": [
    "wk.shape"
   ]
  },
  {
   "cell_type": "markdown",
   "id": "685da73e",
   "metadata": {},
   "source": [
    "<h3>Send to CSV</h3>"
   ]
  },
  {
   "cell_type": "code",
   "execution_count": null,
   "id": "dd78bfed",
   "metadata": {},
   "outputs": [],
   "source": [
    "# Send df to csv:\n",
    "lwk.to_csv('v5_54A_tripLeave6_sp2.csv', index=False)"
   ]
  },
  {
   "cell_type": "markdown",
   "id": "0a607558",
   "metadata": {},
   "source": [
    "## Route 83"
   ]
  },
  {
   "cell_type": "code",
   "execution_count": 19,
   "id": "d4accdca",
   "metadata": {},
   "outputs": [],
   "source": [
    "lwk = wk[(wk['LINEID'] == '83')]"
   ]
  },
  {
   "cell_type": "code",
   "execution_count": 20,
   "id": "8bd84191",
   "metadata": {},
   "outputs": [
    {
     "data": {
      "text/plain": [
       "(375369, 22)"
      ]
     },
     "execution_count": 20,
     "metadata": {},
     "output_type": "execute_result"
    }
   ],
   "source": [
    "lwk.shape"
   ]
  },
  {
   "cell_type": "code",
   "execution_count": 21,
   "id": "9329913e",
   "metadata": {},
   "outputs": [],
   "source": [
    "# Drop Route 83 rows from wk\n",
    "wk.drop(wk[wk['LINEID'] == '83'].index, inplace = True)"
   ]
  },
  {
   "cell_type": "code",
   "execution_count": null,
   "id": "e6684ab8",
   "metadata": {},
   "outputs": [],
   "source": [
    "wk.head()"
   ]
  },
  {
   "cell_type": "code",
   "execution_count": null,
   "id": "c1b9c022",
   "metadata": {},
   "outputs": [],
   "source": [
    "wk.shape"
   ]
  },
  {
   "cell_type": "markdown",
   "id": "9001e06a",
   "metadata": {},
   "source": [
    "<h3>Send to CSV</h3>"
   ]
  },
  {
   "cell_type": "code",
   "execution_count": null,
   "id": "a4594538",
   "metadata": {},
   "outputs": [],
   "source": [
    "# Send df to csv:\n",
    "lwk.to_csv('v5_83_tripLeave6_sp2.csv', index=False)"
   ]
  },
  {
   "cell_type": "markdown",
   "id": "cf6b9a30",
   "metadata": {},
   "source": [
    "## Route 83A"
   ]
  },
  {
   "cell_type": "code",
   "execution_count": 22,
   "id": "be7cfb01",
   "metadata": {},
   "outputs": [],
   "source": [
    "lwk = wk[(wk['LINEID'] == '83A')]"
   ]
  },
  {
   "cell_type": "code",
   "execution_count": 23,
   "id": "ba583db4",
   "metadata": {},
   "outputs": [
    {
     "data": {
      "text/plain": [
       "(105398, 22)"
      ]
     },
     "execution_count": 23,
     "metadata": {},
     "output_type": "execute_result"
    }
   ],
   "source": [
    "lwk.shape"
   ]
  },
  {
   "cell_type": "code",
   "execution_count": 24,
   "id": "9e719e0a",
   "metadata": {},
   "outputs": [],
   "source": [
    "# Drop Route 83A rows from wk\n",
    "wk.drop(wk[wk['LINEID'] == '83A'].index, inplace = True)"
   ]
  },
  {
   "cell_type": "code",
   "execution_count": null,
   "id": "1c15d26f",
   "metadata": {},
   "outputs": [],
   "source": [
    "wk.head()"
   ]
  },
  {
   "cell_type": "code",
   "execution_count": null,
   "id": "5299a41b",
   "metadata": {},
   "outputs": [],
   "source": [
    "wk.shape"
   ]
  },
  {
   "cell_type": "markdown",
   "id": "c95c36a2",
   "metadata": {},
   "source": [
    "<h3>Send to CSV</h3>"
   ]
  },
  {
   "cell_type": "code",
   "execution_count": null,
   "id": "10e456a8",
   "metadata": {},
   "outputs": [],
   "source": [
    "# Send df to csv:\n",
    "lwk.to_csv('v5_83A_tripLeave6_sp2.csv', index=False)"
   ]
  },
  {
   "cell_type": "markdown",
   "id": "eae8e196",
   "metadata": {},
   "source": [
    "## Route 18"
   ]
  },
  {
   "cell_type": "code",
   "execution_count": 25,
   "id": "2fe9252d",
   "metadata": {},
   "outputs": [],
   "source": [
    "lwk = wk[(wk['LINEID'] == '18')]"
   ]
  },
  {
   "cell_type": "code",
   "execution_count": 26,
   "id": "df08328a",
   "metadata": {},
   "outputs": [
    {
     "data": {
      "text/plain": [
       "(207290, 22)"
      ]
     },
     "execution_count": 26,
     "metadata": {},
     "output_type": "execute_result"
    }
   ],
   "source": [
    "lwk.shape"
   ]
  },
  {
   "cell_type": "code",
   "execution_count": 27,
   "id": "b0b02512",
   "metadata": {},
   "outputs": [],
   "source": [
    "# Drop Route 18 rows from wk\n",
    "wk.drop(wk[wk['LINEID'] == '18'].index, inplace = True)"
   ]
  },
  {
   "cell_type": "code",
   "execution_count": null,
   "id": "8b9db2a6",
   "metadata": {},
   "outputs": [],
   "source": [
    "wk.head()"
   ]
  },
  {
   "cell_type": "code",
   "execution_count": null,
   "id": "91131d06",
   "metadata": {},
   "outputs": [],
   "source": [
    "wk.shape"
   ]
  },
  {
   "cell_type": "markdown",
   "id": "3a88d28c",
   "metadata": {},
   "source": [
    "<h3>Send to CSV</h3>"
   ]
  },
  {
   "cell_type": "code",
   "execution_count": null,
   "id": "8bc23b00",
   "metadata": {},
   "outputs": [],
   "source": [
    "# Send df to csv:\n",
    "lwk.to_csv('v5_18_tripLeave6_sp2.csv', index=False)"
   ]
  },
  {
   "cell_type": "markdown",
   "id": "12bd18a1",
   "metadata": {},
   "source": [
    "## Route 45A"
   ]
  },
  {
   "cell_type": "code",
   "execution_count": 28,
   "id": "310eb1b2",
   "metadata": {},
   "outputs": [],
   "source": [
    "lwk = wk[(wk['LINEID'] == '45A')]"
   ]
  },
  {
   "cell_type": "code",
   "execution_count": 29,
   "id": "9d7e0310",
   "metadata": {},
   "outputs": [
    {
     "data": {
      "text/plain": [
       "(30454, 22)"
      ]
     },
     "execution_count": 29,
     "metadata": {},
     "output_type": "execute_result"
    }
   ],
   "source": [
    "lwk.shape"
   ]
  },
  {
   "cell_type": "code",
   "execution_count": 30,
   "id": "2bc58961",
   "metadata": {},
   "outputs": [],
   "source": [
    "# Drop Route 45A rows from wk\n",
    "wk.drop(wk[wk['LINEID'] == '45A'].index, inplace = True)"
   ]
  },
  {
   "cell_type": "code",
   "execution_count": null,
   "id": "e626322e",
   "metadata": {},
   "outputs": [],
   "source": [
    "wk.head()"
   ]
  },
  {
   "cell_type": "code",
   "execution_count": null,
   "id": "1925fbda",
   "metadata": {},
   "outputs": [],
   "source": [
    "wk.shape"
   ]
  },
  {
   "cell_type": "markdown",
   "id": "fbce052d",
   "metadata": {},
   "source": [
    "<h3>Send to CSV</h3>"
   ]
  },
  {
   "cell_type": "code",
   "execution_count": null,
   "id": "f7db27b7",
   "metadata": {},
   "outputs": [],
   "source": [
    "# Send df to csv:\n",
    "lwk.to_csv('v5_45A_tripLeave6_sp2.csv', index=False)"
   ]
  },
  {
   "cell_type": "markdown",
   "id": "b634e919",
   "metadata": {},
   "source": [
    "## Route 130"
   ]
  },
  {
   "cell_type": "code",
   "execution_count": 31,
   "id": "3953f651",
   "metadata": {},
   "outputs": [],
   "source": [
    "lwk = wk[(wk['LINEID'] == '130')]"
   ]
  },
  {
   "cell_type": "code",
   "execution_count": 32,
   "id": "c2cf16ab",
   "metadata": {},
   "outputs": [
    {
     "data": {
      "text/plain": [
       "(304924, 22)"
      ]
     },
     "execution_count": 32,
     "metadata": {},
     "output_type": "execute_result"
    }
   ],
   "source": [
    "lwk.shape"
   ]
  },
  {
   "cell_type": "code",
   "execution_count": 33,
   "id": "9c60ac87",
   "metadata": {},
   "outputs": [],
   "source": [
    "# Drop Route 130 rows from wk\n",
    "wk.drop(wk[wk['LINEID'] == '130'].index, inplace = True)"
   ]
  },
  {
   "cell_type": "code",
   "execution_count": null,
   "id": "697f4f68",
   "metadata": {},
   "outputs": [],
   "source": [
    "wk.head()"
   ]
  },
  {
   "cell_type": "code",
   "execution_count": null,
   "id": "008d0da7",
   "metadata": {},
   "outputs": [],
   "source": [
    "wk.shape"
   ]
  },
  {
   "cell_type": "markdown",
   "id": "344cabed",
   "metadata": {},
   "source": [
    "<h3>Send to CSV</h3>"
   ]
  },
  {
   "cell_type": "code",
   "execution_count": null,
   "id": "a87bdae2",
   "metadata": {},
   "outputs": [],
   "source": [
    "# Send df to csv:\n",
    "lwk.to_csv('v5_130_tripLeave6_sp2.csv', index=False)"
   ]
  },
  {
   "cell_type": "markdown",
   "id": "9a1e859a",
   "metadata": {},
   "source": [
    "## Route 39"
   ]
  },
  {
   "cell_type": "code",
   "execution_count": 34,
   "id": "c9fb312b",
   "metadata": {},
   "outputs": [],
   "source": [
    "lwk = wk[(wk['LINEID'] == '39')]"
   ]
  },
  {
   "cell_type": "code",
   "execution_count": 35,
   "id": "f28d6741",
   "metadata": {},
   "outputs": [
    {
     "data": {
      "text/plain": [
       "(274366, 22)"
      ]
     },
     "execution_count": 35,
     "metadata": {},
     "output_type": "execute_result"
    }
   ],
   "source": [
    "lwk.shape"
   ]
  },
  {
   "cell_type": "code",
   "execution_count": 36,
   "id": "db270359",
   "metadata": {},
   "outputs": [],
   "source": [
    "# Drop Route 39 rows from wk\n",
    "wk.drop(wk[wk['LINEID'] == '39'].index, inplace = True)"
   ]
  },
  {
   "cell_type": "code",
   "execution_count": null,
   "id": "8f0c7612",
   "metadata": {},
   "outputs": [],
   "source": [
    "wk.head()"
   ]
  },
  {
   "cell_type": "code",
   "execution_count": null,
   "id": "34f4ce3a",
   "metadata": {},
   "outputs": [],
   "source": [
    "wk.shape"
   ]
  },
  {
   "cell_type": "markdown",
   "id": "c29421f1",
   "metadata": {},
   "source": [
    "<h3>Send to CSV</h3>"
   ]
  },
  {
   "cell_type": "code",
   "execution_count": null,
   "id": "7fd1814b",
   "metadata": {},
   "outputs": [],
   "source": [
    "# Send df to csv:\n",
    "lwk.to_csv('v5_39_tripLeave6_sp2.csv', index=False)"
   ]
  },
  {
   "cell_type": "markdown",
   "id": "ee451137",
   "metadata": {},
   "source": [
    "## Route 37"
   ]
  },
  {
   "cell_type": "code",
   "execution_count": 37,
   "id": "0b7442b9",
   "metadata": {},
   "outputs": [],
   "source": [
    "lwk = wk[(wk['LINEID'] == '37')]"
   ]
  },
  {
   "cell_type": "code",
   "execution_count": 38,
   "id": "d65befef",
   "metadata": {},
   "outputs": [
    {
     "data": {
      "text/plain": [
       "(312263, 22)"
      ]
     },
     "execution_count": 38,
     "metadata": {},
     "output_type": "execute_result"
    }
   ],
   "source": [
    "lwk.shape"
   ]
  },
  {
   "cell_type": "code",
   "execution_count": 39,
   "id": "91f7be6b",
   "metadata": {},
   "outputs": [],
   "source": [
    "# Drop Route 37 rows from wk\n",
    "wk.drop(wk[wk['LINEID'] == '37'].index, inplace = True)"
   ]
  },
  {
   "cell_type": "code",
   "execution_count": 40,
   "id": "b5b81713",
   "metadata": {},
   "outputs": [
    {
     "data": {
      "text/html": [
       "<div>\n",
       "<style scoped>\n",
       "    .dataframe tbody tr th:only-of-type {\n",
       "        vertical-align: middle;\n",
       "    }\n",
       "\n",
       "    .dataframe tbody tr th {\n",
       "        vertical-align: top;\n",
       "    }\n",
       "\n",
       "    .dataframe thead th {\n",
       "        text-align: right;\n",
       "    }\n",
       "</style>\n",
       "<table border=\"1\" class=\"dataframe\">\n",
       "  <thead>\n",
       "    <tr style=\"text-align: right;\">\n",
       "      <th></th>\n",
       "      <th>DAYOFSERVICE</th>\n",
       "      <th>TRIPID</th>\n",
       "      <th>PROGRNUMBER</th>\n",
       "      <th>STOPPOINTID</th>\n",
       "      <th>PLANNEDTIME_ARR</th>\n",
       "      <th>PLANNEDTIME_DEP</th>\n",
       "      <th>ACTUALTIME_ARR</th>\n",
       "      <th>ACTUALTIME_DEP</th>\n",
       "      <th>VEHICLEID</th>\n",
       "      <th>year</th>\n",
       "      <th>...</th>\n",
       "      <th>id</th>\n",
       "      <th>trip_leave_id</th>\n",
       "      <th>LINEID</th>\n",
       "      <th>num_lineID</th>\n",
       "      <th>DIRECTION</th>\n",
       "      <th>actual_duration</th>\n",
       "      <th>dayOfWeek</th>\n",
       "      <th>weekend</th>\n",
       "      <th>rushHour</th>\n",
       "      <th>actualARR_hour</th>\n",
       "    </tr>\n",
       "  </thead>\n",
       "  <tbody>\n",
       "    <tr>\n",
       "      <th>5662</th>\n",
       "      <td>2018-09-09</td>\n",
       "      <td>8090797</td>\n",
       "      <td>2</td>\n",
       "      <td>3587</td>\n",
       "      <td>37843</td>\n",
       "      <td>37843</td>\n",
       "      <td>37843</td>\n",
       "      <td>37843</td>\n",
       "      <td>1932366</td>\n",
       "      <td>2018</td>\n",
       "      <td>...</td>\n",
       "      <td>20180909809079702</td>\n",
       "      <td>201809098090797</td>\n",
       "      <td>32</td>\n",
       "      <td>53</td>\n",
       "      <td>2</td>\n",
       "      <td>2533</td>\n",
       "      <td>6</td>\n",
       "      <td>1</td>\n",
       "      <td>0</td>\n",
       "      <td>11</td>\n",
       "    </tr>\n",
       "    <tr>\n",
       "      <th>5663</th>\n",
       "      <td>2018-09-09</td>\n",
       "      <td>8090797</td>\n",
       "      <td>3</td>\n",
       "      <td>3588</td>\n",
       "      <td>37872</td>\n",
       "      <td>37872</td>\n",
       "      <td>37872</td>\n",
       "      <td>37872</td>\n",
       "      <td>1932366</td>\n",
       "      <td>2018</td>\n",
       "      <td>...</td>\n",
       "      <td>20180909809079703</td>\n",
       "      <td>201809098090797</td>\n",
       "      <td>32</td>\n",
       "      <td>53</td>\n",
       "      <td>2</td>\n",
       "      <td>2533</td>\n",
       "      <td>6</td>\n",
       "      <td>1</td>\n",
       "      <td>0</td>\n",
       "      <td>11</td>\n",
       "    </tr>\n",
       "    <tr>\n",
       "      <th>5664</th>\n",
       "      <td>2018-09-09</td>\n",
       "      <td>8090797</td>\n",
       "      <td>4</td>\n",
       "      <td>3590</td>\n",
       "      <td>37893</td>\n",
       "      <td>37893</td>\n",
       "      <td>37893</td>\n",
       "      <td>37893</td>\n",
       "      <td>1932366</td>\n",
       "      <td>2018</td>\n",
       "      <td>...</td>\n",
       "      <td>20180909809079704</td>\n",
       "      <td>201809098090797</td>\n",
       "      <td>32</td>\n",
       "      <td>53</td>\n",
       "      <td>2</td>\n",
       "      <td>2533</td>\n",
       "      <td>6</td>\n",
       "      <td>1</td>\n",
       "      <td>0</td>\n",
       "      <td>11</td>\n",
       "    </tr>\n",
       "    <tr>\n",
       "      <th>5665</th>\n",
       "      <td>2018-09-09</td>\n",
       "      <td>8090797</td>\n",
       "      <td>5</td>\n",
       "      <td>3589</td>\n",
       "      <td>37932</td>\n",
       "      <td>37932</td>\n",
       "      <td>37932</td>\n",
       "      <td>37932</td>\n",
       "      <td>1932366</td>\n",
       "      <td>2018</td>\n",
       "      <td>...</td>\n",
       "      <td>20180909809079705</td>\n",
       "      <td>201809098090797</td>\n",
       "      <td>32</td>\n",
       "      <td>53</td>\n",
       "      <td>2</td>\n",
       "      <td>2533</td>\n",
       "      <td>6</td>\n",
       "      <td>1</td>\n",
       "      <td>0</td>\n",
       "      <td>11</td>\n",
       "    </tr>\n",
       "    <tr>\n",
       "      <th>5666</th>\n",
       "      <td>2018-09-09</td>\n",
       "      <td>8090797</td>\n",
       "      <td>6</td>\n",
       "      <td>3591</td>\n",
       "      <td>37961</td>\n",
       "      <td>37961</td>\n",
       "      <td>37961</td>\n",
       "      <td>37961</td>\n",
       "      <td>1932366</td>\n",
       "      <td>2018</td>\n",
       "      <td>...</td>\n",
       "      <td>20180909809079706</td>\n",
       "      <td>201809098090797</td>\n",
       "      <td>32</td>\n",
       "      <td>53</td>\n",
       "      <td>2</td>\n",
       "      <td>2533</td>\n",
       "      <td>6</td>\n",
       "      <td>1</td>\n",
       "      <td>0</td>\n",
       "      <td>11</td>\n",
       "    </tr>\n",
       "  </tbody>\n",
       "</table>\n",
       "<p>5 rows × 22 columns</p>\n",
       "</div>"
      ],
      "text/plain": [
       "     DAYOFSERVICE   TRIPID  PROGRNUMBER  STOPPOINTID  PLANNEDTIME_ARR  \\\n",
       "5662   2018-09-09  8090797            2         3587            37843   \n",
       "5663   2018-09-09  8090797            3         3588            37872   \n",
       "5664   2018-09-09  8090797            4         3590            37893   \n",
       "5665   2018-09-09  8090797            5         3589            37932   \n",
       "5666   2018-09-09  8090797            6         3591            37961   \n",
       "\n",
       "      PLANNEDTIME_DEP  ACTUALTIME_ARR  ACTUALTIME_DEP  VEHICLEID  year  ...  \\\n",
       "5662            37843           37843           37843    1932366  2018  ...   \n",
       "5663            37872           37872           37872    1932366  2018  ...   \n",
       "5664            37893           37893           37893    1932366  2018  ...   \n",
       "5665            37932           37932           37932    1932366  2018  ...   \n",
       "5666            37961           37961           37961    1932366  2018  ...   \n",
       "\n",
       "                     id    trip_leave_id  LINEID  num_lineID DIRECTION  \\\n",
       "5662  20180909809079702  201809098090797      32          53         2   \n",
       "5663  20180909809079703  201809098090797      32          53         2   \n",
       "5664  20180909809079704  201809098090797      32          53         2   \n",
       "5665  20180909809079705  201809098090797      32          53         2   \n",
       "5666  20180909809079706  201809098090797      32          53         2   \n",
       "\n",
       "      actual_duration  dayOfWeek  weekend  rushHour  actualARR_hour  \n",
       "5662             2533          6        1         0              11  \n",
       "5663             2533          6        1         0              11  \n",
       "5664             2533          6        1         0              11  \n",
       "5665             2533          6        1         0              11  \n",
       "5666             2533          6        1         0              11  \n",
       "\n",
       "[5 rows x 22 columns]"
      ]
     },
     "execution_count": 40,
     "metadata": {},
     "output_type": "execute_result"
    }
   ],
   "source": [
    "wk.head()"
   ]
  },
  {
   "cell_type": "code",
   "execution_count": 41,
   "id": "db5ba536",
   "metadata": {},
   "outputs": [
    {
     "data": {
      "text/plain": [
       "(10971435, 22)"
      ]
     },
     "execution_count": 41,
     "metadata": {},
     "output_type": "execute_result"
    }
   ],
   "source": [
    "wk.shape"
   ]
  },
  {
   "cell_type": "markdown",
   "id": "6f1e5372",
   "metadata": {},
   "source": [
    "<h3>Send to CSV</h3>"
   ]
  },
  {
   "cell_type": "code",
   "execution_count": 42,
   "id": "dd5efd24",
   "metadata": {},
   "outputs": [],
   "source": [
    "# Send df to csv:\n",
    "lwk.to_csv('v5_37_tripLeave6_sp2.csv', index=False)"
   ]
  },
  {
   "cell_type": "markdown",
   "id": "3e31757f",
   "metadata": {},
   "source": [
    "## Route 32"
   ]
  },
  {
   "cell_type": "code",
   "execution_count": 43,
   "id": "bc881fd8",
   "metadata": {},
   "outputs": [],
   "source": [
    "lwk = wk[(wk['LINEID'] == '32')]"
   ]
  },
  {
   "cell_type": "code",
   "execution_count": 44,
   "id": "c5e11ea4",
   "metadata": {},
   "outputs": [
    {
     "data": {
      "text/plain": [
       "(151675, 22)"
      ]
     },
     "execution_count": 44,
     "metadata": {},
     "output_type": "execute_result"
    }
   ],
   "source": [
    "lwk.shape"
   ]
  },
  {
   "cell_type": "code",
   "execution_count": 45,
   "id": "37e0c93e",
   "metadata": {},
   "outputs": [],
   "source": [
    "# Drop Route 32 rows from wk\n",
    "wk.drop(wk[wk['LINEID'] == '32'].index, inplace = True)"
   ]
  },
  {
   "cell_type": "code",
   "execution_count": 46,
   "id": "7ea5a3c1",
   "metadata": {},
   "outputs": [
    {
     "data": {
      "text/html": [
       "<div>\n",
       "<style scoped>\n",
       "    .dataframe tbody tr th:only-of-type {\n",
       "        vertical-align: middle;\n",
       "    }\n",
       "\n",
       "    .dataframe tbody tr th {\n",
       "        vertical-align: top;\n",
       "    }\n",
       "\n",
       "    .dataframe thead th {\n",
       "        text-align: right;\n",
       "    }\n",
       "</style>\n",
       "<table border=\"1\" class=\"dataframe\">\n",
       "  <thead>\n",
       "    <tr style=\"text-align: right;\">\n",
       "      <th></th>\n",
       "      <th>DAYOFSERVICE</th>\n",
       "      <th>TRIPID</th>\n",
       "      <th>PROGRNUMBER</th>\n",
       "      <th>STOPPOINTID</th>\n",
       "      <th>PLANNEDTIME_ARR</th>\n",
       "      <th>PLANNEDTIME_DEP</th>\n",
       "      <th>ACTUALTIME_ARR</th>\n",
       "      <th>ACTUALTIME_DEP</th>\n",
       "      <th>VEHICLEID</th>\n",
       "      <th>year</th>\n",
       "      <th>...</th>\n",
       "      <th>id</th>\n",
       "      <th>trip_leave_id</th>\n",
       "      <th>LINEID</th>\n",
       "      <th>num_lineID</th>\n",
       "      <th>DIRECTION</th>\n",
       "      <th>actual_duration</th>\n",
       "      <th>dayOfWeek</th>\n",
       "      <th>weekend</th>\n",
       "      <th>rushHour</th>\n",
       "      <th>actualARR_hour</th>\n",
       "    </tr>\n",
       "  </thead>\n",
       "  <tbody>\n",
       "    <tr>\n",
       "      <th>6473</th>\n",
       "      <td>2018-09-09</td>\n",
       "      <td>8090877</td>\n",
       "      <td>1</td>\n",
       "      <td>7132</td>\n",
       "      <td>37500</td>\n",
       "      <td>37500</td>\n",
       "      <td>37500</td>\n",
       "      <td>37500</td>\n",
       "      <td>2172274</td>\n",
       "      <td>2018</td>\n",
       "      <td>...</td>\n",
       "      <td>20180909809087701</td>\n",
       "      <td>201809098090877</td>\n",
       "      <td>9</td>\n",
       "      <td>129</td>\n",
       "      <td>1</td>\n",
       "      <td>3886</td>\n",
       "      <td>6</td>\n",
       "      <td>1</td>\n",
       "      <td>0</td>\n",
       "      <td>10</td>\n",
       "    </tr>\n",
       "    <tr>\n",
       "      <th>6474</th>\n",
       "      <td>2018-09-09</td>\n",
       "      <td>8090877</td>\n",
       "      <td>2</td>\n",
       "      <td>6230</td>\n",
       "      <td>37570</td>\n",
       "      <td>37570</td>\n",
       "      <td>37570</td>\n",
       "      <td>37570</td>\n",
       "      <td>2172274</td>\n",
       "      <td>2018</td>\n",
       "      <td>...</td>\n",
       "      <td>20180909809087702</td>\n",
       "      <td>201809098090877</td>\n",
       "      <td>9</td>\n",
       "      <td>129</td>\n",
       "      <td>1</td>\n",
       "      <td>3886</td>\n",
       "      <td>6</td>\n",
       "      <td>1</td>\n",
       "      <td>0</td>\n",
       "      <td>10</td>\n",
       "    </tr>\n",
       "    <tr>\n",
       "      <th>6475</th>\n",
       "      <td>2018-09-09</td>\n",
       "      <td>8090877</td>\n",
       "      <td>3</td>\n",
       "      <td>6228</td>\n",
       "      <td>37613</td>\n",
       "      <td>37613</td>\n",
       "      <td>37613</td>\n",
       "      <td>37613</td>\n",
       "      <td>2172274</td>\n",
       "      <td>2018</td>\n",
       "      <td>...</td>\n",
       "      <td>20180909809087703</td>\n",
       "      <td>201809098090877</td>\n",
       "      <td>9</td>\n",
       "      <td>129</td>\n",
       "      <td>1</td>\n",
       "      <td>3886</td>\n",
       "      <td>6</td>\n",
       "      <td>1</td>\n",
       "      <td>0</td>\n",
       "      <td>10</td>\n",
       "    </tr>\n",
       "    <tr>\n",
       "      <th>6476</th>\n",
       "      <td>2018-09-09</td>\n",
       "      <td>8090877</td>\n",
       "      <td>4</td>\n",
       "      <td>4788</td>\n",
       "      <td>37668</td>\n",
       "      <td>37668</td>\n",
       "      <td>37668</td>\n",
       "      <td>37668</td>\n",
       "      <td>2172274</td>\n",
       "      <td>2018</td>\n",
       "      <td>...</td>\n",
       "      <td>20180909809087704</td>\n",
       "      <td>201809098090877</td>\n",
       "      <td>9</td>\n",
       "      <td>129</td>\n",
       "      <td>1</td>\n",
       "      <td>3886</td>\n",
       "      <td>6</td>\n",
       "      <td>1</td>\n",
       "      <td>0</td>\n",
       "      <td>10</td>\n",
       "    </tr>\n",
       "    <tr>\n",
       "      <th>6477</th>\n",
       "      <td>2018-09-09</td>\n",
       "      <td>8090877</td>\n",
       "      <td>5</td>\n",
       "      <td>6273</td>\n",
       "      <td>37719</td>\n",
       "      <td>37719</td>\n",
       "      <td>37719</td>\n",
       "      <td>37719</td>\n",
       "      <td>2172274</td>\n",
       "      <td>2018</td>\n",
       "      <td>...</td>\n",
       "      <td>20180909809087705</td>\n",
       "      <td>201809098090877</td>\n",
       "      <td>9</td>\n",
       "      <td>129</td>\n",
       "      <td>1</td>\n",
       "      <td>3886</td>\n",
       "      <td>6</td>\n",
       "      <td>1</td>\n",
       "      <td>0</td>\n",
       "      <td>10</td>\n",
       "    </tr>\n",
       "  </tbody>\n",
       "</table>\n",
       "<p>5 rows × 22 columns</p>\n",
       "</div>"
      ],
      "text/plain": [
       "     DAYOFSERVICE   TRIPID  PROGRNUMBER  STOPPOINTID  PLANNEDTIME_ARR  \\\n",
       "6473   2018-09-09  8090877            1         7132            37500   \n",
       "6474   2018-09-09  8090877            2         6230            37570   \n",
       "6475   2018-09-09  8090877            3         6228            37613   \n",
       "6476   2018-09-09  8090877            4         4788            37668   \n",
       "6477   2018-09-09  8090877            5         6273            37719   \n",
       "\n",
       "      PLANNEDTIME_DEP  ACTUALTIME_ARR  ACTUALTIME_DEP  VEHICLEID  year  ...  \\\n",
       "6473            37500           37500           37500    2172274  2018  ...   \n",
       "6474            37570           37570           37570    2172274  2018  ...   \n",
       "6475            37613           37613           37613    2172274  2018  ...   \n",
       "6476            37668           37668           37668    2172274  2018  ...   \n",
       "6477            37719           37719           37719    2172274  2018  ...   \n",
       "\n",
       "                     id    trip_leave_id  LINEID  num_lineID DIRECTION  \\\n",
       "6473  20180909809087701  201809098090877       9         129         1   \n",
       "6474  20180909809087702  201809098090877       9         129         1   \n",
       "6475  20180909809087703  201809098090877       9         129         1   \n",
       "6476  20180909809087704  201809098090877       9         129         1   \n",
       "6477  20180909809087705  201809098090877       9         129         1   \n",
       "\n",
       "      actual_duration  dayOfWeek  weekend  rushHour  actualARR_hour  \n",
       "6473             3886          6        1         0              10  \n",
       "6474             3886          6        1         0              10  \n",
       "6475             3886          6        1         0              10  \n",
       "6476             3886          6        1         0              10  \n",
       "6477             3886          6        1         0              10  \n",
       "\n",
       "[5 rows x 22 columns]"
      ]
     },
     "execution_count": 46,
     "metadata": {},
     "output_type": "execute_result"
    }
   ],
   "source": [
    "wk.head()"
   ]
  },
  {
   "cell_type": "code",
   "execution_count": 47,
   "id": "d57633b8",
   "metadata": {},
   "outputs": [
    {
     "data": {
      "text/plain": [
       "(10819760, 22)"
      ]
     },
     "execution_count": 47,
     "metadata": {},
     "output_type": "execute_result"
    }
   ],
   "source": [
    "wk.shape"
   ]
  },
  {
   "cell_type": "markdown",
   "id": "d74fafcb",
   "metadata": {},
   "source": [
    "<h3>Send to CSV</h3>"
   ]
  },
  {
   "cell_type": "code",
   "execution_count": 48,
   "id": "ba54eb20",
   "metadata": {},
   "outputs": [],
   "source": [
    "# Send df to csv:\n",
    "lwk.to_csv('v5_32_tripLeave6_sp2.csv', index=False)"
   ]
  },
  {
   "cell_type": "markdown",
   "id": "e082232a",
   "metadata": {},
   "source": [
    "## Continue v5_tripLeave6_route_split_3"
   ]
  },
  {
   "cell_type": "code",
   "execution_count": 49,
   "id": "647c1774",
   "metadata": {},
   "outputs": [],
   "source": [
    "# Send df to csv:\n",
    "wk.to_csv('v5_tripLeave6_route_split_3.csv', index=False)"
   ]
  },
  {
   "cell_type": "code",
   "execution_count": null,
   "id": "c4a5925f",
   "metadata": {},
   "outputs": [],
   "source": []
  }
 ],
 "metadata": {
  "kernelspec": {
   "display_name": "Python 3 (ipykernel)",
   "language": "python",
   "name": "python3"
  },
  "language_info": {
   "codemirror_mode": {
    "name": "ipython",
    "version": 3
   },
   "file_extension": ".py",
   "mimetype": "text/x-python",
   "name": "python",
   "nbconvert_exporter": "python",
   "pygments_lexer": "ipython3",
   "version": "3.10.4"
  }
 },
 "nbformat": 4,
 "nbformat_minor": 5
}
