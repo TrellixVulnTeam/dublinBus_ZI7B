{
 "cells": [
  {
   "cell_type": "code",
   "execution_count": 1,
   "id": "29f878e6",
   "metadata": {},
   "outputs": [],
   "source": [
    "# Library Imports.\n",
    "import pandas as pd\n",
    "\n",
    "import numpy as np"
   ]
  },
  {
   "cell_type": "code",
   "execution_count": 2,
   "id": "12abaae1",
   "metadata": {},
   "outputs": [],
   "source": [
    "# Read tripleave2 route split 9c CSV file into Data Frame:\n",
    "wk = pd.read_csv('v5_tripLeave2_route_split_9c.csv', keep_default_na=True, delimiter=',', skipinitialspace=True)"
   ]
  },
  {
   "cell_type": "code",
   "execution_count": 3,
   "id": "5dda47a0",
   "metadata": {},
   "outputs": [
    {
     "data": {
      "text/plain": [
       "(65536, 22)"
      ]
     },
     "execution_count": 3,
     "metadata": {},
     "output_type": "execute_result"
    }
   ],
   "source": [
    "wk.shape"
   ]
  },
  {
   "cell_type": "code",
   "execution_count": null,
   "id": "c0c029ad",
   "metadata": {},
   "outputs": [],
   "source": [
    "wk.head()"
   ]
  },
  {
   "cell_type": "code",
   "execution_count": null,
   "id": "4878f708",
   "metadata": {},
   "outputs": [],
   "source": [
    "wk.dtypes"
   ]
  },
  {
   "cell_type": "markdown",
   "id": "81073090",
   "metadata": {},
   "source": [
    "## Datatype Changes"
   ]
  },
  {
   "cell_type": "code",
   "execution_count": 4,
   "id": "75954e98",
   "metadata": {},
   "outputs": [],
   "source": [
    "wk['num_lineID'] = wk['num_lineID'].astype('int16')\n",
    "wk['DIRECTION'] = wk['DIRECTION'].astype('int16')"
   ]
  },
  {
   "cell_type": "code",
   "execution_count": 5,
   "id": "81d272e5",
   "metadata": {},
   "outputs": [],
   "source": [
    "wk['actual_duration'] = wk['actual_duration'].astype('int64')\n",
    "wk['dayOfWeek'] = wk['dayOfWeek'].astype('int16')"
   ]
  },
  {
   "cell_type": "code",
   "execution_count": 6,
   "id": "8267e3dc",
   "metadata": {},
   "outputs": [],
   "source": [
    "wk['weekend'] = wk['weekend'].astype('int16')\n",
    "wk['rushHour'] = wk['rushHour'].astype('int16')"
   ]
  },
  {
   "cell_type": "code",
   "execution_count": 7,
   "id": "604f0107",
   "metadata": {},
   "outputs": [
    {
     "data": {
      "text/html": [
       "<div>\n",
       "<style scoped>\n",
       "    .dataframe tbody tr th:only-of-type {\n",
       "        vertical-align: middle;\n",
       "    }\n",
       "\n",
       "    .dataframe tbody tr th {\n",
       "        vertical-align: top;\n",
       "    }\n",
       "\n",
       "    .dataframe thead th {\n",
       "        text-align: right;\n",
       "    }\n",
       "</style>\n",
       "<table border=\"1\" class=\"dataframe\">\n",
       "  <thead>\n",
       "    <tr style=\"text-align: right;\">\n",
       "      <th></th>\n",
       "      <th>DAYOFSERVICE</th>\n",
       "      <th>TRIPID</th>\n",
       "      <th>PROGRNUMBER</th>\n",
       "      <th>STOPPOINTID</th>\n",
       "      <th>PLANNEDTIME_ARR</th>\n",
       "      <th>PLANNEDTIME_DEP</th>\n",
       "      <th>ACTUALTIME_ARR</th>\n",
       "      <th>ACTUALTIME_DEP</th>\n",
       "      <th>VEHICLEID</th>\n",
       "      <th>year</th>\n",
       "      <th>...</th>\n",
       "      <th>id</th>\n",
       "      <th>trip_leave_id</th>\n",
       "      <th>LINEID</th>\n",
       "      <th>num_lineID</th>\n",
       "      <th>DIRECTION</th>\n",
       "      <th>actual_duration</th>\n",
       "      <th>dayOfWeek</th>\n",
       "      <th>weekend</th>\n",
       "      <th>rushHour</th>\n",
       "      <th>actualARR_hour</th>\n",
       "    </tr>\n",
       "  </thead>\n",
       "  <tbody>\n",
       "    <tr>\n",
       "      <th>0</th>\n",
       "      <td>2018-03-29</td>\n",
       "      <td>6595909</td>\n",
       "      <td>21</td>\n",
       "      <td>4465</td>\n",
       "      <td>25386</td>\n",
       "      <td>25386</td>\n",
       "      <td>25386</td>\n",
       "      <td>25386</td>\n",
       "      <td>1000198</td>\n",
       "      <td>2018</td>\n",
       "      <td>...</td>\n",
       "      <td>20180329659590921</td>\n",
       "      <td>201803296595909</td>\n",
       "      <td>102</td>\n",
       "      <td>1</td>\n",
       "      <td>2</td>\n",
       "      <td>1214</td>\n",
       "      <td>3</td>\n",
       "      <td>0</td>\n",
       "      <td>0</td>\n",
       "      <td>7</td>\n",
       "    </tr>\n",
       "    <tr>\n",
       "      <th>1</th>\n",
       "      <td>2018-03-29</td>\n",
       "      <td>6595909</td>\n",
       "      <td>22</td>\n",
       "      <td>944</td>\n",
       "      <td>25411</td>\n",
       "      <td>25411</td>\n",
       "      <td>25411</td>\n",
       "      <td>25411</td>\n",
       "      <td>1000198</td>\n",
       "      <td>2018</td>\n",
       "      <td>...</td>\n",
       "      <td>20180329659590922</td>\n",
       "      <td>201803296595909</td>\n",
       "      <td>102</td>\n",
       "      <td>1</td>\n",
       "      <td>2</td>\n",
       "      <td>1214</td>\n",
       "      <td>3</td>\n",
       "      <td>0</td>\n",
       "      <td>0</td>\n",
       "      <td>7</td>\n",
       "    </tr>\n",
       "    <tr>\n",
       "      <th>2</th>\n",
       "      <td>2018-03-29</td>\n",
       "      <td>6595909</td>\n",
       "      <td>23</td>\n",
       "      <td>945</td>\n",
       "      <td>25434</td>\n",
       "      <td>25434</td>\n",
       "      <td>25434</td>\n",
       "      <td>25434</td>\n",
       "      <td>1000198</td>\n",
       "      <td>2018</td>\n",
       "      <td>...</td>\n",
       "      <td>20180329659590923</td>\n",
       "      <td>201803296595909</td>\n",
       "      <td>102</td>\n",
       "      <td>1</td>\n",
       "      <td>2</td>\n",
       "      <td>1214</td>\n",
       "      <td>3</td>\n",
       "      <td>0</td>\n",
       "      <td>0</td>\n",
       "      <td>7</td>\n",
       "    </tr>\n",
       "    <tr>\n",
       "      <th>3</th>\n",
       "      <td>2018-03-29</td>\n",
       "      <td>6595909</td>\n",
       "      <td>24</td>\n",
       "      <td>947</td>\n",
       "      <td>25484</td>\n",
       "      <td>25484</td>\n",
       "      <td>25484</td>\n",
       "      <td>25484</td>\n",
       "      <td>1000198</td>\n",
       "      <td>2018</td>\n",
       "      <td>...</td>\n",
       "      <td>20180329659590924</td>\n",
       "      <td>201803296595909</td>\n",
       "      <td>102</td>\n",
       "      <td>1</td>\n",
       "      <td>2</td>\n",
       "      <td>1214</td>\n",
       "      <td>3</td>\n",
       "      <td>0</td>\n",
       "      <td>0</td>\n",
       "      <td>7</td>\n",
       "    </tr>\n",
       "    <tr>\n",
       "      <th>4</th>\n",
       "      <td>2018-03-29</td>\n",
       "      <td>6595909</td>\n",
       "      <td>25</td>\n",
       "      <td>948</td>\n",
       "      <td>25505</td>\n",
       "      <td>25505</td>\n",
       "      <td>25505</td>\n",
       "      <td>25505</td>\n",
       "      <td>1000198</td>\n",
       "      <td>2018</td>\n",
       "      <td>...</td>\n",
       "      <td>20180329659590925</td>\n",
       "      <td>201803296595909</td>\n",
       "      <td>102</td>\n",
       "      <td>1</td>\n",
       "      <td>2</td>\n",
       "      <td>1214</td>\n",
       "      <td>3</td>\n",
       "      <td>0</td>\n",
       "      <td>0</td>\n",
       "      <td>7</td>\n",
       "    </tr>\n",
       "  </tbody>\n",
       "</table>\n",
       "<p>5 rows × 22 columns</p>\n",
       "</div>"
      ],
      "text/plain": [
       "  DAYOFSERVICE   TRIPID  PROGRNUMBER  STOPPOINTID  PLANNEDTIME_ARR  \\\n",
       "0   2018-03-29  6595909           21         4465            25386   \n",
       "1   2018-03-29  6595909           22          944            25411   \n",
       "2   2018-03-29  6595909           23          945            25434   \n",
       "3   2018-03-29  6595909           24          947            25484   \n",
       "4   2018-03-29  6595909           25          948            25505   \n",
       "\n",
       "   PLANNEDTIME_DEP  ACTUALTIME_ARR  ACTUALTIME_DEP  VEHICLEID  year  ...  \\\n",
       "0            25386           25386           25386    1000198  2018  ...   \n",
       "1            25411           25411           25411    1000198  2018  ...   \n",
       "2            25434           25434           25434    1000198  2018  ...   \n",
       "3            25484           25484           25484    1000198  2018  ...   \n",
       "4            25505           25505           25505    1000198  2018  ...   \n",
       "\n",
       "                  id    trip_leave_id  LINEID  num_lineID  DIRECTION  \\\n",
       "0  20180329659590921  201803296595909     102           1          2   \n",
       "1  20180329659590922  201803296595909     102           1          2   \n",
       "2  20180329659590923  201803296595909     102           1          2   \n",
       "3  20180329659590924  201803296595909     102           1          2   \n",
       "4  20180329659590925  201803296595909     102           1          2   \n",
       "\n",
       "   actual_duration  dayOfWeek  weekend  rushHour  actualARR_hour  \n",
       "0             1214          3        0         0               7  \n",
       "1             1214          3        0         0               7  \n",
       "2             1214          3        0         0               7  \n",
       "3             1214          3        0         0               7  \n",
       "4             1214          3        0         0               7  \n",
       "\n",
       "[5 rows x 22 columns]"
      ]
     },
     "execution_count": 7,
     "metadata": {},
     "output_type": "execute_result"
    }
   ],
   "source": [
    "wk.head()"
   ]
  },
  {
   "cell_type": "code",
   "execution_count": 8,
   "id": "645ff86a",
   "metadata": {},
   "outputs": [
    {
     "data": {
      "text/plain": [
       "DAYOFSERVICE       object\n",
       "TRIPID              int64\n",
       "PROGRNUMBER         int64\n",
       "STOPPOINTID         int64\n",
       "PLANNEDTIME_ARR     int64\n",
       "PLANNEDTIME_DEP     int64\n",
       "ACTUALTIME_ARR      int64\n",
       "ACTUALTIME_DEP      int64\n",
       "VEHICLEID           int64\n",
       "year                int64\n",
       "month               int64\n",
       "day                 int64\n",
       "id                  int64\n",
       "trip_leave_id       int64\n",
       "LINEID              int64\n",
       "num_lineID          int16\n",
       "DIRECTION           int16\n",
       "actual_duration     int64\n",
       "dayOfWeek           int16\n",
       "weekend             int16\n",
       "rushHour            int16\n",
       "actualARR_hour      int64\n",
       "dtype: object"
      ]
     },
     "execution_count": 8,
     "metadata": {},
     "output_type": "execute_result"
    }
   ],
   "source": [
    "wk.dtypes"
   ]
  },
  {
   "cell_type": "code",
   "execution_count": 9,
   "id": "210da928",
   "metadata": {},
   "outputs": [],
   "source": [
    "wk['LINEID'] = wk['LINEID'].astype('string')"
   ]
  },
  {
   "cell_type": "markdown",
   "id": "86d6d334",
   "metadata": {},
   "source": [
    "## Route 102"
   ]
  },
  {
   "cell_type": "code",
   "execution_count": 10,
   "id": "01b378cc",
   "metadata": {},
   "outputs": [],
   "source": [
    "lwk = wk[(wk['LINEID'] == '102')]"
   ]
  },
  {
   "cell_type": "code",
   "execution_count": 11,
   "id": "5ae677fe",
   "metadata": {},
   "outputs": [
    {
     "data": {
      "text/plain": [
       "(4505, 22)"
      ]
     },
     "execution_count": 11,
     "metadata": {},
     "output_type": "execute_result"
    }
   ],
   "source": [
    "lwk.shape"
   ]
  },
  {
   "cell_type": "code",
   "execution_count": 12,
   "id": "eb268b7e",
   "metadata": {},
   "outputs": [],
   "source": [
    "# Drop Route 102 rows from wk\n",
    "wk.drop(wk[wk['LINEID'] == '102'].index, inplace = True)"
   ]
  },
  {
   "cell_type": "code",
   "execution_count": 13,
   "id": "cdb83698",
   "metadata": {},
   "outputs": [
    {
     "data": {
      "text/html": [
       "<div>\n",
       "<style scoped>\n",
       "    .dataframe tbody tr th:only-of-type {\n",
       "        vertical-align: middle;\n",
       "    }\n",
       "\n",
       "    .dataframe tbody tr th {\n",
       "        vertical-align: top;\n",
       "    }\n",
       "\n",
       "    .dataframe thead th {\n",
       "        text-align: right;\n",
       "    }\n",
       "</style>\n",
       "<table border=\"1\" class=\"dataframe\">\n",
       "  <thead>\n",
       "    <tr style=\"text-align: right;\">\n",
       "      <th></th>\n",
       "      <th>DAYOFSERVICE</th>\n",
       "      <th>TRIPID</th>\n",
       "      <th>PROGRNUMBER</th>\n",
       "      <th>STOPPOINTID</th>\n",
       "      <th>PLANNEDTIME_ARR</th>\n",
       "      <th>PLANNEDTIME_DEP</th>\n",
       "      <th>ACTUALTIME_ARR</th>\n",
       "      <th>ACTUALTIME_DEP</th>\n",
       "      <th>VEHICLEID</th>\n",
       "      <th>year</th>\n",
       "      <th>...</th>\n",
       "      <th>id</th>\n",
       "      <th>trip_leave_id</th>\n",
       "      <th>LINEID</th>\n",
       "      <th>num_lineID</th>\n",
       "      <th>DIRECTION</th>\n",
       "      <th>actual_duration</th>\n",
       "      <th>dayOfWeek</th>\n",
       "      <th>weekend</th>\n",
       "      <th>rushHour</th>\n",
       "      <th>actualARR_hour</th>\n",
       "    </tr>\n",
       "  </thead>\n",
       "  <tbody>\n",
       "    <tr>\n",
       "      <th>51</th>\n",
       "      <td>2018-03-29</td>\n",
       "      <td>6595914</td>\n",
       "      <td>1</td>\n",
       "      <td>381</td>\n",
       "      <td>27000</td>\n",
       "      <td>27000</td>\n",
       "      <td>27000</td>\n",
       "      <td>27000</td>\n",
       "      <td>2534796</td>\n",
       "      <td>2018</td>\n",
       "      <td>...</td>\n",
       "      <td>20180329659591401</td>\n",
       "      <td>201803296595914</td>\n",
       "      <td>1</td>\n",
       "      <td>0</td>\n",
       "      <td>2</td>\n",
       "      <td>1490</td>\n",
       "      <td>3</td>\n",
       "      <td>0</td>\n",
       "      <td>1</td>\n",
       "      <td>8</td>\n",
       "    </tr>\n",
       "    <tr>\n",
       "      <th>52</th>\n",
       "      <td>2018-03-29</td>\n",
       "      <td>6595914</td>\n",
       "      <td>2</td>\n",
       "      <td>382</td>\n",
       "      <td>27052</td>\n",
       "      <td>27052</td>\n",
       "      <td>27052</td>\n",
       "      <td>27052</td>\n",
       "      <td>2534796</td>\n",
       "      <td>2018</td>\n",
       "      <td>...</td>\n",
       "      <td>20180329659591402</td>\n",
       "      <td>201803296595914</td>\n",
       "      <td>1</td>\n",
       "      <td>0</td>\n",
       "      <td>2</td>\n",
       "      <td>1490</td>\n",
       "      <td>3</td>\n",
       "      <td>0</td>\n",
       "      <td>1</td>\n",
       "      <td>8</td>\n",
       "    </tr>\n",
       "    <tr>\n",
       "      <th>53</th>\n",
       "      <td>2018-03-29</td>\n",
       "      <td>6595914</td>\n",
       "      <td>3</td>\n",
       "      <td>4451</td>\n",
       "      <td>27072</td>\n",
       "      <td>27072</td>\n",
       "      <td>27072</td>\n",
       "      <td>27072</td>\n",
       "      <td>2534796</td>\n",
       "      <td>2018</td>\n",
       "      <td>...</td>\n",
       "      <td>20180329659591403</td>\n",
       "      <td>201803296595914</td>\n",
       "      <td>1</td>\n",
       "      <td>0</td>\n",
       "      <td>2</td>\n",
       "      <td>1490</td>\n",
       "      <td>3</td>\n",
       "      <td>0</td>\n",
       "      <td>1</td>\n",
       "      <td>8</td>\n",
       "    </tr>\n",
       "    <tr>\n",
       "      <th>54</th>\n",
       "      <td>2018-03-29</td>\n",
       "      <td>6595914</td>\n",
       "      <td>4</td>\n",
       "      <td>383</td>\n",
       "      <td>27118</td>\n",
       "      <td>27118</td>\n",
       "      <td>27118</td>\n",
       "      <td>27118</td>\n",
       "      <td>2534796</td>\n",
       "      <td>2018</td>\n",
       "      <td>...</td>\n",
       "      <td>20180329659591404</td>\n",
       "      <td>201803296595914</td>\n",
       "      <td>1</td>\n",
       "      <td>0</td>\n",
       "      <td>2</td>\n",
       "      <td>1490</td>\n",
       "      <td>3</td>\n",
       "      <td>0</td>\n",
       "      <td>1</td>\n",
       "      <td>8</td>\n",
       "    </tr>\n",
       "    <tr>\n",
       "      <th>55</th>\n",
       "      <td>2018-03-29</td>\n",
       "      <td>6595914</td>\n",
       "      <td>5</td>\n",
       "      <td>384</td>\n",
       "      <td>27170</td>\n",
       "      <td>27170</td>\n",
       "      <td>27170</td>\n",
       "      <td>27170</td>\n",
       "      <td>2534796</td>\n",
       "      <td>2018</td>\n",
       "      <td>...</td>\n",
       "      <td>20180329659591405</td>\n",
       "      <td>201803296595914</td>\n",
       "      <td>1</td>\n",
       "      <td>0</td>\n",
       "      <td>2</td>\n",
       "      <td>1490</td>\n",
       "      <td>3</td>\n",
       "      <td>0</td>\n",
       "      <td>1</td>\n",
       "      <td>8</td>\n",
       "    </tr>\n",
       "  </tbody>\n",
       "</table>\n",
       "<p>5 rows × 22 columns</p>\n",
       "</div>"
      ],
      "text/plain": [
       "   DAYOFSERVICE   TRIPID  PROGRNUMBER  STOPPOINTID  PLANNEDTIME_ARR  \\\n",
       "51   2018-03-29  6595914            1          381            27000   \n",
       "52   2018-03-29  6595914            2          382            27052   \n",
       "53   2018-03-29  6595914            3         4451            27072   \n",
       "54   2018-03-29  6595914            4          383            27118   \n",
       "55   2018-03-29  6595914            5          384            27170   \n",
       "\n",
       "    PLANNEDTIME_DEP  ACTUALTIME_ARR  ACTUALTIME_DEP  VEHICLEID  year  ...  \\\n",
       "51            27000           27000           27000    2534796  2018  ...   \n",
       "52            27052           27052           27052    2534796  2018  ...   \n",
       "53            27072           27072           27072    2534796  2018  ...   \n",
       "54            27118           27118           27118    2534796  2018  ...   \n",
       "55            27170           27170           27170    2534796  2018  ...   \n",
       "\n",
       "                   id    trip_leave_id  LINEID  num_lineID DIRECTION  \\\n",
       "51  20180329659591401  201803296595914       1           0         2   \n",
       "52  20180329659591402  201803296595914       1           0         2   \n",
       "53  20180329659591403  201803296595914       1           0         2   \n",
       "54  20180329659591404  201803296595914       1           0         2   \n",
       "55  20180329659591405  201803296595914       1           0         2   \n",
       "\n",
       "    actual_duration  dayOfWeek  weekend  rushHour  actualARR_hour  \n",
       "51             1490          3        0         1               8  \n",
       "52             1490          3        0         1               8  \n",
       "53             1490          3        0         1               8  \n",
       "54             1490          3        0         1               8  \n",
       "55             1490          3        0         1               8  \n",
       "\n",
       "[5 rows x 22 columns]"
      ]
     },
     "execution_count": 13,
     "metadata": {},
     "output_type": "execute_result"
    }
   ],
   "source": [
    "wk.head()"
   ]
  },
  {
   "cell_type": "code",
   "execution_count": 14,
   "id": "f85f5650",
   "metadata": {},
   "outputs": [
    {
     "data": {
      "text/plain": [
       "(61031, 22)"
      ]
     },
     "execution_count": 14,
     "metadata": {},
     "output_type": "execute_result"
    }
   ],
   "source": [
    "wk.shape"
   ]
  },
  {
   "cell_type": "markdown",
   "id": "f36c2173",
   "metadata": {},
   "source": [
    "<h3>Send to CSV</h3>"
   ]
  },
  {
   "cell_type": "code",
   "execution_count": 15,
   "id": "4fcd4689",
   "metadata": {},
   "outputs": [],
   "source": [
    "# Send df to csv:\n",
    "lwk.to_csv('v5_102_tripLeave2_sp9c.csv', index=False)"
   ]
  },
  {
   "cell_type": "markdown",
   "id": "02f3d83e",
   "metadata": {},
   "source": [
    "## Route 1"
   ]
  },
  {
   "cell_type": "code",
   "execution_count": 16,
   "id": "b91914a8",
   "metadata": {},
   "outputs": [],
   "source": [
    "lwk = wk[(wk['LINEID'] == '1')]"
   ]
  },
  {
   "cell_type": "code",
   "execution_count": 17,
   "id": "697f3295",
   "metadata": {},
   "outputs": [
    {
     "data": {
      "text/plain": [
       "(6897, 22)"
      ]
     },
     "execution_count": 17,
     "metadata": {},
     "output_type": "execute_result"
    }
   ],
   "source": [
    "lwk.shape"
   ]
  },
  {
   "cell_type": "code",
   "execution_count": 18,
   "id": "d4360a64",
   "metadata": {},
   "outputs": [],
   "source": [
    "# Drop Route 1 rows from wk\n",
    "wk.drop(wk[wk['LINEID'] == '1'].index, inplace = True)"
   ]
  },
  {
   "cell_type": "code",
   "execution_count": 19,
   "id": "942c64b0",
   "metadata": {},
   "outputs": [
    {
     "data": {
      "text/html": [
       "<div>\n",
       "<style scoped>\n",
       "    .dataframe tbody tr th:only-of-type {\n",
       "        vertical-align: middle;\n",
       "    }\n",
       "\n",
       "    .dataframe tbody tr th {\n",
       "        vertical-align: top;\n",
       "    }\n",
       "\n",
       "    .dataframe thead th {\n",
       "        text-align: right;\n",
       "    }\n",
       "</style>\n",
       "<table border=\"1\" class=\"dataframe\">\n",
       "  <thead>\n",
       "    <tr style=\"text-align: right;\">\n",
       "      <th></th>\n",
       "      <th>DAYOFSERVICE</th>\n",
       "      <th>TRIPID</th>\n",
       "      <th>PROGRNUMBER</th>\n",
       "      <th>STOPPOINTID</th>\n",
       "      <th>PLANNEDTIME_ARR</th>\n",
       "      <th>PLANNEDTIME_DEP</th>\n",
       "      <th>ACTUALTIME_ARR</th>\n",
       "      <th>ACTUALTIME_DEP</th>\n",
       "      <th>VEHICLEID</th>\n",
       "      <th>year</th>\n",
       "      <th>...</th>\n",
       "      <th>id</th>\n",
       "      <th>trip_leave_id</th>\n",
       "      <th>LINEID</th>\n",
       "      <th>num_lineID</th>\n",
       "      <th>DIRECTION</th>\n",
       "      <th>actual_duration</th>\n",
       "      <th>dayOfWeek</th>\n",
       "      <th>weekend</th>\n",
       "      <th>rushHour</th>\n",
       "      <th>actualARR_hour</th>\n",
       "    </tr>\n",
       "  </thead>\n",
       "  <tbody>\n",
       "    <tr>\n",
       "      <th>3207</th>\n",
       "      <td>2018-03-30</td>\n",
       "      <td>6578853</td>\n",
       "      <td>1</td>\n",
       "      <td>4392</td>\n",
       "      <td>84000</td>\n",
       "      <td>84000</td>\n",
       "      <td>84000</td>\n",
       "      <td>84000</td>\n",
       "      <td>2172270</td>\n",
       "      <td>2018</td>\n",
       "      <td>...</td>\n",
       "      <td>20180330657885301</td>\n",
       "      <td>201803306578853</td>\n",
       "      <td>9</td>\n",
       "      <td>129</td>\n",
       "      <td>2</td>\n",
       "      <td>2115</td>\n",
       "      <td>4</td>\n",
       "      <td>0</td>\n",
       "      <td>0</td>\n",
       "      <td>23</td>\n",
       "    </tr>\n",
       "    <tr>\n",
       "      <th>3208</th>\n",
       "      <td>2018-03-30</td>\n",
       "      <td>6578853</td>\n",
       "      <td>2</td>\n",
       "      <td>2458</td>\n",
       "      <td>84028</td>\n",
       "      <td>84028</td>\n",
       "      <td>84028</td>\n",
       "      <td>84028</td>\n",
       "      <td>2172270</td>\n",
       "      <td>2018</td>\n",
       "      <td>...</td>\n",
       "      <td>20180330657885302</td>\n",
       "      <td>201803306578853</td>\n",
       "      <td>9</td>\n",
       "      <td>129</td>\n",
       "      <td>2</td>\n",
       "      <td>2115</td>\n",
       "      <td>4</td>\n",
       "      <td>0</td>\n",
       "      <td>0</td>\n",
       "      <td>23</td>\n",
       "    </tr>\n",
       "    <tr>\n",
       "      <th>3209</th>\n",
       "      <td>2018-03-30</td>\n",
       "      <td>6578853</td>\n",
       "      <td>3</td>\n",
       "      <td>2446</td>\n",
       "      <td>84056</td>\n",
       "      <td>84056</td>\n",
       "      <td>84056</td>\n",
       "      <td>84056</td>\n",
       "      <td>2172270</td>\n",
       "      <td>2018</td>\n",
       "      <td>...</td>\n",
       "      <td>20180330657885303</td>\n",
       "      <td>201803306578853</td>\n",
       "      <td>9</td>\n",
       "      <td>129</td>\n",
       "      <td>2</td>\n",
       "      <td>2115</td>\n",
       "      <td>4</td>\n",
       "      <td>0</td>\n",
       "      <td>0</td>\n",
       "      <td>23</td>\n",
       "    </tr>\n",
       "    <tr>\n",
       "      <th>3210</th>\n",
       "      <td>2018-03-30</td>\n",
       "      <td>6578853</td>\n",
       "      <td>4</td>\n",
       "      <td>2459</td>\n",
       "      <td>84085</td>\n",
       "      <td>84085</td>\n",
       "      <td>84085</td>\n",
       "      <td>84085</td>\n",
       "      <td>2172270</td>\n",
       "      <td>2018</td>\n",
       "      <td>...</td>\n",
       "      <td>20180330657885304</td>\n",
       "      <td>201803306578853</td>\n",
       "      <td>9</td>\n",
       "      <td>129</td>\n",
       "      <td>2</td>\n",
       "      <td>2115</td>\n",
       "      <td>4</td>\n",
       "      <td>0</td>\n",
       "      <td>0</td>\n",
       "      <td>23</td>\n",
       "    </tr>\n",
       "    <tr>\n",
       "      <th>3211</th>\n",
       "      <td>2018-03-30</td>\n",
       "      <td>6578853</td>\n",
       "      <td>5</td>\n",
       "      <td>2460</td>\n",
       "      <td>84118</td>\n",
       "      <td>84118</td>\n",
       "      <td>84118</td>\n",
       "      <td>84118</td>\n",
       "      <td>2172270</td>\n",
       "      <td>2018</td>\n",
       "      <td>...</td>\n",
       "      <td>20180330657885305</td>\n",
       "      <td>201803306578853</td>\n",
       "      <td>9</td>\n",
       "      <td>129</td>\n",
       "      <td>2</td>\n",
       "      <td>2115</td>\n",
       "      <td>4</td>\n",
       "      <td>0</td>\n",
       "      <td>0</td>\n",
       "      <td>23</td>\n",
       "    </tr>\n",
       "  </tbody>\n",
       "</table>\n",
       "<p>5 rows × 22 columns</p>\n",
       "</div>"
      ],
      "text/plain": [
       "     DAYOFSERVICE   TRIPID  PROGRNUMBER  STOPPOINTID  PLANNEDTIME_ARR  \\\n",
       "3207   2018-03-30  6578853            1         4392            84000   \n",
       "3208   2018-03-30  6578853            2         2458            84028   \n",
       "3209   2018-03-30  6578853            3         2446            84056   \n",
       "3210   2018-03-30  6578853            4         2459            84085   \n",
       "3211   2018-03-30  6578853            5         2460            84118   \n",
       "\n",
       "      PLANNEDTIME_DEP  ACTUALTIME_ARR  ACTUALTIME_DEP  VEHICLEID  year  ...  \\\n",
       "3207            84000           84000           84000    2172270  2018  ...   \n",
       "3208            84028           84028           84028    2172270  2018  ...   \n",
       "3209            84056           84056           84056    2172270  2018  ...   \n",
       "3210            84085           84085           84085    2172270  2018  ...   \n",
       "3211            84118           84118           84118    2172270  2018  ...   \n",
       "\n",
       "                     id    trip_leave_id  LINEID  num_lineID DIRECTION  \\\n",
       "3207  20180330657885301  201803306578853       9         129         2   \n",
       "3208  20180330657885302  201803306578853       9         129         2   \n",
       "3209  20180330657885303  201803306578853       9         129         2   \n",
       "3210  20180330657885304  201803306578853       9         129         2   \n",
       "3211  20180330657885305  201803306578853       9         129         2   \n",
       "\n",
       "      actual_duration  dayOfWeek  weekend  rushHour  actualARR_hour  \n",
       "3207             2115          4        0         0              23  \n",
       "3208             2115          4        0         0              23  \n",
       "3209             2115          4        0         0              23  \n",
       "3210             2115          4        0         0              23  \n",
       "3211             2115          4        0         0              23  \n",
       "\n",
       "[5 rows x 22 columns]"
      ]
     },
     "execution_count": 19,
     "metadata": {},
     "output_type": "execute_result"
    }
   ],
   "source": [
    "wk.head()"
   ]
  },
  {
   "cell_type": "code",
   "execution_count": 20,
   "id": "cdc545e0",
   "metadata": {},
   "outputs": [
    {
     "data": {
      "text/plain": [
       "(54134, 22)"
      ]
     },
     "execution_count": 20,
     "metadata": {},
     "output_type": "execute_result"
    }
   ],
   "source": [
    "wk.shape"
   ]
  },
  {
   "cell_type": "markdown",
   "id": "40667721",
   "metadata": {},
   "source": [
    "<h3>Send to CSV</h3>"
   ]
  },
  {
   "cell_type": "code",
   "execution_count": 21,
   "id": "5d225394",
   "metadata": {},
   "outputs": [],
   "source": [
    "# Send df to csv:\n",
    "lwk.to_csv('v5_1_tripLeave2_sp9c.csv', index=False)"
   ]
  },
  {
   "cell_type": "markdown",
   "id": "c9871333",
   "metadata": {},
   "source": [
    "## Route 9"
   ]
  },
  {
   "cell_type": "code",
   "execution_count": 22,
   "id": "6d09b20e",
   "metadata": {},
   "outputs": [],
   "source": [
    "lwk = wk[(wk['LINEID'] == '9')]"
   ]
  },
  {
   "cell_type": "code",
   "execution_count": 23,
   "id": "5a20631a",
   "metadata": {},
   "outputs": [
    {
     "data": {
      "text/plain": [
       "(16985, 22)"
      ]
     },
     "execution_count": 23,
     "metadata": {},
     "output_type": "execute_result"
    }
   ],
   "source": [
    "lwk.shape"
   ]
  },
  {
   "cell_type": "code",
   "execution_count": 24,
   "id": "33e489aa",
   "metadata": {},
   "outputs": [],
   "source": [
    "# Drop Route 9 rows from wk\n",
    "wk.drop(wk[wk['LINEID'] == '9'].index, inplace = True)"
   ]
  },
  {
   "cell_type": "code",
   "execution_count": 25,
   "id": "4ed9474e",
   "metadata": {},
   "outputs": [
    {
     "data": {
      "text/html": [
       "<div>\n",
       "<style scoped>\n",
       "    .dataframe tbody tr th:only-of-type {\n",
       "        vertical-align: middle;\n",
       "    }\n",
       "\n",
       "    .dataframe tbody tr th {\n",
       "        vertical-align: top;\n",
       "    }\n",
       "\n",
       "    .dataframe thead th {\n",
       "        text-align: right;\n",
       "    }\n",
       "</style>\n",
       "<table border=\"1\" class=\"dataframe\">\n",
       "  <thead>\n",
       "    <tr style=\"text-align: right;\">\n",
       "      <th></th>\n",
       "      <th>DAYOFSERVICE</th>\n",
       "      <th>TRIPID</th>\n",
       "      <th>PROGRNUMBER</th>\n",
       "      <th>STOPPOINTID</th>\n",
       "      <th>PLANNEDTIME_ARR</th>\n",
       "      <th>PLANNEDTIME_DEP</th>\n",
       "      <th>ACTUALTIME_ARR</th>\n",
       "      <th>ACTUALTIME_DEP</th>\n",
       "      <th>VEHICLEID</th>\n",
       "      <th>year</th>\n",
       "      <th>...</th>\n",
       "      <th>id</th>\n",
       "      <th>trip_leave_id</th>\n",
       "      <th>LINEID</th>\n",
       "      <th>num_lineID</th>\n",
       "      <th>DIRECTION</th>\n",
       "      <th>actual_duration</th>\n",
       "      <th>dayOfWeek</th>\n",
       "      <th>weekend</th>\n",
       "      <th>rushHour</th>\n",
       "      <th>actualARR_hour</th>\n",
       "    </tr>\n",
       "  </thead>\n",
       "  <tbody>\n",
       "    <tr>\n",
       "      <th>7553</th>\n",
       "      <td>2018-03-30</td>\n",
       "      <td>6589953</td>\n",
       "      <td>1</td>\n",
       "      <td>4747</td>\n",
       "      <td>32400</td>\n",
       "      <td>32400</td>\n",
       "      <td>32400</td>\n",
       "      <td>32400</td>\n",
       "      <td>1001166</td>\n",
       "      <td>2018</td>\n",
       "      <td>...</td>\n",
       "      <td>20180330658995301</td>\n",
       "      <td>201803306589953</td>\n",
       "      <td>236</td>\n",
       "      <td>34</td>\n",
       "      <td>1</td>\n",
       "      <td>1545</td>\n",
       "      <td>4</td>\n",
       "      <td>0</td>\n",
       "      <td>0</td>\n",
       "      <td>9</td>\n",
       "    </tr>\n",
       "    <tr>\n",
       "      <th>7554</th>\n",
       "      <td>2018-03-30</td>\n",
       "      <td>6589953</td>\n",
       "      <td>2</td>\n",
       "      <td>2960</td>\n",
       "      <td>32442</td>\n",
       "      <td>32442</td>\n",
       "      <td>32442</td>\n",
       "      <td>32442</td>\n",
       "      <td>1001166</td>\n",
       "      <td>2018</td>\n",
       "      <td>...</td>\n",
       "      <td>20180330658995302</td>\n",
       "      <td>201803306589953</td>\n",
       "      <td>236</td>\n",
       "      <td>34</td>\n",
       "      <td>1</td>\n",
       "      <td>1545</td>\n",
       "      <td>4</td>\n",
       "      <td>0</td>\n",
       "      <td>0</td>\n",
       "      <td>9</td>\n",
       "    </tr>\n",
       "    <tr>\n",
       "      <th>7555</th>\n",
       "      <td>2018-03-30</td>\n",
       "      <td>6589953</td>\n",
       "      <td>3</td>\n",
       "      <td>1545</td>\n",
       "      <td>32492</td>\n",
       "      <td>32492</td>\n",
       "      <td>32492</td>\n",
       "      <td>32492</td>\n",
       "      <td>1001166</td>\n",
       "      <td>2018</td>\n",
       "      <td>...</td>\n",
       "      <td>20180330658995303</td>\n",
       "      <td>201803306589953</td>\n",
       "      <td>236</td>\n",
       "      <td>34</td>\n",
       "      <td>1</td>\n",
       "      <td>1545</td>\n",
       "      <td>4</td>\n",
       "      <td>0</td>\n",
       "      <td>0</td>\n",
       "      <td>9</td>\n",
       "    </tr>\n",
       "    <tr>\n",
       "      <th>7556</th>\n",
       "      <td>2018-03-30</td>\n",
       "      <td>6589953</td>\n",
       "      <td>4</td>\n",
       "      <td>1816</td>\n",
       "      <td>32565</td>\n",
       "      <td>32565</td>\n",
       "      <td>32565</td>\n",
       "      <td>32565</td>\n",
       "      <td>1001166</td>\n",
       "      <td>2018</td>\n",
       "      <td>...</td>\n",
       "      <td>20180330658995304</td>\n",
       "      <td>201803306589953</td>\n",
       "      <td>236</td>\n",
       "      <td>34</td>\n",
       "      <td>1</td>\n",
       "      <td>1545</td>\n",
       "      <td>4</td>\n",
       "      <td>0</td>\n",
       "      <td>0</td>\n",
       "      <td>9</td>\n",
       "    </tr>\n",
       "    <tr>\n",
       "      <th>7557</th>\n",
       "      <td>2018-03-30</td>\n",
       "      <td>6589953</td>\n",
       "      <td>5</td>\n",
       "      <td>6171</td>\n",
       "      <td>32619</td>\n",
       "      <td>32619</td>\n",
       "      <td>32619</td>\n",
       "      <td>32619</td>\n",
       "      <td>1001166</td>\n",
       "      <td>2018</td>\n",
       "      <td>...</td>\n",
       "      <td>20180330658995305</td>\n",
       "      <td>201803306589953</td>\n",
       "      <td>236</td>\n",
       "      <td>34</td>\n",
       "      <td>1</td>\n",
       "      <td>1545</td>\n",
       "      <td>4</td>\n",
       "      <td>0</td>\n",
       "      <td>0</td>\n",
       "      <td>9</td>\n",
       "    </tr>\n",
       "  </tbody>\n",
       "</table>\n",
       "<p>5 rows × 22 columns</p>\n",
       "</div>"
      ],
      "text/plain": [
       "     DAYOFSERVICE   TRIPID  PROGRNUMBER  STOPPOINTID  PLANNEDTIME_ARR  \\\n",
       "7553   2018-03-30  6589953            1         4747            32400   \n",
       "7554   2018-03-30  6589953            2         2960            32442   \n",
       "7555   2018-03-30  6589953            3         1545            32492   \n",
       "7556   2018-03-30  6589953            4         1816            32565   \n",
       "7557   2018-03-30  6589953            5         6171            32619   \n",
       "\n",
       "      PLANNEDTIME_DEP  ACTUALTIME_ARR  ACTUALTIME_DEP  VEHICLEID  year  ...  \\\n",
       "7553            32400           32400           32400    1001166  2018  ...   \n",
       "7554            32442           32442           32442    1001166  2018  ...   \n",
       "7555            32492           32492           32492    1001166  2018  ...   \n",
       "7556            32565           32565           32565    1001166  2018  ...   \n",
       "7557            32619           32619           32619    1001166  2018  ...   \n",
       "\n",
       "                     id    trip_leave_id  LINEID  num_lineID DIRECTION  \\\n",
       "7553  20180330658995301  201803306589953     236          34         1   \n",
       "7554  20180330658995302  201803306589953     236          34         1   \n",
       "7555  20180330658995303  201803306589953     236          34         1   \n",
       "7556  20180330658995304  201803306589953     236          34         1   \n",
       "7557  20180330658995305  201803306589953     236          34         1   \n",
       "\n",
       "      actual_duration  dayOfWeek  weekend  rushHour  actualARR_hour  \n",
       "7553             1545          4        0         0               9  \n",
       "7554             1545          4        0         0               9  \n",
       "7555             1545          4        0         0               9  \n",
       "7556             1545          4        0         0               9  \n",
       "7557             1545          4        0         0               9  \n",
       "\n",
       "[5 rows x 22 columns]"
      ]
     },
     "execution_count": 25,
     "metadata": {},
     "output_type": "execute_result"
    }
   ],
   "source": [
    "wk.head()"
   ]
  },
  {
   "cell_type": "code",
   "execution_count": 26,
   "id": "f5f7599c",
   "metadata": {},
   "outputs": [
    {
     "data": {
      "text/plain": [
       "(37149, 22)"
      ]
     },
     "execution_count": 26,
     "metadata": {},
     "output_type": "execute_result"
    }
   ],
   "source": [
    "wk.shape"
   ]
  },
  {
   "cell_type": "markdown",
   "id": "38748ef1",
   "metadata": {},
   "source": [
    "<h3>Send to CSV</h3>"
   ]
  },
  {
   "cell_type": "code",
   "execution_count": 27,
   "id": "838ecfd9",
   "metadata": {},
   "outputs": [],
   "source": [
    "# Send df to csv:\n",
    "lwk.to_csv('v5_9_tripLeave2_sp9c.csv', index=False)"
   ]
  },
  {
   "cell_type": "markdown",
   "id": "c9ce61f5",
   "metadata": {},
   "source": [
    "## Route 236"
   ]
  },
  {
   "cell_type": "code",
   "execution_count": 28,
   "id": "f6ad83ea",
   "metadata": {},
   "outputs": [],
   "source": [
    "lwk = wk[(wk['LINEID'] == '236')]"
   ]
  },
  {
   "cell_type": "code",
   "execution_count": 29,
   "id": "ec9abc5f",
   "metadata": {},
   "outputs": [
    {
     "data": {
      "text/plain": [
       "(144, 22)"
      ]
     },
     "execution_count": 29,
     "metadata": {},
     "output_type": "execute_result"
    }
   ],
   "source": [
    "lwk.shape"
   ]
  },
  {
   "cell_type": "code",
   "execution_count": 30,
   "id": "33c70ba9",
   "metadata": {},
   "outputs": [],
   "source": [
    "# Drop Route 236 rows from wk\n",
    "wk.drop(wk[wk['LINEID'] == '236'].index, inplace = True)"
   ]
  },
  {
   "cell_type": "code",
   "execution_count": 31,
   "id": "1f691a8b",
   "metadata": {},
   "outputs": [
    {
     "data": {
      "text/html": [
       "<div>\n",
       "<style scoped>\n",
       "    .dataframe tbody tr th:only-of-type {\n",
       "        vertical-align: middle;\n",
       "    }\n",
       "\n",
       "    .dataframe tbody tr th {\n",
       "        vertical-align: top;\n",
       "    }\n",
       "\n",
       "    .dataframe thead th {\n",
       "        text-align: right;\n",
       "    }\n",
       "</style>\n",
       "<table border=\"1\" class=\"dataframe\">\n",
       "  <thead>\n",
       "    <tr style=\"text-align: right;\">\n",
       "      <th></th>\n",
       "      <th>DAYOFSERVICE</th>\n",
       "      <th>TRIPID</th>\n",
       "      <th>PROGRNUMBER</th>\n",
       "      <th>STOPPOINTID</th>\n",
       "      <th>PLANNEDTIME_ARR</th>\n",
       "      <th>PLANNEDTIME_DEP</th>\n",
       "      <th>ACTUALTIME_ARR</th>\n",
       "      <th>ACTUALTIME_DEP</th>\n",
       "      <th>VEHICLEID</th>\n",
       "      <th>year</th>\n",
       "      <th>...</th>\n",
       "      <th>id</th>\n",
       "      <th>trip_leave_id</th>\n",
       "      <th>LINEID</th>\n",
       "      <th>num_lineID</th>\n",
       "      <th>DIRECTION</th>\n",
       "      <th>actual_duration</th>\n",
       "      <th>dayOfWeek</th>\n",
       "      <th>weekend</th>\n",
       "      <th>rushHour</th>\n",
       "      <th>actualARR_hour</th>\n",
       "    </tr>\n",
       "  </thead>\n",
       "  <tbody>\n",
       "    <tr>\n",
       "      <th>7697</th>\n",
       "      <td>2018-03-30</td>\n",
       "      <td>6593352</td>\n",
       "      <td>28</td>\n",
       "      <td>334</td>\n",
       "      <td>67559</td>\n",
       "      <td>67559</td>\n",
       "      <td>67559</td>\n",
       "      <td>67559</td>\n",
       "      <td>2693249</td>\n",
       "      <td>2018</td>\n",
       "      <td>...</td>\n",
       "      <td>20180330659335228</td>\n",
       "      <td>201803306593352</td>\n",
       "      <td>140</td>\n",
       "      <td>14</td>\n",
       "      <td>1</td>\n",
       "      <td>3425</td>\n",
       "      <td>4</td>\n",
       "      <td>0</td>\n",
       "      <td>0</td>\n",
       "      <td>19</td>\n",
       "    </tr>\n",
       "    <tr>\n",
       "      <th>7698</th>\n",
       "      <td>2018-03-30</td>\n",
       "      <td>6593352</td>\n",
       "      <td>29</td>\n",
       "      <td>7581</td>\n",
       "      <td>67827</td>\n",
       "      <td>67827</td>\n",
       "      <td>67827</td>\n",
       "      <td>67827</td>\n",
       "      <td>2693249</td>\n",
       "      <td>2018</td>\n",
       "      <td>...</td>\n",
       "      <td>20180330659335229</td>\n",
       "      <td>201803306593352</td>\n",
       "      <td>140</td>\n",
       "      <td>14</td>\n",
       "      <td>1</td>\n",
       "      <td>3425</td>\n",
       "      <td>4</td>\n",
       "      <td>0</td>\n",
       "      <td>0</td>\n",
       "      <td>19</td>\n",
       "    </tr>\n",
       "    <tr>\n",
       "      <th>7699</th>\n",
       "      <td>2018-03-30</td>\n",
       "      <td>6593352</td>\n",
       "      <td>30</td>\n",
       "      <td>1283</td>\n",
       "      <td>67986</td>\n",
       "      <td>67986</td>\n",
       "      <td>67986</td>\n",
       "      <td>67986</td>\n",
       "      <td>2693249</td>\n",
       "      <td>2018</td>\n",
       "      <td>...</td>\n",
       "      <td>20180330659335230</td>\n",
       "      <td>201803306593352</td>\n",
       "      <td>140</td>\n",
       "      <td>14</td>\n",
       "      <td>1</td>\n",
       "      <td>3425</td>\n",
       "      <td>4</td>\n",
       "      <td>0</td>\n",
       "      <td>0</td>\n",
       "      <td>19</td>\n",
       "    </tr>\n",
       "    <tr>\n",
       "      <th>7700</th>\n",
       "      <td>2018-03-30</td>\n",
       "      <td>6593352</td>\n",
       "      <td>31</td>\n",
       "      <td>7579</td>\n",
       "      <td>68106</td>\n",
       "      <td>68106</td>\n",
       "      <td>68106</td>\n",
       "      <td>68106</td>\n",
       "      <td>2693249</td>\n",
       "      <td>2018</td>\n",
       "      <td>...</td>\n",
       "      <td>20180330659335231</td>\n",
       "      <td>201803306593352</td>\n",
       "      <td>140</td>\n",
       "      <td>14</td>\n",
       "      <td>1</td>\n",
       "      <td>3425</td>\n",
       "      <td>4</td>\n",
       "      <td>0</td>\n",
       "      <td>0</td>\n",
       "      <td>19</td>\n",
       "    </tr>\n",
       "    <tr>\n",
       "      <th>7701</th>\n",
       "      <td>2018-03-30</td>\n",
       "      <td>6593352</td>\n",
       "      <td>32</td>\n",
       "      <td>1285</td>\n",
       "      <td>68269</td>\n",
       "      <td>68269</td>\n",
       "      <td>68269</td>\n",
       "      <td>68269</td>\n",
       "      <td>2693249</td>\n",
       "      <td>2018</td>\n",
       "      <td>...</td>\n",
       "      <td>20180330659335232</td>\n",
       "      <td>201803306593352</td>\n",
       "      <td>140</td>\n",
       "      <td>14</td>\n",
       "      <td>1</td>\n",
       "      <td>3425</td>\n",
       "      <td>4</td>\n",
       "      <td>0</td>\n",
       "      <td>0</td>\n",
       "      <td>19</td>\n",
       "    </tr>\n",
       "  </tbody>\n",
       "</table>\n",
       "<p>5 rows × 22 columns</p>\n",
       "</div>"
      ],
      "text/plain": [
       "     DAYOFSERVICE   TRIPID  PROGRNUMBER  STOPPOINTID  PLANNEDTIME_ARR  \\\n",
       "7697   2018-03-30  6593352           28          334            67559   \n",
       "7698   2018-03-30  6593352           29         7581            67827   \n",
       "7699   2018-03-30  6593352           30         1283            67986   \n",
       "7700   2018-03-30  6593352           31         7579            68106   \n",
       "7701   2018-03-30  6593352           32         1285            68269   \n",
       "\n",
       "      PLANNEDTIME_DEP  ACTUALTIME_ARR  ACTUALTIME_DEP  VEHICLEID  year  ...  \\\n",
       "7697            67559           67559           67559    2693249  2018  ...   \n",
       "7698            67827           67827           67827    2693249  2018  ...   \n",
       "7699            67986           67986           67986    2693249  2018  ...   \n",
       "7700            68106           68106           68106    2693249  2018  ...   \n",
       "7701            68269           68269           68269    2693249  2018  ...   \n",
       "\n",
       "                     id    trip_leave_id  LINEID  num_lineID DIRECTION  \\\n",
       "7697  20180330659335228  201803306593352     140          14         1   \n",
       "7698  20180330659335229  201803306593352     140          14         1   \n",
       "7699  20180330659335230  201803306593352     140          14         1   \n",
       "7700  20180330659335231  201803306593352     140          14         1   \n",
       "7701  20180330659335232  201803306593352     140          14         1   \n",
       "\n",
       "      actual_duration  dayOfWeek  weekend  rushHour  actualARR_hour  \n",
       "7697             3425          4        0         0              19  \n",
       "7698             3425          4        0         0              19  \n",
       "7699             3425          4        0         0              19  \n",
       "7700             3425          4        0         0              19  \n",
       "7701             3425          4        0         0              19  \n",
       "\n",
       "[5 rows x 22 columns]"
      ]
     },
     "execution_count": 31,
     "metadata": {},
     "output_type": "execute_result"
    }
   ],
   "source": [
    "wk.head()"
   ]
  },
  {
   "cell_type": "code",
   "execution_count": 32,
   "id": "c35ec0ec",
   "metadata": {},
   "outputs": [
    {
     "data": {
      "text/plain": [
       "(37005, 22)"
      ]
     },
     "execution_count": 32,
     "metadata": {},
     "output_type": "execute_result"
    }
   ],
   "source": [
    "wk.shape"
   ]
  },
  {
   "cell_type": "markdown",
   "id": "685da73e",
   "metadata": {},
   "source": [
    "<h3>Send to CSV</h3>"
   ]
  },
  {
   "cell_type": "code",
   "execution_count": 33,
   "id": "dd78bfed",
   "metadata": {},
   "outputs": [],
   "source": [
    "# Send df to csv:\n",
    "lwk.to_csv('v5_236_tripLeave2_sp9c.csv', index=False)"
   ]
  },
  {
   "cell_type": "markdown",
   "id": "0a607558",
   "metadata": {},
   "source": [
    "## Route 140"
   ]
  },
  {
   "cell_type": "code",
   "execution_count": 34,
   "id": "d4accdca",
   "metadata": {},
   "outputs": [],
   "source": [
    "lwk = wk[(wk['LINEID'] == '140')]"
   ]
  },
  {
   "cell_type": "code",
   "execution_count": 35,
   "id": "8bd84191",
   "metadata": {},
   "outputs": [
    {
     "data": {
      "text/plain": [
       "(1894, 22)"
      ]
     },
     "execution_count": 35,
     "metadata": {},
     "output_type": "execute_result"
    }
   ],
   "source": [
    "lwk.shape"
   ]
  },
  {
   "cell_type": "code",
   "execution_count": 36,
   "id": "9329913e",
   "metadata": {},
   "outputs": [],
   "source": [
    "# Drop Route 140 rows from wk\n",
    "wk.drop(wk[wk['LINEID'] == '140'].index, inplace = True)"
   ]
  },
  {
   "cell_type": "code",
   "execution_count": 37,
   "id": "e6684ab8",
   "metadata": {},
   "outputs": [
    {
     "data": {
      "text/html": [
       "<div>\n",
       "<style scoped>\n",
       "    .dataframe tbody tr th:only-of-type {\n",
       "        vertical-align: middle;\n",
       "    }\n",
       "\n",
       "    .dataframe tbody tr th {\n",
       "        vertical-align: top;\n",
       "    }\n",
       "\n",
       "    .dataframe thead th {\n",
       "        text-align: right;\n",
       "    }\n",
       "</style>\n",
       "<table border=\"1\" class=\"dataframe\">\n",
       "  <thead>\n",
       "    <tr style=\"text-align: right;\">\n",
       "      <th></th>\n",
       "      <th>DAYOFSERVICE</th>\n",
       "      <th>TRIPID</th>\n",
       "      <th>PROGRNUMBER</th>\n",
       "      <th>STOPPOINTID</th>\n",
       "      <th>PLANNEDTIME_ARR</th>\n",
       "      <th>PLANNEDTIME_DEP</th>\n",
       "      <th>ACTUALTIME_ARR</th>\n",
       "      <th>ACTUALTIME_DEP</th>\n",
       "      <th>VEHICLEID</th>\n",
       "      <th>year</th>\n",
       "      <th>...</th>\n",
       "      <th>id</th>\n",
       "      <th>trip_leave_id</th>\n",
       "      <th>LINEID</th>\n",
       "      <th>num_lineID</th>\n",
       "      <th>DIRECTION</th>\n",
       "      <th>actual_duration</th>\n",
       "      <th>dayOfWeek</th>\n",
       "      <th>weekend</th>\n",
       "      <th>rushHour</th>\n",
       "      <th>actualARR_hour</th>\n",
       "    </tr>\n",
       "  </thead>\n",
       "  <tbody>\n",
       "    <tr>\n",
       "      <th>9591</th>\n",
       "      <td>2018-03-30</td>\n",
       "      <td>6594291</td>\n",
       "      <td>26</td>\n",
       "      <td>47</td>\n",
       "      <td>79505</td>\n",
       "      <td>79505</td>\n",
       "      <td>79505</td>\n",
       "      <td>79505</td>\n",
       "      <td>1932344</td>\n",
       "      <td>2018</td>\n",
       "      <td>...</td>\n",
       "      <td>20180330659429126</td>\n",
       "      <td>201803306594291</td>\n",
       "      <td>13</td>\n",
       "      <td>11</td>\n",
       "      <td>1</td>\n",
       "      <td>5911</td>\n",
       "      <td>4</td>\n",
       "      <td>0</td>\n",
       "      <td>0</td>\n",
       "      <td>22</td>\n",
       "    </tr>\n",
       "    <tr>\n",
       "      <th>9592</th>\n",
       "      <td>2018-03-30</td>\n",
       "      <td>6594291</td>\n",
       "      <td>27</td>\n",
       "      <td>48</td>\n",
       "      <td>79555</td>\n",
       "      <td>79555</td>\n",
       "      <td>79555</td>\n",
       "      <td>79555</td>\n",
       "      <td>1932344</td>\n",
       "      <td>2018</td>\n",
       "      <td>...</td>\n",
       "      <td>20180330659429127</td>\n",
       "      <td>201803306594291</td>\n",
       "      <td>13</td>\n",
       "      <td>11</td>\n",
       "      <td>1</td>\n",
       "      <td>5911</td>\n",
       "      <td>4</td>\n",
       "      <td>0</td>\n",
       "      <td>0</td>\n",
       "      <td>22</td>\n",
       "    </tr>\n",
       "    <tr>\n",
       "      <th>9593</th>\n",
       "      <td>2018-03-30</td>\n",
       "      <td>6594291</td>\n",
       "      <td>28</td>\n",
       "      <td>49</td>\n",
       "      <td>79626</td>\n",
       "      <td>79626</td>\n",
       "      <td>79626</td>\n",
       "      <td>79626</td>\n",
       "      <td>1932344</td>\n",
       "      <td>2018</td>\n",
       "      <td>...</td>\n",
       "      <td>20180330659429128</td>\n",
       "      <td>201803306594291</td>\n",
       "      <td>13</td>\n",
       "      <td>11</td>\n",
       "      <td>1</td>\n",
       "      <td>5911</td>\n",
       "      <td>4</td>\n",
       "      <td>0</td>\n",
       "      <td>0</td>\n",
       "      <td>22</td>\n",
       "    </tr>\n",
       "    <tr>\n",
       "      <th>9594</th>\n",
       "      <td>2018-03-30</td>\n",
       "      <td>6594291</td>\n",
       "      <td>29</td>\n",
       "      <td>51</td>\n",
       "      <td>79706</td>\n",
       "      <td>79706</td>\n",
       "      <td>79706</td>\n",
       "      <td>79706</td>\n",
       "      <td>1932344</td>\n",
       "      <td>2018</td>\n",
       "      <td>...</td>\n",
       "      <td>20180330659429129</td>\n",
       "      <td>201803306594291</td>\n",
       "      <td>13</td>\n",
       "      <td>11</td>\n",
       "      <td>1</td>\n",
       "      <td>5911</td>\n",
       "      <td>4</td>\n",
       "      <td>0</td>\n",
       "      <td>0</td>\n",
       "      <td>22</td>\n",
       "    </tr>\n",
       "    <tr>\n",
       "      <th>9595</th>\n",
       "      <td>2018-03-30</td>\n",
       "      <td>6594291</td>\n",
       "      <td>30</td>\n",
       "      <td>52</td>\n",
       "      <td>79749</td>\n",
       "      <td>79749</td>\n",
       "      <td>79749</td>\n",
       "      <td>79749</td>\n",
       "      <td>1932344</td>\n",
       "      <td>2018</td>\n",
       "      <td>...</td>\n",
       "      <td>20180330659429130</td>\n",
       "      <td>201803306594291</td>\n",
       "      <td>13</td>\n",
       "      <td>11</td>\n",
       "      <td>1</td>\n",
       "      <td>5911</td>\n",
       "      <td>4</td>\n",
       "      <td>0</td>\n",
       "      <td>0</td>\n",
       "      <td>22</td>\n",
       "    </tr>\n",
       "  </tbody>\n",
       "</table>\n",
       "<p>5 rows × 22 columns</p>\n",
       "</div>"
      ],
      "text/plain": [
       "     DAYOFSERVICE   TRIPID  PROGRNUMBER  STOPPOINTID  PLANNEDTIME_ARR  \\\n",
       "9591   2018-03-30  6594291           26           47            79505   \n",
       "9592   2018-03-30  6594291           27           48            79555   \n",
       "9593   2018-03-30  6594291           28           49            79626   \n",
       "9594   2018-03-30  6594291           29           51            79706   \n",
       "9595   2018-03-30  6594291           30           52            79749   \n",
       "\n",
       "      PLANNEDTIME_DEP  ACTUALTIME_ARR  ACTUALTIME_DEP  VEHICLEID  year  ...  \\\n",
       "9591            79505           79505           79505    1932344  2018  ...   \n",
       "9592            79555           79555           79555    1932344  2018  ...   \n",
       "9593            79626           79626           79626    1932344  2018  ...   \n",
       "9594            79706           79706           79706    1932344  2018  ...   \n",
       "9595            79749           79749           79749    1932344  2018  ...   \n",
       "\n",
       "                     id    trip_leave_id  LINEID  num_lineID DIRECTION  \\\n",
       "9591  20180330659429126  201803306594291      13          11         1   \n",
       "9592  20180330659429127  201803306594291      13          11         1   \n",
       "9593  20180330659429128  201803306594291      13          11         1   \n",
       "9594  20180330659429129  201803306594291      13          11         1   \n",
       "9595  20180330659429130  201803306594291      13          11         1   \n",
       "\n",
       "      actual_duration  dayOfWeek  weekend  rushHour  actualARR_hour  \n",
       "9591             5911          4        0         0              22  \n",
       "9592             5911          4        0         0              22  \n",
       "9593             5911          4        0         0              22  \n",
       "9594             5911          4        0         0              22  \n",
       "9595             5911          4        0         0              22  \n",
       "\n",
       "[5 rows x 22 columns]"
      ]
     },
     "execution_count": 37,
     "metadata": {},
     "output_type": "execute_result"
    }
   ],
   "source": [
    "wk.head()"
   ]
  },
  {
   "cell_type": "code",
   "execution_count": 38,
   "id": "c1b9c022",
   "metadata": {},
   "outputs": [
    {
     "data": {
      "text/plain": [
       "(35111, 22)"
      ]
     },
     "execution_count": 38,
     "metadata": {},
     "output_type": "execute_result"
    }
   ],
   "source": [
    "wk.shape"
   ]
  },
  {
   "cell_type": "markdown",
   "id": "9001e06a",
   "metadata": {},
   "source": [
    "<h3>Send to CSV</h3>"
   ]
  },
  {
   "cell_type": "code",
   "execution_count": 39,
   "id": "a4594538",
   "metadata": {},
   "outputs": [],
   "source": [
    "# Send df to csv:\n",
    "lwk.to_csv('v5_140_tripLeave2_sp9c.csv', index=False)"
   ]
  },
  {
   "cell_type": "markdown",
   "id": "cf6b9a30",
   "metadata": {},
   "source": [
    "## Route 13"
   ]
  },
  {
   "cell_type": "code",
   "execution_count": 40,
   "id": "be7cfb01",
   "metadata": {},
   "outputs": [],
   "source": [
    "lwk = wk[(wk['LINEID'] == '13')]"
   ]
  },
  {
   "cell_type": "code",
   "execution_count": 41,
   "id": "ba583db4",
   "metadata": {},
   "outputs": [
    {
     "data": {
      "text/plain": [
       "(3562, 22)"
      ]
     },
     "execution_count": 41,
     "metadata": {},
     "output_type": "execute_result"
    }
   ],
   "source": [
    "lwk.shape"
   ]
  },
  {
   "cell_type": "code",
   "execution_count": 42,
   "id": "9e719e0a",
   "metadata": {},
   "outputs": [],
   "source": [
    "# Drop Route 13 rows from wk\n",
    "wk.drop(wk[wk['LINEID'] == '13'].index, inplace = True)"
   ]
  },
  {
   "cell_type": "code",
   "execution_count": 43,
   "id": "1c15d26f",
   "metadata": {},
   "outputs": [
    {
     "data": {
      "text/html": [
       "<div>\n",
       "<style scoped>\n",
       "    .dataframe tbody tr th:only-of-type {\n",
       "        vertical-align: middle;\n",
       "    }\n",
       "\n",
       "    .dataframe tbody tr th {\n",
       "        vertical-align: top;\n",
       "    }\n",
       "\n",
       "    .dataframe thead th {\n",
       "        text-align: right;\n",
       "    }\n",
       "</style>\n",
       "<table border=\"1\" class=\"dataframe\">\n",
       "  <thead>\n",
       "    <tr style=\"text-align: right;\">\n",
       "      <th></th>\n",
       "      <th>DAYOFSERVICE</th>\n",
       "      <th>TRIPID</th>\n",
       "      <th>PROGRNUMBER</th>\n",
       "      <th>STOPPOINTID</th>\n",
       "      <th>PLANNEDTIME_ARR</th>\n",
       "      <th>PLANNEDTIME_DEP</th>\n",
       "      <th>ACTUALTIME_ARR</th>\n",
       "      <th>ACTUALTIME_DEP</th>\n",
       "      <th>VEHICLEID</th>\n",
       "      <th>year</th>\n",
       "      <th>...</th>\n",
       "      <th>id</th>\n",
       "      <th>trip_leave_id</th>\n",
       "      <th>LINEID</th>\n",
       "      <th>num_lineID</th>\n",
       "      <th>DIRECTION</th>\n",
       "      <th>actual_duration</th>\n",
       "      <th>dayOfWeek</th>\n",
       "      <th>weekend</th>\n",
       "      <th>rushHour</th>\n",
       "      <th>actualARR_hour</th>\n",
       "    </tr>\n",
       "  </thead>\n",
       "  <tbody>\n",
       "    <tr>\n",
       "      <th>13153</th>\n",
       "      <td>2018-03-30</td>\n",
       "      <td>6594445</td>\n",
       "      <td>20</td>\n",
       "      <td>1934</td>\n",
       "      <td>36258</td>\n",
       "      <td>36258</td>\n",
       "      <td>36258</td>\n",
       "      <td>36258</td>\n",
       "      <td>2868343</td>\n",
       "      <td>2018</td>\n",
       "      <td>...</td>\n",
       "      <td>20180330659444520</td>\n",
       "      <td>201803306594445</td>\n",
       "      <td>123</td>\n",
       "      <td>10</td>\n",
       "      <td>2</td>\n",
       "      <td>3619</td>\n",
       "      <td>4</td>\n",
       "      <td>0</td>\n",
       "      <td>0</td>\n",
       "      <td>10</td>\n",
       "    </tr>\n",
       "    <tr>\n",
       "      <th>13154</th>\n",
       "      <td>2018-03-30</td>\n",
       "      <td>6594445</td>\n",
       "      <td>21</td>\n",
       "      <td>1935</td>\n",
       "      <td>36381</td>\n",
       "      <td>36381</td>\n",
       "      <td>36381</td>\n",
       "      <td>36381</td>\n",
       "      <td>2868343</td>\n",
       "      <td>2018</td>\n",
       "      <td>...</td>\n",
       "      <td>20180330659444521</td>\n",
       "      <td>201803306594445</td>\n",
       "      <td>123</td>\n",
       "      <td>10</td>\n",
       "      <td>2</td>\n",
       "      <td>3619</td>\n",
       "      <td>4</td>\n",
       "      <td>0</td>\n",
       "      <td>0</td>\n",
       "      <td>10</td>\n",
       "    </tr>\n",
       "    <tr>\n",
       "      <th>13155</th>\n",
       "      <td>2018-03-30</td>\n",
       "      <td>6594445</td>\n",
       "      <td>22</td>\n",
       "      <td>1937</td>\n",
       "      <td>36488</td>\n",
       "      <td>36488</td>\n",
       "      <td>36488</td>\n",
       "      <td>36488</td>\n",
       "      <td>2868343</td>\n",
       "      <td>2018</td>\n",
       "      <td>...</td>\n",
       "      <td>20180330659444522</td>\n",
       "      <td>201803306594445</td>\n",
       "      <td>123</td>\n",
       "      <td>10</td>\n",
       "      <td>2</td>\n",
       "      <td>3619</td>\n",
       "      <td>4</td>\n",
       "      <td>0</td>\n",
       "      <td>0</td>\n",
       "      <td>10</td>\n",
       "    </tr>\n",
       "    <tr>\n",
       "      <th>13156</th>\n",
       "      <td>2018-03-30</td>\n",
       "      <td>6594445</td>\n",
       "      <td>23</td>\n",
       "      <td>1938</td>\n",
       "      <td>36568</td>\n",
       "      <td>36568</td>\n",
       "      <td>36568</td>\n",
       "      <td>36568</td>\n",
       "      <td>2868343</td>\n",
       "      <td>2018</td>\n",
       "      <td>...</td>\n",
       "      <td>20180330659444523</td>\n",
       "      <td>201803306594445</td>\n",
       "      <td>123</td>\n",
       "      <td>10</td>\n",
       "      <td>2</td>\n",
       "      <td>3619</td>\n",
       "      <td>4</td>\n",
       "      <td>0</td>\n",
       "      <td>0</td>\n",
       "      <td>10</td>\n",
       "    </tr>\n",
       "    <tr>\n",
       "      <th>13157</th>\n",
       "      <td>2018-03-30</td>\n",
       "      <td>6594445</td>\n",
       "      <td>24</td>\n",
       "      <td>1939</td>\n",
       "      <td>36658</td>\n",
       "      <td>36658</td>\n",
       "      <td>36658</td>\n",
       "      <td>36658</td>\n",
       "      <td>2868343</td>\n",
       "      <td>2018</td>\n",
       "      <td>...</td>\n",
       "      <td>20180330659444524</td>\n",
       "      <td>201803306594445</td>\n",
       "      <td>123</td>\n",
       "      <td>10</td>\n",
       "      <td>2</td>\n",
       "      <td>3619</td>\n",
       "      <td>4</td>\n",
       "      <td>0</td>\n",
       "      <td>0</td>\n",
       "      <td>10</td>\n",
       "    </tr>\n",
       "  </tbody>\n",
       "</table>\n",
       "<p>5 rows × 22 columns</p>\n",
       "</div>"
      ],
      "text/plain": [
       "      DAYOFSERVICE   TRIPID  PROGRNUMBER  STOPPOINTID  PLANNEDTIME_ARR  \\\n",
       "13153   2018-03-30  6594445           20         1934            36258   \n",
       "13154   2018-03-30  6594445           21         1935            36381   \n",
       "13155   2018-03-30  6594445           22         1937            36488   \n",
       "13156   2018-03-30  6594445           23         1938            36568   \n",
       "13157   2018-03-30  6594445           24         1939            36658   \n",
       "\n",
       "       PLANNEDTIME_DEP  ACTUALTIME_ARR  ACTUALTIME_DEP  VEHICLEID  year  ...  \\\n",
       "13153            36258           36258           36258    2868343  2018  ...   \n",
       "13154            36381           36381           36381    2868343  2018  ...   \n",
       "13155            36488           36488           36488    2868343  2018  ...   \n",
       "13156            36568           36568           36568    2868343  2018  ...   \n",
       "13157            36658           36658           36658    2868343  2018  ...   \n",
       "\n",
       "                      id    trip_leave_id  LINEID  num_lineID DIRECTION  \\\n",
       "13153  20180330659444520  201803306594445     123          10         2   \n",
       "13154  20180330659444521  201803306594445     123          10         2   \n",
       "13155  20180330659444522  201803306594445     123          10         2   \n",
       "13156  20180330659444523  201803306594445     123          10         2   \n",
       "13157  20180330659444524  201803306594445     123          10         2   \n",
       "\n",
       "       actual_duration  dayOfWeek  weekend  rushHour  actualARR_hour  \n",
       "13153             3619          4        0         0              10  \n",
       "13154             3619          4        0         0              10  \n",
       "13155             3619          4        0         0              10  \n",
       "13156             3619          4        0         0              10  \n",
       "13157             3619          4        0         0              10  \n",
       "\n",
       "[5 rows x 22 columns]"
      ]
     },
     "execution_count": 43,
     "metadata": {},
     "output_type": "execute_result"
    }
   ],
   "source": [
    "wk.head()"
   ]
  },
  {
   "cell_type": "code",
   "execution_count": 44,
   "id": "5299a41b",
   "metadata": {},
   "outputs": [
    {
     "data": {
      "text/plain": [
       "(31549, 22)"
      ]
     },
     "execution_count": 44,
     "metadata": {},
     "output_type": "execute_result"
    }
   ],
   "source": [
    "wk.shape"
   ]
  },
  {
   "cell_type": "markdown",
   "id": "c95c36a2",
   "metadata": {},
   "source": [
    "<h3>Send to CSV</h3>"
   ]
  },
  {
   "cell_type": "code",
   "execution_count": 45,
   "id": "10e456a8",
   "metadata": {},
   "outputs": [],
   "source": [
    "# Send df to csv:\n",
    "lwk.to_csv('v5_13_tripLeave2_sp9c.csv', index=False)"
   ]
  },
  {
   "cell_type": "markdown",
   "id": "eae8e196",
   "metadata": {},
   "source": [
    "## Route 123"
   ]
  },
  {
   "cell_type": "code",
   "execution_count": 46,
   "id": "2fe9252d",
   "metadata": {},
   "outputs": [],
   "source": [
    "lwk = wk[(wk['LINEID'] == '123')]"
   ]
  },
  {
   "cell_type": "code",
   "execution_count": 47,
   "id": "df08328a",
   "metadata": {},
   "outputs": [
    {
     "data": {
      "text/plain": [
       "(9422, 22)"
      ]
     },
     "execution_count": 47,
     "metadata": {},
     "output_type": "execute_result"
    }
   ],
   "source": [
    "lwk.shape"
   ]
  },
  {
   "cell_type": "code",
   "execution_count": 48,
   "id": "b0b02512",
   "metadata": {},
   "outputs": [],
   "source": [
    "# Drop Route 123 rows from wk\n",
    "wk.drop(wk[wk['LINEID'] == '123'].index, inplace = True)"
   ]
  },
  {
   "cell_type": "code",
   "execution_count": 49,
   "id": "8b9db2a6",
   "metadata": {},
   "outputs": [
    {
     "data": {
      "text/html": [
       "<div>\n",
       "<style scoped>\n",
       "    .dataframe tbody tr th:only-of-type {\n",
       "        vertical-align: middle;\n",
       "    }\n",
       "\n",
       "    .dataframe tbody tr th {\n",
       "        vertical-align: top;\n",
       "    }\n",
       "\n",
       "    .dataframe thead th {\n",
       "        text-align: right;\n",
       "    }\n",
       "</style>\n",
       "<table border=\"1\" class=\"dataframe\">\n",
       "  <thead>\n",
       "    <tr style=\"text-align: right;\">\n",
       "      <th></th>\n",
       "      <th>DAYOFSERVICE</th>\n",
       "      <th>TRIPID</th>\n",
       "      <th>PROGRNUMBER</th>\n",
       "      <th>STOPPOINTID</th>\n",
       "      <th>PLANNEDTIME_ARR</th>\n",
       "      <th>PLANNEDTIME_DEP</th>\n",
       "      <th>ACTUALTIME_ARR</th>\n",
       "      <th>ACTUALTIME_DEP</th>\n",
       "      <th>VEHICLEID</th>\n",
       "      <th>year</th>\n",
       "      <th>...</th>\n",
       "      <th>id</th>\n",
       "      <th>trip_leave_id</th>\n",
       "      <th>LINEID</th>\n",
       "      <th>num_lineID</th>\n",
       "      <th>DIRECTION</th>\n",
       "      <th>actual_duration</th>\n",
       "      <th>dayOfWeek</th>\n",
       "      <th>weekend</th>\n",
       "      <th>rushHour</th>\n",
       "      <th>actualARR_hour</th>\n",
       "    </tr>\n",
       "  </thead>\n",
       "  <tbody>\n",
       "    <tr>\n",
       "      <th>19312</th>\n",
       "      <td>2018-03-30</td>\n",
       "      <td>6595363</td>\n",
       "      <td>1</td>\n",
       "      <td>3085</td>\n",
       "      <td>62100</td>\n",
       "      <td>62100</td>\n",
       "      <td>62100</td>\n",
       "      <td>62100</td>\n",
       "      <td>1930279</td>\n",
       "      <td>2018</td>\n",
       "      <td>...</td>\n",
       "      <td>20180330659536301</td>\n",
       "      <td>201803306595363</td>\n",
       "      <td>114</td>\n",
       "      <td>5</td>\n",
       "      <td>2</td>\n",
       "      <td>1631</td>\n",
       "      <td>4</td>\n",
       "      <td>0</td>\n",
       "      <td>1</td>\n",
       "      <td>17</td>\n",
       "    </tr>\n",
       "    <tr>\n",
       "      <th>19313</th>\n",
       "      <td>2018-03-30</td>\n",
       "      <td>6595363</td>\n",
       "      <td>2</td>\n",
       "      <td>3082</td>\n",
       "      <td>62223</td>\n",
       "      <td>62223</td>\n",
       "      <td>62223</td>\n",
       "      <td>62223</td>\n",
       "      <td>1930279</td>\n",
       "      <td>2018</td>\n",
       "      <td>...</td>\n",
       "      <td>20180330659536302</td>\n",
       "      <td>201803306595363</td>\n",
       "      <td>114</td>\n",
       "      <td>5</td>\n",
       "      <td>2</td>\n",
       "      <td>1631</td>\n",
       "      <td>4</td>\n",
       "      <td>0</td>\n",
       "      <td>1</td>\n",
       "      <td>17</td>\n",
       "    </tr>\n",
       "    <tr>\n",
       "      <th>19314</th>\n",
       "      <td>2018-03-30</td>\n",
       "      <td>6595363</td>\n",
       "      <td>3</td>\n",
       "      <td>3165</td>\n",
       "      <td>62290</td>\n",
       "      <td>62290</td>\n",
       "      <td>62290</td>\n",
       "      <td>62290</td>\n",
       "      <td>1930279</td>\n",
       "      <td>2018</td>\n",
       "      <td>...</td>\n",
       "      <td>20180330659536303</td>\n",
       "      <td>201803306595363</td>\n",
       "      <td>114</td>\n",
       "      <td>5</td>\n",
       "      <td>2</td>\n",
       "      <td>1631</td>\n",
       "      <td>4</td>\n",
       "      <td>0</td>\n",
       "      <td>1</td>\n",
       "      <td>17</td>\n",
       "    </tr>\n",
       "    <tr>\n",
       "      <th>19315</th>\n",
       "      <td>2018-03-30</td>\n",
       "      <td>6595363</td>\n",
       "      <td>4</td>\n",
       "      <td>3166</td>\n",
       "      <td>62392</td>\n",
       "      <td>62392</td>\n",
       "      <td>62392</td>\n",
       "      <td>62392</td>\n",
       "      <td>1930279</td>\n",
       "      <td>2018</td>\n",
       "      <td>...</td>\n",
       "      <td>20180330659536304</td>\n",
       "      <td>201803306595363</td>\n",
       "      <td>114</td>\n",
       "      <td>5</td>\n",
       "      <td>2</td>\n",
       "      <td>1631</td>\n",
       "      <td>4</td>\n",
       "      <td>0</td>\n",
       "      <td>1</td>\n",
       "      <td>17</td>\n",
       "    </tr>\n",
       "    <tr>\n",
       "      <th>19316</th>\n",
       "      <td>2018-03-30</td>\n",
       "      <td>6595363</td>\n",
       "      <td>5</td>\n",
       "      <td>3167</td>\n",
       "      <td>62417</td>\n",
       "      <td>62417</td>\n",
       "      <td>62417</td>\n",
       "      <td>62417</td>\n",
       "      <td>1930279</td>\n",
       "      <td>2018</td>\n",
       "      <td>...</td>\n",
       "      <td>20180330659536305</td>\n",
       "      <td>201803306595363</td>\n",
       "      <td>114</td>\n",
       "      <td>5</td>\n",
       "      <td>2</td>\n",
       "      <td>1631</td>\n",
       "      <td>4</td>\n",
       "      <td>0</td>\n",
       "      <td>1</td>\n",
       "      <td>17</td>\n",
       "    </tr>\n",
       "  </tbody>\n",
       "</table>\n",
       "<p>5 rows × 22 columns</p>\n",
       "</div>"
      ],
      "text/plain": [
       "      DAYOFSERVICE   TRIPID  PROGRNUMBER  STOPPOINTID  PLANNEDTIME_ARR  \\\n",
       "19312   2018-03-30  6595363            1         3085            62100   \n",
       "19313   2018-03-30  6595363            2         3082            62223   \n",
       "19314   2018-03-30  6595363            3         3165            62290   \n",
       "19315   2018-03-30  6595363            4         3166            62392   \n",
       "19316   2018-03-30  6595363            5         3167            62417   \n",
       "\n",
       "       PLANNEDTIME_DEP  ACTUALTIME_ARR  ACTUALTIME_DEP  VEHICLEID  year  ...  \\\n",
       "19312            62100           62100           62100    1930279  2018  ...   \n",
       "19313            62223           62223           62223    1930279  2018  ...   \n",
       "19314            62290           62290           62290    1930279  2018  ...   \n",
       "19315            62392           62392           62392    1930279  2018  ...   \n",
       "19316            62417           62417           62417    1930279  2018  ...   \n",
       "\n",
       "                      id    trip_leave_id  LINEID  num_lineID DIRECTION  \\\n",
       "19312  20180330659536301  201803306595363     114           5         2   \n",
       "19313  20180330659536302  201803306595363     114           5         2   \n",
       "19314  20180330659536303  201803306595363     114           5         2   \n",
       "19315  20180330659536304  201803306595363     114           5         2   \n",
       "19316  20180330659536305  201803306595363     114           5         2   \n",
       "\n",
       "       actual_duration  dayOfWeek  weekend  rushHour  actualARR_hour  \n",
       "19312             1631          4        0         1              17  \n",
       "19313             1631          4        0         1              17  \n",
       "19314             1631          4        0         1              17  \n",
       "19315             1631          4        0         1              17  \n",
       "19316             1631          4        0         1              17  \n",
       "\n",
       "[5 rows x 22 columns]"
      ]
     },
     "execution_count": 49,
     "metadata": {},
     "output_type": "execute_result"
    }
   ],
   "source": [
    "wk.head()"
   ]
  },
  {
   "cell_type": "code",
   "execution_count": 50,
   "id": "91131d06",
   "metadata": {},
   "outputs": [
    {
     "data": {
      "text/plain": [
       "(22127, 22)"
      ]
     },
     "execution_count": 50,
     "metadata": {},
     "output_type": "execute_result"
    }
   ],
   "source": [
    "wk.shape"
   ]
  },
  {
   "cell_type": "markdown",
   "id": "3a88d28c",
   "metadata": {},
   "source": [
    "<h3>Send to CSV</h3>"
   ]
  },
  {
   "cell_type": "code",
   "execution_count": 51,
   "id": "8bc23b00",
   "metadata": {},
   "outputs": [],
   "source": [
    "# Send df to csv:\n",
    "lwk.to_csv('v5_123_tripLeave2_sp9c.csv', index=False)"
   ]
  },
  {
   "cell_type": "markdown",
   "id": "12bd18a1",
   "metadata": {},
   "source": [
    "## Route 114"
   ]
  },
  {
   "cell_type": "code",
   "execution_count": 52,
   "id": "310eb1b2",
   "metadata": {},
   "outputs": [],
   "source": [
    "lwk = wk[(wk['LINEID'] == '114')]"
   ]
  },
  {
   "cell_type": "code",
   "execution_count": 53,
   "id": "9d7e0310",
   "metadata": {},
   "outputs": [
    {
     "data": {
      "text/plain": [
       "(738, 22)"
      ]
     },
     "execution_count": 53,
     "metadata": {},
     "output_type": "execute_result"
    }
   ],
   "source": [
    "lwk.shape"
   ]
  },
  {
   "cell_type": "code",
   "execution_count": 54,
   "id": "2bc58961",
   "metadata": {},
   "outputs": [],
   "source": [
    "# Drop Route 114 rows from wk\n",
    "wk.drop(wk[wk['LINEID'] == '114'].index, inplace = True)"
   ]
  },
  {
   "cell_type": "code",
   "execution_count": 55,
   "id": "e626322e",
   "metadata": {},
   "outputs": [
    {
     "data": {
      "text/html": [
       "<div>\n",
       "<style scoped>\n",
       "    .dataframe tbody tr th:only-of-type {\n",
       "        vertical-align: middle;\n",
       "    }\n",
       "\n",
       "    .dataframe tbody tr th {\n",
       "        vertical-align: top;\n",
       "    }\n",
       "\n",
       "    .dataframe thead th {\n",
       "        text-align: right;\n",
       "    }\n",
       "</style>\n",
       "<table border=\"1\" class=\"dataframe\">\n",
       "  <thead>\n",
       "    <tr style=\"text-align: right;\">\n",
       "      <th></th>\n",
       "      <th>DAYOFSERVICE</th>\n",
       "      <th>TRIPID</th>\n",
       "      <th>PROGRNUMBER</th>\n",
       "      <th>STOPPOINTID</th>\n",
       "      <th>PLANNEDTIME_ARR</th>\n",
       "      <th>PLANNEDTIME_DEP</th>\n",
       "      <th>ACTUALTIME_ARR</th>\n",
       "      <th>ACTUALTIME_DEP</th>\n",
       "      <th>VEHICLEID</th>\n",
       "      <th>year</th>\n",
       "      <th>...</th>\n",
       "      <th>id</th>\n",
       "      <th>trip_leave_id</th>\n",
       "      <th>LINEID</th>\n",
       "      <th>num_lineID</th>\n",
       "      <th>DIRECTION</th>\n",
       "      <th>actual_duration</th>\n",
       "      <th>dayOfWeek</th>\n",
       "      <th>weekend</th>\n",
       "      <th>rushHour</th>\n",
       "      <th>actualARR_hour</th>\n",
       "    </tr>\n",
       "  </thead>\n",
       "  <tbody>\n",
       "    <tr>\n",
       "      <th>20050</th>\n",
       "      <td>2018-03-30</td>\n",
       "      <td>6595494</td>\n",
       "      <td>1</td>\n",
       "      <td>449</td>\n",
       "      <td>84600</td>\n",
       "      <td>84600</td>\n",
       "      <td>84600</td>\n",
       "      <td>84600</td>\n",
       "      <td>1932299</td>\n",
       "      <td>2018</td>\n",
       "      <td>...</td>\n",
       "      <td>20180330659549401</td>\n",
       "      <td>201803306595494</td>\n",
       "      <td>11</td>\n",
       "      <td>3</td>\n",
       "      <td>2</td>\n",
       "      <td>1553</td>\n",
       "      <td>4</td>\n",
       "      <td>0</td>\n",
       "      <td>0</td>\n",
       "      <td>0</td>\n",
       "    </tr>\n",
       "    <tr>\n",
       "      <th>20051</th>\n",
       "      <td>2018-03-30</td>\n",
       "      <td>6595494</td>\n",
       "      <td>2</td>\n",
       "      <td>450</td>\n",
       "      <td>84629</td>\n",
       "      <td>84629</td>\n",
       "      <td>84629</td>\n",
       "      <td>84629</td>\n",
       "      <td>1932299</td>\n",
       "      <td>2018</td>\n",
       "      <td>...</td>\n",
       "      <td>20180330659549402</td>\n",
       "      <td>201803306595494</td>\n",
       "      <td>11</td>\n",
       "      <td>3</td>\n",
       "      <td>2</td>\n",
       "      <td>1553</td>\n",
       "      <td>4</td>\n",
       "      <td>0</td>\n",
       "      <td>0</td>\n",
       "      <td>0</td>\n",
       "    </tr>\n",
       "    <tr>\n",
       "      <th>20052</th>\n",
       "      <td>2018-03-30</td>\n",
       "      <td>6595494</td>\n",
       "      <td>3</td>\n",
       "      <td>3181</td>\n",
       "      <td>84687</td>\n",
       "      <td>84687</td>\n",
       "      <td>84687</td>\n",
       "      <td>84687</td>\n",
       "      <td>1932299</td>\n",
       "      <td>2018</td>\n",
       "      <td>...</td>\n",
       "      <td>20180330659549403</td>\n",
       "      <td>201803306595494</td>\n",
       "      <td>11</td>\n",
       "      <td>3</td>\n",
       "      <td>2</td>\n",
       "      <td>1553</td>\n",
       "      <td>4</td>\n",
       "      <td>0</td>\n",
       "      <td>0</td>\n",
       "      <td>0</td>\n",
       "    </tr>\n",
       "    <tr>\n",
       "      <th>20053</th>\n",
       "      <td>2018-03-30</td>\n",
       "      <td>6595494</td>\n",
       "      <td>4</td>\n",
       "      <td>451</td>\n",
       "      <td>84714</td>\n",
       "      <td>84714</td>\n",
       "      <td>84714</td>\n",
       "      <td>84714</td>\n",
       "      <td>1932299</td>\n",
       "      <td>2018</td>\n",
       "      <td>...</td>\n",
       "      <td>20180330659549404</td>\n",
       "      <td>201803306595494</td>\n",
       "      <td>11</td>\n",
       "      <td>3</td>\n",
       "      <td>2</td>\n",
       "      <td>1553</td>\n",
       "      <td>4</td>\n",
       "      <td>0</td>\n",
       "      <td>0</td>\n",
       "      <td>0</td>\n",
       "    </tr>\n",
       "    <tr>\n",
       "      <th>20054</th>\n",
       "      <td>2018-03-30</td>\n",
       "      <td>6595494</td>\n",
       "      <td>5</td>\n",
       "      <td>447</td>\n",
       "      <td>84754</td>\n",
       "      <td>84754</td>\n",
       "      <td>84754</td>\n",
       "      <td>84754</td>\n",
       "      <td>1932299</td>\n",
       "      <td>2018</td>\n",
       "      <td>...</td>\n",
       "      <td>20180330659549405</td>\n",
       "      <td>201803306595494</td>\n",
       "      <td>11</td>\n",
       "      <td>3</td>\n",
       "      <td>2</td>\n",
       "      <td>1553</td>\n",
       "      <td>4</td>\n",
       "      <td>0</td>\n",
       "      <td>0</td>\n",
       "      <td>0</td>\n",
       "    </tr>\n",
       "  </tbody>\n",
       "</table>\n",
       "<p>5 rows × 22 columns</p>\n",
       "</div>"
      ],
      "text/plain": [
       "      DAYOFSERVICE   TRIPID  PROGRNUMBER  STOPPOINTID  PLANNEDTIME_ARR  \\\n",
       "20050   2018-03-30  6595494            1          449            84600   \n",
       "20051   2018-03-30  6595494            2          450            84629   \n",
       "20052   2018-03-30  6595494            3         3181            84687   \n",
       "20053   2018-03-30  6595494            4          451            84714   \n",
       "20054   2018-03-30  6595494            5          447            84754   \n",
       "\n",
       "       PLANNEDTIME_DEP  ACTUALTIME_ARR  ACTUALTIME_DEP  VEHICLEID  year  ...  \\\n",
       "20050            84600           84600           84600    1932299  2018  ...   \n",
       "20051            84629           84629           84629    1932299  2018  ...   \n",
       "20052            84687           84687           84687    1932299  2018  ...   \n",
       "20053            84714           84714           84714    1932299  2018  ...   \n",
       "20054            84754           84754           84754    1932299  2018  ...   \n",
       "\n",
       "                      id    trip_leave_id  LINEID  num_lineID DIRECTION  \\\n",
       "20050  20180330659549401  201803306595494      11           3         2   \n",
       "20051  20180330659549402  201803306595494      11           3         2   \n",
       "20052  20180330659549403  201803306595494      11           3         2   \n",
       "20053  20180330659549404  201803306595494      11           3         2   \n",
       "20054  20180330659549405  201803306595494      11           3         2   \n",
       "\n",
       "       actual_duration  dayOfWeek  weekend  rushHour  actualARR_hour  \n",
       "20050             1553          4        0         0               0  \n",
       "20051             1553          4        0         0               0  \n",
       "20052             1553          4        0         0               0  \n",
       "20053             1553          4        0         0               0  \n",
       "20054             1553          4        0         0               0  \n",
       "\n",
       "[5 rows x 22 columns]"
      ]
     },
     "execution_count": 55,
     "metadata": {},
     "output_type": "execute_result"
    }
   ],
   "source": [
    "wk.head()"
   ]
  },
  {
   "cell_type": "code",
   "execution_count": 56,
   "id": "1925fbda",
   "metadata": {},
   "outputs": [
    {
     "data": {
      "text/plain": [
       "(21389, 22)"
      ]
     },
     "execution_count": 56,
     "metadata": {},
     "output_type": "execute_result"
    }
   ],
   "source": [
    "wk.shape"
   ]
  },
  {
   "cell_type": "markdown",
   "id": "fbce052d",
   "metadata": {},
   "source": [
    "<h3>Send to CSV</h3>"
   ]
  },
  {
   "cell_type": "code",
   "execution_count": 57,
   "id": "f7db27b7",
   "metadata": {},
   "outputs": [],
   "source": [
    "# Send df to csv:\n",
    "lwk.to_csv('v5_114_tripLeave2_sp9c.csv', index=False)"
   ]
  },
  {
   "cell_type": "markdown",
   "id": "b634e919",
   "metadata": {},
   "source": [
    "## Route 11"
   ]
  },
  {
   "cell_type": "code",
   "execution_count": 58,
   "id": "3953f651",
   "metadata": {},
   "outputs": [],
   "source": [
    "lwk = wk[(wk['LINEID'] == '11')]"
   ]
  },
  {
   "cell_type": "code",
   "execution_count": 59,
   "id": "c2cf16ab",
   "metadata": {},
   "outputs": [
    {
     "data": {
      "text/plain": [
       "(4449, 22)"
      ]
     },
     "execution_count": 59,
     "metadata": {},
     "output_type": "execute_result"
    }
   ],
   "source": [
    "lwk.shape"
   ]
  },
  {
   "cell_type": "code",
   "execution_count": 60,
   "id": "9c60ac87",
   "metadata": {},
   "outputs": [],
   "source": [
    "# Drop Route 11 rows from wk\n",
    "wk.drop(wk[wk['LINEID'] == '11'].index, inplace = True)"
   ]
  },
  {
   "cell_type": "code",
   "execution_count": 61,
   "id": "697f4f68",
   "metadata": {},
   "outputs": [
    {
     "data": {
      "text/html": [
       "<div>\n",
       "<style scoped>\n",
       "    .dataframe tbody tr th:only-of-type {\n",
       "        vertical-align: middle;\n",
       "    }\n",
       "\n",
       "    .dataframe tbody tr th {\n",
       "        vertical-align: top;\n",
       "    }\n",
       "\n",
       "    .dataframe thead th {\n",
       "        text-align: right;\n",
       "    }\n",
       "</style>\n",
       "<table border=\"1\" class=\"dataframe\">\n",
       "  <thead>\n",
       "    <tr style=\"text-align: right;\">\n",
       "      <th></th>\n",
       "      <th>DAYOFSERVICE</th>\n",
       "      <th>TRIPID</th>\n",
       "      <th>PROGRNUMBER</th>\n",
       "      <th>STOPPOINTID</th>\n",
       "      <th>PLANNEDTIME_ARR</th>\n",
       "      <th>PLANNEDTIME_DEP</th>\n",
       "      <th>ACTUALTIME_ARR</th>\n",
       "      <th>ACTUALTIME_DEP</th>\n",
       "      <th>VEHICLEID</th>\n",
       "      <th>year</th>\n",
       "      <th>...</th>\n",
       "      <th>id</th>\n",
       "      <th>trip_leave_id</th>\n",
       "      <th>LINEID</th>\n",
       "      <th>num_lineID</th>\n",
       "      <th>DIRECTION</th>\n",
       "      <th>actual_duration</th>\n",
       "      <th>dayOfWeek</th>\n",
       "      <th>weekend</th>\n",
       "      <th>rushHour</th>\n",
       "      <th>actualARR_hour</th>\n",
       "    </tr>\n",
       "  </thead>\n",
       "  <tbody>\n",
       "    <tr>\n",
       "      <th>38132</th>\n",
       "      <td>2018-04-01</td>\n",
       "      <td>6592768</td>\n",
       "      <td>3</td>\n",
       "      <td>4178</td>\n",
       "      <td>39793</td>\n",
       "      <td>39793</td>\n",
       "      <td>39793</td>\n",
       "      <td>39793</td>\n",
       "      <td>2868331</td>\n",
       "      <td>2018</td>\n",
       "      <td>...</td>\n",
       "      <td>20180401659276803</td>\n",
       "      <td>201804016592768</td>\n",
       "      <td>145</td>\n",
       "      <td>16</td>\n",
       "      <td>2</td>\n",
       "      <td>4561</td>\n",
       "      <td>6</td>\n",
       "      <td>1</td>\n",
       "      <td>0</td>\n",
       "      <td>11</td>\n",
       "    </tr>\n",
       "    <tr>\n",
       "      <th>38133</th>\n",
       "      <td>2018-04-01</td>\n",
       "      <td>6592768</td>\n",
       "      <td>4</td>\n",
       "      <td>4179</td>\n",
       "      <td>39868</td>\n",
       "      <td>39868</td>\n",
       "      <td>39868</td>\n",
       "      <td>39868</td>\n",
       "      <td>2868331</td>\n",
       "      <td>2018</td>\n",
       "      <td>...</td>\n",
       "      <td>20180401659276804</td>\n",
       "      <td>201804016592768</td>\n",
       "      <td>145</td>\n",
       "      <td>16</td>\n",
       "      <td>2</td>\n",
       "      <td>4561</td>\n",
       "      <td>6</td>\n",
       "      <td>1</td>\n",
       "      <td>0</td>\n",
       "      <td>11</td>\n",
       "    </tr>\n",
       "    <tr>\n",
       "      <th>38134</th>\n",
       "      <td>2018-04-01</td>\n",
       "      <td>6592768</td>\n",
       "      <td>5</td>\n",
       "      <td>2993</td>\n",
       "      <td>39920</td>\n",
       "      <td>39920</td>\n",
       "      <td>39920</td>\n",
       "      <td>39920</td>\n",
       "      <td>2868331</td>\n",
       "      <td>2018</td>\n",
       "      <td>...</td>\n",
       "      <td>20180401659276805</td>\n",
       "      <td>201804016592768</td>\n",
       "      <td>145</td>\n",
       "      <td>16</td>\n",
       "      <td>2</td>\n",
       "      <td>4561</td>\n",
       "      <td>6</td>\n",
       "      <td>1</td>\n",
       "      <td>0</td>\n",
       "      <td>11</td>\n",
       "    </tr>\n",
       "    <tr>\n",
       "      <th>38135</th>\n",
       "      <td>2018-04-01</td>\n",
       "      <td>6592768</td>\n",
       "      <td>6</td>\n",
       "      <td>2994</td>\n",
       "      <td>39981</td>\n",
       "      <td>39981</td>\n",
       "      <td>39981</td>\n",
       "      <td>39981</td>\n",
       "      <td>2868331</td>\n",
       "      <td>2018</td>\n",
       "      <td>...</td>\n",
       "      <td>20180401659276806</td>\n",
       "      <td>201804016592768</td>\n",
       "      <td>145</td>\n",
       "      <td>16</td>\n",
       "      <td>2</td>\n",
       "      <td>4561</td>\n",
       "      <td>6</td>\n",
       "      <td>1</td>\n",
       "      <td>0</td>\n",
       "      <td>11</td>\n",
       "    </tr>\n",
       "    <tr>\n",
       "      <th>38136</th>\n",
       "      <td>2018-04-01</td>\n",
       "      <td>6592768</td>\n",
       "      <td>7</td>\n",
       "      <td>4180</td>\n",
       "      <td>40039</td>\n",
       "      <td>40039</td>\n",
       "      <td>40039</td>\n",
       "      <td>40039</td>\n",
       "      <td>2868331</td>\n",
       "      <td>2018</td>\n",
       "      <td>...</td>\n",
       "      <td>20180401659276807</td>\n",
       "      <td>201804016592768</td>\n",
       "      <td>145</td>\n",
       "      <td>16</td>\n",
       "      <td>2</td>\n",
       "      <td>4561</td>\n",
       "      <td>6</td>\n",
       "      <td>1</td>\n",
       "      <td>0</td>\n",
       "      <td>11</td>\n",
       "    </tr>\n",
       "  </tbody>\n",
       "</table>\n",
       "<p>5 rows × 22 columns</p>\n",
       "</div>"
      ],
      "text/plain": [
       "      DAYOFSERVICE   TRIPID  PROGRNUMBER  STOPPOINTID  PLANNEDTIME_ARR  \\\n",
       "38132   2018-04-01  6592768            3         4178            39793   \n",
       "38133   2018-04-01  6592768            4         4179            39868   \n",
       "38134   2018-04-01  6592768            5         2993            39920   \n",
       "38135   2018-04-01  6592768            6         2994            39981   \n",
       "38136   2018-04-01  6592768            7         4180            40039   \n",
       "\n",
       "       PLANNEDTIME_DEP  ACTUALTIME_ARR  ACTUALTIME_DEP  VEHICLEID  year  ...  \\\n",
       "38132            39793           39793           39793    2868331  2018  ...   \n",
       "38133            39868           39868           39868    2868331  2018  ...   \n",
       "38134            39920           39920           39920    2868331  2018  ...   \n",
       "38135            39981           39981           39981    2868331  2018  ...   \n",
       "38136            40039           40039           40039    2868331  2018  ...   \n",
       "\n",
       "                      id    trip_leave_id  LINEID  num_lineID DIRECTION  \\\n",
       "38132  20180401659276803  201804016592768     145          16         2   \n",
       "38133  20180401659276804  201804016592768     145          16         2   \n",
       "38134  20180401659276805  201804016592768     145          16         2   \n",
       "38135  20180401659276806  201804016592768     145          16         2   \n",
       "38136  20180401659276807  201804016592768     145          16         2   \n",
       "\n",
       "       actual_duration  dayOfWeek  weekend  rushHour  actualARR_hour  \n",
       "38132             4561          6        1         0              11  \n",
       "38133             4561          6        1         0              11  \n",
       "38134             4561          6        1         0              11  \n",
       "38135             4561          6        1         0              11  \n",
       "38136             4561          6        1         0              11  \n",
       "\n",
       "[5 rows x 22 columns]"
      ]
     },
     "execution_count": 61,
     "metadata": {},
     "output_type": "execute_result"
    }
   ],
   "source": [
    "wk.head()"
   ]
  },
  {
   "cell_type": "code",
   "execution_count": 62,
   "id": "008d0da7",
   "metadata": {},
   "outputs": [
    {
     "data": {
      "text/plain": [
       "(16940, 22)"
      ]
     },
     "execution_count": 62,
     "metadata": {},
     "output_type": "execute_result"
    }
   ],
   "source": [
    "wk.shape"
   ]
  },
  {
   "cell_type": "markdown",
   "id": "344cabed",
   "metadata": {},
   "source": [
    "<h3>Send to CSV</h3>"
   ]
  },
  {
   "cell_type": "code",
   "execution_count": 63,
   "id": "a87bdae2",
   "metadata": {},
   "outputs": [],
   "source": [
    "# Send df to csv:\n",
    "lwk.to_csv('v5_11_tripLeave2_sp9c.csv', index=False)"
   ]
  },
  {
   "cell_type": "markdown",
   "id": "caae3da1",
   "metadata": {},
   "source": [
    "## Route 145"
   ]
  },
  {
   "cell_type": "code",
   "execution_count": 64,
   "id": "57040cc6",
   "metadata": {},
   "outputs": [],
   "source": [
    "lwk = wk[(wk['LINEID'] == '145')]"
   ]
  },
  {
   "cell_type": "code",
   "execution_count": 65,
   "id": "94445942",
   "metadata": {},
   "outputs": [
    {
     "data": {
      "text/plain": [
       "(11613, 22)"
      ]
     },
     "execution_count": 65,
     "metadata": {},
     "output_type": "execute_result"
    }
   ],
   "source": [
    "lwk.shape"
   ]
  },
  {
   "cell_type": "code",
   "execution_count": 66,
   "id": "6daa2caf",
   "metadata": {},
   "outputs": [],
   "source": [
    "# Drop Route 145 rows from wk\n",
    "wk.drop(wk[wk['LINEID'] == '145'].index, inplace = True)"
   ]
  },
  {
   "cell_type": "code",
   "execution_count": 67,
   "id": "b120bb4d",
   "metadata": {},
   "outputs": [
    {
     "data": {
      "text/html": [
       "<div>\n",
       "<style scoped>\n",
       "    .dataframe tbody tr th:only-of-type {\n",
       "        vertical-align: middle;\n",
       "    }\n",
       "\n",
       "    .dataframe tbody tr th {\n",
       "        vertical-align: top;\n",
       "    }\n",
       "\n",
       "    .dataframe thead th {\n",
       "        text-align: right;\n",
       "    }\n",
       "</style>\n",
       "<table border=\"1\" class=\"dataframe\">\n",
       "  <thead>\n",
       "    <tr style=\"text-align: right;\">\n",
       "      <th></th>\n",
       "      <th>DAYOFSERVICE</th>\n",
       "      <th>TRIPID</th>\n",
       "      <th>PROGRNUMBER</th>\n",
       "      <th>STOPPOINTID</th>\n",
       "      <th>PLANNEDTIME_ARR</th>\n",
       "      <th>PLANNEDTIME_DEP</th>\n",
       "      <th>ACTUALTIME_ARR</th>\n",
       "      <th>ACTUALTIME_DEP</th>\n",
       "      <th>VEHICLEID</th>\n",
       "      <th>year</th>\n",
       "      <th>...</th>\n",
       "      <th>id</th>\n",
       "      <th>trip_leave_id</th>\n",
       "      <th>LINEID</th>\n",
       "      <th>num_lineID</th>\n",
       "      <th>DIRECTION</th>\n",
       "      <th>actual_duration</th>\n",
       "      <th>dayOfWeek</th>\n",
       "      <th>weekend</th>\n",
       "      <th>rushHour</th>\n",
       "      <th>actualARR_hour</th>\n",
       "    </tr>\n",
       "  </thead>\n",
       "  <tbody>\n",
       "    <tr>\n",
       "      <th>43626</th>\n",
       "      <td>2018-04-01</td>\n",
       "      <td>6593718</td>\n",
       "      <td>3</td>\n",
       "      <td>1774</td>\n",
       "      <td>73277</td>\n",
       "      <td>73277</td>\n",
       "      <td>73277</td>\n",
       "      <td>73277</td>\n",
       "      <td>1000327</td>\n",
       "      <td>2018</td>\n",
       "      <td>...</td>\n",
       "      <td>20180401659371803</td>\n",
       "      <td>201804016593718</td>\n",
       "      <td>130</td>\n",
       "      <td>12</td>\n",
       "      <td>2</td>\n",
       "      <td>1459</td>\n",
       "      <td>6</td>\n",
       "      <td>1</td>\n",
       "      <td>0</td>\n",
       "      <td>20</td>\n",
       "    </tr>\n",
       "    <tr>\n",
       "      <th>43627</th>\n",
       "      <td>2018-04-01</td>\n",
       "      <td>6593718</td>\n",
       "      <td>4</td>\n",
       "      <td>1775</td>\n",
       "      <td>73314</td>\n",
       "      <td>73314</td>\n",
       "      <td>73314</td>\n",
       "      <td>73314</td>\n",
       "      <td>1000327</td>\n",
       "      <td>2018</td>\n",
       "      <td>...</td>\n",
       "      <td>20180401659371804</td>\n",
       "      <td>201804016593718</td>\n",
       "      <td>130</td>\n",
       "      <td>12</td>\n",
       "      <td>2</td>\n",
       "      <td>1459</td>\n",
       "      <td>6</td>\n",
       "      <td>1</td>\n",
       "      <td>0</td>\n",
       "      <td>20</td>\n",
       "    </tr>\n",
       "    <tr>\n",
       "      <th>43628</th>\n",
       "      <td>2018-04-01</td>\n",
       "      <td>6593718</td>\n",
       "      <td>5</td>\n",
       "      <td>1776</td>\n",
       "      <td>73347</td>\n",
       "      <td>73347</td>\n",
       "      <td>73347</td>\n",
       "      <td>73347</td>\n",
       "      <td>1000327</td>\n",
       "      <td>2018</td>\n",
       "      <td>...</td>\n",
       "      <td>20180401659371805</td>\n",
       "      <td>201804016593718</td>\n",
       "      <td>130</td>\n",
       "      <td>12</td>\n",
       "      <td>2</td>\n",
       "      <td>1459</td>\n",
       "      <td>6</td>\n",
       "      <td>1</td>\n",
       "      <td>0</td>\n",
       "      <td>20</td>\n",
       "    </tr>\n",
       "    <tr>\n",
       "      <th>43629</th>\n",
       "      <td>2018-04-01</td>\n",
       "      <td>6593718</td>\n",
       "      <td>6</td>\n",
       "      <td>1777</td>\n",
       "      <td>73370</td>\n",
       "      <td>73370</td>\n",
       "      <td>73370</td>\n",
       "      <td>73370</td>\n",
       "      <td>1000327</td>\n",
       "      <td>2018</td>\n",
       "      <td>...</td>\n",
       "      <td>20180401659371806</td>\n",
       "      <td>201804016593718</td>\n",
       "      <td>130</td>\n",
       "      <td>12</td>\n",
       "      <td>2</td>\n",
       "      <td>1459</td>\n",
       "      <td>6</td>\n",
       "      <td>1</td>\n",
       "      <td>0</td>\n",
       "      <td>20</td>\n",
       "    </tr>\n",
       "    <tr>\n",
       "      <th>43630</th>\n",
       "      <td>2018-04-01</td>\n",
       "      <td>6593718</td>\n",
       "      <td>7</td>\n",
       "      <td>1778</td>\n",
       "      <td>73401</td>\n",
       "      <td>73401</td>\n",
       "      <td>73401</td>\n",
       "      <td>73401</td>\n",
       "      <td>1000327</td>\n",
       "      <td>2018</td>\n",
       "      <td>...</td>\n",
       "      <td>20180401659371807</td>\n",
       "      <td>201804016593718</td>\n",
       "      <td>130</td>\n",
       "      <td>12</td>\n",
       "      <td>2</td>\n",
       "      <td>1459</td>\n",
       "      <td>6</td>\n",
       "      <td>1</td>\n",
       "      <td>0</td>\n",
       "      <td>20</td>\n",
       "    </tr>\n",
       "  </tbody>\n",
       "</table>\n",
       "<p>5 rows × 22 columns</p>\n",
       "</div>"
      ],
      "text/plain": [
       "      DAYOFSERVICE   TRIPID  PROGRNUMBER  STOPPOINTID  PLANNEDTIME_ARR  \\\n",
       "43626   2018-04-01  6593718            3         1774            73277   \n",
       "43627   2018-04-01  6593718            4         1775            73314   \n",
       "43628   2018-04-01  6593718            5         1776            73347   \n",
       "43629   2018-04-01  6593718            6         1777            73370   \n",
       "43630   2018-04-01  6593718            7         1778            73401   \n",
       "\n",
       "       PLANNEDTIME_DEP  ACTUALTIME_ARR  ACTUALTIME_DEP  VEHICLEID  year  ...  \\\n",
       "43626            73277           73277           73277    1000327  2018  ...   \n",
       "43627            73314           73314           73314    1000327  2018  ...   \n",
       "43628            73347           73347           73347    1000327  2018  ...   \n",
       "43629            73370           73370           73370    1000327  2018  ...   \n",
       "43630            73401           73401           73401    1000327  2018  ...   \n",
       "\n",
       "                      id    trip_leave_id  LINEID  num_lineID DIRECTION  \\\n",
       "43626  20180401659371803  201804016593718     130          12         2   \n",
       "43627  20180401659371804  201804016593718     130          12         2   \n",
       "43628  20180401659371805  201804016593718     130          12         2   \n",
       "43629  20180401659371806  201804016593718     130          12         2   \n",
       "43630  20180401659371807  201804016593718     130          12         2   \n",
       "\n",
       "       actual_duration  dayOfWeek  weekend  rushHour  actualARR_hour  \n",
       "43626             1459          6        1         0              20  \n",
       "43627             1459          6        1         0              20  \n",
       "43628             1459          6        1         0              20  \n",
       "43629             1459          6        1         0              20  \n",
       "43630             1459          6        1         0              20  \n",
       "\n",
       "[5 rows x 22 columns]"
      ]
     },
     "execution_count": 67,
     "metadata": {},
     "output_type": "execute_result"
    }
   ],
   "source": [
    "wk.head()"
   ]
  },
  {
   "cell_type": "code",
   "execution_count": 68,
   "id": "e4817201",
   "metadata": {},
   "outputs": [
    {
     "data": {
      "text/plain": [
       "(5327, 22)"
      ]
     },
     "execution_count": 68,
     "metadata": {},
     "output_type": "execute_result"
    }
   ],
   "source": [
    "wk.shape"
   ]
  },
  {
   "cell_type": "markdown",
   "id": "d39a108d",
   "metadata": {},
   "source": [
    "<h3>Send to CSV</h3>"
   ]
  },
  {
   "cell_type": "code",
   "execution_count": 69,
   "id": "1de6b91b",
   "metadata": {},
   "outputs": [],
   "source": [
    "# Send df to csv:\n",
    "lwk.to_csv('v5_145_tripLeave2_sp9c.csv', index=False)"
   ]
  },
  {
   "cell_type": "markdown",
   "id": "bb64356b",
   "metadata": {},
   "source": [
    "## Route 130"
   ]
  },
  {
   "cell_type": "code",
   "execution_count": 70,
   "id": "16722cc0",
   "metadata": {},
   "outputs": [],
   "source": [
    "lwk = wk[(wk['LINEID'] == '130')]"
   ]
  },
  {
   "cell_type": "code",
   "execution_count": 71,
   "id": "ad9e01f0",
   "metadata": {},
   "outputs": [
    {
     "data": {
      "text/plain": [
       "(5327, 22)"
      ]
     },
     "execution_count": 71,
     "metadata": {},
     "output_type": "execute_result"
    }
   ],
   "source": [
    "lwk.shape"
   ]
  },
  {
   "cell_type": "code",
   "execution_count": 72,
   "id": "bf0d5ee0",
   "metadata": {},
   "outputs": [],
   "source": [
    "# Drop Route 130 rows from wk\n",
    "wk.drop(wk[wk['LINEID'] == '130'].index, inplace = True)"
   ]
  },
  {
   "cell_type": "code",
   "execution_count": 73,
   "id": "720f5491",
   "metadata": {},
   "outputs": [
    {
     "data": {
      "text/html": [
       "<div>\n",
       "<style scoped>\n",
       "    .dataframe tbody tr th:only-of-type {\n",
       "        vertical-align: middle;\n",
       "    }\n",
       "\n",
       "    .dataframe tbody tr th {\n",
       "        vertical-align: top;\n",
       "    }\n",
       "\n",
       "    .dataframe thead th {\n",
       "        text-align: right;\n",
       "    }\n",
       "</style>\n",
       "<table border=\"1\" class=\"dataframe\">\n",
       "  <thead>\n",
       "    <tr style=\"text-align: right;\">\n",
       "      <th></th>\n",
       "      <th>DAYOFSERVICE</th>\n",
       "      <th>TRIPID</th>\n",
       "      <th>PROGRNUMBER</th>\n",
       "      <th>STOPPOINTID</th>\n",
       "      <th>PLANNEDTIME_ARR</th>\n",
       "      <th>PLANNEDTIME_DEP</th>\n",
       "      <th>ACTUALTIME_ARR</th>\n",
       "      <th>ACTUALTIME_DEP</th>\n",
       "      <th>VEHICLEID</th>\n",
       "      <th>year</th>\n",
       "      <th>...</th>\n",
       "      <th>id</th>\n",
       "      <th>trip_leave_id</th>\n",
       "      <th>LINEID</th>\n",
       "      <th>num_lineID</th>\n",
       "      <th>DIRECTION</th>\n",
       "      <th>actual_duration</th>\n",
       "      <th>dayOfWeek</th>\n",
       "      <th>weekend</th>\n",
       "      <th>rushHour</th>\n",
       "      <th>actualARR_hour</th>\n",
       "    </tr>\n",
       "  </thead>\n",
       "  <tbody>\n",
       "  </tbody>\n",
       "</table>\n",
       "<p>0 rows × 22 columns</p>\n",
       "</div>"
      ],
      "text/plain": [
       "Empty DataFrame\n",
       "Columns: [DAYOFSERVICE, TRIPID, PROGRNUMBER, STOPPOINTID, PLANNEDTIME_ARR, PLANNEDTIME_DEP, ACTUALTIME_ARR, ACTUALTIME_DEP, VEHICLEID, year, month, day, id, trip_leave_id, LINEID, num_lineID, DIRECTION, actual_duration, dayOfWeek, weekend, rushHour, actualARR_hour]\n",
       "Index: []\n",
       "\n",
       "[0 rows x 22 columns]"
      ]
     },
     "execution_count": 73,
     "metadata": {},
     "output_type": "execute_result"
    }
   ],
   "source": [
    "wk.head()"
   ]
  },
  {
   "cell_type": "code",
   "execution_count": 74,
   "id": "ddff214c",
   "metadata": {},
   "outputs": [
    {
     "data": {
      "text/plain": [
       "(0, 22)"
      ]
     },
     "execution_count": 74,
     "metadata": {},
     "output_type": "execute_result"
    }
   ],
   "source": [
    "wk.shape"
   ]
  },
  {
   "cell_type": "markdown",
   "id": "93a5421b",
   "metadata": {},
   "source": [
    "<h3>Send to CSV</h3>"
   ]
  },
  {
   "cell_type": "code",
   "execution_count": 75,
   "id": "db5adc85",
   "metadata": {},
   "outputs": [],
   "source": [
    "# Send df to csv:\n",
    "lwk.to_csv('v5_130_tripLeave2_sp9c.csv', index=False)"
   ]
  },
  {
   "cell_type": "markdown",
   "id": "5b4e2092",
   "metadata": {},
   "source": [
    "## Continue v5_tripLeave2_route_split_9d"
   ]
  },
  {
   "cell_type": "code",
   "execution_count": null,
   "id": "8540be87",
   "metadata": {},
   "outputs": [],
   "source": [
    "# Send df to csv:\n",
    "wk.to_csv('v5_tripLeave2_route_split_9d.csv', index=False)"
   ]
  },
  {
   "cell_type": "code",
   "execution_count": null,
   "id": "471746d6",
   "metadata": {},
   "outputs": [],
   "source": []
  }
 ],
 "metadata": {
  "kernelspec": {
   "display_name": "Python 3 (ipykernel)",
   "language": "python",
   "name": "python3"
  },
  "language_info": {
   "codemirror_mode": {
    "name": "ipython",
    "version": 3
   },
   "file_extension": ".py",
   "mimetype": "text/x-python",
   "name": "python",
   "nbconvert_exporter": "python",
   "pygments_lexer": "ipython3",
   "version": "3.10.4"
  }
 },
 "nbformat": 4,
 "nbformat_minor": 5
}
