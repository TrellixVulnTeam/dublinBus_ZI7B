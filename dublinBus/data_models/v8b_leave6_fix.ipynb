{
 "cells": [
  {
   "cell_type": "code",
   "execution_count": 1,
   "id": "bde0b1b2",
   "metadata": {},
   "outputs": [],
   "source": [
    "# Library Imports.\n",
    "import pandas as pd\n",
    "\n",
    "import numpy as np"
   ]
  },
  {
   "cell_type": "code",
   "execution_count": 2,
   "id": "cad30764",
   "metadata": {},
   "outputs": [],
   "source": [
    "leave = pd.read_csv('v8a_leave6.csv', keep_default_na=True, delimiter=',', skipinitialspace=True)"
   ]
  },
  {
   "cell_type": "code",
   "execution_count": 3,
   "id": "973cea58",
   "metadata": {},
   "outputs": [
    {
     "data": {
      "text/plain": [
       "(19491518, 5)"
      ]
     },
     "execution_count": 3,
     "metadata": {},
     "output_type": "execute_result"
    }
   ],
   "source": [
    "leave.shape"
   ]
  },
  {
   "cell_type": "code",
   "execution_count": 4,
   "id": "7a9233e9",
   "metadata": {},
   "outputs": [
    {
     "data": {
      "text/html": [
       "<div>\n",
       "<style scoped>\n",
       "    .dataframe tbody tr th:only-of-type {\n",
       "        vertical-align: middle;\n",
       "    }\n",
       "\n",
       "    .dataframe tbody tr th {\n",
       "        vertical-align: top;\n",
       "    }\n",
       "\n",
       "    .dataframe thead th {\n",
       "        text-align: right;\n",
       "    }\n",
       "</style>\n",
       "<table border=\"1\" class=\"dataframe\">\n",
       "  <thead>\n",
       "    <tr style=\"text-align: right;\">\n",
       "      <th></th>\n",
       "      <th>DAYOFSERVICE</th>\n",
       "      <th>TRIPID</th>\n",
       "      <th>PROGRNUMBER</th>\n",
       "      <th>STOPPOINTID</th>\n",
       "      <th>ACTUALTIME_ARR</th>\n",
       "    </tr>\n",
       "  </thead>\n",
       "  <tbody>\n",
       "    <tr>\n",
       "      <th>0</th>\n",
       "      <td>2018-10-30</td>\n",
       "      <td>8074897</td>\n",
       "      <td>16</td>\n",
       "      <td>7668</td>\n",
       "      <td>55274</td>\n",
       "    </tr>\n",
       "    <tr>\n",
       "      <th>1</th>\n",
       "      <td>2018-10-30</td>\n",
       "      <td>8074897</td>\n",
       "      <td>17</td>\n",
       "      <td>2793</td>\n",
       "      <td>55312</td>\n",
       "    </tr>\n",
       "    <tr>\n",
       "      <th>2</th>\n",
       "      <td>2018-10-30</td>\n",
       "      <td>8074897</td>\n",
       "      <td>19</td>\n",
       "      <td>1077</td>\n",
       "      <td>55681</td>\n",
       "    </tr>\n",
       "    <tr>\n",
       "      <th>3</th>\n",
       "      <td>2018-10-30</td>\n",
       "      <td>8074897</td>\n",
       "      <td>20</td>\n",
       "      <td>2479</td>\n",
       "      <td>55740</td>\n",
       "    </tr>\n",
       "    <tr>\n",
       "      <th>4</th>\n",
       "      <td>2018-10-30</td>\n",
       "      <td>8074897</td>\n",
       "      <td>21</td>\n",
       "      <td>2480</td>\n",
       "      <td>55784</td>\n",
       "    </tr>\n",
       "  </tbody>\n",
       "</table>\n",
       "</div>"
      ],
      "text/plain": [
       "  DAYOFSERVICE   TRIPID  PROGRNUMBER  STOPPOINTID  ACTUALTIME_ARR\n",
       "0   2018-10-30  8074897           16         7668           55274\n",
       "1   2018-10-30  8074897           17         2793           55312\n",
       "2   2018-10-30  8074897           19         1077           55681\n",
       "3   2018-10-30  8074897           20         2479           55740\n",
       "4   2018-10-30  8074897           21         2480           55784"
      ]
     },
     "execution_count": 4,
     "metadata": {},
     "output_type": "execute_result"
    }
   ],
   "source": [
    "leave.head()"
   ]
  },
  {
   "cell_type": "markdown",
   "id": "005f75d1",
   "metadata": {},
   "source": [
    "## Create ID"
   ]
  },
  {
   "cell_type": "code",
   "execution_count": 5,
   "id": "e0955d56",
   "metadata": {},
   "outputs": [],
   "source": [
    "leave['DAYOFSERVICE'] = leave['DAYOFSERVICE'].astype('string')"
   ]
  },
  {
   "cell_type": "code",
   "execution_count": 6,
   "id": "8de66512",
   "metadata": {},
   "outputs": [],
   "source": [
    "leave['TRIPID'] = leave['TRIPID'].astype('string')"
   ]
  },
  {
   "cell_type": "code",
   "execution_count": 7,
   "id": "c0831112",
   "metadata": {},
   "outputs": [],
   "source": [
    "leave['PROGRNUMBER'] = leave['PROGRNUMBER'].astype('string')"
   ]
  },
  {
   "cell_type": "code",
   "execution_count": 8,
   "id": "4f1139ef",
   "metadata": {},
   "outputs": [],
   "source": [
    "leave['STOPPOINTID'] = leave['STOPPOINTID'].astype('string')"
   ]
  },
  {
   "cell_type": "code",
   "execution_count": 9,
   "id": "a00ff64a",
   "metadata": {},
   "outputs": [],
   "source": [
    "leave['dos_trpID_stpID_prgNum'] = leave['DAYOFSERVICE'] + '-' + leave['TRIPID'] + '-' + leave['STOPPOINTID'] + '-' + leave['PROGRNUMBER']"
   ]
  },
  {
   "cell_type": "code",
   "execution_count": 10,
   "id": "998cc958",
   "metadata": {},
   "outputs": [
    {
     "data": {
      "text/html": [
       "<div>\n",
       "<style scoped>\n",
       "    .dataframe tbody tr th:only-of-type {\n",
       "        vertical-align: middle;\n",
       "    }\n",
       "\n",
       "    .dataframe tbody tr th {\n",
       "        vertical-align: top;\n",
       "    }\n",
       "\n",
       "    .dataframe thead th {\n",
       "        text-align: right;\n",
       "    }\n",
       "</style>\n",
       "<table border=\"1\" class=\"dataframe\">\n",
       "  <thead>\n",
       "    <tr style=\"text-align: right;\">\n",
       "      <th></th>\n",
       "      <th>DAYOFSERVICE</th>\n",
       "      <th>TRIPID</th>\n",
       "      <th>PROGRNUMBER</th>\n",
       "      <th>STOPPOINTID</th>\n",
       "      <th>ACTUALTIME_ARR</th>\n",
       "      <th>dos_trpID_stpID_prgNum</th>\n",
       "    </tr>\n",
       "  </thead>\n",
       "  <tbody>\n",
       "    <tr>\n",
       "      <th>0</th>\n",
       "      <td>2018-10-30</td>\n",
       "      <td>8074897</td>\n",
       "      <td>16</td>\n",
       "      <td>7668</td>\n",
       "      <td>55274</td>\n",
       "      <td>2018-10-30-8074897-7668-16</td>\n",
       "    </tr>\n",
       "    <tr>\n",
       "      <th>1</th>\n",
       "      <td>2018-10-30</td>\n",
       "      <td>8074897</td>\n",
       "      <td>17</td>\n",
       "      <td>2793</td>\n",
       "      <td>55312</td>\n",
       "      <td>2018-10-30-8074897-2793-17</td>\n",
       "    </tr>\n",
       "    <tr>\n",
       "      <th>2</th>\n",
       "      <td>2018-10-30</td>\n",
       "      <td>8074897</td>\n",
       "      <td>19</td>\n",
       "      <td>1077</td>\n",
       "      <td>55681</td>\n",
       "      <td>2018-10-30-8074897-1077-19</td>\n",
       "    </tr>\n",
       "    <tr>\n",
       "      <th>3</th>\n",
       "      <td>2018-10-30</td>\n",
       "      <td>8074897</td>\n",
       "      <td>20</td>\n",
       "      <td>2479</td>\n",
       "      <td>55740</td>\n",
       "      <td>2018-10-30-8074897-2479-20</td>\n",
       "    </tr>\n",
       "    <tr>\n",
       "      <th>4</th>\n",
       "      <td>2018-10-30</td>\n",
       "      <td>8074897</td>\n",
       "      <td>21</td>\n",
       "      <td>2480</td>\n",
       "      <td>55784</td>\n",
       "      <td>2018-10-30-8074897-2480-21</td>\n",
       "    </tr>\n",
       "  </tbody>\n",
       "</table>\n",
       "</div>"
      ],
      "text/plain": [
       "  DAYOFSERVICE   TRIPID PROGRNUMBER STOPPOINTID  ACTUALTIME_ARR  \\\n",
       "0   2018-10-30  8074897          16        7668           55274   \n",
       "1   2018-10-30  8074897          17        2793           55312   \n",
       "2   2018-10-30  8074897          19        1077           55681   \n",
       "3   2018-10-30  8074897          20        2479           55740   \n",
       "4   2018-10-30  8074897          21        2480           55784   \n",
       "\n",
       "       dos_trpID_stpID_prgNum  \n",
       "0  2018-10-30-8074897-7668-16  \n",
       "1  2018-10-30-8074897-2793-17  \n",
       "2  2018-10-30-8074897-1077-19  \n",
       "3  2018-10-30-8074897-2479-20  \n",
       "4  2018-10-30-8074897-2480-21  "
      ]
     },
     "execution_count": 10,
     "metadata": {},
     "output_type": "execute_result"
    }
   ],
   "source": [
    "leave.head()"
   ]
  },
  {
   "cell_type": "markdown",
   "id": "ab6cdeb3",
   "metadata": {},
   "source": [
    "## Drop Columns"
   ]
  },
  {
   "cell_type": "code",
   "execution_count": 11,
   "id": "405b8eb0",
   "metadata": {},
   "outputs": [],
   "source": [
    "leave = leave.drop(['DAYOFSERVICE', 'TRIPID', 'STOPPOINTID', 'PROGRNUMBER'], axis=1)"
   ]
  },
  {
   "cell_type": "code",
   "execution_count": 12,
   "id": "508dd195",
   "metadata": {},
   "outputs": [
    {
     "data": {
      "text/html": [
       "<div>\n",
       "<style scoped>\n",
       "    .dataframe tbody tr th:only-of-type {\n",
       "        vertical-align: middle;\n",
       "    }\n",
       "\n",
       "    .dataframe tbody tr th {\n",
       "        vertical-align: top;\n",
       "    }\n",
       "\n",
       "    .dataframe thead th {\n",
       "        text-align: right;\n",
       "    }\n",
       "</style>\n",
       "<table border=\"1\" class=\"dataframe\">\n",
       "  <thead>\n",
       "    <tr style=\"text-align: right;\">\n",
       "      <th></th>\n",
       "      <th>ACTUALTIME_ARR</th>\n",
       "      <th>dos_trpID_stpID_prgNum</th>\n",
       "    </tr>\n",
       "  </thead>\n",
       "  <tbody>\n",
       "    <tr>\n",
       "      <th>0</th>\n",
       "      <td>55274</td>\n",
       "      <td>2018-10-30-8074897-7668-16</td>\n",
       "    </tr>\n",
       "    <tr>\n",
       "      <th>1</th>\n",
       "      <td>55312</td>\n",
       "      <td>2018-10-30-8074897-2793-17</td>\n",
       "    </tr>\n",
       "    <tr>\n",
       "      <th>2</th>\n",
       "      <td>55681</td>\n",
       "      <td>2018-10-30-8074897-1077-19</td>\n",
       "    </tr>\n",
       "    <tr>\n",
       "      <th>3</th>\n",
       "      <td>55740</td>\n",
       "      <td>2018-10-30-8074897-2479-20</td>\n",
       "    </tr>\n",
       "    <tr>\n",
       "      <th>4</th>\n",
       "      <td>55784</td>\n",
       "      <td>2018-10-30-8074897-2480-21</td>\n",
       "    </tr>\n",
       "  </tbody>\n",
       "</table>\n",
       "</div>"
      ],
      "text/plain": [
       "   ACTUALTIME_ARR      dos_trpID_stpID_prgNum\n",
       "0           55274  2018-10-30-8074897-7668-16\n",
       "1           55312  2018-10-30-8074897-2793-17\n",
       "2           55681  2018-10-30-8074897-1077-19\n",
       "3           55740  2018-10-30-8074897-2479-20\n",
       "4           55784  2018-10-30-8074897-2480-21"
      ]
     },
     "execution_count": 12,
     "metadata": {},
     "output_type": "execute_result"
    }
   ],
   "source": [
    "leave.head()"
   ]
  },
  {
   "cell_type": "code",
   "execution_count": 13,
   "id": "560c5846",
   "metadata": {},
   "outputs": [],
   "source": [
    "fcol = leave.pop('dos_trpID_stpID_prgNum')"
   ]
  },
  {
   "cell_type": "code",
   "execution_count": 14,
   "id": "9a267abf",
   "metadata": {},
   "outputs": [],
   "source": [
    "leave.insert(0, 'dos_trpID_stpID_prgNum', fcol)"
   ]
  },
  {
   "cell_type": "code",
   "execution_count": 15,
   "id": "1f15ae3e",
   "metadata": {},
   "outputs": [
    {
     "data": {
      "text/html": [
       "<div>\n",
       "<style scoped>\n",
       "    .dataframe tbody tr th:only-of-type {\n",
       "        vertical-align: middle;\n",
       "    }\n",
       "\n",
       "    .dataframe tbody tr th {\n",
       "        vertical-align: top;\n",
       "    }\n",
       "\n",
       "    .dataframe thead th {\n",
       "        text-align: right;\n",
       "    }\n",
       "</style>\n",
       "<table border=\"1\" class=\"dataframe\">\n",
       "  <thead>\n",
       "    <tr style=\"text-align: right;\">\n",
       "      <th></th>\n",
       "      <th>dos_trpID_stpID_prgNum</th>\n",
       "      <th>ACTUALTIME_ARR</th>\n",
       "    </tr>\n",
       "  </thead>\n",
       "  <tbody>\n",
       "    <tr>\n",
       "      <th>0</th>\n",
       "      <td>2018-10-30-8074897-7668-16</td>\n",
       "      <td>55274</td>\n",
       "    </tr>\n",
       "    <tr>\n",
       "      <th>1</th>\n",
       "      <td>2018-10-30-8074897-2793-17</td>\n",
       "      <td>55312</td>\n",
       "    </tr>\n",
       "    <tr>\n",
       "      <th>2</th>\n",
       "      <td>2018-10-30-8074897-1077-19</td>\n",
       "      <td>55681</td>\n",
       "    </tr>\n",
       "    <tr>\n",
       "      <th>3</th>\n",
       "      <td>2018-10-30-8074897-2479-20</td>\n",
       "      <td>55740</td>\n",
       "    </tr>\n",
       "    <tr>\n",
       "      <th>4</th>\n",
       "      <td>2018-10-30-8074897-2480-21</td>\n",
       "      <td>55784</td>\n",
       "    </tr>\n",
       "  </tbody>\n",
       "</table>\n",
       "</div>"
      ],
      "text/plain": [
       "       dos_trpID_stpID_prgNum  ACTUALTIME_ARR\n",
       "0  2018-10-30-8074897-7668-16           55274\n",
       "1  2018-10-30-8074897-2793-17           55312\n",
       "2  2018-10-30-8074897-1077-19           55681\n",
       "3  2018-10-30-8074897-2479-20           55740\n",
       "4  2018-10-30-8074897-2480-21           55784"
      ]
     },
     "execution_count": 15,
     "metadata": {},
     "output_type": "execute_result"
    }
   ],
   "source": [
    "leave.head()"
   ]
  },
  {
   "cell_type": "markdown",
   "id": "a5ec5612",
   "metadata": {},
   "source": [
    "## Send to CSV"
   ]
  },
  {
   "cell_type": "code",
   "execution_count": 16,
   "id": "42605a26",
   "metadata": {},
   "outputs": [],
   "source": [
    "# Send leave6 to csv:\n",
    "leave.to_csv('v8b_leave6.csv', index=False)"
   ]
  },
  {
   "cell_type": "code",
   "execution_count": null,
   "id": "269ff0b9",
   "metadata": {},
   "outputs": [],
   "source": []
  }
 ],
 "metadata": {
  "kernelspec": {
   "display_name": "Python 3 (ipykernel)",
   "language": "python",
   "name": "python3"
  },
  "language_info": {
   "codemirror_mode": {
    "name": "ipython",
    "version": 3
   },
   "file_extension": ".py",
   "mimetype": "text/x-python",
   "name": "python",
   "nbconvert_exporter": "python",
   "pygments_lexer": "ipython3",
   "version": "3.10.4"
  }
 },
 "nbformat": 4,
 "nbformat_minor": 5
}
