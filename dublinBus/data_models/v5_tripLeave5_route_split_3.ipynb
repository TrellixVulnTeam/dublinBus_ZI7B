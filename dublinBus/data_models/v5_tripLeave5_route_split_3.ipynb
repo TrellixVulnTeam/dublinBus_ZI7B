{
 "cells": [
  {
   "cell_type": "code",
   "execution_count": 1,
   "id": "29f878e6",
   "metadata": {},
   "outputs": [],
   "source": [
    "# Library Imports.\n",
    "import pandas as pd\n",
    "\n",
    "import numpy as np"
   ]
  },
  {
   "cell_type": "code",
   "execution_count": 2,
   "id": "12abaae1",
   "metadata": {},
   "outputs": [],
   "source": [
    "# Read tripleave5 route split 3 CSV file into Data Frame:\n",
    "wk = pd.read_csv('v5_tripLeave5_route_split_3.csv', keep_default_na=True, delimiter=',', skipinitialspace=True)"
   ]
  },
  {
   "cell_type": "code",
   "execution_count": 3,
   "id": "5dda47a0",
   "metadata": {},
   "outputs": [
    {
     "data": {
      "text/plain": [
       "(10553616, 22)"
      ]
     },
     "execution_count": 3,
     "metadata": {},
     "output_type": "execute_result"
    }
   ],
   "source": [
    "wk.shape"
   ]
  },
  {
   "cell_type": "code",
   "execution_count": null,
   "id": "c0c029ad",
   "metadata": {},
   "outputs": [],
   "source": [
    "wk.head()"
   ]
  },
  {
   "cell_type": "code",
   "execution_count": null,
   "id": "4878f708",
   "metadata": {},
   "outputs": [],
   "source": [
    "wk.dtypes"
   ]
  },
  {
   "cell_type": "markdown",
   "id": "81073090",
   "metadata": {},
   "source": [
    "## Datatype Changes"
   ]
  },
  {
   "cell_type": "code",
   "execution_count": 4,
   "id": "75954e98",
   "metadata": {},
   "outputs": [],
   "source": [
    "wk['num_lineID'] = wk['num_lineID'].astype('int16')\n",
    "wk['DIRECTION'] = wk['DIRECTION'].astype('int16')"
   ]
  },
  {
   "cell_type": "code",
   "execution_count": 5,
   "id": "81d272e5",
   "metadata": {},
   "outputs": [],
   "source": [
    "wk['actual_duration'] = wk['actual_duration'].astype('int64')\n",
    "wk['dayOfWeek'] = wk['dayOfWeek'].astype('int16')"
   ]
  },
  {
   "cell_type": "code",
   "execution_count": 6,
   "id": "8267e3dc",
   "metadata": {},
   "outputs": [],
   "source": [
    "wk['weekend'] = wk['weekend'].astype('int16')\n",
    "wk['rushHour'] = wk['rushHour'].astype('int16')"
   ]
  },
  {
   "cell_type": "code",
   "execution_count": null,
   "id": "604f0107",
   "metadata": {},
   "outputs": [],
   "source": [
    "wk.head()"
   ]
  },
  {
   "cell_type": "code",
   "execution_count": null,
   "id": "645ff86a",
   "metadata": {},
   "outputs": [],
   "source": [
    "wk.dtypes"
   ]
  },
  {
   "cell_type": "markdown",
   "id": "86d6d334",
   "metadata": {},
   "source": [
    "## Route 145"
   ]
  },
  {
   "cell_type": "code",
   "execution_count": 7,
   "id": "01b378cc",
   "metadata": {},
   "outputs": [],
   "source": [
    "lwk = wk[(wk['LINEID'] == '145')]"
   ]
  },
  {
   "cell_type": "code",
   "execution_count": 8,
   "id": "5ae677fe",
   "metadata": {},
   "outputs": [
    {
     "data": {
      "text/plain": [
       "(619606, 22)"
      ]
     },
     "execution_count": 8,
     "metadata": {},
     "output_type": "execute_result"
    }
   ],
   "source": [
    "lwk.shape"
   ]
  },
  {
   "cell_type": "code",
   "execution_count": 9,
   "id": "eb268b7e",
   "metadata": {},
   "outputs": [],
   "source": [
    "# Drop Route 145 rows from wk\n",
    "wk.drop(wk[wk['LINEID'] == '145'].index, inplace = True)"
   ]
  },
  {
   "cell_type": "code",
   "execution_count": null,
   "id": "cdb83698",
   "metadata": {},
   "outputs": [],
   "source": [
    "wk.head()"
   ]
  },
  {
   "cell_type": "code",
   "execution_count": null,
   "id": "f85f5650",
   "metadata": {},
   "outputs": [],
   "source": [
    "wk.shape"
   ]
  },
  {
   "cell_type": "markdown",
   "id": "f36c2173",
   "metadata": {},
   "source": [
    "<h3>Send to CSV</h3>"
   ]
  },
  {
   "cell_type": "code",
   "execution_count": null,
   "id": "4fcd4689",
   "metadata": {},
   "outputs": [],
   "source": [
    "# Send df to csv:\n",
    "lwk.to_csv('v5_145_tripLeave5_sp3.csv', index=False)"
   ]
  },
  {
   "cell_type": "markdown",
   "id": "02f3d83e",
   "metadata": {},
   "source": [
    "## Route 83A"
   ]
  },
  {
   "cell_type": "code",
   "execution_count": 10,
   "id": "b91914a8",
   "metadata": {},
   "outputs": [],
   "source": [
    "lwk = wk[(wk['LINEID'] == '83A')]"
   ]
  },
  {
   "cell_type": "code",
   "execution_count": 11,
   "id": "697f3295",
   "metadata": {},
   "outputs": [
    {
     "data": {
      "text/plain": [
       "(96115, 22)"
      ]
     },
     "execution_count": 11,
     "metadata": {},
     "output_type": "execute_result"
    }
   ],
   "source": [
    "lwk.shape"
   ]
  },
  {
   "cell_type": "code",
   "execution_count": 12,
   "id": "d4360a64",
   "metadata": {},
   "outputs": [],
   "source": [
    "# Drop Route 83A rows from wk\n",
    "wk.drop(wk[wk['LINEID'] == '83A'].index, inplace = True)"
   ]
  },
  {
   "cell_type": "code",
   "execution_count": null,
   "id": "942c64b0",
   "metadata": {},
   "outputs": [],
   "source": [
    "wk.head()"
   ]
  },
  {
   "cell_type": "code",
   "execution_count": null,
   "id": "cdc545e0",
   "metadata": {},
   "outputs": [],
   "source": [
    "wk.shape"
   ]
  },
  {
   "cell_type": "markdown",
   "id": "40667721",
   "metadata": {},
   "source": [
    "<h3>Send to CSV</h3>"
   ]
  },
  {
   "cell_type": "code",
   "execution_count": null,
   "id": "5d225394",
   "metadata": {},
   "outputs": [],
   "source": [
    "# Send df to csv:\n",
    "lwk.to_csv('v5_83A_tripLeave5_sp3.csv', index=False)"
   ]
  },
  {
   "cell_type": "markdown",
   "id": "c9871333",
   "metadata": {},
   "source": [
    "## Route 83"
   ]
  },
  {
   "cell_type": "code",
   "execution_count": 13,
   "id": "6d09b20e",
   "metadata": {},
   "outputs": [],
   "source": [
    "lwk = wk[(wk['LINEID'] == '83')]"
   ]
  },
  {
   "cell_type": "code",
   "execution_count": 14,
   "id": "5a20631a",
   "metadata": {},
   "outputs": [
    {
     "data": {
      "text/plain": [
       "(337203, 22)"
      ]
     },
     "execution_count": 14,
     "metadata": {},
     "output_type": "execute_result"
    }
   ],
   "source": [
    "lwk.shape"
   ]
  },
  {
   "cell_type": "code",
   "execution_count": 15,
   "id": "33e489aa",
   "metadata": {},
   "outputs": [],
   "source": [
    "# Drop Route 83 rows from wk\n",
    "wk.drop(wk[wk['LINEID'] == '83'].index, inplace = True)"
   ]
  },
  {
   "cell_type": "code",
   "execution_count": null,
   "id": "4ed9474e",
   "metadata": {},
   "outputs": [],
   "source": [
    "wk.head()"
   ]
  },
  {
   "cell_type": "code",
   "execution_count": null,
   "id": "f5f7599c",
   "metadata": {},
   "outputs": [],
   "source": [
    "wk.shape"
   ]
  },
  {
   "cell_type": "markdown",
   "id": "38748ef1",
   "metadata": {},
   "source": [
    "<h3>Send to CSV</h3>"
   ]
  },
  {
   "cell_type": "code",
   "execution_count": null,
   "id": "838ecfd9",
   "metadata": {},
   "outputs": [],
   "source": [
    "# Send df to csv:\n",
    "lwk.to_csv('v5_83_tripLeave5_sp3.csv', index=False)"
   ]
  },
  {
   "cell_type": "markdown",
   "id": "c9ce61f5",
   "metadata": {},
   "source": [
    "## Route 77A"
   ]
  },
  {
   "cell_type": "code",
   "execution_count": 16,
   "id": "f6ad83ea",
   "metadata": {},
   "outputs": [],
   "source": [
    "lwk = wk[(wk['LINEID'] == '77A')]"
   ]
  },
  {
   "cell_type": "code",
   "execution_count": 17,
   "id": "ec9abc5f",
   "metadata": {},
   "outputs": [
    {
     "data": {
      "text/plain": [
       "(324849, 22)"
      ]
     },
     "execution_count": 17,
     "metadata": {},
     "output_type": "execute_result"
    }
   ],
   "source": [
    "lwk.shape"
   ]
  },
  {
   "cell_type": "code",
   "execution_count": 18,
   "id": "33c70ba9",
   "metadata": {},
   "outputs": [],
   "source": [
    "# Drop Route 77A rows from wk\n",
    "wk.drop(wk[wk['LINEID'] == '77A'].index, inplace = True)"
   ]
  },
  {
   "cell_type": "code",
   "execution_count": null,
   "id": "1f691a8b",
   "metadata": {},
   "outputs": [],
   "source": [
    "wk.head()"
   ]
  },
  {
   "cell_type": "code",
   "execution_count": null,
   "id": "c35ec0ec",
   "metadata": {},
   "outputs": [],
   "source": [
    "wk.shape"
   ]
  },
  {
   "cell_type": "markdown",
   "id": "685da73e",
   "metadata": {},
   "source": [
    "<h3>Send to CSV</h3>"
   ]
  },
  {
   "cell_type": "code",
   "execution_count": null,
   "id": "dd78bfed",
   "metadata": {},
   "outputs": [],
   "source": [
    "# Send df to csv:\n",
    "lwk.to_csv('v5_77A_tripLeave5_sp3.csv', index=False)"
   ]
  },
  {
   "cell_type": "markdown",
   "id": "0a607558",
   "metadata": {},
   "source": [
    "## Route 38A"
   ]
  },
  {
   "cell_type": "code",
   "execution_count": 19,
   "id": "d4accdca",
   "metadata": {},
   "outputs": [],
   "source": [
    "lwk = wk[(wk['LINEID'] == '38A')]"
   ]
  },
  {
   "cell_type": "code",
   "execution_count": 20,
   "id": "8bd84191",
   "metadata": {},
   "outputs": [
    {
     "data": {
      "text/plain": [
       "(132009, 22)"
      ]
     },
     "execution_count": 20,
     "metadata": {},
     "output_type": "execute_result"
    }
   ],
   "source": [
    "lwk.shape"
   ]
  },
  {
   "cell_type": "code",
   "execution_count": 21,
   "id": "9329913e",
   "metadata": {},
   "outputs": [],
   "source": [
    "# Drop Route 38A rows from wk\n",
    "wk.drop(wk[wk['LINEID'] == '38A'].index, inplace = True)"
   ]
  },
  {
   "cell_type": "code",
   "execution_count": null,
   "id": "e6684ab8",
   "metadata": {},
   "outputs": [],
   "source": [
    "wk.head()"
   ]
  },
  {
   "cell_type": "code",
   "execution_count": null,
   "id": "c1b9c022",
   "metadata": {},
   "outputs": [],
   "source": [
    "wk.shape"
   ]
  },
  {
   "cell_type": "markdown",
   "id": "9001e06a",
   "metadata": {},
   "source": [
    "<h3>Send to CSV</h3>"
   ]
  },
  {
   "cell_type": "code",
   "execution_count": null,
   "id": "a4594538",
   "metadata": {},
   "outputs": [],
   "source": [
    "# Send df to csv:\n",
    "lwk.to_csv('v5_38A_tripLeave5_sp3.csv', index=False)"
   ]
  },
  {
   "cell_type": "markdown",
   "id": "cf6b9a30",
   "metadata": {},
   "source": [
    "## Route 38"
   ]
  },
  {
   "cell_type": "code",
   "execution_count": 22,
   "id": "be7cfb01",
   "metadata": {},
   "outputs": [],
   "source": [
    "lwk = wk[(wk['LINEID'] == '38')]"
   ]
  },
  {
   "cell_type": "code",
   "execution_count": 23,
   "id": "ba583db4",
   "metadata": {},
   "outputs": [
    {
     "data": {
      "text/plain": [
       "(184103, 22)"
      ]
     },
     "execution_count": 23,
     "metadata": {},
     "output_type": "execute_result"
    }
   ],
   "source": [
    "lwk.shape"
   ]
  },
  {
   "cell_type": "code",
   "execution_count": 24,
   "id": "9e719e0a",
   "metadata": {},
   "outputs": [],
   "source": [
    "# Drop Route 38 rows from wk\n",
    "wk.drop(wk[wk['LINEID'] == '38'].index, inplace = True)"
   ]
  },
  {
   "cell_type": "code",
   "execution_count": null,
   "id": "1c15d26f",
   "metadata": {},
   "outputs": [],
   "source": [
    "wk.head()"
   ]
  },
  {
   "cell_type": "code",
   "execution_count": null,
   "id": "5299a41b",
   "metadata": {},
   "outputs": [],
   "source": [
    "wk.shape"
   ]
  },
  {
   "cell_type": "markdown",
   "id": "c95c36a2",
   "metadata": {},
   "source": [
    "<h3>Send to CSV</h3>"
   ]
  },
  {
   "cell_type": "code",
   "execution_count": null,
   "id": "10e456a8",
   "metadata": {},
   "outputs": [],
   "source": [
    "# Send df to csv:\n",
    "lwk.to_csv('v5_38_tripLeave5_sp3.csv', index=False)"
   ]
  },
  {
   "cell_type": "markdown",
   "id": "eae8e196",
   "metadata": {},
   "source": [
    "## Route 7A"
   ]
  },
  {
   "cell_type": "code",
   "execution_count": 25,
   "id": "2fe9252d",
   "metadata": {},
   "outputs": [],
   "source": [
    "lwk = wk[(wk['LINEID'] == '7A')]"
   ]
  },
  {
   "cell_type": "code",
   "execution_count": 26,
   "id": "df08328a",
   "metadata": {},
   "outputs": [
    {
     "data": {
      "text/plain": [
       "(234790, 22)"
      ]
     },
     "execution_count": 26,
     "metadata": {},
     "output_type": "execute_result"
    }
   ],
   "source": [
    "lwk.shape"
   ]
  },
  {
   "cell_type": "code",
   "execution_count": 27,
   "id": "b0b02512",
   "metadata": {},
   "outputs": [],
   "source": [
    "# Drop Route 7A rows from wk\n",
    "wk.drop(wk[wk['LINEID'] == '7A'].index, inplace = True)"
   ]
  },
  {
   "cell_type": "code",
   "execution_count": null,
   "id": "8b9db2a6",
   "metadata": {},
   "outputs": [],
   "source": [
    "wk.head()"
   ]
  },
  {
   "cell_type": "code",
   "execution_count": null,
   "id": "91131d06",
   "metadata": {},
   "outputs": [],
   "source": [
    "wk.shape"
   ]
  },
  {
   "cell_type": "markdown",
   "id": "3a88d28c",
   "metadata": {},
   "source": [
    "<h3>Send to CSV</h3>"
   ]
  },
  {
   "cell_type": "code",
   "execution_count": null,
   "id": "8bc23b00",
   "metadata": {},
   "outputs": [],
   "source": [
    "# Send df to csv:\n",
    "lwk.to_csv('v5_7A_tripLeave5_sp3.csv', index=False)"
   ]
  },
  {
   "cell_type": "markdown",
   "id": "12bd18a1",
   "metadata": {},
   "source": [
    "## Route 7"
   ]
  },
  {
   "cell_type": "code",
   "execution_count": 28,
   "id": "310eb1b2",
   "metadata": {},
   "outputs": [],
   "source": [
    "lwk = wk[(wk['LINEID'] == '7')]"
   ]
  },
  {
   "cell_type": "code",
   "execution_count": 29,
   "id": "9d7e0310",
   "metadata": {},
   "outputs": [
    {
     "data": {
      "text/plain": [
       "(195217, 22)"
      ]
     },
     "execution_count": 29,
     "metadata": {},
     "output_type": "execute_result"
    }
   ],
   "source": [
    "lwk.shape"
   ]
  },
  {
   "cell_type": "code",
   "execution_count": 30,
   "id": "2bc58961",
   "metadata": {},
   "outputs": [],
   "source": [
    "# Drop Route 7 rows from wk\n",
    "wk.drop(wk[wk['LINEID'] == '7'].index, inplace = True)"
   ]
  },
  {
   "cell_type": "code",
   "execution_count": null,
   "id": "e626322e",
   "metadata": {},
   "outputs": [],
   "source": [
    "wk.head()"
   ]
  },
  {
   "cell_type": "code",
   "execution_count": null,
   "id": "1925fbda",
   "metadata": {},
   "outputs": [],
   "source": [
    "wk.shape"
   ]
  },
  {
   "cell_type": "markdown",
   "id": "fbce052d",
   "metadata": {},
   "source": [
    "<h3>Send to CSV</h3>"
   ]
  },
  {
   "cell_type": "code",
   "execution_count": null,
   "id": "f7db27b7",
   "metadata": {},
   "outputs": [],
   "source": [
    "# Send df to csv:\n",
    "lwk.to_csv('v5_7_tripLeave5_sp3.csv', index=False)"
   ]
  },
  {
   "cell_type": "markdown",
   "id": "b634e919",
   "metadata": {},
   "source": [
    "## Route 123"
   ]
  },
  {
   "cell_type": "code",
   "execution_count": 31,
   "id": "3953f651",
   "metadata": {},
   "outputs": [],
   "source": [
    "lwk = wk[(wk['LINEID'] == '123')]"
   ]
  },
  {
   "cell_type": "code",
   "execution_count": 32,
   "id": "c2cf16ab",
   "metadata": {},
   "outputs": [
    {
     "data": {
      "text/plain": [
       "(337515, 22)"
      ]
     },
     "execution_count": 32,
     "metadata": {},
     "output_type": "execute_result"
    }
   ],
   "source": [
    "lwk.shape"
   ]
  },
  {
   "cell_type": "code",
   "execution_count": 33,
   "id": "9c60ac87",
   "metadata": {},
   "outputs": [],
   "source": [
    "# Drop Route 123 rows from wk\n",
    "wk.drop(wk[wk['LINEID'] == '123'].index, inplace = True)"
   ]
  },
  {
   "cell_type": "code",
   "execution_count": null,
   "id": "697f4f68",
   "metadata": {},
   "outputs": [],
   "source": [
    "wk.head()"
   ]
  },
  {
   "cell_type": "code",
   "execution_count": null,
   "id": "008d0da7",
   "metadata": {},
   "outputs": [],
   "source": [
    "wk.shape"
   ]
  },
  {
   "cell_type": "markdown",
   "id": "344cabed",
   "metadata": {},
   "source": [
    "<h3>Send to CSV</h3>"
   ]
  },
  {
   "cell_type": "code",
   "execution_count": null,
   "id": "a87bdae2",
   "metadata": {},
   "outputs": [],
   "source": [
    "# Send df to csv:\n",
    "lwk.to_csv('v5_123_tripLeave5_sp3.csv', index=False)"
   ]
  },
  {
   "cell_type": "markdown",
   "id": "5abb48a6",
   "metadata": {},
   "source": [
    "## Route 4"
   ]
  },
  {
   "cell_type": "code",
   "execution_count": 34,
   "id": "62bd656c",
   "metadata": {},
   "outputs": [],
   "source": [
    "lwk = wk[(wk['LINEID'] == '4')]"
   ]
  },
  {
   "cell_type": "code",
   "execution_count": 35,
   "id": "5a3f3ff5",
   "metadata": {},
   "outputs": [
    {
     "data": {
      "text/plain": [
       "(328971, 22)"
      ]
     },
     "execution_count": 35,
     "metadata": {},
     "output_type": "execute_result"
    }
   ],
   "source": [
    "lwk.shape"
   ]
  },
  {
   "cell_type": "code",
   "execution_count": 36,
   "id": "dce6fcb4",
   "metadata": {},
   "outputs": [],
   "source": [
    "# Drop Route 4 rows from wk\n",
    "wk.drop(wk[wk['LINEID'] == '4'].index, inplace = True)"
   ]
  },
  {
   "cell_type": "code",
   "execution_count": null,
   "id": "79c03659",
   "metadata": {},
   "outputs": [],
   "source": [
    "wk.head()"
   ]
  },
  {
   "cell_type": "code",
   "execution_count": null,
   "id": "3edf2ff0",
   "metadata": {},
   "outputs": [],
   "source": [
    "wk.shape"
   ]
  },
  {
   "cell_type": "markdown",
   "id": "24dedbcb",
   "metadata": {},
   "source": [
    "<h3>Send to CSV</h3>"
   ]
  },
  {
   "cell_type": "code",
   "execution_count": null,
   "id": "ee8051a4",
   "metadata": {},
   "outputs": [],
   "source": [
    "# Send df to csv:\n",
    "lwk.to_csv('v5_4_tripLeave5_sp3.csv', index=False)"
   ]
  },
  {
   "cell_type": "markdown",
   "id": "a9da300e",
   "metadata": {},
   "source": [
    "## Route 40"
   ]
  },
  {
   "cell_type": "code",
   "execution_count": 37,
   "id": "2aa6c403",
   "metadata": {},
   "outputs": [],
   "source": [
    "lwk = wk[(wk['LINEID'] == '40')]"
   ]
  },
  {
   "cell_type": "code",
   "execution_count": 38,
   "id": "e99640e4",
   "metadata": {},
   "outputs": [
    {
     "data": {
      "text/plain": [
       "(693118, 22)"
      ]
     },
     "execution_count": 38,
     "metadata": {},
     "output_type": "execute_result"
    }
   ],
   "source": [
    "lwk.shape"
   ]
  },
  {
   "cell_type": "code",
   "execution_count": 39,
   "id": "ee26c5af",
   "metadata": {},
   "outputs": [],
   "source": [
    "# Drop Route 40 rows from wk\n",
    "wk.drop(wk[wk['LINEID'] == '40'].index, inplace = True)"
   ]
  },
  {
   "cell_type": "code",
   "execution_count": null,
   "id": "fd7bc3f4",
   "metadata": {},
   "outputs": [],
   "source": [
    "wk.head()"
   ]
  },
  {
   "cell_type": "code",
   "execution_count": null,
   "id": "1b93e616",
   "metadata": {},
   "outputs": [],
   "source": [
    "wk.shape"
   ]
  },
  {
   "cell_type": "markdown",
   "id": "77b6db13",
   "metadata": {},
   "source": [
    "<h3>Send to CSV</h3>"
   ]
  },
  {
   "cell_type": "code",
   "execution_count": null,
   "id": "5a01369b",
   "metadata": {},
   "outputs": [],
   "source": [
    "# Send df to csv:\n",
    "lwk.to_csv('v5_40_tripLeave5_sp3.csv', index=False)"
   ]
  },
  {
   "cell_type": "markdown",
   "id": "b95b6a31",
   "metadata": {},
   "source": [
    "## Route 26"
   ]
  },
  {
   "cell_type": "code",
   "execution_count": 40,
   "id": "e80f43ab",
   "metadata": {},
   "outputs": [],
   "source": [
    "lwk = wk[(wk['LINEID'] == '26')]"
   ]
  },
  {
   "cell_type": "code",
   "execution_count": 41,
   "id": "b5239428",
   "metadata": {},
   "outputs": [
    {
     "data": {
      "text/plain": [
       "(66202, 22)"
      ]
     },
     "execution_count": 41,
     "metadata": {},
     "output_type": "execute_result"
    }
   ],
   "source": [
    "lwk.shape"
   ]
  },
  {
   "cell_type": "code",
   "execution_count": 42,
   "id": "c8bc59dc",
   "metadata": {},
   "outputs": [],
   "source": [
    "# Drop Route 26 rows from wk\n",
    "wk.drop(wk[wk['LINEID'] == '26'].index, inplace = True)"
   ]
  },
  {
   "cell_type": "code",
   "execution_count": 43,
   "id": "bbd36229",
   "metadata": {},
   "outputs": [
    {
     "data": {
      "text/html": [
       "<div>\n",
       "<style scoped>\n",
       "    .dataframe tbody tr th:only-of-type {\n",
       "        vertical-align: middle;\n",
       "    }\n",
       "\n",
       "    .dataframe tbody tr th {\n",
       "        vertical-align: top;\n",
       "    }\n",
       "\n",
       "    .dataframe thead th {\n",
       "        text-align: right;\n",
       "    }\n",
       "</style>\n",
       "<table border=\"1\" class=\"dataframe\">\n",
       "  <thead>\n",
       "    <tr style=\"text-align: right;\">\n",
       "      <th></th>\n",
       "      <th>DAYOFSERVICE</th>\n",
       "      <th>TRIPID</th>\n",
       "      <th>PROGRNUMBER</th>\n",
       "      <th>STOPPOINTID</th>\n",
       "      <th>PLANNEDTIME_ARR</th>\n",
       "      <th>PLANNEDTIME_DEP</th>\n",
       "      <th>ACTUALTIME_ARR</th>\n",
       "      <th>ACTUALTIME_DEP</th>\n",
       "      <th>VEHICLEID</th>\n",
       "      <th>year</th>\n",
       "      <th>...</th>\n",
       "      <th>id</th>\n",
       "      <th>trip_leave_id</th>\n",
       "      <th>LINEID</th>\n",
       "      <th>num_lineID</th>\n",
       "      <th>DIRECTION</th>\n",
       "      <th>actual_duration</th>\n",
       "      <th>dayOfWeek</th>\n",
       "      <th>weekend</th>\n",
       "      <th>rushHour</th>\n",
       "      <th>actualARR_hour</th>\n",
       "    </tr>\n",
       "  </thead>\n",
       "  <tbody>\n",
       "    <tr>\n",
       "      <th>3345</th>\n",
       "      <td>2018-08-26</td>\n",
       "      <td>7504301</td>\n",
       "      <td>1</td>\n",
       "      <td>7391</td>\n",
       "      <td>75300</td>\n",
       "      <td>75300</td>\n",
       "      <td>75300</td>\n",
       "      <td>75300</td>\n",
       "      <td>1000274</td>\n",
       "      <td>2018</td>\n",
       "      <td>...</td>\n",
       "      <td>20180826750430101</td>\n",
       "      <td>201808267504301</td>\n",
       "      <td>66</td>\n",
       "      <td>100</td>\n",
       "      <td>1</td>\n",
       "      <td>3699</td>\n",
       "      <td>6</td>\n",
       "      <td>1</td>\n",
       "      <td>0</td>\n",
       "      <td>21</td>\n",
       "    </tr>\n",
       "    <tr>\n",
       "      <th>3346</th>\n",
       "      <td>2018-08-26</td>\n",
       "      <td>7504301</td>\n",
       "      <td>2</td>\n",
       "      <td>493</td>\n",
       "      <td>75375</td>\n",
       "      <td>75375</td>\n",
       "      <td>75375</td>\n",
       "      <td>75375</td>\n",
       "      <td>1000274</td>\n",
       "      <td>2018</td>\n",
       "      <td>...</td>\n",
       "      <td>20180826750430102</td>\n",
       "      <td>201808267504301</td>\n",
       "      <td>66</td>\n",
       "      <td>100</td>\n",
       "      <td>1</td>\n",
       "      <td>3699</td>\n",
       "      <td>6</td>\n",
       "      <td>1</td>\n",
       "      <td>0</td>\n",
       "      <td>21</td>\n",
       "    </tr>\n",
       "    <tr>\n",
       "      <th>3347</th>\n",
       "      <td>2018-08-26</td>\n",
       "      <td>7504301</td>\n",
       "      <td>3</td>\n",
       "      <td>494</td>\n",
       "      <td>75433</td>\n",
       "      <td>75433</td>\n",
       "      <td>75433</td>\n",
       "      <td>75433</td>\n",
       "      <td>1000274</td>\n",
       "      <td>2018</td>\n",
       "      <td>...</td>\n",
       "      <td>20180826750430103</td>\n",
       "      <td>201808267504301</td>\n",
       "      <td>66</td>\n",
       "      <td>100</td>\n",
       "      <td>1</td>\n",
       "      <td>3699</td>\n",
       "      <td>6</td>\n",
       "      <td>1</td>\n",
       "      <td>0</td>\n",
       "      <td>21</td>\n",
       "    </tr>\n",
       "    <tr>\n",
       "      <th>3348</th>\n",
       "      <td>2018-08-26</td>\n",
       "      <td>7504301</td>\n",
       "      <td>4</td>\n",
       "      <td>495</td>\n",
       "      <td>75503</td>\n",
       "      <td>75503</td>\n",
       "      <td>75503</td>\n",
       "      <td>75503</td>\n",
       "      <td>1000274</td>\n",
       "      <td>2018</td>\n",
       "      <td>...</td>\n",
       "      <td>20180826750430104</td>\n",
       "      <td>201808267504301</td>\n",
       "      <td>66</td>\n",
       "      <td>100</td>\n",
       "      <td>1</td>\n",
       "      <td>3699</td>\n",
       "      <td>6</td>\n",
       "      <td>1</td>\n",
       "      <td>0</td>\n",
       "      <td>21</td>\n",
       "    </tr>\n",
       "    <tr>\n",
       "      <th>3349</th>\n",
       "      <td>2018-08-26</td>\n",
       "      <td>7504301</td>\n",
       "      <td>5</td>\n",
       "      <td>400</td>\n",
       "      <td>75559</td>\n",
       "      <td>75559</td>\n",
       "      <td>75559</td>\n",
       "      <td>75559</td>\n",
       "      <td>1000274</td>\n",
       "      <td>2018</td>\n",
       "      <td>...</td>\n",
       "      <td>20180826750430105</td>\n",
       "      <td>201808267504301</td>\n",
       "      <td>66</td>\n",
       "      <td>100</td>\n",
       "      <td>1</td>\n",
       "      <td>3699</td>\n",
       "      <td>6</td>\n",
       "      <td>1</td>\n",
       "      <td>0</td>\n",
       "      <td>21</td>\n",
       "    </tr>\n",
       "  </tbody>\n",
       "</table>\n",
       "<p>5 rows × 22 columns</p>\n",
       "</div>"
      ],
      "text/plain": [
       "     DAYOFSERVICE   TRIPID  PROGRNUMBER  STOPPOINTID  PLANNEDTIME_ARR  \\\n",
       "3345   2018-08-26  7504301            1         7391            75300   \n",
       "3346   2018-08-26  7504301            2          493            75375   \n",
       "3347   2018-08-26  7504301            3          494            75433   \n",
       "3348   2018-08-26  7504301            4          495            75503   \n",
       "3349   2018-08-26  7504301            5          400            75559   \n",
       "\n",
       "      PLANNEDTIME_DEP  ACTUALTIME_ARR  ACTUALTIME_DEP  VEHICLEID  year  ...  \\\n",
       "3345            75300           75300           75300    1000274  2018  ...   \n",
       "3346            75375           75375           75375    1000274  2018  ...   \n",
       "3347            75433           75433           75433    1000274  2018  ...   \n",
       "3348            75503           75503           75503    1000274  2018  ...   \n",
       "3349            75559           75559           75559    1000274  2018  ...   \n",
       "\n",
       "                     id    trip_leave_id  LINEID  num_lineID DIRECTION  \\\n",
       "3345  20180826750430101  201808267504301      66         100         1   \n",
       "3346  20180826750430102  201808267504301      66         100         1   \n",
       "3347  20180826750430103  201808267504301      66         100         1   \n",
       "3348  20180826750430104  201808267504301      66         100         1   \n",
       "3349  20180826750430105  201808267504301      66         100         1   \n",
       "\n",
       "      actual_duration  dayOfWeek  weekend  rushHour  actualARR_hour  \n",
       "3345             3699          6        1         0              21  \n",
       "3346             3699          6        1         0              21  \n",
       "3347             3699          6        1         0              21  \n",
       "3348             3699          6        1         0              21  \n",
       "3349             3699          6        1         0              21  \n",
       "\n",
       "[5 rows x 22 columns]"
      ]
     },
     "execution_count": 43,
     "metadata": {},
     "output_type": "execute_result"
    }
   ],
   "source": [
    "wk.head()"
   ]
  },
  {
   "cell_type": "code",
   "execution_count": 44,
   "id": "13e7be08",
   "metadata": {},
   "outputs": [
    {
     "data": {
      "text/plain": [
       "(7003918, 22)"
      ]
     },
     "execution_count": 44,
     "metadata": {},
     "output_type": "execute_result"
    }
   ],
   "source": [
    "wk.shape"
   ]
  },
  {
   "cell_type": "markdown",
   "id": "479dbac7",
   "metadata": {},
   "source": [
    "<h3>Send to CSV</h3>"
   ]
  },
  {
   "cell_type": "code",
   "execution_count": 45,
   "id": "bc196282",
   "metadata": {},
   "outputs": [],
   "source": [
    "# Send df to csv:\n",
    "lwk.to_csv('v5_26_tripLeave5_sp3.csv', index=False)"
   ]
  },
  {
   "cell_type": "markdown",
   "id": "8ba99674",
   "metadata": {},
   "source": [
    "## Route 66"
   ]
  },
  {
   "cell_type": "code",
   "execution_count": 46,
   "id": "1629070b",
   "metadata": {},
   "outputs": [],
   "source": [
    "lwk = wk[(wk['LINEID'] == '66')]"
   ]
  },
  {
   "cell_type": "code",
   "execution_count": 47,
   "id": "12a132db",
   "metadata": {},
   "outputs": [
    {
     "data": {
      "text/plain": [
       "(193519, 22)"
      ]
     },
     "execution_count": 47,
     "metadata": {},
     "output_type": "execute_result"
    }
   ],
   "source": [
    "lwk.shape"
   ]
  },
  {
   "cell_type": "code",
   "execution_count": 48,
   "id": "687fa5fe",
   "metadata": {},
   "outputs": [],
   "source": [
    "# Drop Route 66 rows from wk\n",
    "wk.drop(wk[wk['LINEID'] == '66'].index, inplace = True)"
   ]
  },
  {
   "cell_type": "code",
   "execution_count": 49,
   "id": "38d83c9f",
   "metadata": {},
   "outputs": [
    {
     "data": {
      "text/html": [
       "<div>\n",
       "<style scoped>\n",
       "    .dataframe tbody tr th:only-of-type {\n",
       "        vertical-align: middle;\n",
       "    }\n",
       "\n",
       "    .dataframe tbody tr th {\n",
       "        vertical-align: top;\n",
       "    }\n",
       "\n",
       "    .dataframe thead th {\n",
       "        text-align: right;\n",
       "    }\n",
       "</style>\n",
       "<table border=\"1\" class=\"dataframe\">\n",
       "  <thead>\n",
       "    <tr style=\"text-align: right;\">\n",
       "      <th></th>\n",
       "      <th>DAYOFSERVICE</th>\n",
       "      <th>TRIPID</th>\n",
       "      <th>PROGRNUMBER</th>\n",
       "      <th>STOPPOINTID</th>\n",
       "      <th>PLANNEDTIME_ARR</th>\n",
       "      <th>PLANNEDTIME_DEP</th>\n",
       "      <th>ACTUALTIME_ARR</th>\n",
       "      <th>ACTUALTIME_DEP</th>\n",
       "      <th>VEHICLEID</th>\n",
       "      <th>year</th>\n",
       "      <th>...</th>\n",
       "      <th>id</th>\n",
       "      <th>trip_leave_id</th>\n",
       "      <th>LINEID</th>\n",
       "      <th>num_lineID</th>\n",
       "      <th>DIRECTION</th>\n",
       "      <th>actual_duration</th>\n",
       "      <th>dayOfWeek</th>\n",
       "      <th>weekend</th>\n",
       "      <th>rushHour</th>\n",
       "      <th>actualARR_hour</th>\n",
       "    </tr>\n",
       "  </thead>\n",
       "  <tbody>\n",
       "    <tr>\n",
       "      <th>3456</th>\n",
       "      <td>2018-08-26</td>\n",
       "      <td>7504312</td>\n",
       "      <td>1</td>\n",
       "      <td>3283</td>\n",
       "      <td>33300</td>\n",
       "      <td>33300</td>\n",
       "      <td>33300</td>\n",
       "      <td>33300</td>\n",
       "      <td>1000375</td>\n",
       "      <td>2018</td>\n",
       "      <td>...</td>\n",
       "      <td>20180826750431201</td>\n",
       "      <td>201808267504312</td>\n",
       "      <td>63</td>\n",
       "      <td>97</td>\n",
       "      <td>2</td>\n",
       "      <td>1658</td>\n",
       "      <td>6</td>\n",
       "      <td>1</td>\n",
       "      <td>0</td>\n",
       "      <td>9</td>\n",
       "    </tr>\n",
       "    <tr>\n",
       "      <th>3457</th>\n",
       "      <td>2018-08-26</td>\n",
       "      <td>7504312</td>\n",
       "      <td>2</td>\n",
       "      <td>3284</td>\n",
       "      <td>33338</td>\n",
       "      <td>33338</td>\n",
       "      <td>33338</td>\n",
       "      <td>33338</td>\n",
       "      <td>1000375</td>\n",
       "      <td>2018</td>\n",
       "      <td>...</td>\n",
       "      <td>20180826750431202</td>\n",
       "      <td>201808267504312</td>\n",
       "      <td>63</td>\n",
       "      <td>97</td>\n",
       "      <td>2</td>\n",
       "      <td>1658</td>\n",
       "      <td>6</td>\n",
       "      <td>1</td>\n",
       "      <td>0</td>\n",
       "      <td>9</td>\n",
       "    </tr>\n",
       "    <tr>\n",
       "      <th>3458</th>\n",
       "      <td>2018-08-26</td>\n",
       "      <td>7504312</td>\n",
       "      <td>3</td>\n",
       "      <td>3285</td>\n",
       "      <td>33416</td>\n",
       "      <td>33416</td>\n",
       "      <td>33416</td>\n",
       "      <td>33416</td>\n",
       "      <td>1000375</td>\n",
       "      <td>2018</td>\n",
       "      <td>...</td>\n",
       "      <td>20180826750431203</td>\n",
       "      <td>201808267504312</td>\n",
       "      <td>63</td>\n",
       "      <td>97</td>\n",
       "      <td>2</td>\n",
       "      <td>1658</td>\n",
       "      <td>6</td>\n",
       "      <td>1</td>\n",
       "      <td>0</td>\n",
       "      <td>9</td>\n",
       "    </tr>\n",
       "    <tr>\n",
       "      <th>3459</th>\n",
       "      <td>2018-08-26</td>\n",
       "      <td>7504312</td>\n",
       "      <td>4</td>\n",
       "      <td>7324</td>\n",
       "      <td>33462</td>\n",
       "      <td>33462</td>\n",
       "      <td>33462</td>\n",
       "      <td>33462</td>\n",
       "      <td>1000375</td>\n",
       "      <td>2018</td>\n",
       "      <td>...</td>\n",
       "      <td>20180826750431204</td>\n",
       "      <td>201808267504312</td>\n",
       "      <td>63</td>\n",
       "      <td>97</td>\n",
       "      <td>2</td>\n",
       "      <td>1658</td>\n",
       "      <td>6</td>\n",
       "      <td>1</td>\n",
       "      <td>0</td>\n",
       "      <td>9</td>\n",
       "    </tr>\n",
       "    <tr>\n",
       "      <th>3460</th>\n",
       "      <td>2018-08-26</td>\n",
       "      <td>7504312</td>\n",
       "      <td>5</td>\n",
       "      <td>5106</td>\n",
       "      <td>33557</td>\n",
       "      <td>33557</td>\n",
       "      <td>33557</td>\n",
       "      <td>33557</td>\n",
       "      <td>1000375</td>\n",
       "      <td>2018</td>\n",
       "      <td>...</td>\n",
       "      <td>20180826750431205</td>\n",
       "      <td>201808267504312</td>\n",
       "      <td>63</td>\n",
       "      <td>97</td>\n",
       "      <td>2</td>\n",
       "      <td>1658</td>\n",
       "      <td>6</td>\n",
       "      <td>1</td>\n",
       "      <td>0</td>\n",
       "      <td>9</td>\n",
       "    </tr>\n",
       "  </tbody>\n",
       "</table>\n",
       "<p>5 rows × 22 columns</p>\n",
       "</div>"
      ],
      "text/plain": [
       "     DAYOFSERVICE   TRIPID  PROGRNUMBER  STOPPOINTID  PLANNEDTIME_ARR  \\\n",
       "3456   2018-08-26  7504312            1         3283            33300   \n",
       "3457   2018-08-26  7504312            2         3284            33338   \n",
       "3458   2018-08-26  7504312            3         3285            33416   \n",
       "3459   2018-08-26  7504312            4         7324            33462   \n",
       "3460   2018-08-26  7504312            5         5106            33557   \n",
       "\n",
       "      PLANNEDTIME_DEP  ACTUALTIME_ARR  ACTUALTIME_DEP  VEHICLEID  year  ...  \\\n",
       "3456            33300           33300           33300    1000375  2018  ...   \n",
       "3457            33338           33338           33338    1000375  2018  ...   \n",
       "3458            33416           33416           33416    1000375  2018  ...   \n",
       "3459            33462           33462           33462    1000375  2018  ...   \n",
       "3460            33557           33557           33557    1000375  2018  ...   \n",
       "\n",
       "                     id    trip_leave_id  LINEID  num_lineID DIRECTION  \\\n",
       "3456  20180826750431201  201808267504312      63          97         2   \n",
       "3457  20180826750431202  201808267504312      63          97         2   \n",
       "3458  20180826750431203  201808267504312      63          97         2   \n",
       "3459  20180826750431204  201808267504312      63          97         2   \n",
       "3460  20180826750431205  201808267504312      63          97         2   \n",
       "\n",
       "      actual_duration  dayOfWeek  weekend  rushHour  actualARR_hour  \n",
       "3456             1658          6        1         0               9  \n",
       "3457             1658          6        1         0               9  \n",
       "3458             1658          6        1         0               9  \n",
       "3459             1658          6        1         0               9  \n",
       "3460             1658          6        1         0               9  \n",
       "\n",
       "[5 rows x 22 columns]"
      ]
     },
     "execution_count": 49,
     "metadata": {},
     "output_type": "execute_result"
    }
   ],
   "source": [
    "wk.head()"
   ]
  },
  {
   "cell_type": "code",
   "execution_count": 50,
   "id": "ff2a81f6",
   "metadata": {},
   "outputs": [
    {
     "data": {
      "text/plain": [
       "(6810399, 22)"
      ]
     },
     "execution_count": 50,
     "metadata": {},
     "output_type": "execute_result"
    }
   ],
   "source": [
    "wk.shape"
   ]
  },
  {
   "cell_type": "markdown",
   "id": "a72b065e",
   "metadata": {},
   "source": [
    "<h3>Send to CSV</h3>"
   ]
  },
  {
   "cell_type": "code",
   "execution_count": 51,
   "id": "618d20bf",
   "metadata": {},
   "outputs": [],
   "source": [
    "# Send df to csv:\n",
    "lwk.to_csv('v5_66_tripLeave5_sp3.csv', index=False)"
   ]
  },
  {
   "cell_type": "markdown",
   "id": "e082232a",
   "metadata": {},
   "source": [
    "## Continue v5_tripLeave5_route_split_4"
   ]
  },
  {
   "cell_type": "code",
   "execution_count": 52,
   "id": "647c1774",
   "metadata": {},
   "outputs": [],
   "source": [
    "# Send df to csv:\n",
    "wk.to_csv('v5_tripLeave5_route_split_4.csv', index=False)"
   ]
  },
  {
   "cell_type": "code",
   "execution_count": null,
   "id": "c4a5925f",
   "metadata": {},
   "outputs": [],
   "source": []
  }
 ],
 "metadata": {
  "kernelspec": {
   "display_name": "Python 3 (ipykernel)",
   "language": "python",
   "name": "python3"
  },
  "language_info": {
   "codemirror_mode": {
    "name": "ipython",
    "version": 3
   },
   "file_extension": ".py",
   "mimetype": "text/x-python",
   "name": "python",
   "nbconvert_exporter": "python",
   "pygments_lexer": "ipython3",
   "version": "3.10.4"
  }
 },
 "nbformat": 4,
 "nbformat_minor": 5
}
